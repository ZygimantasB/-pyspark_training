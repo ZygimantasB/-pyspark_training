{
 "cells": [
  {
   "cell_type": "code",
   "id": "initial_id",
   "metadata": {
    "collapsed": true,
    "ExecuteTime": {
     "end_time": "2025-01-04T07:32:59.849133Z",
     "start_time": "2025-01-04T07:32:59.553123Z"
    }
   },
   "source": [
    "import os\n",
    "from pyspark.sql import SparkSession\n",
    "from pyspark.sql.types import StringType, StructField, IntegerType, DoubleType, StructType"
   ],
   "outputs": [],
   "execution_count": 1
  },
  {
   "metadata": {
    "ExecuteTime": {
     "end_time": "2025-01-04T07:32:59.865673Z",
     "start_time": "2025-01-04T07:32:59.862168Z"
    }
   },
   "cell_type": "code",
   "source": [
    "os.environ['SPARK_HOME'] = r'C:\\spark\\spark-3.5.4-bin-hadoop3'\n",
    "os.environ['PYSPARK_DRIVER_PYTHON'] = 'jupyter'\n",
    "os.environ['PYSPARK_DRIVER_PYTHON_OPTS'] = 'lab'\n",
    "os.environ['PYSPARK_PYTHON'] = 'python'"
   ],
   "id": "bfe876dd6605cdca",
   "outputs": [],
   "execution_count": 2
  },
  {
   "metadata": {
    "ExecuteTime": {
     "end_time": "2025-01-04T07:58:02.937690Z",
     "start_time": "2025-01-04T07:57:58.412537Z"
    }
   },
   "cell_type": "code",
   "source": "spark = SparkSession.builder.appName('DataFrameSQL').getOrCreate()",
   "id": "3a6205d506018c59",
   "outputs": [],
   "execution_count": 3
  },
  {
   "metadata": {
    "ExecuteTime": {
     "end_time": "2025-01-04T07:59:23.546236Z",
     "start_time": "2025-01-04T07:59:19.027793Z"
    }
   },
   "cell_type": "code",
   "source": [
    "df_path = r'./data/persons.csv'\n",
    "df = spark.read.csv(df_path, header=True, inferSchema=True)"
   ],
   "id": "2731177c8726dbc6",
   "outputs": [],
   "execution_count": 5
  },
  {
   "metadata": {
    "ExecuteTime": {
     "end_time": "2025-01-04T07:59:35.871422Z",
     "start_time": "2025-01-04T07:59:35.796937Z"
    }
   },
   "cell_type": "code",
   "source": "df.show(5)",
   "id": "b29c8f016262da50",
   "outputs": [
    {
     "name": "stdout",
     "output_type": "stream",
     "text": [
      "+--------------+---+------+------+\n",
      "|          name|age|gender|salary|\n",
      "+--------------+---+------+------+\n",
      "|      John Doe| 30|  Male| 50000|\n",
      "|    Jane Smith| 25|Female| 45000|\n",
      "| David Johnson| 35|  Male| 60000|\n",
      "|   Emily Davis| 28|Female| 52000|\n",
      "|Michael Wilson| 40|  Male| 75000|\n",
      "+--------------+---+------+------+\n",
      "only showing top 5 rows\n",
      "\n"
     ]
    }
   ],
   "execution_count": 9
  },
  {
   "metadata": {
    "ExecuteTime": {
     "end_time": "2025-01-04T08:00:32.099577Z",
     "start_time": "2025-01-04T08:00:32.058377Z"
    }
   },
   "cell_type": "code",
   "source": "df.createOrReplaceTempView('my_table')",
   "id": "791f6b6f41d3d4c9",
   "outputs": [],
   "execution_count": 10
  },
  {
   "metadata": {
    "ExecuteTime": {
     "end_time": "2025-01-04T08:01:16.575747Z",
     "start_time": "2025-01-04T08:01:16.382391Z"
    }
   },
   "cell_type": "code",
   "source": [
    "result = spark.sql('SELECT * FROM my_table WHERE AGE > 25')\n",
    "result.show()"
   ],
   "id": "c43225c033a6dd8d",
   "outputs": [
    {
     "name": "stdout",
     "output_type": "stream",
     "text": [
      "+------------------+---+------+------+\n",
      "|              name|age|gender|salary|\n",
      "+------------------+---+------+------+\n",
      "|          John Doe| 30|  Male| 50000|\n",
      "|     David Johnson| 35|  Male| 60000|\n",
      "|       Emily Davis| 28|Female| 52000|\n",
      "|    Michael Wilson| 40|  Male| 75000|\n",
      "|       Sarah Brown| 32|Female| 58000|\n",
      "|        Robert Lee| 29|  Male| 51000|\n",
      "|       Lisa Garcia| 27|Female| 49000|\n",
      "|    James Martinez| 38|  Male| 70000|\n",
      "|Jennifer Rodriguez| 26|Female| 47000|\n",
      "|  William Anderson| 33|  Male| 62000|\n",
      "|   Karen Hernandez| 31|Female| 55000|\n",
      "|Christopher Taylor| 37|  Male| 69000|\n",
      "|     Matthew Davis| 36|  Male| 67000|\n",
      "|    Patricia White| 29|Female| 50000|\n",
      "|     Daniel Miller| 34|  Male| 64000|\n",
      "| Elizabeth Jackson| 30|Female| 52000|\n",
      "|     Joseph Harris| 28|  Male| 53000|\n",
      "|      Linda Martin| 39|Female| 71000|\n",
      "+------------------+---+------+------+\n",
      "\n"
     ]
    }
   ],
   "execution_count": 11
  },
  {
   "metadata": {
    "ExecuteTime": {
     "end_time": "2025-01-04T08:02:08.959119Z",
     "start_time": "2025-01-04T08:02:07.958114Z"
    }
   },
   "cell_type": "code",
   "source": [
    "avg_salary_by_gender = spark.sql('SELECT gender, AVG(salary) FROM my_table GROUP BY gender')\n",
    "avg_salary_by_gender.show()"
   ],
   "id": "edcb9b1a45ebbb64",
   "outputs": [
    {
     "name": "stdout",
     "output_type": "stream",
     "text": [
      "+------+-----------+\n",
      "|gender|avg(salary)|\n",
      "+------+-----------+\n",
      "|Female|    52300.0|\n",
      "|  Male|    62100.0|\n",
      "+------+-----------+\n",
      "\n"
     ]
    }
   ],
   "execution_count": 12
  },
  {
   "metadata": {
    "ExecuteTime": {
     "end_time": "2025-01-04T08:02:42.520831Z",
     "start_time": "2025-01-04T08:02:42.510825Z"
    }
   },
   "cell_type": "code",
   "source": "df.createOrReplaceTempView('people')",
   "id": "64859aca8d030a93",
   "outputs": [],
   "execution_count": 13
  },
  {
   "metadata": {
    "ExecuteTime": {
     "end_time": "2025-01-04T08:03:08.234225Z",
     "start_time": "2025-01-04T08:03:08.154245Z"
    }
   },
   "cell_type": "code",
   "source": [
    "result = spark.sql('SELECT * FROM people WHERE age > 25')\n",
    "result.show()"
   ],
   "id": "1426cca316714eb2",
   "outputs": [
    {
     "name": "stdout",
     "output_type": "stream",
     "text": [
      "+------------------+---+------+------+\n",
      "|              name|age|gender|salary|\n",
      "+------------------+---+------+------+\n",
      "|          John Doe| 30|  Male| 50000|\n",
      "|     David Johnson| 35|  Male| 60000|\n",
      "|       Emily Davis| 28|Female| 52000|\n",
      "|    Michael Wilson| 40|  Male| 75000|\n",
      "|       Sarah Brown| 32|Female| 58000|\n",
      "|        Robert Lee| 29|  Male| 51000|\n",
      "|       Lisa Garcia| 27|Female| 49000|\n",
      "|    James Martinez| 38|  Male| 70000|\n",
      "|Jennifer Rodriguez| 26|Female| 47000|\n",
      "|  William Anderson| 33|  Male| 62000|\n",
      "|   Karen Hernandez| 31|Female| 55000|\n",
      "|Christopher Taylor| 37|  Male| 69000|\n",
      "|     Matthew Davis| 36|  Male| 67000|\n",
      "|    Patricia White| 29|Female| 50000|\n",
      "|     Daniel Miller| 34|  Male| 64000|\n",
      "| Elizabeth Jackson| 30|Female| 52000|\n",
      "|     Joseph Harris| 28|  Male| 53000|\n",
      "|      Linda Martin| 39|Female| 71000|\n",
      "+------------------+---+------+------+\n",
      "\n"
     ]
    }
   ],
   "execution_count": 14
  },
  {
   "metadata": {
    "ExecuteTime": {
     "end_time": "2025-01-04T08:03:39.643397Z",
     "start_time": "2025-01-04T08:03:39.617478Z"
    }
   },
   "cell_type": "code",
   "source": [
    "view_exists = spark.catalog.tableExists('people')\n",
    "view_exists"
   ],
   "id": "7e1d5930e9cb87e4",
   "outputs": [
    {
     "data": {
      "text/plain": [
       "True"
      ]
     },
     "execution_count": 15,
     "metadata": {},
     "output_type": "execute_result"
    }
   ],
   "execution_count": 15
  },
  {
   "metadata": {
    "ExecuteTime": {
     "end_time": "2025-01-04T08:03:53.008331Z",
     "start_time": "2025-01-04T08:03:52.999138Z"
    }
   },
   "cell_type": "code",
   "source": "spark.catalog.dropTempView('people')",
   "id": "3e01a9bfee94e771",
   "outputs": [
    {
     "data": {
      "text/plain": [
       "True"
      ]
     },
     "execution_count": 16,
     "metadata": {},
     "output_type": "execute_result"
    }
   ],
   "execution_count": 16
  },
  {
   "metadata": {
    "ExecuteTime": {
     "end_time": "2025-01-04T08:04:11.346919Z",
     "start_time": "2025-01-04T08:04:11.233026Z"
    }
   },
   "cell_type": "code",
   "source": [
    "view_exists = spark.catalog.tableExists('people')\n",
    "view_exists"
   ],
   "id": "c557d935151cc298",
   "outputs": [
    {
     "data": {
      "text/plain": [
       "False"
      ]
     },
     "execution_count": 17,
     "metadata": {},
     "output_type": "execute_result"
    }
   ],
   "execution_count": 17
  },
  {
   "metadata": {
    "ExecuteTime": {
     "end_time": "2025-01-04T08:11:41.270347Z",
     "start_time": "2025-01-04T08:11:40.501020Z"
    }
   },
   "cell_type": "code",
   "source": [
    "employee_data = [\n",
    "    (1, \"John\"), (2, \"Alice\"), (3, \"Bob\"), (4, \"Emily\"),\n",
    "    (5, \"David\"), (6, \"Sarah\"), (7, \"Michael\"), (8, \"Lisa\"),\n",
    "    (9, \"William\")\n",
    "]\n",
    "employees = spark.createDataFrame(employee_data, [\"id\", \"name\"])\n",
    "\n",
    "salary_data = [\n",
    "    (\"HR\", 1, 60000), (\"HR\", 2, 55000), (\"HR\", 3, 58000),\n",
    "    (\"IT\", 4, 70000), (\"IT\", 5, 72000), (\"IT\", 6, 68000),\n",
    "    (\"Sales\", 7, 75000), (\"Sales\", 8, 78000), (\"Sales\", 9, 77000)\n",
    "]\n",
    "\n",
    "salaries = spark.createDataFrame(salary_data, ['department', 'id', 'salary'])"
   ],
   "id": "2d732271129c6056",
   "outputs": [],
   "execution_count": 18
  },
  {
   "metadata": {
    "ExecuteTime": {
     "end_time": "2025-01-04T08:12:02.733381Z",
     "start_time": "2025-01-04T08:11:45.861887Z"
    }
   },
   "cell_type": "code",
   "source": "employees.show(5)",
   "id": "11b41b6c6bb0debb",
   "outputs": [
    {
     "name": "stdout",
     "output_type": "stream",
     "text": [
      "+---+-----+\n",
      "| id| name|\n",
      "+---+-----+\n",
      "|  1| John|\n",
      "|  2|Alice|\n",
      "|  3|  Bob|\n",
      "|  4|Emily|\n",
      "|  5|David|\n",
      "+---+-----+\n",
      "only showing top 5 rows\n",
      "\n"
     ]
    }
   ],
   "execution_count": 19
  },
  {
   "metadata": {
    "ExecuteTime": {
     "end_time": "2025-01-04T08:12:19.000671Z",
     "start_time": "2025-01-04T08:12:02.740200Z"
    }
   },
   "cell_type": "code",
   "source": "salaries.show(5)",
   "id": "e6e7ce521c6579fa",
   "outputs": [
    {
     "name": "stdout",
     "output_type": "stream",
     "text": [
      "+----------+---+------+\n",
      "|department| id|salary|\n",
      "+----------+---+------+\n",
      "|        HR|  1| 60000|\n",
      "|        HR|  2| 55000|\n",
      "|        HR|  3| 58000|\n",
      "|        IT|  4| 70000|\n",
      "|        IT|  5| 72000|\n",
      "+----------+---+------+\n",
      "only showing top 5 rows\n",
      "\n"
     ]
    }
   ],
   "execution_count": 20
  },
  {
   "metadata": {
    "ExecuteTime": {
     "end_time": "2025-01-04T08:12:42.974355Z",
     "start_time": "2025-01-04T08:12:42.962752Z"
    }
   },
   "cell_type": "code",
   "source": [
    "employees.createOrReplaceTempView('employees')\n",
    "salaries.createOrReplaceTempView('salaries')"
   ],
   "id": "7ef4838f0461ed36",
   "outputs": [],
   "execution_count": 21
  },
  {
   "metadata": {
    "ExecuteTime": {
     "end_time": "2025-01-04T08:15:59.850173Z",
     "start_time": "2025-01-04T08:15:59.795356Z"
    }
   },
   "cell_type": "code",
   "source": [
    "result = spark.sql(\"\"\"\n",
    "    SELECT name\n",
    "    FROM employees\n",
    "    WHERE id IN (\n",
    "        SELECT id\n",
    "        FROM salaries\n",
    "        WHERE salary > (SELECT AVG(salary) FROM salaries)\n",
    "    )\n",
    "\"\"\")"
   ],
   "id": "3298a5bf345fe7c8",
   "outputs": [],
   "execution_count": 24
  },
  {
   "metadata": {
    "ExecuteTime": {
     "end_time": "2025-01-04T08:16:56.826575Z",
     "start_time": "2025-01-04T08:16:07.323278Z"
    }
   },
   "cell_type": "code",
   "source": "result.show()",
   "id": "36aa3e0737c137fe",
   "outputs": [
    {
     "name": "stdout",
     "output_type": "stream",
     "text": [
      "+-------+\n",
      "|   name|\n",
      "+-------+\n",
      "|  Emily|\n",
      "|  David|\n",
      "|Michael|\n",
      "|   Lisa|\n",
      "|William|\n",
      "+-------+\n",
      "\n"
     ]
    }
   ],
   "execution_count": 25
  },
  {
   "metadata": {
    "ExecuteTime": {
     "end_time": "2025-01-04T08:19:09.745399Z",
     "start_time": "2025-01-04T08:18:38.525989Z"
    }
   },
   "cell_type": "code",
   "source": [
    "employee_salary = spark.sql(\"\"\"\n",
    "    SELECT salaries.*, employees.name\n",
    "    FROM salaries\n",
    "    LEFT JOIN employees ON salaries.id = employees.id\n",
    "\"\"\")\n",
    "\n",
    "employee_salary.show()"
   ],
   "id": "3647187a3b1fdeec",
   "outputs": [
    {
     "name": "stdout",
     "output_type": "stream",
     "text": [
      "+----------+---+------+-------+\n",
      "|department| id|salary|   name|\n",
      "+----------+---+------+-------+\n",
      "|        HR|  1| 60000|   John|\n",
      "|        HR|  2| 55000|  Alice|\n",
      "|        HR|  3| 58000|    Bob|\n",
      "|        IT|  4| 70000|  Emily|\n",
      "|        IT|  5| 72000|  David|\n",
      "|        IT|  6| 68000|  Sarah|\n",
      "|     Sales|  7| 75000|Michael|\n",
      "|     Sales|  8| 78000|   Lisa|\n",
      "|     Sales|  9| 77000|William|\n",
      "+----------+---+------+-------+\n",
      "\n"
     ]
    }
   ],
   "execution_count": 26
  },
  {
   "metadata": {
    "ExecuteTime": {
     "end_time": "2025-01-04T08:20:55.965009Z",
     "start_time": "2025-01-04T08:20:55.962149Z"
    }
   },
   "cell_type": "code",
   "source": [
    "from pyspark.sql.window import Window\n",
    "from pyspark.sql import functions as F"
   ],
   "id": "d61468e4c886d594",
   "outputs": [],
   "execution_count": 27
  },
  {
   "metadata": {
    "ExecuteTime": {
     "end_time": "2025-01-04T08:20:56.876747Z",
     "start_time": "2025-01-04T08:20:56.847129Z"
    }
   },
   "cell_type": "code",
   "source": "window_spec = Window.partitionBy('department').orderBy(F.desc('salary'))",
   "id": "2859b8a3606a11ca",
   "outputs": [],
   "execution_count": 28
  },
  {
   "metadata": {
    "ExecuteTime": {
     "end_time": "2025-01-04T08:21:31.183269Z",
     "start_time": "2025-01-04T08:20:57.591919Z"
    }
   },
   "cell_type": "code",
   "source": "employee_salary.withColumn('rank', F.row_number().over(window_spec)).show()",
   "id": "416e6c7a6d56f32b",
   "outputs": [
    {
     "name": "stdout",
     "output_type": "stream",
     "text": [
      "+----------+---+------+-------+----+\n",
      "|department| id|salary|   name|rank|\n",
      "+----------+---+------+-------+----+\n",
      "|        HR|  1| 60000|   John|   1|\n",
      "|        HR|  3| 58000|    Bob|   2|\n",
      "|        HR|  2| 55000|  Alice|   3|\n",
      "|        IT|  5| 72000|  David|   1|\n",
      "|        IT|  4| 70000|  Emily|   2|\n",
      "|        IT|  6| 68000|  Sarah|   3|\n",
      "|     Sales|  8| 78000|   Lisa|   1|\n",
      "|     Sales|  9| 77000|William|   2|\n",
      "|     Sales|  7| 75000|Michael|   3|\n",
      "+----------+---+------+-------+----+\n",
      "\n"
     ]
    }
   ],
   "execution_count": 29
  },
  {
   "metadata": {
    "ExecuteTime": {
     "end_time": "2025-01-04T08:22:14.579937Z",
     "start_time": "2025-01-04T08:22:13.634270Z"
    }
   },
   "cell_type": "code",
   "source": "spark.stop()",
   "id": "f67a3328b8e60b",
   "outputs": [],
   "execution_count": 30
  }
 ],
 "metadata": {
  "kernelspec": {
   "display_name": "Python 3",
   "language": "python",
   "name": "python3"
  },
  "language_info": {
   "codemirror_mode": {
    "name": "ipython",
    "version": 2
   },
   "file_extension": ".py",
   "mimetype": "text/x-python",
   "name": "python",
   "nbconvert_exporter": "python",
   "pygments_lexer": "ipython2",
   "version": "2.7.6"
  }
 },
 "nbformat": 4,
 "nbformat_minor": 5
}
