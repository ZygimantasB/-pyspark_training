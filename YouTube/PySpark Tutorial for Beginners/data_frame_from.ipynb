{
 "cells": [
  {
   "cell_type": "code",
   "id": "initial_id",
   "metadata": {
    "collapsed": true,
    "ExecuteTime": {
     "end_time": "2025-01-03T19:31:21.034754Z",
     "start_time": "2025-01-03T19:31:21.030747Z"
    }
   },
   "source": [
    "import os\n",
    "from pyspark.sql import SparkSession\n",
    "from pyspark.sql.types import StringType, StructField, StructType, IntegerType, DoubleType"
   ],
   "outputs": [],
   "execution_count": 11
  },
  {
   "metadata": {
    "ExecuteTime": {
     "end_time": "2025-01-03T19:21:20.478395Z",
     "start_time": "2025-01-03T19:21:20.474396Z"
    }
   },
   "cell_type": "code",
   "source": [
    "os.environ['SPARK_HOME'] = r'C:\\spark\\spark-3.5.4-bin-hadoop3'\n",
    "os.environ['PYSPARK_DRIVER_PYTHON'] = 'jupyter'\n",
    "os.environ['PYSPARK_DRIVER_PYTHON_OPTS'] = 'lab'\n",
    "os.environ['PYSPARK_PYTHON'] = 'python'"
   ],
   "id": "8fd002d3124587ca",
   "outputs": [],
   "execution_count": 2
  },
  {
   "metadata": {
    "ExecuteTime": {
     "end_time": "2025-01-03T19:27:56.738467Z",
     "start_time": "2025-01-03T19:27:51.677511Z"
    }
   },
   "cell_type": "code",
   "source": "spark = SparkSession.builder.appName('Spark').getOrCreate()",
   "id": "cdd8ac54b81b3f94",
   "outputs": [],
   "execution_count": 3
  },
  {
   "metadata": {
    "ExecuteTime": {
     "end_time": "2025-01-03T19:28:34.726096Z",
     "start_time": "2025-01-03T19:28:34.510402Z"
    }
   },
   "cell_type": "code",
   "source": [
    "%%bash\n",
    "head -10 ./data/products.csv"
   ],
   "id": "494cfc6a8585d146",
   "outputs": [
    {
     "name": "stdout",
     "output_type": "stream",
     "text": [
      "id,name,category,quantity,price\n",
      "1,iPhone 12,Electronics,10,899.99\n",
      "2,Nike Air Max 90,Clothing,25,119.99\n",
      "3,KitchenAid Stand Mixer,Home Appliances,5,299.99\n",
      "4,The Great Gatsby,Books,50,12.99\n",
      "5,L'Oreal Paris Mascara,Beauty,100,9.99\n",
      "6,Yoga Mat,Sports,30,29.99\n",
      "7,Samsung 4K Smart TV,Electronics,8,799.99\n",
      "8,Levi's Jeans,Clothing,15,49.99\n",
      "9,Dyson Vacuum Cleaner,Home Appliances,3,399.99\n"
     ]
    }
   ],
   "execution_count": 4
  },
  {
   "metadata": {
    "ExecuteTime": {
     "end_time": "2025-01-03T19:29:21.942497Z",
     "start_time": "2025-01-03T19:29:18.275931Z"
    }
   },
   "cell_type": "code",
   "source": [
    "csv_file_path = './data/products.csv'\n",
    "\n",
    "df = spark.read.csv(csv_file_path, header=True)"
   ],
   "id": "926e5b9c812b33e7",
   "outputs": [],
   "execution_count": 5
  },
  {
   "metadata": {
    "ExecuteTime": {
     "end_time": "2025-01-03T19:30:16.237552Z",
     "start_time": "2025-01-03T19:30:16.232924Z"
    }
   },
   "cell_type": "code",
   "source": "df.printSchema()",
   "id": "6595d40759539ae2",
   "outputs": [
    {
     "name": "stdout",
     "output_type": "stream",
     "text": [
      "root\n",
      " |-- id: string (nullable = true)\n",
      " |-- name: string (nullable = true)\n",
      " |-- category: string (nullable = true)\n",
      " |-- quantity: string (nullable = true)\n",
      " |-- price: string (nullable = true)\n",
      "\n"
     ]
    }
   ],
   "execution_count": 8
  },
  {
   "metadata": {
    "ExecuteTime": {
     "end_time": "2025-01-03T19:30:20.346602Z",
     "start_time": "2025-01-03T19:30:20.279663Z"
    }
   },
   "cell_type": "code",
   "source": "df.show(5)",
   "id": "2e2214725bd66aa8",
   "outputs": [
    {
     "name": "stdout",
     "output_type": "stream",
     "text": [
      "+---+--------------------+---------------+--------+------+\n",
      "| id|                name|       category|quantity| price|\n",
      "+---+--------------------+---------------+--------+------+\n",
      "|  1|           iPhone 12|    Electronics|      10|899.99|\n",
      "|  2|     Nike Air Max 90|       Clothing|      25|119.99|\n",
      "|  3|KitchenAid Stand ...|Home Appliances|       5|299.99|\n",
      "|  4|    The Great Gatsby|          Books|      50| 12.99|\n",
      "|  5|L'Oreal Paris Mas...|         Beauty|     100|  9.99|\n",
      "+---+--------------------+---------------+--------+------+\n",
      "only showing top 5 rows\n",
      "\n"
     ]
    }
   ],
   "execution_count": 10
  },
  {
   "metadata": {
    "ExecuteTime": {
     "end_time": "2025-01-03T19:33:10.106671Z",
     "start_time": "2025-01-03T19:33:10.102938Z"
    }
   },
   "cell_type": "code",
   "source": [
    "schema = StructType([\n",
    "    StructField(name='id', dataType=IntegerType(), nullable=True),\n",
    "    StructField(name='name', dataType=StringType(), nullable=True),\n",
    "    StructField(name='category', dataType=StringType(), nullable=True),\n",
    "    StructField(name='quantity', dataType=IntegerType(), nullable=True),\n",
    "    StructField(name='price', dataType=DoubleType(), nullable=True),\n",
    "])"
   ],
   "id": "2f0849494ed03bfc",
   "outputs": [],
   "execution_count": 12
  },
  {
   "metadata": {
    "ExecuteTime": {
     "end_time": "2025-01-03T19:36:29.413970Z",
     "start_time": "2025-01-03T19:36:29.384495Z"
    }
   },
   "cell_type": "code",
   "source": "df = spark.read.csv(csv_file_path, header=True, schema=schema)",
   "id": "f2dbc31695732386",
   "outputs": [],
   "execution_count": 13
  },
  {
   "metadata": {
    "ExecuteTime": {
     "end_time": "2025-01-03T19:36:37.108083Z",
     "start_time": "2025-01-03T19:36:37.101299Z"
    }
   },
   "cell_type": "code",
   "source": "df.schema",
   "id": "bc76670425ed1130",
   "outputs": [
    {
     "data": {
      "text/plain": [
       "StructType([StructField('id', IntegerType(), True), StructField('name', StringType(), True), StructField('category', StringType(), True), StructField('quantity', IntegerType(), True), StructField('price', DoubleType(), True)])"
      ]
     },
     "execution_count": 14,
     "metadata": {},
     "output_type": "execute_result"
    }
   ],
   "execution_count": 14
  },
  {
   "metadata": {
    "ExecuteTime": {
     "end_time": "2025-01-03T19:36:50.595534Z",
     "start_time": "2025-01-03T19:36:50.525190Z"
    }
   },
   "cell_type": "code",
   "source": "df.show(5)",
   "id": "8fddfb3786895bb",
   "outputs": [
    {
     "name": "stdout",
     "output_type": "stream",
     "text": [
      "+---+--------------------+---------------+--------+------+\n",
      "| id|                name|       category|quantity| price|\n",
      "+---+--------------------+---------------+--------+------+\n",
      "|  1|           iPhone 12|    Electronics|      10|899.99|\n",
      "|  2|     Nike Air Max 90|       Clothing|      25|119.99|\n",
      "|  3|KitchenAid Stand ...|Home Appliances|       5|299.99|\n",
      "|  4|    The Great Gatsby|          Books|      50| 12.99|\n",
      "|  5|L'Oreal Paris Mas...|         Beauty|     100|  9.99|\n",
      "+---+--------------------+---------------+--------+------+\n",
      "only showing top 5 rows\n",
      "\n"
     ]
    }
   ],
   "execution_count": 16
  },
  {
   "metadata": {
    "ExecuteTime": {
     "end_time": "2025-01-03T19:37:27.914593Z",
     "start_time": "2025-01-03T19:37:27.701161Z"
    }
   },
   "cell_type": "code",
   "source": "df = spark.read.csv(csv_file_path, header=True, inferSchema=True)",
   "id": "2e4affe9e4ad20f4",
   "outputs": [],
   "execution_count": 17
  },
  {
   "metadata": {
    "ExecuteTime": {
     "end_time": "2025-01-03T19:37:28.358558Z",
     "start_time": "2025-01-03T19:37:28.352381Z"
    }
   },
   "cell_type": "code",
   "source": "df",
   "id": "2ceedb9496f122e",
   "outputs": [
    {
     "data": {
      "text/plain": [
       "DataFrame[id: int, name: string, category: string, quantity: int, price: double]"
      ]
     },
     "execution_count": 18,
     "metadata": {},
     "output_type": "execute_result"
    }
   ],
   "execution_count": 18
  },
  {
   "metadata": {},
   "cell_type": "code",
   "outputs": [],
   "execution_count": null,
   "source": "",
   "id": "b70bef250ceadcfd"
  }
 ],
 "metadata": {
  "kernelspec": {
   "display_name": "Python 3",
   "language": "python",
   "name": "python3"
  },
  "language_info": {
   "codemirror_mode": {
    "name": "ipython",
    "version": 2
   },
   "file_extension": ".py",
   "mimetype": "text/x-python",
   "name": "python",
   "nbconvert_exporter": "python",
   "pygments_lexer": "ipython2",
   "version": "2.7.6"
  }
 },
 "nbformat": 4,
 "nbformat_minor": 5
}
