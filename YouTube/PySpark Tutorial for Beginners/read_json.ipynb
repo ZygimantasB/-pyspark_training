{
 "cells": [
  {
   "cell_type": "code",
   "id": "initial_id",
   "metadata": {
    "collapsed": true,
    "ExecuteTime": {
     "end_time": "2025-01-03T19:38:21.725063Z",
     "start_time": "2025-01-03T19:38:21.658557Z"
    }
   },
   "source": [
    "import os\n",
    "from pyspark.sql import SparkSession"
   ],
   "outputs": [],
   "execution_count": 1
  },
  {
   "metadata": {
    "ExecuteTime": {
     "end_time": "2025-01-03T19:38:21.732376Z",
     "start_time": "2025-01-03T19:38:21.729118Z"
    }
   },
   "cell_type": "code",
   "source": [
    "os.environ['SPARK_HOME'] = r'C:\\spark\\spark-3.5.4-bin-hadoop3'\n",
    "os.environ['PYSPARK_DRIVER_PYTHON'] = 'jupyter'\n",
    "os.environ['PYSPARK_DRIVER_PYTHON_OPTS'] = 'lab'\n",
    "os.environ['PYSPARK_PYTHON'] = 'python'"
   ],
   "id": "7788c7c23b7501e8",
   "outputs": [],
   "execution_count": 2
  },
  {
   "metadata": {
    "ExecuteTime": {
     "end_time": "2025-01-03T19:42:09.535827Z",
     "start_time": "2025-01-03T19:42:09.349706Z"
    }
   },
   "cell_type": "code",
   "source": [
    "%%bash\n",
    "head -10 data/products_singleline.json"
   ],
   "id": "dbbfc6bdea32d4a2",
   "outputs": [
    {
     "name": "stdout",
     "output_type": "stream",
     "text": [
      "{\"id\":1,\"name\":\"iPhone 12\",\"category\":\"Electronics\",\"quantity\":10,\"price\":899.99}\n",
      "{\"id\":2,\"name\":\"Nike Air Max 90\",\"category\":\"Clothing\",\"quantity\":25,\"price\":119.99}\n",
      "{\"id\":3,\"name\":\"KitchenAid Stand Mixer\",\"category\":\"Home Appliances\",\"quantity\":5,\"price\":299.99}\n",
      "{\"id\":4,\"name\":\"The Great Gatsby\",\"category\":\"Books\",\"quantity\":50,\"price\":12.99}\n",
      "{\"id\":5,\"name\":\"L'Oreal Paris Mascara\",\"category\":\"Beauty\",\"quantity\":100,\"price\":9.99}\n",
      "{\"id\":6,\"name\":\"Yoga Mat\",\"category\":\"Sports\",\"quantity\":30,\"price\":29.99}\n",
      "{\"id\":7,\"name\":\"Samsung 4K Smart TV\",\"category\":\"Electronics\",\"quantity\":8,\"price\":799.99}\n",
      "{\"id\":8,\"name\":\"Levi's Jeans\",\"category\":\"Clothing\",\"quantity\":15,\"price\":49.99}\n",
      "{\"id\":9,\"name\":\"Dyson Vacuum Cleaner\",\"category\":\"Home Appliances\",\"quantity\":3,\"price\":399.99}\n",
      "{\"id\":10,\"name\":\"Harry Potter Series\",\"category\":\"Books\",\"quantity\":20,\"price\":15.99}\n"
     ]
    }
   ],
   "execution_count": 4
  },
  {
   "metadata": {
    "ExecuteTime": {
     "end_time": "2025-01-03T19:43:22.987527Z",
     "start_time": "2025-01-03T19:43:18.265384Z"
    }
   },
   "cell_type": "code",
   "source": "spark = SparkSession.builder.appName('JSON data').getOrCreate()",
   "id": "a686c94a7f80c69",
   "outputs": [],
   "execution_count": 5
  },
  {
   "metadata": {
    "ExecuteTime": {
     "end_time": "2025-01-03T19:43:57.972505Z",
     "start_time": "2025-01-03T19:43:54.502856Z"
    }
   },
   "cell_type": "code",
   "source": [
    "json_path = './data/products_singleline.json'\n",
    "df = spark.read.json(json_path)"
   ],
   "id": "1c62b991506a156d",
   "outputs": [],
   "execution_count": 6
  },
  {
   "metadata": {
    "ExecuteTime": {
     "end_time": "2025-01-03T19:43:58.953211Z",
     "start_time": "2025-01-03T19:43:58.632932Z"
    }
   },
   "cell_type": "code",
   "source": "df.show()",
   "id": "3a6ad9ad2711df25",
   "outputs": [
    {
     "name": "stdout",
     "output_type": "stream",
     "text": [
      "+---------------+---+--------------------+------+--------+\n",
      "|       category| id|                name| price|quantity|\n",
      "+---------------+---+--------------------+------+--------+\n",
      "|    Electronics|  1|           iPhone 12|899.99|      10|\n",
      "|       Clothing|  2|     Nike Air Max 90|119.99|      25|\n",
      "|Home Appliances|  3|KitchenAid Stand ...|299.99|       5|\n",
      "|          Books|  4|    The Great Gatsby| 12.99|      50|\n",
      "|         Beauty|  5|L'Oreal Paris Mas...|  9.99|     100|\n",
      "|         Sports|  6|            Yoga Mat| 29.99|      30|\n",
      "|    Electronics|  7| Samsung 4K Smart TV|799.99|       8|\n",
      "|       Clothing|  8|        Levi's Jeans| 49.99|      15|\n",
      "|Home Appliances|  9|Dyson Vacuum Cleaner|399.99|       3|\n",
      "|          Books| 10| Harry Potter Series| 15.99|      20|\n",
      "|         Beauty| 11|        MAC Lipstick| 16.99|      75|\n",
      "|         Sports| 12|Adidas Running Shoes| 59.99|      22|\n",
      "|    Electronics| 13|       PlayStation 5|499.99|      12|\n",
      "|       Clothing| 14|   Hooded Sweatshirt| 34.99|      10|\n",
      "|Home Appliances| 15|        Coffee Maker| 89.99|       7|\n",
      "|          Books| 16|To Kill a Mocking...|  9.99|      15|\n",
      "|         Beauty| 17|        Skincare Set| 49.99|      50|\n",
      "|         Sports| 18|           Yoga Ball| 19.99|      18|\n",
      "|    Electronics| 19|Sony Noise-Cancel...|299.99|       6|\n",
      "|       Clothing| 20|        Puma T-shirt| 19.99|      40|\n",
      "+---------------+---+--------------------+------+--------+\n",
      "\n"
     ]
    }
   ],
   "execution_count": 7
  },
  {
   "metadata": {
    "ExecuteTime": {
     "end_time": "2025-01-03T19:45:16.782342Z",
     "start_time": "2025-01-03T19:45:16.600358Z"
    }
   },
   "cell_type": "code",
   "source": [
    "%%bash\n",
    "head -20 data/products_multiline.json"
   ],
   "id": "b51b3d4f6909c2f2",
   "outputs": [
    {
     "name": "stdout",
     "output_type": "stream",
     "text": [
      "[\n",
      "  {\n",
      "    \"id\": 1,\n",
      "    \"name\": \"iPhone 12\",\n",
      "    \"category\": \"Electronics\",\n",
      "    \"quantity\": 10,\n",
      "    \"price\": 899.99\n",
      "  },\n",
      "  {\n",
      "    \"id\": 2,\n",
      "    \"name\": \"Nike Air Max 90\",\n",
      "    \"category\": \"Clothing\",\n",
      "    \"quantity\": 25,\n",
      "    \"price\": 119.99\n",
      "  },\n",
      "  {\n",
      "    \"id\": 3,\n",
      "    \"name\": \"KitchenAid Stand Mixer\",\n",
      "    \"category\": \"Home Appliances\",\n",
      "    \"quantity\": 5,\n"
     ]
    }
   ],
   "execution_count": 9
  },
  {
   "metadata": {
    "ExecuteTime": {
     "end_time": "2025-01-03T19:46:05.816579Z",
     "start_time": "2025-01-03T19:46:05.670842Z"
    }
   },
   "cell_type": "code",
   "source": [
    "json_file_path = r'./data/products_multiline.json'\n",
    "df = spark.read.json(json_file_path, multiLine=True)"
   ],
   "id": "197372f8127e8e9",
   "outputs": [],
   "execution_count": 10
  },
  {
   "metadata": {
    "ExecuteTime": {
     "end_time": "2025-01-03T19:46:07.958294Z",
     "start_time": "2025-01-03T19:46:07.864366Z"
    }
   },
   "cell_type": "code",
   "source": "df.show()",
   "id": "10c91b64bcfd5a9",
   "outputs": [
    {
     "name": "stdout",
     "output_type": "stream",
     "text": [
      "+---------------+---+--------------------+------+--------+\n",
      "|       category| id|                name| price|quantity|\n",
      "+---------------+---+--------------------+------+--------+\n",
      "|    Electronics|  1|           iPhone 12|899.99|      10|\n",
      "|       Clothing|  2|     Nike Air Max 90|119.99|      25|\n",
      "|Home Appliances|  3|KitchenAid Stand ...|299.99|       5|\n",
      "|          Books|  4|    The Great Gatsby| 12.99|      50|\n",
      "|         Beauty|  5|L'Oreal Paris Mas...|  9.99|     100|\n",
      "|         Sports|  6|            Yoga Mat| 29.99|      30|\n",
      "|    Electronics|  7| Samsung 4K Smart TV|799.99|       8|\n",
      "|       Clothing|  8|        Levi's Jeans| 49.99|      15|\n",
      "|Home Appliances|  9|Dyson Vacuum Cleaner|399.99|       3|\n",
      "|          Books| 10| Harry Potter Series| 15.99|      20|\n",
      "|         Beauty| 11|        MAC Lipstick| 16.99|      75|\n",
      "|         Sports| 12|Adidas Running Shoes| 59.99|      22|\n",
      "|    Electronics| 13|       PlayStation 5|499.99|      12|\n",
      "|       Clothing| 14|   Hooded Sweatshirt| 34.99|      10|\n",
      "|Home Appliances| 15|        Coffee Maker| 89.99|       7|\n",
      "|          Books| 16|To Kill a Mocking...|  9.99|      15|\n",
      "|         Beauty| 17|        Skincare Set| 49.99|      50|\n",
      "|         Sports| 18|           Yoga Ball| 19.99|      18|\n",
      "|    Electronics| 19|Sony Noise-Cancel...|299.99|       6|\n",
      "|       Clothing| 20|        Puma T-shirt| 19.99|      40|\n",
      "+---------------+---+--------------------+------+--------+\n",
      "\n"
     ]
    }
   ],
   "execution_count": 11
  }
 ],
 "metadata": {
  "kernelspec": {
   "display_name": "Python 3",
   "language": "python",
   "name": "python3"
  },
  "language_info": {
   "codemirror_mode": {
    "name": "ipython",
    "version": 2
   },
   "file_extension": ".py",
   "mimetype": "text/x-python",
   "name": "python",
   "nbconvert_exporter": "python",
   "pygments_lexer": "ipython2",
   "version": "2.7.6"
  }
 },
 "nbformat": 4,
 "nbformat_minor": 5
}
