{
 "cells": [
  {
   "cell_type": "code",
   "id": "initial_id",
   "metadata": {
    "collapsed": true,
    "ExecuteTime": {
     "end_time": "2025-01-04T08:33:17.746729Z",
     "start_time": "2025-01-04T08:33:17.595148Z"
    }
   },
   "source": [
    "import os\n",
    "from pyspark.sql import SparkSession\n",
    "from pyspark.sql.types import StringType, StructField, IntegerType, DoubleType, StructType"
   ],
   "outputs": [],
   "execution_count": 1
  },
  {
   "metadata": {
    "ExecuteTime": {
     "end_time": "2025-01-03T19:51:17.139679Z",
     "start_time": "2025-01-03T19:51:17.136339Z"
    }
   },
   "cell_type": "code",
   "source": [
    "os.environ['SPARK_HOME'] = r'C:\\spark\\spark-3.5.4-bin-hadoop3'\n",
    "os.environ['PYSPARK_DRIVER_PYTHON'] = 'jupyter'\n",
    "os.environ['PYSPARK_DRIVER_PYTHON_OPTS'] = 'lab'\n",
    "os.environ['PYSPARK_PYTHON'] = 'python'"
   ],
   "id": "6ada3fa199011eed",
   "outputs": [],
   "execution_count": 2
  },
  {
   "metadata": {
    "ExecuteTime": {
     "end_time": "2025-01-03T19:52:51.512625Z",
     "start_time": "2025-01-03T19:52:46.857869Z"
    }
   },
   "cell_type": "code",
   "source": "spark = SparkSession.builder.appName('Operations').getOrCreate()",
   "id": "9791fd87a3fe7ab7",
   "outputs": [],
   "execution_count": 4
  },
  {
   "metadata": {
    "ExecuteTime": {
     "end_time": "2025-01-03T19:54:47.290151Z",
     "start_time": "2025-01-03T19:54:47.286186Z"
    }
   },
   "cell_type": "code",
   "source": [
    "schema = StructType([\n",
    "    StructField(name='id', dataType=IntegerType(), nullable=True),\n",
    "    StructField(name='name', dataType=StringType(), nullable=True),\n",
    "    StructField(name='category', dataType=StringType(), nullable=True),\n",
    "    StructField(name='quantity', dataType=IntegerType(), nullable=True),\n",
    "    StructField(name='price', dataType=DoubleType(), nullable=True),\n",
    "])"
   ],
   "id": "ce76584e126f5490",
   "outputs": [],
   "execution_count": 10
  },
  {
   "metadata": {
    "ExecuteTime": {
     "end_time": "2025-01-03T19:54:52.489501Z",
     "start_time": "2025-01-03T19:54:52.459240Z"
    }
   },
   "cell_type": "code",
   "source": [
    "file_path = r'./data/stocks.txt'\n",
    "\n",
    "df = spark.read.csv(file_path, header=True, schema=schema)"
   ],
   "id": "8ed5c1ea77b18a01",
   "outputs": [],
   "execution_count": 11
  },
  {
   "metadata": {
    "ExecuteTime": {
     "end_time": "2025-01-03T19:54:53.166818Z",
     "start_time": "2025-01-03T19:54:53.161801Z"
    }
   },
   "cell_type": "code",
   "source": "df.schema",
   "id": "e1728e64dc4c2f38",
   "outputs": [
    {
     "data": {
      "text/plain": [
       "StructType([StructField('id', IntegerType(), True), StructField('name', StringType(), True), StructField('category', StringType(), True), StructField('quantity', IntegerType(), True), StructField('price', DoubleType(), True)])"
      ]
     },
     "execution_count": 12,
     "metadata": {},
     "output_type": "execute_result"
    }
   ],
   "execution_count": 12
  },
  {
   "metadata": {
    "ExecuteTime": {
     "end_time": "2025-01-03T19:55:19.333448Z",
     "start_time": "2025-01-03T19:55:19.328167Z"
    }
   },
   "cell_type": "code",
   "source": "df.printSchema()",
   "id": "91a0e360448097f",
   "outputs": [
    {
     "name": "stdout",
     "output_type": "stream",
     "text": [
      "root\n",
      " |-- id: integer (nullable = true)\n",
      " |-- name: string (nullable = true)\n",
      " |-- category: string (nullable = true)\n",
      " |-- quantity: integer (nullable = true)\n",
      " |-- price: double (nullable = true)\n",
      "\n"
     ]
    }
   ],
   "execution_count": 13
  },
  {
   "metadata": {
    "ExecuteTime": {
     "end_time": "2025-01-03T19:55:37.544541Z",
     "start_time": "2025-01-03T19:55:37.403827Z"
    }
   },
   "cell_type": "code",
   "source": "df.show(5)",
   "id": "bc338383804d9f93",
   "outputs": [
    {
     "name": "stdout",
     "output_type": "stream",
     "text": [
      "+---+----------+-----------+--------+-------+\n",
      "| id|      name|   category|quantity|  price|\n",
      "+---+----------+-----------+--------+-------+\n",
      "|  1|    iPhone|Electronics|      10| 899.99|\n",
      "|  2|   Macbook|Electronics|       5|1299.99|\n",
      "|  3|      iPad|Electronics|      15| 499.99|\n",
      "|  4|Samsung TV|Electronics|       8| 799.99|\n",
      "|  5|     LG TV|Electronics|      10| 699.99|\n",
      "+---+----------+-----------+--------+-------+\n",
      "only showing top 5 rows\n",
      "\n"
     ]
    }
   ],
   "execution_count": 14
  },
  {
   "metadata": {
    "ExecuteTime": {
     "end_time": "2025-01-03T19:56:15.067752Z",
     "start_time": "2025-01-03T19:56:14.961039Z"
    }
   },
   "cell_type": "code",
   "source": [
    "select_columns = df.select(['id', 'name', 'category'])\n",
    "select_columns.show(5)"
   ],
   "id": "25a2d06002f9004a",
   "outputs": [
    {
     "name": "stdout",
     "output_type": "stream",
     "text": [
      "+---+----------+-----------+\n",
      "| id|      name|   category|\n",
      "+---+----------+-----------+\n",
      "|  1|    iPhone|Electronics|\n",
      "|  2|   Macbook|Electronics|\n",
      "|  3|      iPad|Electronics|\n",
      "|  4|Samsung TV|Electronics|\n",
      "|  5|     LG TV|Electronics|\n",
      "+---+----------+-----------+\n",
      "only showing top 5 rows\n",
      "\n"
     ]
    }
   ],
   "execution_count": 16
  },
  {
   "metadata": {
    "ExecuteTime": {
     "end_time": "2025-01-03T19:58:11.971978Z",
     "start_time": "2025-01-03T19:58:11.859834Z"
    }
   },
   "cell_type": "code",
   "source": [
    "filtered_data = df.filter(df['quantity'] > 20)\n",
    "filtered_data.show()"
   ],
   "id": "137bc3c1d555a1e6",
   "outputs": [
    {
     "name": "stdout",
     "output_type": "stream",
     "text": [
      "+---+--------------+-----------+--------+-----+\n",
      "| id|          name|   category|quantity|price|\n",
      "+---+--------------+-----------+--------+-----+\n",
      "|  6|    Nike Shoes|   Clothing|      30|99.99|\n",
      "|  7|  Adidas Shoes|   Clothing|      25|89.99|\n",
      "| 12|        Apples|       Food|     100|  0.5|\n",
      "| 13|       Bananas|       Food|     150| 0.25|\n",
      "| 14|       Oranges|       Food|     120| 0.75|\n",
      "| 15|Chicken Breast|       Food|      50| 3.99|\n",
      "| 16| Salmon Fillet|       Food|      30| 5.99|\n",
      "| 24|    Laptop Bag|Accessories|      25|29.99|\n",
      "| 25|      Backpack|Accessories|      30|24.99|\n",
      "| 28|         Jeans|   Clothing|      30|59.99|\n",
      "| 29|       T-shirt|   Clothing|      50|14.99|\n",
      "| 30|      Sneakers|   Clothing|      40|79.99|\n",
      "+---+--------------+-----------+--------+-----+\n",
      "\n"
     ]
    }
   ],
   "execution_count": 23
  },
  {
   "metadata": {
    "ExecuteTime": {
     "end_time": "2025-01-03T20:37:06.209564Z",
     "start_time": "2025-01-03T20:37:05.999152Z"
    }
   },
   "cell_type": "code",
   "source": [
    "grouped_data = df.groupBy('category').agg({'quantity': 'sum', 'price': 'avg'})\n",
    "grouped_data.show()"
   ],
   "id": "9cb0564d20abdb06",
   "outputs": [
    {
     "name": "stdout",
     "output_type": "stream",
     "text": [
      "+-----------+-------------+------------------+\n",
      "|   category|sum(quantity)|        avg(price)|\n",
      "+-----------+-------------+------------------+\n",
      "|       Food|          450|2.2960000000000003|\n",
      "|     Sports|           35|             34.99|\n",
      "|Electronics|           98| 586.6566666666665|\n",
      "|   Clothing|          200|  99.2757142857143|\n",
      "|  Furniture|           41|            141.99|\n",
      "|Accessories|           55|             27.49|\n",
      "+-----------+-------------+------------------+\n",
      "\n"
     ]
    }
   ],
   "execution_count": 25
  },
  {
   "metadata": {
    "ExecuteTime": {
     "end_time": "2025-01-03T20:39:14.904275Z",
     "start_time": "2025-01-03T20:39:14.540576Z"
    }
   },
   "cell_type": "code",
   "source": [
    "df2 = df.select('id', 'category').limit(10)\n",
    "joined_data = df.join(df2, 'id', 'inner')\n",
    "joined_data.show()"
   ],
   "id": "ead337a3eb8ee8e",
   "outputs": [
    {
     "name": "stdout",
     "output_type": "stream",
     "text": [
      "+---+----------------+-----------+--------+-------+-----------+\n",
      "| id|            name|   category|quantity|  price|   category|\n",
      "+---+----------------+-----------+--------+-------+-----------+\n",
      "|  1|          iPhone|Electronics|      10| 899.99|Electronics|\n",
      "|  2|         Macbook|Electronics|       5|1299.99|Electronics|\n",
      "|  3|            iPad|Electronics|      15| 499.99|Electronics|\n",
      "|  4|      Samsung TV|Electronics|       8| 799.99|Electronics|\n",
      "|  5|           LG TV|Electronics|      10| 699.99|Electronics|\n",
      "|  6|      Nike Shoes|   Clothing|      30|  99.99|   Clothing|\n",
      "|  7|    Adidas Shoes|   Clothing|      25|  89.99|   Clothing|\n",
      "|  8| Sony Headphones|Electronics|      12| 149.99|Electronics|\n",
      "|  9|Beats Headphones|Electronics|      20| 199.99|Electronics|\n",
      "| 10|    Dining Table|  Furniture|      10| 249.99|  Furniture|\n",
      "+---+----------------+-----------+--------+-------+-----------+\n",
      "\n"
     ]
    }
   ],
   "execution_count": 26
  },
  {
   "metadata": {
    "ExecuteTime": {
     "end_time": "2025-01-03T20:42:42.475037Z",
     "start_time": "2025-01-03T20:42:42.401375Z"
    }
   },
   "cell_type": "code",
   "source": [
    "sorted_data = df.orderBy('price', ascending=False)\n",
    "sorted_data.show(5)"
   ],
   "id": "bda85f1651744c27",
   "outputs": [
    {
     "name": "stdout",
     "output_type": "stream",
     "text": [
      "+---+----------+-----------+--------+-------+\n",
      "| id|      name|   category|quantity|  price|\n",
      "+---+----------+-----------+--------+-------+\n",
      "|  2|   Macbook|Electronics|       5|1299.99|\n",
      "|  1|    iPhone|Electronics|      10| 899.99|\n",
      "|  4|Samsung TV|Electronics|       8| 799.99|\n",
      "|  5|     LG TV|Electronics|      10| 699.99|\n",
      "| 26|    Camera|Electronics|      10| 599.99|\n",
      "+---+----------+-----------+--------+-------+\n",
      "only showing top 5 rows\n",
      "\n"
     ]
    }
   ],
   "execution_count": 34
  },
  {
   "metadata": {
    "ExecuteTime": {
     "end_time": "2025-01-03T20:43:36.661657Z",
     "start_time": "2025-01-03T20:43:36.596798Z"
    }
   },
   "cell_type": "code",
   "source": [
    "from pyspark.sql.functions import col, desc\n",
    "sorted_data = df.orderBy(col('price').desc(), col('id').desc())\n",
    "sorted_data.show()"
   ],
   "id": "8203c3d7ed43712c",
   "outputs": [
    {
     "name": "stdout",
     "output_type": "stream",
     "text": [
      "+---+----------------+-----------+--------+-------+\n",
      "| id|            name|   category|quantity|  price|\n",
      "+---+----------------+-----------+--------+-------+\n",
      "|  2|         Macbook|Electronics|       5|1299.99|\n",
      "|  1|          iPhone|Electronics|      10| 899.99|\n",
      "|  4|      Samsung TV|Electronics|       8| 799.99|\n",
      "|  5|           LG TV|Electronics|      10| 699.99|\n",
      "| 26|          Camera|Electronics|      10| 599.99|\n",
      "|  3|            iPad|Electronics|      15| 499.99|\n",
      "| 10|    Dining Table|  Furniture|      10| 249.99|\n",
      "| 17|  Leather Jacket|   Clothing|      15| 199.99|\n",
      "|  9|Beats Headphones|Electronics|      20| 199.99|\n",
      "| 18|     Winter Coat|   Clothing|      10| 149.99|\n",
      "| 11|      Study Desk|  Furniture|       8| 149.99|\n",
      "|  8| Sony Headphones|Electronics|      12| 149.99|\n",
      "| 27|         Printer|Electronics|       8| 129.99|\n",
      "| 21|    Coffee Table|  Furniture|       5| 129.99|\n",
      "| 23|       Bookshelf|  Furniture|      10|  99.99|\n",
      "|  6|      Nike Shoes|   Clothing|      30|  99.99|\n",
      "|  7|    Adidas Shoes|   Clothing|      25|  89.99|\n",
      "| 30|        Sneakers|   Clothing|      40|  79.99|\n",
      "| 22|    Office Chair|  Furniture|       8|  79.99|\n",
      "| 28|           Jeans|   Clothing|      30|  59.99|\n",
      "+---+----------------+-----------+--------+-------+\n",
      "only showing top 20 rows\n",
      "\n"
     ]
    }
   ],
   "execution_count": 35
  },
  {
   "metadata": {
    "ExecuteTime": {
     "end_time": "2025-01-03T20:44:22.598101Z",
     "start_time": "2025-01-03T20:44:22.388820Z"
    }
   },
   "cell_type": "code",
   "source": [
    "distinct_rows = df.select('category').distinct()\n",
    "distinct_rows.show()"
   ],
   "id": "868b653c0e9c2bc4",
   "outputs": [
    {
     "name": "stdout",
     "output_type": "stream",
     "text": [
      "+-----------+\n",
      "|   category|\n",
      "+-----------+\n",
      "|       Food|\n",
      "|     Sports|\n",
      "|Electronics|\n",
      "|   Clothing|\n",
      "|  Furniture|\n",
      "|Accessories|\n",
      "+-----------+\n",
      "\n"
     ]
    }
   ],
   "execution_count": 36
  },
  {
   "metadata": {
    "ExecuteTime": {
     "end_time": "2025-01-03T20:45:38.377461Z",
     "start_time": "2025-01-03T20:45:38.307954Z"
    }
   },
   "cell_type": "code",
   "source": [
    "dropped_columns = df.drop('quantity', 'category')\n",
    "dropped_columns.show()"
   ],
   "id": "94abe06d6d918881",
   "outputs": [
    {
     "name": "stdout",
     "output_type": "stream",
     "text": [
      "+---+----------------+-------+\n",
      "| id|            name|  price|\n",
      "+---+----------------+-------+\n",
      "|  1|          iPhone| 899.99|\n",
      "|  2|         Macbook|1299.99|\n",
      "|  3|            iPad| 499.99|\n",
      "|  4|      Samsung TV| 799.99|\n",
      "|  5|           LG TV| 699.99|\n",
      "|  6|      Nike Shoes|  99.99|\n",
      "|  7|    Adidas Shoes|  89.99|\n",
      "|  8| Sony Headphones| 149.99|\n",
      "|  9|Beats Headphones| 199.99|\n",
      "| 10|    Dining Table| 249.99|\n",
      "| 11|      Study Desk| 149.99|\n",
      "| 12|          Apples|    0.5|\n",
      "| 13|         Bananas|   0.25|\n",
      "| 14|         Oranges|   0.75|\n",
      "| 15|  Chicken Breast|   3.99|\n",
      "| 16|   Salmon Fillet|   5.99|\n",
      "| 17|  Leather Jacket| 199.99|\n",
      "| 18|     Winter Coat| 149.99|\n",
      "| 19|        Yoga Mat|  19.99|\n",
      "| 20|    Dumbbell Set|  49.99|\n",
      "+---+----------------+-------+\n",
      "only showing top 20 rows\n",
      "\n"
     ]
    }
   ],
   "execution_count": 38
  },
  {
   "metadata": {
    "ExecuteTime": {
     "end_time": "2025-01-03T20:46:29.097341Z",
     "start_time": "2025-01-03T20:46:29.022477Z"
    }
   },
   "cell_type": "code",
   "source": [
    "df_with_column = df.withColumn('revenue', df['quantity'] * df['price'])\n",
    "df_with_column.show()"
   ],
   "id": "69ee8318183d389",
   "outputs": [
    {
     "name": "stdout",
     "output_type": "stream",
     "text": [
      "+---+----------------+-----------+--------+-------+------------------+\n",
      "| id|            name|   category|quantity|  price|           revenue|\n",
      "+---+----------------+-----------+--------+-------+------------------+\n",
      "|  1|          iPhone|Electronics|      10| 899.99|            8999.9|\n",
      "|  2|         Macbook|Electronics|       5|1299.99|           6499.95|\n",
      "|  3|            iPad|Electronics|      15| 499.99|           7499.85|\n",
      "|  4|      Samsung TV|Electronics|       8| 799.99|           6399.92|\n",
      "|  5|           LG TV|Electronics|      10| 699.99|            6999.9|\n",
      "|  6|      Nike Shoes|   Clothing|      30|  99.99|            2999.7|\n",
      "|  7|    Adidas Shoes|   Clothing|      25|  89.99|           2249.75|\n",
      "|  8| Sony Headphones|Electronics|      12| 149.99|           1799.88|\n",
      "|  9|Beats Headphones|Electronics|      20| 199.99|            3999.8|\n",
      "| 10|    Dining Table|  Furniture|      10| 249.99|            2499.9|\n",
      "| 11|      Study Desk|  Furniture|       8| 149.99|           1199.92|\n",
      "| 12|          Apples|       Food|     100|    0.5|              50.0|\n",
      "| 13|         Bananas|       Food|     150|   0.25|              37.5|\n",
      "| 14|         Oranges|       Food|     120|   0.75|              90.0|\n",
      "| 15|  Chicken Breast|       Food|      50|   3.99|             199.5|\n",
      "| 16|   Salmon Fillet|       Food|      30|   5.99|179.70000000000002|\n",
      "| 17|  Leather Jacket|   Clothing|      15| 199.99|2999.8500000000004|\n",
      "| 18|     Winter Coat|   Clothing|      10| 149.99|            1499.9|\n",
      "| 19|        Yoga Mat|     Sports|      20|  19.99|399.79999999999995|\n",
      "| 20|    Dumbbell Set|     Sports|      15|  49.99|            749.85|\n",
      "+---+----------------+-----------+--------+-------+------------------+\n",
      "only showing top 20 rows\n",
      "\n"
     ]
    }
   ],
   "execution_count": 39
  },
  {
   "metadata": {
    "ExecuteTime": {
     "end_time": "2025-01-03T20:47:36.143499Z",
     "start_time": "2025-01-03T20:47:36.083482Z"
    }
   },
   "cell_type": "code",
   "source": [
    "df_with_alias = df.withColumnRenamed('price', 'product_price')\n",
    "df_with_alias.show()"
   ],
   "id": "90f309ae9497dcf5",
   "outputs": [
    {
     "name": "stdout",
     "output_type": "stream",
     "text": [
      "+---+----------------+-----------+--------+-------------+\n",
      "| id|            name|   category|quantity|product_price|\n",
      "+---+----------------+-----------+--------+-------------+\n",
      "|  1|          iPhone|Electronics|      10|       899.99|\n",
      "|  2|         Macbook|Electronics|       5|      1299.99|\n",
      "|  3|            iPad|Electronics|      15|       499.99|\n",
      "|  4|      Samsung TV|Electronics|       8|       799.99|\n",
      "|  5|           LG TV|Electronics|      10|       699.99|\n",
      "|  6|      Nike Shoes|   Clothing|      30|        99.99|\n",
      "|  7|    Adidas Shoes|   Clothing|      25|        89.99|\n",
      "|  8| Sony Headphones|Electronics|      12|       149.99|\n",
      "|  9|Beats Headphones|Electronics|      20|       199.99|\n",
      "| 10|    Dining Table|  Furniture|      10|       249.99|\n",
      "| 11|      Study Desk|  Furniture|       8|       149.99|\n",
      "| 12|          Apples|       Food|     100|          0.5|\n",
      "| 13|         Bananas|       Food|     150|         0.25|\n",
      "| 14|         Oranges|       Food|     120|         0.75|\n",
      "| 15|  Chicken Breast|       Food|      50|         3.99|\n",
      "| 16|   Salmon Fillet|       Food|      30|         5.99|\n",
      "| 17|  Leather Jacket|   Clothing|      15|       199.99|\n",
      "| 18|     Winter Coat|   Clothing|      10|       149.99|\n",
      "| 19|        Yoga Mat|     Sports|      20|        19.99|\n",
      "| 20|    Dumbbell Set|     Sports|      15|        49.99|\n",
      "+---+----------------+-----------+--------+-------------+\n",
      "only showing top 20 rows\n",
      "\n"
     ]
    }
   ],
   "execution_count": 40
  },
  {
   "metadata": {
    "ExecuteTime": {
     "end_time": "2025-01-03T20:47:43.507822Z",
     "start_time": "2025-01-03T20:47:43.250364Z"
    }
   },
   "cell_type": "code",
   "source": "spark.stop()",
   "id": "2de7afe32cc0b87b",
   "outputs": [],
   "execution_count": 41
  }
 ],
 "metadata": {
  "kernelspec": {
   "display_name": "Python 3",
   "language": "python",
   "name": "python3"
  },
  "language_info": {
   "codemirror_mode": {
    "name": "ipython",
    "version": 2
   },
   "file_extension": ".py",
   "mimetype": "text/x-python",
   "name": "python",
   "nbconvert_exporter": "python",
   "pygments_lexer": "ipython2",
   "version": "2.7.6"
  }
 },
 "nbformat": 4,
 "nbformat_minor": 5
}
