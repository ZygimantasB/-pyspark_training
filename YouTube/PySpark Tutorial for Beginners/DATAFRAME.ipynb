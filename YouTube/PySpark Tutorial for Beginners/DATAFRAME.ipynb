{
 "cells": [
  {
   "cell_type": "code",
   "id": "initial_id",
   "metadata": {
    "collapsed": true,
    "ExecuteTime": {
     "end_time": "2025-01-04T08:40:09.783110Z",
     "start_time": "2025-01-04T08:40:09.629515Z"
    }
   },
   "source": [
    "import os\n",
    "from pyspark.sql import SparkSession"
   ],
   "outputs": [],
   "execution_count": 1
  },
  {
   "metadata": {
    "ExecuteTime": {
     "end_time": "2025-01-03T19:11:03.959208Z",
     "start_time": "2025-01-03T19:11:03.955889Z"
    }
   },
   "cell_type": "code",
   "source": [
    "os.environ['SPARK_HOME'] = r'C:\\spark\\spark-3.5.4-bin-hadoop3'\n",
    "os.environ['PYSPARK_DRIVER_PYTHON'] = 'jupyter'\n",
    "os.environ['PYSPARK_DRIVER_PYTHON_OPTS'] = 'lab'\n",
    "os.environ['PYSPARK_PYTHON'] = 'python'"
   ],
   "id": "15278f80d7cb40c9",
   "outputs": [],
   "execution_count": 2
  },
  {
   "metadata": {
    "ExecuteTime": {
     "end_time": "2025-01-03T19:11:53.032444Z",
     "start_time": "2025-01-03T19:11:47.959014Z"
    }
   },
   "cell_type": "code",
   "source": "spark = SparkSession.builder.appName('DataFrame Demo').getOrCreate()",
   "id": "6183eb0f25bbd0c5",
   "outputs": [],
   "execution_count": 3
  },
  {
   "metadata": {
    "ExecuteTime": {
     "end_time": "2025-01-03T19:15:00.442650Z",
     "start_time": "2025-01-03T19:14:56.165989Z"
    }
   },
   "cell_type": "code",
   "source": [
    "rdd_path = r'F:\\DataSpell\\-pyspark_training\\YouTube\\PySpark Tutorial for Beginners\\data\\data.txt'\n",
    "rdd = spark.sparkContext.textFile(rdd_path)\n",
    "result_rdd = rdd.flatMap(lambda line: line.split(' ')) \\\n",
    "    .map(lambda word: (word, 1)) \\\n",
    "    .reduceByKey(lambda a, b: a + b) \\\n",
    "    .sortBy(lambda x: x[1], ascending=False)"
   ],
   "id": "d75abd69c6ab6a02",
   "outputs": [],
   "execution_count": 9
  },
  {
   "metadata": {
    "ExecuteTime": {
     "end_time": "2025-01-03T19:15:08.563187Z",
     "start_time": "2025-01-03T19:15:06.431974Z"
    }
   },
   "cell_type": "code",
   "source": "result_rdd.take(10)",
   "id": "b2faa29324333455",
   "outputs": [
    {
     "data": {
      "text/plain": [
       "[('the', 12),\n",
       " ('of', 7),\n",
       " ('a', 7),\n",
       " ('distributed', 5),\n",
       " ('in', 5),\n",
       " ('Spark', 4),\n",
       " ('as', 3),\n",
       " ('is', 3),\n",
       " ('API', 3),\n",
       " ('on', 3)]"
      ]
     },
     "execution_count": 10,
     "metadata": {},
     "output_type": "execute_result"
    }
   ],
   "execution_count": 10
  },
  {
   "metadata": {
    "ExecuteTime": {
     "end_time": "2025-01-03T19:20:14.039455Z",
     "start_time": "2025-01-03T19:20:11.087573Z"
    }
   },
   "cell_type": "code",
   "source": [
    "df = spark.read.text(rdd_path)\n",
    "\n",
    "result_df = df.selectExpr(\"explode(split(value, ' ')) as word\") \\\n",
    "    .groupBy(\"word\").count().orderBy(\"count\", ascending=False)\n",
    "\n",
    "result_df.take(10)"
   ],
   "id": "ec1c2e6070cc27f1",
   "outputs": [
    {
     "data": {
      "text/plain": [
       "[Row(word='the', count=12),\n",
       " Row(word='of', count=7),\n",
       " Row(word='a', count=7),\n",
       " Row(word='in', count=5),\n",
       " Row(word='distributed', count=5),\n",
       " Row(word='Spark', count=4),\n",
       " Row(word='API', count=3),\n",
       " Row(word='RDD', count=3),\n",
       " Row(word='is', count=3),\n",
       " Row(word='on', count=3)]"
      ]
     },
     "execution_count": 11,
     "metadata": {},
     "output_type": "execute_result"
    }
   ],
   "execution_count": 11
  },
  {
   "metadata": {},
   "cell_type": "code",
   "outputs": [],
   "execution_count": null,
   "source": "",
   "id": "bb63a6932477e71f"
  }
 ],
 "metadata": {
  "kernelspec": {
   "display_name": "Python 3",
   "language": "python",
   "name": "python3"
  },
  "language_info": {
   "codemirror_mode": {
    "name": "ipython",
    "version": 2
   },
   "file_extension": ".py",
   "mimetype": "text/x-python",
   "name": "python",
   "nbconvert_exporter": "python",
   "pygments_lexer": "ipython2",
   "version": "2.7.6"
  }
 },
 "nbformat": 4,
 "nbformat_minor": 5
}
