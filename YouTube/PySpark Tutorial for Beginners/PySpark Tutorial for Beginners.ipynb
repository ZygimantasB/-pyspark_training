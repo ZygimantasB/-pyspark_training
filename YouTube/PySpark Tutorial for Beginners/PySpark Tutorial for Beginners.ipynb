{
 "cells": [
  {
   "metadata": {},
   "cell_type": "markdown",
   "source": "# https://www.youtube.com/watch?v=EB8lfdxpirM",
   "id": "abf74bed172be4bf"
  },
  {
   "metadata": {},
   "cell_type": "markdown",
   "source": "### Time",
   "id": "c1df0a4a9f4e9453"
  },
  {
   "cell_type": "code",
   "id": "initial_id",
   "metadata": {
    "collapsed": true,
    "ExecuteTime": {
     "end_time": "2025-01-03T18:34:56.834491Z",
     "start_time": "2025-01-03T18:34:56.559130Z"
    }
   },
   "source": [
    "import os\n",
    "from pyspark.sql import SparkSession"
   ],
   "outputs": [],
   "execution_count": 1
  },
  {
   "metadata": {
    "ExecuteTime": {
     "end_time": "2025-01-03T18:34:57.445566Z",
     "start_time": "2025-01-03T18:34:57.442129Z"
    }
   },
   "cell_type": "code",
   "source": [
    "os.environ['SPARK_HOME'] = r'C:\\spark\\spark-3.5.4-bin-hadoop3'\n",
    "os.environ['PYSPARK_DRIVER_PYTHON'] = 'jupyter'\n",
    "os.environ['PYSPARK_DRIVER_PYTHON_OPTS'] = 'lab'\n",
    "os.environ['PYSPARK_PYTHON'] = 'python'"
   ],
   "id": "51a20d3fa6c28578",
   "outputs": [],
   "execution_count": 2
  },
  {
   "metadata": {
    "ExecuteTime": {
     "end_time": "2025-01-03T18:35:03.275691Z",
     "start_time": "2025-01-03T18:34:58.364161Z"
    }
   },
   "cell_type": "code",
   "source": "spark = SparkSession.builder.appName(\"PySpark Tutorial for Beginners\").getOrCreate()",
   "id": "13e9bed5b5eec80e",
   "outputs": [],
   "execution_count": 3
  },
  {
   "metadata": {
    "ExecuteTime": {
     "end_time": "2025-01-03T18:14:21.926176Z",
     "start_time": "2025-01-03T18:14:21.922669Z"
    }
   },
   "cell_type": "code",
   "source": "df_path = r\"F:\\Datasets\\udemy_datasets\\udemy_courses.csv\"",
   "id": "c45a91c5241026f3",
   "outputs": [],
   "execution_count": 3
  },
  {
   "metadata": {
    "ExecuteTime": {
     "end_time": "2025-01-03T18:14:26.130195Z",
     "start_time": "2025-01-03T18:14:22.465350Z"
    }
   },
   "cell_type": "code",
   "source": "df = spark.read.csv(df_path)",
   "id": "85dd7b50a03441cf",
   "outputs": [],
   "execution_count": 4
  },
  {
   "metadata": {
    "ExecuteTime": {
     "end_time": "2025-01-03T18:14:26.559879Z",
     "start_time": "2025-01-03T18:14:26.142204Z"
    }
   },
   "cell_type": "code",
   "source": "df.show(n=10, truncate=True)",
   "id": "a3a2fbe43d52d221",
   "outputs": [
    {
     "name": "stdout",
     "output_type": "stream",
     "text": [
      "+-------+--------------------+--------------------+-------+--------------------+--------------------+--------------------+--------------------+-----------+--------------------+-------------------+--------------------+--------------------+\n",
      "|    _c0|                 _c1|                 _c2|    _c3|                 _c4|                 _c5|                 _c6|                 _c7|        _c8|                 _c9|               _c10|                _c11|                _c12|\n",
      "+-------+--------------------+--------------------+-------+--------------------+--------------------+--------------------+--------------------+-----------+--------------------+-------------------+--------------------+--------------------+\n",
      "|     id|               title|                 url|is_paid|    instructor_names|            category|            headline|     num_subscribers|     rating|         num_reviews|instructional_level|          objectives|          curriculum|\n",
      "| 567828|The Complete Pyth...|https://www.udemy...|   True|Jose Portilla, Pi...|         Development|Learn Python like...|             1976866|   4.576494|              521219|         All Levels|You will learn ho...|\"Course Overview,...|\n",
      "|1565838|The Complete 2024...|https://www.udemy...|   True|Dr. Angela Yu, De...|         Development|Become a Full-Sta...|             1362586|   4.679065|              409793|         All Levels|Build 16 web deve...|\"Front-End Web De...|\n",
      "|2776760|100 Days of Code:...|https://www.udemy...|   True|Dr. Angela Yu, De...|         Development|Master Python by ...|             1417942|   4.698768|              331803|         All Levels|You will master t...|\"Day 1 - Beginner...|\n",
      "| 625204|The Web Developer...|https://www.udemy...|   True|         Colt Steele|         Development|10 Hours of React...|              923815|    4.67345|              276723|         All Levels|The ins and outs ...|\"Course Orientati...|\n",
      "|1362070|React - The Compl...|https://www.udemy...|   True|Academind by Maxi...|         Development|Dive in and learn...|              909848|   4.638643|              220051|         All Levels|Learn React from ...|\"Getting Started,...|\n",
      "| 851712|The Complete Java...|https://www.udemy...|   True|   Jonas Schmedtmann|         Development|The modern JavaSc...|              948984|  4.6917663|              215092|         All Levels|Become an advance...|\"Welcome, Welcome...|\n",
      "| 756150|Angular - The Com...|https://www.udemy...|   True|Maximilian Schwar...|         Development|\"Master Angular (...| reactive web app...|     788455|            4.688419|             208114|          All Levels|Learn modern Angu...|\n",
      "| 533682|Java 17 Mastercla...|https://www.udemy...|   True|\"Tim Buchalka, \"\"...| Edwin Einsen Vás...|        Igor Popovic|       Eddie Chiang\"|Development|Acquire Key Java ...|             884140|           4.5675483|              201618|\n",
      "| 950390|Machine Learning ...|https://www.udemy...|   True|Kirill Eremenko, ...|         Development|Learn to create M...|             1093550|   4.531372|              191060|         All Levels|Master Machine Le...|Welcome to the co...|\n",
      "+-------+--------------------+--------------------+-------+--------------------+--------------------+--------------------+--------------------+-----------+--------------------+-------------------+--------------------+--------------------+\n",
      "only showing top 10 rows\n",
      "\n"
     ]
    }
   ],
   "execution_count": 5
  },
  {
   "metadata": {
    "ExecuteTime": {
     "end_time": "2025-01-03T18:14:27.756930Z",
     "start_time": "2025-01-03T18:14:26.586819Z"
    }
   },
   "cell_type": "code",
   "source": "df.count()",
   "id": "ae5ece5d9815d351",
   "outputs": [
    {
     "data": {
      "text/plain": [
       "98107"
      ]
     },
     "execution_count": 6,
     "metadata": {},
     "output_type": "execute_result"
    }
   ],
   "execution_count": 6
  },
  {
   "metadata": {
    "ExecuteTime": {
     "end_time": "2025-01-03T18:14:27.782186Z",
     "start_time": "2025-01-03T18:14:27.777133Z"
    }
   },
   "cell_type": "code",
   "source": "len(df.columns)",
   "id": "6d6b6914049e8694",
   "outputs": [
    {
     "data": {
      "text/plain": [
       "13"
      ]
     },
     "execution_count": 7,
     "metadata": {},
     "output_type": "execute_result"
    }
   ],
   "execution_count": 7
  },
  {
   "metadata": {
    "ExecuteTime": {
     "end_time": "2025-01-03T18:14:27.811228Z",
     "start_time": "2025-01-03T18:14:27.799703Z"
    }
   },
   "cell_type": "code",
   "source": "spark",
   "id": "b0f68aeba6c979df",
   "outputs": [
    {
     "data": {
      "text/plain": [
       "<pyspark.sql.session.SparkSession at 0x2cf2a0ef150>"
      ],
      "text/html": [
       "\n",
       "            <div>\n",
       "                <p><b>SparkSession - in-memory</b></p>\n",
       "                \n",
       "        <div>\n",
       "            <p><b>SparkContext</b></p>\n",
       "\n",
       "            <p><a href=\"http://Zygimantas:4042\">Spark UI</a></p>\n",
       "\n",
       "            <dl>\n",
       "              <dt>Version</dt>\n",
       "                <dd><code>v3.5.4</code></dd>\n",
       "              <dt>Master</dt>\n",
       "                <dd><code>local[*]</code></dd>\n",
       "              <dt>AppName</dt>\n",
       "                <dd><code>PySparkApp</code></dd>\n",
       "            </dl>\n",
       "        </div>\n",
       "        \n",
       "            </div>\n",
       "        "
      ]
     },
     "execution_count": 8,
     "metadata": {},
     "output_type": "execute_result"
    }
   ],
   "execution_count": 8
  },
  {
   "metadata": {
    "ExecuteTime": {
     "end_time": "2025-01-03T18:14:27.849003Z",
     "start_time": "2025-01-03T18:14:27.826539Z"
    }
   },
   "cell_type": "code",
   "source": [
    "numbers = [1, 2, 3, 4, 5]\n",
    "\n",
    "rdd = spark.sparkContext.parallelize(numbers)"
   ],
   "id": "e8cc0de12279e41f",
   "outputs": [],
   "execution_count": 9
  },
  {
   "metadata": {
    "ExecuteTime": {
     "end_time": "2025-01-03T18:14:27.977955Z",
     "start_time": "2025-01-03T18:14:27.857096Z"
    }
   },
   "cell_type": "code",
   "source": "rdd.collect()",
   "id": "e72b71b95122c70d",
   "outputs": [
    {
     "data": {
      "text/plain": [
       "[1, 2, 3, 4, 5]"
      ]
     },
     "execution_count": 10,
     "metadata": {},
     "output_type": "execute_result"
    }
   ],
   "execution_count": 10
  },
  {
   "metadata": {
    "ExecuteTime": {
     "end_time": "2025-01-03T18:36:31.383961Z",
     "start_time": "2025-01-03T18:36:12.068096Z"
    }
   },
   "cell_type": "code",
   "source": [
    "data = [('Alice', 24), ('Bob', 19), ('Charlie', 32), ('David', 29), ('Eve', 35)]\n",
    "\n",
    "df = spark.createDataFrame(data, [\"name\", \"age\"])\n",
    "df.show()"
   ],
   "id": "96bb4fdc5efc4778",
   "outputs": [
    {
     "name": "stdout",
     "output_type": "stream",
     "text": [
      "+-------+---+\n",
      "|   name|age|\n",
      "+-------+---+\n",
      "|  Alice| 24|\n",
      "|    Bob| 19|\n",
      "|Charlie| 32|\n",
      "|  David| 29|\n",
      "|    Eve| 35|\n",
      "+-------+---+\n",
      "\n"
     ]
    }
   ],
   "execution_count": 5
  },
  {
   "metadata": {},
   "cell_type": "code",
   "outputs": [],
   "execution_count": null,
   "source": "",
   "id": "ff313b75309e1613"
  }
 ],
 "metadata": {
  "kernelspec": {
   "display_name": "Python 3",
   "language": "python",
   "name": "python3"
  },
  "language_info": {
   "codemirror_mode": {
    "name": "ipython",
    "version": 2
   },
   "file_extension": ".py",
   "mimetype": "text/x-python",
   "name": "python",
   "nbconvert_exporter": "python",
   "pygments_lexer": "ipython2",
   "version": "2.7.6"
  }
 },
 "nbformat": 4,
 "nbformat_minor": 5
}
