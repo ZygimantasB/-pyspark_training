{
 "cells": [
  {
   "cell_type": "code",
   "id": "initial_id",
   "metadata": {
    "collapsed": true,
    "ExecuteTime": {
     "end_time": "2025-01-03T18:47:47.132014Z",
     "start_time": "2025-01-03T18:47:47.067669Z"
    }
   },
   "source": [
    "import os\n",
    "from pyspark.sql import SparkSession"
   ],
   "outputs": [],
   "execution_count": 1
  },
  {
   "metadata": {
    "ExecuteTime": {
     "end_time": "2025-01-03T18:47:50.607375Z",
     "start_time": "2025-01-03T18:47:50.602925Z"
    }
   },
   "cell_type": "code",
   "source": [
    "os.environ['SPARK_HOME'] = r'C:\\spark\\spark-3.5.4-bin-hadoop3'\n",
    "os.environ['PYSPARK_DRIVER_PYTHON'] = 'jupyter'\n",
    "os.environ['PYSPARK_DRIVER_PYTHON_OPTS'] = 'lab'\n",
    "os.environ['PYSPARK_PYTHON'] = 'python'"
   ],
   "id": "b9ada993db37d481",
   "outputs": [],
   "execution_count": 2
  },
  {
   "metadata": {
    "ExecuteTime": {
     "end_time": "2025-01-03T18:48:50.019865Z",
     "start_time": "2025-01-03T18:48:44.884333Z"
    }
   },
   "cell_type": "code",
   "source": "spark = SparkSession.builder.appName('RDD-Demo').getOrCreate()",
   "id": "6a31d9dbf1a0cef0",
   "outputs": [],
   "execution_count": 3
  },
  {
   "metadata": {
    "ExecuteTime": {
     "end_time": "2025-01-03T18:49:21.953302Z",
     "start_time": "2025-01-03T18:49:21.723403Z"
    }
   },
   "cell_type": "code",
   "source": [
    "numbers = [1, 2, 3, 4, 5]\n",
    "rdd = spark.sparkContext.parallelize(numbers)"
   ],
   "id": "104948b95420516b",
   "outputs": [],
   "execution_count": 4
  },
  {
   "metadata": {
    "ExecuteTime": {
     "end_time": "2025-01-03T18:49:28.393485Z",
     "start_time": "2025-01-03T18:49:27.479289Z"
    }
   },
   "cell_type": "code",
   "source": "rdd.collect()",
   "id": "191746d0c0bfa7a8",
   "outputs": [
    {
     "data": {
      "text/plain": [
       "[1, 2, 3, 4, 5]"
      ]
     },
     "execution_count": 5,
     "metadata": {},
     "output_type": "execute_result"
    }
   ],
   "execution_count": 5
  },
  {
   "metadata": {
    "ExecuteTime": {
     "end_time": "2025-01-03T18:50:54.281919Z",
     "start_time": "2025-01-03T18:50:54.272797Z"
    }
   },
   "cell_type": "code",
   "source": [
    "data = [('Alice', 25), (\"Bob\", 30), (\"Charlie\", 35), ( \"Alice\", 40)]\n",
    "rdd = spark.sparkContext.parallelize(data)"
   ],
   "id": "66933109df7c5b3e",
   "outputs": [],
   "execution_count": 6
  },
  {
   "metadata": {
    "ExecuteTime": {
     "end_time": "2025-01-03T18:51:05.122240Z",
     "start_time": "2025-01-03T18:51:05.022613Z"
    }
   },
   "cell_type": "code",
   "source": "rdd.collect()",
   "id": "929132c74cc39f51",
   "outputs": [
    {
     "data": {
      "text/plain": [
       "[('Alice', 25), ('Bob', 30), ('Charlie', 35), ('Alice', 40)]"
      ]
     },
     "execution_count": 7,
     "metadata": {},
     "output_type": "execute_result"
    }
   ],
   "execution_count": 7
  },
  {
   "metadata": {
    "ExecuteTime": {
     "end_time": "2025-01-03T18:51:45.545575Z",
     "start_time": "2025-01-03T18:51:29.601348Z"
    }
   },
   "cell_type": "code",
   "source": [
    "count = rdd.count()\n",
    "count"
   ],
   "id": "cd41402e8d80d3a7",
   "outputs": [
    {
     "data": {
      "text/plain": [
       "4"
      ]
     },
     "execution_count": 8,
     "metadata": {},
     "output_type": "execute_result"
    }
   ],
   "execution_count": 8
  },
  {
   "metadata": {
    "ExecuteTime": {
     "end_time": "2025-01-03T18:52:19.754533Z",
     "start_time": "2025-01-03T18:52:03.863918Z"
    }
   },
   "cell_type": "code",
   "source": [
    "first_element = rdd.first()\n",
    "first_element"
   ],
   "id": "7eef7a8f71da17d4",
   "outputs": [
    {
     "data": {
      "text/plain": [
       "('Alice', 25)"
      ]
     },
     "execution_count": 9,
     "metadata": {},
     "output_type": "execute_result"
    }
   ],
   "execution_count": 9
  },
  {
   "metadata": {
    "ExecuteTime": {
     "end_time": "2025-01-03T18:52:45.342597Z",
     "start_time": "2025-01-03T18:52:29.188180Z"
    }
   },
   "cell_type": "code",
   "source": [
    "take_element = rdd.take(2)\n",
    "take_element"
   ],
   "id": "b88bba5f461ae95",
   "outputs": [
    {
     "data": {
      "text/plain": [
       "[('Alice', 25), ('Bob', 30)]"
      ]
     },
     "execution_count": 10,
     "metadata": {},
     "output_type": "execute_result"
    }
   ],
   "execution_count": 10
  },
  {
   "metadata": {
    "ExecuteTime": {
     "end_time": "2025-01-03T18:53:30.053143Z",
     "start_time": "2025-01-03T18:53:14.418305Z"
    }
   },
   "cell_type": "code",
   "source": "rdd.foreach(lambda x: print(x))",
   "id": "a3c85cd993fa99a8",
   "outputs": [],
   "execution_count": 11
  },
  {
   "metadata": {
    "ExecuteTime": {
     "end_time": "2025-01-03T18:54:39.238264Z",
     "start_time": "2025-01-03T18:54:39.234835Z"
    }
   },
   "cell_type": "code",
   "source": "mapped_rdd = rdd.map(lambda x: (x[0].upper(), x[1]))",
   "id": "f1bef88ef0bfd53",
   "outputs": [],
   "execution_count": 12
  },
  {
   "metadata": {
    "ExecuteTime": {
     "end_time": "2025-01-03T18:55:18.041306Z",
     "start_time": "2025-01-03T18:55:03.144809Z"
    }
   },
   "cell_type": "code",
   "source": [
    "result = mapped_rdd.collect()\n",
    "result"
   ],
   "id": "532c01431002b652",
   "outputs": [
    {
     "data": {
      "text/plain": [
       "[('ALICE', 25), ('BOB', 30), ('CHARLIE', 35), ('ALICE', 40)]"
      ]
     },
     "execution_count": 13,
     "metadata": {},
     "output_type": "execute_result"
    }
   ],
   "execution_count": 13
  },
  {
   "metadata": {
    "ExecuteTime": {
     "end_time": "2025-01-03T18:56:06.133245Z",
     "start_time": "2025-01-03T18:55:50.209994Z"
    }
   },
   "cell_type": "code",
   "source": [
    "filtered_rdd = rdd.filter(lambda age: age[1] > 30)\n",
    "filtered_rdd.collect()"
   ],
   "id": "c20da0aeb1e062fd",
   "outputs": [
    {
     "data": {
      "text/plain": [
       "[('Charlie', 35), ('Alice', 40)]"
      ]
     },
     "execution_count": 15,
     "metadata": {},
     "output_type": "execute_result"
    }
   ],
   "execution_count": 15
  },
  {
   "metadata": {
    "ExecuteTime": {
     "end_time": "2025-01-03T18:57:33.154725Z",
     "start_time": "2025-01-03T18:57:01.971480Z"
    }
   },
   "cell_type": "code",
   "source": [
    "reduced_rdd = rdd.reduceByKey(lambda x, y: x + y)\n",
    "reduced_rdd.collect()"
   ],
   "id": "13715d1e33760b8c",
   "outputs": [
    {
     "data": {
      "text/plain": [
       "[('Alice', 65), ('Charlie', 35), ('Bob', 30)]"
      ]
     },
     "execution_count": 16,
     "metadata": {},
     "output_type": "execute_result"
    }
   ],
   "execution_count": 16
  },
  {
   "metadata": {
    "ExecuteTime": {
     "end_time": "2025-01-03T18:58:38.908872Z",
     "start_time": "2025-01-03T18:57:37.096261Z"
    }
   },
   "cell_type": "code",
   "source": [
    "sorted_rdd = rdd.sortBy(lambda age: age[1])\n",
    "sorted_rdd.collect()"
   ],
   "id": "b77ab5c8affa1044",
   "outputs": [
    {
     "data": {
      "text/plain": [
       "[('Alice', 25), ('Bob', 30), ('Charlie', 35), ('Alice', 40)]"
      ]
     },
     "execution_count": 17,
     "metadata": {},
     "output_type": "execute_result"
    }
   ],
   "execution_count": 17
  },
  {
   "metadata": {
    "ExecuteTime": {
     "end_time": "2025-01-03T18:59:56.674557Z",
     "start_time": "2025-01-03T18:59:41.441985Z"
    }
   },
   "cell_type": "code",
   "source": "rdd.saveAsTextFile('output.txt')",
   "id": "7bbbc3461b56cdfc",
   "outputs": [],
   "execution_count": 19
  },
  {
   "metadata": {
    "ExecuteTime": {
     "end_time": "2025-01-03T19:00:09.226090Z",
     "start_time": "2025-01-03T19:00:06.569521Z"
    }
   },
   "cell_type": "code",
   "source": [
    "rdd_text = spark.read.text('output.txt')\n",
    "rdd_text.collect()"
   ],
   "id": "c10030b06eac7bd0",
   "outputs": [
    {
     "data": {
      "text/plain": [
       "[Row(value=\"('Charlie', 35)\"),\n",
       " Row(value=\"('Alice', 25)\"),\n",
       " Row(value=\"('Alice', 40)\"),\n",
       " Row(value=\"('Bob', 30)\")]"
      ]
     },
     "execution_count": 20,
     "metadata": {},
     "output_type": "execute_result"
    }
   ],
   "execution_count": 20
  },
  {
   "metadata": {
    "ExecuteTime": {
     "end_time": "2025-01-03T19:00:38.128469Z",
     "start_time": "2025-01-03T19:00:38.126643Z"
    }
   },
   "cell_type": "code",
   "source": "",
   "id": "98af1f3149c19263",
   "outputs": [],
   "execution_count": null
  }
 ],
 "metadata": {
  "kernelspec": {
   "display_name": "Python 3",
   "language": "python",
   "name": "python3"
  },
  "language_info": {
   "codemirror_mode": {
    "name": "ipython",
    "version": 2
   },
   "file_extension": ".py",
   "mimetype": "text/x-python",
   "name": "python",
   "nbconvert_exporter": "python",
   "pygments_lexer": "ipython2",
   "version": "2.7.6"
  }
 },
 "nbformat": 4,
 "nbformat_minor": 5
}
