{
 "cells": [
  {
   "metadata": {},
   "cell_type": "markdown",
   "source": "# https://www.youtube.com/watch?v=JB98Loobc7k&list=PL2IsFZBGM_IHCl9zhRVC1EXTomkEp_1zm&index=21",
   "id": "b9ca723fc6a10054"
  },
  {
   "metadata": {
    "ExecuteTime": {
     "end_time": "2025-01-25T08:43:53.184410Z",
     "start_time": "2025-01-25T08:43:53.021790Z"
    }
   },
   "cell_type": "code",
   "source": [
    "from pyspark.sql import SparkSession\n",
    "import pyspark.sql.functions as F\n",
    "import os"
   ],
   "id": "c681bb914db8b52c",
   "outputs": [],
   "execution_count": 1
  },
  {
   "metadata": {
    "ExecuteTime": {
     "end_time": "2025-01-25T08:43:53.191345Z",
     "start_time": "2025-01-25T08:43:53.187415Z"
    }
   },
   "cell_type": "code",
   "source": [
    "os.environ['SPARK_HOME'] = r'C:\\spark\\spark-3.5.4-bin-hadoop3'\n",
    "os.environ['PYSPARK_DRIVER_PYTHON'] = 'jupyter'\n",
    "os.environ['PYSPARK_DRIVER_PYTHON_OPTS'] = 'lab'\n",
    "os.environ['PYSPARK_PYTHON'] = 'python'"
   ],
   "id": "f5f3df696eb45970",
   "outputs": [],
   "execution_count": 2
  },
  {
   "metadata": {
    "ExecuteTime": {
     "end_time": "2025-01-25T08:43:57.235508Z",
     "start_time": "2025-01-25T08:43:53.374741Z"
    }
   },
   "cell_type": "code",
   "source": [
    "spark = (\n",
    "    SparkSession\n",
    "    .builder\n",
    "    .appName(\"PySpark Zero to Hero\")\n",
    "    .master(\"local[*]\")\n",
    "    .config(\"spark.executor.memory\", \"16g\")\n",
    "    .config(\"spark.driver.memory\", \"16g\")\n",
    "    .config(\"spark.executor.cores\", \"4\")\n",
    "    .config(\"spark.sql.shuffle.partitions\", \"80\")\n",
    "    .config(\"spark.dynamicAllocation.enabled\", \"true\")\n",
    "    .config(\"spark.dynamicAllocation.minExecutors\", \"2\")\n",
    "    .config(\"spark.dynamicAllocation.initialExecutors\", \"24\")\n",
    "    .config(\"spark.dynamicAllocation.maxExecutors\", \"50\")\n",
    "    .config(\"spark.shuffle.service.enabled\", \"true\")\n",
    "    .config(\"spark.serializer\", \"org.apache.spark.serializer.KryoSerializer\")\n",
    "    .getOrCreate()\n",
    ")"
   ],
   "id": "d2a7461dbcb1b54a",
   "outputs": [],
   "execution_count": 3
  },
  {
   "metadata": {
    "ExecuteTime": {
     "end_time": "2025-01-25T08:58:49.923116Z",
     "start_time": "2025-01-25T08:58:49.893395Z"
    }
   },
   "cell_type": "code",
   "source": [
    "df_path = r'F:\\DataSpell\\-pyspark_training\\YouTube\\PySpark - Zero to Hero\\datasets\\employee_records.csv'\n",
    "\n",
    "_schema = \"first_name string, last_name string, job_title string, dob string, email string, phone string, salary double, department_id int\"\n",
    "\n",
    "emp = spark.read.format(\"csv\").schema(_schema).option(\"header\", True).load(df_path)"
   ],
   "id": "5fc82ef2ec48b6a1",
   "outputs": [],
   "execution_count": 5
  },
  {
   "metadata": {
    "ExecuteTime": {
     "end_time": "2025-01-25T08:59:35.219596Z",
     "start_time": "2025-01-25T08:59:35.216144Z"
    }
   },
   "cell_type": "code",
   "source": [
    "dept_names = {1 : 'Department 1',\n",
    "              2 : 'Department 2',\n",
    "              3 : 'Department 3',\n",
    "              4 : 'Department 4',\n",
    "              5 : 'Department 5',\n",
    "              6 : 'Department 6',\n",
    "              7 : 'Department 7',\n",
    "              8 : 'Department 8',\n",
    "              9 : 'Department 9',\n",
    "              10 : 'Department 10'}"
   ],
   "id": "d515c1d98efdd7f9",
   "outputs": [],
   "execution_count": 6
  },
  {
   "metadata": {
    "ExecuteTime": {
     "end_time": "2025-01-25T08:59:39.958832Z",
     "start_time": "2025-01-25T08:59:39.667281Z"
    }
   },
   "cell_type": "code",
   "source": "broadcast_dept_names = spark.sparkContext.broadcast(dept_names)",
   "id": "787fcb08894da6e1",
   "outputs": [],
   "execution_count": 7
  },
  {
   "metadata": {
    "ExecuteTime": {
     "end_time": "2025-01-25T09:00:01.076896Z",
     "start_time": "2025-01-25T09:00:01.071169Z"
    }
   },
   "cell_type": "code",
   "source": "type(broadcast_dept_names)",
   "id": "4554464a15a61f7f",
   "outputs": [
    {
     "data": {
      "text/plain": [
       "pyspark.broadcast.Broadcast"
      ]
     },
     "execution_count": 8,
     "metadata": {},
     "output_type": "execute_result"
    }
   ],
   "execution_count": 8
  },
  {
   "metadata": {
    "ExecuteTime": {
     "end_time": "2025-01-25T09:02:35.309046Z",
     "start_time": "2025-01-25T09:02:35.305188Z"
    }
   },
   "cell_type": "code",
   "source": [
    "@F.udf\n",
    "def get_dept_names(dept_id):\n",
    "    return broadcast_dept_names.value.get(dept_id)"
   ],
   "id": "18c2da5dc3be6f87",
   "outputs": [],
   "execution_count": 11
  },
  {
   "metadata": {
    "ExecuteTime": {
     "end_time": "2025-01-25T09:02:35.827106Z",
     "start_time": "2025-01-25T09:02:35.797892Z"
    }
   },
   "cell_type": "code",
   "source": "emp_final = emp.withColumn('dept_name', get_dept_names(F.col('department_id')))",
   "id": "3583dd6bf7fbc55a",
   "outputs": [],
   "execution_count": 12
  },
  {
   "metadata": {
    "ExecuteTime": {
     "end_time": "2025-01-25T09:07:17.738065Z",
     "start_time": "2025-01-25T09:07:16.837916Z"
    }
   },
   "cell_type": "code",
   "source": "emp_final.show(5)",
   "id": "eb85b36b5a30cae1",
   "outputs": [
    {
     "name": "stdout",
     "output_type": "stream",
     "text": [
      "+----------+---------+--------------------+----------+--------------------+------------------+--------+-------------+-------------+\n",
      "|first_name|last_name|           job_title|       dob|               email|             phone|  salary|department_id|    dept_name|\n",
      "+----------+---------+--------------------+----------+--------------------+------------------+--------+-------------+-------------+\n",
      "|   Richard| Morrison|Public relations ...|1973-05-05|melissagarcia@exa...|     (699)525-4827|512653.0|            8| Department 8|\n",
      "|     Bobby| Mccarthy|   Barrister's clerk|1974-04-25|   llara@example.net|(750)846-1602x7458|999836.0|            7| Department 7|\n",
      "|    Dennis|   Norman|Land/geomatics su...|1990-06-24| jturner@example.net|  873.820.0518x825|131900.0|           10|Department 10|\n",
      "|      John|   Monroe|        Retail buyer|1968-06-16|  erik33@example.net|  820-813-0557x624|485506.0|            1| Department 1|\n",
      "|  Michelle|  Elliott|      Air cabin crew|1975-03-31|tiffanyjohnston@e...|     (705)900-5337|604738.0|            8| Department 8|\n",
      "+----------+---------+--------------------+----------+--------------------+------------------+--------+-------------+-------------+\n",
      "only showing top 5 rows\n",
      "\n"
     ]
    }
   ],
   "execution_count": 14
  },
  {
   "metadata": {
    "ExecuteTime": {
     "end_time": "2025-01-25T09:12:08.899258Z",
     "start_time": "2025-01-25T09:12:08.176897Z"
    }
   },
   "cell_type": "code",
   "source": [
    "emp.where('department_id == 6').groupBy(\n",
    "    F.col('department_id')\n",
    ").agg(\n",
    "    F.sum('salary')\n",
    ").show()"
   ],
   "id": "2fcd0b5c32af86b6",
   "outputs": [
    {
     "name": "stdout",
     "output_type": "stream",
     "text": [
      "+-------------+---------------+\n",
      "|department_id|    sum(salary)|\n",
      "+-------------+---------------+\n",
      "|            6|5.0294510721E10|\n",
      "+-------------+---------------+\n",
      "\n"
     ]
    }
   ],
   "execution_count": 17
  },
  {
   "metadata": {
    "ExecuteTime": {
     "end_time": "2025-01-25T09:11:03.115583Z",
     "start_time": "2025-01-25T09:10:45.980739Z"
    }
   },
   "cell_type": "code",
   "source": [
    "emp_final.cache().filter(\n",
    "    emp_final['dept_name'] == 'Department 6'\n",
    ").groupBy(\n",
    "    F.col('dept_name')\n",
    ").agg(\n",
    "    F.sum('salary')\n",
    ").show()"
   ],
   "id": "e4f11ce88cc58e6e",
   "outputs": [
    {
     "name": "stdout",
     "output_type": "stream",
     "text": [
      "+------------+---------------+\n",
      "|   dept_name|    sum(salary)|\n",
      "+------------+---------------+\n",
      "|Department 6|5.0294510721E10|\n",
      "+------------+---------------+\n",
      "\n"
     ]
    }
   ],
   "execution_count": 16
  },
  {
   "metadata": {
    "ExecuteTime": {
     "end_time": "2025-01-25T09:14:26.837742Z",
     "start_time": "2025-01-25T09:14:26.833417Z"
    }
   },
   "cell_type": "code",
   "source": "dept_sal = spark.sparkContext.accumulator(0)",
   "id": "36f22b3efd8036de",
   "outputs": [],
   "execution_count": 18
  },
  {
   "metadata": {
    "ExecuteTime": {
     "end_time": "2025-01-25T09:19:08.562443Z",
     "start_time": "2025-01-25T09:18:51.143168Z"
    }
   },
   "cell_type": "code",
   "source": [
    "def calculate_salary(department_id, salary):\n",
    "    if department_id == 6:\n",
    "        dept_sal.add(salary)\n",
    "\n",
    "emp.foreach(lambda row: calculate_salary(row.department_id, row.salary))"
   ],
   "id": "1bfac10a7e3659c5",
   "outputs": [],
   "execution_count": 19
  },
  {
   "metadata": {
    "ExecuteTime": {
     "end_time": "2025-01-25T09:19:08.575512Z",
     "start_time": "2025-01-25T09:19:08.569880Z"
    }
   },
   "cell_type": "code",
   "source": "dept_sal.value",
   "id": "bee4da709ec3e007",
   "outputs": [
    {
     "data": {
      "text/plain": [
       "50294510721.0"
      ]
     },
     "execution_count": 20,
     "metadata": {},
     "output_type": "execute_result"
    }
   ],
   "execution_count": 20
  },
  {
   "metadata": {
    "ExecuteTime": {
     "end_time": "2025-01-25T09:20:00.108911Z",
     "start_time": "2025-01-25T09:19:59.375940Z"
    }
   },
   "cell_type": "code",
   "source": "spark.stop()",
   "id": "6d46e2bf24709f2d",
   "outputs": [],
   "execution_count": 21
  },
  {
   "metadata": {},
   "cell_type": "code",
   "outputs": [],
   "execution_count": null,
   "source": "",
   "id": "b14de27421642f88"
  }
 ],
 "metadata": {
  "kernelspec": {
   "display_name": "Python 3",
   "language": "python",
   "name": "python3"
  },
  "language_info": {
   "codemirror_mode": {
    "name": "ipython",
    "version": 2
   },
   "file_extension": ".py",
   "mimetype": "text/x-python",
   "name": "python",
   "nbconvert_exporter": "python",
   "pygments_lexer": "ipython2",
   "version": "2.7.6"
  }
 },
 "nbformat": 4,
 "nbformat_minor": 5
}
