{
 "cells": [
  {
   "metadata": {},
   "cell_type": "markdown",
   "source": "# https://www.youtube.com/watch?v=2oaTQl1YzCw&list=PL2IsFZBGM_IHCl9zhRVC1EXTomkEp_1zm&index=24",
   "id": "7ff027ce00f9767b"
  },
  {
   "metadata": {
    "ExecuteTime": {
     "end_time": "2025-01-27T18:36:07.051545Z",
     "start_time": "2025-01-27T18:36:06.882289Z"
    }
   },
   "cell_type": "code",
   "source": [
    "from pyspark.sql import SparkSession\n",
    "import pyspark.sql.functions as F\n",
    "import os"
   ],
   "id": "c681bb914db8b52c",
   "outputs": [],
   "execution_count": 1
  },
  {
   "metadata": {
    "ExecuteTime": {
     "end_time": "2025-01-27T18:36:07.059063Z",
     "start_time": "2025-01-27T18:36:07.056057Z"
    }
   },
   "cell_type": "code",
   "source": [
    "os.environ['SPARK_HOME'] = r'C:\\spark\\spark-3.5.4-bin-hadoop3'\n",
    "os.environ['PYSPARK_DRIVER_PYTHON'] = 'jupyter'\n",
    "os.environ['PYSPARK_DRIVER_PYTHON_OPTS'] = 'lab'\n",
    "os.environ['PYSPARK_PYTHON'] = 'python'"
   ],
   "id": "f5f3df696eb45970",
   "outputs": [],
   "execution_count": 2
  },
  {
   "metadata": {
    "ExecuteTime": {
     "end_time": "2025-01-27T18:36:11.043146Z",
     "start_time": "2025-01-27T18:36:07.234396Z"
    }
   },
   "cell_type": "code",
   "source": [
    "spark = (\n",
    "    SparkSession\n",
    "    .builder\n",
    "    .appName(\"PySpark Zero to Hero\")\n",
    "    .master(\"local[*]\")\n",
    "    .config(\"spark.executor.memory\", \"16g\")\n",
    "    .config(\"spark.driver.memory\", \"16g\")\n",
    "    .config(\"spark.executor.cores\", \"4\")\n",
    "    .config(\"spark.sql.shuffle.partitions\", \"80\")\n",
    "    .config(\"spark.dynamicAllocation.enabled\", \"true\")\n",
    "    .config(\"spark.dynamicAllocation.minExecutors\", \"2\")\n",
    "    .config(\"spark.dynamicAllocation.initialExecutors\", \"24\")\n",
    "    .config(\"spark.dynamicAllocation.maxExecutors\", \"50\")\n",
    "    .config('spark.dynamicAllocation.shuffleTrackingEnabled', 'true')\n",
    "    .config('spark.dynamicAllocation.executorIdleTimeout', '60')\n",
    "    .config(\"spark.shuffle.service.enabled\", \"true\")\n",
    "    .config(\"spark.serializer\", \"org.apache.spark.serializer.KryoSerializer\")\n",
    "    .getOrCreate()\n",
    ")"
   ],
   "id": "d2a7461dbcb1b54a",
   "outputs": [],
   "execution_count": 3
  },
  {
   "metadata": {
    "ExecuteTime": {
     "end_time": "2025-01-27T18:38:17.599265Z",
     "start_time": "2025-01-27T18:38:16.054738Z"
    }
   },
   "cell_type": "code",
   "source": [
    "sales_schema = \"transacted_at string, trx_id string, retailer_id string, description string, amount double, city_id string\"\n",
    "\n",
    "sales_path = r'F:\\DataSpell\\-pyspark_training\\YouTube\\PySpark - Zero to Hero\\datasets\\new_sales.csv'\n",
    "\n",
    "sales = spark.read.format(\"csv\").schema(sales_schema).option(\"header\", True).load(sales_path)"
   ],
   "id": "46746e967dd8af35",
   "outputs": [],
   "execution_count": 4
  },
  {
   "metadata": {
    "ExecuteTime": {
     "end_time": "2025-01-27T18:38:17.628179Z",
     "start_time": "2025-01-27T18:38:17.603406Z"
    }
   },
   "cell_type": "code",
   "source": [
    "city_schema = \"city_id string, city string, state string, state_abv string, country string\"\n",
    "\n",
    "cities_path = r'F:\\DataSpell\\-pyspark_training\\YouTube\\PySpark - Zero to Hero\\datasets\\cities.csv'\n",
    "\n",
    "city = spark.read.format('csv').schema(city_schema).option('header', True).load(cities_path)"
   ],
   "id": "d4eb431bcae07e94",
   "outputs": [],
   "execution_count": 5
  },
  {
   "metadata": {
    "ExecuteTime": {
     "end_time": "2025-01-27T18:38:17.707868Z",
     "start_time": "2025-01-27T18:38:17.674353Z"
    }
   },
   "cell_type": "code",
   "source": [
    "df_path = r'F:\\DataSpell\\-pyspark_training\\YouTube\\PySpark - Zero to Hero\\datasets\\employee_records.csv'\n",
    "\n",
    "_schema = \"first_name string, last_name string, job_title string, dob string, email string, phone string, salary double, department_id int\"\n",
    "\n",
    "emp = spark.read.format(\"csv\").schema(_schema).option(\"header\", True).load(df_path)"
   ],
   "id": "e10afd97fdf479cb",
   "outputs": [],
   "execution_count": 6
  },
  {
   "metadata": {
    "ExecuteTime": {
     "end_time": "2025-01-27T18:47:40.047868Z",
     "start_time": "2025-01-27T18:47:40.020552Z"
    }
   },
   "cell_type": "code",
   "source": [
    "dept_path = r'F:\\DataSpell\\-pyspark_training\\YouTube\\PySpark - Zero to Hero\\datasets\\department_data.csv'\n",
    "\n",
    "_dept_schema = \"department_id int, department_name string, description string, city string, state string, country string\"\n",
    "\n",
    "dept = spark.read.format(\"csv\").schema(_dept_schema).option(\"header\", True).load(df_path)"
   ],
   "id": "87c33121ba2b085e",
   "outputs": [],
   "execution_count": 12
  },
  {
   "metadata": {
    "ExecuteTime": {
     "end_time": "2025-01-27T18:47:43.387331Z",
     "start_time": "2025-01-27T18:47:41.530139Z"
    }
   },
   "cell_type": "code",
   "source": [
    "df_joined = emp.join(dept, on=emp['department_id'] == dept['department_id'], how='left_outer')\n",
    "df_joined.write.format('noop').mode('overwrite').save()"
   ],
   "id": "bb964d5d6eadf2c9",
   "outputs": [],
   "execution_count": 13
  },
  {
   "metadata": {
    "ExecuteTime": {
     "end_time": "2025-01-27T18:47:43.405198Z",
     "start_time": "2025-01-27T18:47:43.391337Z"
    }
   },
   "cell_type": "code",
   "source": "df_sales_joined = sales.join(city, on=sales['city_id'] == city['city_id'], how='left_outer')",
   "id": "b66aa6c34d2f261b",
   "outputs": [],
   "execution_count": 14
  },
  {
   "metadata": {
    "ExecuteTime": {
     "end_time": "2025-01-27T18:49:23.883661Z",
     "start_time": "2025-01-27T18:49:23.820442Z"
    }
   },
   "cell_type": "code",
   "source": [
    "part_df = df_joined.withColumn(\n",
    "    'partition_num', F.spark_partition_id()\n",
    ").groupBy(\n",
    "    'partition_num'\n",
    ").agg(\n",
    "    F.count(F.lit(1)).alias('count')\n",
    ")"
   ],
   "id": "c0e2ed12f15bddc4",
   "outputs": [],
   "execution_count": 15
  },
  {
   "metadata": {
    "ExecuteTime": {
     "end_time": "2025-01-27T18:49:30.137802Z",
     "start_time": "2025-01-27T18:49:27.683905Z"
    }
   },
   "cell_type": "code",
   "source": "part_df.show()",
   "id": "4cfb728dc2e66d79",
   "outputs": [
    {
     "name": "stdout",
     "output_type": "stream",
     "text": [
      "+-------------+-----+\n",
      "|partition_num|count|\n",
      "+-------------+-----+\n",
      "|            0|43487|\n",
      "|            1|43466|\n",
      "|            2|43468|\n",
      "|            3|43466|\n",
      "|            4|43462|\n",
      "|            5|43478|\n",
      "|            6|43425|\n",
      "|            7|43478|\n",
      "|            8|43497|\n",
      "|            9|43429|\n",
      "|           10|43479|\n",
      "|           11|43485|\n",
      "|           12|43494|\n",
      "|           13|43450|\n",
      "|           14|43440|\n",
      "|           15|43482|\n",
      "|           16|43445|\n",
      "|           17|43476|\n",
      "|           18|43414|\n",
      "|           19|43459|\n",
      "+-------------+-----+\n",
      "only showing top 20 rows\n",
      "\n"
     ]
    }
   ],
   "execution_count": 16
  },
  {
   "metadata": {
    "ExecuteTime": {
     "end_time": "2025-01-27T18:51:33.935355Z",
     "start_time": "2025-01-27T18:51:33.267464Z"
    }
   },
   "cell_type": "code",
   "source": "emp.groupBy('department_id').agg(F.count(F.lit(1)).alias('count')).show()",
   "id": "757d7d3b2c9440fc",
   "outputs": [
    {
     "name": "stdout",
     "output_type": "stream",
     "text": [
      "+-------------+------+\n",
      "|department_id| count|\n",
      "+-------------+------+\n",
      "|           10| 99780|\n",
      "|            1| 99451|\n",
      "|            6| 99706|\n",
      "|            9|100014|\n",
      "|            7| 99805|\n",
      "|            3|100248|\n",
      "|            2|100155|\n",
      "|            4|100214|\n",
      "|            8|100417|\n",
      "|            5|100210|\n",
      "+-------------+------+\n",
      "\n"
     ]
    }
   ],
   "execution_count": 17
  },
  {
   "metadata": {
    "ExecuteTime": {
     "end_time": "2025-01-27T19:03:38.503093Z",
     "start_time": "2025-01-27T19:03:38.416818Z"
    }
   },
   "cell_type": "code",
   "source": [
    "import pyspark.sql.functions as F\n",
    "\n",
    "salt_df = spark.range(0, 16).withColumnRenamed(\"id\", \"salt_id\")\n",
    "\n",
    "salted_emp = emp.withColumn(\n",
    "    'salted_dept_id',\n",
    "    F.concat(F.col('department_id'), F.lit('-'), (F.rand() * 16).cast('int'))\n",
    ")\n",
    "\n",
    "salted_emp.show()\n",
    "\n",
    "dept = dept.withColumnRenamed(\"department_id\", \"dept_id\")\n",
    "salted_dept = dept.crossJoin(salt_df).withColumn(\n",
    "    'salted_dept_id',\n",
    "    F.concat(F.col('dept_id'), F.lit('-'), F.col('salt_id'))\n",
    ")"
   ],
   "id": "93e9231dfa488353",
   "outputs": [
    {
     "name": "stdout",
     "output_type": "stream",
     "text": [
      "+----------+----------+--------------------+----------+--------------------+--------------------+--------+-------------+--------------+\n",
      "|first_name| last_name|           job_title|       dob|               email|               phone|  salary|department_id|salted_dept_id|\n",
      "+----------+----------+--------------------+----------+--------------------+--------------------+--------+-------------+--------------+\n",
      "|   Richard|  Morrison|Public relations ...|1973-05-05|melissagarcia@exa...|       (699)525-4827|512653.0|            8|           8-1|\n",
      "|     Bobby|  Mccarthy|   Barrister's clerk|1974-04-25|   llara@example.net|  (750)846-1602x7458|999836.0|            7|           7-7|\n",
      "|    Dennis|    Norman|Land/geomatics su...|1990-06-24| jturner@example.net|    873.820.0518x825|131900.0|           10|         10-14|\n",
      "|      John|    Monroe|        Retail buyer|1968-06-16|  erik33@example.net|    820-813-0557x624|485506.0|            1|           1-5|\n",
      "|  Michelle|   Elliott|      Air cabin crew|1975-03-31|tiffanyjohnston@e...|       (705)900-5337|604738.0|            8|           8-9|\n",
      "|    Ashley|   Montoya|        Cartographer|1976-01-16|patrickalexandra@...|        211.440.5466|483339.0|            6|          6-14|\n",
      "| Nathaniel|     Smith|     Quality manager|1985-06-28|  lori44@example.net|        936-403-3179|419644.0|            7|          7-13|\n",
      "|     Faith|  Cummings|Industrial/produc...|1978-07-01| ygordon@example.org|       (889)246-5588|205939.0|            7|           7-1|\n",
      "|  Margaret|    Sutton|Administrator, ed...|1975-08-16| diana44@example.net|001-647-530-5036x...|671167.0|            8|           8-4|\n",
      "|      Mary|    Sutton|   Freight forwarder|1979-12-28|  ryan36@example.com|   422.562.7254x3159|993829.0|            7|           7-6|\n",
      "|      Jake|      King|       Lexicographer|1994-07-11|monica93@example.org|+1-535-652-9715x6...|702101.0|            4|           4-5|\n",
      "|   Heather|     Haley|         Music tutor|1981-06-01|stephanie65@examp...|   (652)815-7973x298|570960.0|            6|          6-11|\n",
      "|    Thomas|    Thomas|Chartered managem...|2001-07-17|pwilliams@example...|001-245-848-0028x...|339441.0|            6|          6-11|\n",
      "|   Leonard|   Carlson|       Art therapist|1990-10-18|gabrielmurray@exa...|          9247590563|469728.0|            8|           8-1|\n",
      "|      Mark|      Wood|   Market researcher|1963-10-13|nicholas76@exampl...|   311.439.1606x3342|582291.0|            4|           4-5|\n",
      "|    Tracey|Washington|Travel agency man...|1986-05-07|  mark07@example.com|    001-912-206-6456|146456.0|            4|           4-4|\n",
      "|   Rachael| Rodriguez|         Media buyer|1966-12-02|griffinmary@examp...| +1-791-344-7586x548|544732.0|            1|           1-8|\n",
      "|      Tara|       Liu|   Financial adviser|1998-10-12|alexandraobrien@e...|        216.696.6061|399503.0|            3|          3-13|\n",
      "|       Ana|    Joseph|      Retail manager|1995-01-10|  rmorse@example.org|  (726)363-7526x9965|761988.0|           10|          10-9|\n",
      "|   Richard|      Hall|Engineer, civil (...|1967-03-02|brandoncardenas@e...| (964)451-9007x22496|660659.0|            4|           4-5|\n",
      "+----------+----------+--------------------+----------+--------------------+--------------------+--------+-------------+--------------+\n",
      "only showing top 20 rows\n",
      "\n"
     ]
    }
   ],
   "execution_count": 28
  },
  {
   "metadata": {
    "ExecuteTime": {
     "end_time": "2025-01-27T19:03:38.914805Z",
     "start_time": "2025-01-27T19:03:38.795479Z"
    }
   },
   "cell_type": "code",
   "source": "salted_dept.show()",
   "id": "86f7febfe9ece50e",
   "outputs": [
    {
     "name": "stdout",
     "output_type": "stream",
     "text": [
      "+-------+---------------+--------------------+----------+--------------------+------------------+-------+--------------+\n",
      "|dept_id|department_name|         description|      city|               state|           country|salt_id|salted_dept_id|\n",
      "+-------+---------------+--------------------+----------+--------------------+------------------+-------+--------------+\n",
      "|   NULL|       Morrison|Public relations ...|1973-05-05|melissagarcia@exa...|     (699)525-4827|      0|          NULL|\n",
      "|   NULL|       Morrison|Public relations ...|1973-05-05|melissagarcia@exa...|     (699)525-4827|      1|          NULL|\n",
      "|   NULL|       Morrison|Public relations ...|1973-05-05|melissagarcia@exa...|     (699)525-4827|      2|          NULL|\n",
      "|   NULL|       Morrison|Public relations ...|1973-05-05|melissagarcia@exa...|     (699)525-4827|      3|          NULL|\n",
      "|   NULL|       Morrison|Public relations ...|1973-05-05|melissagarcia@exa...|     (699)525-4827|      4|          NULL|\n",
      "|   NULL|       Morrison|Public relations ...|1973-05-05|melissagarcia@exa...|     (699)525-4827|      5|          NULL|\n",
      "|   NULL|       Morrison|Public relations ...|1973-05-05|melissagarcia@exa...|     (699)525-4827|      6|          NULL|\n",
      "|   NULL|       Morrison|Public relations ...|1973-05-05|melissagarcia@exa...|     (699)525-4827|      7|          NULL|\n",
      "|   NULL|       Morrison|Public relations ...|1973-05-05|melissagarcia@exa...|     (699)525-4827|      8|          NULL|\n",
      "|   NULL|       Morrison|Public relations ...|1973-05-05|melissagarcia@exa...|     (699)525-4827|      9|          NULL|\n",
      "|   NULL|       Morrison|Public relations ...|1973-05-05|melissagarcia@exa...|     (699)525-4827|     10|          NULL|\n",
      "|   NULL|       Morrison|Public relations ...|1973-05-05|melissagarcia@exa...|     (699)525-4827|     11|          NULL|\n",
      "|   NULL|       Morrison|Public relations ...|1973-05-05|melissagarcia@exa...|     (699)525-4827|     12|          NULL|\n",
      "|   NULL|       Morrison|Public relations ...|1973-05-05|melissagarcia@exa...|     (699)525-4827|     13|          NULL|\n",
      "|   NULL|       Morrison|Public relations ...|1973-05-05|melissagarcia@exa...|     (699)525-4827|     14|          NULL|\n",
      "|   NULL|       Morrison|Public relations ...|1973-05-05|melissagarcia@exa...|     (699)525-4827|     15|          NULL|\n",
      "|   NULL|       Mccarthy|   Barrister's clerk|1974-04-25|   llara@example.net|(750)846-1602x7458|      0|          NULL|\n",
      "|   NULL|       Mccarthy|   Barrister's clerk|1974-04-25|   llara@example.net|(750)846-1602x7458|      1|          NULL|\n",
      "|   NULL|       Mccarthy|   Barrister's clerk|1974-04-25|   llara@example.net|(750)846-1602x7458|      2|          NULL|\n",
      "|   NULL|       Mccarthy|   Barrister's clerk|1974-04-25|   llara@example.net|(750)846-1602x7458|      3|          NULL|\n",
      "+-------+---------------+--------------------+----------+--------------------+------------------+-------+--------------+\n",
      "only showing top 20 rows\n",
      "\n"
     ]
    }
   ],
   "execution_count": 29
  },
  {
   "metadata": {
    "ExecuteTime": {
     "end_time": "2025-01-27T19:08:13.539096Z",
     "start_time": "2025-01-27T19:08:12.606026Z"
    }
   },
   "cell_type": "code",
   "source": "spark.stop()",
   "id": "f387dfec73e1254f",
   "outputs": [],
   "execution_count": 30
  },
  {
   "metadata": {},
   "cell_type": "code",
   "outputs": [],
   "execution_count": null,
   "source": "",
   "id": "e0204f3ae0a04f7e"
  }
 ],
 "metadata": {
  "kernelspec": {
   "display_name": "Python 3",
   "language": "python",
   "name": "python3"
  },
  "language_info": {
   "codemirror_mode": {
    "name": "ipython",
    "version": 2
   },
   "file_extension": ".py",
   "mimetype": "text/x-python",
   "name": "python",
   "nbconvert_exporter": "python",
   "pygments_lexer": "ipython2",
   "version": "2.7.6"
  }
 },
 "nbformat": 4,
 "nbformat_minor": 5
}
