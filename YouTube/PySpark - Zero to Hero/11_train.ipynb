{
 "cells": [
  {
   "metadata": {},
   "cell_type": "markdown",
   "source": "# https://www.youtube.com/watch?v=dn0ijC_SSfo&list=PL2IsFZBGM_IHCl9zhRVC1EXTomkEp_1zm&index=15",
   "id": "7282bef60d8250c3"
  },
  {
   "metadata": {
    "ExecuteTime": {
     "end_time": "2025-01-21T19:07:30.748683Z",
     "start_time": "2025-01-21T19:07:30.536249Z"
    }
   },
   "cell_type": "code",
   "source": [
    "from pyspark.sql import SparkSession\n",
    "import pyspark.sql.functions as F\n",
    "import os"
   ],
   "id": "c681bb914db8b52c",
   "outputs": [],
   "execution_count": 1
  },
  {
   "metadata": {
    "ExecuteTime": {
     "end_time": "2025-01-21T19:07:30.758325Z",
     "start_time": "2025-01-21T19:07:30.754202Z"
    }
   },
   "cell_type": "code",
   "source": [
    "os.environ['SPARK_HOME'] = r'C:\\spark\\spark-3.5.4-bin-hadoop3'\n",
    "os.environ['PYSPARK_DRIVER_PYTHON'] = 'jupyter'\n",
    "os.environ['PYSPARK_DRIVER_PYTHON_OPTS'] = 'lab'\n",
    "os.environ['PYSPARK_PYTHON'] = 'python'"
   ],
   "id": "f5f3df696eb45970",
   "outputs": [],
   "execution_count": 2
  },
  {
   "metadata": {
    "ExecuteTime": {
     "end_time": "2025-01-21T19:07:34.979580Z",
     "start_time": "2025-01-21T19:07:30.951372Z"
    }
   },
   "cell_type": "code",
   "source": [
    "spark = (\n",
    "    SparkSession\n",
    "    .builder\n",
    "    .appName(\"PySpark Zero to Hero\")\n",
    "    .master(\"local[*]\")\n",
    "    .config(\"spark.executor.memory\", \"16g\")\n",
    "    .config(\"spark.driver.memory\", \"16g\")\n",
    "    .config(\"spark.executor.cores\", \"4\")\n",
    "    .config(\"spark.sql.shuffle.partitions\", \"80\")\n",
    "    .config(\"spark.dynamicAllocation.enabled\", \"true\")\n",
    "    .config(\"spark.dynamicAllocation.minExecutors\", \"2\")\n",
    "    .config(\"spark.dynamicAllocation.initialExecutors\", \"24\")\n",
    "    .config(\"spark.dynamicAllocation.maxExecutors\", \"50\")\n",
    "    .config(\"spark.shuffle.service.enabled\", \"true\")\n",
    "    .config(\"spark.serializer\", \"org.apache.spark.serializer.KryoSerializer\")\n",
    "    .getOrCreate()\n",
    ")"
   ],
   "id": "d2a7461dbcb1b54a",
   "outputs": [],
   "execution_count": 3
  },
  {
   "metadata": {
    "ExecuteTime": {
     "end_time": "2025-01-21T19:17:41.024371Z",
     "start_time": "2025-01-21T19:17:41.018346Z"
    }
   },
   "cell_type": "code",
   "source": [
    "emp_data = [\n",
    "    [\"001\",\"101\",\"John Doe\",\"30\",\"Male\",\"50000\",\"2015-01-01\"],\n",
    "    [\"002\",\"101\",\"Jane Smith\",\"25\",\"Female\",\"45000\",\"2016-02-15\"],\n",
    "    [\"003\",\"102\",\"Bob Brown\",\"35\",\"Male\",\"55000\",\"2014-05-01\"],\n",
    "    [\"004\",\"102\",\"Alice Lee\",\"28\",\"Female\",\"48000\",\"2017-09-30\"],\n",
    "    [\"005\",\"103\",\"Jack Chan\",\"40\",\"Male\",\"60000\",\"2013-04-01\"],\n",
    "    [\"006\",\"103\",\"Jill Wong\",\"32\",\"Female\",\"52000\",\"2018-07-01\"],\n",
    "    [\"007\",\"101\",\"James Johnson\",\"42\",\"Male\",\"70000\",\"2012-03-15\"],\n",
    "    [\"008\",\"102\",\"Kate Kim\",\"29\",\"Female\",\"51000\",\"2019-10-01\"],\n",
    "    [\"009\",\"103\",\"Tom Tan\",\"33\",\"Male\",\"58000\",\"2016-06-01\"],\n",
    "    [\"010\",\"104\",\"Lisa Lee\",\"27\",\"Female\",\"47000\",\"2018-08-01\"],\n",
    "    [\"011\",\"104\",\"David Park\",\"38\",\"Male\",\"65000\",\"2015-11-01\"],\n",
    "    [\"012\",\"105\",\"Susan Chen\",\"31\",\"Female\",\"54000\",\"2017-02-15\"],\n",
    "    [\"013\",\"106\",\"Brian Kim\",\"45\",\"Male\",\"75000\",\"2011-07-01\"],\n",
    "    [\"014\",\"107\",\"Emily Lee\",\"26\",\"Female\",\"46000\",\"2019-01-01\"],\n",
    "    [\"015\",\"106\",\"Michael Lee\",\"37\",\"Male\",\"63000\",\"2014-09-30\"],\n",
    "    [\"016\",\"107\",\"Kelly Zhang\",\"30\",\"Female\",\"49000\",\"2018-04-01\"],\n",
    "    [\"017\",\"105\",\"George Wang\",\"34\",\"Male\",\"57000\",\"2016-03-15\"],\n",
    "    [\"018\",\"104\",\"Nancy Liu\",\"29\",\"Female\",\"50000\",\"2017-06-01\"],\n",
    "    [\"019\",\"103\",\"Steven Chen\",\"36\",\"Male\",\"62000\",\"2015-08-01\"],\n",
    "    [\"020\",\"102\",\"Grace Kim\",\"32\",\"Female\",\"53000\",\"2018-11-01\"]\n",
    "]"
   ],
   "id": "ebcb95bd2e1cd92",
   "outputs": [],
   "execution_count": 7
  },
  {
   "metadata": {
    "ExecuteTime": {
     "end_time": "2025-01-21T19:17:53.499553Z",
     "start_time": "2025-01-21T19:17:51.513147Z"
    }
   },
   "cell_type": "code",
   "source": [
    "emp_schema = \"employee_id string, department_id string, name string, age string, gender string, salary string, hire_date string\"\n",
    "emp = spark.createDataFrame(data=emp_data, schema=emp_schema)"
   ],
   "id": "5c45ed83eac20f9c",
   "outputs": [],
   "execution_count": 8
  },
  {
   "metadata": {
    "ExecuteTime": {
     "end_time": "2025-01-21T19:09:36.740999Z",
     "start_time": "2025-01-21T19:09:36.734429Z"
    }
   },
   "cell_type": "code",
   "source": "spark.sparkContext.defaultParallelism",
   "id": "622481ac3caba8f2",
   "outputs": [
    {
     "data": {
      "text/plain": [
       "24"
      ]
     },
     "execution_count": 4,
     "metadata": {},
     "output_type": "execute_result"
    }
   ],
   "execution_count": 4
  },
  {
   "metadata": {
    "ExecuteTime": {
     "end_time": "2025-01-21T19:18:05.778889Z",
     "start_time": "2025-01-21T19:18:05.185182Z"
    }
   },
   "cell_type": "code",
   "source": "emp.rdd.getNumPartitions()",
   "id": "b4893be76a29eddf",
   "outputs": [
    {
     "data": {
      "text/plain": [
       "24"
      ]
     },
     "execution_count": 9,
     "metadata": {},
     "output_type": "execute_result"
    }
   ],
   "execution_count": 9
  },
  {
   "metadata": {
    "ExecuteTime": {
     "end_time": "2025-01-21T19:19:16.229203Z",
     "start_time": "2025-01-21T19:18:55.756172Z"
    }
   },
   "cell_type": "code",
   "source": "emp.show()",
   "id": "e90bac7c43963fc7",
   "outputs": [
    {
     "name": "stdout",
     "output_type": "stream",
     "text": [
      "+-----------+-------------+-------------+---+------+------+----------+\n",
      "|employee_id|department_id|         name|age|gender|salary| hire_date|\n",
      "+-----------+-------------+-------------+---+------+------+----------+\n",
      "|        001|          101|     John Doe| 30|  Male| 50000|2015-01-01|\n",
      "|        002|          101|   Jane Smith| 25|Female| 45000|2016-02-15|\n",
      "|        003|          102|    Bob Brown| 35|  Male| 55000|2014-05-01|\n",
      "|        004|          102|    Alice Lee| 28|Female| 48000|2017-09-30|\n",
      "|        005|          103|    Jack Chan| 40|  Male| 60000|2013-04-01|\n",
      "|        006|          103|    Jill Wong| 32|Female| 52000|2018-07-01|\n",
      "|        007|          101|James Johnson| 42|  Male| 70000|2012-03-15|\n",
      "|        008|          102|     Kate Kim| 29|Female| 51000|2019-10-01|\n",
      "|        009|          103|      Tom Tan| 33|  Male| 58000|2016-06-01|\n",
      "|        010|          104|     Lisa Lee| 27|Female| 47000|2018-08-01|\n",
      "|        011|          104|   David Park| 38|  Male| 65000|2015-11-01|\n",
      "|        012|          105|   Susan Chen| 31|Female| 54000|2017-02-15|\n",
      "|        013|          106|    Brian Kim| 45|  Male| 75000|2011-07-01|\n",
      "|        014|          107|    Emily Lee| 26|Female| 46000|2019-01-01|\n",
      "|        015|          106|  Michael Lee| 37|  Male| 63000|2014-09-30|\n",
      "|        016|          107|  Kelly Zhang| 30|Female| 49000|2018-04-01|\n",
      "|        017|          105|  George Wang| 34|  Male| 57000|2016-03-15|\n",
      "|        018|          104|    Nancy Liu| 29|Female| 50000|2017-06-01|\n",
      "|        019|          103|  Steven Chen| 36|  Male| 62000|2015-08-01|\n",
      "|        020|          102|    Grace Kim| 32|Female| 53000|2018-11-01|\n",
      "+-----------+-------------+-------------+---+------+------+----------+\n",
      "\n"
     ]
    }
   ],
   "execution_count": 10
  },
  {
   "metadata": {
    "ExecuteTime": {
     "end_time": "2025-01-21T19:20:35.139720Z",
     "start_time": "2025-01-21T19:20:16.997992Z"
    }
   },
   "cell_type": "code",
   "source": "emp.write.format('parquet').save('data/emp.parquet')",
   "id": "6ae334002fa6d67f",
   "outputs": [],
   "execution_count": 11
  },
  {
   "metadata": {
    "ExecuteTime": {
     "end_time": "2025-01-21T19:22:01.120192Z",
     "start_time": "2025-01-21T19:21:44.094192Z"
    }
   },
   "cell_type": "code",
   "source": [
    "emp.withColumn(\n",
    "    'partition_id', F.spark_partition_id()\n",
    ").show()"
   ],
   "id": "2d02018d5b063099",
   "outputs": [
    {
     "name": "stdout",
     "output_type": "stream",
     "text": [
      "+-----------+-------------+-------------+---+------+------+----------+------------+\n",
      "|employee_id|department_id|         name|age|gender|salary| hire_date|partition_id|\n",
      "+-----------+-------------+-------------+---+------+------+----------+------------+\n",
      "|        001|          101|     John Doe| 30|  Male| 50000|2015-01-01|           1|\n",
      "|        002|          101|   Jane Smith| 25|Female| 45000|2016-02-15|           2|\n",
      "|        003|          102|    Bob Brown| 35|  Male| 55000|2014-05-01|           3|\n",
      "|        004|          102|    Alice Lee| 28|Female| 48000|2017-09-30|           4|\n",
      "|        005|          103|    Jack Chan| 40|  Male| 60000|2013-04-01|           5|\n",
      "|        006|          103|    Jill Wong| 32|Female| 52000|2018-07-01|           7|\n",
      "|        007|          101|James Johnson| 42|  Male| 70000|2012-03-15|           8|\n",
      "|        008|          102|     Kate Kim| 29|Female| 51000|2019-10-01|           9|\n",
      "|        009|          103|      Tom Tan| 33|  Male| 58000|2016-06-01|          10|\n",
      "|        010|          104|     Lisa Lee| 27|Female| 47000|2018-08-01|          11|\n",
      "|        011|          104|   David Park| 38|  Male| 65000|2015-11-01|          13|\n",
      "|        012|          105|   Susan Chen| 31|Female| 54000|2017-02-15|          14|\n",
      "|        013|          106|    Brian Kim| 45|  Male| 75000|2011-07-01|          15|\n",
      "|        014|          107|    Emily Lee| 26|Female| 46000|2019-01-01|          16|\n",
      "|        015|          106|  Michael Lee| 37|  Male| 63000|2014-09-30|          17|\n",
      "|        016|          107|  Kelly Zhang| 30|Female| 49000|2018-04-01|          19|\n",
      "|        017|          105|  George Wang| 34|  Male| 57000|2016-03-15|          20|\n",
      "|        018|          104|    Nancy Liu| 29|Female| 50000|2017-06-01|          21|\n",
      "|        019|          103|  Steven Chen| 36|  Male| 62000|2015-08-01|          22|\n",
      "|        020|          102|    Grace Kim| 32|Female| 53000|2018-11-01|          23|\n",
      "+-----------+-------------+-------------+---+------+------+----------+------------+\n",
      "\n"
     ]
    }
   ],
   "execution_count": 13
  },
  {
   "metadata": {
    "ExecuteTime": {
     "end_time": "2025-01-21T19:23:03.715156Z",
     "start_time": "2025-01-21T19:22:46.592028Z"
    }
   },
   "cell_type": "code",
   "source": "emp.write.format('csv').option('header', True).save('data/emp.csv')",
   "id": "b2feb4c6972776c8",
   "outputs": [],
   "execution_count": 14
  },
  {
   "metadata": {
    "ExecuteTime": {
     "end_time": "2025-01-21T19:25:00.493757Z",
     "start_time": "2025-01-21T19:24:43.139819Z"
    }
   },
   "cell_type": "code",
   "source": "emp.write.format('csv').partitionBy('department_id').option('header', True).save('data/emp_partitioned.csv')",
   "id": "39c16412ea82e480",
   "outputs": [],
   "execution_count": 15
  },
  {
   "metadata": {
    "ExecuteTime": {
     "end_time": "2025-01-21T19:29:43.995471Z",
     "start_time": "2025-01-21T19:29:26.705762Z"
    }
   },
   "cell_type": "code",
   "source": "emp.repartition(1).write.format('csv').option('header', True).save('data/emp_repartitioned.csv')",
   "id": "5fb685b29c81e43a",
   "outputs": [],
   "execution_count": 16
  },
  {
   "metadata": {
    "ExecuteTime": {
     "end_time": "2025-01-21T19:30:20.149050Z",
     "start_time": "2025-01-21T19:30:19.393065Z"
    }
   },
   "cell_type": "code",
   "source": "spark.stop()",
   "id": "bb7a565e8089162b",
   "outputs": [],
   "execution_count": 17
  }
 ],
 "metadata": {
  "kernelspec": {
   "display_name": "Python 3",
   "language": "python",
   "name": "python3"
  },
  "language_info": {
   "codemirror_mode": {
    "name": "ipython",
    "version": 2
   },
   "file_extension": ".py",
   "mimetype": "text/x-python",
   "name": "python",
   "nbconvert_exporter": "python",
   "pygments_lexer": "ipython2",
   "version": "2.7.6"
  }
 },
 "nbformat": 4,
 "nbformat_minor": 5
}
