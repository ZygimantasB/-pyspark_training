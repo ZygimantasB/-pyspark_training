{
 "cells": [
  {
   "metadata": {},
   "cell_type": "markdown",
   "source": "# https://www.youtube.com/watch?v=PHVFDgk3lok&list=PL2IsFZBGM_IHCl9zhRVC1EXTomkEp_1zm&index=20",
   "id": "bf63b064483f0db8"
  },
  {
   "metadata": {
    "ExecuteTime": {
     "end_time": "2025-01-24T16:44:13.684649Z",
     "start_time": "2025-01-24T16:44:13.262435Z"
    }
   },
   "cell_type": "code",
   "source": [
    "from pyspark.sql import SparkSession\n",
    "import pyspark.sql.functions as F\n",
    "import os"
   ],
   "id": "c681bb914db8b52c",
   "outputs": [],
   "execution_count": 1
  },
  {
   "metadata": {
    "ExecuteTime": {
     "end_time": "2025-01-24T16:44:13.693166Z",
     "start_time": "2025-01-24T16:44:13.688655Z"
    }
   },
   "cell_type": "code",
   "source": [
    "os.environ['SPARK_HOME'] = r'C:\\spark\\spark-3.5.4-bin-hadoop3'\n",
    "os.environ['PYSPARK_DRIVER_PYTHON'] = 'jupyter'\n",
    "os.environ['PYSPARK_DRIVER_PYTHON_OPTS'] = 'lab'\n",
    "os.environ['PYSPARK_PYTHON'] = 'python'"
   ],
   "id": "f5f3df696eb45970",
   "outputs": [],
   "execution_count": 2
  },
  {
   "metadata": {
    "ExecuteTime": {
     "end_time": "2025-01-24T16:44:18.844397Z",
     "start_time": "2025-01-24T16:44:13.960390Z"
    }
   },
   "cell_type": "code",
   "source": [
    "spark = (\n",
    "    SparkSession\n",
    "    .builder\n",
    "    .appName(\"PySpark Zero to Hero\")\n",
    "    .master(\"local[*]\")\n",
    "    .config(\"spark.executor.memory\", \"16g\")\n",
    "    .config(\"spark.driver.memory\", \"16g\")\n",
    "    .config(\"spark.executor.cores\", \"4\")\n",
    "    .config(\"spark.sql.shuffle.partitions\", \"80\")\n",
    "    .config(\"spark.dynamicAllocation.enabled\", \"true\")\n",
    "    .config(\"spark.dynamicAllocation.minExecutors\", \"2\")\n",
    "    .config(\"spark.dynamicAllocation.initialExecutors\", \"24\")\n",
    "    .config(\"spark.dynamicAllocation.maxExecutors\", \"50\")\n",
    "    .config(\"spark.shuffle.service.enabled\", \"true\")\n",
    "    .config(\"spark.serializer\", \"org.apache.spark.serializer.KryoSerializer\")\n",
    "    .getOrCreate()\n",
    ")"
   ],
   "id": "d2a7461dbcb1b54a",
   "outputs": [],
   "execution_count": 3
  },
  {
   "metadata": {
    "ExecuteTime": {
     "end_time": "2025-01-24T16:44:18.869743Z",
     "start_time": "2025-01-24T16:44:18.865931Z"
    }
   },
   "cell_type": "code",
   "source": "df_path = r'F:\\DataSpell\\-pyspark_training\\YouTube\\PySpark - Zero to Hero\\datasets\\employee_records.csv'",
   "id": "a8272d80dbbb14ef",
   "outputs": [],
   "execution_count": 4
  },
  {
   "metadata": {
    "ExecuteTime": {
     "end_time": "2025-01-24T16:57:04.349576Z",
     "start_time": "2025-01-24T16:57:04.292950Z"
    }
   },
   "cell_type": "code",
   "source": [
    "_schema = \"first_name string, last_name string, job_title string, dob string, email string, phone string, salary double, department_id int\"\n",
    "\n",
    "emp = spark.read.format('csv').schema(_schema).option('header', True).load(df_path)"
   ],
   "id": "5e6014df1c3c8a7e",
   "outputs": [],
   "execution_count": 11
  },
  {
   "metadata": {
    "ExecuteTime": {
     "end_time": "2025-01-24T16:57:13.471716Z",
     "start_time": "2025-01-24T16:57:13.466937Z"
    }
   },
   "cell_type": "code",
   "source": "df.rdd.getNumPartitions()",
   "id": "c2282e176e0b11ba",
   "outputs": [
    {
     "data": {
      "text/plain": [
       "24"
      ]
     },
     "execution_count": 12,
     "metadata": {},
     "output_type": "execute_result"
    }
   ],
   "execution_count": 12
  },
  {
   "metadata": {
    "ExecuteTime": {
     "end_time": "2025-01-24T16:57:13.792533Z",
     "start_time": "2025-01-24T16:57:13.788149Z"
    }
   },
   "cell_type": "code",
   "source": "spark.sparkContext.defaultParallelism",
   "id": "5bdf8605b7d0632a",
   "outputs": [
    {
     "data": {
      "text/plain": [
       "24"
      ]
     },
     "execution_count": 13,
     "metadata": {},
     "output_type": "execute_result"
    }
   ],
   "execution_count": 13
  },
  {
   "metadata": {
    "ExecuteTime": {
     "end_time": "2025-01-24T16:58:13.388992Z",
     "start_time": "2025-01-24T16:58:12.616272Z"
    }
   },
   "cell_type": "code",
   "source": [
    "emp_avg = emp.groupBy(\n",
    "    'department_id'\n",
    ").agg(\n",
    "    F.avg('salary').alias('avg_salary')\n",
    ")\n",
    "\n",
    "emp_avg.show()"
   ],
   "id": "e5a25c935033bca4",
   "outputs": [
    {
     "name": "stdout",
     "output_type": "stream",
     "text": [
      "+-------------+------------------+\n",
      "|department_id|        avg_salary|\n",
      "+-------------+------------------+\n",
      "|           10| 502682.2575766687|\n",
      "|            1|504876.96401242825|\n",
      "|            6|504428.12590014644|\n",
      "|            9| 504945.3055672206|\n",
      "|            7|504514.38453985273|\n",
      "|            3| 504697.6808514883|\n",
      "|            2| 503563.2174529479|\n",
      "|            4| 505419.4963977089|\n",
      "|            8| 505299.1226286386|\n",
      "|            5| 504167.9429997006|\n",
      "+-------------+------------------+\n",
      "\n"
     ]
    }
   ],
   "execution_count": 16
  },
  {
   "metadata": {
    "ExecuteTime": {
     "end_time": "2025-01-24T17:00:17.465681Z",
     "start_time": "2025-01-24T17:00:16.614470Z"
    }
   },
   "cell_type": "code",
   "source": "emp_avg.write.format('noop').mode('overwrite').save()",
   "id": "2f345175569b5dbd",
   "outputs": [],
   "execution_count": 20
  },
  {
   "metadata": {
    "ExecuteTime": {
     "end_time": "2025-01-24T17:47:03.688911Z",
     "start_time": "2025-01-24T17:47:03.683590Z"
    }
   },
   "cell_type": "code",
   "source": "spark.conf.get('spark.sql.shuffle.partitions')",
   "id": "bafedd8972d8f632",
   "outputs": [
    {
     "data": {
      "text/plain": [
       "'80'"
      ]
     },
     "execution_count": 26,
     "metadata": {},
     "output_type": "execute_result"
    }
   ],
   "execution_count": 26
  },
  {
   "metadata": {
    "ExecuteTime": {
     "end_time": "2025-01-24T17:52:03.261857Z",
     "start_time": "2025-01-24T17:52:03.140098Z"
    }
   },
   "cell_type": "code",
   "source": [
    "emp.withColumn(\n",
    "    'partition_id', F.spark_partition_id()\n",
    ").where('partition_id = 0').show(5)"
   ],
   "id": "805aa870fd1dbfa9",
   "outputs": [
    {
     "name": "stdout",
     "output_type": "stream",
     "text": [
      "+----------+---------+--------------------+----------+--------------------+------------------+--------+-------------+------------+\n",
      "|first_name|last_name|           job_title|       dob|               email|             phone|  salary|department_id|partition_id|\n",
      "+----------+---------+--------------------+----------+--------------------+------------------+--------+-------------+------------+\n",
      "|   Richard| Morrison|Public relations ...|1973-05-05|melissagarcia@exa...|     (699)525-4827|512653.0|            8|           0|\n",
      "|     Bobby| Mccarthy|   Barrister's clerk|1974-04-25|   llara@example.net|(750)846-1602x7458|999836.0|            7|           0|\n",
      "|    Dennis|   Norman|Land/geomatics su...|1990-06-24| jturner@example.net|  873.820.0518x825|131900.0|           10|           0|\n",
      "|      John|   Monroe|        Retail buyer|1968-06-16|  erik33@example.net|  820-813-0557x624|485506.0|            1|           0|\n",
      "|  Michelle|  Elliott|      Air cabin crew|1975-03-31|tiffanyjohnston@e...|     (705)900-5337|604738.0|            8|           0|\n",
      "+----------+---------+--------------------+----------+--------------------+------------------+--------+-------------+------------+\n",
      "only showing top 5 rows\n",
      "\n"
     ]
    }
   ],
   "execution_count": 29
  },
  {
   "metadata": {
    "ExecuteTime": {
     "end_time": "2025-01-24T17:58:29.191118Z",
     "start_time": "2025-01-24T17:58:29.167090Z"
    }
   },
   "cell_type": "code",
   "source": "emp_part = spark.read.format('csv').schema(_schema).option('header', True).load(df_path)",
   "id": "7dfa23aa40c46c",
   "outputs": [],
   "execution_count": 30
  },
  {
   "metadata": {
    "ExecuteTime": {
     "end_time": "2025-01-24T17:59:26.624893Z",
     "start_time": "2025-01-24T17:59:26.607903Z"
    }
   },
   "cell_type": "code",
   "source": [
    "emp_avg = emp_part.groupBy(\n",
    "    'department_id'\n",
    ").agg(\n",
    "    F.avg('salary').alias('avg_salary')\n",
    ")"
   ],
   "id": "baffa47d3a7b795f",
   "outputs": [],
   "execution_count": 31
  },
  {
   "metadata": {
    "ExecuteTime": {
     "end_time": "2025-01-24T17:59:27.793684Z",
     "start_time": "2025-01-24T17:59:27.155055Z"
    }
   },
   "cell_type": "code",
   "source": "emp_avg.write.format('noop').mode('overwrite').save()",
   "id": "7c5d915154bbcc1c",
   "outputs": [],
   "execution_count": 32
  },
  {
   "metadata": {
    "ExecuteTime": {
     "end_time": "2025-01-24T18:02:44.939736Z",
     "start_time": "2025-01-24T18:02:44.310773Z"
    }
   },
   "cell_type": "code",
   "source": "spark.stop()",
   "id": "344c7ecb1d53ffc1",
   "outputs": [],
   "execution_count": 33
  }
 ],
 "metadata": {
  "kernelspec": {
   "display_name": "Python 3",
   "language": "python",
   "name": "python3"
  },
  "language_info": {
   "codemirror_mode": {
    "name": "ipython",
    "version": 2
   },
   "file_extension": ".py",
   "mimetype": "text/x-python",
   "name": "python",
   "nbconvert_exporter": "python",
   "pygments_lexer": "ipython2",
   "version": "2.7.6"
  }
 },
 "nbformat": 4,
 "nbformat_minor": 5
}
