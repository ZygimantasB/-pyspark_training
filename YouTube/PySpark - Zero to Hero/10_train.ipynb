{
 "cells": [
  {
   "metadata": {},
   "cell_type": "markdown",
   "source": "# https://www.youtube.com/watch?v=FLrCwoy5Z6c&list=PL2IsFZBGM_IHCl9zhRVC1EXTomkEp_1zm&index=14",
   "id": "7372d96374120b61"
  },
  {
   "metadata": {
    "ExecuteTime": {
     "end_time": "2025-01-21T18:42:20.215735Z",
     "start_time": "2025-01-21T18:42:20.054489Z"
    }
   },
   "cell_type": "code",
   "source": [
    "from pyspark.sql import SparkSession\n",
    "import pyspark.sql.functions as F\n",
    "import os"
   ],
   "id": "c681bb914db8b52c",
   "outputs": [],
   "execution_count": 1
  },
  {
   "metadata": {
    "ExecuteTime": {
     "end_time": "2025-01-21T18:42:20.229536Z",
     "start_time": "2025-01-21T18:42:20.225538Z"
    }
   },
   "cell_type": "code",
   "source": [
    "os.environ['SPARK_HOME'] = r'C:\\spark\\spark-3.5.4-bin-hadoop3'\n",
    "os.environ['PYSPARK_DRIVER_PYTHON'] = 'jupyter'\n",
    "os.environ['PYSPARK_DRIVER_PYTHON_OPTS'] = 'lab'\n",
    "os.environ['PYSPARK_PYTHON'] = 'python'"
   ],
   "id": "f5f3df696eb45970",
   "outputs": [],
   "execution_count": 2
  },
  {
   "metadata": {
    "ExecuteTime": {
     "end_time": "2025-01-21T18:42:24.150286Z",
     "start_time": "2025-01-21T18:42:20.233560Z"
    }
   },
   "cell_type": "code",
   "source": [
    "spark = (\n",
    "    SparkSession\n",
    "    .builder\n",
    "    .appName(\"PySpark Zero to Hero\")\n",
    "    .master(\"local[*]\")\n",
    "    .config(\"spark.executor.memory\", \"16g\")\n",
    "    .config(\"spark.driver.memory\", \"16g\")\n",
    "    .config(\"spark.executor.cores\", \"4\")\n",
    "    .config(\"spark.sql.shuffle.partitions\", \"80\")\n",
    "    .config(\"spark.dynamicAllocation.enabled\", \"true\")\n",
    "    .config(\"spark.dynamicAllocation.minExecutors\", \"2\")\n",
    "    .config(\"spark.dynamicAllocation.initialExecutors\", \"24\")\n",
    "    .config(\"spark.dynamicAllocation.maxExecutors\", \"50\")\n",
    "    .config(\"spark.shuffle.service.enabled\", \"true\")\n",
    "    .config(\"spark.serializer\", \"org.apache.spark.serializer.KryoSerializer\")\n",
    "    .getOrCreate()\n",
    ")"
   ],
   "id": "d2a7461dbcb1b54a",
   "outputs": [],
   "execution_count": 3
  },
  {
   "metadata": {
    "ExecuteTime": {
     "end_time": "2025-01-21T18:45:30.625163Z",
     "start_time": "2025-01-21T18:45:26.755191Z"
    }
   },
   "cell_type": "code",
   "source": [
    "df_single_path = r'F:\\DataSpell\\-pyspark_training\\YouTube\\PySpark - Zero to Hero\\datasets\\order_singleline.json'\n",
    "df_single = spark.read.format('json').load(df_single_path)"
   ],
   "id": "66f2696eca8189db",
   "outputs": [],
   "execution_count": 4
  },
  {
   "metadata": {
    "ExecuteTime": {
     "end_time": "2025-01-21T18:46:25.963862Z",
     "start_time": "2025-01-21T18:46:25.878306Z"
    }
   },
   "cell_type": "code",
   "source": "df_single.show(truncate=False)",
   "id": "e8dbae4f27bf80b1",
   "outputs": [
    {
     "name": "stdout",
     "output_type": "stream",
     "text": [
      "+------------------------+-----------+--------+------------------------------------+\n",
      "|contact                 |customer_id|order_id|order_line_items                    |\n",
      "+------------------------+-----------+--------+------------------------------------+\n",
      "|[9000010000, 9000010001]|C001       |O101    |[{102.45, I001, 6}, {2.01, I003, 2}]|\n",
      "+------------------------+-----------+--------+------------------------------------+\n",
      "\n"
     ]
    }
   ],
   "execution_count": 6
  },
  {
   "metadata": {
    "ExecuteTime": {
     "end_time": "2025-01-21T18:47:53.545498Z",
     "start_time": "2025-01-21T18:47:53.385701Z"
    }
   },
   "cell_type": "code",
   "source": [
    "df_multi_path = r'F:\\DataSpell\\-pyspark_training\\YouTube\\PySpark - Zero to Hero\\datasets\\order_multiline.json'\n",
    "df_multi = spark.read.format('json').option('multiline', True).load(df_multi_path)"
   ],
   "id": "c07052bbd874cf06",
   "outputs": [],
   "execution_count": 9
  },
  {
   "metadata": {
    "ExecuteTime": {
     "end_time": "2025-01-21T18:47:59.336156Z",
     "start_time": "2025-01-21T18:47:59.272029Z"
    }
   },
   "cell_type": "code",
   "source": "df_multi.show(truncate=False)",
   "id": "2de6a639734ca849",
   "outputs": [
    {
     "name": "stdout",
     "output_type": "stream",
     "text": [
      "+------------------------+-----------+--------+------------------------------------+\n",
      "|contact                 |customer_id|order_id|order_line_items                    |\n",
      "+------------------------+-----------+--------+------------------------------------+\n",
      "|[9000010000, 9000010001]|C001       |O101    |[{102.45, I001, 6}, {2.01, I003, 2}]|\n",
      "+------------------------+-----------+--------+------------------------------------+\n",
      "\n"
     ]
    }
   ],
   "execution_count": 11
  },
  {
   "metadata": {
    "ExecuteTime": {
     "end_time": "2025-01-21T18:49:51.053369Z",
     "start_time": "2025-01-21T18:49:51.033861Z"
    }
   },
   "cell_type": "code",
   "source": "df = spark.read.format('text').load(df_single_path)",
   "id": "7cee6d91545d51db",
   "outputs": [],
   "execution_count": 12
  },
  {
   "metadata": {
    "ExecuteTime": {
     "end_time": "2025-01-21T18:50:05.419867Z",
     "start_time": "2025-01-21T18:50:05.361229Z"
    }
   },
   "cell_type": "code",
   "source": "df.show(truncate=False)",
   "id": "8c547913a8c1a29b",
   "outputs": [
    {
     "name": "stdout",
     "output_type": "stream",
     "text": [
      "+-----------------------------------------------------------------------------------------------------------------------------------------------------------------------------------+\n",
      "|value                                                                                                                                                                              |\n",
      "+-----------------------------------------------------------------------------------------------------------------------------------------------------------------------------------+\n",
      "|{\"order_id\":\"O101\",\"customer_id\":\"C001\",\"order_line_items\":[{\"item_id\":\"I001\",\"qty\":6,\"amount\":102.45},{\"item_id\":\"I003\",\"qty\":2,\"amount\":2.01}],\"contact\":[9000010000,9000010001]}|\n",
      "+-----------------------------------------------------------------------------------------------------------------------------------------------------------------------------------+\n",
      "\n"
     ]
    }
   ],
   "execution_count": 14
  },
  {
   "metadata": {
    "ExecuteTime": {
     "end_time": "2025-01-21T18:51:04.130372Z",
     "start_time": "2025-01-21T18:51:04.126126Z"
    }
   },
   "cell_type": "code",
   "source": "_schema = 'customer_id string, order_id string, contact array<long>'",
   "id": "4059268908a39cb7",
   "outputs": [],
   "execution_count": 15
  },
  {
   "metadata": {
    "ExecuteTime": {
     "end_time": "2025-01-21T18:51:25.261228Z",
     "start_time": "2025-01-21T18:51:25.220329Z"
    }
   },
   "cell_type": "code",
   "source": "df_schema = spark.read.format('json').schema(_schema).load(df_single_path)",
   "id": "1b5078ed99df1ca4",
   "outputs": [],
   "execution_count": 16
  },
  {
   "metadata": {
    "ExecuteTime": {
     "end_time": "2025-01-21T18:51:42.535451Z",
     "start_time": "2025-01-21T18:51:42.481132Z"
    }
   },
   "cell_type": "code",
   "source": "df_schema.show(truncate=False)",
   "id": "61d0e277ba360695",
   "outputs": [
    {
     "name": "stdout",
     "output_type": "stream",
     "text": [
      "+-----------+--------+------------------------+\n",
      "|customer_id|order_id|contact                 |\n",
      "+-----------+--------+------------------------+\n",
      "|C001       |O101    |[9000010000, 9000010001]|\n",
      "+-----------+--------+------------------------+\n",
      "\n"
     ]
    }
   ],
   "execution_count": 18
  },
  {
   "metadata": {
    "ExecuteTime": {
     "end_time": "2025-01-21T18:54:11.826441Z",
     "start_time": "2025-01-21T18:54:11.821923Z"
    }
   },
   "cell_type": "code",
   "source": "_schema = \"contact array<string>, customer_id string, order_id string, order_line_items array<struct<amount double, item_id string, qty long>>\"",
   "id": "3872a4f9d9b56e3c",
   "outputs": [],
   "execution_count": 19
  },
  {
   "metadata": {
    "ExecuteTime": {
     "end_time": "2025-01-21T18:54:46.514595Z",
     "start_time": "2025-01-21T18:54:46.491750Z"
    }
   },
   "cell_type": "code",
   "source": "df_schema_new = spark.read.format('json').schema(_schema).load(df_single_path)",
   "id": "f56fae5eff95110e",
   "outputs": [],
   "execution_count": 21
  },
  {
   "metadata": {
    "ExecuteTime": {
     "end_time": "2025-01-21T18:54:59.337131Z",
     "start_time": "2025-01-21T18:54:59.276485Z"
    }
   },
   "cell_type": "code",
   "source": "df_schema_new.show(truncate=False)",
   "id": "9c6755ad52184b4f",
   "outputs": [
    {
     "name": "stdout",
     "output_type": "stream",
     "text": [
      "+------------------------+-----------+--------+------------------------------------+\n",
      "|contact                 |customer_id|order_id|order_line_items                    |\n",
      "+------------------------+-----------+--------+------------------------------------+\n",
      "|[9000010000, 9000010001]|C001       |O101    |[{102.45, I001, 6}, {2.01, I003, 2}]|\n",
      "+------------------------+-----------+--------+------------------------------------+\n",
      "\n"
     ]
    }
   ],
   "execution_count": 23
  },
  {
   "metadata": {
    "ExecuteTime": {
     "end_time": "2025-01-21T18:55:38.856213Z",
     "start_time": "2025-01-21T18:55:38.852771Z"
    }
   },
   "cell_type": "code",
   "source": "_schema = \"contact array<string>, customer_id string, order_id string, order_line_items array<struct<amount double, item_id string, qty long>>\"",
   "id": "7faee71a2298a929",
   "outputs": [],
   "execution_count": 24
  },
  {
   "metadata": {
    "ExecuteTime": {
     "end_time": "2025-01-21T18:56:15.569325Z",
     "start_time": "2025-01-21T18:56:15.515237Z"
    }
   },
   "cell_type": "code",
   "source": [
    "df_expanded = df.withColumn(\n",
    "    'parsed', F.from_json(F.col('value'), _schema)\n",
    ")"
   ],
   "id": "9899bb309a94bf75",
   "outputs": [],
   "execution_count": 25
  },
  {
   "metadata": {
    "ExecuteTime": {
     "end_time": "2025-01-21T18:56:32.403690Z",
     "start_time": "2025-01-21T18:56:32.351386Z"
    }
   },
   "cell_type": "code",
   "source": "df_expanded.show(truncate=False)",
   "id": "cad2424cb1a88f0e",
   "outputs": [
    {
     "name": "stdout",
     "output_type": "stream",
     "text": [
      "+-----------------------------------------------------------------------------------------------------------------------------------------------------------------------------------+----------------------------------------------------------------------------+\n",
      "|value                                                                                                                                                                              |parsed                                                                      |\n",
      "+-----------------------------------------------------------------------------------------------------------------------------------------------------------------------------------+----------------------------------------------------------------------------+\n",
      "|{\"order_id\":\"O101\",\"customer_id\":\"C001\",\"order_line_items\":[{\"item_id\":\"I001\",\"qty\":6,\"amount\":102.45},{\"item_id\":\"I003\",\"qty\":2,\"amount\":2.01}],\"contact\":[9000010000,9000010001]}|{[9000010000, 9000010001], C001, O101, [{102.45, I001, 6}, {2.01, I003, 2}]}|\n",
      "+-----------------------------------------------------------------------------------------------------------------------------------------------------------------------------------+----------------------------------------------------------------------------+\n",
      "\n"
     ]
    }
   ],
   "execution_count": 27
  },
  {
   "metadata": {
    "ExecuteTime": {
     "end_time": "2025-01-21T18:57:59.702159Z",
     "start_time": "2025-01-21T18:57:59.674196Z"
    }
   },
   "cell_type": "code",
   "source": [
    "df_unparsed = df_expanded.withColumn(\n",
    "    'unparsed', F.to_json(df_expanded['parsed'])\n",
    ")"
   ],
   "id": "5dcb51640474aedf",
   "outputs": [],
   "execution_count": 28
  },
  {
   "metadata": {
    "ExecuteTime": {
     "end_time": "2025-01-21T18:58:04.470879Z",
     "start_time": "2025-01-21T18:58:04.361297Z"
    }
   },
   "cell_type": "code",
   "source": "df_unparsed.show(truncate=False)",
   "id": "943695c9c93e7713",
   "outputs": [
    {
     "name": "stdout",
     "output_type": "stream",
     "text": [
      "+-----------------------------------------------------------------------------------------------------------------------------------------------------------------------------------+----------------------------------------------------------------------------+---------------------------------------------------------------------------------------------------------------------------------------------------------------------------------------+\n",
      "|value                                                                                                                                                                              |parsed                                                                      |unparsed                                                                                                                                                                               |\n",
      "+-----------------------------------------------------------------------------------------------------------------------------------------------------------------------------------+----------------------------------------------------------------------------+---------------------------------------------------------------------------------------------------------------------------------------------------------------------------------------+\n",
      "|{\"order_id\":\"O101\",\"customer_id\":\"C001\",\"order_line_items\":[{\"item_id\":\"I001\",\"qty\":6,\"amount\":102.45},{\"item_id\":\"I003\",\"qty\":2,\"amount\":2.01}],\"contact\":[9000010000,9000010001]}|{[9000010000, 9000010001], C001, O101, [{102.45, I001, 6}, {2.01, I003, 2}]}|{\"contact\":[\"9000010000\",\"9000010001\"],\"customer_id\":\"C001\",\"order_id\":\"O101\",\"order_line_items\":[{\"amount\":102.45,\"item_id\":\"I001\",\"qty\":6},{\"amount\":2.01,\"item_id\":\"I003\",\"qty\":2}]}|\n",
      "+-----------------------------------------------------------------------------------------------------------------------------------------------------------------------------------+----------------------------------------------------------------------------+---------------------------------------------------------------------------------------------------------------------------------------------------------------------------------------+\n",
      "\n"
     ]
    }
   ],
   "execution_count": 29
  },
  {
   "metadata": {
    "ExecuteTime": {
     "end_time": "2025-01-21T18:59:17.330088Z",
     "start_time": "2025-01-21T18:59:17.315933Z"
    }
   },
   "cell_type": "code",
   "source": "df_1 = df_expanded.select('parsed.*')",
   "id": "8da711787c9ca0fe",
   "outputs": [],
   "execution_count": 30
  },
  {
   "metadata": {
    "ExecuteTime": {
     "end_time": "2025-01-21T18:59:27.867035Z",
     "start_time": "2025-01-21T18:59:27.780003Z"
    }
   },
   "cell_type": "code",
   "source": "df_1.show(truncate=False)",
   "id": "597fedfcd14e781e",
   "outputs": [
    {
     "name": "stdout",
     "output_type": "stream",
     "text": [
      "+------------------------+-----------+--------+------------------------------------+\n",
      "|contact                 |customer_id|order_id|order_line_items                    |\n",
      "+------------------------+-----------+--------+------------------------------------+\n",
      "|[9000010000, 9000010001]|C001       |O101    |[{102.45, I001, 6}, {2.01, I003, 2}]|\n",
      "+------------------------+-----------+--------+------------------------------------+\n",
      "\n"
     ]
    }
   ],
   "execution_count": 31
  },
  {
   "metadata": {
    "ExecuteTime": {
     "end_time": "2025-01-21T19:00:13.895399Z",
     "start_time": "2025-01-21T19:00:13.874358Z"
    }
   },
   "cell_type": "code",
   "source": [
    "df_2 = df_1.withColumn(\n",
    "    'expanded_line_items', F.explode(df_1['order_line_items'])\n",
    ")"
   ],
   "id": "5702c0753d19f36e",
   "outputs": [],
   "execution_count": 32
  },
  {
   "metadata": {
    "ExecuteTime": {
     "end_time": "2025-01-21T19:00:25.569521Z",
     "start_time": "2025-01-21T19:00:25.405503Z"
    }
   },
   "cell_type": "code",
   "source": "df_2.show(truncate=False)",
   "id": "5952ee9258a96956",
   "outputs": [
    {
     "name": "stdout",
     "output_type": "stream",
     "text": [
      "+------------------------+-----------+--------+------------------------------------+-------------------+\n",
      "|contact                 |customer_id|order_id|order_line_items                    |expanded_line_items|\n",
      "+------------------------+-----------+--------+------------------------------------+-------------------+\n",
      "|[9000010000, 9000010001]|C001       |O101    |[{102.45, I001, 6}, {2.01, I003, 2}]|{102.45, I001, 6}  |\n",
      "|[9000010000, 9000010001]|C001       |O101    |[{102.45, I001, 6}, {2.01, I003, 2}]|{2.01, I003, 2}    |\n",
      "+------------------------+-----------+--------+------------------------------------+-------------------+\n",
      "\n"
     ]
    }
   ],
   "execution_count": 34
  },
  {
   "metadata": {
    "ExecuteTime": {
     "end_time": "2025-01-21T19:01:14.926397Z",
     "start_time": "2025-01-21T19:01:14.909880Z"
    }
   },
   "cell_type": "code",
   "source": [
    "df_3 = df_2.select(\n",
    "    'contact', 'customer_id', 'order_id', 'expanded_line_items.*'\n",
    ")"
   ],
   "id": "c1d845f40f51ea96",
   "outputs": [],
   "execution_count": 35
  },
  {
   "metadata": {
    "ExecuteTime": {
     "end_time": "2025-01-21T19:01:34.537872Z",
     "start_time": "2025-01-21T19:01:34.450491Z"
    }
   },
   "cell_type": "code",
   "source": "df_3.show(truncate=False)",
   "id": "9a6dc6eccdf5ae63",
   "outputs": [
    {
     "name": "stdout",
     "output_type": "stream",
     "text": [
      "+------------------------+-----------+--------+------+-------+---+\n",
      "|contact                 |customer_id|order_id|amount|item_id|qty|\n",
      "+------------------------+-----------+--------+------+-------+---+\n",
      "|[9000010000, 9000010001]|C001       |O101    |102.45|I001   |6  |\n",
      "|[9000010000, 9000010001]|C001       |O101    |2.01  |I003   |2  |\n",
      "+------------------------+-----------+--------+------+-------+---+\n",
      "\n"
     ]
    }
   ],
   "execution_count": 37
  },
  {
   "metadata": {
    "ExecuteTime": {
     "end_time": "2025-01-21T19:02:15.022329Z",
     "start_time": "2025-01-21T19:02:15.012314Z"
    }
   },
   "cell_type": "code",
   "source": [
    "df_final = df_3.withColumn(\n",
    "    'contact_expanded', F.explode(df_3['contact'])\n",
    ")"
   ],
   "id": "900869b6af779ee9",
   "outputs": [],
   "execution_count": 38
  },
  {
   "metadata": {
    "ExecuteTime": {
     "end_time": "2025-01-21T19:02:23.268672Z",
     "start_time": "2025-01-21T19:02:23.145028Z"
    }
   },
   "cell_type": "code",
   "source": "df_final.show(truncate=False)",
   "id": "f653035f6ba825ba",
   "outputs": [
    {
     "name": "stdout",
     "output_type": "stream",
     "text": [
      "+------------------------+-----------+--------+------+-------+---+----------------+\n",
      "|contact                 |customer_id|order_id|amount|item_id|qty|contact_expanded|\n",
      "+------------------------+-----------+--------+------+-------+---+----------------+\n",
      "|[9000010000, 9000010001]|C001       |O101    |102.45|I001   |6  |9000010000      |\n",
      "|[9000010000, 9000010001]|C001       |O101    |102.45|I001   |6  |9000010001      |\n",
      "|[9000010000, 9000010001]|C001       |O101    |2.01  |I003   |2  |9000010000      |\n",
      "|[9000010000, 9000010001]|C001       |O101    |2.01  |I003   |2  |9000010001      |\n",
      "+------------------------+-----------+--------+------+-------+---+----------------+\n",
      "\n"
     ]
    }
   ],
   "execution_count": 39
  },
  {
   "metadata": {
    "ExecuteTime": {
     "end_time": "2025-01-21T19:03:20.834082Z",
     "start_time": "2025-01-21T19:03:20.195646Z"
    }
   },
   "cell_type": "code",
   "source": "spark.stop()",
   "id": "12d4bf919b374257",
   "outputs": [],
   "execution_count": 40
  },
  {
   "metadata": {},
   "cell_type": "code",
   "outputs": [],
   "execution_count": null,
   "source": "",
   "id": "c4f4035bb6de672b"
  }
 ],
 "metadata": {
  "kernelspec": {
   "display_name": "Python 3",
   "language": "python",
   "name": "python3"
  },
  "language_info": {
   "codemirror_mode": {
    "name": "ipython",
    "version": 2
   },
   "file_extension": ".py",
   "mimetype": "text/x-python",
   "name": "python",
   "nbconvert_exporter": "python",
   "pygments_lexer": "ipython2",
   "version": "2.7.6"
  }
 },
 "nbformat": 4,
 "nbformat_minor": 5
}
