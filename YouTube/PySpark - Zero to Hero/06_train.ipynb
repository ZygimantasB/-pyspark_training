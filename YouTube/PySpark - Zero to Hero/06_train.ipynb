{
 "cells": [
  {
   "metadata": {},
   "cell_type": "markdown",
   "source": "# https://www.youtube.com/watch?v=NkUA2Q5gQNk&list=PL2IsFZBGM_IHCl9zhRVC1EXTomkEp_1zm&index=10",
   "id": "661979ee5f657823"
  },
  {
   "metadata": {
    "ExecuteTime": {
     "end_time": "2025-01-19T16:15:14.644259Z",
     "start_time": "2025-01-19T16:15:14.639832Z"
    }
   },
   "cell_type": "code",
   "source": [
    "from pyspark.sql import SparkSession\n",
    "from  pyspark.sql import Window\n",
    "import pyspark.sql.functions as F\n",
    "import os"
   ],
   "id": "c681bb914db8b52c",
   "outputs": [],
   "execution_count": 14
  },
  {
   "metadata": {
    "ExecuteTime": {
     "end_time": "2025-01-19T16:05:06.882291Z",
     "start_time": "2025-01-19T16:05:06.879141Z"
    }
   },
   "cell_type": "code",
   "source": [
    "os.environ['SPARK_HOME'] = r'C:\\spark\\spark-3.5.4-bin-hadoop3'\n",
    "os.environ['PYSPARK_DRIVER_PYTHON'] = 'jupyter'\n",
    "os.environ['PYSPARK_DRIVER_PYTHON_OPTS'] = 'lab'\n",
    "os.environ['PYSPARK_PYTHON'] = 'python'"
   ],
   "id": "f5f3df696eb45970",
   "outputs": [],
   "execution_count": 2
  },
  {
   "metadata": {
    "ExecuteTime": {
     "end_time": "2025-01-19T16:05:11.341929Z",
     "start_time": "2025-01-19T16:05:07.070463Z"
    }
   },
   "cell_type": "code",
   "source": [
    "spark = (\n",
    "    SparkSession\n",
    "    .builder\n",
    "    .appName(\"PySpark Zero to Hero\")\n",
    "    .master(\"local[*]\")\n",
    "    .config(\"spark.executor.memory\", \"16g\")\n",
    "    .config(\"spark.driver.memory\", \"16g\")\n",
    "    .config(\"spark.executor.cores\", \"4\")\n",
    "    .config(\"spark.sql.shuffle.partitions\", \"80\")\n",
    "    .config(\"spark.dynamicAllocation.enabled\", \"true\")\n",
    "    .config(\"spark.dynamicAllocation.minExecutors\", \"2\")\n",
    "    .config(\"spark.dynamicAllocation.initialExecutors\", \"24\")\n",
    "    .config(\"spark.dynamicAllocation.maxExecutors\", \"50\")\n",
    "    .config(\"spark.shuffle.service.enabled\", \"true\")\n",
    "    .config(\"spark.serializer\", \"org.apache.spark.serializer.KryoSerializer\")\n",
    "    .getOrCreate()\n",
    ")"
   ],
   "id": "d2a7461dbcb1b54a",
   "outputs": [],
   "execution_count": 3
  },
  {
   "metadata": {
    "ExecuteTime": {
     "end_time": "2025-01-19T16:05:11.360548Z",
     "start_time": "2025-01-19T16:05:11.355602Z"
    }
   },
   "cell_type": "code",
   "source": [
    "emp_data = [\n",
    "    [\"001\",\"101\",\"John Doe\",\"30\",\"Male\",\"50000\",\"2015-01-01\"],\n",
    "    [\"002\",\"101\",\"Jane Smith\",\"25\",\"Female\",\"45000\",\"2016-02-15\"],\n",
    "    [\"003\",\"102\",\"Bob Brown\",\"35\",\"Male\",\"55000\",\"2014-05-01\"],\n",
    "    [\"004\",\"102\",\"Alice Lee\",\"28\",\"Female\",\"48000\",\"2017-09-30\"],\n",
    "    [\"005\",\"103\",\"Jack Chan\",\"40\",\"Male\",\"60000\",\"2013-04-01\"],\n",
    "    [\"006\",\"103\",\"Jill Wong\",\"32\",\"Female\",\"52000\",\"2018-07-01\"],\n",
    "    [\"007\",\"101\",\"James Johnson\",\"42\",\"Male\",\"70000\",\"2012-03-15\"],\n",
    "    [\"008\",\"102\",\"Kate Kim\",\"29\",\"Female\",\"51000\",\"2019-10-01\"],\n",
    "    [\"009\",\"103\",\"Tom Tan\",\"33\",\"Male\",\"58000\",\"2016-06-01\"],\n",
    "    [\"010\",\"104\",\"Lisa Lee\",\"27\",\"Female\",\"47000\",\"2018-08-01\"],\n",
    "    [\"011\",\"104\",\"David Park\",\"38\",\"Male\",\"65000\",\"2015-11-01\"],\n",
    "    [\"012\",\"105\",\"Susan Chen\",\"31\",\"Female\",\"54000\",\"2017-02-15\"],\n",
    "    [\"013\",\"106\",\"Brian Kim\",\"45\",\"Male\",\"75000\",\"2011-07-01\"],\n",
    "    [\"014\",\"107\",\"Emily Lee\",\"26\",\"Female\",\"46000\",\"2019-01-01\"],\n",
    "    [\"015\",\"106\",\"Michael Lee\",\"37\",\"Male\",\"63000\",\"2014-09-30\"],\n",
    "    [\"016\",\"107\",\"Kelly Zhang\",\"30\",\"Female\",\"49000\",\"2018-04-01\"],\n",
    "    [\"017\",\"105\",\"George Wang\",\"34\",\"Male\",\"57000\",\"2016-03-15\"],\n",
    "    [\"018\",\"104\",\"Nancy Liu\",\"29\",\"Female\",\"50000\",\"2017-06-01\"],\n",
    "    [\"019\",\"103\",\"Steven Chen\",\"36\",\"Male\",\"62000\",\"2015-08-01\"],\n",
    "    [\"020\",\"102\",\"Grace Kim\",\"32\",\"Female\",\"53000\",\"2018-11-01\"]\n",
    "]"
   ],
   "id": "52b4095eea82cb14",
   "outputs": [],
   "execution_count": 4
  },
  {
   "metadata": {
    "ExecuteTime": {
     "end_time": "2025-01-19T16:05:11.371270Z",
     "start_time": "2025-01-19T16:05:11.367759Z"
    }
   },
   "cell_type": "code",
   "source": "emp_schema = \"employee_id string, department_id string, name string, age string, gender string, salary string, hire_date string\"",
   "id": "f9d43a02991a412b",
   "outputs": [],
   "execution_count": 5
  },
  {
   "metadata": {
    "ExecuteTime": {
     "end_time": "2025-01-19T16:05:14.300761Z",
     "start_time": "2025-01-19T16:05:11.389963Z"
    }
   },
   "cell_type": "code",
   "source": "emp = spark.createDataFrame(data=emp_data, schema=emp_schema)",
   "id": "41d7ce05b10c5f1b",
   "outputs": [],
   "execution_count": 6
  },
  {
   "metadata": {
    "ExecuteTime": {
     "end_time": "2025-01-19T16:09:05.259315Z",
     "start_time": "2025-01-19T16:09:05.205486Z"
    }
   },
   "cell_type": "code",
   "source": "emp_unique = emp.distinct()",
   "id": "2fe2662df2ae1c66",
   "outputs": [],
   "execution_count": 7
  },
  {
   "metadata": {
    "ExecuteTime": {
     "end_time": "2025-01-19T16:10:42.049658Z",
     "start_time": "2025-01-19T16:10:26.219048Z"
    }
   },
   "cell_type": "code",
   "source": "emp_unique.show(5)",
   "id": "deed4a37b813350a",
   "outputs": [
    {
     "name": "stdout",
     "output_type": "stream",
     "text": [
      "+-----------+-------------+----------+---+------+------+----------+\n",
      "|employee_id|department_id|      name|age|gender|salary| hire_date|\n",
      "+-----------+-------------+----------+---+------+------+----------+\n",
      "|        001|          101|  John Doe| 30|  Male| 50000|2015-01-01|\n",
      "|        002|          101|Jane Smith| 25|Female| 45000|2016-02-15|\n",
      "|        003|          102| Bob Brown| 35|  Male| 55000|2014-05-01|\n",
      "|        004|          102| Alice Lee| 28|Female| 48000|2017-09-30|\n",
      "|        005|          103| Jack Chan| 40|  Male| 60000|2013-04-01|\n",
      "+-----------+-------------+----------+---+------+------+----------+\n",
      "only showing top 5 rows\n",
      "\n"
     ]
    }
   ],
   "execution_count": 10
  },
  {
   "metadata": {
    "ExecuteTime": {
     "end_time": "2025-01-19T16:12:26.411324Z",
     "start_time": "2025-01-19T16:12:26.367791Z"
    }
   },
   "cell_type": "code",
   "source": [
    "emp_dept_id = emp.select(\n",
    "    'department_id'\n",
    ").distinct()"
   ],
   "id": "5b0e1d9525753f60",
   "outputs": [],
   "execution_count": 11
  },
  {
   "metadata": {
    "ExecuteTime": {
     "end_time": "2025-01-19T16:12:46.535990Z",
     "start_time": "2025-01-19T16:12:30.290735Z"
    }
   },
   "cell_type": "code",
   "source": "emp_dept_id.show()",
   "id": "7e521c81945342c0",
   "outputs": [
    {
     "name": "stdout",
     "output_type": "stream",
     "text": [
      "+-------------+\n",
      "|department_id|\n",
      "+-------------+\n",
      "|          101|\n",
      "|          102|\n",
      "|          103|\n",
      "|          104|\n",
      "|          105|\n",
      "|          106|\n",
      "|          107|\n",
      "+-------------+\n",
      "\n"
     ]
    }
   ],
   "execution_count": 12
  },
  {
   "metadata": {
    "ExecuteTime": {
     "end_time": "2025-01-19T16:17:58.159166Z",
     "start_time": "2025-01-19T16:17:58.115693Z"
    }
   },
   "cell_type": "code",
   "source": [
    "window_spec = Window.partitionBy(F.col('department_id')).orderBy(F.col('salary').desc())\n",
    "\n",
    "max_func = F.max(F.col('salary')).over(window_spec)\n",
    "\n",
    "emp_1 = emp.withColumn('max_salary', max_func)"
   ],
   "id": "12dec9730e6e91b9",
   "outputs": [],
   "execution_count": 22
  },
  {
   "metadata": {
    "ExecuteTime": {
     "end_time": "2025-01-19T16:18:23.596684Z",
     "start_time": "2025-01-19T16:18:07.875727Z"
    }
   },
   "cell_type": "code",
   "source": "emp_1.show(5)",
   "id": "390c4a31d8c5a273",
   "outputs": [
    {
     "name": "stdout",
     "output_type": "stream",
     "text": [
      "+-----------+-------------+-------------+---+------+------+----------+----------+\n",
      "|employee_id|department_id|         name|age|gender|salary| hire_date|max_salary|\n",
      "+-----------+-------------+-------------+---+------+------+----------+----------+\n",
      "|        007|          101|James Johnson| 42|  Male| 70000|2012-03-15|     70000|\n",
      "|        001|          101|     John Doe| 30|  Male| 50000|2015-01-01|     70000|\n",
      "|        002|          101|   Jane Smith| 25|Female| 45000|2016-02-15|     70000|\n",
      "|        003|          102|    Bob Brown| 35|  Male| 55000|2014-05-01|     55000|\n",
      "|        020|          102|    Grace Kim| 32|Female| 53000|2018-11-01|     55000|\n",
      "+-----------+-------------+-------------+---+------+------+----------+----------+\n",
      "only showing top 5 rows\n",
      "\n"
     ]
    }
   ],
   "execution_count": 24
  },
  {
   "metadata": {
    "ExecuteTime": {
     "end_time": "2025-01-19T16:25:55.000214Z",
     "start_time": "2025-01-19T16:25:54.954551Z"
    }
   },
   "cell_type": "code",
   "source": [
    "window_spec = Window.partitionBy(F.col('department_id')).orderBy(F.col('salary').desc())\n",
    "\n",
    "rn = F.row_number().over(window_spec)\n",
    "\n",
    "emp_2 = emp.withColumn(\n",
    "    'rn', rn\n",
    ").where('rn = 2')"
   ],
   "id": "fd1571eccb3468c8",
   "outputs": [],
   "execution_count": 31
  },
  {
   "metadata": {
    "ExecuteTime": {
     "end_time": "2025-01-19T16:26:10.805687Z",
     "start_time": "2025-01-19T16:25:55.441631Z"
    }
   },
   "cell_type": "code",
   "source": "emp_2.show(5)",
   "id": "a91871cfff601d05",
   "outputs": [
    {
     "name": "stdout",
     "output_type": "stream",
     "text": [
      "+-----------+-------------+----------+---+------+------+----------+---+\n",
      "|employee_id|department_id|      name|age|gender|salary| hire_date| rn|\n",
      "+-----------+-------------+----------+---+------+------+----------+---+\n",
      "|        001|          101|  John Doe| 30|  Male| 50000|2015-01-01|  2|\n",
      "|        020|          102| Grace Kim| 32|Female| 53000|2018-11-01|  2|\n",
      "|        005|          103| Jack Chan| 40|  Male| 60000|2013-04-01|  2|\n",
      "|        018|          104| Nancy Liu| 29|Female| 50000|2017-06-01|  2|\n",
      "|        012|          105|Susan Chen| 31|Female| 54000|2017-02-15|  2|\n",
      "+-----------+-------------+----------+---+------+------+----------+---+\n",
      "only showing top 5 rows\n",
      "\n"
     ]
    }
   ],
   "execution_count": 32
  },
  {
   "metadata": {
    "ExecuteTime": {
     "end_time": "2025-01-19T16:36:30.993507Z",
     "start_time": "2025-01-19T16:36:30.979036Z"
    }
   },
   "cell_type": "code",
   "source": [
    "emp_3 = emp.withColumn(\n",
    "    'rn', F.expr('row_number() over(partition by department_id order by salary desc)')\n",
    ").where('rn = 2')"
   ],
   "id": "9f8fb1d91df336f5",
   "outputs": [],
   "execution_count": 36
  },
  {
   "metadata": {
    "ExecuteTime": {
     "end_time": "2025-01-19T16:36:47.810555Z",
     "start_time": "2025-01-19T16:36:31.480036Z"
    }
   },
   "cell_type": "code",
   "source": "emp_3.show(5)",
   "id": "5024774da7a8f44c",
   "outputs": [
    {
     "name": "stdout",
     "output_type": "stream",
     "text": [
      "+-----------+-------------+----------+---+------+------+----------+---+\n",
      "|employee_id|department_id|      name|age|gender|salary| hire_date| rn|\n",
      "+-----------+-------------+----------+---+------+------+----------+---+\n",
      "|        001|          101|  John Doe| 30|  Male| 50000|2015-01-01|  2|\n",
      "|        020|          102| Grace Kim| 32|Female| 53000|2018-11-01|  2|\n",
      "|        005|          103| Jack Chan| 40|  Male| 60000|2013-04-01|  2|\n",
      "|        018|          104| Nancy Liu| 29|Female| 50000|2017-06-01|  2|\n",
      "|        012|          105|Susan Chen| 31|Female| 54000|2017-02-15|  2|\n",
      "+-----------+-------------+----------+---+------+------+----------+---+\n",
      "only showing top 5 rows\n",
      "\n"
     ]
    }
   ],
   "execution_count": 37
  },
  {
   "metadata": {
    "ExecuteTime": {
     "end_time": "2025-01-19T16:41:18.354541Z",
     "start_time": "2025-01-19T16:41:17.959172Z"
    }
   },
   "cell_type": "code",
   "source": "spark.stop()",
   "id": "36fa6543d80f9bab",
   "outputs": [],
   "execution_count": 38
  }
 ],
 "metadata": {
  "kernelspec": {
   "display_name": "Python 3",
   "language": "python",
   "name": "python3"
  },
  "language_info": {
   "codemirror_mode": {
    "name": "ipython",
    "version": 2
   },
   "file_extension": ".py",
   "mimetype": "text/x-python",
   "name": "python",
   "nbconvert_exporter": "python",
   "pygments_lexer": "ipython2",
   "version": "2.7.6"
  }
 },
 "nbformat": 4,
 "nbformat_minor": 5
}
