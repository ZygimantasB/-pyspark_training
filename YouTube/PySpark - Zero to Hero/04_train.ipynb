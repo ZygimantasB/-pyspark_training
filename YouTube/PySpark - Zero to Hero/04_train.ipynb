{
 "cells": [
  {
   "cell_type": "code",
   "id": "initial_id",
   "metadata": {
    "collapsed": true,
    "ExecuteTime": {
     "end_time": "2025-01-18T08:01:36.943070Z",
     "start_time": "2025-01-18T08:01:36.882293Z"
    }
   },
   "source": [
    "from pyspark.sql import SparkSession\n",
    "import pyspark.sql.functions as F\n",
    "import os"
   ],
   "outputs": [],
   "execution_count": 1
  },
  {
   "metadata": {
    "ExecuteTime": {
     "end_time": "2025-01-18T08:01:36.950414Z",
     "start_time": "2025-01-18T08:01:36.947023Z"
    }
   },
   "cell_type": "code",
   "source": [
    "os.environ['SPARK_HOME'] = r'C:\\spark\\spark-3.5.4-bin-hadoop3'\n",
    "os.environ['PYSPARK_DRIVER_PYTHON'] = 'jupyter'\n",
    "os.environ['PYSPARK_DRIVER_PYTHON_OPTS'] = 'lab'\n",
    "os.environ['PYSPARK_PYTHON'] = 'python'"
   ],
   "id": "d38f174eb915bc10",
   "outputs": [],
   "execution_count": 2
  },
  {
   "metadata": {
    "ExecuteTime": {
     "end_time": "2025-01-18T08:02:05.667691Z",
     "start_time": "2025-01-18T08:02:02.036065Z"
    }
   },
   "cell_type": "code",
   "source": [
    "spark = (\n",
    "    SparkSession\n",
    "    .builder\n",
    "    .appName(\"YouTube\")\n",
    "    .master(\"local[*]\")\n",
    "    .getOrCreate()\n",
    ")"
   ],
   "id": "9bdb0ac0d1faace3",
   "outputs": [],
   "execution_count": 3
  },
  {
   "metadata": {
    "ExecuteTime": {
     "end_time": "2025-01-18T08:02:16.533693Z",
     "start_time": "2025-01-18T08:02:16.527483Z"
    }
   },
   "cell_type": "code",
   "source": [
    "emp_data = [\n",
    "    [\"001\",\"101\",\"John Doe\",\"30\",\"Male\",\"50000\",\"2015-01-01\"],\n",
    "    [\"002\",\"101\",\"Jane Smith\",\"25\",\"Female\",\"45000\",\"2016-02-15\"],\n",
    "    [\"003\",\"102\",\"Bob Brown\",\"35\",\"Male\",\"55000\",\"2014-05-01\"],\n",
    "    [\"004\",\"102\",\"Alice Lee\",\"28\",\"Female\",\"48000\",\"2017-09-30\"],\n",
    "    [\"005\",\"103\",\"Jack Chan\",\"40\",\"Male\",\"60000\",\"2013-04-01\"],\n",
    "    [\"006\",\"103\",\"Jill Wong\",\"32\",\"Female\",\"52000\",\"2018-07-01\"],\n",
    "    [\"007\",\"101\",\"James Johnson\",\"42\",\"Male\",\"70000\",\"2012-03-15\"],\n",
    "    [\"008\",\"102\",\"Kate Kim\",\"29\",\"Female\",\"51000\",\"2019-10-01\"],\n",
    "    [\"009\",\"103\",\"Tom Tan\",\"33\",\"Male\",\"58000\",\"2016-06-01\"],\n",
    "    [\"010\",\"104\",\"Lisa Lee\",\"27\",\"Female\",\"47000\",\"2018-08-01\"],\n",
    "    [\"011\",\"104\",\"David Park\",\"38\",\"Male\",\"65000\",\"2015-11-01\"],\n",
    "    [\"012\",\"105\",\"Susan Chen\",\"31\",\"Female\",\"54000\",\"2017-02-15\"],\n",
    "    [\"013\",\"106\",\"Brian Kim\",\"45\",\"Male\",\"75000\",\"2011-07-01\"],\n",
    "    [\"014\",\"107\",\"Emily Lee\",\"26\",\"Female\",\"46000\",\"2019-01-01\"],\n",
    "    [\"015\",\"106\",\"Michael Lee\",\"37\",\"Male\",\"63000\",\"2014-09-30\"],\n",
    "    [\"016\",\"107\",\"Kelly Zhang\",\"30\",\"Female\",\"49000\",\"2018-04-01\"],\n",
    "    [\"017\",\"105\",\"George Wang\",\"34\",\"Male\",\"57000\",\"2016-03-15\"],\n",
    "    [\"018\",\"104\",\"Nancy Liu\",\"29\",\"Female\",\"50000\",\"2017-06-01\"],\n",
    "    [\"019\",\"103\",\"Steven Chen\",\"36\",\"Male\",\"62000\",\"2015-08-01\"],\n",
    "    [\"020\",\"102\",\"Grace Kim\",\"32\",\"Female\",\"53000\",\"2018-11-01\"]\n",
    "]"
   ],
   "id": "11870f56df382152",
   "outputs": [],
   "execution_count": 4
  },
  {
   "metadata": {
    "ExecuteTime": {
     "end_time": "2025-01-18T08:06:51.795706Z",
     "start_time": "2025-01-18T08:06:51.791709Z"
    }
   },
   "cell_type": "code",
   "source": "emp_schema = \"employee_id string, department_id string, name string, age string, gender string, salary string, hire_date string\"",
   "id": "a29e9b0917501741",
   "outputs": [],
   "execution_count": 6
  },
  {
   "metadata": {
    "ExecuteTime": {
     "end_time": "2025-01-18T08:11:31.729790Z",
     "start_time": "2025-01-18T08:11:30.082336Z"
    }
   },
   "cell_type": "code",
   "source": "emp = spark.createDataFrame(data=emp_data, schema=emp_schema)",
   "id": "74bc4af691997f70",
   "outputs": [],
   "execution_count": 7
  },
  {
   "metadata": {
    "ExecuteTime": {
     "end_time": "2025-01-18T08:33:06.515257Z",
     "start_time": "2025-01-18T08:33:06.499255Z"
    }
   },
   "cell_type": "code",
   "source": [
    "emp_gender_fixed = emp.withColumn(\n",
    "    'new_gender',\n",
    "    F.when(F.col('gender') == 'Male', 'M')\n",
    "    .when(F.col('gender') == 'Female', 'F')\n",
    "    .otherwise(None)\n",
    ")"
   ],
   "id": "78a9e31f1d6321bb",
   "outputs": [],
   "execution_count": 15
  },
  {
   "metadata": {
    "ExecuteTime": {
     "end_time": "2025-01-18T08:15:27.147308Z",
     "start_time": "2025-01-18T08:15:20.600234Z"
    }
   },
   "cell_type": "code",
   "source": "emp_gendered_fixed.show(5)",
   "id": "afcc9ed87641e70e",
   "outputs": [
    {
     "name": "stdout",
     "output_type": "stream",
     "text": [
      "+-----------+-------------+----------+---+------+------+----------+----------+\n",
      "|employee_id|department_id|      name|age|gender|salary| hire_date|new_gender|\n",
      "+-----------+-------------+----------+---+------+------+----------+----------+\n",
      "|        001|          101|  John Doe| 30|  Male| 50000|2015-01-01|         M|\n",
      "|        002|          101|Jane Smith| 25|Female| 45000|2016-02-15|         F|\n",
      "|        003|          102| Bob Brown| 35|  Male| 55000|2014-05-01|         M|\n",
      "|        004|          102| Alice Lee| 28|Female| 48000|2017-09-30|         F|\n",
      "|        005|          103| Jack Chan| 40|  Male| 60000|2013-04-01|         M|\n",
      "+-----------+-------------+----------+---+------+------+----------+----------+\n",
      "only showing top 5 rows\n",
      "\n"
     ]
    }
   ],
   "execution_count": 10
  },
  {
   "metadata": {
    "ExecuteTime": {
     "end_time": "2025-01-18T08:26:29.660921Z",
     "start_time": "2025-01-18T08:26:29.629099Z"
    }
   },
   "cell_type": "code",
   "source": [
    "emp_gender_fixed_1 = emp.withColumn(\n",
    "    'new_gender', F.expr(\"CASE WHEN gender = 'Male' THEN 'M' WHEN gender = 'Female' THEN 'F' ELSE NULL END\")\n",
    ")"
   ],
   "id": "d5e8f3b82f310ce7",
   "outputs": [],
   "execution_count": 13
  },
  {
   "metadata": {
    "ExecuteTime": {
     "end_time": "2025-01-18T08:26:41.594528Z",
     "start_time": "2025-01-18T08:26:35.602598Z"
    }
   },
   "cell_type": "code",
   "source": "emp_gender_fixed_1.show(5)",
   "id": "a540f7b2f643a214",
   "outputs": [
    {
     "name": "stdout",
     "output_type": "stream",
     "text": [
      "+-----------+-------------+----------+---+------+------+----------+----------+\n",
      "|employee_id|department_id|      name|age|gender|salary| hire_date|new_gender|\n",
      "+-----------+-------------+----------+---+------+------+----------+----------+\n",
      "|        001|          101|  John Doe| 30|  Male| 50000|2015-01-01|         M|\n",
      "|        002|          101|Jane Smith| 25|Female| 45000|2016-02-15|         F|\n",
      "|        003|          102| Bob Brown| 35|  Male| 55000|2014-05-01|         M|\n",
      "|        004|          102| Alice Lee| 28|Female| 48000|2017-09-30|         F|\n",
      "|        005|          103| Jack Chan| 40|  Male| 60000|2013-04-01|         M|\n",
      "+-----------+-------------+----------+---+------+------+----------+----------+\n",
      "only showing top 5 rows\n",
      "\n"
     ]
    }
   ],
   "execution_count": 14
  },
  {
   "metadata": {
    "ExecuteTime": {
     "end_time": "2025-01-18T08:33:56.438980Z",
     "start_time": "2025-01-18T08:33:56.421371Z"
    }
   },
   "cell_type": "code",
   "source": [
    "emp_name_fixed = emp_gender_fixed.withColumn(\n",
    "    'new_name', F.regexp_replace('name', 'J', 'Z')\n",
    ")"
   ],
   "id": "295d0c686e34c023",
   "outputs": [],
   "execution_count": 16
  },
  {
   "metadata": {
    "ExecuteTime": {
     "end_time": "2025-01-18T08:34:10.106202Z",
     "start_time": "2025-01-18T08:34:03.743999Z"
    }
   },
   "cell_type": "code",
   "source": "emp_name_fixed.show(5)",
   "id": "ee22d3c617430f9d",
   "outputs": [
    {
     "name": "stdout",
     "output_type": "stream",
     "text": [
      "+-----------+-------------+----------+---+------+------+----------+----------+----------+\n",
      "|employee_id|department_id|      name|age|gender|salary| hire_date|new_gender|  new_name|\n",
      "+-----------+-------------+----------+---+------+------+----------+----------+----------+\n",
      "|        001|          101|  John Doe| 30|  Male| 50000|2015-01-01|         M|  Zohn Doe|\n",
      "|        002|          101|Jane Smith| 25|Female| 45000|2016-02-15|         F|Zane Smith|\n",
      "|        003|          102| Bob Brown| 35|  Male| 55000|2014-05-01|         M| Bob Brown|\n",
      "|        004|          102| Alice Lee| 28|Female| 48000|2017-09-30|         F| Alice Lee|\n",
      "|        005|          103| Jack Chan| 40|  Male| 60000|2013-04-01|         M| Zack Chan|\n",
      "+-----------+-------------+----------+---+------+------+----------+----------+----------+\n",
      "only showing top 5 rows\n",
      "\n"
     ]
    }
   ],
   "execution_count": 17
  },
  {
   "metadata": {
    "ExecuteTime": {
     "end_time": "2025-01-18T08:35:48.982805Z",
     "start_time": "2025-01-18T08:35:48.961272Z"
    }
   },
   "cell_type": "code",
   "source": [
    "emp_data_fix = emp_name_fixed.withColumn(\n",
    "    'hire_date', F.to_date(F.col('hire_date'), format='yyyy-MM-dd')\n",
    ")"
   ],
   "id": "7c17c3aab555a005",
   "outputs": [],
   "execution_count": 18
  },
  {
   "metadata": {
    "ExecuteTime": {
     "end_time": "2025-01-18T08:35:59.306409Z",
     "start_time": "2025-01-18T08:35:52.772928Z"
    }
   },
   "cell_type": "code",
   "source": "emp_data_fix.show(5)",
   "id": "d058210c57fae234",
   "outputs": [
    {
     "name": "stdout",
     "output_type": "stream",
     "text": [
      "+-----------+-------------+----------+---+------+------+----------+----------+----------+\n",
      "|employee_id|department_id|      name|age|gender|salary| hire_date|new_gender|  new_name|\n",
      "+-----------+-------------+----------+---+------+------+----------+----------+----------+\n",
      "|        001|          101|  John Doe| 30|  Male| 50000|2015-01-01|         M|  Zohn Doe|\n",
      "|        002|          101|Jane Smith| 25|Female| 45000|2016-02-15|         F|Zane Smith|\n",
      "|        003|          102| Bob Brown| 35|  Male| 55000|2014-05-01|         M| Bob Brown|\n",
      "|        004|          102| Alice Lee| 28|Female| 48000|2017-09-30|         F| Alice Lee|\n",
      "|        005|          103| Jack Chan| 40|  Male| 60000|2013-04-01|         M| Zack Chan|\n",
      "+-----------+-------------+----------+---+------+------+----------+----------+----------+\n",
      "only showing top 5 rows\n",
      "\n"
     ]
    }
   ],
   "execution_count": 19
  },
  {
   "metadata": {
    "ExecuteTime": {
     "end_time": "2025-01-18T08:35:59.317683Z",
     "start_time": "2025-01-18T08:35:59.310931Z"
    }
   },
   "cell_type": "code",
   "source": "emp_data_fix.printSchema()",
   "id": "528121f7e8abc023",
   "outputs": [
    {
     "name": "stdout",
     "output_type": "stream",
     "text": [
      "root\n",
      " |-- employee_id: string (nullable = true)\n",
      " |-- department_id: string (nullable = true)\n",
      " |-- name: string (nullable = true)\n",
      " |-- age: string (nullable = true)\n",
      " |-- gender: string (nullable = true)\n",
      " |-- salary: string (nullable = true)\n",
      " |-- hire_date: date (nullable = true)\n",
      " |-- new_gender: string (nullable = true)\n",
      " |-- new_name: string (nullable = true)\n",
      "\n"
     ]
    }
   ],
   "execution_count": 20
  },
  {
   "metadata": {
    "ExecuteTime": {
     "end_time": "2025-01-18T08:37:12.501611Z",
     "start_time": "2025-01-18T08:37:12.484645Z"
    }
   },
   "cell_type": "code",
   "source": [
    "emp_dated = emp_data_fix.withColumn(\n",
    "    'date_now', F.current_date()\n",
    ").withColumn(\n",
    "    'time_stamp_now', F.current_timestamp()\n",
    ")"
   ],
   "id": "4ae7c24118afbc7f",
   "outputs": [],
   "execution_count": 21
  },
  {
   "metadata": {
    "ExecuteTime": {
     "end_time": "2025-01-18T08:38:39.696614Z",
     "start_time": "2025-01-18T08:38:33.560372Z"
    }
   },
   "cell_type": "code",
   "source": "emp_dated.show(5, truncate=False)",
   "id": "e2c07eb5c9eb13a3",
   "outputs": [
    {
     "name": "stdout",
     "output_type": "stream",
     "text": [
      "+-----------+-------------+----------+---+------+------+----------+----------+----------+----------+--------------------------+\n",
      "|employee_id|department_id|name      |age|gender|salary|hire_date |new_gender|new_name  |date_now  |time_stamp_now            |\n",
      "+-----------+-------------+----------+---+------+------+----------+----------+----------+----------+--------------------------+\n",
      "|001        |101          |John Doe  |30 |Male  |50000 |2015-01-01|M         |Zohn Doe  |2025-01-18|2025-01-18 10:38:33.570391|\n",
      "|002        |101          |Jane Smith|25 |Female|45000 |2016-02-15|F         |Zane Smith|2025-01-18|2025-01-18 10:38:33.570391|\n",
      "|003        |102          |Bob Brown |35 |Male  |55000 |2014-05-01|M         |Bob Brown |2025-01-18|2025-01-18 10:38:33.570391|\n",
      "|004        |102          |Alice Lee |28 |Female|48000 |2017-09-30|F         |Alice Lee |2025-01-18|2025-01-18 10:38:33.570391|\n",
      "|005        |103          |Jack Chan |40 |Male  |60000 |2013-04-01|M         |Zack Chan |2025-01-18|2025-01-18 10:38:33.570391|\n",
      "+-----------+-------------+----------+---+------+------+----------+----------+----------+----------+--------------------------+\n",
      "only showing top 5 rows\n",
      "\n"
     ]
    }
   ],
   "execution_count": 25
  },
  {
   "metadata": {
    "ExecuteTime": {
     "end_time": "2025-01-18T08:39:29.721743Z",
     "start_time": "2025-01-18T08:39:29.690353Z"
    }
   },
   "cell_type": "code",
   "source": "emp_1 = emp_dated.na.drop()",
   "id": "65e69ceaa8265e20",
   "outputs": [],
   "execution_count": 26
  },
  {
   "metadata": {
    "ExecuteTime": {
     "end_time": "2025-01-18T08:39:41.936791Z",
     "start_time": "2025-01-18T08:39:35.730373Z"
    }
   },
   "cell_type": "code",
   "source": "emp_1.show(5)",
   "id": "92db519f6fe5a5c5",
   "outputs": [
    {
     "name": "stdout",
     "output_type": "stream",
     "text": [
      "+-----------+-------------+----------+---+------+------+----------+----------+----------+----------+--------------------+\n",
      "|employee_id|department_id|      name|age|gender|salary| hire_date|new_gender|  new_name|  date_now|      time_stamp_now|\n",
      "+-----------+-------------+----------+---+------+------+----------+----------+----------+----------+--------------------+\n",
      "|        001|          101|  John Doe| 30|  Male| 50000|2015-01-01|         M|  Zohn Doe|2025-01-18|2025-01-18 10:39:...|\n",
      "|        002|          101|Jane Smith| 25|Female| 45000|2016-02-15|         F|Zane Smith|2025-01-18|2025-01-18 10:39:...|\n",
      "|        003|          102| Bob Brown| 35|  Male| 55000|2014-05-01|         M| Bob Brown|2025-01-18|2025-01-18 10:39:...|\n",
      "|        004|          102| Alice Lee| 28|Female| 48000|2017-09-30|         F| Alice Lee|2025-01-18|2025-01-18 10:39:...|\n",
      "|        005|          103| Jack Chan| 40|  Male| 60000|2013-04-01|         M| Zack Chan|2025-01-18|2025-01-18 10:39:...|\n",
      "+-----------+-------------+----------+---+------+------+----------+----------+----------+----------+--------------------+\n",
      "only showing top 5 rows\n",
      "\n"
     ]
    }
   ],
   "execution_count": 27
  },
  {
   "metadata": {
    "ExecuteTime": {
     "end_time": "2025-01-18T08:41:07.684955Z",
     "start_time": "2025-01-18T08:41:07.668062Z"
    }
   },
   "cell_type": "code",
   "source": [
    "emp_null_df = emp_dated.withColumn(\n",
    "    'new_gender', F.coalesce(F.col('new_gender'), F.lit('O'))\n",
    ")"
   ],
   "id": "a72e6946e9891527",
   "outputs": [],
   "execution_count": 28
  },
  {
   "metadata": {
    "ExecuteTime": {
     "end_time": "2025-01-18T08:41:19.380920Z",
     "start_time": "2025-01-18T08:41:12.984315Z"
    }
   },
   "cell_type": "code",
   "source": "emp_null_df.show(5)",
   "id": "3df13d5812b1b935",
   "outputs": [
    {
     "name": "stdout",
     "output_type": "stream",
     "text": [
      "+-----------+-------------+----------+---+------+------+----------+----------+----------+----------+--------------------+\n",
      "|employee_id|department_id|      name|age|gender|salary| hire_date|new_gender|  new_name|  date_now|      time_stamp_now|\n",
      "+-----------+-------------+----------+---+------+------+----------+----------+----------+----------+--------------------+\n",
      "|        001|          101|  John Doe| 30|  Male| 50000|2015-01-01|         M|  Zohn Doe|2025-01-18|2025-01-18 10:41:...|\n",
      "|        002|          101|Jane Smith| 25|Female| 45000|2016-02-15|         F|Zane Smith|2025-01-18|2025-01-18 10:41:...|\n",
      "|        003|          102| Bob Brown| 35|  Male| 55000|2014-05-01|         M| Bob Brown|2025-01-18|2025-01-18 10:41:...|\n",
      "|        004|          102| Alice Lee| 28|Female| 48000|2017-09-30|         F| Alice Lee|2025-01-18|2025-01-18 10:41:...|\n",
      "|        005|          103| Jack Chan| 40|  Male| 60000|2013-04-01|         M| Zack Chan|2025-01-18|2025-01-18 10:41:...|\n",
      "+-----------+-------------+----------+---+------+------+----------+----------+----------+----------+--------------------+\n",
      "only showing top 5 rows\n",
      "\n"
     ]
    }
   ],
   "execution_count": 29
  },
  {
   "metadata": {
    "ExecuteTime": {
     "end_time": "2025-01-18T08:46:19.113746Z",
     "start_time": "2025-01-18T08:46:19.094944Z"
    }
   },
   "cell_type": "code",
   "source": [
    "emp_final = emp_null_df.drop(\n",
    "    'name', 'gender'\n",
    ").withColumnRenamed(\n",
    "    'new_name', 'name'\n",
    ").withColumnRenamed(\n",
    "    'new_gender', 'gender'\n",
    ")"
   ],
   "id": "4c980a3d445f78e",
   "outputs": [],
   "execution_count": 30
  },
  {
   "metadata": {
    "ExecuteTime": {
     "end_time": "2025-01-18T08:46:29.644130Z",
     "start_time": "2025-01-18T08:46:23.432885Z"
    }
   },
   "cell_type": "code",
   "source": "emp_final.show(5)",
   "id": "3c0367e5ff9b41d6",
   "outputs": [
    {
     "name": "stdout",
     "output_type": "stream",
     "text": [
      "+-----------+-------------+---+------+----------+------+----------+----------+--------------------+\n",
      "|employee_id|department_id|age|salary| hire_date|gender|      name|  date_now|      time_stamp_now|\n",
      "+-----------+-------------+---+------+----------+------+----------+----------+--------------------+\n",
      "|        001|          101| 30| 50000|2015-01-01|     M|  Zohn Doe|2025-01-18|2025-01-18 10:46:...|\n",
      "|        002|          101| 25| 45000|2016-02-15|     F|Zane Smith|2025-01-18|2025-01-18 10:46:...|\n",
      "|        003|          102| 35| 55000|2014-05-01|     M| Bob Brown|2025-01-18|2025-01-18 10:46:...|\n",
      "|        004|          102| 28| 48000|2017-09-30|     F| Alice Lee|2025-01-18|2025-01-18 10:46:...|\n",
      "|        005|          103| 40| 60000|2013-04-01|     M| Zack Chan|2025-01-18|2025-01-18 10:46:...|\n",
      "+-----------+-------------+---+------+----------+------+----------+----------+--------------------+\n",
      "only showing top 5 rows\n",
      "\n"
     ]
    }
   ],
   "execution_count": 31
  },
  {
   "metadata": {
    "ExecuteTime": {
     "end_time": "2025-01-18T08:47:59.162296Z",
     "start_time": "2025-01-18T08:47:59.151153Z"
    }
   },
   "cell_type": "code",
   "source": [
    "emp_fixed = emp_final.withColumn(\n",
    "    'date_string', F.date_format(F.col('hire_date'), 'dd/MM/yyyy')\n",
    ")"
   ],
   "id": "2f10af8c68315b2b",
   "outputs": [],
   "execution_count": 32
  },
  {
   "metadata": {
    "ExecuteTime": {
     "end_time": "2025-01-18T08:48:09.215739Z",
     "start_time": "2025-01-18T08:48:02.940113Z"
    }
   },
   "cell_type": "code",
   "source": "emp_fixed.show(5)",
   "id": "4bbe7be49b9932f1",
   "outputs": [
    {
     "name": "stdout",
     "output_type": "stream",
     "text": [
      "+-----------+-------------+---+------+----------+------+----------+----------+--------------------+-----------+\n",
      "|employee_id|department_id|age|salary| hire_date|gender|      name|  date_now|      time_stamp_now|date_string|\n",
      "+-----------+-------------+---+------+----------+------+----------+----------+--------------------+-----------+\n",
      "|        001|          101| 30| 50000|2015-01-01|     M|  Zohn Doe|2025-01-18|2025-01-18 10:48:...| 01/01/2015|\n",
      "|        002|          101| 25| 45000|2016-02-15|     F|Zane Smith|2025-01-18|2025-01-18 10:48:...| 15/02/2016|\n",
      "|        003|          102| 35| 55000|2014-05-01|     M| Bob Brown|2025-01-18|2025-01-18 10:48:...| 01/05/2014|\n",
      "|        004|          102| 28| 48000|2017-09-30|     F| Alice Lee|2025-01-18|2025-01-18 10:48:...| 30/09/2017|\n",
      "|        005|          103| 40| 60000|2013-04-01|     M| Zack Chan|2025-01-18|2025-01-18 10:48:...| 01/04/2013|\n",
      "+-----------+-------------+---+------+----------+------+----------+----------+--------------------+-----------+\n",
      "only showing top 5 rows\n",
      "\n"
     ]
    }
   ],
   "execution_count": 33
  },
  {
   "metadata": {
    "ExecuteTime": {
     "end_time": "2025-01-18T08:49:59.103388Z",
     "start_time": "2025-01-18T08:49:59.092767Z"
    }
   },
   "cell_type": "code",
   "source": [
    "emp_year = emp_final.withColumn(\n",
    "    'year', F.date_format(F.col('hire_date'), 'yyyy')\n",
    ")"
   ],
   "id": "50b12d0feaeeac1f",
   "outputs": [],
   "execution_count": 35
  },
  {
   "metadata": {
    "ExecuteTime": {
     "end_time": "2025-01-18T08:50:11.369534Z",
     "start_time": "2025-01-18T08:50:04.968438Z"
    }
   },
   "cell_type": "code",
   "source": "emp_year.show(5)",
   "id": "832072ef2bc5cf00",
   "outputs": [
    {
     "name": "stdout",
     "output_type": "stream",
     "text": [
      "+-----------+-------------+---+------+----------+------+----------+----------+--------------------+----+\n",
      "|employee_id|department_id|age|salary| hire_date|gender|      name|  date_now|      time_stamp_now|year|\n",
      "+-----------+-------------+---+------+----------+------+----------+----------+--------------------+----+\n",
      "|        001|          101| 30| 50000|2015-01-01|     M|  Zohn Doe|2025-01-18|2025-01-18 10:50:...|2015|\n",
      "|        002|          101| 25| 45000|2016-02-15|     F|Zane Smith|2025-01-18|2025-01-18 10:50:...|2016|\n",
      "|        003|          102| 35| 55000|2014-05-01|     M| Bob Brown|2025-01-18|2025-01-18 10:50:...|2014|\n",
      "|        004|          102| 28| 48000|2017-09-30|     F| Alice Lee|2025-01-18|2025-01-18 10:50:...|2017|\n",
      "|        005|          103| 40| 60000|2013-04-01|     M| Zack Chan|2025-01-18|2025-01-18 10:50:...|2013|\n",
      "+-----------+-------------+---+------+----------+------+----------+----------+--------------------+----+\n",
      "only showing top 5 rows\n",
      "\n"
     ]
    }
   ],
   "execution_count": 36
  },
  {
   "metadata": {
    "ExecuteTime": {
     "end_time": "2025-01-18T08:50:48.580327Z",
     "start_time": "2025-01-18T08:50:48.566524Z"
    }
   },
   "cell_type": "code",
   "source": [
    "emp_month = emp_final.withColumn(\n",
    "    'month', F.date_format(F.col('hire_date'), 'MM')\n",
    ")"
   ],
   "id": "de5edefc2a0412dc",
   "outputs": [],
   "execution_count": 37
  },
  {
   "metadata": {
    "ExecuteTime": {
     "end_time": "2025-01-18T08:50:58.160066Z",
     "start_time": "2025-01-18T08:50:51.730998Z"
    }
   },
   "cell_type": "code",
   "source": "emp_month.show(5)",
   "id": "e799e00fcf5d6baf",
   "outputs": [
    {
     "name": "stdout",
     "output_type": "stream",
     "text": [
      "+-----------+-------------+---+------+----------+------+----------+----------+--------------------+-----+\n",
      "|employee_id|department_id|age|salary| hire_date|gender|      name|  date_now|      time_stamp_now|month|\n",
      "+-----------+-------------+---+------+----------+------+----------+----------+--------------------+-----+\n",
      "|        001|          101| 30| 50000|2015-01-01|     M|  Zohn Doe|2025-01-18|2025-01-18 10:50:...|   01|\n",
      "|        002|          101| 25| 45000|2016-02-15|     F|Zane Smith|2025-01-18|2025-01-18 10:50:...|   02|\n",
      "|        003|          102| 35| 55000|2014-05-01|     M| Bob Brown|2025-01-18|2025-01-18 10:50:...|   05|\n",
      "|        004|          102| 28| 48000|2017-09-30|     F| Alice Lee|2025-01-18|2025-01-18 10:50:...|   09|\n",
      "|        005|          103| 40| 60000|2013-04-01|     M| Zack Chan|2025-01-18|2025-01-18 10:50:...|   04|\n",
      "+-----------+-------------+---+------+----------+------+----------+----------+--------------------+-----+\n",
      "only showing top 5 rows\n",
      "\n"
     ]
    }
   ],
   "execution_count": 38
  },
  {
   "metadata": {
    "ExecuteTime": {
     "end_time": "2025-01-18T08:51:27.197185Z",
     "start_time": "2025-01-18T08:51:27.185784Z"
    }
   },
   "cell_type": "code",
   "source": [
    "emp_day = emp_final.withColumn(\n",
    "    'day', F.date_format(F.col('hire_date'), 'dd')\n",
    ")"
   ],
   "id": "48da553d6f26522a",
   "outputs": [],
   "execution_count": 39
  },
  {
   "metadata": {
    "ExecuteTime": {
     "end_time": "2025-01-18T08:51:37.773648Z",
     "start_time": "2025-01-18T08:51:31.416165Z"
    }
   },
   "cell_type": "code",
   "source": "emp_day.show(5)",
   "id": "60a24f2316562b5a",
   "outputs": [
    {
     "name": "stdout",
     "output_type": "stream",
     "text": [
      "+-----------+-------------+---+------+----------+------+----------+----------+--------------------+---+\n",
      "|employee_id|department_id|age|salary| hire_date|gender|      name|  date_now|      time_stamp_now|day|\n",
      "+-----------+-------------+---+------+----------+------+----------+----------+--------------------+---+\n",
      "|        001|          101| 30| 50000|2015-01-01|     M|  Zohn Doe|2025-01-18|2025-01-18 10:51:...| 01|\n",
      "|        002|          101| 25| 45000|2016-02-15|     F|Zane Smith|2025-01-18|2025-01-18 10:51:...| 15|\n",
      "|        003|          102| 35| 55000|2014-05-01|     M| Bob Brown|2025-01-18|2025-01-18 10:51:...| 01|\n",
      "|        004|          102| 28| 48000|2017-09-30|     F| Alice Lee|2025-01-18|2025-01-18 10:51:...| 30|\n",
      "|        005|          103| 40| 60000|2013-04-01|     M| Zack Chan|2025-01-18|2025-01-18 10:51:...| 01|\n",
      "+-----------+-------------+---+------+----------+------+----------+----------+--------------------+---+\n",
      "only showing top 5 rows\n",
      "\n"
     ]
    }
   ],
   "execution_count": 40
  },
  {
   "metadata": {
    "ExecuteTime": {
     "end_time": "2025-01-18T08:53:24.873328Z",
     "start_time": "2025-01-18T08:53:24.862783Z"
    }
   },
   "cell_type": "code",
   "source": [
    "emp_zone = emp_final.withColumn(\n",
    "    'zone', F.date_format(F.col('time_stamp_now'), 'z')\n",
    ")"
   ],
   "id": "3ddf3a2c54dfeb39",
   "outputs": [],
   "execution_count": 43
  },
  {
   "metadata": {
    "ExecuteTime": {
     "end_time": "2025-01-18T08:53:48.262804Z",
     "start_time": "2025-01-18T08:53:41.797309Z"
    }
   },
   "cell_type": "code",
   "source": "emp_zone.show(5)",
   "id": "c729dfc296bf52dc",
   "outputs": [
    {
     "name": "stdout",
     "output_type": "stream",
     "text": [
      "+-----------+-------------+---+------+----------+------+----------+----------+--------------------+----+\n",
      "|employee_id|department_id|age|salary| hire_date|gender|      name|  date_now|      time_stamp_now|zone|\n",
      "+-----------+-------------+---+------+----------+------+----------+----------+--------------------+----+\n",
      "|        001|          101| 30| 50000|2015-01-01|     M|  Zohn Doe|2025-01-18|2025-01-18 10:53:...| EET|\n",
      "|        002|          101| 25| 45000|2016-02-15|     F|Zane Smith|2025-01-18|2025-01-18 10:53:...| EET|\n",
      "|        003|          102| 35| 55000|2014-05-01|     M| Bob Brown|2025-01-18|2025-01-18 10:53:...| EET|\n",
      "|        004|          102| 28| 48000|2017-09-30|     F| Alice Lee|2025-01-18|2025-01-18 10:53:...| EET|\n",
      "|        005|          103| 40| 60000|2013-04-01|     M| Zack Chan|2025-01-18|2025-01-18 10:53:...| EET|\n",
      "+-----------+-------------+---+------+----------+------+----------+----------+--------------------+----+\n",
      "only showing top 5 rows\n",
      "\n"
     ]
    }
   ],
   "execution_count": 45
  },
  {
   "metadata": {},
   "cell_type": "code",
   "outputs": [],
   "execution_count": null,
   "source": "",
   "id": "9baf4b128f8b57c0"
  }
 ],
 "metadata": {
  "kernelspec": {
   "display_name": "Python 3",
   "language": "python",
   "name": "python3"
  },
  "language_info": {
   "codemirror_mode": {
    "name": "ipython",
    "version": 2
   },
   "file_extension": ".py",
   "mimetype": "text/x-python",
   "name": "python",
   "nbconvert_exporter": "python",
   "pygments_lexer": "ipython2",
   "version": "2.7.6"
  }
 },
 "nbformat": 4,
 "nbformat_minor": 5
}
