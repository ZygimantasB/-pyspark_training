{
 "cells": [
  {
   "cell_type": "code",
   "id": "initial_id",
   "metadata": {
    "collapsed": true,
    "ExecuteTime": {
     "end_time": "2025-01-17T19:30:05.230390Z",
     "start_time": "2025-01-17T19:30:05.227279Z"
    }
   },
   "source": [
    "from pyspark.sql import SparkSession\n",
    "import pyspark.sql.functions as F\n",
    "import os"
   ],
   "outputs": [],
   "execution_count": 17
  },
  {
   "metadata": {
    "ExecuteTime": {
     "end_time": "2025-01-17T19:30:05.259572Z",
     "start_time": "2025-01-17T19:30:05.256401Z"
    }
   },
   "cell_type": "code",
   "source": [
    "os.environ['SPARK_HOME'] = r'C:\\spark\\spark-3.5.4-bin-hadoop3'\n",
    "os.environ['PYSPARK_DRIVER_PYTHON'] = 'jupyter'\n",
    "os.environ['PYSPARK_DRIVER_PYTHON_OPTS'] = 'lab'\n",
    "os.environ['PYSPARK_PYTHON'] = 'python'"
   ],
   "id": "918bb36c82ee469c",
   "outputs": [],
   "execution_count": 18
  },
  {
   "metadata": {
    "ExecuteTime": {
     "end_time": "2025-01-17T19:30:05.285371Z",
     "start_time": "2025-01-17T19:30:05.274624Z"
    }
   },
   "cell_type": "code",
   "source": [
    "spark = (\n",
    "    SparkSession\n",
    "    .builder\n",
    "    .appName(\"PySpark Zero to Hero\")\n",
    "    .master(\"local[*]\")\n",
    "    .config(\"spark.executor.memory\", \"16g\")\n",
    "    .config(\"spark.driver.memory\", \"16g\")\n",
    "    .config(\"spark.executor.cores\", \"4\")\n",
    "    .config(\"spark.sql.shuffle.partitions\", \"80\")\n",
    "    .config(\"spark.dynamicAllocation.enabled\", \"true\")\n",
    "    .config(\"spark.dynamicAllocation.minExecutors\", \"2\")\n",
    "    .config(\"spark.dynamicAllocation.initialExecutors\", \"24\")\n",
    "    .config(\"spark.dynamicAllocation.maxExecutors\", \"50\")\n",
    "    .config(\"spark.shuffle.service.enabled\", \"true\")\n",
    "    .config(\"spark.serializer\", \"org.apache.spark.serializer.KryoSerializer\")\n",
    "    .getOrCreate()\n",
    ")"
   ],
   "id": "20f0eae8ec79835b",
   "outputs": [],
   "execution_count": 19
  },
  {
   "metadata": {
    "ExecuteTime": {
     "end_time": "2025-01-17T19:30:05.294376Z",
     "start_time": "2025-01-17T19:30:05.289377Z"
    }
   },
   "cell_type": "code",
   "source": [
    "emp_data = [\n",
    "    [\"001\",\"101\",\"John Doe\",\"30\",\"Male\",\"50000\",\"2015-01-01\"],\n",
    "    [\"002\",\"101\",\"Jane Smith\",\"25\",\"Female\",\"45000\",\"2016-02-15\"],\n",
    "    [\"003\",\"102\",\"Bob Brown\",\"35\",\"Male\",\"55000\",\"2014-05-01\"],\n",
    "    [\"004\",\"102\",\"Alice Lee\",\"28\",\"Female\",\"48000\",\"2017-09-30\"],\n",
    "    [\"005\",\"103\",\"Jack Chan\",\"40\",\"Male\",\"60000\",\"2013-04-01\"],\n",
    "    [\"006\",\"103\",\"Jill Wong\",\"32\",\"Female\",\"52000\",\"2018-07-01\"],\n",
    "    [\"007\",\"101\",\"James Johnson\",\"42\",\"Male\",\"70000\",\"2012-03-15\"],\n",
    "    [\"008\",\"102\",\"Kate Kim\",\"29\",\"Female\",\"51000\",\"2019-10-01\"],\n",
    "    [\"009\",\"103\",\"Tom Tan\",\"33\",\"Male\",\"58000\",\"2016-06-01\"],\n",
    "    [\"010\",\"104\",\"Lisa Lee\",\"27\",\"Female\",\"47000\",\"2018-08-01\"],\n",
    "    [\"011\",\"104\",\"David Park\",\"38\",\"Male\",\"65000\",\"2015-11-01\"],\n",
    "    [\"012\",\"105\",\"Susan Chen\",\"31\",\"Female\",\"54000\",\"2017-02-15\"],\n",
    "    [\"013\",\"106\",\"Brian Kim\",\"45\",\"Male\",\"75000\",\"2011-07-01\"],\n",
    "    [\"014\",\"107\",\"Emily Lee\",\"26\",\"Female\",\"46000\",\"2019-01-01\"],\n",
    "    [\"015\",\"106\",\"Michael Lee\",\"37\",\"Male\",\"63000\",\"2014-09-30\"],\n",
    "    [\"016\",\"107\",\"Kelly Zhang\",\"30\",\"Female\",\"49000\",\"2018-04-01\"],\n",
    "    [\"017\",\"105\",\"George Wang\",\"34\",\"Male\",\"57000\",\"2016-03-15\"],\n",
    "    [\"018\",\"104\",\"Nancy Liu\",\"29\",\"Female\",\"50000\",\"2017-06-01\"],\n",
    "    [\"019\",\"103\",\"Steven Chen\",\"36\",\"Male\",\"62000\",\"2015-08-01\"],\n",
    "    [\"020\",\"102\",\"Grace Kim\",\"32\",\"Female\",\"53000\",\"2018-11-01\"]\n",
    "]"
   ],
   "id": "c41bbde288959e77",
   "outputs": [],
   "execution_count": 20
  },
  {
   "metadata": {
    "ExecuteTime": {
     "end_time": "2025-01-17T19:30:05.305510Z",
     "start_time": "2025-01-17T19:30:05.302509Z"
    }
   },
   "cell_type": "code",
   "source": "emp_schema = \"employee_id string, department_id string, name string, age string, gender string, salary string, hire_date string\"",
   "id": "a0e589d2dff31c9d",
   "outputs": [],
   "execution_count": 21
  },
  {
   "metadata": {
    "ExecuteTime": {
     "end_time": "2025-01-17T19:30:05.338253Z",
     "start_time": "2025-01-17T19:30:05.313357Z"
    }
   },
   "cell_type": "code",
   "source": "emp = spark.createDataFrame(data=emp_data, schema=emp_schema)",
   "id": "64231ab4d413ca89",
   "outputs": [],
   "execution_count": 22
  },
  {
   "metadata": {
    "ExecuteTime": {
     "end_time": "2025-01-17T19:30:05.350106Z",
     "start_time": "2025-01-17T19:30:05.346108Z"
    }
   },
   "cell_type": "code",
   "source": "emp.schema",
   "id": "ba889771ca54b623",
   "outputs": [
    {
     "data": {
      "text/plain": [
       "StructType([StructField('employee_id', StringType(), True), StructField('department_id', StringType(), True), StructField('name', StringType(), True), StructField('age', StringType(), True), StructField('gender', StringType(), True), StructField('salary', StringType(), True), StructField('hire_date', StringType(), True)])"
      ]
     },
     "execution_count": 23,
     "metadata": {},
     "output_type": "execute_result"
    }
   ],
   "execution_count": 23
  },
  {
   "metadata": {
    "ExecuteTime": {
     "end_time": "2025-01-17T19:30:05.362226Z",
     "start_time": "2025-01-17T19:30:05.358706Z"
    }
   },
   "cell_type": "code",
   "source": [
    "from pyspark.sql.types import StructType, StructField, StringType, IntegerType, DateType\n",
    "\n",
    "schema_string = 'name string age int'\n",
    "\n",
    "schema_spark = StructType([\n",
    "    StructField('name', StringType(), True),\n",
    "    StructField('age', IntegerType(), True),\n",
    "])"
   ],
   "id": "b3ffe34550beaf2e",
   "outputs": [],
   "execution_count": 24
  },
  {
   "metadata": {
    "ExecuteTime": {
     "end_time": "2025-01-17T19:30:05.377705Z",
     "start_time": "2025-01-17T19:30:05.369691Z"
    }
   },
   "cell_type": "code",
   "source": [
    "emp.salary\n",
    "emp['salary']"
   ],
   "id": "dbcbd9202b60c430",
   "outputs": [
    {
     "data": {
      "text/plain": [
       "Column<'salary'>"
      ]
     },
     "execution_count": 25,
     "metadata": {},
     "output_type": "execute_result"
    }
   ],
   "execution_count": 25
  },
  {
   "metadata": {
    "ExecuteTime": {
     "end_time": "2025-01-17T19:30:05.398288Z",
     "start_time": "2025-01-17T19:30:05.386043Z"
    }
   },
   "cell_type": "code",
   "source": "emp_filter = emp.select(F.col('employee_id'), F.expr('name'), emp.age, emp.salary)",
   "id": "a99b9f92e129fa12",
   "outputs": [],
   "execution_count": 26
  },
  {
   "metadata": {
    "ExecuteTime": {
     "end_time": "2025-01-17T19:30:52.337625Z",
     "start_time": "2025-01-17T19:30:45.828206Z"
    }
   },
   "cell_type": "code",
   "source": "emp_filter.show(5)",
   "id": "4f14426512fc8b2b",
   "outputs": [
    {
     "name": "stdout",
     "output_type": "stream",
     "text": [
      "+-----------+----------+---+------+\n",
      "|employee_id|      name|age|salary|\n",
      "+-----------+----------+---+------+\n",
      "|        001|  John Doe| 30| 50000|\n",
      "|        002|Jane Smith| 25| 45000|\n",
      "|        003| Bob Brown| 35| 55000|\n",
      "|        004| Alice Lee| 28| 48000|\n",
      "|        005| Jack Chan| 40| 60000|\n",
      "+-----------+----------+---+------+\n",
      "only showing top 5 rows\n",
      "\n"
     ]
    }
   ],
   "execution_count": 30
  },
  {
   "metadata": {
    "ExecuteTime": {
     "end_time": "2025-01-17T19:30:21.310079Z",
     "start_time": "2025-01-17T19:30:21.295949Z"
    }
   },
   "cell_type": "code",
   "source": [
    "emp_casted = emp_filter.select(\n",
    "    F.expr('employee_id as emp_id'),\n",
    "    emp.name,\n",
    "    F.expr('cast(age as int) as age'),\n",
    "    emp.salary\n",
    ")"
   ],
   "id": "742148d7701673ee",
   "outputs": [],
   "execution_count": 28
  },
  {
   "metadata": {
    "ExecuteTime": {
     "end_time": "2025-01-17T19:30:27.652843Z",
     "start_time": "2025-01-17T19:30:21.373985Z"
    }
   },
   "cell_type": "code",
   "source": "emp_casted.show(5)",
   "id": "21f4b5f7b07270d3",
   "outputs": [
    {
     "name": "stdout",
     "output_type": "stream",
     "text": [
      "+------+----------+---+------+\n",
      "|emp_id|      name|age|salary|\n",
      "+------+----------+---+------+\n",
      "|   001|  John Doe| 30| 50000|\n",
      "|   002|Jane Smith| 25| 45000|\n",
      "|   003| Bob Brown| 35| 55000|\n",
      "|   004| Alice Lee| 28| 48000|\n",
      "|   005| Jack Chan| 40| 60000|\n",
      "+------+----------+---+------+\n",
      "only showing top 5 rows\n",
      "\n"
     ]
    }
   ],
   "execution_count": 29
  },
  {
   "metadata": {
    "ExecuteTime": {
     "end_time": "2025-01-17T19:31:45.102672Z",
     "start_time": "2025-01-17T19:31:45.089536Z"
    }
   },
   "cell_type": "code",
   "source": [
    "emp_casted_1 = emp_filter.selectExpr(\n",
    "    'employee_id as emp_id',\n",
    "    'name',\n",
    "    'cast(age as int) as age',\n",
    "    'salary'\n",
    ")"
   ],
   "id": "efcc96b14ac049a6",
   "outputs": [],
   "execution_count": 31
  },
  {
   "metadata": {
    "ExecuteTime": {
     "end_time": "2025-01-17T19:32:01.053737Z",
     "start_time": "2025-01-17T19:31:54.443419Z"
    }
   },
   "cell_type": "code",
   "source": "emp_casted_1.show(5)",
   "id": "467bb29f12777031",
   "outputs": [
    {
     "name": "stdout",
     "output_type": "stream",
     "text": [
      "+------+----------+---+------+\n",
      "|emp_id|      name|age|salary|\n",
      "+------+----------+---+------+\n",
      "|   001|  John Doe| 30| 50000|\n",
      "|   002|Jane Smith| 25| 45000|\n",
      "|   003| Bob Brown| 35| 55000|\n",
      "|   004| Alice Lee| 28| 48000|\n",
      "|   005| Jack Chan| 40| 60000|\n",
      "+------+----------+---+------+\n",
      "only showing top 5 rows\n",
      "\n"
     ]
    }
   ],
   "execution_count": 32
  },
  {
   "metadata": {
    "ExecuteTime": {
     "end_time": "2025-01-17T19:33:19.139379Z",
     "start_time": "2025-01-17T19:33:19.110503Z"
    }
   },
   "cell_type": "code",
   "source": [
    "emp_final = emp_casted.select(\n",
    "    'emp_id', 'name', 'age', 'salary'\n",
    ").where(\n",
    "    F.col('age') > 30\n",
    ")"
   ],
   "id": "c6ad365b132c46ca",
   "outputs": [],
   "execution_count": 35
  },
  {
   "metadata": {
    "ExecuteTime": {
     "end_time": "2025-01-17T19:33:53.397838Z",
     "start_time": "2025-01-17T19:33:36.815408Z"
    }
   },
   "cell_type": "code",
   "source": "emp_final.show(5)",
   "id": "5f323f2a92de49d6",
   "outputs": [
    {
     "name": "stdout",
     "output_type": "stream",
     "text": [
      "+------+-------------+---+------+\n",
      "|emp_id|         name|age|salary|\n",
      "+------+-------------+---+------+\n",
      "|   003|    Bob Brown| 35| 55000|\n",
      "|   005|    Jack Chan| 40| 60000|\n",
      "|   006|    Jill Wong| 32| 52000|\n",
      "|   007|James Johnson| 42| 70000|\n",
      "|   009|      Tom Tan| 33| 58000|\n",
      "+------+-------------+---+------+\n",
      "only showing top 5 rows\n",
      "\n"
     ]
    }
   ],
   "execution_count": 37
  },
  {
   "metadata": {
    "ExecuteTime": {
     "end_time": "2025-01-17T19:34:54.817351Z",
     "start_time": "2025-01-17T19:34:54.808232Z"
    }
   },
   "cell_type": "code",
   "source": [
    "schema_str = 'name string, age int'\n",
    "\n",
    "from pyspark.sql.types import _parse_datatype_string\n",
    "\n",
    "schema_spark = _parse_datatype_string(schema_str)\n",
    "\n",
    "schema_spark"
   ],
   "id": "57baa3067bb5ff66",
   "outputs": [
    {
     "data": {
      "text/plain": [
       "StructType([StructField('name', StringType(), True), StructField('age', IntegerType(), True)])"
      ]
     },
     "execution_count": 39,
     "metadata": {},
     "output_type": "execute_result"
    }
   ],
   "execution_count": 39
  },
  {
   "metadata": {},
   "cell_type": "markdown",
   "source": "# https://www.youtube.com/watch?v=EiPCK2y_QPk&list=PL2IsFZBGM_IHCl9zhRVC1EXTomkEp_1zm&index=7",
   "id": "b6f6fe339888f6be"
  },
  {
   "metadata": {},
   "cell_type": "code",
   "outputs": [],
   "execution_count": null,
   "source": "",
   "id": "efef3ff6d6f69a2a"
  }
 ],
 "metadata": {
  "kernelspec": {
   "display_name": "Python 3",
   "language": "python",
   "name": "python3"
  },
  "language_info": {
   "codemirror_mode": {
    "name": "ipython",
    "version": 2
   },
   "file_extension": ".py",
   "mimetype": "text/x-python",
   "name": "python",
   "nbconvert_exporter": "python",
   "pygments_lexer": "ipython2",
   "version": "2.7.6"
  }
 },
 "nbformat": 4,
 "nbformat_minor": 5
}
