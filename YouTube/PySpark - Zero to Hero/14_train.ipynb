{
 "cells": [
  {
   "metadata": {
    "ExecuteTime": {
     "end_time": "2025-01-22T19:02:55.939113Z",
     "start_time": "2025-01-22T19:02:55.184312Z"
    }
   },
   "cell_type": "code",
   "source": [
    "from pyspark.sql import SparkSession\n",
    "import pyspark.sql.functions as F\n",
    "import os"
   ],
   "id": "c681bb914db8b52c",
   "outputs": [],
   "execution_count": 1
  },
  {
   "metadata": {
    "ExecuteTime": {
     "end_time": "2025-01-22T19:02:55.947173Z",
     "start_time": "2025-01-22T19:02:55.943122Z"
    }
   },
   "cell_type": "code",
   "source": [
    "os.environ['SPARK_HOME'] = r'C:\\spark\\spark-3.5.4-bin-hadoop3'\n",
    "os.environ['PYSPARK_DRIVER_PYTHON'] = 'jupyter'\n",
    "os.environ['PYSPARK_DRIVER_PYTHON_OPTS'] = 'lab'\n",
    "os.environ['PYSPARK_PYTHON'] = 'python'"
   ],
   "id": "f5f3df696eb45970",
   "outputs": [],
   "execution_count": 2
  },
  {
   "metadata": {
    "ExecuteTime": {
     "end_time": "2025-01-22T19:03:07.842083Z",
     "start_time": "2025-01-22T19:02:56.312261Z"
    }
   },
   "cell_type": "code",
   "source": [
    "spark = (\n",
    "    SparkSession\n",
    "    .builder\n",
    "    .appName(\"PySpark Zero to Hero\")\n",
    "    .master(\"local[*]\")\n",
    "    .config(\"spark.executor.memory\", \"16g\")\n",
    "    .config(\"spark.driver.memory\", \"16g\")\n",
    "    .config(\"spark.executor.cores\", \"4\")\n",
    "    .config(\"spark.sql.shuffle.partitions\", \"80\")\n",
    "    .config(\"spark.dynamicAllocation.enabled\", \"true\")\n",
    "    .config(\"spark.dynamicAllocation.minExecutors\", \"2\")\n",
    "    .config(\"spark.dynamicAllocation.initialExecutors\", \"24\")\n",
    "    .config(\"spark.dynamicAllocation.maxExecutors\", \"50\")\n",
    "    .config(\"spark.shuffle.service.enabled\", \"true\")\n",
    "    .config(\"spark.serializer\", \"org.apache.spark.serializer.KryoSerializer\")\n",
    "    .getOrCreate()\n",
    ")"
   ],
   "id": "d2a7461dbcb1b54a",
   "outputs": [],
   "execution_count": 3
  },
  {
   "metadata": {
    "ExecuteTime": {
     "end_time": "2025-01-22T19:09:10.831202Z",
     "start_time": "2025-01-22T19:09:10.826736Z"
    }
   },
   "cell_type": "code",
   "source": [
    "spark.conf.set('spark.sql.adaptive.enabled', False)\n",
    "spark.conf.set('spark.sql.coalescePartition.enabled', False )\n",
    "spark.conf.set('spark.sql.autoBroadcastJoinThreshold', -1)"
   ],
   "id": "b7ef835006e8b8bc",
   "outputs": [],
   "execution_count": 5
  },
  {
   "metadata": {
    "ExecuteTime": {
     "end_time": "2025-01-22T19:09:31.581359Z",
     "start_time": "2025-01-22T19:09:31.575198Z"
    }
   },
   "cell_type": "code",
   "source": "spark.sparkContext.defaultParallelism",
   "id": "27352aae8df30adf",
   "outputs": [
    {
     "data": {
      "text/plain": [
       "24"
      ]
     },
     "execution_count": 6,
     "metadata": {},
     "output_type": "execute_result"
    }
   ],
   "execution_count": 6
  },
  {
   "metadata": {
    "ExecuteTime": {
     "end_time": "2025-01-22T19:11:32.761752Z",
     "start_time": "2025-01-22T19:11:31.565933Z"
    }
   },
   "cell_type": "code",
   "source": [
    "df_1 = spark.range(4, 200, 2)\n",
    "df_2 = spark.range(2, 200, 4)"
   ],
   "id": "d0f4a1ea07d9fcf5",
   "outputs": [],
   "execution_count": 7
  },
  {
   "metadata": {
    "ExecuteTime": {
     "end_time": "2025-01-22T19:11:59.871Z",
     "start_time": "2025-01-22T19:11:59.818015Z"
    }
   },
   "cell_type": "code",
   "source": [
    "df_3 = df_1.repartition(5)\n",
    "df_4 = df_2.repartition(7)"
   ],
   "id": "353454cd673b8b41",
   "outputs": [],
   "execution_count": 8
  },
  {
   "metadata": {
    "ExecuteTime": {
     "end_time": "2025-01-22T19:18:47.239962Z",
     "start_time": "2025-01-22T19:18:47.069483Z"
    }
   },
   "cell_type": "code",
   "source": "df_joined = df_3.join(df_4, on='id')",
   "id": "fcf53de62ff1ba8b",
   "outputs": [],
   "execution_count": 9
  },
  {
   "metadata": {
    "ExecuteTime": {
     "end_time": "2025-01-22T19:21:21.367448Z",
     "start_time": "2025-01-22T19:21:21.294967Z"
    }
   },
   "cell_type": "code",
   "source": "df_sum = df_joined.select(F.sum('id').alias('sum'))",
   "id": "8a34e535f8a38a9d",
   "outputs": [],
   "execution_count": 10
  },
  {
   "metadata": {
    "ExecuteTime": {
     "end_time": "2025-01-22T19:27:52.167185Z",
     "start_time": "2025-01-22T19:27:51.715385Z"
    }
   },
   "cell_type": "code",
   "source": "df_sum.explain()",
   "id": "3d2f5c211ed634b0",
   "outputs": [
    {
     "name": "stdout",
     "output_type": "stream",
     "text": [
      "== Physical Plan ==\n",
      "*(6) HashAggregate(keys=[], functions=[sum(id#0L)])\n",
      "+- Exchange SinglePartition, ENSURE_REQUIREMENTS, [plan_id=59]\n",
      "   +- *(5) HashAggregate(keys=[], functions=[partial_sum(id#0L)])\n",
      "      +- *(5) Project [id#0L]\n",
      "         +- *(5) SortMergeJoin [id#0L], [id#2L], Inner\n",
      "            :- *(2) Sort [id#0L ASC NULLS FIRST], false, 0\n",
      "            :  +- Exchange hashpartitioning(id#0L, 80), ENSURE_REQUIREMENTS, [plan_id=43]\n",
      "            :     +- Exchange RoundRobinPartitioning(5), REPARTITION_BY_NUM, [plan_id=42]\n",
      "            :        +- *(1) Range (4, 200, step=2, splits=24)\n",
      "            +- *(4) Sort [id#2L ASC NULLS FIRST], false, 0\n",
      "               +- Exchange hashpartitioning(id#2L, 80), ENSURE_REQUIREMENTS, [plan_id=50]\n",
      "                  +- Exchange RoundRobinPartitioning(7), REPARTITION_BY_NUM, [plan_id=49]\n",
      "                     +- *(3) Range (2, 200, step=4, splits=24)\n",
      "\n",
      "\n"
     ]
    }
   ],
   "execution_count": 11
  },
  {
   "metadata": {
    "ExecuteTime": {
     "end_time": "2025-01-22T19:29:37.423833Z",
     "start_time": "2025-01-22T19:29:37.406036Z"
    }
   },
   "cell_type": "code",
   "source": "df_union = df_sum.union(df_4)",
   "id": "353f673bc03a6b58",
   "outputs": [],
   "execution_count": 13
  },
  {
   "metadata": {
    "ExecuteTime": {
     "end_time": "2025-01-22T19:31:54.625568Z",
     "start_time": "2025-01-22T19:31:53.490747Z"
    }
   },
   "cell_type": "code",
   "source": "df_union.show()",
   "id": "21a26e2879a22cb8",
   "outputs": [
    {
     "name": "stdout",
     "output_type": "stream",
     "text": [
      "+----+\n",
      "| sum|\n",
      "+----+\n",
      "|4998|\n",
      "|  10|\n",
      "|  26|\n",
      "| 122|\n",
      "| 154|\n",
      "| 186|\n",
      "| 198|\n",
      "|  30|\n",
      "| 118|\n",
      "| 190|\n",
      "|  22|\n",
      "|  38|\n",
      "|  46|\n",
      "|  62|\n",
      "|  66|\n",
      "| 178|\n",
      "| 194|\n",
      "|   6|\n",
      "|  18|\n",
      "|  34|\n",
      "+----+\n",
      "only showing top 20 rows\n",
      "\n"
     ]
    }
   ],
   "execution_count": 15
  },
  {
   "metadata": {},
   "cell_type": "code",
   "outputs": [],
   "execution_count": null,
   "source": "",
   "id": "6bdf208beeb90845"
  }
 ],
 "metadata": {
  "kernelspec": {
   "display_name": "Python 3",
   "language": "python",
   "name": "python3"
  },
  "language_info": {
   "codemirror_mode": {
    "name": "ipython",
    "version": 2
   },
   "file_extension": ".py",
   "mimetype": "text/x-python",
   "name": "python",
   "nbconvert_exporter": "python",
   "pygments_lexer": "ipython2",
   "version": "2.7.6"
  }
 },
 "nbformat": 4,
 "nbformat_minor": 5
}
