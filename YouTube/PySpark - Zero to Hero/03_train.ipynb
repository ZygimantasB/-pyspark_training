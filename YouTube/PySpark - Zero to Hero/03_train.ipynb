{
 "cells": [
  {
   "metadata": {
    "ExecuteTime": {
     "end_time": "2025-01-18T07:45:35.714786Z",
     "start_time": "2025-01-18T07:45:35.604903Z"
    }
   },
   "cell_type": "code",
   "source": [
    "from pyspark.sql import SparkSession\n",
    "import pyspark.sql.functions as F\n",
    "import os"
   ],
   "id": "7f2199dfe08532a9",
   "outputs": [],
   "execution_count": 1
  },
  {
   "metadata": {
    "ExecuteTime": {
     "end_time": "2025-01-18T07:45:35.736814Z",
     "start_time": "2025-01-18T07:45:35.732579Z"
    }
   },
   "cell_type": "code",
   "source": [
    "os.environ['SPARK_HOME'] = r'C:\\spark\\spark-3.5.4-bin-hadoop3'\n",
    "os.environ['PYSPARK_DRIVER_PYTHON'] = 'jupyter'\n",
    "os.environ['PYSPARK_DRIVER_PYTHON_OPTS'] = 'lab'\n",
    "os.environ['PYSPARK_PYTHON'] = 'python'"
   ],
   "id": "56d317f308b4193b",
   "outputs": [],
   "execution_count": 2
  },
  {
   "cell_type": "code",
   "id": "initial_id",
   "metadata": {
    "collapsed": true,
    "ExecuteTime": {
     "end_time": "2025-01-18T07:45:40.223949Z",
     "start_time": "2025-01-18T07:45:35.751449Z"
    }
   },
   "source": [
    "spark = (\n",
    "    SparkSession\n",
    "    .builder\n",
    "    .appName(\"PySpark Zero to Hero\")\n",
    "    .master(\"local[*]\")\n",
    "    .config(\"spark.executor.memory\", \"16g\")\n",
    "    .config(\"spark.driver.memory\", \"16g\")\n",
    "    .config(\"spark.executor.cores\", \"4\")\n",
    "    .config(\"spark.sql.shuffle.partitions\", \"80\")\n",
    "    .config(\"spark.dynamicAllocation.enabled\", \"true\")\n",
    "    .config(\"spark.dynamicAllocation.minExecutors\", \"2\")\n",
    "    .config(\"spark.dynamicAllocation.initialExecutors\", \"24\")\n",
    "    .config(\"spark.dynamicAllocation.maxExecutors\", \"50\")\n",
    "    .config(\"spark.shuffle.service.enabled\", \"true\")\n",
    "    .config(\"spark.serializer\", \"org.apache.spark.serializer.KryoSerializer\")\n",
    "    .getOrCreate()\n",
    ")"
   ],
   "outputs": [],
   "execution_count": 3
  },
  {
   "metadata": {
    "ExecuteTime": {
     "end_time": "2025-01-18T07:46:05.855792Z",
     "start_time": "2025-01-18T07:46:05.849869Z"
    }
   },
   "cell_type": "code",
   "source": [
    "emp_data = [\n",
    "    [\"001\",\"101\",\"John Doe\",\"30\",\"Male\",\"50000\",\"2015-01-01\"],\n",
    "    [\"002\",\"101\",\"Jane Smith\",\"25\",\"Female\",\"45000\",\"2016-02-15\"],\n",
    "    [\"003\",\"102\",\"Bob Brown\",\"35\",\"Male\",\"55000\",\"2014-05-01\"],\n",
    "    [\"004\",\"102\",\"Alice Lee\",\"28\",\"Female\",\"48000\",\"2017-09-30\"],\n",
    "    [\"005\",\"103\",\"Jack Chan\",\"40\",\"Male\",\"60000\",\"2013-04-01\"],\n",
    "    [\"006\",\"103\",\"Jill Wong\",\"32\",\"Female\",\"52000\",\"2018-07-01\"],\n",
    "    [\"007\",\"101\",\"James Johnson\",\"42\",\"Male\",\"70000\",\"2012-03-15\"],\n",
    "    [\"008\",\"102\",\"Kate Kim\",\"29\",\"Female\",\"51000\",\"2019-10-01\"],\n",
    "    [\"009\",\"103\",\"Tom Tan\",\"33\",\"Male\",\"58000\",\"2016-06-01\"],\n",
    "    [\"010\",\"104\",\"Lisa Lee\",\"27\",\"Female\",\"47000\",\"2018-08-01\"],\n",
    "    [\"011\",\"104\",\"David Park\",\"38\",\"Male\",\"65000\",\"2015-11-01\"],\n",
    "    [\"012\",\"105\",\"Susan Chen\",\"31\",\"Female\",\"54000\",\"2017-02-15\"],\n",
    "    [\"013\",\"106\",\"Brian Kim\",\"45\",\"Male\",\"75000\",\"2011-07-01\"],\n",
    "    [\"014\",\"107\",\"Emily Lee\",\"26\",\"Female\",\"46000\",\"2019-01-01\"],\n",
    "    [\"015\",\"106\",\"Michael Lee\",\"37\",\"Male\",\"63000\",\"2014-09-30\"],\n",
    "    [\"016\",\"107\",\"Kelly Zhang\",\"30\",\"Female\",\"49000\",\"2018-04-01\"],\n",
    "    [\"017\",\"105\",\"George Wang\",\"34\",\"Male\",\"57000\",\"2016-03-15\"],\n",
    "    [\"018\",\"104\",\"Nancy Liu\",\"29\",\"Female\",\"50000\",\"2017-06-01\"],\n",
    "    [\"019\",\"103\",\"Steven Chen\",\"36\",\"Male\",\"62000\",\"2015-08-01\"],\n",
    "    [\"020\",\"102\",\"Grace Kim\",\"32\",\"Female\",\"53000\",\"2018-11-01\"]\n",
    "]"
   ],
   "id": "209ecfef14cc5ca3",
   "outputs": [],
   "execution_count": 6
  },
  {
   "metadata": {
    "ExecuteTime": {
     "end_time": "2025-01-18T07:46:06.301488Z",
     "start_time": "2025-01-18T07:46:06.298488Z"
    }
   },
   "cell_type": "code",
   "source": "emp_schema = \"employee_id string, department_id string, name string, age string, gender string, salary string, hire_date string\"",
   "id": "95fea128c5b0249b",
   "outputs": [],
   "execution_count": 7
  },
  {
   "metadata": {
    "ExecuteTime": {
     "end_time": "2025-01-18T07:46:08.846911Z",
     "start_time": "2025-01-18T07:46:06.817779Z"
    }
   },
   "cell_type": "code",
   "source": "emp = spark.createDataFrame(data=emp_data, schema=emp_schema)",
   "id": "71a4340548fd450e",
   "outputs": [],
   "execution_count": 8
  },
  {
   "metadata": {
    "ExecuteTime": {
     "end_time": "2025-01-18T07:49:06.302743Z",
     "start_time": "2025-01-18T07:49:06.191777Z"
    }
   },
   "cell_type": "code",
   "source": [
    "emp_casted = emp.select(\n",
    "    'employee_id', 'name', 'age', F.col('salary')\n",
    "    .cast('double').alias('salary')\n",
    ")"
   ],
   "id": "1b56b9e8cff33c",
   "outputs": [],
   "execution_count": 9
  },
  {
   "metadata": {
    "ExecuteTime": {
     "end_time": "2025-01-18T07:49:13.003628Z",
     "start_time": "2025-01-18T07:49:12.983579Z"
    }
   },
   "cell_type": "code",
   "source": "emp_casted.printSchema()",
   "id": "ddf06e97207a2319",
   "outputs": [
    {
     "name": "stdout",
     "output_type": "stream",
     "text": [
      "root\n",
      " |-- employee_id: string (nullable = true)\n",
      " |-- name: string (nullable = true)\n",
      " |-- age: string (nullable = true)\n",
      " |-- salary: double (nullable = true)\n",
      "\n"
     ]
    }
   ],
   "execution_count": 10
  },
  {
   "metadata": {
    "ExecuteTime": {
     "end_time": "2025-01-18T07:50:06.656398Z",
     "start_time": "2025-01-18T07:50:06.625342Z"
    }
   },
   "cell_type": "code",
   "source": [
    "emp_taxed = emp_casted.withColumn(\n",
    "    'tax', F.col('salary') * 0.2\n",
    ")"
   ],
   "id": "ff9e05117addb336",
   "outputs": [],
   "execution_count": 11
  },
  {
   "metadata": {
    "ExecuteTime": {
     "end_time": "2025-01-18T07:50:29.962648Z",
     "start_time": "2025-01-18T07:50:11.601421Z"
    }
   },
   "cell_type": "code",
   "source": "emp_taxed.show()",
   "id": "1c788fcb892c3b05",
   "outputs": [
    {
     "name": "stdout",
     "output_type": "stream",
     "text": [
      "+-----------+-------------+---+-------+-------+\n",
      "|employee_id|         name|age| salary|    tax|\n",
      "+-----------+-------------+---+-------+-------+\n",
      "|        001|     John Doe| 30|50000.0|10000.0|\n",
      "|        002|   Jane Smith| 25|45000.0| 9000.0|\n",
      "|        003|    Bob Brown| 35|55000.0|11000.0|\n",
      "|        004|    Alice Lee| 28|48000.0| 9600.0|\n",
      "|        005|    Jack Chan| 40|60000.0|12000.0|\n",
      "|        006|    Jill Wong| 32|52000.0|10400.0|\n",
      "|        007|James Johnson| 42|70000.0|14000.0|\n",
      "|        008|     Kate Kim| 29|51000.0|10200.0|\n",
      "|        009|      Tom Tan| 33|58000.0|11600.0|\n",
      "|        010|     Lisa Lee| 27|47000.0| 9400.0|\n",
      "|        011|   David Park| 38|65000.0|13000.0|\n",
      "|        012|   Susan Chen| 31|54000.0|10800.0|\n",
      "|        013|    Brian Kim| 45|75000.0|15000.0|\n",
      "|        014|    Emily Lee| 26|46000.0| 9200.0|\n",
      "|        015|  Michael Lee| 37|63000.0|12600.0|\n",
      "|        016|  Kelly Zhang| 30|49000.0| 9800.0|\n",
      "|        017|  George Wang| 34|57000.0|11400.0|\n",
      "|        018|    Nancy Liu| 29|50000.0|10000.0|\n",
      "|        019|  Steven Chen| 36|62000.0|12400.0|\n",
      "|        020|    Grace Kim| 32|53000.0|10600.0|\n",
      "+-----------+-------------+---+-------+-------+\n",
      "\n"
     ]
    }
   ],
   "execution_count": 12
  },
  {
   "metadata": {
    "ExecuteTime": {
     "end_time": "2025-01-18T07:51:32.531438Z",
     "start_time": "2025-01-18T07:51:32.512529Z"
    }
   },
   "cell_type": "code",
   "source": [
    "emp_new_cols = emp_taxed.withColumn(\n",
    "    'ColumnOne', F.lit(1)\n",
    ").withColumn(\n",
    "    'ColumnTwo', F.lit('two')\n",
    ")"
   ],
   "id": "9d34ef63b1ba9449",
   "outputs": [],
   "execution_count": 13
  },
  {
   "metadata": {
    "ExecuteTime": {
     "end_time": "2025-01-18T07:51:54.864555Z",
     "start_time": "2025-01-18T07:51:48.435149Z"
    }
   },
   "cell_type": "code",
   "source": "emp_new_cols.show(5)",
   "id": "11b71ff215a84053",
   "outputs": [
    {
     "name": "stdout",
     "output_type": "stream",
     "text": [
      "+-----------+----------+---+-------+-------+---------+---------+\n",
      "|employee_id|      name|age| salary|    tax|ColumnOne|ColumnTwo|\n",
      "+-----------+----------+---+-------+-------+---------+---------+\n",
      "|        001|  John Doe| 30|50000.0|10000.0|        1|      two|\n",
      "|        002|Jane Smith| 25|45000.0| 9000.0|        1|      two|\n",
      "|        003| Bob Brown| 35|55000.0|11000.0|        1|      two|\n",
      "|        004| Alice Lee| 28|48000.0| 9600.0|        1|      two|\n",
      "|        005| Jack Chan| 40|60000.0|12000.0|        1|      two|\n",
      "+-----------+----------+---+-------+-------+---------+---------+\n",
      "only showing top 5 rows\n",
      "\n"
     ]
    }
   ],
   "execution_count": 14
  },
  {
   "metadata": {
    "ExecuteTime": {
     "end_time": "2025-01-18T07:52:27.490718Z",
     "start_time": "2025-01-18T07:52:27.481146Z"
    }
   },
   "cell_type": "code",
   "source": [
    "emp_1 = emp_new_cols.withColumnRenamed(\n",
    "    'employee_id', 'emp_id'\n",
    ")"
   ],
   "id": "2c9ef6bcba097370",
   "outputs": [],
   "execution_count": 15
  },
  {
   "metadata": {
    "ExecuteTime": {
     "end_time": "2025-01-18T07:52:48.074879Z",
     "start_time": "2025-01-18T07:52:32.067068Z"
    }
   },
   "cell_type": "code",
   "source": "emp_1.show()",
   "id": "90696805760b0fb8",
   "outputs": [
    {
     "name": "stdout",
     "output_type": "stream",
     "text": [
      "+------+-------------+---+-------+-------+---------+---------+\n",
      "|emp_id|         name|age| salary|    tax|ColumnOne|ColumnTwo|\n",
      "+------+-------------+---+-------+-------+---------+---------+\n",
      "|   001|     John Doe| 30|50000.0|10000.0|        1|      two|\n",
      "|   002|   Jane Smith| 25|45000.0| 9000.0|        1|      two|\n",
      "|   003|    Bob Brown| 35|55000.0|11000.0|        1|      two|\n",
      "|   004|    Alice Lee| 28|48000.0| 9600.0|        1|      two|\n",
      "|   005|    Jack Chan| 40|60000.0|12000.0|        1|      two|\n",
      "|   006|    Jill Wong| 32|52000.0|10400.0|        1|      two|\n",
      "|   007|James Johnson| 42|70000.0|14000.0|        1|      two|\n",
      "|   008|     Kate Kim| 29|51000.0|10200.0|        1|      two|\n",
      "|   009|      Tom Tan| 33|58000.0|11600.0|        1|      two|\n",
      "|   010|     Lisa Lee| 27|47000.0| 9400.0|        1|      two|\n",
      "|   011|   David Park| 38|65000.0|13000.0|        1|      two|\n",
      "|   012|   Susan Chen| 31|54000.0|10800.0|        1|      two|\n",
      "|   013|    Brian Kim| 45|75000.0|15000.0|        1|      two|\n",
      "|   014|    Emily Lee| 26|46000.0| 9200.0|        1|      two|\n",
      "|   015|  Michael Lee| 37|63000.0|12600.0|        1|      two|\n",
      "|   016|  Kelly Zhang| 30|49000.0| 9800.0|        1|      two|\n",
      "|   017|  George Wang| 34|57000.0|11400.0|        1|      two|\n",
      "|   018|    Nancy Liu| 29|50000.0|10000.0|        1|      two|\n",
      "|   019|  Steven Chen| 36|62000.0|12400.0|        1|      two|\n",
      "|   020|    Grace Kim| 32|53000.0|10600.0|        1|      two|\n",
      "+------+-------------+---+-------+-------+---------+---------+\n",
      "\n"
     ]
    }
   ],
   "execution_count": 16
  },
  {
   "metadata": {
    "ExecuteTime": {
     "end_time": "2025-01-18T07:53:35.096505Z",
     "start_time": "2025-01-18T07:53:35.089121Z"
    }
   },
   "cell_type": "code",
   "source": [
    "emp_2 = emp_new_cols.withColumnRenamed(\n",
    "    \"ColumnTwo\", 'Column Two'\n",
    ")"
   ],
   "id": "8de83fd7ca764f83",
   "outputs": [],
   "execution_count": 17
  },
  {
   "metadata": {
    "ExecuteTime": {
     "end_time": "2025-01-18T07:53:59.498056Z",
     "start_time": "2025-01-18T07:53:43.369999Z"
    }
   },
   "cell_type": "code",
   "source": "emp_2.show()",
   "id": "eaaf9e56b9dc8b8d",
   "outputs": [
    {
     "name": "stdout",
     "output_type": "stream",
     "text": [
      "+-----------+-------------+---+-------+-------+---------+----------+\n",
      "|employee_id|         name|age| salary|    tax|ColumnOne|Volumn Two|\n",
      "+-----------+-------------+---+-------+-------+---------+----------+\n",
      "|        001|     John Doe| 30|50000.0|10000.0|        1|       two|\n",
      "|        002|   Jane Smith| 25|45000.0| 9000.0|        1|       two|\n",
      "|        003|    Bob Brown| 35|55000.0|11000.0|        1|       two|\n",
      "|        004|    Alice Lee| 28|48000.0| 9600.0|        1|       two|\n",
      "|        005|    Jack Chan| 40|60000.0|12000.0|        1|       two|\n",
      "|        006|    Jill Wong| 32|52000.0|10400.0|        1|       two|\n",
      "|        007|James Johnson| 42|70000.0|14000.0|        1|       two|\n",
      "|        008|     Kate Kim| 29|51000.0|10200.0|        1|       two|\n",
      "|        009|      Tom Tan| 33|58000.0|11600.0|        1|       two|\n",
      "|        010|     Lisa Lee| 27|47000.0| 9400.0|        1|       two|\n",
      "|        011|   David Park| 38|65000.0|13000.0|        1|       two|\n",
      "|        012|   Susan Chen| 31|54000.0|10800.0|        1|       two|\n",
      "|        013|    Brian Kim| 45|75000.0|15000.0|        1|       two|\n",
      "|        014|    Emily Lee| 26|46000.0| 9200.0|        1|       two|\n",
      "|        015|  Michael Lee| 37|63000.0|12600.0|        1|       two|\n",
      "|        016|  Kelly Zhang| 30|49000.0| 9800.0|        1|       two|\n",
      "|        017|  George Wang| 34|57000.0|11400.0|        1|       two|\n",
      "|        018|    Nancy Liu| 29|50000.0|10000.0|        1|       two|\n",
      "|        019|  Steven Chen| 36|62000.0|12400.0|        1|       two|\n",
      "|        020|    Grace Kim| 32|53000.0|10600.0|        1|       two|\n",
      "+-----------+-------------+---+-------+-------+---------+----------+\n",
      "\n"
     ]
    }
   ],
   "execution_count": 19
  },
  {
   "metadata": {
    "ExecuteTime": {
     "end_time": "2025-01-18T07:54:19.382510Z",
     "start_time": "2025-01-18T07:54:19.371823Z"
    }
   },
   "cell_type": "code",
   "source": "emp_dropped = emp_new_cols.drop('ColumnTwo')",
   "id": "ce16fbb9a78f840",
   "outputs": [],
   "execution_count": 20
  },
  {
   "metadata": {
    "ExecuteTime": {
     "end_time": "2025-01-18T07:54:43.055697Z",
     "start_time": "2025-01-18T07:54:27.161347Z"
    }
   },
   "cell_type": "code",
   "source": "emp_dropped.show()",
   "id": "27cf4a37479ed09",
   "outputs": [
    {
     "name": "stdout",
     "output_type": "stream",
     "text": [
      "+-----------+-------------+---+-------+-------+---------+\n",
      "|employee_id|         name|age| salary|    tax|ColumnOne|\n",
      "+-----------+-------------+---+-------+-------+---------+\n",
      "|        001|     John Doe| 30|50000.0|10000.0|        1|\n",
      "|        002|   Jane Smith| 25|45000.0| 9000.0|        1|\n",
      "|        003|    Bob Brown| 35|55000.0|11000.0|        1|\n",
      "|        004|    Alice Lee| 28|48000.0| 9600.0|        1|\n",
      "|        005|    Jack Chan| 40|60000.0|12000.0|        1|\n",
      "|        006|    Jill Wong| 32|52000.0|10400.0|        1|\n",
      "|        007|James Johnson| 42|70000.0|14000.0|        1|\n",
      "|        008|     Kate Kim| 29|51000.0|10200.0|        1|\n",
      "|        009|      Tom Tan| 33|58000.0|11600.0|        1|\n",
      "|        010|     Lisa Lee| 27|47000.0| 9400.0|        1|\n",
      "|        011|   David Park| 38|65000.0|13000.0|        1|\n",
      "|        012|   Susan Chen| 31|54000.0|10800.0|        1|\n",
      "|        013|    Brian Kim| 45|75000.0|15000.0|        1|\n",
      "|        014|    Emily Lee| 26|46000.0| 9200.0|        1|\n",
      "|        015|  Michael Lee| 37|63000.0|12600.0|        1|\n",
      "|        016|  Kelly Zhang| 30|49000.0| 9800.0|        1|\n",
      "|        017|  George Wang| 34|57000.0|11400.0|        1|\n",
      "|        018|    Nancy Liu| 29|50000.0|10000.0|        1|\n",
      "|        019|  Steven Chen| 36|62000.0|12400.0|        1|\n",
      "|        020|    Grace Kim| 32|53000.0|10600.0|        1|\n",
      "+-----------+-------------+---+-------+-------+---------+\n",
      "\n"
     ]
    }
   ],
   "execution_count": 21
  },
  {
   "metadata": {
    "ExecuteTime": {
     "end_time": "2025-01-18T07:55:44.685077Z",
     "start_time": "2025-01-18T07:55:44.675935Z"
    }
   },
   "cell_type": "code",
   "source": "emp_dropped = emp_new_cols.drop('ColumnOne', 'ColumnTwo')",
   "id": "d5be179bc7ce3ce1",
   "outputs": [],
   "execution_count": 22
  },
  {
   "metadata": {
    "ExecuteTime": {
     "end_time": "2025-01-18T07:56:09.155214Z",
     "start_time": "2025-01-18T07:56:03.282427Z"
    }
   },
   "cell_type": "code",
   "source": "emp_dropped.show(5)",
   "id": "6f1003ba18acdfe2",
   "outputs": [
    {
     "name": "stdout",
     "output_type": "stream",
     "text": [
      "+-----------+----------+---+-------+-------+\n",
      "|employee_id|      name|age| salary|    tax|\n",
      "+-----------+----------+---+-------+-------+\n",
      "|        001|  John Doe| 30|50000.0|10000.0|\n",
      "|        002|Jane Smith| 25|45000.0| 9000.0|\n",
      "|        003| Bob Brown| 35|55000.0|11000.0|\n",
      "|        004| Alice Lee| 28|48000.0| 9600.0|\n",
      "|        005| Jack Chan| 40|60000.0|12000.0|\n",
      "+-----------+----------+---+-------+-------+\n",
      "only showing top 5 rows\n",
      "\n"
     ]
    }
   ],
   "execution_count": 24
  },
  {
   "metadata": {
    "ExecuteTime": {
     "end_time": "2025-01-18T07:57:56.290997Z",
     "start_time": "2025-01-18T07:57:56.257732Z"
    }
   },
   "cell_type": "code",
   "source": "emp_filtered = emp_dropped.where('tax > 10000')",
   "id": "77c8599af689c932",
   "outputs": [],
   "execution_count": 25
  },
  {
   "metadata": {
    "ExecuteTime": {
     "end_time": "2025-01-18T07:58:19.597907Z",
     "start_time": "2025-01-18T07:58:03.194130Z"
    }
   },
   "cell_type": "code",
   "source": "emp_filtered.show(5)",
   "id": "66d0f936c7875dd",
   "outputs": [
    {
     "name": "stdout",
     "output_type": "stream",
     "text": [
      "+-----------+-------------+---+-------+-------+\n",
      "|employee_id|         name|age| salary|    tax|\n",
      "+-----------+-------------+---+-------+-------+\n",
      "|        003|    Bob Brown| 35|55000.0|11000.0|\n",
      "|        005|    Jack Chan| 40|60000.0|12000.0|\n",
      "|        006|    Jill Wong| 32|52000.0|10400.0|\n",
      "|        007|James Johnson| 42|70000.0|14000.0|\n",
      "|        008|     Kate Kim| 29|51000.0|10200.0|\n",
      "+-----------+-------------+---+-------+-------+\n",
      "only showing top 5 rows\n",
      "\n"
     ]
    }
   ],
   "execution_count": 26
  },
  {
   "metadata": {
    "ExecuteTime": {
     "end_time": "2025-01-18T07:58:21.090380Z",
     "start_time": "2025-01-18T07:58:21.085167Z"
    }
   },
   "cell_type": "code",
   "source": "emp_limit = emp_filtered.limit(5)",
   "id": "8cf4f6d42522964f",
   "outputs": [],
   "execution_count": 27
  },
  {
   "metadata": {
    "ExecuteTime": {
     "end_time": "2025-01-18T07:58:52.623838Z",
     "start_time": "2025-01-18T07:58:36.556409Z"
    }
   },
   "cell_type": "code",
   "source": "emp_limit.show(5)",
   "id": "d028687f0fc2314a",
   "outputs": [
    {
     "name": "stdout",
     "output_type": "stream",
     "text": [
      "+-----------+-------------+---+-------+-------+\n",
      "|employee_id|         name|age| salary|    tax|\n",
      "+-----------+-------------+---+-------+-------+\n",
      "|        003|    Bob Brown| 35|55000.0|11000.0|\n",
      "|        005|    Jack Chan| 40|60000.0|12000.0|\n",
      "|        006|    Jill Wong| 32|52000.0|10400.0|\n",
      "|        007|James Johnson| 42|70000.0|14000.0|\n",
      "|        008|     Kate Kim| 29|51000.0|10200.0|\n",
      "+-----------+-------------+---+-------+-------+\n",
      "\n"
     ]
    }
   ],
   "execution_count": 28
  },
  {
   "metadata": {
    "ExecuteTime": {
     "end_time": "2025-01-18T07:59:59.833578Z",
     "start_time": "2025-01-18T07:59:59.825723Z"
    }
   },
   "cell_type": "code",
   "source": [
    "columns = {\n",
    "    'tax': F.col('salary') * 0.2,\n",
    "    'one_number': F.lit(1),\n",
    "    'two_number': F.lit('two')\n",
    "}"
   ],
   "id": "4c12dfbd44a6a350",
   "outputs": [],
   "execution_count": 29
  },
  {
   "metadata": {
    "ExecuteTime": {
     "end_time": "2025-01-18T08:00:29.103091Z",
     "start_time": "2025-01-18T08:00:29.091149Z"
    }
   },
   "cell_type": "code",
   "source": [
    "emp_final = emp_filtered.withColumns(\n",
    "    columns\n",
    ")"
   ],
   "id": "c39bd6a1e1810551",
   "outputs": [],
   "execution_count": 30
  },
  {
   "metadata": {
    "ExecuteTime": {
     "end_time": "2025-01-18T08:00:52.766640Z",
     "start_time": "2025-01-18T08:00:36.524076Z"
    }
   },
   "cell_type": "code",
   "source": "emp_final.show(5)",
   "id": "8f4547382fbebc06",
   "outputs": [
    {
     "name": "stdout",
     "output_type": "stream",
     "text": [
      "+-----------+-------------+---+-------+-------+----------+----------+\n",
      "|employee_id|         name|age| salary|    tax|one_number|two_number|\n",
      "+-----------+-------------+---+-------+-------+----------+----------+\n",
      "|        003|    Bob Brown| 35|55000.0|11000.0|         1|       two|\n",
      "|        005|    Jack Chan| 40|60000.0|12000.0|         1|       two|\n",
      "|        006|    Jill Wong| 32|52000.0|10400.0|         1|       two|\n",
      "|        007|James Johnson| 42|70000.0|14000.0|         1|       two|\n",
      "|        008|     Kate Kim| 29|51000.0|10200.0|         1|       two|\n",
      "+-----------+-------------+---+-------+-------+----------+----------+\n",
      "only showing top 5 rows\n",
      "\n"
     ]
    }
   ],
   "execution_count": 31
  },
  {
   "metadata": {},
   "cell_type": "code",
   "outputs": [],
   "execution_count": null,
   "source": "",
   "id": "6d5118fc2a3acc81"
  }
 ],
 "metadata": {
  "kernelspec": {
   "display_name": "Python 3",
   "language": "python",
   "name": "python3"
  },
  "language_info": {
   "codemirror_mode": {
    "name": "ipython",
    "version": 2
   },
   "file_extension": ".py",
   "mimetype": "text/x-python",
   "name": "python",
   "nbconvert_exporter": "python",
   "pygments_lexer": "ipython2",
   "version": "2.7.6"
  }
 },
 "nbformat": 4,
 "nbformat_minor": 5
}
