{
 "cells": [
  {
   "metadata": {},
   "cell_type": "markdown",
   "source": "# https://www.youtube.com/watch?v=_e0-QYbO8iI&list=PL2IsFZBGM_IHCl9zhRVC1EXTomkEp_1zm&index=11",
   "id": "a2d0f721e30364d6"
  },
  {
   "metadata": {
    "ExecuteTime": {
     "end_time": "2025-01-19T16:47:27.491543Z",
     "start_time": "2025-01-19T16:47:27.320544Z"
    }
   },
   "cell_type": "code",
   "source": [
    "from pyspark.sql import SparkSession\n",
    "import pyspark.sql.functions as F\n",
    "import os"
   ],
   "id": "c681bb914db8b52c",
   "outputs": [],
   "execution_count": 1
  },
  {
   "metadata": {
    "ExecuteTime": {
     "end_time": "2025-01-19T16:47:27.499004Z",
     "start_time": "2025-01-19T16:47:27.495636Z"
    }
   },
   "cell_type": "code",
   "source": [
    "os.environ['SPARK_HOME'] = r'C:\\spark\\spark-3.5.4-bin-hadoop3'\n",
    "os.environ['PYSPARK_DRIVER_PYTHON'] = 'jupyter'\n",
    "os.environ['PYSPARK_DRIVER_PYTHON_OPTS'] = 'lab'\n",
    "os.environ['PYSPARK_PYTHON'] = 'python'"
   ],
   "id": "f5f3df696eb45970",
   "outputs": [],
   "execution_count": 2
  },
  {
   "metadata": {
    "ExecuteTime": {
     "end_time": "2025-01-19T16:47:31.624723Z",
     "start_time": "2025-01-19T16:47:27.673006Z"
    }
   },
   "cell_type": "code",
   "source": [
    "spark = (\n",
    "    SparkSession\n",
    "    .builder\n",
    "    .appName(\"PySpark Zero to Hero\")\n",
    "    .master(\"local[*]\")\n",
    "    .config(\"spark.executor.memory\", \"16g\")\n",
    "    .config(\"spark.driver.memory\", \"16g\")\n",
    "    .config(\"spark.executor.cores\", \"4\")\n",
    "    .config(\"spark.sql.shuffle.partitions\", \"80\")\n",
    "    .config(\"spark.dynamicAllocation.enabled\", \"true\")\n",
    "    .config(\"spark.dynamicAllocation.minExecutors\", \"2\")\n",
    "    .config(\"spark.dynamicAllocation.initialExecutors\", \"24\")\n",
    "    .config(\"spark.dynamicAllocation.maxExecutors\", \"50\")\n",
    "    .config(\"spark.shuffle.service.enabled\", \"true\")\n",
    "    .config(\"spark.serializer\", \"org.apache.spark.serializer.KryoSerializer\")\n",
    "    .getOrCreate()\n",
    ")"
   ],
   "id": "d2a7461dbcb1b54a",
   "outputs": [],
   "execution_count": 3
  },
  {
   "metadata": {
    "ExecuteTime": {
     "end_time": "2025-01-19T16:47:31.644787Z",
     "start_time": "2025-01-19T16:47:31.638248Z"
    }
   },
   "cell_type": "code",
   "source": [
    "emp_data = [\n",
    "    [\"001\",\"101\",\"John Doe\",\"30\",\"Male\",\"50000\",\"2015-01-01\"],\n",
    "    [\"002\",\"101\",\"Jane Smith\",\"25\",\"Female\",\"45000\",\"2016-02-15\"],\n",
    "    [\"003\",\"102\",\"Bob Brown\",\"35\",\"Male\",\"55000\",\"2014-05-01\"],\n",
    "    [\"004\",\"102\",\"Alice Lee\",\"28\",\"Female\",\"48000\",\"2017-09-30\"],\n",
    "    [\"005\",\"103\",\"Jack Chan\",\"40\",\"Male\",\"60000\",\"2013-04-01\"],\n",
    "    [\"006\",\"103\",\"Jill Wong\",\"32\",\"Female\",\"52000\",\"2018-07-01\"],\n",
    "    [\"007\",\"101\",\"James Johnson\",\"42\",\"Male\",\"70000\",\"2012-03-15\"],\n",
    "    [\"008\",\"102\",\"Kate Kim\",\"29\",\"Female\",\"51000\",\"2019-10-01\"],\n",
    "    [\"009\",\"103\",\"Tom Tan\",\"33\",\"Male\",\"58000\",\"2016-06-01\"],\n",
    "    [\"010\",\"104\",\"Lisa Lee\",\"27\",\"Female\",\"47000\",\"2018-08-01\"],\n",
    "    [\"011\",\"104\",\"David Park\",\"38\",\"Male\",\"65000\",\"2015-11-01\"],\n",
    "    [\"012\",\"105\",\"Susan Chen\",\"31\",\"Female\",\"54000\",\"2017-02-15\"],\n",
    "    [\"013\",\"106\",\"Brian Kim\",\"45\",\"Male\",\"75000\",\"2011-07-01\"],\n",
    "    [\"014\",\"107\",\"Emily Lee\",\"26\",\"Female\",\"46000\",\"2019-01-01\"],\n",
    "    [\"015\",\"106\",\"Michael Lee\",\"37\",\"Male\",\"63000\",\"2014-09-30\"],\n",
    "    [\"016\",\"107\",\"Kelly Zhang\",\"30\",\"Female\",\"49000\",\"2018-04-01\"],\n",
    "    [\"017\",\"105\",\"George Wang\",\"34\",\"Male\",\"57000\",\"2016-03-15\"],\n",
    "    [\"018\",\"104\",\"Nancy Liu\",\"29\",\"\",\"50000\",\"2017-06-01\"],\n",
    "    [\"019\",\"103\",\"Steven Chen\",\"36\",\"Male\",\"62000\",\"2015-08-01\"],\n",
    "    [\"020\",\"102\",\"Grace Kim\",\"32\",\"Female\",\"53000\",\"2018-11-01\"]\n",
    "]\n",
    "\n",
    "emp_schema = \"employee_id string, department_id string, name string, age string, gender string, salary string, hire_date string\"\n",
    "\n",
    "dept_data = [\n",
    "    [\"101\", \"Sales\", \"NYC\", \"US\", \"1000000\"],\n",
    "    [\"102\", \"Marketing\", \"LA\", \"US\", \"900000\"],\n",
    "    [\"103\", \"Finance\", \"London\", \"UK\", \"1200000\"],\n",
    "    [\"104\", \"Engineering\", \"Beijing\", \"China\", \"1500000\"],\n",
    "    [\"105\", \"Human Resources\", \"Tokyo\", \"Japan\", \"800000\"],\n",
    "    [\"106\", \"Research and Development\", \"Perth\", \"Australia\", \"1100000\"],\n",
    "    [\"107\", \"Customer Service\", \"Sydney\", \"Australia\", \"950000\"]\n",
    "]\n",
    "\n",
    "dept_schema = \"department_id string, department_name string, city string, country string, budget string\""
   ],
   "id": "52b4095eea82cb14",
   "outputs": [],
   "execution_count": 4
  },
  {
   "metadata": {
    "ExecuteTime": {
     "end_time": "2025-01-19T16:47:33.852671Z",
     "start_time": "2025-01-19T16:47:31.659088Z"
    }
   },
   "cell_type": "code",
   "source": [
    "emp = spark.createDataFrame(data=emp_data, schema=emp_schema)\n",
    "dept = spark.createDataFrame(data=dept_data, schema=dept_schema)"
   ],
   "id": "41d7ce05b10c5f1b",
   "outputs": [],
   "execution_count": 5
  },
  {
   "metadata": {
    "ExecuteTime": {
     "end_time": "2025-01-19T16:48:56.595667Z",
     "start_time": "2025-01-19T16:48:56.577581Z"
    }
   },
   "cell_type": "code",
   "source": "emp.printSchema()",
   "id": "3c4abc1f1ee89e20",
   "outputs": [
    {
     "name": "stdout",
     "output_type": "stream",
     "text": [
      "root\n",
      " |-- employee_id: string (nullable = true)\n",
      " |-- department_id: string (nullable = true)\n",
      " |-- name: string (nullable = true)\n",
      " |-- age: string (nullable = true)\n",
      " |-- gender: string (nullable = true)\n",
      " |-- salary: string (nullable = true)\n",
      " |-- hire_date: string (nullable = true)\n",
      "\n"
     ]
    }
   ],
   "execution_count": 6
  },
  {
   "metadata": {
    "ExecuteTime": {
     "end_time": "2025-01-19T16:49:00.577582Z",
     "start_time": "2025-01-19T16:49:00.574049Z"
    }
   },
   "cell_type": "code",
   "source": "dept.printSchema()",
   "id": "e5b1eb3ca79112e7",
   "outputs": [
    {
     "name": "stdout",
     "output_type": "stream",
     "text": [
      "root\n",
      " |-- department_id: string (nullable = true)\n",
      " |-- department_name: string (nullable = true)\n",
      " |-- city: string (nullable = true)\n",
      " |-- country: string (nullable = true)\n",
      " |-- budget: string (nullable = true)\n",
      "\n"
     ]
    }
   ],
   "execution_count": 7
  },
  {
   "metadata": {
    "ExecuteTime": {
     "end_time": "2025-01-19T16:49:56.838825Z",
     "start_time": "2025-01-19T16:49:56.289082Z"
    }
   },
   "cell_type": "code",
   "source": "emp.rdd.getNumPartitions()",
   "id": "cc7726e86a4a5d58",
   "outputs": [
    {
     "data": {
      "text/plain": [
       "24"
      ]
     },
     "execution_count": 8,
     "metadata": {},
     "output_type": "execute_result"
    }
   ],
   "execution_count": 8
  },
  {
   "metadata": {
    "ExecuteTime": {
     "end_time": "2025-01-19T16:50:09.081223Z",
     "start_time": "2025-01-19T16:50:09.046409Z"
    }
   },
   "cell_type": "code",
   "source": "dept.rdd.getNumPartitions()",
   "id": "abd533edf8319922",
   "outputs": [
    {
     "data": {
      "text/plain": [
       "24"
      ]
     },
     "execution_count": 9,
     "metadata": {},
     "output_type": "execute_result"
    }
   ],
   "execution_count": 9
  },
  {
   "metadata": {
    "ExecuteTime": {
     "end_time": "2025-01-19T16:54:52.701198Z",
     "start_time": "2025-01-19T16:54:52.692297Z"
    }
   },
   "cell_type": "code",
   "source": [
    "# emp_partitioned = emp.repartition(4)\n",
    "emp_partitioned = emp.repartition(10)"
   ],
   "id": "22f3dbdba6d5b43",
   "outputs": [],
   "execution_count": 13
  },
  {
   "metadata": {
    "ExecuteTime": {
     "end_time": "2025-01-19T16:55:09.596162Z",
     "start_time": "2025-01-19T16:54:53.567759Z"
    }
   },
   "cell_type": "code",
   "source": "emp_partitioned.rdd.getNumPartitions()",
   "id": "753698c78ee05c4c",
   "outputs": [
    {
     "data": {
      "text/plain": [
       "10"
      ]
     },
     "execution_count": 14,
     "metadata": {},
     "output_type": "execute_result"
    }
   ],
   "execution_count": 14
  },
  {
   "metadata": {
    "ExecuteTime": {
     "end_time": "2025-01-19T16:56:42.761241Z",
     "start_time": "2025-01-19T16:56:42.754788Z"
    }
   },
   "cell_type": "code",
   "source": [
    "# emp_partitioned = emp.repartitionByRange(\"salary\", 2, 4)\n",
    "emp_partitioned = emp.coalesce(5)"
   ],
   "id": "b5ec449955f22d5e",
   "outputs": [],
   "execution_count": 15
  },
  {
   "metadata": {
    "ExecuteTime": {
     "end_time": "2025-01-19T16:56:47.511207Z",
     "start_time": "2025-01-19T16:56:47.483990Z"
    }
   },
   "cell_type": "code",
   "source": "emp_partitioned.rdd.getNumPartitions()",
   "id": "49fb74031f230517",
   "outputs": [
    {
     "data": {
      "text/plain": [
       "5"
      ]
     },
     "execution_count": 16,
     "metadata": {},
     "output_type": "execute_result"
    }
   ],
   "execution_count": 16
  },
  {
   "metadata": {
    "ExecuteTime": {
     "end_time": "2025-01-19T17:03:16.755874Z",
     "start_time": "2025-01-19T17:03:16.746349Z"
    }
   },
   "cell_type": "code",
   "source": "emp_partitioned = emp.repartition(7, 'department_id')",
   "id": "62c3cd7be5c31688",
   "outputs": [],
   "execution_count": 22
  },
  {
   "metadata": {
    "ExecuteTime": {
     "end_time": "2025-01-19T17:03:32.738267Z",
     "start_time": "2025-01-19T17:03:17.366969Z"
    }
   },
   "cell_type": "code",
   "source": "emp_partitioned.rdd.getNumPartitions()",
   "id": "6b1eb01d86bf39ef",
   "outputs": [
    {
     "data": {
      "text/plain": [
       "7"
      ]
     },
     "execution_count": 23,
     "metadata": {},
     "output_type": "execute_result"
    }
   ],
   "execution_count": 23
  },
  {
   "metadata": {
    "ExecuteTime": {
     "end_time": "2025-01-19T17:31:21.410833Z",
     "start_time": "2025-01-19T17:31:21.398551Z"
    }
   },
   "cell_type": "code",
   "source": [
    "\n",
    "emp_1 = emp.repartition(4, 'department_id').withColumn(\n",
    "    'partition_num', F.spark_partition_id()\n",
    ")"
   ],
   "id": "5026c19dc89cf9d8",
   "outputs": [],
   "execution_count": 42
  },
  {
   "metadata": {
    "ExecuteTime": {
     "end_time": "2025-01-19T17:31:37.200354Z",
     "start_time": "2025-01-19T17:31:21.895560Z"
    }
   },
   "cell_type": "code",
   "source": "emp_1.show(5)",
   "id": "bfef58d98acf6c1a",
   "outputs": [
    {
     "name": "stdout",
     "output_type": "stream",
     "text": [
      "+-----------+-------------+-----------+---+------+------+----------+-------------+\n",
      "|employee_id|department_id|       name|age|gender|salary| hire_date|partition_num|\n",
      "+-----------+-------------+-----------+---+------+------+----------+-------------+\n",
      "|        003|          102|  Bob Brown| 35|  Male| 55000|2014-05-01|            0|\n",
      "|        004|          102|  Alice Lee| 28|Female| 48000|2017-09-30|            0|\n",
      "|        008|          102|   Kate Kim| 29|Female| 51000|2019-10-01|            0|\n",
      "|        014|          107|  Emily Lee| 26|Female| 46000|2019-01-01|            0|\n",
      "|        016|          107|Kelly Zhang| 30|Female| 49000|2018-04-01|            0|\n",
      "+-----------+-------------+-----------+---+------+------+----------+-------------+\n",
      "only showing top 5 rows\n",
      "\n"
     ]
    }
   ],
   "execution_count": 43
  },
  {
   "metadata": {
    "ExecuteTime": {
     "end_time": "2025-01-19T18:08:44.686783Z",
     "start_time": "2025-01-19T18:08:44.671674Z"
    }
   },
   "cell_type": "code",
   "source": "df_joined = emp.alias('e').join(dept.alias('d'), how='inner', on=emp.department_id == dept.department_id)",
   "id": "6fbc8ba8e2f09d1e",
   "outputs": [],
   "execution_count": 49
  },
  {
   "metadata": {
    "ExecuteTime": {
     "end_time": "2025-01-19T18:10:18.741282Z",
     "start_time": "2025-01-19T18:09:48.216529Z"
    }
   },
   "cell_type": "code",
   "source": "df_joined.select('e.name', 'd.department_id', 'd.department_name', 'e.salary').show(5)",
   "id": "e243f1ec858d9fb8",
   "outputs": [
    {
     "name": "stdout",
     "output_type": "stream",
     "text": [
      "+-------------+-------------+---------------+------+\n",
      "|         name|department_id|department_name|salary|\n",
      "+-------------+-------------+---------------+------+\n",
      "|     John Doe|          101|          Sales| 50000|\n",
      "|   Jane Smith|          101|          Sales| 45000|\n",
      "|James Johnson|          101|          Sales| 70000|\n",
      "|    Bob Brown|          102|      Marketing| 55000|\n",
      "|    Alice Lee|          102|      Marketing| 48000|\n",
      "+-------------+-------------+---------------+------+\n",
      "only showing top 5 rows\n",
      "\n"
     ]
    }
   ],
   "execution_count": 51
  },
  {
   "metadata": {
    "ExecuteTime": {
     "end_time": "2025-01-19T18:12:06.930272Z",
     "start_time": "2025-01-19T18:12:06.920039Z"
    }
   },
   "cell_type": "code",
   "source": "df_joined = emp.alias('e').join(dept.alias('d'), how='left_outer', on=emp.department_id == dept.department_id)",
   "id": "e653da359d9ead14",
   "outputs": [],
   "execution_count": 52
  },
  {
   "metadata": {
    "ExecuteTime": {
     "end_time": "2025-01-19T18:12:39.417070Z",
     "start_time": "2025-01-19T18:12:07.119976Z"
    }
   },
   "cell_type": "code",
   "source": "df_joined.select('e.name', 'd.department_id', 'd.department_name', 'e.salary').show(5)",
   "id": "947f49ae3088f8e6",
   "outputs": [
    {
     "name": "stdout",
     "output_type": "stream",
     "text": [
      "+----------+-------------+---------------+------+\n",
      "|      name|department_id|department_name|salary|\n",
      "+----------+-------------+---------------+------+\n",
      "|  John Doe|          101|          Sales| 50000|\n",
      "|Jane Smith|          101|          Sales| 45000|\n",
      "| Bob Brown|          102|      Marketing| 55000|\n",
      "| Alice Lee|          102|      Marketing| 48000|\n",
      "| Jack Chan|          103|        Finance| 60000|\n",
      "+----------+-------------+---------------+------+\n",
      "only showing top 5 rows\n",
      "\n"
     ]
    }
   ],
   "execution_count": 53
  },
  {
   "metadata": {
    "ExecuteTime": {
     "end_time": "2025-01-19T18:16:15.974668Z",
     "start_time": "2025-01-19T18:16:15.964624Z"
    }
   },
   "cell_type": "code",
   "source": [
    "df_final = emp.join(dept,\n",
    "                    how='left_outer',\n",
    "                    on=((emp.department_id == dept.department_id)\n",
    "                        & (emp.department_id == '101')\n",
    "                        | (emp.department_id == '102')\n",
    "                        & (emp.salary.isNotNull())\n",
    "                        ))"
   ],
   "id": "4c48fd4c20afa626",
   "outputs": [],
   "execution_count": 56
  },
  {
   "metadata": {
    "ExecuteTime": {
     "end_time": "2025-01-19T18:16:39.593512Z",
     "start_time": "2025-01-19T18:16:16.278822Z"
    }
   },
   "cell_type": "code",
   "source": "df_final.show()",
   "id": "b4a89dcb9ff232db",
   "outputs": [
    {
     "name": "stdout",
     "output_type": "stream",
     "text": [
      "+-----------+-------------+-------------+---+------+------+----------+-------------+--------------------+-------+---------+-------+\n",
      "|employee_id|department_id|         name|age|gender|salary| hire_date|department_id|     department_name|   city|  country| budget|\n",
      "+-----------+-------------+-------------+---+------+------+----------+-------------+--------------------+-------+---------+-------+\n",
      "|        001|          101|     John Doe| 30|  Male| 50000|2015-01-01|          101|               Sales|    NYC|       US|1000000|\n",
      "|        002|          101|   Jane Smith| 25|Female| 45000|2016-02-15|          101|               Sales|    NYC|       US|1000000|\n",
      "|        003|          102|    Bob Brown| 35|  Male| 55000|2014-05-01|          101|               Sales|    NYC|       US|1000000|\n",
      "|        003|          102|    Bob Brown| 35|  Male| 55000|2014-05-01|          102|           Marketing|     LA|       US| 900000|\n",
      "|        003|          102|    Bob Brown| 35|  Male| 55000|2014-05-01|          103|             Finance| London|       UK|1200000|\n",
      "|        003|          102|    Bob Brown| 35|  Male| 55000|2014-05-01|          104|         Engineering|Beijing|    China|1500000|\n",
      "|        003|          102|    Bob Brown| 35|  Male| 55000|2014-05-01|          105|     Human Resources|  Tokyo|    Japan| 800000|\n",
      "|        003|          102|    Bob Brown| 35|  Male| 55000|2014-05-01|          106|Research and Deve...|  Perth|Australia|1100000|\n",
      "|        003|          102|    Bob Brown| 35|  Male| 55000|2014-05-01|          107|    Customer Service| Sydney|Australia| 950000|\n",
      "|        004|          102|    Alice Lee| 28|Female| 48000|2017-09-30|          101|               Sales|    NYC|       US|1000000|\n",
      "|        004|          102|    Alice Lee| 28|Female| 48000|2017-09-30|          102|           Marketing|     LA|       US| 900000|\n",
      "|        004|          102|    Alice Lee| 28|Female| 48000|2017-09-30|          103|             Finance| London|       UK|1200000|\n",
      "|        004|          102|    Alice Lee| 28|Female| 48000|2017-09-30|          104|         Engineering|Beijing|    China|1500000|\n",
      "|        004|          102|    Alice Lee| 28|Female| 48000|2017-09-30|          105|     Human Resources|  Tokyo|    Japan| 800000|\n",
      "|        004|          102|    Alice Lee| 28|Female| 48000|2017-09-30|          106|Research and Deve...|  Perth|Australia|1100000|\n",
      "|        004|          102|    Alice Lee| 28|Female| 48000|2017-09-30|          107|    Customer Service| Sydney|Australia| 950000|\n",
      "|        005|          103|    Jack Chan| 40|  Male| 60000|2013-04-01|         NULL|                NULL|   NULL|     NULL|   NULL|\n",
      "|        006|          103|    Jill Wong| 32|Female| 52000|2018-07-01|         NULL|                NULL|   NULL|     NULL|   NULL|\n",
      "|        007|          101|James Johnson| 42|  Male| 70000|2012-03-15|          101|               Sales|    NYC|       US|1000000|\n",
      "|        008|          102|     Kate Kim| 29|Female| 51000|2019-10-01|          101|               Sales|    NYC|       US|1000000|\n",
      "+-----------+-------------+-------------+---+------+------+----------+-------------+--------------------+-------+---------+-------+\n",
      "only showing top 20 rows\n",
      "\n"
     ]
    }
   ],
   "execution_count": 57
  }
 ],
 "metadata": {
  "kernelspec": {
   "display_name": "Python 3",
   "language": "python",
   "name": "python3"
  },
  "language_info": {
   "codemirror_mode": {
    "name": "ipython",
    "version": 2
   },
   "file_extension": ".py",
   "mimetype": "text/x-python",
   "name": "python",
   "nbconvert_exporter": "python",
   "pygments_lexer": "ipython2",
   "version": "2.7.6"
  }
 },
 "nbformat": 4,
 "nbformat_minor": 5
}
