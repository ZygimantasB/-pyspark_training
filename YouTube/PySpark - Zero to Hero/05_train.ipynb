{
 "cells": [
  {
   "metadata": {
    "ExecuteTime": {
     "end_time": "2025-01-18T10:30:08.063633Z",
     "start_time": "2025-01-18T10:30:08.060486Z"
    }
   },
   "cell_type": "code",
   "source": [
    "from pyspark.sql import SparkSession\n",
    "import pyspark.sql.functions as F\n",
    "import os"
   ],
   "id": "c681bb914db8b52c",
   "outputs": [],
   "execution_count": 46
  },
  {
   "metadata": {
    "ExecuteTime": {
     "end_time": "2025-01-18T10:30:08.099694Z",
     "start_time": "2025-01-18T10:30:08.096715Z"
    }
   },
   "cell_type": "code",
   "source": [
    "os.environ['SPARK_HOME'] = r'C:\\spark\\spark-3.5.4-bin-hadoop3'\n",
    "os.environ['PYSPARK_DRIVER_PYTHON'] = 'jupyter'\n",
    "os.environ['PYSPARK_DRIVER_PYTHON_OPTS'] = 'lab'\n",
    "os.environ['PYSPARK_PYTHON'] = 'python'"
   ],
   "id": "f5f3df696eb45970",
   "outputs": [],
   "execution_count": 47
  },
  {
   "metadata": {
    "ExecuteTime": {
     "end_time": "2025-01-18T10:30:08.114813Z",
     "start_time": "2025-01-18T10:30:08.105806Z"
    }
   },
   "cell_type": "code",
   "source": [
    "spark = (\n",
    "    SparkSession\n",
    "    .builder\n",
    "    .appName(\"PySpark Zero to Hero\")\n",
    "    .master(\"local[*]\")\n",
    "    .config(\"spark.executor.memory\", \"16g\")\n",
    "    .config(\"spark.driver.memory\", \"16g\")\n",
    "    .config(\"spark.executor.cores\", \"4\")\n",
    "    .config(\"spark.sql.shuffle.partitions\", \"80\")\n",
    "    .config(\"spark.dynamicAllocation.enabled\", \"true\")\n",
    "    .config(\"spark.dynamicAllocation.minExecutors\", \"2\")\n",
    "    .config(\"spark.dynamicAllocation.initialExecutors\", \"24\")\n",
    "    .config(\"spark.dynamicAllocation.maxExecutors\", \"50\")\n",
    "    .config(\"spark.shuffle.service.enabled\", \"true\")\n",
    "    .config(\"spark.serializer\", \"org.apache.spark.serializer.KryoSerializer\")\n",
    "    .getOrCreate()\n",
    ")"
   ],
   "id": "d2a7461dbcb1b54a",
   "outputs": [],
   "execution_count": 48
  },
  {
   "metadata": {
    "ExecuteTime": {
     "end_time": "2025-01-18T10:30:08.129027Z",
     "start_time": "2025-01-18T10:30:08.124026Z"
    }
   },
   "cell_type": "code",
   "source": [
    "emp_data_1 = [\n",
    "    [\"001\",\"101\",\"John Doe\",\"30\",\"Male\",\"50000\",\"2015-01-01\"],\n",
    "    [\"002\",\"101\",\"Jane Smith\",\"25\",\"Female\",\"45000\",\"2016-02-15\"],\n",
    "    [\"003\",\"102\",\"Bob Brown\",\"35\",\"Male\",\"55000\",\"2014-05-01\"],\n",
    "    [\"004\",\"102\",\"Alice Lee\",\"28\",\"Female\",\"48000\",\"2017-09-30\"],\n",
    "    [\"005\",\"103\",\"Jack Chan\",\"40\",\"Male\",\"60000\",\"2013-04-01\"],\n",
    "    [\"006\",\"103\",\"Jill Wong\",\"32\",\"Female\",\"52000\",\"2018-07-01\"],\n",
    "    [\"007\",\"101\",\"James Johnson\",\"42\",\"Male\",\"70000\",\"2012-03-15\"],\n",
    "    [\"008\",\"102\",\"Kate Kim\",\"29\",\"Female\",\"51000\",\"2019-10-01\"],\n",
    "    [\"009\",\"103\",\"Tom Tan\",\"33\",\"Male\",\"58000\",\"2016-06-01\"],\n",
    "    [\"010\",\"104\",\"Lisa Lee\",\"27\",\"Female\",\"47000\",\"2018-08-01\"]\n",
    "]\n",
    "\n",
    "emp_data_2 = [\n",
    "    [\"011\",\"104\",\"David Park\",\"38\",\"Male\",\"65000\",\"2015-11-01\"],\n",
    "    [\"012\",\"105\",\"Susan Chen\",\"31\",\"Female\",\"54000\",\"2017-02-15\"],\n",
    "    [\"013\",\"106\",\"Brian Kim\",\"45\",\"Male\",\"75000\",\"2011-07-01\"],\n",
    "    [\"014\",\"107\",\"Emily Lee\",\"26\",\"Female\",\"46000\",\"2019-01-01\"],\n",
    "    [\"015\",\"106\",\"Michael Lee\",\"37\",\"Male\",\"63000\",\"2014-09-30\"],\n",
    "    [\"016\",\"107\",\"Kelly Zhang\",\"30\",\"Female\",\"49000\",\"2018-04-01\"],\n",
    "    [\"017\",\"105\",\"George Wang\",\"34\",\"Male\",\"57000\",\"2016-03-15\"],\n",
    "    [\"018\",\"104\",\"Nancy Liu\",\"29\",\"\",\"50000\",\"2017-06-01\"],\n",
    "    [\"019\",\"103\",\"Steven Chen\",\"36\",\"Male\",\"62000\",\"2015-08-01\"],\n",
    "    [\"020\",\"102\",\"Grace Kim\",\"32\",\"Female\",\"53000\",\"2018-11-01\"]\n",
    "]"
   ],
   "id": "52b4095eea82cb14",
   "outputs": [],
   "execution_count": 49
  },
  {
   "metadata": {
    "ExecuteTime": {
     "end_time": "2025-01-18T10:30:08.140895Z",
     "start_time": "2025-01-18T10:30:08.138556Z"
    }
   },
   "cell_type": "code",
   "source": "emp_schema = \"employee_id string, department_id string, name string, age string, gender string, salary string, hire_date string\"",
   "id": "f9d43a02991a412b",
   "outputs": [],
   "execution_count": 50
  },
  {
   "metadata": {
    "ExecuteTime": {
     "end_time": "2025-01-18T10:30:08.200064Z",
     "start_time": "2025-01-18T10:30:08.158060Z"
    }
   },
   "cell_type": "code",
   "source": [
    "emp_data_1 = spark.createDataFrame(emp_data_1, emp_schema)\n",
    "emp_data_2 = spark.createDataFrame(emp_data_2, emp_schema)"
   ],
   "id": "41d7ce05b10c5f1b",
   "outputs": [],
   "execution_count": 51
  },
  {
   "metadata": {
    "ExecuteTime": {
     "end_time": "2025-01-18T10:30:08.207396Z",
     "start_time": "2025-01-18T10:30:08.202355Z"
    }
   },
   "cell_type": "code",
   "source": "emp = emp_data_1.union(emp_data_2)",
   "id": "ae4917e8d97f0247",
   "outputs": [],
   "execution_count": 52
  },
  {
   "metadata": {
    "ExecuteTime": {
     "end_time": "2025-01-18T10:30:21.078266Z",
     "start_time": "2025-01-18T10:30:08.217401Z"
    }
   },
   "cell_type": "code",
   "source": "emp.show(5)",
   "id": "34bcd3f5ec9dd808",
   "outputs": [
    {
     "name": "stdout",
     "output_type": "stream",
     "text": [
      "+-----------+-------------+----------+---+------+------+----------+\n",
      "|employee_id|department_id|      name|age|gender|salary| hire_date|\n",
      "+-----------+-------------+----------+---+------+------+----------+\n",
      "|        001|          101|  John Doe| 30|  Male| 50000|2015-01-01|\n",
      "|        002|          101|Jane Smith| 25|Female| 45000|2016-02-15|\n",
      "|        003|          102| Bob Brown| 35|  Male| 55000|2014-05-01|\n",
      "|        004|          102| Alice Lee| 28|Female| 48000|2017-09-30|\n",
      "|        005|          103| Jack Chan| 40|  Male| 60000|2013-04-01|\n",
      "+-----------+-------------+----------+---+------+------+----------+\n",
      "only showing top 5 rows\n",
      "\n"
     ]
    }
   ],
   "execution_count": 53
  },
  {
   "metadata": {
    "ExecuteTime": {
     "end_time": "2025-01-18T10:30:21.103325Z",
     "start_time": "2025-01-18T10:30:21.098784Z"
    }
   },
   "cell_type": "code",
   "source": "emp = emp_data_1.unionAll(emp_data_2)",
   "id": "df7abf6938fb3cfe",
   "outputs": [],
   "execution_count": 54
  },
  {
   "metadata": {
    "ExecuteTime": {
     "end_time": "2025-01-18T10:30:21.176909Z",
     "start_time": "2025-01-18T10:30:21.169858Z"
    }
   },
   "cell_type": "code",
   "source": [
    "# emp_sorted = emp.orderBy(F.col('salary').desc())\n",
    "emp_sorted = emp.orderBy(F.col('salary').asc())"
   ],
   "id": "d79f7a124c652767",
   "outputs": [],
   "execution_count": 55
  },
  {
   "metadata": {
    "ExecuteTime": {
     "end_time": "2025-01-18T10:30:51.727125Z",
     "start_time": "2025-01-18T10:30:21.199915Z"
    }
   },
   "cell_type": "code",
   "source": "emp_sorted.show(5)",
   "id": "d988de21b1d70e5a",
   "outputs": [
    {
     "name": "stdout",
     "output_type": "stream",
     "text": [
      "+-----------+-------------+-----------+---+------+------+----------+\n",
      "|employee_id|department_id|       name|age|gender|salary| hire_date|\n",
      "+-----------+-------------+-----------+---+------+------+----------+\n",
      "|        002|          101| Jane Smith| 25|Female| 45000|2016-02-15|\n",
      "|        014|          107|  Emily Lee| 26|Female| 46000|2019-01-01|\n",
      "|        010|          104|   Lisa Lee| 27|Female| 47000|2018-08-01|\n",
      "|        004|          102|  Alice Lee| 28|Female| 48000|2017-09-30|\n",
      "|        016|          107|Kelly Zhang| 30|Female| 49000|2018-04-01|\n",
      "+-----------+-------------+-----------+---+------+------+----------+\n",
      "only showing top 5 rows\n",
      "\n"
     ]
    }
   ],
   "execution_count": 56
  },
  {
   "metadata": {
    "ExecuteTime": {
     "end_time": "2025-01-18T10:30:51.770740Z",
     "start_time": "2025-01-18T10:30:51.757561Z"
    }
   },
   "cell_type": "code",
   "source": [
    "emp_count = emp_sorted.groupBy(\n",
    "    'department_id'\n",
    ").agg(\n",
    "    F.count('employee_id').alias('employee_count')\n",
    ")"
   ],
   "id": "32128de5fe77a4f5",
   "outputs": [],
   "execution_count": 57
  },
  {
   "metadata": {
    "ExecuteTime": {
     "end_time": "2025-01-18T10:31:22.750569Z",
     "start_time": "2025-01-18T10:30:51.790750Z"
    }
   },
   "cell_type": "code",
   "source": "emp_count.show(5)",
   "id": "95079d4eba80c1a7",
   "outputs": [
    {
     "name": "stdout",
     "output_type": "stream",
     "text": [
      "+-------------+--------------+\n",
      "|department_id|employee_count|\n",
      "+-------------+--------------+\n",
      "|          101|             3|\n",
      "|          102|             4|\n",
      "|          103|             4|\n",
      "|          104|             3|\n",
      "|          105|             2|\n",
      "+-------------+--------------+\n",
      "only showing top 5 rows\n",
      "\n"
     ]
    }
   ],
   "execution_count": 58
  },
  {
   "metadata": {
    "ExecuteTime": {
     "end_time": "2025-01-18T10:31:22.775050Z",
     "start_time": "2025-01-18T10:31:22.760578Z"
    }
   },
   "cell_type": "code",
   "source": [
    "emp_sum = emp_sorted.groupBy(\n",
    "    'department_id'\n",
    ").agg(\n",
    "    F.sum('salary').alias('total_salary')\n",
    ")"
   ],
   "id": "a81b5c82675fe6de",
   "outputs": [],
   "execution_count": 59
  },
  {
   "metadata": {
    "ExecuteTime": {
     "end_time": "2025-01-18T10:32:25.427214Z",
     "start_time": "2025-01-18T10:31:22.824007Z"
    }
   },
   "cell_type": "code",
   "source": "emp_sum.show(5)",
   "id": "9614262a33a7996c",
   "outputs": [
    {
     "name": "stdout",
     "output_type": "stream",
     "text": [
      "+-------------+------------+\n",
      "|department_id|total_salary|\n",
      "+-------------+------------+\n",
      "|          104|    162000.0|\n",
      "|          102|    207000.0|\n",
      "|          101|    165000.0|\n",
      "|          107|     95000.0|\n",
      "|          106|    138000.0|\n",
      "+-------------+------------+\n",
      "only showing top 5 rows\n",
      "\n"
     ]
    }
   ],
   "execution_count": 60
  },
  {
   "metadata": {
    "ExecuteTime": {
     "end_time": "2025-01-18T10:32:25.478504Z",
     "start_time": "2025-01-18T10:32:25.457516Z"
    }
   },
   "cell_type": "code",
   "source": [
    "emp_avg = emp_sorted.groupBy(\n",
    "    'department_id'\n",
    ").agg(\n",
    "    F.avg('salary').alias('avg_salary')\n",
    ").where(F.col('avg_salary') > 50_000)"
   ],
   "id": "c3edc2d85c72063a",
   "outputs": [],
   "execution_count": 61
  },
  {
   "metadata": {
    "jupyter": {
     "is_executing": true
    },
    "ExecuteTime": {
     "start_time": "2025-01-18T10:32:25.501136Z"
    }
   },
   "cell_type": "code",
   "source": "emp_avg.show()",
   "id": "60178e55cfabf1b4",
   "outputs": [],
   "execution_count": null
  },
  {
   "metadata": {
    "ExecuteTime": {
     "end_time": "2025-01-18T10:28:43.644216Z",
     "start_time": "2025-01-18T10:28:43.634138Z"
    }
   },
   "cell_type": "code",
   "source": "emp_fixed = emp_data_1.unionByName(emp_data_2)",
   "id": "ece360966e7eb2d8",
   "outputs": [],
   "execution_count": 42
  },
  {
   "metadata": {
    "ExecuteTime": {
     "end_time": "2025-01-18T10:29:01.792979Z",
     "start_time": "2025-01-18T10:28:48.294332Z"
    }
   },
   "cell_type": "code",
   "source": "emp_fixed.show(5)",
   "id": "f11470224729555a",
   "outputs": [
    {
     "name": "stdout",
     "output_type": "stream",
     "text": [
      "+-----------+-------------+----------+---+------+------+----------+\n",
      "|employee_id|department_id|      name|age|gender|salary| hire_date|\n",
      "+-----------+-------------+----------+---+------+------+----------+\n",
      "|        001|          101|  John Doe| 30|  Male| 50000|2015-01-01|\n",
      "|        002|          101|Jane Smith| 25|Female| 45000|2016-02-15|\n",
      "|        003|          102| Bob Brown| 35|  Male| 55000|2014-05-01|\n",
      "|        004|          102| Alice Lee| 28|Female| 48000|2017-09-30|\n",
      "|        005|          103| Jack Chan| 40|  Male| 60000|2013-04-01|\n",
      "+-----------+-------------+----------+---+------+------+----------+\n",
      "only showing top 5 rows\n",
      "\n"
     ]
    }
   ],
   "execution_count": 43
  },
  {
   "metadata": {
    "ExecuteTime": {
     "end_time": "2025-01-18T10:29:43.532306Z",
     "start_time": "2025-01-18T10:29:12.511836Z"
    }
   },
   "cell_type": "code",
   "source": "emp.count()",
   "id": "c6d666aa6d0589de",
   "outputs": [
    {
     "data": {
      "text/plain": [
       "20"
      ]
     },
     "execution_count": 45,
     "metadata": {},
     "output_type": "execute_result"
    }
   ],
   "execution_count": 45
  },
  {
   "metadata": {},
   "cell_type": "code",
   "outputs": [],
   "execution_count": null,
   "source": "",
   "id": "32ee075b5e0194a5"
  }
 ],
 "metadata": {
  "kernelspec": {
   "display_name": "Python 3",
   "language": "python",
   "name": "python3"
  },
  "language_info": {
   "codemirror_mode": {
    "name": "ipython",
    "version": 2
   },
   "file_extension": ".py",
   "mimetype": "text/x-python",
   "name": "python",
   "nbconvert_exporter": "python",
   "pygments_lexer": "ipython2",
   "version": "2.7.6"
  }
 },
 "nbformat": 4,
 "nbformat_minor": 5
}
