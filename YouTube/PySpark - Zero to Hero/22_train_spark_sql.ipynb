{
 "cells": [
  {
   "metadata": {},
   "cell_type": "markdown",
   "source": "#",
   "id": "7ff027ce00f9767b"
  },
  {
   "metadata": {
    "ExecuteTime": {
     "end_time": "2025-01-28T18:54:48.339071Z",
     "start_time": "2025-01-28T18:54:48.195419Z"
    }
   },
   "cell_type": "code",
   "source": [
    "from pyspark.sql import SparkSession\n",
    "import pyspark.sql.functions as F\n",
    "import os"
   ],
   "id": "c681bb914db8b52c",
   "outputs": [],
   "execution_count": 1
  },
  {
   "metadata": {
    "ExecuteTime": {
     "end_time": "2025-01-28T18:54:48.345517Z",
     "start_time": "2025-01-28T18:54:48.342079Z"
    }
   },
   "cell_type": "code",
   "source": [
    "os.environ['SPARK_HOME'] = r'C:\\spark\\spark-3.5.4-bin-hadoop3'\n",
    "os.environ['PYSPARK_DRIVER_PYTHON'] = 'jupyter'\n",
    "os.environ['PYSPARK_DRIVER_PYTHON_OPTS'] = 'lab'\n",
    "os.environ['PYSPARK_PYTHON'] = 'python'"
   ],
   "id": "f5f3df696eb45970",
   "outputs": [],
   "execution_count": 2
  },
  {
   "metadata": {
    "ExecuteTime": {
     "end_time": "2025-01-28T18:54:52.013853Z",
     "start_time": "2025-01-28T18:54:48.518284Z"
    }
   },
   "cell_type": "code",
   "source": [
    "spark = (\n",
    "    SparkSession\n",
    "    .builder\n",
    "    .appName(\"PySpark Zero to Hero\")\n",
    "    .master(\"local[*]\")\n",
    "    .config(\"spark.executor.memory\", \"16g\")\n",
    "    .config(\"spark.driver.memory\", \"16g\")\n",
    "    .config(\"spark.executor.cores\", \"4\")\n",
    "    .config(\"spark.sql.shuffle.partitions\", \"80\")\n",
    "    .config(\"spark.dynamicAllocation.enabled\", \"true\")\n",
    "    .config(\"spark.dynamicAllocation.minExecutors\", \"2\")\n",
    "    .config(\"spark.dynamicAllocation.initialExecutors\", \"24\")\n",
    "    .config(\"spark.dynamicAllocation.maxExecutors\", \"50\")\n",
    "    .config('spark.dynamicAllocation.shuffleTrackingEnabled', 'true')\n",
    "    .config('spark.dynamicAllocation.executorIdleTimeout', '60')\n",
    "    .config(\"spark.shuffle.service.enabled\", \"true\")\n",
    "    .config(\"spark.serializer\", \"org.apache.spark.serializer.KryoSerializer\")\n",
    "    .enableHiveSupport()\n",
    "    .getOrCreate()\n",
    ")"
   ],
   "id": "d2a7461dbcb1b54a",
   "outputs": [],
   "execution_count": 3
  },
  {
   "metadata": {
    "ExecuteTime": {
     "end_time": "2025-01-28T18:54:52.650651Z",
     "start_time": "2025-01-28T18:54:52.026071Z"
    }
   },
   "cell_type": "code",
   "source": [
    "spark.conf.set('spark.sql.adaptive.enabled', 'true')\n",
    "spark.conf.set('spark.sql.adaptive.coalescePartitions.enabled', 'true')\n",
    "spark.conf.set('spark.sql.autoBroadcastJoinThreshold', '-1')"
   ],
   "id": "d028c4184395609b",
   "outputs": [],
   "execution_count": 4
  },
  {
   "metadata": {
    "ExecuteTime": {
     "end_time": "2025-01-28T18:54:53.530280Z",
     "start_time": "2025-01-28T18:54:52.657199Z"
    }
   },
   "cell_type": "code",
   "source": [
    "df_path = r'F:\\DataSpell\\-pyspark_training\\YouTube\\PySpark - Zero to Hero\\datasets\\employee_records.csv'\n",
    "\n",
    "_schema = \"first_name string, last_name string, job_title string, dob string, email string, phone string, salary double, department_id int\"\n",
    "\n",
    "emp = spark.read.format(\"csv\").schema(_schema).option(\"header\", True).load(df_path)"
   ],
   "id": "80205f76b5439ede",
   "outputs": [],
   "execution_count": 5
  },
  {
   "metadata": {
    "ExecuteTime": {
     "end_time": "2025-01-28T18:54:53.604721Z",
     "start_time": "2025-01-28T18:54:53.576771Z"
    }
   },
   "cell_type": "code",
   "source": [
    "dept_path = r'F:\\DataSpell\\-pyspark_training\\YouTube\\PySpark - Zero to Hero\\datasets\\department_data.csv'\n",
    "\n",
    "_dept_schema = \"department_id int, department_name string, description string, city string, state string, country string\"\n",
    "\n",
    "dept = spark.read.format(\"csv\").schema(_dept_schema).option(\"header\", True).load(df_path)"
   ],
   "id": "cc124b6e6444ed4d",
   "outputs": [],
   "execution_count": 6
  },
  {
   "metadata": {
    "ExecuteTime": {
     "end_time": "2025-01-28T18:54:53.622002Z",
     "start_time": "2025-01-28T18:54:53.614711Z"
    }
   },
   "cell_type": "code",
   "source": "spark.conf.get('spark.sql.catalogImplementation')",
   "id": "cf48e6687dabd70e",
   "outputs": [
    {
     "data": {
      "text/plain": [
       "'hive'"
      ]
     },
     "execution_count": 7,
     "metadata": {},
     "output_type": "execute_result"
    }
   ],
   "execution_count": 7
  },
  {
   "metadata": {
    "ExecuteTime": {
     "end_time": "2025-01-28T18:54:57.935248Z",
     "start_time": "2025-01-28T18:54:53.629120Z"
    }
   },
   "cell_type": "code",
   "source": "db = spark.sql('show databases')",
   "id": "c392f136489142b2",
   "outputs": [],
   "execution_count": 8
  },
  {
   "metadata": {
    "ExecuteTime": {
     "end_time": "2025-01-28T18:54:58.719135Z",
     "start_time": "2025-01-28T18:54:57.951648Z"
    }
   },
   "cell_type": "code",
   "source": "db.show()",
   "id": "aabc325c62c169ce",
   "outputs": [
    {
     "name": "stdout",
     "output_type": "stream",
     "text": [
      "+---------+\n",
      "|namespace|\n",
      "+---------+\n",
      "|  default|\n",
      "+---------+\n",
      "\n"
     ]
    }
   ],
   "execution_count": 9
  },
  {
   "metadata": {
    "ExecuteTime": {
     "end_time": "2025-01-28T18:54:59.120595Z",
     "start_time": "2025-01-28T18:54:58.726657Z"
    }
   },
   "cell_type": "code",
   "source": "spark.sql('show tables in default').show()",
   "id": "659a762378d5cfc8",
   "outputs": [
    {
     "name": "stdout",
     "output_type": "stream",
     "text": [
      "+---------+---------+-----------+\n",
      "|namespace|tableName|isTemporary|\n",
      "+---------+---------+-----------+\n",
      "+---------+---------+-----------+\n",
      "\n"
     ]
    }
   ],
   "execution_count": 10
  },
  {
   "metadata": {
    "ExecuteTime": {
     "end_time": "2025-01-28T18:54:59.165782Z",
     "start_time": "2025-01-28T18:54:59.128954Z"
    }
   },
   "cell_type": "code",
   "source": [
    "emp.createOrReplaceTempView('emp_view')\n",
    "dept.createOrReplaceTempView('dept_view')"
   ],
   "id": "456a8fd62381f174",
   "outputs": [],
   "execution_count": 11
  },
  {
   "metadata": {
    "ExecuteTime": {
     "end_time": "2025-01-28T18:54:59.299747Z",
     "start_time": "2025-01-28T18:54:59.204963Z"
    }
   },
   "cell_type": "code",
   "source": "spark.sql('show tables in default').show()",
   "id": "c41db0ce68584e64",
   "outputs": [
    {
     "name": "stdout",
     "output_type": "stream",
     "text": [
      "+---------+---------+-----------+\n",
      "|namespace|tableName|isTemporary|\n",
      "+---------+---------+-----------+\n",
      "|         |dept_view|       true|\n",
      "|         | emp_view|       true|\n",
      "+---------+---------+-----------+\n",
      "\n"
     ]
    }
   ],
   "execution_count": 12
  },
  {
   "metadata": {
    "ExecuteTime": {
     "end_time": "2025-01-28T18:54:59.415004Z",
     "start_time": "2025-01-28T18:54:59.308126Z"
    }
   },
   "cell_type": "code",
   "source": [
    "emp_filtered = spark.sql(\"\"\"\n",
    "    select * from emp_view\n",
    "    where department_id = 1\n",
    "\"\"\")"
   ],
   "id": "3a181e01790afabf",
   "outputs": [],
   "execution_count": 13
  },
  {
   "metadata": {
    "ExecuteTime": {
     "end_time": "2025-01-28T18:55:00.533509Z",
     "start_time": "2025-01-28T18:54:59.430145Z"
    }
   },
   "cell_type": "code",
   "source": "emp_filtered.show()",
   "id": "5b77478c7fc0d7ea",
   "outputs": [
    {
     "name": "stdout",
     "output_type": "stream",
     "text": [
      "+-----------+---------+--------------------+----------+--------------------+--------------------+--------+-------------+\n",
      "| first_name|last_name|           job_title|       dob|               email|               phone|  salary|department_id|\n",
      "+-----------+---------+--------------------+----------+--------------------+--------------------+--------+-------------+\n",
      "|       John|   Monroe|        Retail buyer|1968-06-16|  erik33@example.net|    820-813-0557x624|485506.0|            1|\n",
      "|    Rachael|Rodriguez|         Media buyer|1966-12-02|griffinmary@examp...| +1-791-344-7586x548|544732.0|            1|\n",
      "|Christopher| Callahan| Exhibition designer|1966-10-23| qwalter@example.com|001-947-745-3939x...|251057.0|            1|\n",
      "|    Lindsey|   Huerta|Embryologist, cli...|1964-10-20|  psmith@example.net|   527.934.6665x1378|878257.0|            1|\n",
      "|      David|   Harris|   Company secretary|1990-04-13|     nli@example.com|001-959-766-1180x...|249553.0|            1|\n",
      "|      Brian|Hernandez|     Theatre manager|1978-05-05|  lisa93@example.com|        617-444-2378| 99894.0|            1|\n",
      "|      Peter|  Stevens|   Recycling officer|1983-06-10|jamesparker@examp...|   577-619-5082x8283|842980.0|            1|\n",
      "|       John|  Acevedo|Leisure centre ma...|1963-10-13|daniel21@example.org|  (247)878-5722x3342|385821.0|            1|\n",
      "|     Steven|      Lee|Adult guidance wo...|1969-06-01|wernergabriel@exa...|001-564-541-5402x...|336534.0|            1|\n",
      "|     Denise|     Dean|           Herbalist|1972-06-27|stephenwilliams@e...|        269.375.8072|656850.0|            1|\n",
      "|      Blake|       Wu| Marketing executive|1965-12-29|  gdoyle@example.net|+1-559-646-6295x3...|470459.0|            1|\n",
      "|      Billy|    Poole| Animal nutritionist|1969-05-31|maryhill@example.net|        713-637-6222|636619.0|            1|\n",
      "|       Eric|      Key|               Actor|1992-09-02|colemanshawn@exam...|   368.865.1746x2103|836623.0|            1|\n",
      "|     Amanda|     Ford|Health service ma...|1990-10-06|strongstephanie@e...|          5088050717|258843.0|            1|\n",
      "|      Jason|     Page|Historic building...|1964-02-22|woodsdebra@exampl...|001-327-358-1554x413| 76017.0|            1|\n",
      "|      Kelly|     Pugh|    Heritage manager|1972-07-17|paulmichelle@exam...|001-710-376-9474x...|332664.0|            1|\n",
      "|      Katie|    Rojas|    Paediatric nurse|1966-12-06|wilsoncurtis@exam...|+1-394-952-6247x7544|318915.0|            1|\n",
      "|    William|     Shaw|      Water engineer|1971-03-23|ngutierrez@exampl...|    674.916.1038x751|340283.0|            1|\n",
      "|      Linda|     Hill|Exercise physiolo...|1972-02-23|deckerdavid@examp...|   (931)974-8866x513|630520.0|            1|\n",
      "|  Christina| Martinez|Historic building...|1976-03-07| emily31@example.org|   277.954.3449x4345|383173.0|            1|\n",
      "+-----------+---------+--------------------+----------+--------------------+--------------------+--------+-------------+\n",
      "only showing top 20 rows\n",
      "\n"
     ]
    }
   ],
   "execution_count": 14
  },
  {
   "metadata": {
    "ExecuteTime": {
     "end_time": "2025-01-28T18:55:00.598435Z",
     "start_time": "2025-01-28T18:55:00.542402Z"
    }
   },
   "cell_type": "code",
   "source": [
    "emp_temp = spark.sql(\"\"\"\n",
    "    select emp.*, date_format(dob, 'yyyy') as year_of_birth\n",
    "    from emp_view emp\n",
    "\"\"\")"
   ],
   "id": "3866d47306a3856d",
   "outputs": [],
   "execution_count": 15
  },
  {
   "metadata": {
    "ExecuteTime": {
     "end_time": "2025-01-28T18:55:00.663914Z",
     "start_time": "2025-01-28T18:55:00.648532Z"
    }
   },
   "cell_type": "code",
   "source": "emp_temp.createOrReplaceTempView('emp_temp_view')",
   "id": "606d5732e2590347",
   "outputs": [],
   "execution_count": 16
  },
  {
   "metadata": {
    "ExecuteTime": {
     "end_time": "2025-01-28T18:55:00.846717Z",
     "start_time": "2025-01-28T18:55:00.697689Z"
    }
   },
   "cell_type": "code",
   "source": "spark.sql('select * from emp_temp_view').show()",
   "id": "8929c0948f314c6c",
   "outputs": [
    {
     "name": "stdout",
     "output_type": "stream",
     "text": [
      "+----------+----------+--------------------+----------+--------------------+--------------------+--------+-------------+-------------+\n",
      "|first_name| last_name|           job_title|       dob|               email|               phone|  salary|department_id|year_of_birth|\n",
      "+----------+----------+--------------------+----------+--------------------+--------------------+--------+-------------+-------------+\n",
      "|   Richard|  Morrison|Public relations ...|1973-05-05|melissagarcia@exa...|       (699)525-4827|512653.0|            8|         1973|\n",
      "|     Bobby|  Mccarthy|   Barrister's clerk|1974-04-25|   llara@example.net|  (750)846-1602x7458|999836.0|            7|         1974|\n",
      "|    Dennis|    Norman|Land/geomatics su...|1990-06-24| jturner@example.net|    873.820.0518x825|131900.0|           10|         1990|\n",
      "|      John|    Monroe|        Retail buyer|1968-06-16|  erik33@example.net|    820-813-0557x624|485506.0|            1|         1968|\n",
      "|  Michelle|   Elliott|      Air cabin crew|1975-03-31|tiffanyjohnston@e...|       (705)900-5337|604738.0|            8|         1975|\n",
      "|    Ashley|   Montoya|        Cartographer|1976-01-16|patrickalexandra@...|        211.440.5466|483339.0|            6|         1976|\n",
      "| Nathaniel|     Smith|     Quality manager|1985-06-28|  lori44@example.net|        936-403-3179|419644.0|            7|         1985|\n",
      "|     Faith|  Cummings|Industrial/produc...|1978-07-01| ygordon@example.org|       (889)246-5588|205939.0|            7|         1978|\n",
      "|  Margaret|    Sutton|Administrator, ed...|1975-08-16| diana44@example.net|001-647-530-5036x...|671167.0|            8|         1975|\n",
      "|      Mary|    Sutton|   Freight forwarder|1979-12-28|  ryan36@example.com|   422.562.7254x3159|993829.0|            7|         1979|\n",
      "|      Jake|      King|       Lexicographer|1994-07-11|monica93@example.org|+1-535-652-9715x6...|702101.0|            4|         1994|\n",
      "|   Heather|     Haley|         Music tutor|1981-06-01|stephanie65@examp...|   (652)815-7973x298|570960.0|            6|         1981|\n",
      "|    Thomas|    Thomas|Chartered managem...|2001-07-17|pwilliams@example...|001-245-848-0028x...|339441.0|            6|         2001|\n",
      "|   Leonard|   Carlson|       Art therapist|1990-10-18|gabrielmurray@exa...|          9247590563|469728.0|            8|         1990|\n",
      "|      Mark|      Wood|   Market researcher|1963-10-13|nicholas76@exampl...|   311.439.1606x3342|582291.0|            4|         1963|\n",
      "|    Tracey|Washington|Travel agency man...|1986-05-07|  mark07@example.com|    001-912-206-6456|146456.0|            4|         1986|\n",
      "|   Rachael| Rodriguez|         Media buyer|1966-12-02|griffinmary@examp...| +1-791-344-7586x548|544732.0|            1|         1966|\n",
      "|      Tara|       Liu|   Financial adviser|1998-10-12|alexandraobrien@e...|        216.696.6061|399503.0|            3|         1998|\n",
      "|       Ana|    Joseph|      Retail manager|1995-01-10|  rmorse@example.org|  (726)363-7526x9965|761988.0|           10|         1995|\n",
      "|   Richard|      Hall|Engineer, civil (...|1967-03-02|brandoncardenas@e...| (964)451-9007x22496|660659.0|            4|         1967|\n",
      "+----------+----------+--------------------+----------+--------------------+--------------------+--------+-------------+-------------+\n",
      "only showing top 20 rows\n",
      "\n"
     ]
    }
   ],
   "execution_count": 17
  },
  {
   "metadata": {
    "ExecuteTime": {
     "end_time": "2025-01-28T18:55:00.899119Z",
     "start_time": "2025-01-28T18:55:00.856237Z"
    }
   },
   "cell_type": "code",
   "source": [
    "emp_final = spark.sql(\"\"\"\n",
    "    select /*+ BROADCAST(dept) */\n",
    "    emp.*, dept.department_name\n",
    "    from emp_temp_view emp left outer join dept_view as dept\n",
    "    on emp.department_id = dept.department_id\n",
    "\"\"\")"
   ],
   "id": "ae43736dd72e2ea9",
   "outputs": [],
   "execution_count": 18
  },
  {
   "metadata": {
    "ExecuteTime": {
     "end_time": "2025-01-28T18:55:02.165842Z",
     "start_time": "2025-01-28T18:55:00.964693Z"
    }
   },
   "cell_type": "code",
   "source": "emp_final.show()",
   "id": "3b1f40522a2b5c28",
   "outputs": [
    {
     "name": "stdout",
     "output_type": "stream",
     "text": [
      "+----------+----------+--------------------+----------+--------------------+--------------------+--------+-------------+-------------+---------------+\n",
      "|first_name| last_name|           job_title|       dob|               email|               phone|  salary|department_id|year_of_birth|department_name|\n",
      "+----------+----------+--------------------+----------+--------------------+--------------------+--------+-------------+-------------+---------------+\n",
      "|   Richard|  Morrison|Public relations ...|1973-05-05|melissagarcia@exa...|       (699)525-4827|512653.0|            8|         1973|           NULL|\n",
      "|     Bobby|  Mccarthy|   Barrister's clerk|1974-04-25|   llara@example.net|  (750)846-1602x7458|999836.0|            7|         1974|           NULL|\n",
      "|    Dennis|    Norman|Land/geomatics su...|1990-06-24| jturner@example.net|    873.820.0518x825|131900.0|           10|         1990|           NULL|\n",
      "|      John|    Monroe|        Retail buyer|1968-06-16|  erik33@example.net|    820-813-0557x624|485506.0|            1|         1968|           NULL|\n",
      "|  Michelle|   Elliott|      Air cabin crew|1975-03-31|tiffanyjohnston@e...|       (705)900-5337|604738.0|            8|         1975|           NULL|\n",
      "|    Ashley|   Montoya|        Cartographer|1976-01-16|patrickalexandra@...|        211.440.5466|483339.0|            6|         1976|           NULL|\n",
      "| Nathaniel|     Smith|     Quality manager|1985-06-28|  lori44@example.net|        936-403-3179|419644.0|            7|         1985|           NULL|\n",
      "|     Faith|  Cummings|Industrial/produc...|1978-07-01| ygordon@example.org|       (889)246-5588|205939.0|            7|         1978|           NULL|\n",
      "|  Margaret|    Sutton|Administrator, ed...|1975-08-16| diana44@example.net|001-647-530-5036x...|671167.0|            8|         1975|           NULL|\n",
      "|      Mary|    Sutton|   Freight forwarder|1979-12-28|  ryan36@example.com|   422.562.7254x3159|993829.0|            7|         1979|           NULL|\n",
      "|      Jake|      King|       Lexicographer|1994-07-11|monica93@example.org|+1-535-652-9715x6...|702101.0|            4|         1994|           NULL|\n",
      "|   Heather|     Haley|         Music tutor|1981-06-01|stephanie65@examp...|   (652)815-7973x298|570960.0|            6|         1981|           NULL|\n",
      "|    Thomas|    Thomas|Chartered managem...|2001-07-17|pwilliams@example...|001-245-848-0028x...|339441.0|            6|         2001|           NULL|\n",
      "|   Leonard|   Carlson|       Art therapist|1990-10-18|gabrielmurray@exa...|          9247590563|469728.0|            8|         1990|           NULL|\n",
      "|      Mark|      Wood|   Market researcher|1963-10-13|nicholas76@exampl...|   311.439.1606x3342|582291.0|            4|         1963|           NULL|\n",
      "|    Tracey|Washington|Travel agency man...|1986-05-07|  mark07@example.com|    001-912-206-6456|146456.0|            4|         1986|           NULL|\n",
      "|   Rachael| Rodriguez|         Media buyer|1966-12-02|griffinmary@examp...| +1-791-344-7586x548|544732.0|            1|         1966|           NULL|\n",
      "|      Tara|       Liu|   Financial adviser|1998-10-12|alexandraobrien@e...|        216.696.6061|399503.0|            3|         1998|           NULL|\n",
      "|       Ana|    Joseph|      Retail manager|1995-01-10|  rmorse@example.org|  (726)363-7526x9965|761988.0|           10|         1995|           NULL|\n",
      "|   Richard|      Hall|Engineer, civil (...|1967-03-02|brandoncardenas@e...| (964)451-9007x22496|660659.0|            4|         1967|           NULL|\n",
      "+----------+----------+--------------------+----------+--------------------+--------------------+--------+-------------+-------------+---------------+\n",
      "only showing top 20 rows\n",
      "\n"
     ]
    }
   ],
   "execution_count": 19
  },
  {
   "metadata": {
    "ExecuteTime": {
     "end_time": "2025-01-28T18:55:34.161092Z",
     "start_time": "2025-01-28T18:55:30.567100Z"
    }
   },
   "cell_type": "code",
   "source": "emp_final.write.format('parquet').saveAsTable('emp_final_')",
   "id": "731d295c8e7e0cee",
   "outputs": [],
   "execution_count": 21
  },
  {
   "metadata": {
    "ExecuteTime": {
     "end_time": "2025-01-28T18:55:35.211235Z",
     "start_time": "2025-01-28T18:55:35.171556Z"
    }
   },
   "cell_type": "code",
   "source": "spark.sql('show tables in default').show()",
   "id": "3e6e5b484821f948",
   "outputs": [
    {
     "name": "stdout",
     "output_type": "stream",
     "text": [
      "+---------+-------------+-----------+\n",
      "|namespace|    tableName|isTemporary|\n",
      "+---------+-------------+-----------+\n",
      "|  default|   emp_final_|      false|\n",
      "|         |    dept_view|       true|\n",
      "|         |emp_temp_view|       true|\n",
      "|         |     emp_view|       true|\n",
      "+---------+-------------+-----------+\n",
      "\n"
     ]
    }
   ],
   "execution_count": 22
  },
  {
   "metadata": {
    "ExecuteTime": {
     "end_time": "2025-01-28T18:55:47.676638Z",
     "start_time": "2025-01-28T18:55:47.543873Z"
    }
   },
   "cell_type": "code",
   "source": "emp_new = spark.read.table('emp_final_')",
   "id": "88f65d033384afb5",
   "outputs": [],
   "execution_count": 24
  },
  {
   "metadata": {
    "ExecuteTime": {
     "end_time": "2025-01-28T18:55:49.364865Z",
     "start_time": "2025-01-28T18:55:49.029985Z"
    }
   },
   "cell_type": "code",
   "source": "emp_new.show()",
   "id": "822d767001c59f51",
   "outputs": [
    {
     "name": "stdout",
     "output_type": "stream",
     "text": [
      "+----------+----------+--------------------+----------+--------------------+--------------------+--------+-------------+-------------+---------------+\n",
      "|first_name| last_name|           job_title|       dob|               email|               phone|  salary|department_id|year_of_birth|department_name|\n",
      "+----------+----------+--------------------+----------+--------------------+--------------------+--------+-------------+-------------+---------------+\n",
      "|      Mark|   Collins|Runner, broadcast...|1966-10-23|wardkimberly@exam...|    001-602-603-7814|491108.0|            9|         1966|           NULL|\n",
      "|    Rodney|     Davis|            Musician|1976-07-12|rodrigueztracy@ex...|        932.767.5342|578043.0|            3|         1976|           NULL|\n",
      "|    Bianca|   Gilbert|Nature conservati...|1978-06-22| james59@example.net|        200-744-9780|347570.0|            4|         1978|           NULL|\n",
      "|      Jose|   Wallace| Electrical engineer|1982-09-25|thomas69@example.com|        234.542.9027| 81089.0|            4|         1982|           NULL|\n",
      "|     James|    Landry|Medical sales rep...|1977-02-02| david23@example.org|       (597)274-2346|384044.0|            2|         1977|           NULL|\n",
      "|   Matthew|   Rowland|   Financial adviser|1993-10-23|serranojacob@exam...|       (386)548-1998|669167.0|            7|         1993|           NULL|\n",
      "|   Kristen|   Edwards|Accountant, chart...|1973-01-31|  nallen@example.net|  581.910.5186x43003|477104.0|            9|         1973|           NULL|\n",
      "|       Amy|     Myers|   Nurse, children's|1989-10-31| pnewman@example.net|   415-992-4433x2046|905515.0|            2|         1989|           NULL|\n",
      "|      Glen|    Greene|        Metallurgist|1983-10-05|tdominguez@exampl...|    700-587-0100x787|411617.0|            4|         1983|           NULL|\n",
      "|    Hannah|   Vasquez| Early years teacher|1977-12-11| tonya35@example.net|   (920)835-6517x062|686138.0|            9|         1977|           NULL|\n",
      "|  Jennifer|  Martinez| Production engineer|1970-06-19| bmiller@example.org|    245-291-1976x699|662346.0|            1|         1970|           NULL|\n",
      "|      Mark|Montgomery|     Patent attorney|1986-07-04|taylorjerry@examp...|  696.557.7059x91053|655045.0|           10|         1986|           NULL|\n",
      "|      Sara|    Conner|Emergency plannin...|1969-02-14|smccarthy@example...|001-532-467-5988x831|153570.0|            6|         1969|           NULL|\n",
      "|     Louis|    Farmer|    Marine scientist|1981-04-30|courtneycook@exam...|        794-400-4997|261421.0|            6|         1981|           NULL|\n",
      "|   William| Rodriguez| Information officer|2001-04-12|christian62@examp...|  306-932-7640x70844|948167.0|            6|         2001|           NULL|\n",
      "|     April|     Clark|       Ranger/warden|1982-08-24|justin82@example.com|  989-826-9520x60013| 26202.0|            1|         1982|           NULL|\n",
      "|   Maurice|      Rice|              Dancer|1978-01-21|kathleensingleton...|001-901-648-4528x630|606102.0|            4|         1978|           NULL|\n",
      "|   Barbara|    Guzman|English as a fore...|1988-09-22|spencerchristophe...|+1-960-466-3513x7164| 27946.0|           10|         1988|           NULL|\n",
      "|     Jason|     Clark|Civil Service adm...|1998-07-01|  dallen@example.com|        913.419.6977|370235.0|            5|         1998|           NULL|\n",
      "|     Joyce|   Rowland|Intelligence analyst|1970-08-16|cummingseric@exam...|       (748)406-6104|567881.0|            5|         1970|           NULL|\n",
      "+----------+----------+--------------------+----------+--------------------+--------------------+--------+-------------+-------------+---------------+\n",
      "only showing top 20 rows\n",
      "\n"
     ]
    }
   ],
   "execution_count": 25
  },
  {
   "metadata": {
    "ExecuteTime": {
     "end_time": "2025-01-28T18:55:56.426086Z",
     "start_time": "2025-01-28T18:55:56.388575Z"
    }
   },
   "cell_type": "code",
   "source": "emp_new = spark.sql(\"select * from emp_final_\")",
   "id": "8b9731f9f0e42f95",
   "outputs": [],
   "execution_count": 28
  },
  {
   "metadata": {
    "ExecuteTime": {
     "end_time": "2025-01-28T18:55:57.166671Z",
     "start_time": "2025-01-28T18:55:57.089840Z"
    }
   },
   "cell_type": "code",
   "source": "emp_new.show()",
   "id": "16cb0a28196ebfd1",
   "outputs": [
    {
     "name": "stdout",
     "output_type": "stream",
     "text": [
      "+----------+----------+--------------------+----------+--------------------+--------------------+--------+-------------+-------------+---------------+\n",
      "|first_name| last_name|           job_title|       dob|               email|               phone|  salary|department_id|year_of_birth|department_name|\n",
      "+----------+----------+--------------------+----------+--------------------+--------------------+--------+-------------+-------------+---------------+\n",
      "|      Mark|   Collins|Runner, broadcast...|1966-10-23|wardkimberly@exam...|    001-602-603-7814|491108.0|            9|         1966|           NULL|\n",
      "|    Rodney|     Davis|            Musician|1976-07-12|rodrigueztracy@ex...|        932.767.5342|578043.0|            3|         1976|           NULL|\n",
      "|    Bianca|   Gilbert|Nature conservati...|1978-06-22| james59@example.net|        200-744-9780|347570.0|            4|         1978|           NULL|\n",
      "|      Jose|   Wallace| Electrical engineer|1982-09-25|thomas69@example.com|        234.542.9027| 81089.0|            4|         1982|           NULL|\n",
      "|     James|    Landry|Medical sales rep...|1977-02-02| david23@example.org|       (597)274-2346|384044.0|            2|         1977|           NULL|\n",
      "|   Matthew|   Rowland|   Financial adviser|1993-10-23|serranojacob@exam...|       (386)548-1998|669167.0|            7|         1993|           NULL|\n",
      "|   Kristen|   Edwards|Accountant, chart...|1973-01-31|  nallen@example.net|  581.910.5186x43003|477104.0|            9|         1973|           NULL|\n",
      "|       Amy|     Myers|   Nurse, children's|1989-10-31| pnewman@example.net|   415-992-4433x2046|905515.0|            2|         1989|           NULL|\n",
      "|      Glen|    Greene|        Metallurgist|1983-10-05|tdominguez@exampl...|    700-587-0100x787|411617.0|            4|         1983|           NULL|\n",
      "|    Hannah|   Vasquez| Early years teacher|1977-12-11| tonya35@example.net|   (920)835-6517x062|686138.0|            9|         1977|           NULL|\n",
      "|  Jennifer|  Martinez| Production engineer|1970-06-19| bmiller@example.org|    245-291-1976x699|662346.0|            1|         1970|           NULL|\n",
      "|      Mark|Montgomery|     Patent attorney|1986-07-04|taylorjerry@examp...|  696.557.7059x91053|655045.0|           10|         1986|           NULL|\n",
      "|      Sara|    Conner|Emergency plannin...|1969-02-14|smccarthy@example...|001-532-467-5988x831|153570.0|            6|         1969|           NULL|\n",
      "|     Louis|    Farmer|    Marine scientist|1981-04-30|courtneycook@exam...|        794-400-4997|261421.0|            6|         1981|           NULL|\n",
      "|   William| Rodriguez| Information officer|2001-04-12|christian62@examp...|  306-932-7640x70844|948167.0|            6|         2001|           NULL|\n",
      "|     April|     Clark|       Ranger/warden|1982-08-24|justin82@example.com|  989-826-9520x60013| 26202.0|            1|         1982|           NULL|\n",
      "|   Maurice|      Rice|              Dancer|1978-01-21|kathleensingleton...|001-901-648-4528x630|606102.0|            4|         1978|           NULL|\n",
      "|   Barbara|    Guzman|English as a fore...|1988-09-22|spencerchristophe...|+1-960-466-3513x7164| 27946.0|           10|         1988|           NULL|\n",
      "|     Jason|     Clark|Civil Service adm...|1998-07-01|  dallen@example.com|        913.419.6977|370235.0|            5|         1998|           NULL|\n",
      "|     Joyce|   Rowland|Intelligence analyst|1970-08-16|cummingseric@exam...|       (748)406-6104|567881.0|            5|         1970|           NULL|\n",
      "+----------+----------+--------------------+----------+--------------------+--------------------+--------+-------------+-------------+---------------+\n",
      "only showing top 20 rows\n",
      "\n"
     ]
    }
   ],
   "execution_count": 29
  },
  {
   "metadata": {
    "ExecuteTime": {
     "end_time": "2025-01-28T18:55:57.917557Z",
     "start_time": "2025-01-28T18:55:57.913531Z"
    }
   },
   "cell_type": "code",
   "source": "spark.conf.get('spark.sql.catalogImplementation')",
   "id": "1a64f83c67aa7fe0",
   "outputs": [
    {
     "data": {
      "text/plain": [
       "'hive'"
      ]
     },
     "execution_count": 30,
     "metadata": {},
     "output_type": "execute_result"
    }
   ],
   "execution_count": 30
  },
  {
   "metadata": {
    "ExecuteTime": {
     "end_time": "2025-01-28T19:01:06.019023Z",
     "start_time": "2025-01-28T19:01:06.002994Z"
    }
   },
   "cell_type": "code",
   "source": [
    "emp_final = spark.sql(\"\"\"\n",
    "    select /*+ BROADCAST(dept) */\n",
    "    emp.*, dept.department_name\n",
    "    from emp_view emp left outer join dept_view as dept\n",
    "    on emp.department_id = dept.department_id\n",
    "\"\"\")"
   ],
   "id": "82538a78a682dc14",
   "outputs": [],
   "execution_count": 31
  },
  {
   "metadata": {
    "ExecuteTime": {
     "end_time": "2025-01-28T19:01:11.173869Z",
     "start_time": "2025-01-28T19:01:10.435088Z"
    }
   },
   "cell_type": "code",
   "source": "emp_final.show()",
   "id": "8f0cc5652e16c523",
   "outputs": [
    {
     "name": "stdout",
     "output_type": "stream",
     "text": [
      "+----------+----------+--------------------+----------+--------------------+--------------------+--------+-------------+---------------+\n",
      "|first_name| last_name|           job_title|       dob|               email|               phone|  salary|department_id|department_name|\n",
      "+----------+----------+--------------------+----------+--------------------+--------------------+--------+-------------+---------------+\n",
      "|   Richard|  Morrison|Public relations ...|1973-05-05|melissagarcia@exa...|       (699)525-4827|512653.0|            8|           NULL|\n",
      "|     Bobby|  Mccarthy|   Barrister's clerk|1974-04-25|   llara@example.net|  (750)846-1602x7458|999836.0|            7|           NULL|\n",
      "|    Dennis|    Norman|Land/geomatics su...|1990-06-24| jturner@example.net|    873.820.0518x825|131900.0|           10|           NULL|\n",
      "|      John|    Monroe|        Retail buyer|1968-06-16|  erik33@example.net|    820-813-0557x624|485506.0|            1|           NULL|\n",
      "|  Michelle|   Elliott|      Air cabin crew|1975-03-31|tiffanyjohnston@e...|       (705)900-5337|604738.0|            8|           NULL|\n",
      "|    Ashley|   Montoya|        Cartographer|1976-01-16|patrickalexandra@...|        211.440.5466|483339.0|            6|           NULL|\n",
      "| Nathaniel|     Smith|     Quality manager|1985-06-28|  lori44@example.net|        936-403-3179|419644.0|            7|           NULL|\n",
      "|     Faith|  Cummings|Industrial/produc...|1978-07-01| ygordon@example.org|       (889)246-5588|205939.0|            7|           NULL|\n",
      "|  Margaret|    Sutton|Administrator, ed...|1975-08-16| diana44@example.net|001-647-530-5036x...|671167.0|            8|           NULL|\n",
      "|      Mary|    Sutton|   Freight forwarder|1979-12-28|  ryan36@example.com|   422.562.7254x3159|993829.0|            7|           NULL|\n",
      "|      Jake|      King|       Lexicographer|1994-07-11|monica93@example.org|+1-535-652-9715x6...|702101.0|            4|           NULL|\n",
      "|   Heather|     Haley|         Music tutor|1981-06-01|stephanie65@examp...|   (652)815-7973x298|570960.0|            6|           NULL|\n",
      "|    Thomas|    Thomas|Chartered managem...|2001-07-17|pwilliams@example...|001-245-848-0028x...|339441.0|            6|           NULL|\n",
      "|   Leonard|   Carlson|       Art therapist|1990-10-18|gabrielmurray@exa...|          9247590563|469728.0|            8|           NULL|\n",
      "|      Mark|      Wood|   Market researcher|1963-10-13|nicholas76@exampl...|   311.439.1606x3342|582291.0|            4|           NULL|\n",
      "|    Tracey|Washington|Travel agency man...|1986-05-07|  mark07@example.com|    001-912-206-6456|146456.0|            4|           NULL|\n",
      "|   Rachael| Rodriguez|         Media buyer|1966-12-02|griffinmary@examp...| +1-791-344-7586x548|544732.0|            1|           NULL|\n",
      "|      Tara|       Liu|   Financial adviser|1998-10-12|alexandraobrien@e...|        216.696.6061|399503.0|            3|           NULL|\n",
      "|       Ana|    Joseph|      Retail manager|1995-01-10|  rmorse@example.org|  (726)363-7526x9965|761988.0|           10|           NULL|\n",
      "|   Richard|      Hall|Engineer, civil (...|1967-03-02|brandoncardenas@e...| (964)451-9007x22496|660659.0|            4|           NULL|\n",
      "+----------+----------+--------------------+----------+--------------------+--------------------+--------+-------------+---------------+\n",
      "only showing top 20 rows\n",
      "\n"
     ]
    }
   ],
   "execution_count": 32
  },
  {
   "metadata": {
    "ExecuteTime": {
     "end_time": "2025-01-28T19:01:57.348910Z",
     "start_time": "2025-01-28T19:01:55.772904Z"
    }
   },
   "cell_type": "code",
   "source": "emp_final.write.format('parquet').saveAsTable('emp_final_data')",
   "id": "c5e038148573aa94",
   "outputs": [],
   "execution_count": 34
  },
  {
   "metadata": {
    "ExecuteTime": {
     "end_time": "2025-01-28T19:02:08.858983Z",
     "start_time": "2025-01-28T19:02:08.831201Z"
    }
   },
   "cell_type": "code",
   "source": "spark.sql('show tables in default').show()",
   "id": "2b25a05fcaa7488b",
   "outputs": [
    {
     "name": "stdout",
     "output_type": "stream",
     "text": [
      "+---------+--------------+-----------+\n",
      "|namespace|     tableName|isTemporary|\n",
      "+---------+--------------+-----------+\n",
      "|  default|    emp_final_|      false|\n",
      "|  default|emp_final_data|      false|\n",
      "|         |     dept_view|       true|\n",
      "|         | emp_temp_view|       true|\n",
      "|         |      emp_view|       true|\n",
      "+---------+--------------+-----------+\n",
      "\n"
     ]
    }
   ],
   "execution_count": 35
  },
  {
   "metadata": {
    "ExecuteTime": {
     "end_time": "2025-01-28T19:06:44.091530Z",
     "start_time": "2025-01-28T19:06:44.060765Z"
    }
   },
   "cell_type": "code",
   "source": "spark.sql('show databases').show()",
   "id": "def1eecd8219ea67",
   "outputs": [
    {
     "name": "stdout",
     "output_type": "stream",
     "text": [
      "+---------+\n",
      "|namespace|\n",
      "+---------+\n",
      "|  default|\n",
      "+---------+\n",
      "\n"
     ]
    }
   ],
   "execution_count": 36
  },
  {
   "metadata": {
    "ExecuteTime": {
     "end_time": "2025-01-28T19:07:43.099098Z",
     "start_time": "2025-01-28T19:07:43.033249Z"
    }
   },
   "cell_type": "code",
   "source": "spark.sql(\"describe emp_final_data\").show()",
   "id": "9fda038b50d7238",
   "outputs": [
    {
     "name": "stdout",
     "output_type": "stream",
     "text": [
      "+---------------+---------+-------+\n",
      "|       col_name|data_type|comment|\n",
      "+---------------+---------+-------+\n",
      "|     first_name|   string|   NULL|\n",
      "|      last_name|   string|   NULL|\n",
      "|      job_title|   string|   NULL|\n",
      "|            dob|   string|   NULL|\n",
      "|          email|   string|   NULL|\n",
      "|          phone|   string|   NULL|\n",
      "|         salary|   double|   NULL|\n",
      "|  department_id|      int|   NULL|\n",
      "|department_name|   string|   NULL|\n",
      "+---------------+---------+-------+\n",
      "\n"
     ]
    }
   ],
   "execution_count": 37
  },
  {
   "metadata": {
    "ExecuteTime": {
     "end_time": "2025-01-28T19:08:05.764468Z",
     "start_time": "2025-01-28T19:08:05.715102Z"
    }
   },
   "cell_type": "code",
   "source": "spark.sql(\"describe extended emp_final_data\").show()",
   "id": "d37a6d8ac6672fd",
   "outputs": [
    {
     "name": "stdout",
     "output_type": "stream",
     "text": [
      "+--------------------+--------------------+-------+\n",
      "|            col_name|           data_type|comment|\n",
      "+--------------------+--------------------+-------+\n",
      "|          first_name|              string|   NULL|\n",
      "|           last_name|              string|   NULL|\n",
      "|           job_title|              string|   NULL|\n",
      "|                 dob|              string|   NULL|\n",
      "|               email|              string|   NULL|\n",
      "|               phone|              string|   NULL|\n",
      "|              salary|              double|   NULL|\n",
      "|       department_id|                 int|   NULL|\n",
      "|     department_name|              string|   NULL|\n",
      "|                    |                    |       |\n",
      "|# Detailed Table ...|                    |       |\n",
      "|             Catalog|       spark_catalog|       |\n",
      "|            Database|             default|       |\n",
      "|               Table|      emp_final_data|       |\n",
      "|               Owner|               Zygim|       |\n",
      "|        Created Time|Tue Jan 28 21:01:...|       |\n",
      "|         Last Access|             UNKNOWN|       |\n",
      "|          Created By|         Spark 3.5.4|       |\n",
      "|                Type|             MANAGED|       |\n",
      "|            Provider|             parquet|       |\n",
      "+--------------------+--------------------+-------+\n",
      "only showing top 20 rows\n",
      "\n"
     ]
    }
   ],
   "execution_count": 40
  },
  {
   "metadata": {
    "ExecuteTime": {
     "end_time": "2025-01-28T19:12:11.108214Z",
     "start_time": "2025-01-28T19:12:10.842453Z"
    }
   },
   "cell_type": "code",
   "source": "spark.stop()",
   "id": "f5e08cc24e947d8e",
   "outputs": [],
   "execution_count": 41
  }
 ],
 "metadata": {
  "kernelspec": {
   "display_name": "Python 3",
   "language": "python",
   "name": "python3"
  },
  "language_info": {
   "codemirror_mode": {
    "name": "ipython",
    "version": 2
   },
   "file_extension": ".py",
   "mimetype": "text/x-python",
   "name": "python",
   "nbconvert_exporter": "python",
   "pygments_lexer": "ipython2",
   "version": "2.7.6"
  }
 },
 "nbformat": 4,
 "nbformat_minor": 5
}
