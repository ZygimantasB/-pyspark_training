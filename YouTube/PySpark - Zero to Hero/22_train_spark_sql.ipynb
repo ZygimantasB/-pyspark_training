{
 "cells": [
  {
   "metadata": {},
   "cell_type": "markdown",
   "source": "#",
   "id": "7ff027ce00f9767b"
  },
  {
   "metadata": {
    "ExecuteTime": {
     "end_time": "2025-01-27T19:33:17.767539Z",
     "start_time": "2025-01-27T19:33:17.607850Z"
    }
   },
   "cell_type": "code",
   "source": [
    "from pyspark.sql import SparkSession\n",
    "import pyspark.sql.functions as F\n",
    "import os"
   ],
   "id": "c681bb914db8b52c",
   "outputs": [],
   "execution_count": 1
  },
  {
   "metadata": {
    "ExecuteTime": {
     "end_time": "2025-01-27T19:33:17.774777Z",
     "start_time": "2025-01-27T19:33:17.771605Z"
    }
   },
   "cell_type": "code",
   "source": [
    "os.environ['SPARK_HOME'] = r'C:\\spark\\spark-3.5.4-bin-hadoop3'\n",
    "os.environ['PYSPARK_DRIVER_PYTHON'] = 'jupyter'\n",
    "os.environ['PYSPARK_DRIVER_PYTHON_OPTS'] = 'lab'\n",
    "os.environ['PYSPARK_PYTHON'] = 'python'"
   ],
   "id": "f5f3df696eb45970",
   "outputs": [],
   "execution_count": 2
  },
  {
   "metadata": {
    "ExecuteTime": {
     "end_time": "2025-01-27T19:33:21.644916Z",
     "start_time": "2025-01-27T19:33:17.947695Z"
    }
   },
   "cell_type": "code",
   "source": [
    "spark = (\n",
    "    SparkSession\n",
    "    .builder\n",
    "    .appName(\"PySpark Zero to Hero\")\n",
    "    .master(\"local[*]\")\n",
    "    .config(\"spark.executor.memory\", \"16g\")\n",
    "    .config(\"spark.driver.memory\", \"16g\")\n",
    "    .config(\"spark.executor.cores\", \"4\")\n",
    "    .config(\"spark.sql.shuffle.partitions\", \"80\")\n",
    "    .config(\"spark.dynamicAllocation.enabled\", \"true\")\n",
    "    .config(\"spark.dynamicAllocation.minExecutors\", \"2\")\n",
    "    .config(\"spark.dynamicAllocation.initialExecutors\", \"24\")\n",
    "    .config(\"spark.dynamicAllocation.maxExecutors\", \"50\")\n",
    "    .config('spark.dynamicAllocation.shuffleTrackingEnabled', 'true')\n",
    "    .config('spark.dynamicAllocation.executorIdleTimeout', '60')\n",
    "    .config(\"spark.shuffle.service.enabled\", \"true\")\n",
    "    .config(\"spark.serializer\", \"org.apache.spark.serializer.KryoSerializer\")\n",
    "    .getOrCreate()\n",
    ")"
   ],
   "id": "d2a7461dbcb1b54a",
   "outputs": [],
   "execution_count": 3
  },
  {
   "metadata": {
    "ExecuteTime": {
     "end_time": "2025-01-27T19:33:22.341629Z",
     "start_time": "2025-01-27T19:33:21.658242Z"
    }
   },
   "cell_type": "code",
   "source": [
    "spark.conf.set('spark.sql.adaptive.enabled', 'true')\n",
    "spark.conf.set('spark.sql.adaptive.coalescePartitions.enabled', 'true')\n",
    "spark.conf.set('spark.sql.autoBroadcastJoinThreshold', '-1')"
   ],
   "id": "d028c4184395609b",
   "outputs": [],
   "execution_count": 4
  },
  {
   "metadata": {
    "ExecuteTime": {
     "end_time": "2025-01-27T19:34:25.632114Z",
     "start_time": "2025-01-27T19:34:24.805909Z"
    }
   },
   "cell_type": "code",
   "source": [
    "df_path = r'F:\\DataSpell\\-pyspark_training\\YouTube\\PySpark - Zero to Hero\\datasets\\employee_records.csv'\n",
    "\n",
    "_schema = \"first_name string, last_name string, job_title string, dob string, email string, phone string, salary double, department_id int\"\n",
    "\n",
    "emp = spark.read.format(\"csv\").schema(_schema).option(\"header\", True).load(df_path)"
   ],
   "id": "80205f76b5439ede",
   "outputs": [],
   "execution_count": 5
  },
  {
   "metadata": {
    "ExecuteTime": {
     "end_time": "2025-01-27T19:34:25.659731Z",
     "start_time": "2025-01-27T19:34:25.635265Z"
    }
   },
   "cell_type": "code",
   "source": [
    "dept_path = r'F:\\DataSpell\\-pyspark_training\\YouTube\\PySpark - Zero to Hero\\datasets\\department_data.csv'\n",
    "\n",
    "_dept_schema = \"department_id int, department_name string, description string, city string, state string, country string\"\n",
    "\n",
    "dept = spark.read.format(\"csv\").schema(_dept_schema).option(\"header\", True).load(df_path)"
   ],
   "id": "cc124b6e6444ed4d",
   "outputs": [],
   "execution_count": 6
  },
  {
   "metadata": {
    "ExecuteTime": {
     "end_time": "2025-01-27T19:36:55.941125Z",
     "start_time": "2025-01-27T19:36:55.934667Z"
    }
   },
   "cell_type": "code",
   "source": "spark.conf.get('spark.sql.catalogImplementation')",
   "id": "cf48e6687dabd70e",
   "outputs": [
    {
     "data": {
      "text/plain": [
       "'in-memory'"
      ]
     },
     "execution_count": 8,
     "metadata": {},
     "output_type": "execute_result"
    }
   ],
   "execution_count": 8
  },
  {
   "metadata": {
    "ExecuteTime": {
     "end_time": "2025-01-27T19:37:22.872590Z",
     "start_time": "2025-01-27T19:37:22.851536Z"
    }
   },
   "cell_type": "code",
   "source": "db = spark.sql('show databases')",
   "id": "c392f136489142b2",
   "outputs": [],
   "execution_count": 10
  },
  {
   "metadata": {
    "ExecuteTime": {
     "end_time": "2025-01-27T19:37:29.240019Z",
     "start_time": "2025-01-27T19:37:28.410650Z"
    }
   },
   "cell_type": "code",
   "source": "db.show()",
   "id": "aabc325c62c169ce",
   "outputs": [
    {
     "name": "stdout",
     "output_type": "stream",
     "text": [
      "+---------+\n",
      "|namespace|\n",
      "+---------+\n",
      "|  default|\n",
      "+---------+\n",
      "\n"
     ]
    }
   ],
   "execution_count": 11
  },
  {
   "metadata": {
    "ExecuteTime": {
     "end_time": "2025-01-27T19:37:57.406151Z",
     "start_time": "2025-01-27T19:37:57.376268Z"
    }
   },
   "cell_type": "code",
   "source": "spark.sql('show tables in default').show()",
   "id": "659a762378d5cfc8",
   "outputs": [
    {
     "name": "stdout",
     "output_type": "stream",
     "text": [
      "+---------+---------+-----------+\n",
      "|namespace|tableName|isTemporary|\n",
      "+---------+---------+-----------+\n",
      "+---------+---------+-----------+\n",
      "\n"
     ]
    }
   ],
   "execution_count": 13
  },
  {
   "metadata": {
    "ExecuteTime": {
     "end_time": "2025-01-27T19:38:59.041657Z",
     "start_time": "2025-01-27T19:38:59.025504Z"
    }
   },
   "cell_type": "code",
   "source": [
    "emp.createOrReplaceTempView('emp_view')\n",
    "dept.createOrReplaceTempView('dept_view')"
   ],
   "id": "456a8fd62381f174",
   "outputs": [],
   "execution_count": 15
  },
  {
   "metadata": {
    "ExecuteTime": {
     "end_time": "2025-01-27T19:39:10.600395Z",
     "start_time": "2025-01-27T19:39:10.514459Z"
    }
   },
   "cell_type": "code",
   "source": "spark.sql('show tables in default').show()",
   "id": "c41db0ce68584e64",
   "outputs": [
    {
     "name": "stdout",
     "output_type": "stream",
     "text": [
      "+---------+---------+-----------+\n",
      "|namespace|tableName|isTemporary|\n",
      "+---------+---------+-----------+\n",
      "|         |dept_view|       true|\n",
      "|         | emp_view|       true|\n",
      "+---------+---------+-----------+\n",
      "\n"
     ]
    }
   ],
   "execution_count": 16
  },
  {
   "metadata": {
    "ExecuteTime": {
     "end_time": "2025-01-27T19:42:37.734464Z",
     "start_time": "2025-01-27T19:42:37.723999Z"
    }
   },
   "cell_type": "code",
   "source": [
    "emp_filtered = spark.sql(\"\"\"\n",
    "    select * from emp_view\n",
    "    where department_id = 1\n",
    "\"\"\")"
   ],
   "id": "3a181e01790afabf",
   "outputs": [],
   "execution_count": 21
  },
  {
   "metadata": {
    "ExecuteTime": {
     "end_time": "2025-01-27T19:42:41.747039Z",
     "start_time": "2025-01-27T19:42:41.657636Z"
    }
   },
   "cell_type": "code",
   "source": "emp_filtered.show()",
   "id": "5b77478c7fc0d7ea",
   "outputs": [
    {
     "name": "stdout",
     "output_type": "stream",
     "text": [
      "+-----------+---------+--------------------+----------+--------------------+--------------------+--------+-------------+\n",
      "| first_name|last_name|           job_title|       dob|               email|               phone|  salary|department_id|\n",
      "+-----------+---------+--------------------+----------+--------------------+--------------------+--------+-------------+\n",
      "|       John|   Monroe|        Retail buyer|1968-06-16|  erik33@example.net|    820-813-0557x624|485506.0|            1|\n",
      "|    Rachael|Rodriguez|         Media buyer|1966-12-02|griffinmary@examp...| +1-791-344-7586x548|544732.0|            1|\n",
      "|Christopher| Callahan| Exhibition designer|1966-10-23| qwalter@example.com|001-947-745-3939x...|251057.0|            1|\n",
      "|    Lindsey|   Huerta|Embryologist, cli...|1964-10-20|  psmith@example.net|   527.934.6665x1378|878257.0|            1|\n",
      "|      David|   Harris|   Company secretary|1990-04-13|     nli@example.com|001-959-766-1180x...|249553.0|            1|\n",
      "|      Brian|Hernandez|     Theatre manager|1978-05-05|  lisa93@example.com|        617-444-2378| 99894.0|            1|\n",
      "|      Peter|  Stevens|   Recycling officer|1983-06-10|jamesparker@examp...|   577-619-5082x8283|842980.0|            1|\n",
      "|       John|  Acevedo|Leisure centre ma...|1963-10-13|daniel21@example.org|  (247)878-5722x3342|385821.0|            1|\n",
      "|     Steven|      Lee|Adult guidance wo...|1969-06-01|wernergabriel@exa...|001-564-541-5402x...|336534.0|            1|\n",
      "|     Denise|     Dean|           Herbalist|1972-06-27|stephenwilliams@e...|        269.375.8072|656850.0|            1|\n",
      "|      Blake|       Wu| Marketing executive|1965-12-29|  gdoyle@example.net|+1-559-646-6295x3...|470459.0|            1|\n",
      "|      Billy|    Poole| Animal nutritionist|1969-05-31|maryhill@example.net|        713-637-6222|636619.0|            1|\n",
      "|       Eric|      Key|               Actor|1992-09-02|colemanshawn@exam...|   368.865.1746x2103|836623.0|            1|\n",
      "|     Amanda|     Ford|Health service ma...|1990-10-06|strongstephanie@e...|          5088050717|258843.0|            1|\n",
      "|      Jason|     Page|Historic building...|1964-02-22|woodsdebra@exampl...|001-327-358-1554x413| 76017.0|            1|\n",
      "|      Kelly|     Pugh|    Heritage manager|1972-07-17|paulmichelle@exam...|001-710-376-9474x...|332664.0|            1|\n",
      "|      Katie|    Rojas|    Paediatric nurse|1966-12-06|wilsoncurtis@exam...|+1-394-952-6247x7544|318915.0|            1|\n",
      "|    William|     Shaw|      Water engineer|1971-03-23|ngutierrez@exampl...|    674.916.1038x751|340283.0|            1|\n",
      "|      Linda|     Hill|Exercise physiolo...|1972-02-23|deckerdavid@examp...|   (931)974-8866x513|630520.0|            1|\n",
      "|  Christina| Martinez|Historic building...|1976-03-07| emily31@example.org|   277.954.3449x4345|383173.0|            1|\n",
      "+-----------+---------+--------------------+----------+--------------------+--------------------+--------+-------------+\n",
      "only showing top 20 rows\n",
      "\n"
     ]
    }
   ],
   "execution_count": 22
  },
  {
   "metadata": {
    "ExecuteTime": {
     "end_time": "2025-01-27T19:49:26.005340Z",
     "start_time": "2025-01-27T19:49:25.993255Z"
    }
   },
   "cell_type": "code",
   "source": [
    "emp_temp = spark.sql(\"\"\"\n",
    "    select emp.*, date_format(dob, 'yyyy') as year_of_birth\n",
    "    from emp_view emp\n",
    "\"\"\")"
   ],
   "id": "3866d47306a3856d",
   "outputs": [],
   "execution_count": 29
  },
  {
   "metadata": {
    "ExecuteTime": {
     "end_time": "2025-01-27T19:50:34.170107Z",
     "start_time": "2025-01-27T19:50:34.159398Z"
    }
   },
   "cell_type": "code",
   "source": "emp_temp.createOrReplaceTempView('emp_temp_view')",
   "id": "606d5732e2590347",
   "outputs": [],
   "execution_count": 32
  },
  {
   "metadata": {
    "ExecuteTime": {
     "end_time": "2025-01-27T19:50:40.719894Z",
     "start_time": "2025-01-27T19:50:40.602807Z"
    }
   },
   "cell_type": "code",
   "source": "spark.sql('select * from emp_temp_view').show()",
   "id": "8929c0948f314c6c",
   "outputs": [
    {
     "name": "stdout",
     "output_type": "stream",
     "text": [
      "+----------+----------+--------------------+----------+--------------------+--------------------+--------+-------------+-------------+\n",
      "|first_name| last_name|           job_title|       dob|               email|               phone|  salary|department_id|year_of_birth|\n",
      "+----------+----------+--------------------+----------+--------------------+--------------------+--------+-------------+-------------+\n",
      "|   Richard|  Morrison|Public relations ...|1973-05-05|melissagarcia@exa...|       (699)525-4827|512653.0|            8|         1973|\n",
      "|     Bobby|  Mccarthy|   Barrister's clerk|1974-04-25|   llara@example.net|  (750)846-1602x7458|999836.0|            7|         1974|\n",
      "|    Dennis|    Norman|Land/geomatics su...|1990-06-24| jturner@example.net|    873.820.0518x825|131900.0|           10|         1990|\n",
      "|      John|    Monroe|        Retail buyer|1968-06-16|  erik33@example.net|    820-813-0557x624|485506.0|            1|         1968|\n",
      "|  Michelle|   Elliott|      Air cabin crew|1975-03-31|tiffanyjohnston@e...|       (705)900-5337|604738.0|            8|         1975|\n",
      "|    Ashley|   Montoya|        Cartographer|1976-01-16|patrickalexandra@...|        211.440.5466|483339.0|            6|         1976|\n",
      "| Nathaniel|     Smith|     Quality manager|1985-06-28|  lori44@example.net|        936-403-3179|419644.0|            7|         1985|\n",
      "|     Faith|  Cummings|Industrial/produc...|1978-07-01| ygordon@example.org|       (889)246-5588|205939.0|            7|         1978|\n",
      "|  Margaret|    Sutton|Administrator, ed...|1975-08-16| diana44@example.net|001-647-530-5036x...|671167.0|            8|         1975|\n",
      "|      Mary|    Sutton|   Freight forwarder|1979-12-28|  ryan36@example.com|   422.562.7254x3159|993829.0|            7|         1979|\n",
      "|      Jake|      King|       Lexicographer|1994-07-11|monica93@example.org|+1-535-652-9715x6...|702101.0|            4|         1994|\n",
      "|   Heather|     Haley|         Music tutor|1981-06-01|stephanie65@examp...|   (652)815-7973x298|570960.0|            6|         1981|\n",
      "|    Thomas|    Thomas|Chartered managem...|2001-07-17|pwilliams@example...|001-245-848-0028x...|339441.0|            6|         2001|\n",
      "|   Leonard|   Carlson|       Art therapist|1990-10-18|gabrielmurray@exa...|          9247590563|469728.0|            8|         1990|\n",
      "|      Mark|      Wood|   Market researcher|1963-10-13|nicholas76@exampl...|   311.439.1606x3342|582291.0|            4|         1963|\n",
      "|    Tracey|Washington|Travel agency man...|1986-05-07|  mark07@example.com|    001-912-206-6456|146456.0|            4|         1986|\n",
      "|   Rachael| Rodriguez|         Media buyer|1966-12-02|griffinmary@examp...| +1-791-344-7586x548|544732.0|            1|         1966|\n",
      "|      Tara|       Liu|   Financial adviser|1998-10-12|alexandraobrien@e...|        216.696.6061|399503.0|            3|         1998|\n",
      "|       Ana|    Joseph|      Retail manager|1995-01-10|  rmorse@example.org|  (726)363-7526x9965|761988.0|           10|         1995|\n",
      "|   Richard|      Hall|Engineer, civil (...|1967-03-02|brandoncardenas@e...| (964)451-9007x22496|660659.0|            4|         1967|\n",
      "+----------+----------+--------------------+----------+--------------------+--------------------+--------+-------------+-------------+\n",
      "only showing top 20 rows\n",
      "\n"
     ]
    }
   ],
   "execution_count": 34
  },
  {
   "metadata": {},
   "cell_type": "markdown",
   "source": "# 8:53 finished",
   "id": "fa70eb825ea81710"
  },
  {
   "metadata": {},
   "cell_type": "code",
   "outputs": [],
   "execution_count": null,
   "source": "",
   "id": "ae43736dd72e2ea9"
  }
 ],
 "metadata": {
  "kernelspec": {
   "display_name": "Python 3",
   "language": "python",
   "name": "python3"
  },
  "language_info": {
   "codemirror_mode": {
    "name": "ipython",
    "version": 2
   },
   "file_extension": ".py",
   "mimetype": "text/x-python",
   "name": "python",
   "nbconvert_exporter": "python",
   "pygments_lexer": "ipython2",
   "version": "2.7.6"
  }
 },
 "nbformat": 4,
 "nbformat_minor": 5
}
