{
 "cells": [
  {
   "metadata": {
    "ExecuteTime": {
     "end_time": "2025-01-25T11:53:55.015784Z",
     "start_time": "2025-01-25T11:53:54.873174Z"
    }
   },
   "cell_type": "code",
   "source": [
    "from pyspark.sql import SparkSession\n",
    "import pyspark.sql.functions as F\n",
    "import os"
   ],
   "id": "c681bb914db8b52c",
   "outputs": [],
   "execution_count": 1
  },
  {
   "metadata": {
    "ExecuteTime": {
     "end_time": "2025-01-25T11:53:55.025769Z",
     "start_time": "2025-01-25T11:53:55.022737Z"
    }
   },
   "cell_type": "code",
   "source": [
    "os.environ['SPARK_HOME'] = r'C:\\spark\\spark-3.5.4-bin-hadoop3'\n",
    "os.environ['PYSPARK_DRIVER_PYTHON'] = 'jupyter'\n",
    "os.environ['PYSPARK_DRIVER_PYTHON_OPTS'] = 'lab'\n",
    "os.environ['PYSPARK_PYTHON'] = 'python'"
   ],
   "id": "f5f3df696eb45970",
   "outputs": [],
   "execution_count": 2
  },
  {
   "metadata": {
    "ExecuteTime": {
     "end_time": "2025-01-25T11:53:58.543038Z",
     "start_time": "2025-01-25T11:53:55.199412Z"
    }
   },
   "cell_type": "code",
   "source": [
    "spark = (\n",
    "    SparkSession\n",
    "    .builder\n",
    "    .appName(\"PySpark Zero to Hero\")\n",
    "    .master(\"local[*]\")\n",
    "    .config(\"spark.executor.memory\", \"16g\")\n",
    "    .config(\"spark.driver.memory\", \"16g\")\n",
    "    .config(\"spark.executor.cores\", \"4\")\n",
    "    .config(\"spark.sql.shuffle.partitions\", \"80\")\n",
    "    .config(\"spark.dynamicAllocation.enabled\", \"true\")\n",
    "    .config(\"spark.dynamicAllocation.minExecutors\", \"2\")\n",
    "    .config(\"spark.dynamicAllocation.initialExecutors\", \"24\")\n",
    "    .config(\"spark.dynamicAllocation.maxExecutors\", \"50\")\n",
    "    .config(\"spark.shuffle.service.enabled\", \"true\")\n",
    "    .config(\"spark.serializer\", \"org.apache.spark.serializer.KryoSerializer\")\n",
    "    .getOrCreate()\n",
    ")"
   ],
   "id": "d2a7461dbcb1b54a",
   "outputs": [],
   "execution_count": 3
  },
  {
   "metadata": {
    "ExecuteTime": {
     "end_time": "2025-01-25T11:53:59.173684Z",
     "start_time": "2025-01-25T11:53:58.555475Z"
    }
   },
   "cell_type": "code",
   "source": [
    "spark.conf.set(\"spark.sql.adaptive.enabled\", False)\n",
    "spark.conf.set(\"spark.sql.adaptive.coalescePartitions.enabled\", False)\n",
    "spark.conf.set(\"spark.sql.autoBroadcastJoinThreshold\", -1)"
   ],
   "id": "c9752f9abbb2c6e",
   "outputs": [],
   "execution_count": 4
  },
  {
   "metadata": {
    "ExecuteTime": {
     "end_time": "2025-01-25T11:54:00.036435Z",
     "start_time": "2025-01-25T11:53:59.179199Z"
    }
   },
   "cell_type": "code",
   "source": [
    "df_path = r'F:\\DataSpell\\-pyspark_training\\YouTube\\PySpark - Zero to Hero\\datasets\\employee_records.csv'\n",
    "\n",
    "_schema = \"first_name string, last_name string, job_title string, dob string, email string, phone string, salary double, department_id int\"\n",
    "\n",
    "emp = spark.read.format(\"csv\").schema(_schema).option(\"header\", True).load(df_path)"
   ],
   "id": "3e06a4cbd1d7f920",
   "outputs": [],
   "execution_count": 5
  },
  {
   "metadata": {
    "ExecuteTime": {
     "end_time": "2025-01-25T11:54:00.111174Z",
     "start_time": "2025-01-25T11:54:00.080306Z"
    }
   },
   "cell_type": "code",
   "source": [
    "dept_path = r'F:\\DataSpell\\-pyspark_training\\YouTube\\PySpark - Zero to Hero\\datasets\\department_data.csv'\n",
    "\n",
    "_dept_schema = \"department_id int, department_name string, description string, city string, state string, country string\"\n",
    "\n",
    "dept = spark.read.format(\"csv\").schema(_dept_schema).option(\"header\", True).load(df_path)"
   ],
   "id": "8a5edbb3b2e490b9",
   "outputs": [],
   "execution_count": 6
  },
  {
   "metadata": {
    "ExecuteTime": {
     "end_time": "2025-01-25T11:54:00.128689Z",
     "start_time": "2025-01-25T11:54:00.119681Z"
    }
   },
   "cell_type": "code",
   "source": "spark",
   "id": "ec3aedf3bebf809f",
   "outputs": [
    {
     "data": {
      "text/plain": [
       "<pyspark.sql.session.SparkSession at 0x23864778210>"
      ],
      "text/html": [
       "\n",
       "            <div>\n",
       "                <p><b>SparkSession - in-memory</b></p>\n",
       "                \n",
       "        <div>\n",
       "            <p><b>SparkContext</b></p>\n",
       "\n",
       "            <p><a href=\"http://Zygimantas:4040\">Spark UI</a></p>\n",
       "\n",
       "            <dl>\n",
       "              <dt>Version</dt>\n",
       "                <dd><code>v3.5.4</code></dd>\n",
       "              <dt>Master</dt>\n",
       "                <dd><code>local[*]</code></dd>\n",
       "              <dt>AppName</dt>\n",
       "                <dd><code>PySpark Zero to Hero</code></dd>\n",
       "            </dl>\n",
       "        </div>\n",
       "        \n",
       "            </div>\n",
       "        "
      ]
     },
     "execution_count": 7,
     "metadata": {},
     "output_type": "execute_result"
    }
   ],
   "execution_count": 7
  },
  {
   "metadata": {
    "ExecuteTime": {
     "end_time": "2025-01-25T11:54:00.261244Z",
     "start_time": "2025-01-25T11:54:00.136469Z"
    }
   },
   "cell_type": "code",
   "source": "df_joined = emp.join(dept, on=emp['department_id'] == dept['department_id'], how='left_outer')",
   "id": "5800345bcef1f6a9",
   "outputs": [],
   "execution_count": 8
  },
  {
   "metadata": {
    "ExecuteTime": {
     "end_time": "2025-01-25T11:54:06.798429Z",
     "start_time": "2025-01-25T11:54:00.273338Z"
    }
   },
   "cell_type": "code",
   "source": "df_joined.write.format('noop').mode('overwrite').save()",
   "id": "e44994404f26a3d7",
   "outputs": [],
   "execution_count": 9
  },
  {
   "metadata": {
    "ExecuteTime": {
     "end_time": "2025-01-25T11:54:06.843933Z",
     "start_time": "2025-01-25T11:54:06.809072Z"
    }
   },
   "cell_type": "code",
   "source": "df_joined.explain()",
   "id": "ba8f95ce5d1278d7",
   "outputs": [
    {
     "name": "stdout",
     "output_type": "stream",
     "text": [
      "== Physical Plan ==\n",
      "*(4) SortMergeJoin [department_id#7], [department_id#16], LeftOuter\n",
      ":- *(1) Sort [department_id#7 ASC NULLS FIRST], false, 0\n",
      ":  +- Exchange hashpartitioning(department_id#7, 80), ENSURE_REQUIREMENTS, [plan_id=70]\n",
      ":     +- FileScan csv [first_name#0,last_name#1,job_title#2,dob#3,email#4,phone#5,salary#6,department_id#7] Batched: false, DataFilters: [], Format: CSV, Location: InMemoryFileIndex(1 paths)[file:/F:/DataSpell/-pyspark_training/YouTube/PySpark - Zero to Hero/da..., PartitionFilters: [], PushedFilters: [], ReadSchema: struct<first_name:string,last_name:string,job_title:string,dob:string,email:string,phone:string,s...\n",
      "+- *(3) Sort [department_id#16 ASC NULLS FIRST], false, 0\n",
      "   +- Exchange hashpartitioning(department_id#16, 80), ENSURE_REQUIREMENTS, [plan_id=82]\n",
      "      +- *(2) Filter isnotnull(department_id#16)\n",
      "         +- FileScan csv [department_id#16,department_name#17,description#18,city#19,state#20,country#21] Batched: false, DataFilters: [isnotnull(department_id#16)], Format: CSV, Location: InMemoryFileIndex(1 paths)[file:/F:/DataSpell/-pyspark_training/YouTube/PySpark - Zero to Hero/da..., PartitionFilters: [], PushedFilters: [IsNotNull(department_id)], ReadSchema: struct<department_id:int,department_name:string,description:string,city:string,state:string,count...\n",
      "\n",
      "\n"
     ]
    }
   ],
   "execution_count": 10
  },
  {
   "metadata": {
    "ExecuteTime": {
     "end_time": "2025-01-25T11:54:06.885154Z",
     "start_time": "2025-01-25T11:54:06.853492Z"
    }
   },
   "cell_type": "code",
   "source": [
    "df_joined = emp.join(\n",
    "    F.broadcast(dept),\n",
    "    on=emp['department_id'] == dept['department_id'],\n",
    "    how='left_outer')"
   ],
   "id": "543b84e3c5c0c11e",
   "outputs": [],
   "execution_count": 11
  },
  {
   "metadata": {
    "ExecuteTime": {
     "end_time": "2025-01-25T11:54:08.523058Z",
     "start_time": "2025-01-25T11:54:06.895468Z"
    }
   },
   "cell_type": "code",
   "source": "df_joined.write.format('noop').mode('overwrite').save()",
   "id": "26df5fedb19c3e17",
   "outputs": [],
   "execution_count": 12
  },
  {
   "metadata": {
    "ExecuteTime": {
     "end_time": "2025-01-25T11:54:08.552036Z",
     "start_time": "2025-01-25T11:54:08.533579Z"
    }
   },
   "cell_type": "code",
   "source": "df_joined.explain()",
   "id": "9871f67dfc823292",
   "outputs": [
    {
     "name": "stdout",
     "output_type": "stream",
     "text": [
      "== Physical Plan ==\n",
      "*(2) BroadcastHashJoin [department_id#7], [department_id#16], LeftOuter, BuildRight, false\n",
      ":- FileScan csv [first_name#0,last_name#1,job_title#2,dob#3,email#4,phone#5,salary#6,department_id#7] Batched: false, DataFilters: [], Format: CSV, Location: InMemoryFileIndex(1 paths)[file:/F:/DataSpell/-pyspark_training/YouTube/PySpark - Zero to Hero/da..., PartitionFilters: [], PushedFilters: [], ReadSchema: struct<first_name:string,last_name:string,job_title:string,dob:string,email:string,phone:string,s...\n",
      "+- BroadcastExchange HashedRelationBroadcastMode(List(cast(input[0, int, false] as bigint)),false), [plan_id=160]\n",
      "   +- *(1) Filter isnotnull(department_id#16)\n",
      "      +- FileScan csv [department_id#16,department_name#17,description#18,city#19,state#20,country#21] Batched: false, DataFilters: [isnotnull(department_id#16)], Format: CSV, Location: InMemoryFileIndex(1 paths)[file:/F:/DataSpell/-pyspark_training/YouTube/PySpark - Zero to Hero/da..., PartitionFilters: [], PushedFilters: [IsNotNull(department_id)], ReadSchema: struct<department_id:int,department_name:string,description:string,city:string,state:string,count...\n",
      "\n",
      "\n"
     ]
    }
   ],
   "execution_count": 13
  },
  {
   "metadata": {
    "ExecuteTime": {
     "end_time": "2025-01-25T11:54:08.645369Z",
     "start_time": "2025-01-25T11:54:08.619654Z"
    }
   },
   "cell_type": "code",
   "source": [
    "sales_schema = \"transacted_at string, trx_id string, retailer_id string, description string, amount double, city_id string\"\n",
    "\n",
    "sales_path = r'F:\\DataSpell\\-pyspark_training\\YouTube\\PySpark - Zero to Hero\\datasets\\new_sales.csv'\n",
    "\n",
    "sales = spark.read.format(\"csv\").schema(sales_schema).option(\"header\", True).load(sales_path)"
   ],
   "id": "638779ac3fadf178",
   "outputs": [],
   "execution_count": 14
  },
  {
   "metadata": {
    "ExecuteTime": {
     "end_time": "2025-01-25T11:54:28.368290Z",
     "start_time": "2025-01-25T11:54:28.342282Z"
    }
   },
   "cell_type": "code",
   "source": [
    "city_schema = \"city_id string, city string, state string, state_abv string, country string\"\n",
    "\n",
    "cities_path = r'F:\\DataSpell\\-pyspark_training\\YouTube\\PySpark - Zero to Hero\\datasets\\cities.csv'\n",
    "\n",
    "city = spark.read.format('csv').schema(city_schema).option('header', True).load(cities_path)"
   ],
   "id": "eec1686a7f581bd7",
   "outputs": [],
   "execution_count": 18
  },
  {
   "metadata": {
    "ExecuteTime": {
     "end_time": "2025-01-25T11:54:28.977732Z",
     "start_time": "2025-01-25T11:54:28.893745Z"
    }
   },
   "cell_type": "code",
   "source": "city.show(5)",
   "id": "714f1c57c77798e3",
   "outputs": [
    {
     "name": "stdout",
     "output_type": "stream",
     "text": [
      "+----------+-----------------+-----+---------+--------------------+\n",
      "|   city_id|             city|state|state_abv|             country|\n",
      "+----------+-----------------+-----+---------+--------------------+\n",
      "| 324732552|ladang ulu bernam| NULL|     NULL|            Malaysia|\n",
      "|2010991182|     `ali rowshan| NULL|     NULL|                Iran|\n",
      "| 741912760|           borovo| NULL|     NULL|Bosnia and Herzeg...|\n",
      "| 604192006|      aillo talor| NULL|     NULL|               Chile|\n",
      "| 752393249|   sheykheh koreh| NULL|     NULL|                Iran|\n",
      "+----------+-----------------+-----+---------+--------------------+\n",
      "only showing top 5 rows\n",
      "\n"
     ]
    }
   ],
   "execution_count": 19
  },
  {
   "metadata": {
    "ExecuteTime": {
     "end_time": "2025-01-25T11:54:33.626666Z",
     "start_time": "2025-01-25T11:54:33.618010Z"
    }
   },
   "cell_type": "code",
   "source": "df_sales_joined = sales.join(city, on=sales['city_id'] == city['city_id'], how='left_outer')",
   "id": "4f7fcabaa09f1db1",
   "outputs": [],
   "execution_count": 20
  },
  {
   "metadata": {
    "ExecuteTime": {
     "end_time": "2025-01-25T11:54:53.907739Z",
     "start_time": "2025-01-25T11:54:48.330770Z"
    }
   },
   "cell_type": "code",
   "source": "df_sales_joined.write.format('noop').mode('overwrite').save()",
   "id": "bf21207fd9715230",
   "outputs": [],
   "execution_count": 21
  },
  {
   "metadata": {
    "ExecuteTime": {
     "end_time": "2025-01-25T11:56:02.718258Z",
     "start_time": "2025-01-25T11:56:02.706781Z"
    }
   },
   "cell_type": "code",
   "source": "df_sales_joined = sales.join(F.broadcast(city), on=sales['city_id'] == city['city_id'], how='left_outer')",
   "id": "f0b3c9d7bfe092e9",
   "outputs": [],
   "execution_count": 22
  },
  {
   "metadata": {
    "ExecuteTime": {
     "end_time": "2025-01-25T11:56:08.743948Z",
     "start_time": "2025-01-25T11:56:05.166972Z"
    }
   },
   "cell_type": "code",
   "source": "df_sales_joined.write.format('noop').mode('overwrite').save()",
   "id": "cf615cd9198582a4",
   "outputs": [],
   "execution_count": 23
  },
  {
   "metadata": {
    "ExecuteTime": {
     "end_time": "2025-01-25T12:03:11.657169Z",
     "start_time": "2025-01-25T12:03:07.511557Z"
    }
   },
   "cell_type": "code",
   "source": [
    "(\n",
    "    sales.write.format('csv')\n",
    "    .mode('overwrite')\n",
    "    .bucketBy(4, 'city_id')\n",
    "    .option('header', True)\n",
    "    .option(\n",
    "        'path',\n",
    "        r'F:\\DataSpell\\-pyspark_training\\YouTube\\PySpark - Zero to Hero\\datasets\\my_data\\sales_bucket.csv'\n",
    ").saveAsTable('sales_bucket')\n",
    ")"
   ],
   "id": "bf3abc2c136c2f31",
   "outputs": [],
   "execution_count": 29
  },
  {
   "metadata": {
    "ExecuteTime": {
     "end_time": "2025-01-25T12:04:27.629566Z",
     "start_time": "2025-01-25T12:04:26.343953Z"
    }
   },
   "cell_type": "code",
   "source": [
    "(\n",
    "    city.write.format('csv')\n",
    "    .mode('overwrite')\n",
    "    .bucketBy(4, 'city_id')\n",
    "    .option('header', True)\n",
    "    .option(\n",
    "        'path',\n",
    "        r'F:\\DataSpell\\-pyspark_training\\YouTube\\PySpark - Zero to Hero\\datasets\\my_data\\city_bucket.csv'\n",
    "    ).saveAsTable('city_bucket')\n",
    ")"
   ],
   "id": "4d783f3d438b7897",
   "outputs": [],
   "execution_count": 30
  },
  {
   "metadata": {
    "ExecuteTime": {
     "end_time": "2025-01-25T12:05:29.679260Z",
     "start_time": "2025-01-25T12:05:29.529739Z"
    }
   },
   "cell_type": "code",
   "source": "spark.sql('show tables in default').show()",
   "id": "bc8171e2ffff9a2d",
   "outputs": [
    {
     "name": "stdout",
     "output_type": "stream",
     "text": [
      "+---------+------------+-----------+\n",
      "|namespace|   tableName|isTemporary|\n",
      "+---------+------------+-----------+\n",
      "|  default| city_bucket|      false|\n",
      "|  default|sales_bucket|      false|\n",
      "+---------+------------+-----------+\n",
      "\n"
     ]
    }
   ],
   "execution_count": 32
  },
  {
   "metadata": {
    "ExecuteTime": {
     "end_time": "2025-01-25T12:06:20.304289Z",
     "start_time": "2025-01-25T12:06:20.241125Z"
    }
   },
   "cell_type": "code",
   "source": "sales_bucket = spark.read.table('sales_bucket')",
   "id": "507398602be390e4",
   "outputs": [],
   "execution_count": 33
  },
  {
   "metadata": {
    "ExecuteTime": {
     "end_time": "2025-01-25T12:06:20.501661Z",
     "start_time": "2025-01-25T12:06:20.455851Z"
    }
   },
   "cell_type": "code",
   "source": "city_bucket = spark.read.table('city_bucket')",
   "id": "102afd1fc1d9556e",
   "outputs": [],
   "execution_count": 34
  },
  {
   "metadata": {
    "ExecuteTime": {
     "end_time": "2025-01-25T12:06:50.211772Z",
     "start_time": "2025-01-25T12:06:50.201790Z"
    }
   },
   "cell_type": "code",
   "source": [
    "df_joined_bucket = sales_bucket.join(\n",
    "    city_bucket,\n",
    "    on=sales_bucket['city_id'] == city_bucket['city_id'],\n",
    "    how='left_outer'\n",
    ")"
   ],
   "id": "5387b5ae7c0dcbea",
   "outputs": [],
   "execution_count": 35
  },
  {
   "metadata": {
    "ExecuteTime": {
     "end_time": "2025-01-25T12:07:02.501964Z",
     "start_time": "2025-01-25T12:06:56.814647Z"
    }
   },
   "cell_type": "code",
   "source": "df_joined_bucket.write.format('noop').mode('overwrite').save()",
   "id": "f5f149aa438deb00",
   "outputs": [],
   "execution_count": 36
  },
  {
   "metadata": {
    "ExecuteTime": {
     "end_time": "2025-01-25T12:07:06.681809Z",
     "start_time": "2025-01-25T12:07:06.671020Z"
    }
   },
   "cell_type": "code",
   "source": [
    "df_joined_bucket = sales_bucket.join(\n",
    "    F.broadcast(city_bucket),\n",
    "    on=sales_bucket['city_id'] == city_bucket['city_id'],\n",
    "    how='left_outer'\n",
    ")"
   ],
   "id": "59f1636cc2b33660",
   "outputs": [],
   "execution_count": 37
  },
  {
   "metadata": {
    "ExecuteTime": {
     "end_time": "2025-01-25T12:08:19.869853Z",
     "start_time": "2025-01-25T12:08:19.856585Z"
    }
   },
   "cell_type": "code",
   "source": "df_joined_bucket.explain()",
   "id": "b7d7f4302d3d6a47",
   "outputs": [
    {
     "name": "stdout",
     "output_type": "stream",
     "text": [
      "== Physical Plan ==\n",
      "*(2) BroadcastHashJoin [city_id#424], [city_id#431], LeftOuter, BuildRight, false\n",
      ":- FileScan csv spark_catalog.default.sales_bucket[transacted_at#419,trx_id#420,retailer_id#421,description#422,amount#423,city_id#424] Batched: false, Bucketed: false (disabled by query planner), DataFilters: [], Format: CSV, Location: InMemoryFileIndex(1 paths)[file:/F:/DataSpell/-pyspark_training/YouTube/PySpark - Zero to Hero/da..., PartitionFilters: [], PushedFilters: [], ReadSchema: struct<transacted_at:string,trx_id:string,retailer_id:string,description:string,amount:double,cit...\n",
      "+- BroadcastExchange HashedRelationBroadcastMode(List(input[0, string, false]),false), [plan_id=405]\n",
      "   +- *(1) Filter isnotnull(city_id#431)\n",
      "      +- FileScan csv spark_catalog.default.city_bucket[city_id#431,city#432,state#433,state_abv#434,country#435] Batched: false, Bucketed: false (disabled by query planner), DataFilters: [isnotnull(city_id#431)], Format: CSV, Location: InMemoryFileIndex(1 paths)[file:/F:/DataSpell/-pyspark_training/YouTube/PySpark - Zero to Hero/da..., PartitionFilters: [], PushedFilters: [IsNotNull(city_id)], ReadSchema: struct<city_id:string,city:string,state:string,state_abv:string,country:string>\n",
      "\n",
      "\n"
     ]
    }
   ],
   "execution_count": 38
  },
  {
   "metadata": {
    "ExecuteTime": {
     "end_time": "2025-01-25T12:11:10.297418Z",
     "start_time": "2025-01-25T12:11:09.817261Z"
    }
   },
   "cell_type": "code",
   "source": "spark.stop()",
   "id": "24a23b4df90ea8b7",
   "outputs": [],
   "execution_count": 39
  },
  {
   "metadata": {},
   "cell_type": "code",
   "outputs": [],
   "execution_count": null,
   "source": "",
   "id": "cad41feaa408382b"
  }
 ],
 "metadata": {
  "kernelspec": {
   "display_name": "Python 3",
   "language": "python",
   "name": "python3"
  },
  "language_info": {
   "codemirror_mode": {
    "name": "ipython",
    "version": 2
   },
   "file_extension": ".py",
   "mimetype": "text/x-python",
   "name": "python",
   "nbconvert_exporter": "python",
   "pygments_lexer": "ipython2",
   "version": "2.7.6"
  }
 },
 "nbformat": 4,
 "nbformat_minor": 5
}
