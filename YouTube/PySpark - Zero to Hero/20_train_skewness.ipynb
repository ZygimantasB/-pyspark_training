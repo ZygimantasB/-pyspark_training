{
 "cells": [
  {
   "metadata": {},
   "cell_type": "markdown",
   "source": "# https://www.youtube.com/watch?v=2oaTQl1YzCw&list=PL2IsFZBGM_IHCl9zhRVC1EXTomkEp_1zm&index=24",
   "id": "7ff027ce00f9767b"
  },
  {
   "metadata": {
    "ExecuteTime": {
     "end_time": "2025-01-27T18:36:07.051545Z",
     "start_time": "2025-01-27T18:36:06.882289Z"
    }
   },
   "cell_type": "code",
   "source": [
    "from pyspark.sql import SparkSession\n",
    "import pyspark.sql.functions as F\n",
    "import os"
   ],
   "id": "c681bb914db8b52c",
   "outputs": [],
   "execution_count": 1
  },
  {
   "metadata": {
    "ExecuteTime": {
     "end_time": "2025-01-27T18:36:07.059063Z",
     "start_time": "2025-01-27T18:36:07.056057Z"
    }
   },
   "cell_type": "code",
   "source": [
    "os.environ['SPARK_HOME'] = r'C:\\spark\\spark-3.5.4-bin-hadoop3'\n",
    "os.environ['PYSPARK_DRIVER_PYTHON'] = 'jupyter'\n",
    "os.environ['PYSPARK_DRIVER_PYTHON_OPTS'] = 'lab'\n",
    "os.environ['PYSPARK_PYTHON'] = 'python'"
   ],
   "id": "f5f3df696eb45970",
   "outputs": [],
   "execution_count": 2
  },
  {
   "metadata": {
    "ExecuteTime": {
     "end_time": "2025-01-27T18:36:11.043146Z",
     "start_time": "2025-01-27T18:36:07.234396Z"
    }
   },
   "cell_type": "code",
   "source": [
    "spark = (\n",
    "    SparkSession\n",
    "    .builder\n",
    "    .appName(\"PySpark Zero to Hero\")\n",
    "    .master(\"local[*]\")\n",
    "    .config(\"spark.executor.memory\", \"16g\")\n",
    "    .config(\"spark.driver.memory\", \"16g\")\n",
    "    .config(\"spark.executor.cores\", \"4\")\n",
    "    .config(\"spark.sql.shuffle.partitions\", \"80\")\n",
    "    .config(\"spark.dynamicAllocation.enabled\", \"true\")\n",
    "    .config(\"spark.dynamicAllocation.minExecutors\", \"2\")\n",
    "    .config(\"spark.dynamicAllocation.initialExecutors\", \"24\")\n",
    "    .config(\"spark.dynamicAllocation.maxExecutors\", \"50\")\n",
    "    .config('spark.dynamicAllocation.shuffleTrackingEnabled', 'true')\n",
    "    .config('spark.dynamicAllocation.executorIdleTimeout', '60')\n",
    "    .config(\"spark.shuffle.service.enabled\", \"true\")\n",
    "    .config(\"spark.serializer\", \"org.apache.spark.serializer.KryoSerializer\")\n",
    "    .getOrCreate()\n",
    ")"
   ],
   "id": "d2a7461dbcb1b54a",
   "outputs": [],
   "execution_count": 3
  },
  {
   "metadata": {
    "ExecuteTime": {
     "end_time": "2025-01-27T18:38:17.599265Z",
     "start_time": "2025-01-27T18:38:16.054738Z"
    }
   },
   "cell_type": "code",
   "source": [
    "sales_schema = \"transacted_at string, trx_id string, retailer_id string, description string, amount double, city_id string\"\n",
    "\n",
    "sales_path = r'F:\\DataSpell\\-pyspark_training\\YouTube\\PySpark - Zero to Hero\\datasets\\new_sales.csv'\n",
    "\n",
    "sales = spark.read.format(\"csv\").schema(sales_schema).option(\"header\", True).load(sales_path)"
   ],
   "id": "46746e967dd8af35",
   "outputs": [],
   "execution_count": 4
  },
  {
   "metadata": {
    "ExecuteTime": {
     "end_time": "2025-01-27T18:38:17.628179Z",
     "start_time": "2025-01-27T18:38:17.603406Z"
    }
   },
   "cell_type": "code",
   "source": [
    "city_schema = \"city_id string, city string, state string, state_abv string, country string\"\n",
    "\n",
    "cities_path = r'F:\\DataSpell\\-pyspark_training\\YouTube\\PySpark - Zero to Hero\\datasets\\cities.csv'\n",
    "\n",
    "city = spark.read.format('csv').schema(city_schema).option('header', True).load(cities_path)"
   ],
   "id": "d4eb431bcae07e94",
   "outputs": [],
   "execution_count": 5
  },
  {
   "metadata": {
    "ExecuteTime": {
     "end_time": "2025-01-27T18:38:17.707868Z",
     "start_time": "2025-01-27T18:38:17.674353Z"
    }
   },
   "cell_type": "code",
   "source": [
    "df_path = r'F:\\DataSpell\\-pyspark_training\\YouTube\\PySpark - Zero to Hero\\datasets\\employee_records.csv'\n",
    "\n",
    "_schema = \"first_name string, last_name string, job_title string, dob string, email string, phone string, salary double, department_id int\"\n",
    "\n",
    "emp = spark.read.format(\"csv\").schema(_schema).option(\"header\", True).load(df_path)"
   ],
   "id": "e10afd97fdf479cb",
   "outputs": [],
   "execution_count": 6
  },
  {
   "metadata": {
    "ExecuteTime": {
     "end_time": "2025-01-27T18:41:25.370167Z",
     "start_time": "2025-01-27T18:41:19.505414Z"
    }
   },
   "cell_type": "code",
   "source": [
    "df_joined = emp.join(dept, on=emp['department_id'] == dept['department_id'], how='left_outer')\n",
    "df_joined.write.format('noop').mode('overwrite').save()"
   ],
   "id": "bb964d5d6eadf2c9",
   "outputs": [],
   "execution_count": 10
  },
  {
   "metadata": {
    "ExecuteTime": {
     "end_time": "2025-01-27T18:38:17.966940Z",
     "start_time": "2025-01-27T18:38:17.942129Z"
    }
   },
   "cell_type": "code",
   "source": [
    "dept_path = r'F:\\DataSpell\\-pyspark_training\\YouTube\\PySpark - Zero to Hero\\datasets\\department_data.csv'\n",
    "\n",
    "_dept_schema = \"department_id int, department_name string, description string, city string, state string, country string\"\n",
    "\n",
    "dept = spark.read.format(\"csv\").schema(_dept_schema).option(\"header\", True).load(df_path)"
   ],
   "id": "f2a30a5290ce51f8",
   "outputs": [],
   "execution_count": 7
  },
  {
   "metadata": {
    "ExecuteTime": {
     "end_time": "2025-01-27T18:38:18.584612Z",
     "start_time": "2025-01-27T18:38:18.510058Z"
    }
   },
   "cell_type": "code",
   "source": "df_sales_joined = sales.join(city, on=sales['city_id'] == city['city_id'], how='left_outer')",
   "id": "b66aa6c34d2f261b",
   "outputs": [],
   "execution_count": 8
  },
  {
   "metadata": {},
   "cell_type": "code",
   "outputs": [],
   "execution_count": null,
   "source": "",
   "id": "c0e2ed12f15bddc4"
  }
 ],
 "metadata": {
  "kernelspec": {
   "display_name": "Python 3",
   "language": "python",
   "name": "python3"
  },
  "language_info": {
   "codemirror_mode": {
    "name": "ipython",
    "version": 2
   },
   "file_extension": ".py",
   "mimetype": "text/x-python",
   "name": "python",
   "nbconvert_exporter": "python",
   "pygments_lexer": "ipython2",
   "version": "2.7.6"
  }
 },
 "nbformat": 4,
 "nbformat_minor": 5
}
