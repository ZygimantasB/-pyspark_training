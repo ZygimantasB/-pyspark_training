{
 "cells": [
  {
   "cell_type": "code",
   "id": "initial_id",
   "metadata": {
    "collapsed": true,
    "ExecuteTime": {
     "end_time": "2025-04-06T17:30:32.141059Z",
     "start_time": "2025-04-06T17:30:31.363309Z"
    }
   },
   "source": [
    "import os\n",
    "import math\n",
    "from dis import show_code\n",
    "\n",
    "import altair as alt\n",
    "import pandas as pd\n",
    "\n",
    "import plotly.express as px\n",
    "import plotly.graph_objects as go\n",
    "\n",
    "import pyspark.sql.functions as F\n",
    "from cffi.model import char_array_type\n",
    "from pyspark.sql import SparkSession\n",
    "from pyspark.sql import Window\n",
    "from pyspark.sql.types import ShortType"
   ],
   "outputs": [],
   "execution_count": 1
  },
  {
   "metadata": {
    "ExecuteTime": {
     "end_time": "2025-04-06T17:30:32.147478Z",
     "start_time": "2025-04-06T17:30:32.144393Z"
    }
   },
   "cell_type": "code",
   "source": [
    "os.environ['SPARK_HOME'] = r'C:\\spark\\spark-3.5.5-bin-hadoop3'\n",
    "os.environ['PYSPARK_DRIVER_PYTHON'] = 'jupyter'\n",
    "os.environ['PYSPARK_DRIVER_PYTHON_OPTS'] = 'lab'\n",
    "os.environ['PYSPARK_PYTHON'] = 'python'"
   ],
   "id": "833d5d11b1c63fb0",
   "outputs": [],
   "execution_count": 2
  },
  {
   "metadata": {
    "ExecuteTime": {
     "end_time": "2025-04-06T17:30:32.329973Z",
     "start_time": "2025-04-06T17:30:32.326922Z"
    }
   },
   "cell_type": "code",
   "source": "df_path = r\"F:\\Datasets\\CSV datasets\\video games sales.csv\"",
   "id": "d1dd7ce01399f6ec",
   "outputs": [],
   "execution_count": 3
  },
  {
   "metadata": {
    "ExecuteTime": {
     "end_time": "2025-04-06T17:30:35.730834Z",
     "start_time": "2025-04-06T17:30:32.336117Z"
    }
   },
   "cell_type": "code",
   "source": [
    "spark = (\n",
    "    SparkSession.builder\n",
    "    .appName('MOMA art collection')\n",
    "    .master('local[*]')\n",
    "    .config('spark.executor.memory', '1g')\n",
    "    .config('spark.executor.cores', '3')\n",
    "    .config(\"spark.dynamicAllocation.enabled\", \"true\")\n",
    "    .config(\"spark.dynamicAllocation.minExecutors\", \"1\")\n",
    "    .config(\"spark.dynamicAllocation.maxExecutors\", \"4\")\n",
    "    .config('spark.executor.memoryOverhead', '256m')\n",
    "    .config(\"spark.driver.memory\", \"1g\")\n",
    "    .config(\"spark.driver.maxResultSize\", \"1g\")\n",
    "    .config('spark.sql.adaptive.enabled', 'true')\n",
    "    .config('spark.sql.adaptive.coalescePartitions.enabled', 'true')\n",
    "    .config('spark.sql.adaptive.advisoryPartitionSizeInBytes', '16mb')\n",
    "    .config(\"spark.serializer\", \"org.apache.spark.serializer.KryoSerializer\")\n",
    "    .config('spark.dynamicAllocation.executorIdleTimeout', '60s')\n",
    "    .config('spark.sql.autoBroadcastJoinThreshold', '128mb')\n",
    "    .getOrCreate()\n",
    ")"
   ],
   "id": "3443caadb1b62293",
   "outputs": [],
   "execution_count": 4
  },
  {
   "metadata": {
    "ExecuteTime": {
     "end_time": "2025-04-06T17:30:39.808233Z",
     "start_time": "2025-04-06T17:30:35.737052Z"
    }
   },
   "cell_type": "code",
   "source": [
    "df = spark.read.option(\n",
    "    'header', 'true'\n",
    ").option(\n",
    "    'inferSchema', 'true'\n",
    ").csv(df_path)"
   ],
   "id": "d2525c441dfda864",
   "outputs": [],
   "execution_count": 5
  },
  {
   "metadata": {},
   "cell_type": "code",
   "outputs": [],
   "execution_count": null,
   "source": "",
   "id": "5567d3feb9a55fc"
  },
  {
   "metadata": {
    "ExecuteTime": {
     "end_time": "2025-04-06T17:33:13.198601Z",
     "start_time": "2025-04-06T17:33:13.195025Z"
    }
   },
   "cell_type": "code",
   "source": "from pyspark.sql.types import *",
   "id": "24b21850e8819c9f",
   "outputs": [],
   "execution_count": 9
  },
  {
   "metadata": {
    "ExecuteTime": {
     "end_time": "2025-04-06T17:36:46.159694Z",
     "start_time": "2025-04-06T17:36:46.068347Z"
    }
   },
   "cell_type": "code",
   "source": [
    "df = df.withColumn(\n",
    "    'NA_Sales', F.col('NA_Sales').cast(FloatType())) \\\n",
    "    .withColumn('EU_Sales', F.col('EU_Sales').cast(FloatType())) \\\n",
    "    .withColumn('JP_Sales', F.col('JP_Sales').cast(FloatType())) \\\n",
    "    .withColumn('Other_Sales', F.col('Other_Sales').cast(FloatType())) \\\n",
    "    .withColumn('Global_Sales', F.col('Global_Sales').cast(FloatType())\n",
    ")"
   ],
   "id": "d91a6c0e587c092a",
   "outputs": [],
   "execution_count": 16
  },
  {
   "metadata": {
    "ExecuteTime": {
     "end_time": "2025-04-06T17:43:23.680528Z",
     "start_time": "2025-04-06T17:43:23.660583Z"
    }
   },
   "cell_type": "code",
   "source": [
    "df = df.withColumn(\n",
    "    'Year', F.regexp_replace('Year', 'N/A', '1800').cast(ShortType())\n",
    ")"
   ],
   "id": "1038a139a099a462",
   "outputs": [],
   "execution_count": 29
  },
  {
   "metadata": {
    "ExecuteTime": {
     "end_time": "2025-04-06T17:46:17.319055Z",
     "start_time": "2025-04-06T17:46:16.889010Z"
    }
   },
   "cell_type": "code",
   "source": [
    "df.select([\n",
    "    F.sum(F.when(F.col(column).isNull(), 1).otherwise(0)).alias(column)\n",
    "    for column in df.columns\n",
    "]).show()"
   ],
   "id": "f032a64a77593504",
   "outputs": [
    {
     "name": "stdout",
     "output_type": "stream",
     "text": [
      "+----+----+--------+----+-----+---------+--------+--------+--------+-----------+------------+\n",
      "|Rank|Name|Platform|Year|Genre|Publisher|NA_Sales|EU_Sales|JP_Sales|Other_Sales|Global_Sales|\n",
      "+----+----+--------+----+-----+---------+--------+--------+--------+-----------+------------+\n",
      "|   0|   0|       0|   0|    0|        0|       0|       0|       0|          0|           0|\n",
      "+----+----+--------+----+-----+---------+--------+--------+--------+-----------+------------+\n",
      "\n"
     ]
    }
   ],
   "execution_count": 30
  },
  {
   "metadata": {
    "ExecuteTime": {
     "end_time": "2025-04-06T17:49:31.243338Z",
     "start_time": "2025-04-06T17:49:26.774745Z"
    }
   },
   "cell_type": "code",
   "source": [
    "def count_distinct(df, column_name):\n",
    "    return df.select(column_name).distinct().count()\n",
    "\n",
    "\n",
    "{col: count_distinct(df, col) for col in df.columns}"
   ],
   "id": "e6597e8508f41e07",
   "outputs": [
    {
     "data": {
      "text/plain": [
       "{'Rank': 16598,\n",
       " 'Name': 11493,\n",
       " 'Platform': 31,\n",
       " 'Year': 40,\n",
       " 'Genre': 12,\n",
       " 'Publisher': 579,\n",
       " 'NA_Sales': 409,\n",
       " 'EU_Sales': 305,\n",
       " 'JP_Sales': 244,\n",
       " 'Other_Sales': 157,\n",
       " 'Global_Sales': 623}"
      ]
     },
     "execution_count": 31,
     "metadata": {},
     "output_type": "execute_result"
    }
   ],
   "execution_count": 31
  },
  {
   "metadata": {
    "ExecuteTime": {
     "end_time": "2025-04-06T17:51:57.484177Z",
     "start_time": "2025-04-06T17:51:56.501405Z"
    }
   },
   "cell_type": "code",
   "source": [
    "count_exprs = [F.count_distinct(column).alias(column + '_distinct_count') for column in df.columns]\n",
    "\n",
    "distinct_counts = df.select(*count_exprs).collect()[0].asDict()\n",
    "\n",
    "for col, count in distinct_counts.items():\n",
    "    original_col = col.replace('_distinct_count', '')\n",
    "    print(f\"Column '{original_col}' has {count} unique values\")"
   ],
   "id": "36fa551abe163550",
   "outputs": [
    {
     "name": "stdout",
     "output_type": "stream",
     "text": [
      "Column 'Rank' has 16598 unique values\n",
      "Column 'Name' has 11493 unique values\n",
      "Column 'Platform' has 31 unique values\n",
      "Column 'Year' has 40 unique values\n",
      "Column 'Genre' has 12 unique values\n",
      "Column 'Publisher' has 579 unique values\n",
      "Column 'NA_Sales' has 409 unique values\n",
      "Column 'EU_Sales' has 305 unique values\n",
      "Column 'JP_Sales' has 244 unique values\n",
      "Column 'Other_Sales' has 157 unique values\n",
      "Column 'Global_Sales' has 623 unique values\n"
     ]
    }
   ],
   "execution_count": 34
  },
  {
   "metadata": {
    "ExecuteTime": {
     "end_time": "2025-04-06T17:56:59.352235Z",
     "start_time": "2025-04-06T17:56:59.347603Z"
    }
   },
   "cell_type": "code",
   "source": [
    "platform_full_names = {\n",
    "    \"3DO\": \"3DO Interactive Multiplayer\",\n",
    "    \"PC\": \"Personal Computer\",\n",
    "    \"PS3\": \"PlayStation 3\",\n",
    "    \"NES\": \"Nintendo Entertainment System\",\n",
    "    \"PS\": \"PlayStation\",\n",
    "    \"DC\": \"Dreamcast\",\n",
    "    \"GEN\": \"Sega Genesis\",\n",
    "    \"PS2\": \"PlayStation 2\",\n",
    "    \"3DS\": \"Nintendo 3DS\",\n",
    "    \"PCFX\": \"PC-FX\",\n",
    "    \"GG\": \"Game Gear\",\n",
    "    \"WiiU\": \"Wii U\",\n",
    "    \"SNES\": \"Super Nintendo Entertainment System\",\n",
    "    \"GB\": \"Game Boy\",\n",
    "    \"SCD\": \"Sega CD\",\n",
    "    \"N64\": \"Nintendo 64\",\n",
    "    \"PS4\": \"PlayStation 4\",\n",
    "    \"PSP\": \"PlayStation Portable\",\n",
    "    \"2600\": \"Atari 2600\",\n",
    "    \"XOne\": \"Xbox One\",\n",
    "    \"X360\": \"Xbox 360\",\n",
    "    \"GBA\": \"Game Boy Advance\",\n",
    "    \"WS\": \"WonderSwan\",\n",
    "    \"Wii\": \"Wii\",\n",
    "    \"GC\": \"GameCube\",\n",
    "    \"PSV\": \"PlayStation Vita\",\n",
    "    \"XB\": \"Xbox\",\n",
    "    \"DS\": \"Nintendo DS\",\n",
    "    \"TG16\": \"TurboGrafx-16\",\n",
    "    \"NG\": \"Neo Geo\",\n",
    "    \"SAT\": \"Sega Saturn\"\n",
    "}"
   ],
   "id": "afe0bfa78d3c730f",
   "outputs": [],
   "execution_count": 44
  },
  {
   "metadata": {
    "ExecuteTime": {
     "end_time": "2025-04-06T18:06:13.146487Z",
     "start_time": "2025-04-06T18:06:13.125673Z"
    }
   },
   "cell_type": "code",
   "source": [
    "def get_full_name(abbreviation):\n",
    "    if abbreviation is None:\n",
    "        return None\n",
    "    else:\n",
    "        return platform_full_names.get(abbreviation, None)\n",
    "\n",
    "get_full_name_udf = F.udf(get_full_name, StringType())\n",
    "\n",
    "df = df.withColumn(\n",
    "    \"platform_full_name\",\n",
    "    get_full_name_udf(F.col(\"Platform\"))\n",
    ")"
   ],
   "id": "9ae741191e26291",
   "outputs": [],
   "execution_count": 55
  },
  {
   "metadata": {
    "ExecuteTime": {
     "end_time": "2025-04-06T18:09:47.262409Z",
     "start_time": "2025-04-06T18:09:47.097922Z"
    }
   },
   "cell_type": "code",
   "source": [
    "platform_count = df.select(\n",
    "    'Platform',\n",
    ").groupBy(\n",
    "    'Platform',\n",
    ").count().toPandas()"
   ],
   "id": "d475e5e84728224e",
   "outputs": [],
   "execution_count": 57
  },
  {
   "metadata": {
    "ExecuteTime": {
     "end_time": "2025-04-06T18:09:49.994637Z",
     "start_time": "2025-04-06T18:09:49.975420Z"
    }
   },
   "cell_type": "code",
   "source": "platform_count",
   "id": "489c74e2e0145383",
   "outputs": [
    {
     "data": {
      "text/plain": [
       "   Platform  count\n",
       "0       3DO      3\n",
       "1        PC    960\n",
       "2       PS3   1329\n",
       "3       NES     98\n",
       "4        PS   1196\n",
       "5        DC     52\n",
       "6       GEN     27\n",
       "7       PS2   2161\n",
       "8       3DS    509\n",
       "9      PCFX      1\n",
       "10       GG      1\n",
       "11     WiiU    143\n",
       "12     SNES    239\n",
       "13       GB     98\n",
       "14      SCD      6\n",
       "15      N64    319\n",
       "16      PS4    336\n",
       "17      PSP   1213\n",
       "18     2600    133\n",
       "19     XOne    213\n",
       "20     X360   1265\n",
       "21      GBA    822\n",
       "22       WS      6\n",
       "23      Wii   1325\n",
       "24       GC    556\n",
       "25      PSV    413\n",
       "26       XB    824\n",
       "27       DS   2163\n",
       "28     TG16      2\n",
       "29       NG     12\n",
       "30      SAT    173"
      ],
      "text/html": [
       "<div>\n",
       "<style scoped>\n",
       "    .dataframe tbody tr th:only-of-type {\n",
       "        vertical-align: middle;\n",
       "    }\n",
       "\n",
       "    .dataframe tbody tr th {\n",
       "        vertical-align: top;\n",
       "    }\n",
       "\n",
       "    .dataframe thead th {\n",
       "        text-align: right;\n",
       "    }\n",
       "</style>\n",
       "<table border=\"1\" class=\"dataframe\">\n",
       "  <thead>\n",
       "    <tr style=\"text-align: right;\">\n",
       "      <th></th>\n",
       "      <th>Platform</th>\n",
       "      <th>count</th>\n",
       "    </tr>\n",
       "  </thead>\n",
       "  <tbody>\n",
       "    <tr>\n",
       "      <th>0</th>\n",
       "      <td>3DO</td>\n",
       "      <td>3</td>\n",
       "    </tr>\n",
       "    <tr>\n",
       "      <th>1</th>\n",
       "      <td>PC</td>\n",
       "      <td>960</td>\n",
       "    </tr>\n",
       "    <tr>\n",
       "      <th>2</th>\n",
       "      <td>PS3</td>\n",
       "      <td>1329</td>\n",
       "    </tr>\n",
       "    <tr>\n",
       "      <th>3</th>\n",
       "      <td>NES</td>\n",
       "      <td>98</td>\n",
       "    </tr>\n",
       "    <tr>\n",
       "      <th>4</th>\n",
       "      <td>PS</td>\n",
       "      <td>1196</td>\n",
       "    </tr>\n",
       "    <tr>\n",
       "      <th>5</th>\n",
       "      <td>DC</td>\n",
       "      <td>52</td>\n",
       "    </tr>\n",
       "    <tr>\n",
       "      <th>6</th>\n",
       "      <td>GEN</td>\n",
       "      <td>27</td>\n",
       "    </tr>\n",
       "    <tr>\n",
       "      <th>7</th>\n",
       "      <td>PS2</td>\n",
       "      <td>2161</td>\n",
       "    </tr>\n",
       "    <tr>\n",
       "      <th>8</th>\n",
       "      <td>3DS</td>\n",
       "      <td>509</td>\n",
       "    </tr>\n",
       "    <tr>\n",
       "      <th>9</th>\n",
       "      <td>PCFX</td>\n",
       "      <td>1</td>\n",
       "    </tr>\n",
       "    <tr>\n",
       "      <th>10</th>\n",
       "      <td>GG</td>\n",
       "      <td>1</td>\n",
       "    </tr>\n",
       "    <tr>\n",
       "      <th>11</th>\n",
       "      <td>WiiU</td>\n",
       "      <td>143</td>\n",
       "    </tr>\n",
       "    <tr>\n",
       "      <th>12</th>\n",
       "      <td>SNES</td>\n",
       "      <td>239</td>\n",
       "    </tr>\n",
       "    <tr>\n",
       "      <th>13</th>\n",
       "      <td>GB</td>\n",
       "      <td>98</td>\n",
       "    </tr>\n",
       "    <tr>\n",
       "      <th>14</th>\n",
       "      <td>SCD</td>\n",
       "      <td>6</td>\n",
       "    </tr>\n",
       "    <tr>\n",
       "      <th>15</th>\n",
       "      <td>N64</td>\n",
       "      <td>319</td>\n",
       "    </tr>\n",
       "    <tr>\n",
       "      <th>16</th>\n",
       "      <td>PS4</td>\n",
       "      <td>336</td>\n",
       "    </tr>\n",
       "    <tr>\n",
       "      <th>17</th>\n",
       "      <td>PSP</td>\n",
       "      <td>1213</td>\n",
       "    </tr>\n",
       "    <tr>\n",
       "      <th>18</th>\n",
       "      <td>2600</td>\n",
       "      <td>133</td>\n",
       "    </tr>\n",
       "    <tr>\n",
       "      <th>19</th>\n",
       "      <td>XOne</td>\n",
       "      <td>213</td>\n",
       "    </tr>\n",
       "    <tr>\n",
       "      <th>20</th>\n",
       "      <td>X360</td>\n",
       "      <td>1265</td>\n",
       "    </tr>\n",
       "    <tr>\n",
       "      <th>21</th>\n",
       "      <td>GBA</td>\n",
       "      <td>822</td>\n",
       "    </tr>\n",
       "    <tr>\n",
       "      <th>22</th>\n",
       "      <td>WS</td>\n",
       "      <td>6</td>\n",
       "    </tr>\n",
       "    <tr>\n",
       "      <th>23</th>\n",
       "      <td>Wii</td>\n",
       "      <td>1325</td>\n",
       "    </tr>\n",
       "    <tr>\n",
       "      <th>24</th>\n",
       "      <td>GC</td>\n",
       "      <td>556</td>\n",
       "    </tr>\n",
       "    <tr>\n",
       "      <th>25</th>\n",
       "      <td>PSV</td>\n",
       "      <td>413</td>\n",
       "    </tr>\n",
       "    <tr>\n",
       "      <th>26</th>\n",
       "      <td>XB</td>\n",
       "      <td>824</td>\n",
       "    </tr>\n",
       "    <tr>\n",
       "      <th>27</th>\n",
       "      <td>DS</td>\n",
       "      <td>2163</td>\n",
       "    </tr>\n",
       "    <tr>\n",
       "      <th>28</th>\n",
       "      <td>TG16</td>\n",
       "      <td>2</td>\n",
       "    </tr>\n",
       "    <tr>\n",
       "      <th>29</th>\n",
       "      <td>NG</td>\n",
       "      <td>12</td>\n",
       "    </tr>\n",
       "    <tr>\n",
       "      <th>30</th>\n",
       "      <td>SAT</td>\n",
       "      <td>173</td>\n",
       "    </tr>\n",
       "  </tbody>\n",
       "</table>\n",
       "</div>"
      ]
     },
     "execution_count": 58,
     "metadata": {},
     "output_type": "execute_result"
    }
   ],
   "execution_count": 58
  },
  {
   "metadata": {},
   "cell_type": "code",
   "outputs": [],
   "execution_count": null,
   "source": "",
   "id": "9de4378746c9b671"
  }
 ],
 "metadata": {
  "kernelspec": {
   "display_name": "Python 3",
   "language": "python",
   "name": "python3"
  },
  "language_info": {
   "codemirror_mode": {
    "name": "ipython",
    "version": 2
   },
   "file_extension": ".py",
   "mimetype": "text/x-python",
   "name": "python",
   "nbconvert_exporter": "python",
   "pygments_lexer": "ipython2",
   "version": "2.7.6"
  }
 },
 "nbformat": 4,
 "nbformat_minor": 5
}
