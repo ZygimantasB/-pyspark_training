{
 "cells": [
  {
   "cell_type": "code",
   "id": "initial_id",
   "metadata": {
    "collapsed": true,
    "ExecuteTime": {
     "end_time": "2025-04-06T17:25:10.493191Z",
     "start_time": "2025-04-06T17:25:09.698290Z"
    }
   },
   "source": [
    "import os\n",
    "import math\n",
    "\n",
    "import altair as alt\n",
    "import pandas as pd\n",
    "\n",
    "import plotly.express as px\n",
    "import plotly.graph_objects as go\n",
    "\n",
    "import pyspark.sql.functions as F\n",
    "from cffi.model import char_array_type\n",
    "from pyspark.sql import SparkSession\n",
    "from pyspark.sql import Window"
   ],
   "outputs": [],
   "execution_count": 1
  },
  {
   "metadata": {
    "ExecuteTime": {
     "end_time": "2025-04-06T17:25:10.499963Z",
     "start_time": "2025-04-06T17:25:10.496897Z"
    }
   },
   "cell_type": "code",
   "source": [
    "os.environ['SPARK_HOME'] = r'C:\\spark\\spark-3.5.5-bin-hadoop3'\n",
    "os.environ['PYSPARK_DRIVER_PYTHON'] = 'jupyter'\n",
    "os.environ['PYSPARK_DRIVER_PYTHON_OPTS'] = 'lab'\n",
    "os.environ['PYSPARK_PYTHON'] = 'python'"
   ],
   "id": "833d5d11b1c63fb0",
   "outputs": [],
   "execution_count": 2
  },
  {
   "metadata": {
    "ExecuteTime": {
     "end_time": "2025-04-06T17:25:10.681552Z",
     "start_time": "2025-04-06T17:25:10.677482Z"
    }
   },
   "cell_type": "code",
   "source": "df_path = r\"F:\\Datasets\\CSV datasets\\video games sales.csv\"",
   "id": "d1dd7ce01399f6ec",
   "outputs": [],
   "execution_count": 3
  },
  {
   "metadata": {
    "ExecuteTime": {
     "end_time": "2025-04-06T17:25:14.190986Z",
     "start_time": "2025-04-06T17:25:10.687270Z"
    }
   },
   "cell_type": "code",
   "source": [
    "spark = (\n",
    "    SparkSession.builder\n",
    "    .appName('MOMA art collection')\n",
    "    .master('local[*]')\n",
    "    .config('spark.executor.memory', '1g')\n",
    "    .config('spark.executor.cores', '3')\n",
    "    .config(\"spark.dynamicAllocation.enabled\", \"true\")\n",
    "    .config(\"spark.dynamicAllocation.minExecutors\", \"1\")\n",
    "    .config(\"spark.dynamicAllocation.maxExecutors\", \"4\")\n",
    "    .config('spark.executor.memoryOverhead', '256m')\n",
    "    .config(\"spark.driver.memory\", \"1g\")\n",
    "    .config(\"spark.driver.maxResultSize\", \"1g\")\n",
    "    .config('spark.sql.adaptive.enabled', 'true')\n",
    "    .config('spark.sql.adaptive.coalescePartitions.enabled', 'true')\n",
    "    .config('spark.sql.adaptive.advisoryPartitionSizeInBytes', '16mb')\n",
    "    .config(\"spark.serializer\", \"org.apache.spark.serializer.KryoSerializer\")\n",
    "    .config('spark.dynamicAllocation.executorIdleTimeout', '60s')\n",
    "    .config('spark.sql.autoBroadcastJoinThreshold', '128mb')\n",
    "    .getOrCreate()\n",
    ")"
   ],
   "id": "3443caadb1b62293",
   "outputs": [],
   "execution_count": 4
  }
 ],
 "metadata": {
  "kernelspec": {
   "display_name": "Python 3",
   "language": "python",
   "name": "python3"
  },
  "language_info": {
   "codemirror_mode": {
    "name": "ipython",
    "version": 2
   },
   "file_extension": ".py",
   "mimetype": "text/x-python",
   "name": "python",
   "nbconvert_exporter": "python",
   "pygments_lexer": "ipython2",
   "version": "2.7.6"
  }
 },
 "nbformat": 4,
 "nbformat_minor": 5
}
