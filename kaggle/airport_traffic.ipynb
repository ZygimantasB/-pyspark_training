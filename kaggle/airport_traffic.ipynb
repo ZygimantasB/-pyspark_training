{
 "cells": [
  {
   "cell_type": "code",
   "id": "initial_id",
   "metadata": {
    "collapsed": true,
    "ExecuteTime": {
     "end_time": "2025-02-25T19:06:35.600536Z",
     "start_time": "2025-02-25T19:06:35.597535Z"
    }
   },
   "source": [
    "import os\n",
    "import pyspark.sql.functions as F\n",
    "from pyspark.sql import Window\n",
    "from pyspark.sql import SparkSession"
   ],
   "outputs": [],
   "execution_count": 17
  },
  {
   "metadata": {
    "ExecuteTime": {
     "end_time": "2025-02-25T18:56:41.561287Z",
     "start_time": "2025-02-25T18:56:41.557097Z"
    }
   },
   "cell_type": "code",
   "source": [
    "os.environ['SPARK_HOME'] = r'C:\\spark\\spark-3.5.4-bin-hadoop3'\n",
    "os.environ['PYSPARK_DRIVER_PYTHON'] = 'jupyter'\n",
    "os.environ['PYSPARK_DRIVER_PYTHON_OPTS'] = 'lab'\n",
    "os.environ['PYSPARK_PYTHON'] = 'python'"
   ],
   "id": "bc1f90eb410d49b7",
   "outputs": [],
   "execution_count": 2
  },
  {
   "metadata": {
    "ExecuteTime": {
     "end_time": "2025-02-25T18:57:32.989824Z",
     "start_time": "2025-02-25T18:56:41.567319Z"
    }
   },
   "cell_type": "code",
   "source": [
    "spark = (\n",
    "    SparkSession.builder\n",
    "    .appName('Airport Traffic')\n",
    "    .master('local[20]')\n",
    "    .config('spark.executor.memory', '12g')\n",
    "    .config('spark.executor.cors', '4')\n",
    "    .config(\"spark.dynamicAllocation.enabled\", \"true\")\n",
    "    .config(\"spark.dynamicAllocation.minExecutors\", \"2\")\n",
    "    .config(\"spark.dynamicAllocation.maxExecutors\", \"20\")\n",
    "    .config('spark.executors.memoryOverhead', '2g')\n",
    "    .config(\"spark.driver.memory\", \"12g\")\n",
    "    .config(\"spark.driver.maxResultSize\", \"4g\")\n",
    "    .config('spark.sql.adaptive.enabled', 'true')\n",
    "    .config('spark.sql.adaptive.coalescePartitions.enabled', 'true')\n",
    "    .config('spark.sql.adaptive.advisoryPartitionSizeInBytes', '128mb')# 128 default\n",
    "    .config(\"spark.serializer\", \"org.apache.spark.serializer.KryoSerializer\")\n",
    "    .config('spark.dynamicAllocation.executorIdleTimeout', '120')\n",
    "    .config('spark.sql.autoBroadcastJoinThreshold', '512mb')\n",
    "    .getOrCreate()\n",
    ")"
   ],
   "id": "6556cde9e2d795bd",
   "outputs": [],
   "execution_count": 3
  },
  {
   "metadata": {
    "ExecuteTime": {
     "end_time": "2025-02-25T18:57:33.323999Z",
     "start_time": "2025-02-25T18:57:33.320190Z"
    }
   },
   "cell_type": "code",
   "source": "df_path = r\"F:\\Datasets\\CSV datasets\\airport_traffic\\*\"",
   "id": "7e382a933b68c187",
   "outputs": [],
   "execution_count": 4
  },
  {
   "metadata": {
    "ExecuteTime": {
     "end_time": "2025-02-25T18:57:39.431367Z",
     "start_time": "2025-02-25T18:57:33.331928Z"
    }
   },
   "cell_type": "code",
   "source": [
    "df = (\n",
    "    spark\n",
    "    .read\n",
    "    .format('csv')\n",
    "    .option('header', 'true')\n",
    "    .option('inferSchema', 'true')\n",
    "    .load(df_path)\n",
    ")"
   ],
   "id": "4c9a7ec1ad1e9e66",
   "outputs": [],
   "execution_count": 5
  },
  {
   "metadata": {
    "ExecuteTime": {
     "end_time": "2025-02-25T18:57:39.491429Z",
     "start_time": "2025-02-25T18:57:39.478579Z"
    }
   },
   "cell_type": "code",
   "source": "spark",
   "id": "f97847785e3e1716",
   "outputs": [
    {
     "data": {
      "text/plain": [
       "<pyspark.sql.session.SparkSession at 0x1307e5a18d0>"
      ],
      "text/html": [
       "\n",
       "            <div>\n",
       "                <p><b>SparkSession - in-memory</b></p>\n",
       "                \n",
       "        <div>\n",
       "            <p><b>SparkContext</b></p>\n",
       "\n",
       "            <p><a href=\"http://Zygimantas:4040\">Spark UI</a></p>\n",
       "\n",
       "            <dl>\n",
       "              <dt>Version</dt>\n",
       "                <dd><code>v3.5.4</code></dd>\n",
       "              <dt>Master</dt>\n",
       "                <dd><code>local[20]</code></dd>\n",
       "              <dt>AppName</dt>\n",
       "                <dd><code>Airport Traffic</code></dd>\n",
       "            </dl>\n",
       "        </div>\n",
       "        \n",
       "            </div>\n",
       "        "
      ]
     },
     "execution_count": 6,
     "metadata": {},
     "output_type": "execute_result"
    }
   ],
   "execution_count": 6
  },
  {
   "metadata": {
    "ExecuteTime": {
     "end_time": "2025-02-25T18:57:39.646419Z",
     "start_time": "2025-02-25T18:57:39.554817Z"
    }
   },
   "cell_type": "code",
   "source": "df.rdd.getNumPartitions()",
   "id": "d4765023b61414f3",
   "outputs": [
    {
     "data": {
      "text/plain": [
       "18"
      ]
     },
     "execution_count": 7,
     "metadata": {},
     "output_type": "execute_result"
    }
   ],
   "execution_count": 7
  },
  {
   "metadata": {
    "ExecuteTime": {
     "end_time": "2025-02-25T18:57:40.832180Z",
     "start_time": "2025-02-25T18:57:39.663356Z"
    }
   },
   "cell_type": "code",
   "source": "df.count()",
   "id": "64b56dc1c679d593",
   "outputs": [
    {
     "data": {
      "text/plain": [
       "983842"
      ]
     },
     "execution_count": 8,
     "metadata": {},
     "output_type": "execute_result"
    }
   ],
   "execution_count": 8
  },
  {
   "metadata": {
    "ExecuteTime": {
     "end_time": "2025-02-25T18:57:40.905579Z",
     "start_time": "2025-02-25T18:57:40.863243Z"
    }
   },
   "cell_type": "code",
   "source": "df.createOrReplaceTempView('airport_traffic')",
   "id": "cf612c8911232dd3",
   "outputs": [],
   "execution_count": 9
  },
  {
   "metadata": {
    "ExecuteTime": {
     "end_time": "2025-02-25T18:57:41.445404Z",
     "start_time": "2025-02-25T18:57:40.913608Z"
    }
   },
   "cell_type": "code",
   "source": [
    "spark.sql(\"\"\"\n",
    "    SELECT\n",
    "        count(*)\n",
    "    FROM\n",
    "        airport_traffic\n",
    "\"\"\").show()"
   ],
   "id": "5f9ebe40aca39ea5",
   "outputs": [
    {
     "name": "stdout",
     "output_type": "stream",
     "text": [
      "+--------+\n",
      "|count(1)|\n",
      "+--------+\n",
      "|  983842|\n",
      "+--------+\n",
      "\n"
     ]
    }
   ],
   "execution_count": 10
  },
  {
   "metadata": {
    "ExecuteTime": {
     "end_time": "2025-02-25T18:59:05.593807Z",
     "start_time": "2025-02-25T18:59:05.588781Z"
    }
   },
   "cell_type": "code",
   "source": "df.printSchema()",
   "id": "6af3247a54c1737c",
   "outputs": [
    {
     "name": "stdout",
     "output_type": "stream",
     "text": [
      "root\n",
      " |-- YEAR: integer (nullable = true)\n",
      " |-- MONTH_NUM: integer (nullable = true)\n",
      " |-- MONTH_MON: string (nullable = true)\n",
      " |-- FLT_DATE: string (nullable = true)\n",
      " |-- APT_ICAO: string (nullable = true)\n",
      " |-- APT_NAME: string (nullable = true)\n",
      " |-- STATE_NAME: string (nullable = true)\n",
      " |-- FLT_DEP_1: integer (nullable = true)\n",
      " |-- FLT_ARR_1: integer (nullable = true)\n",
      " |-- FLT_TOT_1: integer (nullable = true)\n",
      " |-- FLT_DEP_IFR_2: integer (nullable = true)\n",
      " |-- FLT_ARR_IFR_2: integer (nullable = true)\n",
      " |-- FLT_TOT_IFR_2: integer (nullable = true)\n",
      "\n"
     ]
    }
   ],
   "execution_count": 12
  },
  {
   "metadata": {
    "ExecuteTime": {
     "end_time": "2025-02-25T18:58:58.631289Z",
     "start_time": "2025-02-25T18:58:58.442760Z"
    }
   },
   "cell_type": "code",
   "source": "df.show(5)",
   "id": "416a66a0951d3d3e",
   "outputs": [
    {
     "name": "stdout",
     "output_type": "stream",
     "text": [
      "+----+---------+---------+--------+--------+----------+----------+---------+---------+---------+-------------+-------------+-------------+\n",
      "|YEAR|MONTH_NUM|MONTH_MON|FLT_DATE|APT_ICAO|  APT_NAME|STATE_NAME|FLT_DEP_1|FLT_ARR_1|FLT_TOT_1|FLT_DEP_IFR_2|FLT_ARR_IFR_2|FLT_TOT_IFR_2|\n",
      "+----+---------+---------+--------+--------+----------+----------+---------+---------+---------+-------------+-------------+-------------+\n",
      "|2016|        1|      JAN|01-01-16|    LATI|    Tirana|   Albania|       24|       27|       51|         NULL|         NULL|         NULL|\n",
      "|2016|        1|      JAN|01-01-16|    UDYZ|   Yerevan|   Armenia|        8|       15|       23|         NULL|         NULL|         NULL|\n",
      "|2016|        1|      JAN|01-01-16|    LOWG|      Graz|   Austria|        6|        7|       13|         NULL|         NULL|         NULL|\n",
      "|2016|        1|      JAN|01-01-16|    LOWI| Innsbruck|   Austria|       26|       32|       58|         NULL|         NULL|         NULL|\n",
      "|2016|        1|      JAN|01-01-16|    LOWK|Klagenfurt|   Austria|        3|        4|        7|         NULL|         NULL|         NULL|\n",
      "+----+---------+---------+--------+--------+----------+----------+---------+---------+---------+-------------+-------------+-------------+\n",
      "only showing top 5 rows\n",
      "\n"
     ]
    }
   ],
   "execution_count": 11
  },
  {
   "metadata": {
    "ExecuteTime": {
     "end_time": "2025-02-25T19:08:06.962010Z",
     "start_time": "2025-02-25T19:08:04.661840Z"
    }
   },
   "cell_type": "code",
   "source": [
    "window = Window.partitionBy('APT_NAME')\n",
    "\n",
    "df.withColumn(\n",
    "    \"FLT_TOT_1_SUM\",\n",
    "    F.sum('FLT_TOT_1').over(window)\n",
    ").show()"
   ],
   "id": "e067603daa9af9e",
   "outputs": [
    {
     "name": "stdout",
     "output_type": "stream",
     "text": [
      "+----+---------+---------+--------+--------+--------+----------+---------+---------+---------+-------------+-------------+-------------+-------------+\n",
      "|YEAR|MONTH_NUM|MONTH_MON|FLT_DATE|APT_ICAO|APT_NAME|STATE_NAME|FLT_DEP_1|FLT_ARR_1|FLT_TOT_1|FLT_DEP_IFR_2|FLT_ARR_IFR_2|FLT_TOT_IFR_2|FLT_TOT_1_SUM|\n",
      "+----+---------+---------+--------+--------+--------+----------+---------+---------+---------+-------------+-------------+-------------+-------------+\n",
      "|2016|        1|      JAN|01-01-16|    EBAW| Antwerp|   Belgium|        4|        3|        7|         NULL|         NULL|         NULL|       116053|\n",
      "|2016|        1|      JAN|02-01-16|    EBAW| Antwerp|   Belgium|        9|       11|       20|         NULL|         NULL|         NULL|       116053|\n",
      "|2016|        1|      JAN|03-01-16|    EBAW| Antwerp|   Belgium|       10|       17|       27|         NULL|         NULL|         NULL|       116053|\n",
      "|2016|        1|      JAN|04-01-16|    EBAW| Antwerp|   Belgium|       18|       17|       35|         NULL|         NULL|         NULL|       116053|\n",
      "|2016|        1|      JAN|05-01-16|    EBAW| Antwerp|   Belgium|       12|       13|       25|         NULL|         NULL|         NULL|       116053|\n",
      "|2016|        1|      JAN|06-01-16|    EBAW| Antwerp|   Belgium|       23|       24|       47|         NULL|         NULL|         NULL|       116053|\n",
      "|2016|        1|      JAN|07-01-16|    EBAW| Antwerp|   Belgium|       14|       10|       24|         NULL|         NULL|         NULL|       116053|\n",
      "|2016|        1|      JAN|08-01-16|    EBAW| Antwerp|   Belgium|       27|       23|       50|         NULL|         NULL|         NULL|       116053|\n",
      "|2016|        1|      JAN|09-01-16|    EBAW| Antwerp|   Belgium|       16|       19|       35|         NULL|         NULL|         NULL|       116053|\n",
      "|2016|        1|      JAN|10-01-16|    EBAW| Antwerp|   Belgium|       16|       16|       32|         NULL|         NULL|         NULL|       116053|\n",
      "|2016|        1|      JAN|11-01-16|    EBAW| Antwerp|   Belgium|       24|       21|       45|         NULL|         NULL|         NULL|       116053|\n",
      "|2016|        1|      JAN|12-01-16|    EBAW| Antwerp|   Belgium|       15|       18|       33|         NULL|         NULL|         NULL|       116053|\n",
      "|2016|        1|      JAN|13-01-16|    EBAW| Antwerp|   Belgium|       23|       19|       42|         NULL|         NULL|         NULL|       116053|\n",
      "|2016|        1|      JAN|14-01-16|    EBAW| Antwerp|   Belgium|       18|       17|       35|         NULL|         NULL|         NULL|       116053|\n",
      "|2016|        1|      JAN|15-01-16|    EBAW| Antwerp|   Belgium|       19|       17|       36|         NULL|         NULL|         NULL|       116053|\n",
      "|2016|        1|      JAN|16-01-16|    EBAW| Antwerp|   Belgium|       15|       11|       26|         NULL|         NULL|         NULL|       116053|\n",
      "|2016|        1|      JAN|17-01-16|    EBAW| Antwerp|   Belgium|       10|       16|       26|         NULL|         NULL|         NULL|       116053|\n",
      "|2016|        1|      JAN|18-01-16|    EBAW| Antwerp|   Belgium|       33|       31|       64|         NULL|         NULL|         NULL|       116053|\n",
      "|2016|        1|      JAN|19-01-16|    EBAW| Antwerp|   Belgium|       28|       27|       55|         NULL|         NULL|         NULL|       116053|\n",
      "|2016|        1|      JAN|20-01-16|    EBAW| Antwerp|   Belgium|       24|       24|       48|         NULL|         NULL|         NULL|       116053|\n",
      "+----+---------+---------+--------+--------+--------+----------+---------+---------+---------+-------------+-------------+-------------+-------------+\n",
      "only showing top 20 rows\n",
      "\n"
     ]
    }
   ],
   "execution_count": 19
  },
  {
   "metadata": {
    "ExecuteTime": {
     "end_time": "2025-02-25T19:56:19.161368Z",
     "start_time": "2025-02-25T19:56:17.721904Z"
    }
   },
   "cell_type": "code",
   "source": [
    "spark.sql(\"\"\"\n",
    "    SELECT\n",
    "        *,\n",
    "        SUM(FLT_TOT_1) OVER (PARTITION BY APT_NAME) AS FLT_TOT_1_SUM\n",
    "    FROM\n",
    "        airport_traffic\n",
    "\"\"\").show()"
   ],
   "id": "2b4b939723549c78",
   "outputs": [
    {
     "name": "stdout",
     "output_type": "stream",
     "text": [
      "+----+---------+---------+--------+--------+--------+----------+---------+---------+---------+-------------+-------------+-------------+-------------+\n",
      "|YEAR|MONTH_NUM|MONTH_MON|FLT_DATE|APT_ICAO|APT_NAME|STATE_NAME|FLT_DEP_1|FLT_ARR_1|FLT_TOT_1|FLT_DEP_IFR_2|FLT_ARR_IFR_2|FLT_TOT_IFR_2|FLT_TOT_1_SUM|\n",
      "+----+---------+---------+--------+--------+--------+----------+---------+---------+---------+-------------+-------------+-------------+-------------+\n",
      "|2016|        1|      JAN|01-01-16|    EBAW| Antwerp|   Belgium|        4|        3|        7|         NULL|         NULL|         NULL|       116053|\n",
      "|2016|        1|      JAN|02-01-16|    EBAW| Antwerp|   Belgium|        9|       11|       20|         NULL|         NULL|         NULL|       116053|\n",
      "|2016|        1|      JAN|03-01-16|    EBAW| Antwerp|   Belgium|       10|       17|       27|         NULL|         NULL|         NULL|       116053|\n",
      "|2016|        1|      JAN|04-01-16|    EBAW| Antwerp|   Belgium|       18|       17|       35|         NULL|         NULL|         NULL|       116053|\n",
      "|2016|        1|      JAN|05-01-16|    EBAW| Antwerp|   Belgium|       12|       13|       25|         NULL|         NULL|         NULL|       116053|\n",
      "|2016|        1|      JAN|06-01-16|    EBAW| Antwerp|   Belgium|       23|       24|       47|         NULL|         NULL|         NULL|       116053|\n",
      "|2016|        1|      JAN|07-01-16|    EBAW| Antwerp|   Belgium|       14|       10|       24|         NULL|         NULL|         NULL|       116053|\n",
      "|2016|        1|      JAN|08-01-16|    EBAW| Antwerp|   Belgium|       27|       23|       50|         NULL|         NULL|         NULL|       116053|\n",
      "|2016|        1|      JAN|09-01-16|    EBAW| Antwerp|   Belgium|       16|       19|       35|         NULL|         NULL|         NULL|       116053|\n",
      "|2016|        1|      JAN|10-01-16|    EBAW| Antwerp|   Belgium|       16|       16|       32|         NULL|         NULL|         NULL|       116053|\n",
      "|2016|        1|      JAN|11-01-16|    EBAW| Antwerp|   Belgium|       24|       21|       45|         NULL|         NULL|         NULL|       116053|\n",
      "|2016|        1|      JAN|12-01-16|    EBAW| Antwerp|   Belgium|       15|       18|       33|         NULL|         NULL|         NULL|       116053|\n",
      "|2016|        1|      JAN|13-01-16|    EBAW| Antwerp|   Belgium|       23|       19|       42|         NULL|         NULL|         NULL|       116053|\n",
      "|2016|        1|      JAN|14-01-16|    EBAW| Antwerp|   Belgium|       18|       17|       35|         NULL|         NULL|         NULL|       116053|\n",
      "|2016|        1|      JAN|15-01-16|    EBAW| Antwerp|   Belgium|       19|       17|       36|         NULL|         NULL|         NULL|       116053|\n",
      "|2016|        1|      JAN|16-01-16|    EBAW| Antwerp|   Belgium|       15|       11|       26|         NULL|         NULL|         NULL|       116053|\n",
      "|2016|        1|      JAN|17-01-16|    EBAW| Antwerp|   Belgium|       10|       16|       26|         NULL|         NULL|         NULL|       116053|\n",
      "|2016|        1|      JAN|18-01-16|    EBAW| Antwerp|   Belgium|       33|       31|       64|         NULL|         NULL|         NULL|       116053|\n",
      "|2016|        1|      JAN|19-01-16|    EBAW| Antwerp|   Belgium|       28|       27|       55|         NULL|         NULL|         NULL|       116053|\n",
      "|2016|        1|      JAN|20-01-16|    EBAW| Antwerp|   Belgium|       24|       24|       48|         NULL|         NULL|         NULL|       116053|\n",
      "+----+---------+---------+--------+--------+--------+----------+---------+---------+---------+-------------+-------------+-------------+-------------+\n",
      "only showing top 20 rows\n",
      "\n"
     ]
    }
   ],
   "execution_count": 23
  },
  {
   "metadata": {
    "ExecuteTime": {
     "end_time": "2025-02-25T20:14:08.136979Z",
     "start_time": "2025-02-25T20:14:06.455082Z"
    }
   },
   "cell_type": "code",
   "source": [
    "spark.sql(\"\"\"\n",
    "    SELECT\n",
    "        *,\n",
    "        RANK() OVER (\n",
    "        PARTITION BY YEAR, APT_ICAO\n",
    "        ORDER BY FLT_DEP_1 DESC\n",
    "        ) AS RANK\n",
    "    FROM\n",
    "        airport_traffic\n",
    "    ORDER BY\n",
    "        YEAR, FLT_DEP_1 DESC\n",
    "\"\"\").show()"
   ],
   "id": "81d984e18139ef60",
   "outputs": [
    {
     "name": "stdout",
     "output_type": "stream",
     "text": [
      "+----+---------+---------+--------+--------+--------------------+-----------+---------+---------+---------+-------------+-------------+-------------+----+\n",
      "|YEAR|MONTH_NUM|MONTH_MON|FLT_DATE|APT_ICAO|            APT_NAME| STATE_NAME|FLT_DEP_1|FLT_ARR_1|FLT_TOT_1|FLT_DEP_IFR_2|FLT_ARR_IFR_2|FLT_TOT_IFR_2|RANK|\n",
      "+----+---------+---------+--------+--------+--------------------+-----------+---------+---------+---------+-------------+-------------+-------------+----+\n",
      "|2016|        7|      JUL|25-07-16|    EHAM|Amsterdam - Schiphol|Netherlands|      782|      770|     1552|          782|          771|         1553|   1|\n",
      "|2016|        7|      JUL|22-07-16|    EHAM|Amsterdam - Schiphol|Netherlands|      781|      776|     1557|          781|          756|         1537|   2|\n",
      "|2016|        7|      JUL|08-07-16|    EHAM|Amsterdam - Schiphol|Netherlands|      780|      779|     1559|          780|          768|         1548|   3|\n",
      "|2016|        7|      JUL|15-07-16|    EHAM|Amsterdam - Schiphol|Netherlands|      780|      778|     1558|          778|          768|         1546|   3|\n",
      "|2016|        8|      AUG|19-08-16|    EHAM|Amsterdam - Schiphol|Netherlands|      779|      781|     1560|          778|          760|         1538|   5|\n",
      "|2016|        8|      AUG|26-08-16|    LFPG|Paris-Charles-de-...|     France|      778|      741|     1519|          776|          748|         1524|   1|\n",
      "|2016|        9|      SEP|09-09-16|    EHAM|Amsterdam - Schiphol|Netherlands|      778|      768|     1546|          778|          756|         1534|   6|\n",
      "|2016|        8|      AUG|31-08-16|    LFPG|Paris-Charles-de-...|     France|      776|      771|     1547|          773|          775|         1548|   2|\n",
      "|2016|        8|      AUG|12-08-16|    EHAM|Amsterdam - Schiphol|Netherlands|      774|      774|     1548|          772|          763|         1535|   7|\n",
      "|2016|        8|      AUG|26-08-16|    EHAM|Amsterdam - Schiphol|Netherlands|      774|      774|     1548|          774|          755|         1529|   7|\n",
      "|2016|        8|      AUG|25-08-16|    EHAM|Amsterdam - Schiphol|Netherlands|      772|      772|     1544|          773|          774|         1547|   9|\n",
      "|2016|        8|      AUG|08-08-16|    EHAM|Amsterdam - Schiphol|Netherlands|      770|      763|     1533|          769|          773|         1542|  10|\n",
      "|2016|        9|      SEP|01-09-16|    EHAM|Amsterdam - Schiphol|Netherlands|      770|      762|     1532|          770|          769|         1539|  10|\n",
      "|2016|        8|      AUG|30-08-16|    LFPG|Paris-Charles-de-...|     France|      769|      775|     1544|          771|          776|         1547|   3|\n",
      "|2016|        7|      JUL|14-07-16|    EHAM|Amsterdam - Schiphol|Netherlands|      769|      774|     1543|          769|          776|         1545|  12|\n",
      "|2016|        7|      JUL|18-07-16|    EHAM|Amsterdam - Schiphol|Netherlands|      768|      760|     1528|          768|          756|         1524|  13|\n",
      "|2016|        7|      JUL|21-07-16|    EHAM|Amsterdam - Schiphol|Netherlands|      768|      774|     1542|          769|          777|         1546|  13|\n",
      "|2016|        8|      AUG|22-08-16|    EHAM|Amsterdam - Schiphol|Netherlands|      767|      769|     1536|          767|          767|         1534|  15|\n",
      "|2016|        8|      AUG|25-08-16|    LFPG|Paris-Charles-de-...|     France|      766|      769|     1535|          768|          752|         1520|   4|\n",
      "|2016|        8|      AUG|18-08-16|    EHAM|Amsterdam - Schiphol|Netherlands|      766|      772|     1538|          767|          768|         1535|  16|\n",
      "+----+---------+---------+--------+--------+--------------------+-----------+---------+---------+---------+-------------+-------------+-------------+----+\n",
      "only showing top 20 rows\n",
      "\n"
     ]
    }
   ],
   "execution_count": 29
  },
  {
   "metadata": {
    "ExecuteTime": {
     "end_time": "2025-02-25T20:23:51.811963Z",
     "start_time": "2025-02-25T20:23:50.189716Z"
    }
   },
   "cell_type": "code",
   "source": [
    "window = Window.partitionBy('YEAR', 'APT_ICAO').orderBy(F.col('FLT_DEP_1').desc())\n",
    "\n",
    "df.withColumn(\n",
    "    'RANK', F.rank().over(window)\n",
    ").orderBy(\n",
    "    'YEAR', F.col('FLT_DEP_1').desc()\n",
    ").show()"
   ],
   "id": "6e59f6a31719f3e",
   "outputs": [
    {
     "name": "stdout",
     "output_type": "stream",
     "text": [
      "+----+---------+---------+--------+--------+--------------------+-----------+---------+---------+---------+-------------+-------------+-------------+----+\n",
      "|YEAR|MONTH_NUM|MONTH_MON|FLT_DATE|APT_ICAO|            APT_NAME| STATE_NAME|FLT_DEP_1|FLT_ARR_1|FLT_TOT_1|FLT_DEP_IFR_2|FLT_ARR_IFR_2|FLT_TOT_IFR_2|RANK|\n",
      "+----+---------+---------+--------+--------+--------------------+-----------+---------+---------+---------+-------------+-------------+-------------+----+\n",
      "|2016|        7|      JUL|25-07-16|    EHAM|Amsterdam - Schiphol|Netherlands|      782|      770|     1552|          782|          771|         1553|   1|\n",
      "|2016|        7|      JUL|22-07-16|    EHAM|Amsterdam - Schiphol|Netherlands|      781|      776|     1557|          781|          756|         1537|   2|\n",
      "|2016|        7|      JUL|08-07-16|    EHAM|Amsterdam - Schiphol|Netherlands|      780|      779|     1559|          780|          768|         1548|   3|\n",
      "|2016|        7|      JUL|15-07-16|    EHAM|Amsterdam - Schiphol|Netherlands|      780|      778|     1558|          778|          768|         1546|   3|\n",
      "|2016|        8|      AUG|19-08-16|    EHAM|Amsterdam - Schiphol|Netherlands|      779|      781|     1560|          778|          760|         1538|   5|\n",
      "|2016|        8|      AUG|26-08-16|    LFPG|Paris-Charles-de-...|     France|      778|      741|     1519|          776|          748|         1524|   1|\n",
      "|2016|        9|      SEP|09-09-16|    EHAM|Amsterdam - Schiphol|Netherlands|      778|      768|     1546|          778|          756|         1534|   6|\n",
      "|2016|        8|      AUG|31-08-16|    LFPG|Paris-Charles-de-...|     France|      776|      771|     1547|          773|          775|         1548|   2|\n",
      "|2016|        8|      AUG|12-08-16|    EHAM|Amsterdam - Schiphol|Netherlands|      774|      774|     1548|          772|          763|         1535|   7|\n",
      "|2016|        8|      AUG|26-08-16|    EHAM|Amsterdam - Schiphol|Netherlands|      774|      774|     1548|          774|          755|         1529|   7|\n",
      "|2016|        8|      AUG|25-08-16|    EHAM|Amsterdam - Schiphol|Netherlands|      772|      772|     1544|          773|          774|         1547|   9|\n",
      "|2016|        8|      AUG|08-08-16|    EHAM|Amsterdam - Schiphol|Netherlands|      770|      763|     1533|          769|          773|         1542|  10|\n",
      "|2016|        9|      SEP|01-09-16|    EHAM|Amsterdam - Schiphol|Netherlands|      770|      762|     1532|          770|          769|         1539|  10|\n",
      "|2016|        8|      AUG|30-08-16|    LFPG|Paris-Charles-de-...|     France|      769|      775|     1544|          771|          776|         1547|   3|\n",
      "|2016|        7|      JUL|14-07-16|    EHAM|Amsterdam - Schiphol|Netherlands|      769|      774|     1543|          769|          776|         1545|  12|\n",
      "|2016|        7|      JUL|18-07-16|    EHAM|Amsterdam - Schiphol|Netherlands|      768|      760|     1528|          768|          756|         1524|  13|\n",
      "|2016|        7|      JUL|21-07-16|    EHAM|Amsterdam - Schiphol|Netherlands|      768|      774|     1542|          769|          777|         1546|  13|\n",
      "|2016|        8|      AUG|22-08-16|    EHAM|Amsterdam - Schiphol|Netherlands|      767|      769|     1536|          767|          767|         1534|  15|\n",
      "|2016|        8|      AUG|25-08-16|    LFPG|Paris-Charles-de-...|     France|      766|      769|     1535|          768|          752|         1520|   4|\n",
      "|2016|        8|      AUG|18-08-16|    EHAM|Amsterdam - Schiphol|Netherlands|      766|      772|     1538|          767|          768|         1535|  16|\n",
      "+----+---------+---------+--------+--------+--------------------+-----------+---------+---------+---------+-------------+-------------+-------------+----+\n",
      "only showing top 20 rows\n",
      "\n"
     ]
    }
   ],
   "execution_count": 33
  },
  {
   "metadata": {
    "ExecuteTime": {
     "end_time": "2025-02-25T20:30:24.030401Z",
     "start_time": "2025-02-25T20:30:23.536764Z"
    }
   },
   "cell_type": "code",
   "source": [
    "window = Window.partitionBy('YEAR').orderBy(F.col('FLT_DEP_1').desc())\n",
    "\n",
    "df.withColumn(\n",
    "    'rank', F.rank().over(window)\n",
    ").filter(\n",
    "    F.col('rank') == 1\n",
    ").drop(\n",
    "    'rank'\n",
    ").show()"
   ],
   "id": "d69107279c91cfa7",
   "outputs": [
    {
     "name": "stdout",
     "output_type": "stream",
     "text": [
      "+----+---------+---------+--------+--------+--------------------+-----------+---------+---------+---------+-------------+-------------+-------------+\n",
      "|YEAR|MONTH_NUM|MONTH_MON|FLT_DATE|APT_ICAO|            APT_NAME| STATE_NAME|FLT_DEP_1|FLT_ARR_1|FLT_TOT_1|FLT_DEP_IFR_2|FLT_ARR_IFR_2|FLT_TOT_IFR_2|\n",
      "+----+---------+---------+--------+--------+--------------------+-----------+---------+---------+---------+-------------+-------------+-------------+\n",
      "|2016|        7|      JUL|25-07-16|    EHAM|Amsterdam - Schiphol|Netherlands|      782|      770|     1552|          782|          771|         1553|\n",
      "|2017|        5|      MAY|24-05-17|    EHAM|Amsterdam - Schiphol|Netherlands|      803|      767|     1570|          803|          771|         1574|\n",
      "|2017|        8|      AUG|07-08-17|    EHAM|Amsterdam - Schiphol|Netherlands|      803|      783|     1586|          801|          794|         1595|\n",
      "|2018|        8|      AUG|30-08-18|    LFPG|Paris-Charles-de-...|     France|      797|      785|     1582|          796|          790|         1586|\n",
      "|2019|        6|      JUN|02-06-19|    LEMD|    Madrid - Barajas|      Spain|      847|      753|     1600|          852|          724|         1576|\n",
      "|2020|        2|      FEB|27-02-20|    EHAM|Amsterdam - Schiphol|Netherlands|      695|      684|     1379|          694|          684|         1378|\n",
      "|2021|        9|      SEP|05-09-21|    EHAM|Amsterdam - Schiphol|Netherlands|      593|      586|     1179|          592|          586|         1178|\n",
      "|2021|       10|      OCT|24-10-21|    EHAM|Amsterdam - Schiphol|Netherlands|      593|      598|     1191|          593|          598|         1191|\n",
      "|2022|        7|      JUL|01-07-22|    LTFM|iGA Istanbul Airport|     Turkey|      697|      692|     1389|          629|          696|         1325|\n",
      "|2022|        8|      AUG|05-08-22|    LTFM|iGA Istanbul Airport|     Turkey|      697|      683|     1380|          696|          685|         1381|\n",
      "|2023|        6|      JUN|11-06-23|    LTFM|iGA Istanbul Airport|     Turkey|      915|      772|     1687|          919|          773|         1692|\n",
      "|2024|        6|      JUN|23-06-24|    LTFM|            Istanbul|     Turkey|      805|      807|     1612|          809|          819|         1628|\n",
      "+----+---------+---------+--------+--------+--------------------+-----------+---------+---------+---------+-------------+-------------+-------------+\n",
      "\n"
     ]
    }
   ],
   "execution_count": 38
  },
  {
   "metadata": {
    "ExecuteTime": {
     "end_time": "2025-02-25T20:44:48.257546Z",
     "start_time": "2025-02-25T20:44:47.781619Z"
    }
   },
   "cell_type": "code",
   "source": [
    "spark.sql(\"\"\"\n",
    "WITH ranked_airports AS (\n",
    "    SELECT\n",
    "        *,\n",
    "        RANK() OVER(\n",
    "            PARTITION BY YEAR\n",
    "            ORDER BY FLT_DEP_1 DESC\n",
    "        ) AS rank\n",
    "    FROM\n",
    "        airport_traffic\n",
    "    )\n",
    "    SELECT\n",
    "        *\n",
    "    FROM\n",
    "        ranked_airports\n",
    "    WHERE\n",
    "        rank = 1\n",
    "\"\"\").show()"
   ],
   "id": "5f811dc70b472d01",
   "outputs": [
    {
     "name": "stdout",
     "output_type": "stream",
     "text": [
      "+----+---------+---------+--------+--------+--------------------+-----------+---------+---------+---------+-------------+-------------+-------------+----+\n",
      "|YEAR|MONTH_NUM|MONTH_MON|FLT_DATE|APT_ICAO|            APT_NAME| STATE_NAME|FLT_DEP_1|FLT_ARR_1|FLT_TOT_1|FLT_DEP_IFR_2|FLT_ARR_IFR_2|FLT_TOT_IFR_2|rank|\n",
      "+----+---------+---------+--------+--------+--------------------+-----------+---------+---------+---------+-------------+-------------+-------------+----+\n",
      "|2016|        7|      JUL|25-07-16|    EHAM|Amsterdam - Schiphol|Netherlands|      782|      770|     1552|          782|          771|         1553|   1|\n",
      "|2017|        5|      MAY|24-05-17|    EHAM|Amsterdam - Schiphol|Netherlands|      803|      767|     1570|          803|          771|         1574|   1|\n",
      "|2017|        8|      AUG|07-08-17|    EHAM|Amsterdam - Schiphol|Netherlands|      803|      783|     1586|          801|          794|         1595|   1|\n",
      "|2018|        8|      AUG|30-08-18|    LFPG|Paris-Charles-de-...|     France|      797|      785|     1582|          796|          790|         1586|   1|\n",
      "|2019|        6|      JUN|02-06-19|    LEMD|    Madrid - Barajas|      Spain|      847|      753|     1600|          852|          724|         1576|   1|\n",
      "|2020|        2|      FEB|27-02-20|    EHAM|Amsterdam - Schiphol|Netherlands|      695|      684|     1379|          694|          684|         1378|   1|\n",
      "|2021|        9|      SEP|05-09-21|    EHAM|Amsterdam - Schiphol|Netherlands|      593|      586|     1179|          592|          586|         1178|   1|\n",
      "|2021|       10|      OCT|24-10-21|    EHAM|Amsterdam - Schiphol|Netherlands|      593|      598|     1191|          593|          598|         1191|   1|\n",
      "|2022|        7|      JUL|01-07-22|    LTFM|iGA Istanbul Airport|     Turkey|      697|      692|     1389|          629|          696|         1325|   1|\n",
      "|2022|        8|      AUG|05-08-22|    LTFM|iGA Istanbul Airport|     Turkey|      697|      683|     1380|          696|          685|         1381|   1|\n",
      "|2023|        6|      JUN|11-06-23|    LTFM|iGA Istanbul Airport|     Turkey|      915|      772|     1687|          919|          773|         1692|   1|\n",
      "|2024|        6|      JUN|23-06-24|    LTFM|            Istanbul|     Turkey|      805|      807|     1612|          809|          819|         1628|   1|\n",
      "+----+---------+---------+--------+--------+--------------------+-----------+---------+---------+---------+-------------+-------------+-------------+----+\n",
      "\n"
     ]
    }
   ],
   "execution_count": 42
  },
  {
   "metadata": {
    "ExecuteTime": {
     "end_time": "2025-02-25T20:50:42.710550Z",
     "start_time": "2025-02-25T20:50:41.344224Z"
    }
   },
   "cell_type": "code",
   "source": [
    "window = Window.partitionBy('APT_ICAO').orderBy(F.col('FLT_DATE').asc())\n",
    "\n",
    "df.withColumn(\n",
    "    'Running Sum',\n",
    "    F.sum('FLT_TOT_1').over(window)\n",
    ").show()"
   ],
   "id": "b284a87973dc315c",
   "outputs": [
    {
     "name": "stdout",
     "output_type": "stream",
     "text": [
      "+----+---------+---------+--------+--------+------------+----------+---------+---------+---------+-------------+-------------+-------------+-----------+\n",
      "|YEAR|MONTH_NUM|MONTH_MON|FLT_DATE|APT_ICAO|    APT_NAME|STATE_NAME|FLT_DEP_1|FLT_ARR_1|FLT_TOT_1|FLT_DEP_IFR_2|FLT_ARR_IFR_2|FLT_TOT_IFR_2|Running Sum|\n",
      "+----+---------+---------+--------+--------+------------+----------+---------+---------+---------+-------------+-------------+-------------+-----------+\n",
      "|2016|        1|      JAN|01-01-16|    EDDK|Cologne-Bonn|   Germany|       92|       90|      182|         NULL|         NULL|         NULL|        182|\n",
      "|2017|        1|      JAN|01-01-17|    EDDK|Cologne-Bonn|   Germany|       95|       97|      192|         NULL|         NULL|         NULL|        374|\n",
      "|2018|        1|      JAN|01-01-18|    EDDK|Cologne-Bonn|   Germany|      108|      110|      218|          108|          107|          215|        592|\n",
      "|2019|        1|      JAN|01-01-19|    EDDK|Cologne-Bonn|   Germany|       97|       99|      196|           98|          101|          199|        788|\n",
      "|2020|        1|      JAN|01-01-20|    EDDK|Cologne-Bonn|   Germany|       90|       89|      179|           89|           91|          180|        967|\n",
      "|2021|        1|      JAN|01-01-21|    EDDK|Cologne-Bonn|   Germany|       26|       26|       52|           27|           27|           54|       1019|\n",
      "|2022|        1|      JAN|01-01-22|    EDDK|Cologne-Bonn|   Germany|       60|       54|      114|           62|           55|          117|       1133|\n",
      "|2023|        1|      JAN|01-01-23|    EDDK|Cologne-Bonn|   Germany|       70|       79|      149|           71|           80|          151|       1282|\n",
      "|2024|        1|      JAN|01-01-24|    EDDK|Cologne-Bonn|   Germany|       70|       71|      141|           72|           72|          144|       1423|\n",
      "|2016|        2|      FEB|01-02-16|    EDDK|Cologne-Bonn|   Germany|      166|      160|      326|         NULL|         NULL|         NULL|       1749|\n",
      "|2017|        2|      FEB|01-02-17|    EDDK|Cologne-Bonn|   Germany|      177|      175|      352|         NULL|         NULL|         NULL|       2101|\n",
      "|2018|        2|      FEB|01-02-18|    EDDK|Cologne-Bonn|   Germany|      181|      185|      366|          181|          179|          360|       2467|\n",
      "|2019|        2|      FEB|01-02-19|    EDDK|Cologne-Bonn|   Germany|      201|      201|      402|          202|          199|          401|       2869|\n",
      "|2020|        2|      FEB|01-02-20|    EDDK|Cologne-Bonn|   Germany|      100|       92|      192|          101|           88|          189|       3061|\n",
      "|2021|        2|      FEB|01-02-21|    EDDK|Cologne-Bonn|   Germany|       81|       82|      163|           84|           80|          164|       3224|\n",
      "|2022|        2|      FEB|01-02-22|    EDDK|Cologne-Bonn|   Germany|      132|      137|      269|          129|          134|          263|       3493|\n",
      "|2023|        2|      FEB|01-02-23|    EDDK|Cologne-Bonn|   Germany|      134|      140|      274|          134|          139|          273|       3767|\n",
      "|2024|        2|      FEB|01-02-24|    EDDK|Cologne-Bonn|   Germany|       78|       90|      168|           76|           84|          160|       3935|\n",
      "|2016|        3|      MAR|01-03-16|    EDDK|Cologne-Bonn|   Germany|      178|      186|      364|         NULL|         NULL|         NULL|       4299|\n",
      "|2017|        3|      MAR|01-03-17|    EDDK|Cologne-Bonn|   Germany|      183|      182|      365|         NULL|         NULL|         NULL|       4664|\n",
      "+----+---------+---------+--------+--------+------------+----------+---------+---------+---------+-------------+-------------+-------------+-----------+\n",
      "only showing top 20 rows\n",
      "\n"
     ]
    }
   ],
   "execution_count": 49
  },
  {
   "metadata": {
    "ExecuteTime": {
     "end_time": "2025-02-25T20:53:37.220447Z",
     "start_time": "2025-02-25T20:53:35.832533Z"
    }
   },
   "cell_type": "code",
   "source": [
    "spark.sql(\"\"\"\n",
    "    SELECT\n",
    "        *,\n",
    "        sum(FLT_TOT_1) OVER (\n",
    "            PARTITION BY APT_ICAO\n",
    "            ORDER BY FLT_DATE\n",
    "        )\n",
    "    FROM\n",
    "        airport_traffic\n",
    "\"\"\").show()"
   ],
   "id": "410e3387d3a10512",
   "outputs": [
    {
     "name": "stdout",
     "output_type": "stream",
     "text": [
      "+----+---------+---------+--------+--------+------------+----------+---------+---------+---------+-------------+-------------+-------------+-------------------------------------------------------------------------------------------------------------------------------+\n",
      "|YEAR|MONTH_NUM|MONTH_MON|FLT_DATE|APT_ICAO|    APT_NAME|STATE_NAME|FLT_DEP_1|FLT_ARR_1|FLT_TOT_1|FLT_DEP_IFR_2|FLT_ARR_IFR_2|FLT_TOT_IFR_2|sum(FLT_TOT_1) OVER (PARTITION BY APT_ICAO ORDER BY FLT_DATE ASC NULLS FIRST RANGE BETWEEN UNBOUNDED PRECEDING AND CURRENT ROW)|\n",
      "+----+---------+---------+--------+--------+------------+----------+---------+---------+---------+-------------+-------------+-------------+-------------------------------------------------------------------------------------------------------------------------------+\n",
      "|2016|        1|      JAN|01-01-16|    EDDK|Cologne-Bonn|   Germany|       92|       90|      182|         NULL|         NULL|         NULL|                                                                                                                            182|\n",
      "|2017|        1|      JAN|01-01-17|    EDDK|Cologne-Bonn|   Germany|       95|       97|      192|         NULL|         NULL|         NULL|                                                                                                                            374|\n",
      "|2018|        1|      JAN|01-01-18|    EDDK|Cologne-Bonn|   Germany|      108|      110|      218|          108|          107|          215|                                                                                                                            592|\n",
      "|2019|        1|      JAN|01-01-19|    EDDK|Cologne-Bonn|   Germany|       97|       99|      196|           98|          101|          199|                                                                                                                            788|\n",
      "|2020|        1|      JAN|01-01-20|    EDDK|Cologne-Bonn|   Germany|       90|       89|      179|           89|           91|          180|                                                                                                                            967|\n",
      "|2021|        1|      JAN|01-01-21|    EDDK|Cologne-Bonn|   Germany|       26|       26|       52|           27|           27|           54|                                                                                                                           1019|\n",
      "|2022|        1|      JAN|01-01-22|    EDDK|Cologne-Bonn|   Germany|       60|       54|      114|           62|           55|          117|                                                                                                                           1133|\n",
      "|2023|        1|      JAN|01-01-23|    EDDK|Cologne-Bonn|   Germany|       70|       79|      149|           71|           80|          151|                                                                                                                           1282|\n",
      "|2024|        1|      JAN|01-01-24|    EDDK|Cologne-Bonn|   Germany|       70|       71|      141|           72|           72|          144|                                                                                                                           1423|\n",
      "|2016|        2|      FEB|01-02-16|    EDDK|Cologne-Bonn|   Germany|      166|      160|      326|         NULL|         NULL|         NULL|                                                                                                                           1749|\n",
      "|2017|        2|      FEB|01-02-17|    EDDK|Cologne-Bonn|   Germany|      177|      175|      352|         NULL|         NULL|         NULL|                                                                                                                           2101|\n",
      "|2018|        2|      FEB|01-02-18|    EDDK|Cologne-Bonn|   Germany|      181|      185|      366|          181|          179|          360|                                                                                                                           2467|\n",
      "|2019|        2|      FEB|01-02-19|    EDDK|Cologne-Bonn|   Germany|      201|      201|      402|          202|          199|          401|                                                                                                                           2869|\n",
      "|2020|        2|      FEB|01-02-20|    EDDK|Cologne-Bonn|   Germany|      100|       92|      192|          101|           88|          189|                                                                                                                           3061|\n",
      "|2021|        2|      FEB|01-02-21|    EDDK|Cologne-Bonn|   Germany|       81|       82|      163|           84|           80|          164|                                                                                                                           3224|\n",
      "|2022|        2|      FEB|01-02-22|    EDDK|Cologne-Bonn|   Germany|      132|      137|      269|          129|          134|          263|                                                                                                                           3493|\n",
      "|2023|        2|      FEB|01-02-23|    EDDK|Cologne-Bonn|   Germany|      134|      140|      274|          134|          139|          273|                                                                                                                           3767|\n",
      "|2024|        2|      FEB|01-02-24|    EDDK|Cologne-Bonn|   Germany|       78|       90|      168|           76|           84|          160|                                                                                                                           3935|\n",
      "|2016|        3|      MAR|01-03-16|    EDDK|Cologne-Bonn|   Germany|      178|      186|      364|         NULL|         NULL|         NULL|                                                                                                                           4299|\n",
      "|2017|        3|      MAR|01-03-17|    EDDK|Cologne-Bonn|   Germany|      183|      182|      365|         NULL|         NULL|         NULL|                                                                                                                           4664|\n",
      "+----+---------+---------+--------+--------+------------+----------+---------+---------+---------+-------------+-------------+-------------+-------------------------------------------------------------------------------------------------------------------------------+\n",
      "only showing top 20 rows\n",
      "\n"
     ]
    }
   ],
   "execution_count": 52
  },
  {
   "metadata": {},
   "cell_type": "markdown",
   "source": "# Calculate a 3-day moving average of FLT_TOT_1 for each airport (APT_ICAO), ordered by FLT_DATE. Handle potential gaps in dates gracefully.",
   "id": "4dd5af07e619e3bb"
  },
  {
   "metadata": {},
   "cell_type": "code",
   "outputs": [],
   "execution_count": null,
   "source": "",
   "id": "2dd671410a861290"
  }
 ],
 "metadata": {
  "kernelspec": {
   "display_name": "Python 3",
   "language": "python",
   "name": "python3"
  },
  "language_info": {
   "codemirror_mode": {
    "name": "ipython",
    "version": 2
   },
   "file_extension": ".py",
   "mimetype": "text/x-python",
   "name": "python",
   "nbconvert_exporter": "python",
   "pygments_lexer": "ipython2",
   "version": "2.7.6"
  }
 },
 "nbformat": 4,
 "nbformat_minor": 5
}
