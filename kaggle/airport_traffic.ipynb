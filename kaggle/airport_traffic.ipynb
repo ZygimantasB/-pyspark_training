{
 "cells": [
  {
   "cell_type": "code",
   "id": "initial_id",
   "metadata": {
    "collapsed": true,
    "ExecuteTime": {
     "end_time": "2025-02-27T18:59:24.871867Z",
     "start_time": "2025-02-27T18:59:24.529467Z"
    }
   },
   "source": [
    "import os\n",
    "\n",
    "import pyspark.sql.functions as F\n",
    "from pyspark.sql import SparkSession\n",
    "from pyspark.sql import Window"
   ],
   "outputs": [],
   "execution_count": 2
  },
  {
   "metadata": {
    "ExecuteTime": {
     "end_time": "2025-02-27T18:59:24.888320Z",
     "start_time": "2025-02-27T18:59:24.885485Z"
    }
   },
   "cell_type": "code",
   "source": [
    "os.environ['SPARK_HOME'] = r'C:\\spark\\spark-3.5.4-bin-hadoop3'\n",
    "os.environ['PYSPARK_DRIVER_PYTHON'] = 'jupyter'\n",
    "os.environ['PYSPARK_DRIVER_PYTHON_OPTS'] = 'lab'\n",
    "os.environ['PYSPARK_PYTHON'] = 'python'"
   ],
   "id": "bc1f90eb410d49b7",
   "outputs": [],
   "execution_count": 3
  },
  {
   "metadata": {
    "ExecuteTime": {
     "end_time": "2025-02-27T18:59:29.033310Z",
     "start_time": "2025-02-27T18:59:24.916951Z"
    }
   },
   "cell_type": "code",
   "source": [
    "spark = (\n",
    "    SparkSession.builder\n",
    "    .appName('Airport Traffic')\n",
    "    .master('local[20]')\n",
    "    .config('spark.executor.memory', '12g')\n",
    "    .config('spark.executor.cors', '4')\n",
    "    .config(\"spark.dynamicAllocation.enabled\", \"true\")\n",
    "    .config(\"spark.dynamicAllocation.minExecutors\", \"2\")\n",
    "    .config(\"spark.dynamicAllocation.maxExecutors\", \"20\")\n",
    "    .config('spark.executors.memoryOverhead', '2g')\n",
    "    .config(\"spark.driver.memory\", \"12g\")\n",
    "    .config(\"spark.driver.maxResultSize\", \"4g\")\n",
    "    .config('spark.sql.adaptive.enabled', 'true')\n",
    "    .config('spark.sql.adaptive.coalescePartitions.enabled', 'true')\n",
    "    .config('spark.sql.adaptive.advisoryPartitionSizeInBytes', '128mb')# 128 default\n",
    "    .config(\"spark.serializer\", \"org.apache.spark.serializer.KryoSerializer\")\n",
    "    .config('spark.dynamicAllocation.executorIdleTimeout', '120')\n",
    "    .config('spark.sql.autoBroadcastJoinThreshold', '512mb')\n",
    "    .getOrCreate()\n",
    ")"
   ],
   "id": "6556cde9e2d795bd",
   "outputs": [],
   "execution_count": 4
  },
  {
   "metadata": {
    "ExecuteTime": {
     "end_time": "2025-02-27T18:59:29.048763Z",
     "start_time": "2025-02-27T18:59:29.045918Z"
    }
   },
   "cell_type": "code",
   "source": "df_path = r\"F:\\Datasets\\CSV datasets\\airport_traffic\\*\"",
   "id": "7e382a933b68c187",
   "outputs": [],
   "execution_count": 5
  },
  {
   "metadata": {
    "ExecuteTime": {
     "end_time": "2025-02-27T18:59:34.579852Z",
     "start_time": "2025-02-27T18:59:29.070721Z"
    }
   },
   "cell_type": "code",
   "source": [
    "df = (\n",
    "    spark\n",
    "    .read\n",
    "    .format('csv')\n",
    "    .option('header', 'true')\n",
    "    .option('inferSchema', 'true')\n",
    "    .load(df_path)\n",
    ")"
   ],
   "id": "4c9a7ec1ad1e9e66",
   "outputs": [],
   "execution_count": 6
  },
  {
   "metadata": {
    "ExecuteTime": {
     "end_time": "2025-02-27T18:59:34.600851Z",
     "start_time": "2025-02-27T18:59:34.585878Z"
    }
   },
   "cell_type": "code",
   "source": "spark",
   "id": "f97847785e3e1716",
   "outputs": [
    {
     "data": {
      "text/plain": [
       "<pyspark.sql.session.SparkSession at 0x1dbfe996050>"
      ],
      "text/html": [
       "\n",
       "            <div>\n",
       "                <p><b>SparkSession - in-memory</b></p>\n",
       "                \n",
       "        <div>\n",
       "            <p><b>SparkContext</b></p>\n",
       "\n",
       "            <p><a href=\"http://Zygimantas:4040\">Spark UI</a></p>\n",
       "\n",
       "            <dl>\n",
       "              <dt>Version</dt>\n",
       "                <dd><code>v3.5.4</code></dd>\n",
       "              <dt>Master</dt>\n",
       "                <dd><code>local[20]</code></dd>\n",
       "              <dt>AppName</dt>\n",
       "                <dd><code>Airport Traffic</code></dd>\n",
       "            </dl>\n",
       "        </div>\n",
       "        \n",
       "            </div>\n",
       "        "
      ]
     },
     "execution_count": 7,
     "metadata": {},
     "output_type": "execute_result"
    }
   ],
   "execution_count": 7
  },
  {
   "metadata": {
    "ExecuteTime": {
     "end_time": "2025-02-27T18:59:34.709963Z",
     "start_time": "2025-02-27T18:59:34.639167Z"
    }
   },
   "cell_type": "code",
   "source": "df.rdd.getNumPartitions()",
   "id": "d4765023b61414f3",
   "outputs": [
    {
     "data": {
      "text/plain": [
       "18"
      ]
     },
     "execution_count": 8,
     "metadata": {},
     "output_type": "execute_result"
    }
   ],
   "execution_count": 8
  },
  {
   "metadata": {
    "ExecuteTime": {
     "end_time": "2025-02-27T18:59:35.685928Z",
     "start_time": "2025-02-27T18:59:34.723216Z"
    }
   },
   "cell_type": "code",
   "source": "df.count()",
   "id": "64b56dc1c679d593",
   "outputs": [
    {
     "data": {
      "text/plain": [
       "983842"
      ]
     },
     "execution_count": 9,
     "metadata": {},
     "output_type": "execute_result"
    }
   ],
   "execution_count": 9
  },
  {
   "metadata": {
    "ExecuteTime": {
     "end_time": "2025-02-27T18:59:35.746079Z",
     "start_time": "2025-02-27T18:59:35.701690Z"
    }
   },
   "cell_type": "code",
   "source": "df.createOrReplaceTempView('airport_traffic')",
   "id": "cf612c8911232dd3",
   "outputs": [],
   "execution_count": 10
  },
  {
   "metadata": {
    "ExecuteTime": {
     "end_time": "2025-02-27T18:59:36.187645Z",
     "start_time": "2025-02-27T18:59:35.755597Z"
    }
   },
   "cell_type": "code",
   "source": [
    "spark.sql(\"\"\"\n",
    "    SELECT\n",
    "        count(*)\n",
    "    FROM\n",
    "        airport_traffic\n",
    "\"\"\").show()"
   ],
   "id": "5f9ebe40aca39ea5",
   "outputs": [
    {
     "name": "stdout",
     "output_type": "stream",
     "text": [
      "+--------+\n",
      "|count(1)|\n",
      "+--------+\n",
      "|  983842|\n",
      "+--------+\n",
      "\n"
     ]
    }
   ],
   "execution_count": 11
  },
  {
   "metadata": {
    "ExecuteTime": {
     "end_time": "2025-02-27T18:59:36.206710Z",
     "start_time": "2025-02-27T18:59:36.201004Z"
    }
   },
   "cell_type": "code",
   "source": "df.printSchema()",
   "id": "6af3247a54c1737c",
   "outputs": [
    {
     "name": "stdout",
     "output_type": "stream",
     "text": [
      "root\n",
      " |-- YEAR: integer (nullable = true)\n",
      " |-- MONTH_NUM: integer (nullable = true)\n",
      " |-- MONTH_MON: string (nullable = true)\n",
      " |-- FLT_DATE: string (nullable = true)\n",
      " |-- APT_ICAO: string (nullable = true)\n",
      " |-- APT_NAME: string (nullable = true)\n",
      " |-- STATE_NAME: string (nullable = true)\n",
      " |-- FLT_DEP_1: integer (nullable = true)\n",
      " |-- FLT_ARR_1: integer (nullable = true)\n",
      " |-- FLT_TOT_1: integer (nullable = true)\n",
      " |-- FLT_DEP_IFR_2: integer (nullable = true)\n",
      " |-- FLT_ARR_IFR_2: integer (nullable = true)\n",
      " |-- FLT_TOT_IFR_2: integer (nullable = true)\n",
      "\n"
     ]
    }
   ],
   "execution_count": 12
  },
  {
   "metadata": {
    "ExecuteTime": {
     "end_time": "2025-02-27T18:59:36.481686Z",
     "start_time": "2025-02-27T18:59:36.288964Z"
    }
   },
   "cell_type": "code",
   "source": "df.show(5)",
   "id": "416a66a0951d3d3e",
   "outputs": [
    {
     "name": "stdout",
     "output_type": "stream",
     "text": [
      "+----+---------+---------+--------+--------+----------+----------+---------+---------+---------+-------------+-------------+-------------+\n",
      "|YEAR|MONTH_NUM|MONTH_MON|FLT_DATE|APT_ICAO|  APT_NAME|STATE_NAME|FLT_DEP_1|FLT_ARR_1|FLT_TOT_1|FLT_DEP_IFR_2|FLT_ARR_IFR_2|FLT_TOT_IFR_2|\n",
      "+----+---------+---------+--------+--------+----------+----------+---------+---------+---------+-------------+-------------+-------------+\n",
      "|2016|        1|      JAN|01-01-16|    LATI|    Tirana|   Albania|       24|       27|       51|         NULL|         NULL|         NULL|\n",
      "|2016|        1|      JAN|01-01-16|    UDYZ|   Yerevan|   Armenia|        8|       15|       23|         NULL|         NULL|         NULL|\n",
      "|2016|        1|      JAN|01-01-16|    LOWG|      Graz|   Austria|        6|        7|       13|         NULL|         NULL|         NULL|\n",
      "|2016|        1|      JAN|01-01-16|    LOWI| Innsbruck|   Austria|       26|       32|       58|         NULL|         NULL|         NULL|\n",
      "|2016|        1|      JAN|01-01-16|    LOWK|Klagenfurt|   Austria|        3|        4|        7|         NULL|         NULL|         NULL|\n",
      "+----+---------+---------+--------+--------+----------+----------+---------+---------+---------+-------------+-------------+-------------+\n",
      "only showing top 5 rows\n",
      "\n"
     ]
    }
   ],
   "execution_count": 13
  },
  {
   "metadata": {
    "ExecuteTime": {
     "end_time": "2025-02-27T18:59:38.613240Z",
     "start_time": "2025-02-27T18:59:36.504612Z"
    }
   },
   "cell_type": "code",
   "source": [
    "window = Window.partitionBy('APT_NAME')\n",
    "\n",
    "df.withColumn(\n",
    "    \"FLT_TOT_1_SUM\",\n",
    "    F.sum('FLT_TOT_1').over(window)\n",
    ").show()"
   ],
   "id": "e067603daa9af9e",
   "outputs": [
    {
     "name": "stdout",
     "output_type": "stream",
     "text": [
      "+----+---------+---------+--------+--------+--------+----------+---------+---------+---------+-------------+-------------+-------------+-------------+\n",
      "|YEAR|MONTH_NUM|MONTH_MON|FLT_DATE|APT_ICAO|APT_NAME|STATE_NAME|FLT_DEP_1|FLT_ARR_1|FLT_TOT_1|FLT_DEP_IFR_2|FLT_ARR_IFR_2|FLT_TOT_IFR_2|FLT_TOT_1_SUM|\n",
      "+----+---------+---------+--------+--------+--------+----------+---------+---------+---------+-------------+-------------+-------------+-------------+\n",
      "|2016|        1|      JAN|01-01-16|    EBAW| Antwerp|   Belgium|        4|        3|        7|         NULL|         NULL|         NULL|       116053|\n",
      "|2016|        1|      JAN|02-01-16|    EBAW| Antwerp|   Belgium|        9|       11|       20|         NULL|         NULL|         NULL|       116053|\n",
      "|2016|        1|      JAN|03-01-16|    EBAW| Antwerp|   Belgium|       10|       17|       27|         NULL|         NULL|         NULL|       116053|\n",
      "|2016|        1|      JAN|04-01-16|    EBAW| Antwerp|   Belgium|       18|       17|       35|         NULL|         NULL|         NULL|       116053|\n",
      "|2016|        1|      JAN|05-01-16|    EBAW| Antwerp|   Belgium|       12|       13|       25|         NULL|         NULL|         NULL|       116053|\n",
      "|2016|        1|      JAN|06-01-16|    EBAW| Antwerp|   Belgium|       23|       24|       47|         NULL|         NULL|         NULL|       116053|\n",
      "|2016|        1|      JAN|07-01-16|    EBAW| Antwerp|   Belgium|       14|       10|       24|         NULL|         NULL|         NULL|       116053|\n",
      "|2016|        1|      JAN|08-01-16|    EBAW| Antwerp|   Belgium|       27|       23|       50|         NULL|         NULL|         NULL|       116053|\n",
      "|2016|        1|      JAN|09-01-16|    EBAW| Antwerp|   Belgium|       16|       19|       35|         NULL|         NULL|         NULL|       116053|\n",
      "|2016|        1|      JAN|10-01-16|    EBAW| Antwerp|   Belgium|       16|       16|       32|         NULL|         NULL|         NULL|       116053|\n",
      "|2016|        1|      JAN|11-01-16|    EBAW| Antwerp|   Belgium|       24|       21|       45|         NULL|         NULL|         NULL|       116053|\n",
      "|2016|        1|      JAN|12-01-16|    EBAW| Antwerp|   Belgium|       15|       18|       33|         NULL|         NULL|         NULL|       116053|\n",
      "|2016|        1|      JAN|13-01-16|    EBAW| Antwerp|   Belgium|       23|       19|       42|         NULL|         NULL|         NULL|       116053|\n",
      "|2016|        1|      JAN|14-01-16|    EBAW| Antwerp|   Belgium|       18|       17|       35|         NULL|         NULL|         NULL|       116053|\n",
      "|2016|        1|      JAN|15-01-16|    EBAW| Antwerp|   Belgium|       19|       17|       36|         NULL|         NULL|         NULL|       116053|\n",
      "|2016|        1|      JAN|16-01-16|    EBAW| Antwerp|   Belgium|       15|       11|       26|         NULL|         NULL|         NULL|       116053|\n",
      "|2016|        1|      JAN|17-01-16|    EBAW| Antwerp|   Belgium|       10|       16|       26|         NULL|         NULL|         NULL|       116053|\n",
      "|2016|        1|      JAN|18-01-16|    EBAW| Antwerp|   Belgium|       33|       31|       64|         NULL|         NULL|         NULL|       116053|\n",
      "|2016|        1|      JAN|19-01-16|    EBAW| Antwerp|   Belgium|       28|       27|       55|         NULL|         NULL|         NULL|       116053|\n",
      "|2016|        1|      JAN|20-01-16|    EBAW| Antwerp|   Belgium|       24|       24|       48|         NULL|         NULL|         NULL|       116053|\n",
      "+----+---------+---------+--------+--------+--------+----------+---------+---------+---------+-------------+-------------+-------------+-------------+\n",
      "only showing top 20 rows\n",
      "\n"
     ]
    }
   ],
   "execution_count": 14
  },
  {
   "metadata": {
    "ExecuteTime": {
     "end_time": "2025-02-27T18:59:40.230687Z",
     "start_time": "2025-02-27T18:59:38.623758Z"
    }
   },
   "cell_type": "code",
   "source": [
    "spark.sql(\"\"\"\n",
    "    SELECT\n",
    "        *,\n",
    "        SUM(FLT_TOT_1) OVER (PARTITION BY APT_NAME) AS FLT_TOT_1_SUM\n",
    "    FROM\n",
    "        airport_traffic\n",
    "\"\"\").show()"
   ],
   "id": "2b4b939723549c78",
   "outputs": [
    {
     "name": "stdout",
     "output_type": "stream",
     "text": [
      "+----+---------+---------+--------+--------+--------+----------+---------+---------+---------+-------------+-------------+-------------+-------------+\n",
      "|YEAR|MONTH_NUM|MONTH_MON|FLT_DATE|APT_ICAO|APT_NAME|STATE_NAME|FLT_DEP_1|FLT_ARR_1|FLT_TOT_1|FLT_DEP_IFR_2|FLT_ARR_IFR_2|FLT_TOT_IFR_2|FLT_TOT_1_SUM|\n",
      "+----+---------+---------+--------+--------+--------+----------+---------+---------+---------+-------------+-------------+-------------+-------------+\n",
      "|2016|        1|      JAN|01-01-16|    EBAW| Antwerp|   Belgium|        4|        3|        7|         NULL|         NULL|         NULL|       116053|\n",
      "|2016|        1|      JAN|02-01-16|    EBAW| Antwerp|   Belgium|        9|       11|       20|         NULL|         NULL|         NULL|       116053|\n",
      "|2016|        1|      JAN|03-01-16|    EBAW| Antwerp|   Belgium|       10|       17|       27|         NULL|         NULL|         NULL|       116053|\n",
      "|2016|        1|      JAN|04-01-16|    EBAW| Antwerp|   Belgium|       18|       17|       35|         NULL|         NULL|         NULL|       116053|\n",
      "|2016|        1|      JAN|05-01-16|    EBAW| Antwerp|   Belgium|       12|       13|       25|         NULL|         NULL|         NULL|       116053|\n",
      "|2016|        1|      JAN|06-01-16|    EBAW| Antwerp|   Belgium|       23|       24|       47|         NULL|         NULL|         NULL|       116053|\n",
      "|2016|        1|      JAN|07-01-16|    EBAW| Antwerp|   Belgium|       14|       10|       24|         NULL|         NULL|         NULL|       116053|\n",
      "|2016|        1|      JAN|08-01-16|    EBAW| Antwerp|   Belgium|       27|       23|       50|         NULL|         NULL|         NULL|       116053|\n",
      "|2016|        1|      JAN|09-01-16|    EBAW| Antwerp|   Belgium|       16|       19|       35|         NULL|         NULL|         NULL|       116053|\n",
      "|2016|        1|      JAN|10-01-16|    EBAW| Antwerp|   Belgium|       16|       16|       32|         NULL|         NULL|         NULL|       116053|\n",
      "|2016|        1|      JAN|11-01-16|    EBAW| Antwerp|   Belgium|       24|       21|       45|         NULL|         NULL|         NULL|       116053|\n",
      "|2016|        1|      JAN|12-01-16|    EBAW| Antwerp|   Belgium|       15|       18|       33|         NULL|         NULL|         NULL|       116053|\n",
      "|2016|        1|      JAN|13-01-16|    EBAW| Antwerp|   Belgium|       23|       19|       42|         NULL|         NULL|         NULL|       116053|\n",
      "|2016|        1|      JAN|14-01-16|    EBAW| Antwerp|   Belgium|       18|       17|       35|         NULL|         NULL|         NULL|       116053|\n",
      "|2016|        1|      JAN|15-01-16|    EBAW| Antwerp|   Belgium|       19|       17|       36|         NULL|         NULL|         NULL|       116053|\n",
      "|2016|        1|      JAN|16-01-16|    EBAW| Antwerp|   Belgium|       15|       11|       26|         NULL|         NULL|         NULL|       116053|\n",
      "|2016|        1|      JAN|17-01-16|    EBAW| Antwerp|   Belgium|       10|       16|       26|         NULL|         NULL|         NULL|       116053|\n",
      "|2016|        1|      JAN|18-01-16|    EBAW| Antwerp|   Belgium|       33|       31|       64|         NULL|         NULL|         NULL|       116053|\n",
      "|2016|        1|      JAN|19-01-16|    EBAW| Antwerp|   Belgium|       28|       27|       55|         NULL|         NULL|         NULL|       116053|\n",
      "|2016|        1|      JAN|20-01-16|    EBAW| Antwerp|   Belgium|       24|       24|       48|         NULL|         NULL|         NULL|       116053|\n",
      "+----+---------+---------+--------+--------+--------+----------+---------+---------+---------+-------------+-------------+-------------+-------------+\n",
      "only showing top 20 rows\n",
      "\n"
     ]
    }
   ],
   "execution_count": 15
  },
  {
   "metadata": {
    "ExecuteTime": {
     "end_time": "2025-02-27T18:59:43.450832Z",
     "start_time": "2025-02-27T18:59:40.254519Z"
    }
   },
   "cell_type": "code",
   "source": [
    "spark.sql(\"\"\"\n",
    "    SELECT\n",
    "        *,\n",
    "        RANK() OVER (\n",
    "        PARTITION BY YEAR, APT_ICAO\n",
    "        ORDER BY FLT_DEP_1 DESC\n",
    "        ) AS RANK\n",
    "    FROM\n",
    "        airport_traffic\n",
    "    ORDER BY\n",
    "        YEAR, FLT_DEP_1 DESC\n",
    "\"\"\").show()"
   ],
   "id": "81d984e18139ef60",
   "outputs": [
    {
     "name": "stdout",
     "output_type": "stream",
     "text": [
      "+----+---------+---------+--------+--------+--------------------+-----------+---------+---------+---------+-------------+-------------+-------------+----+\n",
      "|YEAR|MONTH_NUM|MONTH_MON|FLT_DATE|APT_ICAO|            APT_NAME| STATE_NAME|FLT_DEP_1|FLT_ARR_1|FLT_TOT_1|FLT_DEP_IFR_2|FLT_ARR_IFR_2|FLT_TOT_IFR_2|RANK|\n",
      "+----+---------+---------+--------+--------+--------------------+-----------+---------+---------+---------+-------------+-------------+-------------+----+\n",
      "|2016|        7|      JUL|25-07-16|    EHAM|Amsterdam - Schiphol|Netherlands|      782|      770|     1552|          782|          771|         1553|   1|\n",
      "|2016|        7|      JUL|22-07-16|    EHAM|Amsterdam - Schiphol|Netherlands|      781|      776|     1557|          781|          756|         1537|   2|\n",
      "|2016|        7|      JUL|08-07-16|    EHAM|Amsterdam - Schiphol|Netherlands|      780|      779|     1559|          780|          768|         1548|   3|\n",
      "|2016|        7|      JUL|15-07-16|    EHAM|Amsterdam - Schiphol|Netherlands|      780|      778|     1558|          778|          768|         1546|   3|\n",
      "|2016|        8|      AUG|19-08-16|    EHAM|Amsterdam - Schiphol|Netherlands|      779|      781|     1560|          778|          760|         1538|   5|\n",
      "|2016|        8|      AUG|26-08-16|    LFPG|Paris-Charles-de-...|     France|      778|      741|     1519|          776|          748|         1524|   1|\n",
      "|2016|        9|      SEP|09-09-16|    EHAM|Amsterdam - Schiphol|Netherlands|      778|      768|     1546|          778|          756|         1534|   6|\n",
      "|2016|        8|      AUG|31-08-16|    LFPG|Paris-Charles-de-...|     France|      776|      771|     1547|          773|          775|         1548|   2|\n",
      "|2016|        8|      AUG|12-08-16|    EHAM|Amsterdam - Schiphol|Netherlands|      774|      774|     1548|          772|          763|         1535|   7|\n",
      "|2016|        8|      AUG|26-08-16|    EHAM|Amsterdam - Schiphol|Netherlands|      774|      774|     1548|          774|          755|         1529|   7|\n",
      "|2016|        8|      AUG|25-08-16|    EHAM|Amsterdam - Schiphol|Netherlands|      772|      772|     1544|          773|          774|         1547|   9|\n",
      "|2016|        8|      AUG|08-08-16|    EHAM|Amsterdam - Schiphol|Netherlands|      770|      763|     1533|          769|          773|         1542|  10|\n",
      "|2016|        9|      SEP|01-09-16|    EHAM|Amsterdam - Schiphol|Netherlands|      770|      762|     1532|          770|          769|         1539|  10|\n",
      "|2016|        8|      AUG|30-08-16|    LFPG|Paris-Charles-de-...|     France|      769|      775|     1544|          771|          776|         1547|   3|\n",
      "|2016|        7|      JUL|14-07-16|    EHAM|Amsterdam - Schiphol|Netherlands|      769|      774|     1543|          769|          776|         1545|  12|\n",
      "|2016|        7|      JUL|18-07-16|    EHAM|Amsterdam - Schiphol|Netherlands|      768|      760|     1528|          768|          756|         1524|  13|\n",
      "|2016|        7|      JUL|21-07-16|    EHAM|Amsterdam - Schiphol|Netherlands|      768|      774|     1542|          769|          777|         1546|  13|\n",
      "|2016|        8|      AUG|22-08-16|    EHAM|Amsterdam - Schiphol|Netherlands|      767|      769|     1536|          767|          767|         1534|  15|\n",
      "|2016|        8|      AUG|25-08-16|    LFPG|Paris-Charles-de-...|     France|      766|      769|     1535|          768|          752|         1520|   4|\n",
      "|2016|        8|      AUG|18-08-16|    EHAM|Amsterdam - Schiphol|Netherlands|      766|      772|     1538|          767|          768|         1535|  16|\n",
      "+----+---------+---------+--------+--------+--------------------+-----------+---------+---------+---------+-------------+-------------+-------------+----+\n",
      "only showing top 20 rows\n",
      "\n"
     ]
    }
   ],
   "execution_count": 16
  },
  {
   "metadata": {
    "ExecuteTime": {
     "end_time": "2025-02-27T18:59:45.391828Z",
     "start_time": "2025-02-27T18:59:43.461864Z"
    }
   },
   "cell_type": "code",
   "source": [
    "window = Window.partitionBy('YEAR', 'APT_ICAO').orderBy(F.col('FLT_DEP_1').desc())\n",
    "\n",
    "df.withColumn(\n",
    "    'RANK', F.rank().over(window)\n",
    ").orderBy(\n",
    "    'YEAR', F.col('FLT_DEP_1').desc()\n",
    ").show()"
   ],
   "id": "6e59f6a31719f3e",
   "outputs": [
    {
     "name": "stdout",
     "output_type": "stream",
     "text": [
      "+----+---------+---------+--------+--------+--------------------+-----------+---------+---------+---------+-------------+-------------+-------------+----+\n",
      "|YEAR|MONTH_NUM|MONTH_MON|FLT_DATE|APT_ICAO|            APT_NAME| STATE_NAME|FLT_DEP_1|FLT_ARR_1|FLT_TOT_1|FLT_DEP_IFR_2|FLT_ARR_IFR_2|FLT_TOT_IFR_2|RANK|\n",
      "+----+---------+---------+--------+--------+--------------------+-----------+---------+---------+---------+-------------+-------------+-------------+----+\n",
      "|2016|        7|      JUL|25-07-16|    EHAM|Amsterdam - Schiphol|Netherlands|      782|      770|     1552|          782|          771|         1553|   1|\n",
      "|2016|        7|      JUL|22-07-16|    EHAM|Amsterdam - Schiphol|Netherlands|      781|      776|     1557|          781|          756|         1537|   2|\n",
      "|2016|        7|      JUL|08-07-16|    EHAM|Amsterdam - Schiphol|Netherlands|      780|      779|     1559|          780|          768|         1548|   3|\n",
      "|2016|        7|      JUL|15-07-16|    EHAM|Amsterdam - Schiphol|Netherlands|      780|      778|     1558|          778|          768|         1546|   3|\n",
      "|2016|        8|      AUG|19-08-16|    EHAM|Amsterdam - Schiphol|Netherlands|      779|      781|     1560|          778|          760|         1538|   5|\n",
      "|2016|        8|      AUG|26-08-16|    LFPG|Paris-Charles-de-...|     France|      778|      741|     1519|          776|          748|         1524|   1|\n",
      "|2016|        9|      SEP|09-09-16|    EHAM|Amsterdam - Schiphol|Netherlands|      778|      768|     1546|          778|          756|         1534|   6|\n",
      "|2016|        8|      AUG|31-08-16|    LFPG|Paris-Charles-de-...|     France|      776|      771|     1547|          773|          775|         1548|   2|\n",
      "|2016|        8|      AUG|12-08-16|    EHAM|Amsterdam - Schiphol|Netherlands|      774|      774|     1548|          772|          763|         1535|   7|\n",
      "|2016|        8|      AUG|26-08-16|    EHAM|Amsterdam - Schiphol|Netherlands|      774|      774|     1548|          774|          755|         1529|   7|\n",
      "|2016|        8|      AUG|25-08-16|    EHAM|Amsterdam - Schiphol|Netherlands|      772|      772|     1544|          773|          774|         1547|   9|\n",
      "|2016|        8|      AUG|08-08-16|    EHAM|Amsterdam - Schiphol|Netherlands|      770|      763|     1533|          769|          773|         1542|  10|\n",
      "|2016|        9|      SEP|01-09-16|    EHAM|Amsterdam - Schiphol|Netherlands|      770|      762|     1532|          770|          769|         1539|  10|\n",
      "|2016|        8|      AUG|30-08-16|    LFPG|Paris-Charles-de-...|     France|      769|      775|     1544|          771|          776|         1547|   3|\n",
      "|2016|        7|      JUL|14-07-16|    EHAM|Amsterdam - Schiphol|Netherlands|      769|      774|     1543|          769|          776|         1545|  12|\n",
      "|2016|        7|      JUL|18-07-16|    EHAM|Amsterdam - Schiphol|Netherlands|      768|      760|     1528|          768|          756|         1524|  13|\n",
      "|2016|        7|      JUL|21-07-16|    EHAM|Amsterdam - Schiphol|Netherlands|      768|      774|     1542|          769|          777|         1546|  13|\n",
      "|2016|        8|      AUG|22-08-16|    EHAM|Amsterdam - Schiphol|Netherlands|      767|      769|     1536|          767|          767|         1534|  15|\n",
      "|2016|        8|      AUG|25-08-16|    LFPG|Paris-Charles-de-...|     France|      766|      769|     1535|          768|          752|         1520|   4|\n",
      "|2016|        8|      AUG|18-08-16|    EHAM|Amsterdam - Schiphol|Netherlands|      766|      772|     1538|          767|          768|         1535|  16|\n",
      "+----+---------+---------+--------+--------+--------------------+-----------+---------+---------+---------+-------------+-------------+-------------+----+\n",
      "only showing top 20 rows\n",
      "\n"
     ]
    }
   ],
   "execution_count": 17
  },
  {
   "metadata": {
    "ExecuteTime": {
     "end_time": "2025-02-27T18:59:46.138831Z",
     "start_time": "2025-02-27T18:59:45.411894Z"
    }
   },
   "cell_type": "code",
   "source": [
    "window = Window.partitionBy('YEAR').orderBy(F.col('FLT_DEP_1').desc())\n",
    "\n",
    "df.withColumn(\n",
    "    'rank', F.rank().over(window)\n",
    ").filter(\n",
    "    F.col('rank') == 1\n",
    ").drop(\n",
    "    'rank'\n",
    ").show()"
   ],
   "id": "d69107279c91cfa7",
   "outputs": [
    {
     "name": "stdout",
     "output_type": "stream",
     "text": [
      "+----+---------+---------+--------+--------+--------------------+-----------+---------+---------+---------+-------------+-------------+-------------+\n",
      "|YEAR|MONTH_NUM|MONTH_MON|FLT_DATE|APT_ICAO|            APT_NAME| STATE_NAME|FLT_DEP_1|FLT_ARR_1|FLT_TOT_1|FLT_DEP_IFR_2|FLT_ARR_IFR_2|FLT_TOT_IFR_2|\n",
      "+----+---------+---------+--------+--------+--------------------+-----------+---------+---------+---------+-------------+-------------+-------------+\n",
      "|2016|        7|      JUL|25-07-16|    EHAM|Amsterdam - Schiphol|Netherlands|      782|      770|     1552|          782|          771|         1553|\n",
      "|2017|        5|      MAY|24-05-17|    EHAM|Amsterdam - Schiphol|Netherlands|      803|      767|     1570|          803|          771|         1574|\n",
      "|2017|        8|      AUG|07-08-17|    EHAM|Amsterdam - Schiphol|Netherlands|      803|      783|     1586|          801|          794|         1595|\n",
      "|2018|        8|      AUG|30-08-18|    LFPG|Paris-Charles-de-...|     France|      797|      785|     1582|          796|          790|         1586|\n",
      "|2019|        6|      JUN|02-06-19|    LEMD|    Madrid - Barajas|      Spain|      847|      753|     1600|          852|          724|         1576|\n",
      "|2020|        2|      FEB|27-02-20|    EHAM|Amsterdam - Schiphol|Netherlands|      695|      684|     1379|          694|          684|         1378|\n",
      "|2021|        9|      SEP|05-09-21|    EHAM|Amsterdam - Schiphol|Netherlands|      593|      586|     1179|          592|          586|         1178|\n",
      "|2021|       10|      OCT|24-10-21|    EHAM|Amsterdam - Schiphol|Netherlands|      593|      598|     1191|          593|          598|         1191|\n",
      "|2022|        7|      JUL|01-07-22|    LTFM|iGA Istanbul Airport|     Turkey|      697|      692|     1389|          629|          696|         1325|\n",
      "|2022|        8|      AUG|05-08-22|    LTFM|iGA Istanbul Airport|     Turkey|      697|      683|     1380|          696|          685|         1381|\n",
      "|2023|        6|      JUN|11-06-23|    LTFM|iGA Istanbul Airport|     Turkey|      915|      772|     1687|          919|          773|         1692|\n",
      "|2024|        6|      JUN|23-06-24|    LTFM|            Istanbul|     Turkey|      805|      807|     1612|          809|          819|         1628|\n",
      "+----+---------+---------+--------+--------+--------------------+-----------+---------+---------+---------+-------------+-------------+-------------+\n",
      "\n"
     ]
    }
   ],
   "execution_count": 18
  },
  {
   "metadata": {
    "ExecuteTime": {
     "end_time": "2025-02-27T18:59:46.874412Z",
     "start_time": "2025-02-27T18:59:46.148016Z"
    }
   },
   "cell_type": "code",
   "source": [
    "spark.sql(\"\"\"\n",
    "WITH ranked_airports AS (\n",
    "    SELECT\n",
    "        *,\n",
    "        RANK() OVER(\n",
    "            PARTITION BY YEAR\n",
    "            ORDER BY FLT_DEP_1 DESC\n",
    "        ) AS rank\n",
    "    FROM\n",
    "        airport_traffic\n",
    "    )\n",
    "    SELECT\n",
    "        *\n",
    "    FROM\n",
    "        ranked_airports\n",
    "    WHERE\n",
    "        rank = 1\n",
    "\"\"\").show()"
   ],
   "id": "5f811dc70b472d01",
   "outputs": [
    {
     "name": "stdout",
     "output_type": "stream",
     "text": [
      "+----+---------+---------+--------+--------+--------------------+-----------+---------+---------+---------+-------------+-------------+-------------+----+\n",
      "|YEAR|MONTH_NUM|MONTH_MON|FLT_DATE|APT_ICAO|            APT_NAME| STATE_NAME|FLT_DEP_1|FLT_ARR_1|FLT_TOT_1|FLT_DEP_IFR_2|FLT_ARR_IFR_2|FLT_TOT_IFR_2|rank|\n",
      "+----+---------+---------+--------+--------+--------------------+-----------+---------+---------+---------+-------------+-------------+-------------+----+\n",
      "|2016|        7|      JUL|25-07-16|    EHAM|Amsterdam - Schiphol|Netherlands|      782|      770|     1552|          782|          771|         1553|   1|\n",
      "|2017|        5|      MAY|24-05-17|    EHAM|Amsterdam - Schiphol|Netherlands|      803|      767|     1570|          803|          771|         1574|   1|\n",
      "|2017|        8|      AUG|07-08-17|    EHAM|Amsterdam - Schiphol|Netherlands|      803|      783|     1586|          801|          794|         1595|   1|\n",
      "|2018|        8|      AUG|30-08-18|    LFPG|Paris-Charles-de-...|     France|      797|      785|     1582|          796|          790|         1586|   1|\n",
      "|2019|        6|      JUN|02-06-19|    LEMD|    Madrid - Barajas|      Spain|      847|      753|     1600|          852|          724|         1576|   1|\n",
      "|2020|        2|      FEB|27-02-20|    EHAM|Amsterdam - Schiphol|Netherlands|      695|      684|     1379|          694|          684|         1378|   1|\n",
      "|2021|        9|      SEP|05-09-21|    EHAM|Amsterdam - Schiphol|Netherlands|      593|      586|     1179|          592|          586|         1178|   1|\n",
      "|2021|       10|      OCT|24-10-21|    EHAM|Amsterdam - Schiphol|Netherlands|      593|      598|     1191|          593|          598|         1191|   1|\n",
      "|2022|        7|      JUL|01-07-22|    LTFM|iGA Istanbul Airport|     Turkey|      697|      692|     1389|          629|          696|         1325|   1|\n",
      "|2022|        8|      AUG|05-08-22|    LTFM|iGA Istanbul Airport|     Turkey|      697|      683|     1380|          696|          685|         1381|   1|\n",
      "|2023|        6|      JUN|11-06-23|    LTFM|iGA Istanbul Airport|     Turkey|      915|      772|     1687|          919|          773|         1692|   1|\n",
      "|2024|        6|      JUN|23-06-24|    LTFM|            Istanbul|     Turkey|      805|      807|     1612|          809|          819|         1628|   1|\n",
      "+----+---------+---------+--------+--------+--------------------+-----------+---------+---------+---------+-------------+-------------+-------------+----+\n",
      "\n"
     ]
    }
   ],
   "execution_count": 19
  },
  {
   "metadata": {
    "ExecuteTime": {
     "end_time": "2025-02-27T18:59:48.387999Z",
     "start_time": "2025-02-27T18:59:46.887967Z"
    }
   },
   "cell_type": "code",
   "source": [
    "window = Window.partitionBy('APT_ICAO').orderBy(F.col('FLT_DATE').asc())\n",
    "\n",
    "df.withColumn(\n",
    "    'Running Sum',\n",
    "    F.sum('FLT_TOT_1').over(window)\n",
    ").show()"
   ],
   "id": "b284a87973dc315c",
   "outputs": [
    {
     "name": "stdout",
     "output_type": "stream",
     "text": [
      "+----+---------+---------+--------+--------+------------+----------+---------+---------+---------+-------------+-------------+-------------+-----------+\n",
      "|YEAR|MONTH_NUM|MONTH_MON|FLT_DATE|APT_ICAO|    APT_NAME|STATE_NAME|FLT_DEP_1|FLT_ARR_1|FLT_TOT_1|FLT_DEP_IFR_2|FLT_ARR_IFR_2|FLT_TOT_IFR_2|Running Sum|\n",
      "+----+---------+---------+--------+--------+------------+----------+---------+---------+---------+-------------+-------------+-------------+-----------+\n",
      "|2016|        1|      JAN|01-01-16|    EDDK|Cologne-Bonn|   Germany|       92|       90|      182|         NULL|         NULL|         NULL|        182|\n",
      "|2017|        1|      JAN|01-01-17|    EDDK|Cologne-Bonn|   Germany|       95|       97|      192|         NULL|         NULL|         NULL|        374|\n",
      "|2018|        1|      JAN|01-01-18|    EDDK|Cologne-Bonn|   Germany|      108|      110|      218|          108|          107|          215|        592|\n",
      "|2019|        1|      JAN|01-01-19|    EDDK|Cologne-Bonn|   Germany|       97|       99|      196|           98|          101|          199|        788|\n",
      "|2020|        1|      JAN|01-01-20|    EDDK|Cologne-Bonn|   Germany|       90|       89|      179|           89|           91|          180|        967|\n",
      "|2021|        1|      JAN|01-01-21|    EDDK|Cologne-Bonn|   Germany|       26|       26|       52|           27|           27|           54|       1019|\n",
      "|2022|        1|      JAN|01-01-22|    EDDK|Cologne-Bonn|   Germany|       60|       54|      114|           62|           55|          117|       1133|\n",
      "|2023|        1|      JAN|01-01-23|    EDDK|Cologne-Bonn|   Germany|       70|       79|      149|           71|           80|          151|       1282|\n",
      "|2024|        1|      JAN|01-01-24|    EDDK|Cologne-Bonn|   Germany|       70|       71|      141|           72|           72|          144|       1423|\n",
      "|2016|        2|      FEB|01-02-16|    EDDK|Cologne-Bonn|   Germany|      166|      160|      326|         NULL|         NULL|         NULL|       1749|\n",
      "|2017|        2|      FEB|01-02-17|    EDDK|Cologne-Bonn|   Germany|      177|      175|      352|         NULL|         NULL|         NULL|       2101|\n",
      "|2018|        2|      FEB|01-02-18|    EDDK|Cologne-Bonn|   Germany|      181|      185|      366|          181|          179|          360|       2467|\n",
      "|2019|        2|      FEB|01-02-19|    EDDK|Cologne-Bonn|   Germany|      201|      201|      402|          202|          199|          401|       2869|\n",
      "|2020|        2|      FEB|01-02-20|    EDDK|Cologne-Bonn|   Germany|      100|       92|      192|          101|           88|          189|       3061|\n",
      "|2021|        2|      FEB|01-02-21|    EDDK|Cologne-Bonn|   Germany|       81|       82|      163|           84|           80|          164|       3224|\n",
      "|2022|        2|      FEB|01-02-22|    EDDK|Cologne-Bonn|   Germany|      132|      137|      269|          129|          134|          263|       3493|\n",
      "|2023|        2|      FEB|01-02-23|    EDDK|Cologne-Bonn|   Germany|      134|      140|      274|          134|          139|          273|       3767|\n",
      "|2024|        2|      FEB|01-02-24|    EDDK|Cologne-Bonn|   Germany|       78|       90|      168|           76|           84|          160|       3935|\n",
      "|2016|        3|      MAR|01-03-16|    EDDK|Cologne-Bonn|   Germany|      178|      186|      364|         NULL|         NULL|         NULL|       4299|\n",
      "|2017|        3|      MAR|01-03-17|    EDDK|Cologne-Bonn|   Germany|      183|      182|      365|         NULL|         NULL|         NULL|       4664|\n",
      "+----+---------+---------+--------+--------+------------+----------+---------+---------+---------+-------------+-------------+-------------+-----------+\n",
      "only showing top 20 rows\n",
      "\n"
     ]
    }
   ],
   "execution_count": 20
  },
  {
   "metadata": {
    "ExecuteTime": {
     "end_time": "2025-02-27T18:59:49.901268Z",
     "start_time": "2025-02-27T18:59:48.397670Z"
    }
   },
   "cell_type": "code",
   "source": [
    "spark.sql(\"\"\"\n",
    "    SELECT\n",
    "        *,\n",
    "        sum(FLT_TOT_1) OVER (\n",
    "            PARTITION BY APT_ICAO\n",
    "            ORDER BY FLT_DATE\n",
    "        )\n",
    "    FROM\n",
    "        airport_traffic\n",
    "\"\"\").show()"
   ],
   "id": "410e3387d3a10512",
   "outputs": [
    {
     "name": "stdout",
     "output_type": "stream",
     "text": [
      "+----+---------+---------+--------+--------+------------+----------+---------+---------+---------+-------------+-------------+-------------+-------------------------------------------------------------------------------------------------------------------------------+\n",
      "|YEAR|MONTH_NUM|MONTH_MON|FLT_DATE|APT_ICAO|    APT_NAME|STATE_NAME|FLT_DEP_1|FLT_ARR_1|FLT_TOT_1|FLT_DEP_IFR_2|FLT_ARR_IFR_2|FLT_TOT_IFR_2|sum(FLT_TOT_1) OVER (PARTITION BY APT_ICAO ORDER BY FLT_DATE ASC NULLS FIRST RANGE BETWEEN UNBOUNDED PRECEDING AND CURRENT ROW)|\n",
      "+----+---------+---------+--------+--------+------------+----------+---------+---------+---------+-------------+-------------+-------------+-------------------------------------------------------------------------------------------------------------------------------+\n",
      "|2016|        1|      JAN|01-01-16|    EDDK|Cologne-Bonn|   Germany|       92|       90|      182|         NULL|         NULL|         NULL|                                                                                                                            182|\n",
      "|2017|        1|      JAN|01-01-17|    EDDK|Cologne-Bonn|   Germany|       95|       97|      192|         NULL|         NULL|         NULL|                                                                                                                            374|\n",
      "|2018|        1|      JAN|01-01-18|    EDDK|Cologne-Bonn|   Germany|      108|      110|      218|          108|          107|          215|                                                                                                                            592|\n",
      "|2019|        1|      JAN|01-01-19|    EDDK|Cologne-Bonn|   Germany|       97|       99|      196|           98|          101|          199|                                                                                                                            788|\n",
      "|2020|        1|      JAN|01-01-20|    EDDK|Cologne-Bonn|   Germany|       90|       89|      179|           89|           91|          180|                                                                                                                            967|\n",
      "|2021|        1|      JAN|01-01-21|    EDDK|Cologne-Bonn|   Germany|       26|       26|       52|           27|           27|           54|                                                                                                                           1019|\n",
      "|2022|        1|      JAN|01-01-22|    EDDK|Cologne-Bonn|   Germany|       60|       54|      114|           62|           55|          117|                                                                                                                           1133|\n",
      "|2023|        1|      JAN|01-01-23|    EDDK|Cologne-Bonn|   Germany|       70|       79|      149|           71|           80|          151|                                                                                                                           1282|\n",
      "|2024|        1|      JAN|01-01-24|    EDDK|Cologne-Bonn|   Germany|       70|       71|      141|           72|           72|          144|                                                                                                                           1423|\n",
      "|2016|        2|      FEB|01-02-16|    EDDK|Cologne-Bonn|   Germany|      166|      160|      326|         NULL|         NULL|         NULL|                                                                                                                           1749|\n",
      "|2017|        2|      FEB|01-02-17|    EDDK|Cologne-Bonn|   Germany|      177|      175|      352|         NULL|         NULL|         NULL|                                                                                                                           2101|\n",
      "|2018|        2|      FEB|01-02-18|    EDDK|Cologne-Bonn|   Germany|      181|      185|      366|          181|          179|          360|                                                                                                                           2467|\n",
      "|2019|        2|      FEB|01-02-19|    EDDK|Cologne-Bonn|   Germany|      201|      201|      402|          202|          199|          401|                                                                                                                           2869|\n",
      "|2020|        2|      FEB|01-02-20|    EDDK|Cologne-Bonn|   Germany|      100|       92|      192|          101|           88|          189|                                                                                                                           3061|\n",
      "|2021|        2|      FEB|01-02-21|    EDDK|Cologne-Bonn|   Germany|       81|       82|      163|           84|           80|          164|                                                                                                                           3224|\n",
      "|2022|        2|      FEB|01-02-22|    EDDK|Cologne-Bonn|   Germany|      132|      137|      269|          129|          134|          263|                                                                                                                           3493|\n",
      "|2023|        2|      FEB|01-02-23|    EDDK|Cologne-Bonn|   Germany|      134|      140|      274|          134|          139|          273|                                                                                                                           3767|\n",
      "|2024|        2|      FEB|01-02-24|    EDDK|Cologne-Bonn|   Germany|       78|       90|      168|           76|           84|          160|                                                                                                                           3935|\n",
      "|2016|        3|      MAR|01-03-16|    EDDK|Cologne-Bonn|   Germany|      178|      186|      364|         NULL|         NULL|         NULL|                                                                                                                           4299|\n",
      "|2017|        3|      MAR|01-03-17|    EDDK|Cologne-Bonn|   Germany|      183|      182|      365|         NULL|         NULL|         NULL|                                                                                                                           4664|\n",
      "+----+---------+---------+--------+--------+------------+----------+---------+---------+---------+-------------+-------------+-------------+-------------------------------------------------------------------------------------------------------------------------------+\n",
      "only showing top 20 rows\n",
      "\n"
     ]
    }
   ],
   "execution_count": 21
  },
  {
   "metadata": {},
   "cell_type": "markdown",
   "source": "# Calculate a 3-day moving average of FLT_TOT_1 for each airport (APT_ICAO), ordered by FLT_DATE. Handle potential gaps in dates gracefully.",
   "id": "4dd5af07e619e3bb"
  },
  {
   "metadata": {
    "ExecuteTime": {
     "end_time": "2025-02-27T18:59:51.577454Z",
     "start_time": "2025-02-27T18:59:49.910785Z"
    }
   },
   "cell_type": "code",
   "source": [
    "window = Window.partitionBy('APT_ICAO').orderBy('FLT_DATE').rowsBetween(-2, 0)\n",
    "\n",
    "df.withColumn(\n",
    "    'moving_avg_3day',\n",
    "    F.avg('FLT_TOT_1').over(window)\n",
    ").orderBy('APT_ICAO', 'FLT_DATE').show()"
   ],
   "id": "2dd671410a861290",
   "outputs": [
    {
     "name": "stdout",
     "output_type": "stream",
     "text": [
      "+----+---------+---------+--------+--------+--------+----------+---------+---------+---------+-------------+-------------+-------------+------------------+\n",
      "|YEAR|MONTH_NUM|MONTH_MON|FLT_DATE|APT_ICAO|APT_NAME|STATE_NAME|FLT_DEP_1|FLT_ARR_1|FLT_TOT_1|FLT_DEP_IFR_2|FLT_ARR_IFR_2|FLT_TOT_IFR_2|   moving_avg_3day|\n",
      "+----+---------+---------+--------+--------+--------+----------+---------+---------+---------+-------------+-------------+-------------+------------------+\n",
      "|2024|        1|      JAN|01-01-24|    BIKF|Keflavik|   Iceland|       76|       62|      138|         NULL|         NULL|         NULL|             138.0|\n",
      "|2024|        2|      FEB|01-02-24|    BIKF|Keflavik|   Iceland|       62|       72|      134|         NULL|         NULL|         NULL|             136.0|\n",
      "|2024|        3|      MAR|01-03-24|    BIKF|Keflavik|   Iceland|       76|       73|      149|         NULL|         NULL|         NULL|140.33333333333334|\n",
      "|2024|        4|      APR|01-04-24|    BIKF|Keflavik|   Iceland|       87|       80|      167|         NULL|         NULL|         NULL|             150.0|\n",
      "|2024|        5|      MAY|01-05-24|    BIKF|Keflavik|   Iceland|       79|       85|      164|         NULL|         NULL|         NULL|             160.0|\n",
      "|2024|        6|      JUN|01-06-24|    BIKF|Keflavik|   Iceland|       98|      100|      198|         NULL|         NULL|         NULL|176.33333333333334|\n",
      "|2024|        7|      JUL|01-07-24|    BIKF|Keflavik|   Iceland|      118|      118|      236|         NULL|         NULL|         NULL|199.33333333333334|\n",
      "|2024|        8|      AUG|01-08-24|    BIKF|Keflavik|   Iceland|      117|      115|      232|         NULL|         NULL|         NULL|             222.0|\n",
      "|2024|        9|      SEP|01-09-24|    BIKF|Keflavik|   Iceland|      115|      120|      235|         NULL|         NULL|         NULL|234.33333333333334|\n",
      "|2024|       10|      OCT|01-10-24|    BIKF|Keflavik|   Iceland|       93|       92|      185|         NULL|         NULL|         NULL|217.33333333333334|\n",
      "|2024|       11|      NOV|01-11-24|    BIKF|Keflavik|   Iceland|       83|       83|      166|         NULL|         NULL|         NULL|195.33333333333334|\n",
      "|2024|       12|      DEC|01-12-24|    BIKF|Keflavik|   Iceland|       76|       77|      153|         NULL|         NULL|         NULL|             168.0|\n",
      "|2024|        1|      JAN|02-01-24|    BIKF|Keflavik|   Iceland|       86|       86|      172|         NULL|         NULL|         NULL|163.66666666666666|\n",
      "|2024|        2|      FEB|02-02-24|    BIKF|Keflavik|   Iceland|       47|       53|      100|         NULL|         NULL|         NULL|141.66666666666666|\n",
      "|2024|        3|      MAR|02-03-24|    BIKF|Keflavik|   Iceland|       73|       76|      149|         NULL|         NULL|         NULL|140.33333333333334|\n",
      "|2024|        4|      APR|02-04-24|    BIKF|Keflavik|   Iceland|       75|       84|      159|         NULL|         NULL|         NULL|             136.0|\n",
      "|2024|        5|      MAY|02-05-24|    BIKF|Keflavik|   Iceland|       81|       79|      160|         NULL|         NULL|         NULL|             156.0|\n",
      "|2024|        6|      JUN|02-06-24|    BIKF|Keflavik|   Iceland|      102|      100|      202|         NULL|         NULL|         NULL|173.66666666666666|\n",
      "|2024|        7|      JUL|02-07-24|    BIKF|Keflavik|   Iceland|      114|      111|      225|         NULL|         NULL|         NULL|195.66666666666666|\n",
      "|2024|        8|      AUG|02-08-24|    BIKF|Keflavik|   Iceland|      123|      130|      253|         NULL|         NULL|         NULL|226.66666666666666|\n",
      "+----+---------+---------+--------+--------+--------+----------+---------+---------+---------+-------------+-------------+-------------+------------------+\n",
      "only showing top 20 rows\n",
      "\n"
     ]
    }
   ],
   "execution_count": 22
  },
  {
   "metadata": {
    "ExecuteTime": {
     "end_time": "2025-02-27T18:59:53.302896Z",
     "start_time": "2025-02-27T18:59:51.605288Z"
    }
   },
   "cell_type": "code",
   "source": [
    "spark.sql(\"\"\"\n",
    "    SELECT\n",
    "        APT_ICAO,\n",
    "        FLT_DATE,\n",
    "        FLT_TOT_1,\n",
    "        avg(FLT_TOT_1) OVER (\n",
    "            PARTITION BY APT_ICAO\n",
    "            ORDER BY FLT_DATE\n",
    "            ROWS BETWEEN 2 PRECEDING AND CURRENT ROW\n",
    "        ) AS moving_avg_3day\n",
    "    FROM\n",
    "        airport_traffic\n",
    "    ORDER BY\n",
    "        APT_ICAO, FLT_DATE\n",
    "\"\"\").show()"
   ],
   "id": "4df0ec85a4daca51",
   "outputs": [
    {
     "name": "stdout",
     "output_type": "stream",
     "text": [
      "+--------+--------+---------+------------------+\n",
      "|APT_ICAO|FLT_DATE|FLT_TOT_1|   moving_avg_3day|\n",
      "+--------+--------+---------+------------------+\n",
      "|    BIKF|01-01-24|      138|             138.0|\n",
      "|    BIKF|01-02-24|      134|             136.0|\n",
      "|    BIKF|01-03-24|      149|140.33333333333334|\n",
      "|    BIKF|01-04-24|      167|             150.0|\n",
      "|    BIKF|01-05-24|      164|             160.0|\n",
      "|    BIKF|01-06-24|      198|176.33333333333334|\n",
      "|    BIKF|01-07-24|      236|199.33333333333334|\n",
      "|    BIKF|01-08-24|      232|             222.0|\n",
      "|    BIKF|01-09-24|      235|234.33333333333334|\n",
      "|    BIKF|01-10-24|      185|217.33333333333334|\n",
      "|    BIKF|01-11-24|      166|195.33333333333334|\n",
      "|    BIKF|01-12-24|      153|             168.0|\n",
      "|    BIKF|02-01-24|      172|163.66666666666666|\n",
      "|    BIKF|02-02-24|      100|141.66666666666666|\n",
      "|    BIKF|02-03-24|      149|140.33333333333334|\n",
      "|    BIKF|02-04-24|      159|             136.0|\n",
      "|    BIKF|02-05-24|      160|             156.0|\n",
      "|    BIKF|02-06-24|      202|173.66666666666666|\n",
      "|    BIKF|02-07-24|      225|195.66666666666666|\n",
      "|    BIKF|02-08-24|      253|226.66666666666666|\n",
      "+--------+--------+---------+------------------+\n",
      "only showing top 20 rows\n",
      "\n"
     ]
    }
   ],
   "execution_count": 23
  },
  {
   "metadata": {
    "ExecuteTime": {
     "end_time": "2025-02-27T18:59:53.629764Z",
     "start_time": "2025-02-27T18:59:53.327936Z"
    }
   },
   "cell_type": "code",
   "source": [
    "window = Window.orderBy(F.lit(1))\n",
    "\n",
    "df.withColumn(\n",
    "    'row_number',\n",
    "    F.row_number().over(window)\n",
    ").show()"
   ],
   "id": "d9335435d53c9d44",
   "outputs": [
    {
     "name": "stdout",
     "output_type": "stream",
     "text": [
      "+----+---------+---------+--------+--------+-------------+--------------------+---------+---------+---------+-------------+-------------+-------------+----------+\n",
      "|YEAR|MONTH_NUM|MONTH_MON|FLT_DATE|APT_ICAO|     APT_NAME|          STATE_NAME|FLT_DEP_1|FLT_ARR_1|FLT_TOT_1|FLT_DEP_IFR_2|FLT_ARR_IFR_2|FLT_TOT_IFR_2|row_number|\n",
      "+----+---------+---------+--------+--------+-------------+--------------------+---------+---------+---------+-------------+-------------+-------------+----------+\n",
      "|2016|        1|      JAN|01-01-16|    LATI|       Tirana|             Albania|       24|       27|       51|         NULL|         NULL|         NULL|         1|\n",
      "|2016|        1|      JAN|01-01-16|    UDYZ|      Yerevan|             Armenia|        8|       15|       23|         NULL|         NULL|         NULL|         2|\n",
      "|2016|        1|      JAN|01-01-16|    LOWG|         Graz|             Austria|        6|        7|       13|         NULL|         NULL|         NULL|         3|\n",
      "|2016|        1|      JAN|01-01-16|    LOWI|    Innsbruck|             Austria|       26|       32|       58|         NULL|         NULL|         NULL|         4|\n",
      "|2016|        1|      JAN|01-01-16|    LOWK|   Klagenfurt|             Austria|        3|        4|        7|         NULL|         NULL|         NULL|         5|\n",
      "|2016|        1|      JAN|01-01-16|    LOWL|         Linz|             Austria|        3|        5|        8|         NULL|         NULL|         NULL|         6|\n",
      "|2016|        1|      JAN|01-01-16|    LOWS|     Salzburg|             Austria|       23|       26|       49|         NULL|         NULL|         NULL|         7|\n",
      "|2016|        1|      JAN|01-01-16|    LOWW|       Vienna|             Austria|      210|      176|      386|          210|          179|          389|         8|\n",
      "|2016|        1|      JAN|01-01-16|    EBAW|      Antwerp|             Belgium|        4|        3|        7|         NULL|         NULL|         NULL|         9|\n",
      "|2016|        1|      JAN|01-01-16|    EBBR|     Brussels|             Belgium|      174|      171|      345|          174|          161|          335|        10|\n",
      "|2016|        1|      JAN|01-01-16|    EBCI|    Charleroi|             Belgium|       45|       47|       92|           45|           45|           90|        11|\n",
      "|2016|        1|      JAN|01-01-16|    EBLG|        Liège|             Belgium|        6|        7|       13|         NULL|         NULL|         NULL|        12|\n",
      "|2016|        1|      JAN|01-01-16|    EBOS|Ostend-Bruges|             Belgium|        7|        7|       14|         NULL|         NULL|         NULL|        13|\n",
      "|2016|        1|      JAN|01-01-16|    LQSA|     Sarajevo|Bosnia and Herzeg...|        5|        6|       11|         NULL|         NULL|         NULL|        14|\n",
      "|2016|        1|      JAN|01-01-16|    LBSF|        Sofia|            Bulgaria|       26|       26|       52|           26|           24|           50|        15|\n",
      "|2016|        1|      JAN|01-01-16|    LDZA|       Zagreb|             Croatia|       24|       22|       46|         NULL|         NULL|         NULL|        16|\n",
      "|2016|        1|      JAN|01-01-16|    LCLK|      Larnaca|              Cyprus|       25|       27|       52|         NULL|         NULL|         NULL|        17|\n",
      "|2016|        1|      JAN|01-01-16|    LCPH|       Paphos|              Cyprus|        6|        6|       12|         NULL|         NULL|         NULL|        18|\n",
      "|2016|        1|      JAN|01-01-16|    LKMT|      Ostrava|      Czech Republic|        2|        3|        5|         NULL|         NULL|         NULL|        19|\n",
      "|2016|        1|      JAN|01-01-16|    LKPR|       Prague|      Czech Republic|      121|      118|      239|          120|          117|          237|        20|\n",
      "+----+---------+---------+--------+--------+-------------+--------------------+---------+---------+---------+-------------+-------------+-------------+----------+\n",
      "only showing top 20 rows\n",
      "\n"
     ]
    }
   ],
   "execution_count": 24
  },
  {
   "metadata": {
    "ExecuteTime": {
     "end_time": "2025-02-27T18:59:53.901355Z",
     "start_time": "2025-02-27T18:59:53.654097Z"
    }
   },
   "cell_type": "code",
   "source": [
    "spark.sql(\"\"\"\n",
    "    SELECT\n",
    "        *,\n",
    "        ROW_NUMBER() OVER (ORDER BY 1) AS row_number\n",
    "    FROM\n",
    "        airport_traffic\n",
    "\"\"\").show()"
   ],
   "id": "d4baf6f8bd783ef9",
   "outputs": [
    {
     "name": "stdout",
     "output_type": "stream",
     "text": [
      "+----+---------+---------+--------+--------+-------------+--------------------+---------+---------+---------+-------------+-------------+-------------+----------+\n",
      "|YEAR|MONTH_NUM|MONTH_MON|FLT_DATE|APT_ICAO|     APT_NAME|          STATE_NAME|FLT_DEP_1|FLT_ARR_1|FLT_TOT_1|FLT_DEP_IFR_2|FLT_ARR_IFR_2|FLT_TOT_IFR_2|row_number|\n",
      "+----+---------+---------+--------+--------+-------------+--------------------+---------+---------+---------+-------------+-------------+-------------+----------+\n",
      "|2016|        1|      JAN|01-01-16|    LATI|       Tirana|             Albania|       24|       27|       51|         NULL|         NULL|         NULL|         1|\n",
      "|2016|        1|      JAN|01-01-16|    UDYZ|      Yerevan|             Armenia|        8|       15|       23|         NULL|         NULL|         NULL|         2|\n",
      "|2016|        1|      JAN|01-01-16|    LOWG|         Graz|             Austria|        6|        7|       13|         NULL|         NULL|         NULL|         3|\n",
      "|2016|        1|      JAN|01-01-16|    LOWI|    Innsbruck|             Austria|       26|       32|       58|         NULL|         NULL|         NULL|         4|\n",
      "|2016|        1|      JAN|01-01-16|    LOWK|   Klagenfurt|             Austria|        3|        4|        7|         NULL|         NULL|         NULL|         5|\n",
      "|2016|        1|      JAN|01-01-16|    LOWL|         Linz|             Austria|        3|        5|        8|         NULL|         NULL|         NULL|         6|\n",
      "|2016|        1|      JAN|01-01-16|    LOWS|     Salzburg|             Austria|       23|       26|       49|         NULL|         NULL|         NULL|         7|\n",
      "|2016|        1|      JAN|01-01-16|    LOWW|       Vienna|             Austria|      210|      176|      386|          210|          179|          389|         8|\n",
      "|2016|        1|      JAN|01-01-16|    EBAW|      Antwerp|             Belgium|        4|        3|        7|         NULL|         NULL|         NULL|         9|\n",
      "|2016|        1|      JAN|01-01-16|    EBBR|     Brussels|             Belgium|      174|      171|      345|          174|          161|          335|        10|\n",
      "|2016|        1|      JAN|01-01-16|    EBCI|    Charleroi|             Belgium|       45|       47|       92|           45|           45|           90|        11|\n",
      "|2016|        1|      JAN|01-01-16|    EBLG|        Liège|             Belgium|        6|        7|       13|         NULL|         NULL|         NULL|        12|\n",
      "|2016|        1|      JAN|01-01-16|    EBOS|Ostend-Bruges|             Belgium|        7|        7|       14|         NULL|         NULL|         NULL|        13|\n",
      "|2016|        1|      JAN|01-01-16|    LQSA|     Sarajevo|Bosnia and Herzeg...|        5|        6|       11|         NULL|         NULL|         NULL|        14|\n",
      "|2016|        1|      JAN|01-01-16|    LBSF|        Sofia|            Bulgaria|       26|       26|       52|           26|           24|           50|        15|\n",
      "|2016|        1|      JAN|01-01-16|    LDZA|       Zagreb|             Croatia|       24|       22|       46|         NULL|         NULL|         NULL|        16|\n",
      "|2016|        1|      JAN|01-01-16|    LCLK|      Larnaca|              Cyprus|       25|       27|       52|         NULL|         NULL|         NULL|        17|\n",
      "|2016|        1|      JAN|01-01-16|    LCPH|       Paphos|              Cyprus|        6|        6|       12|         NULL|         NULL|         NULL|        18|\n",
      "|2016|        1|      JAN|01-01-16|    LKMT|      Ostrava|      Czech Republic|        2|        3|        5|         NULL|         NULL|         NULL|        19|\n",
      "|2016|        1|      JAN|01-01-16|    LKPR|       Prague|      Czech Republic|      121|      118|      239|          120|          117|          237|        20|\n",
      "+----+---------+---------+--------+--------+-------------+--------------------+---------+---------+---------+-------------+-------------+-------------+----------+\n",
      "only showing top 20 rows\n",
      "\n"
     ]
    }
   ],
   "execution_count": 25
  },
  {
   "metadata": {
    "ExecuteTime": {
     "end_time": "2025-02-27T18:59:55.601310Z",
     "start_time": "2025-02-27T18:59:53.912450Z"
    }
   },
   "cell_type": "code",
   "source": [
    "window = Window.partitionBy('APT_NAME').orderBy(F.col('FLT_TOT_1').desc())\n",
    "\n",
    "df.withColumn(\n",
    "    'total_flights_rank',\n",
    "    F.rank().over(window)\n",
    ").show()"
   ],
   "id": "a8c68fbd3fb5fd7",
   "outputs": [
    {
     "name": "stdout",
     "output_type": "stream",
     "text": [
      "+----+---------+---------+--------+--------+--------+----------+---------+---------+---------+-------------+-------------+-------------+------------------+\n",
      "|YEAR|MONTH_NUM|MONTH_MON|FLT_DATE|APT_ICAO|APT_NAME|STATE_NAME|FLT_DEP_1|FLT_ARR_1|FLT_TOT_1|FLT_DEP_IFR_2|FLT_ARR_IFR_2|FLT_TOT_IFR_2|total_flights_rank|\n",
      "+----+---------+---------+--------+--------+--------+----------+---------+---------+---------+-------------+-------------+-------------+------------------+\n",
      "|2016|        3|      MAR|31-03-16|    EBAW| Antwerp|   Belgium|       48|       52|      100|         NULL|         NULL|         NULL|                 1|\n",
      "|2016|        4|      APR|04-04-16|    EBAW| Antwerp|   Belgium|       49|       47|       96|         NULL|         NULL|         NULL|                 2|\n",
      "|2018|        4|      APR|17-04-18|    EBAW| Antwerp|   Belgium|       50|       45|       95|         NULL|         NULL|         NULL|                 3|\n",
      "|2016|        3|      MAR|24-03-16|    EBAW| Antwerp|   Belgium|       45|       48|       93|         NULL|         NULL|         NULL|                 4|\n",
      "|2016|        3|      MAR|30-03-16|    EBAW| Antwerp|   Belgium|       49|       44|       93|         NULL|         NULL|         NULL|                 4|\n",
      "|2016|        3|      MAR|29-03-16|    EBAW| Antwerp|   Belgium|       45|       47|       92|         NULL|         NULL|         NULL|                 6|\n",
      "|2016|        4|      APR|01-04-16|    EBAW| Antwerp|   Belgium|       47|       45|       92|         NULL|         NULL|         NULL|                 6|\n",
      "|2016|        5|      MAY|17-05-16|    EBAW| Antwerp|   Belgium|       45|       46|       91|         NULL|         NULL|         NULL|                 8|\n",
      "|2018|        6|      JUN|29-06-18|    EBAW| Antwerp|   Belgium|       44|       46|       90|         NULL|         NULL|         NULL|                 9|\n",
      "|2016|        2|      FEB|05-02-16|    EBAW| Antwerp|   Belgium|       42|       42|       84|         NULL|         NULL|         NULL|                10|\n",
      "|2016|        4|      APR|02-04-16|    EBAW| Antwerp|   Belgium|       42|       39|       81|         NULL|         NULL|         NULL|                11|\n",
      "|2016|        6|      JUN|09-06-16|    EBAW| Antwerp|   Belgium|       39|       42|       81|         NULL|         NULL|         NULL|                11|\n",
      "|2017|        5|      MAY|24-05-17|    EBAW| Antwerp|   Belgium|       47|       34|       81|         NULL|         NULL|         NULL|                11|\n",
      "|2018|        6|      JUN|27-06-18|    EBAW| Antwerp|   Belgium|       41|       40|       81|         NULL|         NULL|         NULL|                11|\n",
      "|2018|        6|      JUN|05-06-18|    EBAW| Antwerp|   Belgium|       43|       37|       80|         NULL|         NULL|         NULL|                15|\n",
      "|2018|        3|      MAR|29-03-18|    EBAW| Antwerp|   Belgium|       41|       37|       78|         NULL|         NULL|         NULL|                16|\n",
      "|2016|        4|      APR|21-04-16|    EBAW| Antwerp|   Belgium|       40|       37|       77|         NULL|         NULL|         NULL|                17|\n",
      "|2016|        5|      MAY|12-05-16|    EBAW| Antwerp|   Belgium|       40|       37|       77|         NULL|         NULL|         NULL|                17|\n",
      "|2016|        6|      JUN|10-06-16|    EBAW| Antwerp|   Belgium|       40|       37|       77|         NULL|         NULL|         NULL|                17|\n",
      "|2018|        8|      AUG|06-08-18|    EBAW| Antwerp|   Belgium|       38|       39|       77|         NULL|         NULL|         NULL|                17|\n",
      "+----+---------+---------+--------+--------+--------+----------+---------+---------+---------+-------------+-------------+-------------+------------------+\n",
      "only showing top 20 rows\n",
      "\n"
     ]
    }
   ],
   "execution_count": 26
  },
  {
   "metadata": {
    "ExecuteTime": {
     "end_time": "2025-02-27T18:59:56.654587Z",
     "start_time": "2025-02-27T18:59:55.613834Z"
    }
   },
   "cell_type": "code",
   "source": [
    "window = Window.orderBy(F.col('FLT_TOT_1').desc())\n",
    "\n",
    "df \\\n",
    ".withColumn('total_flights_rank', F.rank().over(window)) \\\n",
    ".withColumn('total_flights_dense_rank', F.dense_rank().over(window)) \\\n",
    ".select('APT_NAME', 'FLT_TOT_1', 'total_flights_rank', 'total_flights_dense_rank') \\\n",
    ".orderBy('total_flights_rank') \\\n",
    ".show(20)"
   ],
   "id": "e890018170cfb04f",
   "outputs": [
    {
     "name": "stdout",
     "output_type": "stream",
     "text": [
      "+--------------------+---------+------------------+------------------------+\n",
      "|            APT_NAME|FLT_TOT_1|total_flights_rank|total_flights_dense_rank|\n",
      "+--------------------+---------+------------------+------------------------+\n",
      "|iGA Istanbul Airport|     1687|                 1|                       1|\n",
      "|iGA Istanbul Airport|     1646|                 2|                       2|\n",
      "|           Frankfurt|     1628|                 3|                       3|\n",
      "|Paris-Charles-de-...|     1616|                 4|                       4|\n",
      "|            Istanbul|     1612|                 5|                       5|\n",
      "|           Frankfurt|     1610|                 6|                       6|\n",
      "|Paris-Charles-de-...|     1607|                 7|                       7|\n",
      "|           Frankfurt|     1602|                 8|                       8|\n",
      "|    Madrid - Barajas|     1600|                 9|                       9|\n",
      "|Amsterdam - Schiphol|     1599|                10|                      10|\n",
      "|Amsterdam - Schiphol|     1597|                11|                      11|\n",
      "|Amsterdam - Schiphol|     1596|                12|                      12|\n",
      "|Paris-Charles-de-...|     1596|                12|                      12|\n",
      "|Amsterdam - Schiphol|     1595|                14|                      13|\n",
      "|           Frankfurt|     1595|                14|                      13|\n",
      "|           Frankfurt|     1595|                14|                      13|\n",
      "|Amsterdam - Schiphol|     1592|                17|                      14|\n",
      "|Paris-Charles-de-...|     1592|                17|                      14|\n",
      "|Amsterdam - Schiphol|     1590|                19|                      15|\n",
      "|Amsterdam - Schiphol|     1590|                19|                      15|\n",
      "+--------------------+---------+------------------+------------------------+\n",
      "only showing top 20 rows\n",
      "\n"
     ]
    }
   ],
   "execution_count": 27
  },
  {
   "metadata": {
    "ExecuteTime": {
     "end_time": "2025-02-27T18:59:57.026310Z",
     "start_time": "2025-02-27T18:59:56.664318Z"
    }
   },
   "cell_type": "code",
   "source": [
    "spark.sql(\"\"\"\n",
    "WITH airport_traffic AS (\n",
    "    SELECT\n",
    "        *,\n",
    "        dense_rank() OVER(\n",
    "            ORDER BY FLT_TOT_1 DESC\n",
    "        ) AS total_flights_dense_rank,\n",
    "        rank() OVER(\n",
    "            ORDER BY FLT_TOT_1 DESC\n",
    "        ) AS total_flights_rank\n",
    "    FROM\n",
    "        airport_traffic)\n",
    "    SELECT\n",
    "        APT_NAME,\n",
    "        FLT_TOT_1,\n",
    "        total_flights_rank,\n",
    "        total_flights_dense_rank\n",
    "    FROM\n",
    "        airport_traffic\n",
    "\"\"\").show()"
   ],
   "id": "5cf2dc159722a086",
   "outputs": [
    {
     "name": "stdout",
     "output_type": "stream",
     "text": [
      "+--------------------+---------+------------------+------------------------+\n",
      "|            APT_NAME|FLT_TOT_1|total_flights_rank|total_flights_dense_rank|\n",
      "+--------------------+---------+------------------+------------------------+\n",
      "|iGA Istanbul Airport|     1687|                 1|                       1|\n",
      "|iGA Istanbul Airport|     1646|                 2|                       2|\n",
      "|           Frankfurt|     1628|                 3|                       3|\n",
      "|Paris-Charles-de-...|     1616|                 4|                       4|\n",
      "|            Istanbul|     1612|                 5|                       5|\n",
      "|           Frankfurt|     1610|                 6|                       6|\n",
      "|Paris-Charles-de-...|     1607|                 7|                       7|\n",
      "|           Frankfurt|     1602|                 8|                       8|\n",
      "|    Madrid - Barajas|     1600|                 9|                       9|\n",
      "|Amsterdam - Schiphol|     1599|                10|                      10|\n",
      "|Amsterdam - Schiphol|     1597|                11|                      11|\n",
      "|Amsterdam - Schiphol|     1596|                12|                      12|\n",
      "|Paris-Charles-de-...|     1596|                12|                      12|\n",
      "|Amsterdam - Schiphol|     1595|                14|                      13|\n",
      "|           Frankfurt|     1595|                14|                      13|\n",
      "|           Frankfurt|     1595|                14|                      13|\n",
      "|Amsterdam - Schiphol|     1592|                17|                      14|\n",
      "|Paris-Charles-de-...|     1592|                17|                      14|\n",
      "|Amsterdam - Schiphol|     1590|                19|                      15|\n",
      "|Amsterdam - Schiphol|     1590|                19|                      15|\n",
      "+--------------------+---------+------------------+------------------------+\n",
      "only showing top 20 rows\n",
      "\n"
     ]
    }
   ],
   "execution_count": 28
  },
  {
   "metadata": {
    "ExecuteTime": {
     "end_time": "2025-02-27T18:59:57.622387Z",
     "start_time": "2025-02-27T18:59:57.034332Z"
    }
   },
   "cell_type": "code",
   "source": [
    "window = Window.partitionBy('YEAR').orderBy(F.col('FLT_TOT_1').desc())\n",
    "\n",
    "df.withColumn(\n",
    "    'rank_within_year',\n",
    "    F.rank().over(window)\n",
    ").withColumn(\n",
    "    'dense_rank_within_year',\n",
    "    F.dense_rank().over(window)\n",
    ").select(\n",
    "    'YEAR', 'rank_within_year', 'dense_rank_within_year'\n",
    ").show()"
   ],
   "id": "2bc5cc54f000b8f6",
   "outputs": [
    {
     "name": "stdout",
     "output_type": "stream",
     "text": [
      "+----+----------------+----------------------+\n",
      "|YEAR|rank_within_year|dense_rank_within_year|\n",
      "+----+----------------+----------------------+\n",
      "|2018|               1|                     1|\n",
      "|2018|               2|                     2|\n",
      "|2018|               2|                     2|\n",
      "|2018|               2|                     2|\n",
      "|2018|               2|                     2|\n",
      "|2018|               6|                     3|\n",
      "|2018|               7|                     4|\n",
      "|2018|               7|                     4|\n",
      "|2018|               9|                     5|\n",
      "|2018|               9|                     5|\n",
      "|2018|              11|                     6|\n",
      "|2018|              12|                     7|\n",
      "|2018|              12|                     7|\n",
      "|2018|              12|                     7|\n",
      "|2018|              15|                     8|\n",
      "|2018|              15|                     8|\n",
      "|2018|              17|                     9|\n",
      "|2018|              17|                     9|\n",
      "|2018|              17|                     9|\n",
      "|2018|              17|                     9|\n",
      "+----+----------------+----------------------+\n",
      "only showing top 20 rows\n",
      "\n"
     ]
    }
   ],
   "execution_count": 29
  },
  {
   "metadata": {
    "ExecuteTime": {
     "end_time": "2025-02-27T18:59:59.045590Z",
     "start_time": "2025-02-27T18:59:57.631685Z"
    }
   },
   "cell_type": "code",
   "source": [
    "window = Window.partitionBy('APT_NAME').orderBy('YEAR', 'MONTH_NUM')\n",
    "\n",
    "(df.withColumn(\n",
    "    'prev_month_flights',\n",
    "    F.lag('FLT_TOT_1').over(window)\n",
    ").select(\n",
    "    'APT_NAME', 'YEAR', 'MONTH_NUM', 'FLT_TOT_1', 'prev_month_flights'\n",
    ").orderBy(\n",
    "    'APT_NAME', 'YEAR', 'MONTH_NUM'\n",
    ").show())"
   ],
   "id": "abd6e3d88bcc4d5e",
   "outputs": [
    {
     "name": "stdout",
     "output_type": "stream",
     "text": [
      "+--------+----+---------+---------+------------------+\n",
      "|APT_NAME|YEAR|MONTH_NUM|FLT_TOT_1|prev_month_flights|\n",
      "+--------+----+---------+---------+------------------+\n",
      "|    Abad|2016|        1|        4|              NULL|\n",
      "|    Abad|2016|        1|        2|                 4|\n",
      "|    Abad|2016|        1|        2|                 2|\n",
      "|    Abad|2016|        1|        2|                 2|\n",
      "|    Abad|2016|        1|        1|                 2|\n",
      "|    Abad|2016|        1|        2|                 1|\n",
      "|    Abad|2016|        1|        3|                 2|\n",
      "|    Abad|2016|        1|        8|                 3|\n",
      "|    Abad|2016|        1|        2|                 8|\n",
      "|    Abad|2016|        1|        1|                 2|\n",
      "|    Abad|2016|        1|        1|                 1|\n",
      "|    Abad|2016|        1|        2|                 1|\n",
      "|    Abad|2016|        1|        2|                 2|\n",
      "|    Abad|2016|        1|        1|                 2|\n",
      "|    Abad|2016|        1|        5|                 1|\n",
      "|    Abad|2016|        1|        1|                 5|\n",
      "|    Abad|2016|        2|        4|                 1|\n",
      "|    Abad|2016|        2|        1|                 4|\n",
      "|    Abad|2016|        2|        2|                 1|\n",
      "|    Abad|2016|        2|        4|                 2|\n",
      "+--------+----+---------+---------+------------------+\n",
      "only showing top 20 rows\n",
      "\n"
     ]
    }
   ],
   "execution_count": 30
  },
  {
   "metadata": {
    "ExecuteTime": {
     "end_time": "2025-02-27T19:00:00.823669Z",
     "start_time": "2025-02-27T18:59:59.055355Z"
    }
   },
   "cell_type": "code",
   "source": [
    "spark.sql(\"\"\"\n",
    "WITH airport_traffic AS (\n",
    "    SELECT\n",
    "        *,\n",
    "        LAG(FLT_TOT_1) OVER (\n",
    "        PARTITION BY APT_NAME\n",
    "        ORDER BY MONTH_NUM) AS prev_month_flights\n",
    "    FROM\n",
    "        airport_traffic\n",
    "    )\n",
    "    SELECT\n",
    "        APT_NAME,\n",
    "        YEAR,\n",
    "        MONTH_NUM,\n",
    "        FLT_TOT_1,\n",
    "        prev_month_flights\n",
    "    FROM\n",
    "        airport_traffic\n",
    "    ORDER BY\n",
    "        APT_NAME, YEAR, MONTH_NUM\n",
    "\"\"\").show()"
   ],
   "id": "859963b3f908e725",
   "outputs": [
    {
     "name": "stdout",
     "output_type": "stream",
     "text": [
      "+--------+----+---------+---------+------------------+\n",
      "|APT_NAME|YEAR|MONTH_NUM|FLT_TOT_1|prev_month_flights|\n",
      "+--------+----+---------+---------+------------------+\n",
      "|    Abad|2016|        1|        4|              NULL|\n",
      "|    Abad|2016|        1|        2|                 4|\n",
      "|    Abad|2016|        1|        2|                 2|\n",
      "|    Abad|2016|        1|        2|                 2|\n",
      "|    Abad|2016|        1|        1|                 2|\n",
      "|    Abad|2016|        1|        2|                 1|\n",
      "|    Abad|2016|        1|        3|                 2|\n",
      "|    Abad|2016|        1|        8|                 3|\n",
      "|    Abad|2016|        1|        2|                 8|\n",
      "|    Abad|2016|        1|        1|                 2|\n",
      "|    Abad|2016|        1|        1|                 1|\n",
      "|    Abad|2016|        1|        2|                 1|\n",
      "|    Abad|2016|        1|        2|                 2|\n",
      "|    Abad|2016|        1|        1|                 2|\n",
      "|    Abad|2016|        1|        5|                 1|\n",
      "|    Abad|2016|        1|        1|                 5|\n",
      "|    Abad|2016|        2|        2|                 3|\n",
      "|    Abad|2016|        2|        2|                 1|\n",
      "|    Abad|2016|        2|        1|                 2|\n",
      "|    Abad|2016|        2|        5|                 2|\n",
      "+--------+----+---------+---------+------------------+\n",
      "only showing top 20 rows\n",
      "\n"
     ]
    }
   ],
   "execution_count": 31
  },
  {
   "metadata": {
    "ExecuteTime": {
     "end_time": "2025-02-27T19:07:51.637257Z",
     "start_time": "2025-02-27T19:07:50.026853Z"
    }
   },
   "cell_type": "code",
   "source": [
    "window = Window.partitionBy('APT_NAME').orderBy('YEAR', 'MONTH_NUM')\n",
    "\n",
    "df.withColumn(\n",
    "    'next_month_flights',\n",
    "    F.lead('FLT_TOT_1').over(window)\n",
    ").show(5)"
   ],
   "id": "a86d64bc003a5be3",
   "outputs": [
    {
     "name": "stdout",
     "output_type": "stream",
     "text": [
      "+----+---------+---------+--------+--------+--------+----------+---------+---------+---------+-------------+-------------+-------------+------------------+\n",
      "|YEAR|MONTH_NUM|MONTH_MON|FLT_DATE|APT_ICAO|APT_NAME|STATE_NAME|FLT_DEP_1|FLT_ARR_1|FLT_TOT_1|FLT_DEP_IFR_2|FLT_ARR_IFR_2|FLT_TOT_IFR_2|next_month_flights|\n",
      "+----+---------+---------+--------+--------+--------+----------+---------+---------+---------+-------------+-------------+-------------+------------------+\n",
      "|2016|        1|      JAN|01-01-16|    EBAW| Antwerp|   Belgium|        4|        3|        7|         NULL|         NULL|         NULL|                20|\n",
      "|2016|        1|      JAN|02-01-16|    EBAW| Antwerp|   Belgium|        9|       11|       20|         NULL|         NULL|         NULL|                27|\n",
      "|2016|        1|      JAN|03-01-16|    EBAW| Antwerp|   Belgium|       10|       17|       27|         NULL|         NULL|         NULL|                35|\n",
      "|2016|        1|      JAN|04-01-16|    EBAW| Antwerp|   Belgium|       18|       17|       35|         NULL|         NULL|         NULL|                25|\n",
      "|2016|        1|      JAN|05-01-16|    EBAW| Antwerp|   Belgium|       12|       13|       25|         NULL|         NULL|         NULL|                47|\n",
      "+----+---------+---------+--------+--------+--------+----------+---------+---------+---------+-------------+-------------+-------------+------------------+\n",
      "only showing top 5 rows\n",
      "\n"
     ]
    }
   ],
   "execution_count": 34
  },
  {
   "metadata": {
    "ExecuteTime": {
     "end_time": "2025-02-27T19:14:24.962156Z",
     "start_time": "2025-02-27T19:14:23.385706Z"
    }
   },
   "cell_type": "code",
   "source": [
    "spark.sql(\"\"\"\n",
    "    SELECT\n",
    "     *,\n",
    "     lead(FLT_TOT_1) OVER (\n",
    "     PARTITION BY APT_NAME\n",
    "     ORDER BY YEAR, MONTH_NUM\n",
    "     ) AS next_month_flights\n",
    "    FROM\n",
    "        airport_traffic\n",
    "\"\"\").show(5)"
   ],
   "id": "cf84cec091dd0404",
   "outputs": [
    {
     "name": "stdout",
     "output_type": "stream",
     "text": [
      "+----+---------+---------+--------+--------+--------+----------+---------+---------+---------+-------------+-------------+-------------+------------------+\n",
      "|YEAR|MONTH_NUM|MONTH_MON|FLT_DATE|APT_ICAO|APT_NAME|STATE_NAME|FLT_DEP_1|FLT_ARR_1|FLT_TOT_1|FLT_DEP_IFR_2|FLT_ARR_IFR_2|FLT_TOT_IFR_2|next_month_flights|\n",
      "+----+---------+---------+--------+--------+--------+----------+---------+---------+---------+-------------+-------------+-------------+------------------+\n",
      "|2016|        1|      JAN|01-01-16|    EBAW| Antwerp|   Belgium|        4|        3|        7|         NULL|         NULL|         NULL|                20|\n",
      "|2016|        1|      JAN|02-01-16|    EBAW| Antwerp|   Belgium|        9|       11|       20|         NULL|         NULL|         NULL|                27|\n",
      "|2016|        1|      JAN|03-01-16|    EBAW| Antwerp|   Belgium|       10|       17|       27|         NULL|         NULL|         NULL|                35|\n",
      "|2016|        1|      JAN|04-01-16|    EBAW| Antwerp|   Belgium|       18|       17|       35|         NULL|         NULL|         NULL|                25|\n",
      "|2016|        1|      JAN|05-01-16|    EBAW| Antwerp|   Belgium|       12|       13|       25|         NULL|         NULL|         NULL|                47|\n",
      "+----+---------+---------+--------+--------+--------+----------+---------+---------+---------+-------------+-------------+-------------+------------------+\n",
      "only showing top 5 rows\n",
      "\n"
     ]
    }
   ],
   "execution_count": 40
  },
  {
   "metadata": {
    "ExecuteTime": {
     "end_time": "2025-02-27T19:23:16.044322Z",
     "start_time": "2025-02-27T19:23:14.698315Z"
    }
   },
   "cell_type": "code",
   "source": [
    "window = Window.partitionBy('APT_NAME').orderBy('YEAR', 'MONTH_NUM')\n",
    "\n",
    "df.withColumn(\n",
    "    'prev_month_flights',\n",
    "    F.lag('FLT_TOT_1').over(window)\n",
    ").show(5)"
   ],
   "id": "e75b5a5e6a66b504",
   "outputs": [
    {
     "name": "stdout",
     "output_type": "stream",
     "text": [
      "+----+---------+---------+--------+--------+--------+----------+---------+---------+---------+-------------+-------------+-------------+------------------+\n",
      "|YEAR|MONTH_NUM|MONTH_MON|FLT_DATE|APT_ICAO|APT_NAME|STATE_NAME|FLT_DEP_1|FLT_ARR_1|FLT_TOT_1|FLT_DEP_IFR_2|FLT_ARR_IFR_2|FLT_TOT_IFR_2|prev_month_flights|\n",
      "+----+---------+---------+--------+--------+--------+----------+---------+---------+---------+-------------+-------------+-------------+------------------+\n",
      "|2016|        1|      JAN|01-01-16|    EBAW| Antwerp|   Belgium|        4|        3|        7|         NULL|         NULL|         NULL|              NULL|\n",
      "|2016|        1|      JAN|02-01-16|    EBAW| Antwerp|   Belgium|        9|       11|       20|         NULL|         NULL|         NULL|                 7|\n",
      "|2016|        1|      JAN|03-01-16|    EBAW| Antwerp|   Belgium|       10|       17|       27|         NULL|         NULL|         NULL|                20|\n",
      "|2016|        1|      JAN|04-01-16|    EBAW| Antwerp|   Belgium|       18|       17|       35|         NULL|         NULL|         NULL|                27|\n",
      "|2016|        1|      JAN|05-01-16|    EBAW| Antwerp|   Belgium|       12|       13|       25|         NULL|         NULL|         NULL|                35|\n",
      "+----+---------+---------+--------+--------+--------+----------+---------+---------+---------+-------------+-------------+-------------+------------------+\n",
      "only showing top 5 rows\n",
      "\n"
     ]
    }
   ],
   "execution_count": 44
  },
  {
   "metadata": {
    "ExecuteTime": {
     "end_time": "2025-02-27T19:25:58.266158Z",
     "start_time": "2025-02-27T19:25:56.980921Z"
    }
   },
   "cell_type": "code",
   "source": [
    "spark.sql(\"\"\"\n",
    "    SELECT\n",
    "        *,\n",
    "        lag(FLT_TOT_1) OVER(\n",
    "            PARTITION BY APT_NAME\n",
    "            ORDER BY YEAR, MONTH_NUM\n",
    "        ) AS prev_month_flights\n",
    "    FROM\n",
    "        airport_traffic\n",
    "\"\"\").show(5)"
   ],
   "id": "24dbe956601c36c5",
   "outputs": [
    {
     "name": "stdout",
     "output_type": "stream",
     "text": [
      "+----+---------+---------+--------+--------+--------+----------+---------+---------+---------+-------------+-------------+-------------+------------------+\n",
      "|YEAR|MONTH_NUM|MONTH_MON|FLT_DATE|APT_ICAO|APT_NAME|STATE_NAME|FLT_DEP_1|FLT_ARR_1|FLT_TOT_1|FLT_DEP_IFR_2|FLT_ARR_IFR_2|FLT_TOT_IFR_2|prev_month_flights|\n",
      "+----+---------+---------+--------+--------+--------+----------+---------+---------+---------+-------------+-------------+-------------+------------------+\n",
      "|2016|        1|      JAN|01-01-16|    EBAW| Antwerp|   Belgium|        4|        3|        7|         NULL|         NULL|         NULL|              NULL|\n",
      "|2016|        1|      JAN|02-01-16|    EBAW| Antwerp|   Belgium|        9|       11|       20|         NULL|         NULL|         NULL|                 7|\n",
      "|2016|        1|      JAN|03-01-16|    EBAW| Antwerp|   Belgium|       10|       17|       27|         NULL|         NULL|         NULL|                20|\n",
      "|2016|        1|      JAN|04-01-16|    EBAW| Antwerp|   Belgium|       18|       17|       35|         NULL|         NULL|         NULL|                27|\n",
      "|2016|        1|      JAN|05-01-16|    EBAW| Antwerp|   Belgium|       12|       13|       25|         NULL|         NULL|         NULL|                35|\n",
      "+----+---------+---------+--------+--------+--------+----------+---------+---------+---------+-------------+-------------+-------------+------------------+\n",
      "only showing top 5 rows\n",
      "\n"
     ]
    }
   ],
   "execution_count": 47
  },
  {
   "metadata": {
    "ExecuteTime": {
     "end_time": "2025-02-27T20:26:30.261184Z",
     "start_time": "2025-02-27T20:26:28.879410Z"
    }
   },
   "cell_type": "code",
   "source": [
    "window = Window.partitionBy('APT_NAME').orderBy('YEAR', 'MONTH_NUM')\n",
    "\n",
    "df.withColumn(\n",
    "    'three_months_ago_flights',\n",
    "    F.lag('FLT_TOT_1', 3).over(window),\n",
    ").show(5)"
   ],
   "id": "c3b203ca67c3e2fd",
   "outputs": [
    {
     "name": "stdout",
     "output_type": "stream",
     "text": [
      "+----+---------+---------+--------+--------+--------+----------+---------+---------+---------+-------------+-------------+-------------+------------------------+\n",
      "|YEAR|MONTH_NUM|MONTH_MON|FLT_DATE|APT_ICAO|APT_NAME|STATE_NAME|FLT_DEP_1|FLT_ARR_1|FLT_TOT_1|FLT_DEP_IFR_2|FLT_ARR_IFR_2|FLT_TOT_IFR_2|three_months_ago_flights|\n",
      "+----+---------+---------+--------+--------+--------+----------+---------+---------+---------+-------------+-------------+-------------+------------------------+\n",
      "|2016|        1|      JAN|01-01-16|    EBAW| Antwerp|   Belgium|        4|        3|        7|         NULL|         NULL|         NULL|                    NULL|\n",
      "|2016|        1|      JAN|02-01-16|    EBAW| Antwerp|   Belgium|        9|       11|       20|         NULL|         NULL|         NULL|                    NULL|\n",
      "|2016|        1|      JAN|03-01-16|    EBAW| Antwerp|   Belgium|       10|       17|       27|         NULL|         NULL|         NULL|                    NULL|\n",
      "|2016|        1|      JAN|04-01-16|    EBAW| Antwerp|   Belgium|       18|       17|       35|         NULL|         NULL|         NULL|                       7|\n",
      "|2016|        1|      JAN|05-01-16|    EBAW| Antwerp|   Belgium|       12|       13|       25|         NULL|         NULL|         NULL|                      20|\n",
      "+----+---------+---------+--------+--------+--------+----------+---------+---------+---------+-------------+-------------+-------------+------------------------+\n",
      "only showing top 5 rows\n",
      "\n"
     ]
    }
   ],
   "execution_count": 52
  },
  {
   "metadata": {
    "ExecuteTime": {
     "end_time": "2025-02-27T20:31:02.974366Z",
     "start_time": "2025-02-27T20:31:01.398004Z"
    }
   },
   "cell_type": "code",
   "source": [
    "spark.sql(\"\"\"\n",
    "    SELECT\n",
    "        *,\n",
    "        lag(FLT_TOT_1, 3) OVER(\n",
    "            PARTITION BY APT_NAME\n",
    "            ORDER BY YEAR, MONTH_NUM\n",
    "        ) AS three_months_ago_flights\n",
    "    FROM\n",
    "        airport_traffic\n",
    "\"\"\").show(5)"
   ],
   "id": "247b2f8a053ccdc3",
   "outputs": [
    {
     "name": "stdout",
     "output_type": "stream",
     "text": [
      "+----+---------+---------+--------+--------+--------+----------+---------+---------+---------+-------------+-------------+-------------+------------------------+\n",
      "|YEAR|MONTH_NUM|MONTH_MON|FLT_DATE|APT_ICAO|APT_NAME|STATE_NAME|FLT_DEP_1|FLT_ARR_1|FLT_TOT_1|FLT_DEP_IFR_2|FLT_ARR_IFR_2|FLT_TOT_IFR_2|three_months_ago_flights|\n",
      "+----+---------+---------+--------+--------+--------+----------+---------+---------+---------+-------------+-------------+-------------+------------------------+\n",
      "|2016|        1|      JAN|01-01-16|    EBAW| Antwerp|   Belgium|        4|        3|        7|         NULL|         NULL|         NULL|                    NULL|\n",
      "|2016|        1|      JAN|02-01-16|    EBAW| Antwerp|   Belgium|        9|       11|       20|         NULL|         NULL|         NULL|                    NULL|\n",
      "|2016|        1|      JAN|03-01-16|    EBAW| Antwerp|   Belgium|       10|       17|       27|         NULL|         NULL|         NULL|                    NULL|\n",
      "|2016|        1|      JAN|04-01-16|    EBAW| Antwerp|   Belgium|       18|       17|       35|         NULL|         NULL|         NULL|                       7|\n",
      "|2016|        1|      JAN|05-01-16|    EBAW| Antwerp|   Belgium|       12|       13|       25|         NULL|         NULL|         NULL|                      20|\n",
      "+----+---------+---------+--------+--------+--------+----------+---------+---------+---------+-------------+-------------+-------------+------------------------+\n",
      "only showing top 5 rows\n",
      "\n"
     ]
    }
   ],
   "execution_count": 55
  },
  {
   "metadata": {
    "ExecuteTime": {
     "end_time": "2025-02-27T20:28:04.834557Z",
     "start_time": "2025-02-27T20:28:04.667257Z"
    }
   },
   "cell_type": "code",
   "source": "",
   "id": "8b95981f22417438",
   "outputs": [
    {
     "data": {
      "text/plain": [
       "983842"
      ]
     },
     "execution_count": 54,
     "metadata": {},
     "output_type": "execute_result"
    }
   ],
   "execution_count": 54
  }
 ],
 "metadata": {
  "kernelspec": {
   "display_name": "Python 3",
   "language": "python",
   "name": "python3"
  },
  "language_info": {
   "codemirror_mode": {
    "name": "ipython",
    "version": 2
   },
   "file_extension": ".py",
   "mimetype": "text/x-python",
   "name": "python",
   "nbconvert_exporter": "python",
   "pygments_lexer": "ipython2",
   "version": "2.7.6"
  }
 },
 "nbformat": 4,
 "nbformat_minor": 5
}
