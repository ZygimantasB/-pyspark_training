{
 "cells": [
  {
   "cell_type": "code",
   "id": "initial_id",
   "metadata": {
    "collapsed": true,
    "ExecuteTime": {
     "end_time": "2025-03-01T11:44:25.307745Z",
     "start_time": "2025-03-01T11:44:25.148653Z"
    }
   },
   "source": [
    "import os\n",
    "\n",
    "import altair as alt\n",
    "import plotly.express as px\n",
    "\n",
    "import pyspark.sql.functions as F\n",
    "from pyspark.sql import SparkSession\n",
    "from pyspark.sql import Window"
   ],
   "outputs": [],
   "execution_count": 60
  },
  {
   "metadata": {
    "ExecuteTime": {
     "end_time": "2025-03-01T11:26:39.800090Z",
     "start_time": "2025-03-01T11:26:39.795948Z"
    }
   },
   "cell_type": "code",
   "source": [
    "os.environ['SPARK_HOME'] = r'C:\\spark\\spark-3.5.5-bin-hadoop3'\n",
    "os.environ['PYSPARK_DRIVER_PYTHON'] = 'jupyter'\n",
    "os.environ['PYSPARK_DRIVER_PYTHON_OPTS'] = 'lab'\n",
    "os.environ['PYSPARK_PYTHON'] = 'python'"
   ],
   "id": "bc1f90eb410d49b7",
   "outputs": [],
   "execution_count": 2
  },
  {
   "metadata": {
    "ExecuteTime": {
     "end_time": "2025-03-01T11:26:43.598097Z",
     "start_time": "2025-03-01T11:26:39.979859Z"
    }
   },
   "cell_type": "code",
   "source": [
    "spark = (\n",
    "    SparkSession.builder\n",
    "    .appName('Airport Traffic')\n",
    "    .master('local[20]')\n",
    "    .config('spark.executor.memory', '12g')\n",
    "    .config('spark.executor.cors', '4')\n",
    "    .config(\"spark.dynamicAllocation.enabled\", \"true\")\n",
    "    .config(\"spark.dynamicAllocation.minExecutors\", \"2\")\n",
    "    .config(\"spark.dynamicAllocation.maxExecutors\", \"20\")\n",
    "    .config('spark.executors.memoryOverhead', '2g')\n",
    "    .config(\"spark.driver.memory\", \"12g\")\n",
    "    .config(\"spark.driver.maxResultSize\", \"4g\")\n",
    "    .config('spark.sql.adaptive.enabled', 'true')\n",
    "    .config('spark.sql.adaptive.coalescePartitions.enabled', 'true')\n",
    "    .config('spark.sql.adaptive.advisoryPartitionSizeInBytes', '128mb')# 128 default\n",
    "    .config(\"spark.serializer\", \"org.apache.spark.serializer.KryoSerializer\")\n",
    "    .config('spark.dynamicAllocation.executorIdleTimeout', '120')\n",
    "    .config('spark.sql.autoBroadcastJoinThreshold', '512mb')\n",
    "    .getOrCreate()\n",
    ")"
   ],
   "id": "6556cde9e2d795bd",
   "outputs": [],
   "execution_count": 3
  },
  {
   "metadata": {
    "ExecuteTime": {
     "end_time": "2025-03-01T11:26:43.616362Z",
     "start_time": "2025-03-01T11:26:43.612008Z"
    }
   },
   "cell_type": "code",
   "source": "df_path = r\"F:\\Datasets\\CSV datasets\\airport_traffic\\*\"",
   "id": "7e382a933b68c187",
   "outputs": [],
   "execution_count": 4
  },
  {
   "metadata": {
    "ExecuteTime": {
     "end_time": "2025-03-01T11:26:49.050968Z",
     "start_time": "2025-03-01T11:26:43.623319Z"
    }
   },
   "cell_type": "code",
   "source": [
    "df = (\n",
    "    spark\n",
    "    .read\n",
    "    .format('csv')\n",
    "    .option('header', 'true')\n",
    "    .option('inferSchema', 'true')\n",
    "    .load(df_path)\n",
    ")"
   ],
   "id": "4c9a7ec1ad1e9e66",
   "outputs": [],
   "execution_count": 5
  },
  {
   "metadata": {
    "ExecuteTime": {
     "end_time": "2025-03-01T11:26:49.105547Z",
     "start_time": "2025-03-01T11:26:49.095580Z"
    }
   },
   "cell_type": "code",
   "source": "spark",
   "id": "f97847785e3e1716",
   "outputs": [
    {
     "data": {
      "text/plain": [
       "<pyspark.sql.session.SparkSession at 0x1f8a1b8f410>"
      ],
      "text/html": [
       "\n",
       "            <div>\n",
       "                <p><b>SparkSession - in-memory</b></p>\n",
       "                \n",
       "        <div>\n",
       "            <p><b>SparkContext</b></p>\n",
       "\n",
       "            <p><a href=\"http://Zygimantas:4040\">Spark UI</a></p>\n",
       "\n",
       "            <dl>\n",
       "              <dt>Version</dt>\n",
       "                <dd><code>v3.5.5</code></dd>\n",
       "              <dt>Master</dt>\n",
       "                <dd><code>local[20]</code></dd>\n",
       "              <dt>AppName</dt>\n",
       "                <dd><code>Airport Traffic</code></dd>\n",
       "            </dl>\n",
       "        </div>\n",
       "        \n",
       "            </div>\n",
       "        "
      ]
     },
     "execution_count": 6,
     "metadata": {},
     "output_type": "execute_result"
    }
   ],
   "execution_count": 6
  },
  {
   "metadata": {
    "ExecuteTime": {
     "end_time": "2025-03-01T11:26:49.188281Z",
     "start_time": "2025-03-01T11:26:49.119349Z"
    }
   },
   "cell_type": "code",
   "source": "df.rdd.getNumPartitions()",
   "id": "d4765023b61414f3",
   "outputs": [
    {
     "data": {
      "text/plain": [
       "18"
      ]
     },
     "execution_count": 7,
     "metadata": {},
     "output_type": "execute_result"
    }
   ],
   "execution_count": 7
  },
  {
   "metadata": {
    "ExecuteTime": {
     "end_time": "2025-03-01T11:26:50.122414Z",
     "start_time": "2025-03-01T11:26:49.220503Z"
    }
   },
   "cell_type": "code",
   "source": "df.count()",
   "id": "64b56dc1c679d593",
   "outputs": [
    {
     "data": {
      "text/plain": [
       "983842"
      ]
     },
     "execution_count": 8,
     "metadata": {},
     "output_type": "execute_result"
    }
   ],
   "execution_count": 8
  },
  {
   "metadata": {
    "ExecuteTime": {
     "end_time": "2025-03-01T11:26:50.181933Z",
     "start_time": "2025-03-01T11:26:50.149001Z"
    }
   },
   "cell_type": "code",
   "source": "df.createOrReplaceTempView('airport_traffic')",
   "id": "cf612c8911232dd3",
   "outputs": [],
   "execution_count": 9
  },
  {
   "metadata": {
    "ExecuteTime": {
     "end_time": "2025-03-01T11:26:50.676630Z",
     "start_time": "2025-03-01T11:26:50.193567Z"
    }
   },
   "cell_type": "code",
   "source": [
    "spark.sql(\"\"\"\n",
    "    SELECT\n",
    "        count(*)\n",
    "    FROM\n",
    "        airport_traffic\n",
    "\"\"\").show()"
   ],
   "id": "5f9ebe40aca39ea5",
   "outputs": [
    {
     "name": "stdout",
     "output_type": "stream",
     "text": [
      "+--------+\n",
      "|count(1)|\n",
      "+--------+\n",
      "|  983842|\n",
      "+--------+\n",
      "\n"
     ]
    }
   ],
   "execution_count": 10
  },
  {
   "metadata": {
    "ExecuteTime": {
     "end_time": "2025-03-01T11:26:50.725452Z",
     "start_time": "2025-03-01T11:26:50.718944Z"
    }
   },
   "cell_type": "code",
   "source": "df.printSchema()",
   "id": "6af3247a54c1737c",
   "outputs": [
    {
     "name": "stdout",
     "output_type": "stream",
     "text": [
      "root\n",
      " |-- YEAR: integer (nullable = true)\n",
      " |-- MONTH_NUM: integer (nullable = true)\n",
      " |-- MONTH_MON: string (nullable = true)\n",
      " |-- FLT_DATE: string (nullable = true)\n",
      " |-- APT_ICAO: string (nullable = true)\n",
      " |-- APT_NAME: string (nullable = true)\n",
      " |-- STATE_NAME: string (nullable = true)\n",
      " |-- FLT_DEP_1: integer (nullable = true)\n",
      " |-- FLT_ARR_1: integer (nullable = true)\n",
      " |-- FLT_TOT_1: integer (nullable = true)\n",
      " |-- FLT_DEP_IFR_2: integer (nullable = true)\n",
      " |-- FLT_ARR_IFR_2: integer (nullable = true)\n",
      " |-- FLT_TOT_IFR_2: integer (nullable = true)\n",
      "\n"
     ]
    }
   ],
   "execution_count": 11
  },
  {
   "metadata": {
    "ExecuteTime": {
     "end_time": "2025-03-01T11:26:51.028163Z",
     "start_time": "2025-03-01T11:26:50.828844Z"
    }
   },
   "cell_type": "code",
   "source": "df.show(5)",
   "id": "416a66a0951d3d3e",
   "outputs": [
    {
     "name": "stdout",
     "output_type": "stream",
     "text": [
      "+----+---------+---------+--------+--------+----------+----------+---------+---------+---------+-------------+-------------+-------------+\n",
      "|YEAR|MONTH_NUM|MONTH_MON|FLT_DATE|APT_ICAO|  APT_NAME|STATE_NAME|FLT_DEP_1|FLT_ARR_1|FLT_TOT_1|FLT_DEP_IFR_2|FLT_ARR_IFR_2|FLT_TOT_IFR_2|\n",
      "+----+---------+---------+--------+--------+----------+----------+---------+---------+---------+-------------+-------------+-------------+\n",
      "|2016|        1|      JAN|01-01-16|    LATI|    Tirana|   Albania|       24|       27|       51|         NULL|         NULL|         NULL|\n",
      "|2016|        1|      JAN|01-01-16|    UDYZ|   Yerevan|   Armenia|        8|       15|       23|         NULL|         NULL|         NULL|\n",
      "|2016|        1|      JAN|01-01-16|    LOWG|      Graz|   Austria|        6|        7|       13|         NULL|         NULL|         NULL|\n",
      "|2016|        1|      JAN|01-01-16|    LOWI| Innsbruck|   Austria|       26|       32|       58|         NULL|         NULL|         NULL|\n",
      "|2016|        1|      JAN|01-01-16|    LOWK|Klagenfurt|   Austria|        3|        4|        7|         NULL|         NULL|         NULL|\n",
      "+----+---------+---------+--------+--------+----------+----------+---------+---------+---------+-------------+-------------+-------------+\n",
      "only showing top 5 rows\n",
      "\n"
     ]
    }
   ],
   "execution_count": 12
  },
  {
   "metadata": {
    "ExecuteTime": {
     "end_time": "2025-03-01T11:26:53.381489Z",
     "start_time": "2025-03-01T11:26:51.056441Z"
    }
   },
   "cell_type": "code",
   "source": [
    "window = Window.partitionBy('APT_NAME')\n",
    "\n",
    "df.withColumn(\n",
    "    \"FLT_TOT_1_SUM\",\n",
    "    F.sum('FLT_TOT_1').over(window)\n",
    ").show()"
   ],
   "id": "e067603daa9af9e",
   "outputs": [
    {
     "name": "stdout",
     "output_type": "stream",
     "text": [
      "+----+---------+---------+--------+--------+--------+----------+---------+---------+---------+-------------+-------------+-------------+-------------+\n",
      "|YEAR|MONTH_NUM|MONTH_MON|FLT_DATE|APT_ICAO|APT_NAME|STATE_NAME|FLT_DEP_1|FLT_ARR_1|FLT_TOT_1|FLT_DEP_IFR_2|FLT_ARR_IFR_2|FLT_TOT_IFR_2|FLT_TOT_1_SUM|\n",
      "+----+---------+---------+--------+--------+--------+----------+---------+---------+---------+-------------+-------------+-------------+-------------+\n",
      "|2016|        1|      JAN|01-01-16|    EBAW| Antwerp|   Belgium|        4|        3|        7|         NULL|         NULL|         NULL|       116053|\n",
      "|2016|        1|      JAN|02-01-16|    EBAW| Antwerp|   Belgium|        9|       11|       20|         NULL|         NULL|         NULL|       116053|\n",
      "|2016|        1|      JAN|03-01-16|    EBAW| Antwerp|   Belgium|       10|       17|       27|         NULL|         NULL|         NULL|       116053|\n",
      "|2016|        1|      JAN|04-01-16|    EBAW| Antwerp|   Belgium|       18|       17|       35|         NULL|         NULL|         NULL|       116053|\n",
      "|2016|        1|      JAN|05-01-16|    EBAW| Antwerp|   Belgium|       12|       13|       25|         NULL|         NULL|         NULL|       116053|\n",
      "|2016|        1|      JAN|06-01-16|    EBAW| Antwerp|   Belgium|       23|       24|       47|         NULL|         NULL|         NULL|       116053|\n",
      "|2016|        1|      JAN|07-01-16|    EBAW| Antwerp|   Belgium|       14|       10|       24|         NULL|         NULL|         NULL|       116053|\n",
      "|2016|        1|      JAN|08-01-16|    EBAW| Antwerp|   Belgium|       27|       23|       50|         NULL|         NULL|         NULL|       116053|\n",
      "|2016|        1|      JAN|09-01-16|    EBAW| Antwerp|   Belgium|       16|       19|       35|         NULL|         NULL|         NULL|       116053|\n",
      "|2016|        1|      JAN|10-01-16|    EBAW| Antwerp|   Belgium|       16|       16|       32|         NULL|         NULL|         NULL|       116053|\n",
      "|2016|        1|      JAN|11-01-16|    EBAW| Antwerp|   Belgium|       24|       21|       45|         NULL|         NULL|         NULL|       116053|\n",
      "|2016|        1|      JAN|12-01-16|    EBAW| Antwerp|   Belgium|       15|       18|       33|         NULL|         NULL|         NULL|       116053|\n",
      "|2016|        1|      JAN|13-01-16|    EBAW| Antwerp|   Belgium|       23|       19|       42|         NULL|         NULL|         NULL|       116053|\n",
      "|2016|        1|      JAN|14-01-16|    EBAW| Antwerp|   Belgium|       18|       17|       35|         NULL|         NULL|         NULL|       116053|\n",
      "|2016|        1|      JAN|15-01-16|    EBAW| Antwerp|   Belgium|       19|       17|       36|         NULL|         NULL|         NULL|       116053|\n",
      "|2016|        1|      JAN|16-01-16|    EBAW| Antwerp|   Belgium|       15|       11|       26|         NULL|         NULL|         NULL|       116053|\n",
      "|2016|        1|      JAN|17-01-16|    EBAW| Antwerp|   Belgium|       10|       16|       26|         NULL|         NULL|         NULL|       116053|\n",
      "|2016|        1|      JAN|18-01-16|    EBAW| Antwerp|   Belgium|       33|       31|       64|         NULL|         NULL|         NULL|       116053|\n",
      "|2016|        1|      JAN|19-01-16|    EBAW| Antwerp|   Belgium|       28|       27|       55|         NULL|         NULL|         NULL|       116053|\n",
      "|2016|        1|      JAN|20-01-16|    EBAW| Antwerp|   Belgium|       24|       24|       48|         NULL|         NULL|         NULL|       116053|\n",
      "+----+---------+---------+--------+--------+--------+----------+---------+---------+---------+-------------+-------------+-------------+-------------+\n",
      "only showing top 20 rows\n",
      "\n"
     ]
    }
   ],
   "execution_count": 13
  },
  {
   "metadata": {
    "ExecuteTime": {
     "end_time": "2025-03-01T11:26:55.254159Z",
     "start_time": "2025-03-01T11:26:53.397466Z"
    }
   },
   "cell_type": "code",
   "source": [
    "spark.sql(\"\"\"\n",
    "    SELECT\n",
    "        *,\n",
    "        SUM(FLT_TOT_1) OVER (PARTITION BY APT_NAME) AS FLT_TOT_1_SUM\n",
    "    FROM\n",
    "        airport_traffic\n",
    "\"\"\").show()"
   ],
   "id": "2b4b939723549c78",
   "outputs": [
    {
     "name": "stdout",
     "output_type": "stream",
     "text": [
      "+----+---------+---------+--------+--------+--------+----------+---------+---------+---------+-------------+-------------+-------------+-------------+\n",
      "|YEAR|MONTH_NUM|MONTH_MON|FLT_DATE|APT_ICAO|APT_NAME|STATE_NAME|FLT_DEP_1|FLT_ARR_1|FLT_TOT_1|FLT_DEP_IFR_2|FLT_ARR_IFR_2|FLT_TOT_IFR_2|FLT_TOT_1_SUM|\n",
      "+----+---------+---------+--------+--------+--------+----------+---------+---------+---------+-------------+-------------+-------------+-------------+\n",
      "|2016|        1|      JAN|01-01-16|    EBAW| Antwerp|   Belgium|        4|        3|        7|         NULL|         NULL|         NULL|       116053|\n",
      "|2016|        1|      JAN|02-01-16|    EBAW| Antwerp|   Belgium|        9|       11|       20|         NULL|         NULL|         NULL|       116053|\n",
      "|2016|        1|      JAN|03-01-16|    EBAW| Antwerp|   Belgium|       10|       17|       27|         NULL|         NULL|         NULL|       116053|\n",
      "|2016|        1|      JAN|04-01-16|    EBAW| Antwerp|   Belgium|       18|       17|       35|         NULL|         NULL|         NULL|       116053|\n",
      "|2016|        1|      JAN|05-01-16|    EBAW| Antwerp|   Belgium|       12|       13|       25|         NULL|         NULL|         NULL|       116053|\n",
      "|2016|        1|      JAN|06-01-16|    EBAW| Antwerp|   Belgium|       23|       24|       47|         NULL|         NULL|         NULL|       116053|\n",
      "|2016|        1|      JAN|07-01-16|    EBAW| Antwerp|   Belgium|       14|       10|       24|         NULL|         NULL|         NULL|       116053|\n",
      "|2016|        1|      JAN|08-01-16|    EBAW| Antwerp|   Belgium|       27|       23|       50|         NULL|         NULL|         NULL|       116053|\n",
      "|2016|        1|      JAN|09-01-16|    EBAW| Antwerp|   Belgium|       16|       19|       35|         NULL|         NULL|         NULL|       116053|\n",
      "|2016|        1|      JAN|10-01-16|    EBAW| Antwerp|   Belgium|       16|       16|       32|         NULL|         NULL|         NULL|       116053|\n",
      "|2016|        1|      JAN|11-01-16|    EBAW| Antwerp|   Belgium|       24|       21|       45|         NULL|         NULL|         NULL|       116053|\n",
      "|2016|        1|      JAN|12-01-16|    EBAW| Antwerp|   Belgium|       15|       18|       33|         NULL|         NULL|         NULL|       116053|\n",
      "|2016|        1|      JAN|13-01-16|    EBAW| Antwerp|   Belgium|       23|       19|       42|         NULL|         NULL|         NULL|       116053|\n",
      "|2016|        1|      JAN|14-01-16|    EBAW| Antwerp|   Belgium|       18|       17|       35|         NULL|         NULL|         NULL|       116053|\n",
      "|2016|        1|      JAN|15-01-16|    EBAW| Antwerp|   Belgium|       19|       17|       36|         NULL|         NULL|         NULL|       116053|\n",
      "|2016|        1|      JAN|16-01-16|    EBAW| Antwerp|   Belgium|       15|       11|       26|         NULL|         NULL|         NULL|       116053|\n",
      "|2016|        1|      JAN|17-01-16|    EBAW| Antwerp|   Belgium|       10|       16|       26|         NULL|         NULL|         NULL|       116053|\n",
      "|2016|        1|      JAN|18-01-16|    EBAW| Antwerp|   Belgium|       33|       31|       64|         NULL|         NULL|         NULL|       116053|\n",
      "|2016|        1|      JAN|19-01-16|    EBAW| Antwerp|   Belgium|       28|       27|       55|         NULL|         NULL|         NULL|       116053|\n",
      "|2016|        1|      JAN|20-01-16|    EBAW| Antwerp|   Belgium|       24|       24|       48|         NULL|         NULL|         NULL|       116053|\n",
      "+----+---------+---------+--------+--------+--------+----------+---------+---------+---------+-------------+-------------+-------------+-------------+\n",
      "only showing top 20 rows\n",
      "\n"
     ]
    }
   ],
   "execution_count": 14
  },
  {
   "metadata": {
    "ExecuteTime": {
     "end_time": "2025-03-01T11:26:57.977972Z",
     "start_time": "2025-03-01T11:26:55.285442Z"
    }
   },
   "cell_type": "code",
   "source": [
    "spark.sql(\"\"\"\n",
    "    SELECT\n",
    "        *,\n",
    "        RANK() OVER (\n",
    "        PARTITION BY YEAR, APT_ICAO\n",
    "        ORDER BY FLT_DEP_1 DESC\n",
    "        ) AS RANK\n",
    "    FROM\n",
    "        airport_traffic\n",
    "    ORDER BY\n",
    "        YEAR, FLT_DEP_1 DESC\n",
    "\"\"\").show()"
   ],
   "id": "81d984e18139ef60",
   "outputs": [
    {
     "name": "stdout",
     "output_type": "stream",
     "text": [
      "+----+---------+---------+--------+--------+--------------------+-----------+---------+---------+---------+-------------+-------------+-------------+----+\n",
      "|YEAR|MONTH_NUM|MONTH_MON|FLT_DATE|APT_ICAO|            APT_NAME| STATE_NAME|FLT_DEP_1|FLT_ARR_1|FLT_TOT_1|FLT_DEP_IFR_2|FLT_ARR_IFR_2|FLT_TOT_IFR_2|RANK|\n",
      "+----+---------+---------+--------+--------+--------------------+-----------+---------+---------+---------+-------------+-------------+-------------+----+\n",
      "|2016|        7|      JUL|25-07-16|    EHAM|Amsterdam - Schiphol|Netherlands|      782|      770|     1552|          782|          771|         1553|   1|\n",
      "|2016|        7|      JUL|22-07-16|    EHAM|Amsterdam - Schiphol|Netherlands|      781|      776|     1557|          781|          756|         1537|   2|\n",
      "|2016|        7|      JUL|08-07-16|    EHAM|Amsterdam - Schiphol|Netherlands|      780|      779|     1559|          780|          768|         1548|   3|\n",
      "|2016|        7|      JUL|15-07-16|    EHAM|Amsterdam - Schiphol|Netherlands|      780|      778|     1558|          778|          768|         1546|   3|\n",
      "|2016|        8|      AUG|19-08-16|    EHAM|Amsterdam - Schiphol|Netherlands|      779|      781|     1560|          778|          760|         1538|   5|\n",
      "|2016|        8|      AUG|26-08-16|    LFPG|Paris-Charles-de-...|     France|      778|      741|     1519|          776|          748|         1524|   1|\n",
      "|2016|        9|      SEP|09-09-16|    EHAM|Amsterdam - Schiphol|Netherlands|      778|      768|     1546|          778|          756|         1534|   6|\n",
      "|2016|        8|      AUG|31-08-16|    LFPG|Paris-Charles-de-...|     France|      776|      771|     1547|          773|          775|         1548|   2|\n",
      "|2016|        8|      AUG|12-08-16|    EHAM|Amsterdam - Schiphol|Netherlands|      774|      774|     1548|          772|          763|         1535|   7|\n",
      "|2016|        8|      AUG|26-08-16|    EHAM|Amsterdam - Schiphol|Netherlands|      774|      774|     1548|          774|          755|         1529|   7|\n",
      "|2016|        8|      AUG|25-08-16|    EHAM|Amsterdam - Schiphol|Netherlands|      772|      772|     1544|          773|          774|         1547|   9|\n",
      "|2016|        8|      AUG|08-08-16|    EHAM|Amsterdam - Schiphol|Netherlands|      770|      763|     1533|          769|          773|         1542|  10|\n",
      "|2016|        9|      SEP|01-09-16|    EHAM|Amsterdam - Schiphol|Netherlands|      770|      762|     1532|          770|          769|         1539|  10|\n",
      "|2016|        8|      AUG|30-08-16|    LFPG|Paris-Charles-de-...|     France|      769|      775|     1544|          771|          776|         1547|   3|\n",
      "|2016|        7|      JUL|14-07-16|    EHAM|Amsterdam - Schiphol|Netherlands|      769|      774|     1543|          769|          776|         1545|  12|\n",
      "|2016|        7|      JUL|18-07-16|    EHAM|Amsterdam - Schiphol|Netherlands|      768|      760|     1528|          768|          756|         1524|  13|\n",
      "|2016|        7|      JUL|21-07-16|    EHAM|Amsterdam - Schiphol|Netherlands|      768|      774|     1542|          769|          777|         1546|  13|\n",
      "|2016|        8|      AUG|22-08-16|    EHAM|Amsterdam - Schiphol|Netherlands|      767|      769|     1536|          767|          767|         1534|  15|\n",
      "|2016|        8|      AUG|25-08-16|    LFPG|Paris-Charles-de-...|     France|      766|      769|     1535|          768|          752|         1520|   4|\n",
      "|2016|        8|      AUG|18-08-16|    EHAM|Amsterdam - Schiphol|Netherlands|      766|      772|     1538|          767|          768|         1535|  16|\n",
      "+----+---------+---------+--------+--------+--------------------+-----------+---------+---------+---------+-------------+-------------+-------------+----+\n",
      "only showing top 20 rows\n",
      "\n"
     ]
    }
   ],
   "execution_count": 15
  },
  {
   "metadata": {
    "ExecuteTime": {
     "end_time": "2025-03-01T11:26:59.818485Z",
     "start_time": "2025-03-01T11:26:58.013699Z"
    }
   },
   "cell_type": "code",
   "source": [
    "window = Window.partitionBy('YEAR', 'APT_ICAO').orderBy(F.col('FLT_DEP_1').desc())\n",
    "\n",
    "df.withColumn(\n",
    "    'RANK', F.rank().over(window)\n",
    ").orderBy(\n",
    "    'YEAR', F.col('FLT_DEP_1').desc()\n",
    ").show()"
   ],
   "id": "6e59f6a31719f3e",
   "outputs": [
    {
     "name": "stdout",
     "output_type": "stream",
     "text": [
      "+----+---------+---------+--------+--------+--------------------+-----------+---------+---------+---------+-------------+-------------+-------------+----+\n",
      "|YEAR|MONTH_NUM|MONTH_MON|FLT_DATE|APT_ICAO|            APT_NAME| STATE_NAME|FLT_DEP_1|FLT_ARR_1|FLT_TOT_1|FLT_DEP_IFR_2|FLT_ARR_IFR_2|FLT_TOT_IFR_2|RANK|\n",
      "+----+---------+---------+--------+--------+--------------------+-----------+---------+---------+---------+-------------+-------------+-------------+----+\n",
      "|2016|        7|      JUL|25-07-16|    EHAM|Amsterdam - Schiphol|Netherlands|      782|      770|     1552|          782|          771|         1553|   1|\n",
      "|2016|        7|      JUL|22-07-16|    EHAM|Amsterdam - Schiphol|Netherlands|      781|      776|     1557|          781|          756|         1537|   2|\n",
      "|2016|        7|      JUL|08-07-16|    EHAM|Amsterdam - Schiphol|Netherlands|      780|      779|     1559|          780|          768|         1548|   3|\n",
      "|2016|        7|      JUL|15-07-16|    EHAM|Amsterdam - Schiphol|Netherlands|      780|      778|     1558|          778|          768|         1546|   3|\n",
      "|2016|        8|      AUG|19-08-16|    EHAM|Amsterdam - Schiphol|Netherlands|      779|      781|     1560|          778|          760|         1538|   5|\n",
      "|2016|        8|      AUG|26-08-16|    LFPG|Paris-Charles-de-...|     France|      778|      741|     1519|          776|          748|         1524|   1|\n",
      "|2016|        9|      SEP|09-09-16|    EHAM|Amsterdam - Schiphol|Netherlands|      778|      768|     1546|          778|          756|         1534|   6|\n",
      "|2016|        8|      AUG|31-08-16|    LFPG|Paris-Charles-de-...|     France|      776|      771|     1547|          773|          775|         1548|   2|\n",
      "|2016|        8|      AUG|12-08-16|    EHAM|Amsterdam - Schiphol|Netherlands|      774|      774|     1548|          772|          763|         1535|   7|\n",
      "|2016|        8|      AUG|26-08-16|    EHAM|Amsterdam - Schiphol|Netherlands|      774|      774|     1548|          774|          755|         1529|   7|\n",
      "|2016|        8|      AUG|25-08-16|    EHAM|Amsterdam - Schiphol|Netherlands|      772|      772|     1544|          773|          774|         1547|   9|\n",
      "|2016|        8|      AUG|08-08-16|    EHAM|Amsterdam - Schiphol|Netherlands|      770|      763|     1533|          769|          773|         1542|  10|\n",
      "|2016|        9|      SEP|01-09-16|    EHAM|Amsterdam - Schiphol|Netherlands|      770|      762|     1532|          770|          769|         1539|  10|\n",
      "|2016|        8|      AUG|30-08-16|    LFPG|Paris-Charles-de-...|     France|      769|      775|     1544|          771|          776|         1547|   3|\n",
      "|2016|        7|      JUL|14-07-16|    EHAM|Amsterdam - Schiphol|Netherlands|      769|      774|     1543|          769|          776|         1545|  12|\n",
      "|2016|        7|      JUL|18-07-16|    EHAM|Amsterdam - Schiphol|Netherlands|      768|      760|     1528|          768|          756|         1524|  13|\n",
      "|2016|        7|      JUL|21-07-16|    EHAM|Amsterdam - Schiphol|Netherlands|      768|      774|     1542|          769|          777|         1546|  13|\n",
      "|2016|        8|      AUG|22-08-16|    EHAM|Amsterdam - Schiphol|Netherlands|      767|      769|     1536|          767|          767|         1534|  15|\n",
      "|2016|        8|      AUG|25-08-16|    LFPG|Paris-Charles-de-...|     France|      766|      769|     1535|          768|          752|         1520|   4|\n",
      "|2016|        8|      AUG|18-08-16|    EHAM|Amsterdam - Schiphol|Netherlands|      766|      772|     1538|          767|          768|         1535|  16|\n",
      "+----+---------+---------+--------+--------+--------------------+-----------+---------+---------+---------+-------------+-------------+-------------+----+\n",
      "only showing top 20 rows\n",
      "\n"
     ]
    }
   ],
   "execution_count": 16
  },
  {
   "metadata": {
    "ExecuteTime": {
     "end_time": "2025-03-01T11:27:00.513880Z",
     "start_time": "2025-03-01T11:26:59.855643Z"
    }
   },
   "cell_type": "code",
   "source": [
    "window = Window.partitionBy('YEAR').orderBy(F.col('FLT_DEP_1').desc())\n",
    "\n",
    "df.withColumn(\n",
    "    'rank', F.rank().over(window)\n",
    ").filter(\n",
    "    F.col('rank') == 1\n",
    ").drop(\n",
    "    'rank'\n",
    ").show()"
   ],
   "id": "d69107279c91cfa7",
   "outputs": [
    {
     "name": "stdout",
     "output_type": "stream",
     "text": [
      "+----+---------+---------+--------+--------+--------------------+-----------+---------+---------+---------+-------------+-------------+-------------+\n",
      "|YEAR|MONTH_NUM|MONTH_MON|FLT_DATE|APT_ICAO|            APT_NAME| STATE_NAME|FLT_DEP_1|FLT_ARR_1|FLT_TOT_1|FLT_DEP_IFR_2|FLT_ARR_IFR_2|FLT_TOT_IFR_2|\n",
      "+----+---------+---------+--------+--------+--------------------+-----------+---------+---------+---------+-------------+-------------+-------------+\n",
      "|2016|        7|      JUL|25-07-16|    EHAM|Amsterdam - Schiphol|Netherlands|      782|      770|     1552|          782|          771|         1553|\n",
      "|2017|        5|      MAY|24-05-17|    EHAM|Amsterdam - Schiphol|Netherlands|      803|      767|     1570|          803|          771|         1574|\n",
      "|2017|        8|      AUG|07-08-17|    EHAM|Amsterdam - Schiphol|Netherlands|      803|      783|     1586|          801|          794|         1595|\n",
      "|2018|        8|      AUG|30-08-18|    LFPG|Paris-Charles-de-...|     France|      797|      785|     1582|          796|          790|         1586|\n",
      "|2019|        6|      JUN|02-06-19|    LEMD|    Madrid - Barajas|      Spain|      847|      753|     1600|          852|          724|         1576|\n",
      "|2020|        2|      FEB|27-02-20|    EHAM|Amsterdam - Schiphol|Netherlands|      695|      684|     1379|          694|          684|         1378|\n",
      "|2021|        9|      SEP|05-09-21|    EHAM|Amsterdam - Schiphol|Netherlands|      593|      586|     1179|          592|          586|         1178|\n",
      "|2021|       10|      OCT|24-10-21|    EHAM|Amsterdam - Schiphol|Netherlands|      593|      598|     1191|          593|          598|         1191|\n",
      "|2022|        7|      JUL|01-07-22|    LTFM|iGA Istanbul Airport|     Turkey|      697|      692|     1389|          629|          696|         1325|\n",
      "|2022|        8|      AUG|05-08-22|    LTFM|iGA Istanbul Airport|     Turkey|      697|      683|     1380|          696|          685|         1381|\n",
      "|2023|        6|      JUN|11-06-23|    LTFM|iGA Istanbul Airport|     Turkey|      915|      772|     1687|          919|          773|         1692|\n",
      "|2024|        6|      JUN|23-06-24|    LTFM|            Istanbul|     Turkey|      805|      807|     1612|          809|          819|         1628|\n",
      "+----+---------+---------+--------+--------+--------------------+-----------+---------+---------+---------+-------------+-------------+-------------+\n",
      "\n"
     ]
    }
   ],
   "execution_count": 17
  },
  {
   "metadata": {
    "ExecuteTime": {
     "end_time": "2025-03-01T11:27:01.205398Z",
     "start_time": "2025-03-01T11:27:00.551477Z"
    }
   },
   "cell_type": "code",
   "source": [
    "spark.sql(\"\"\"\n",
    "WITH ranked_airports AS (\n",
    "    SELECT\n",
    "        *,\n",
    "        RANK() OVER(\n",
    "            PARTITION BY YEAR\n",
    "            ORDER BY FLT_DEP_1 DESC\n",
    "        ) AS rank\n",
    "    FROM\n",
    "        airport_traffic\n",
    "    )\n",
    "    SELECT\n",
    "        *\n",
    "    FROM\n",
    "        ranked_airports\n",
    "    WHERE\n",
    "        rank = 1\n",
    "\"\"\").show()"
   ],
   "id": "5f811dc70b472d01",
   "outputs": [
    {
     "name": "stdout",
     "output_type": "stream",
     "text": [
      "+----+---------+---------+--------+--------+--------------------+-----------+---------+---------+---------+-------------+-------------+-------------+----+\n",
      "|YEAR|MONTH_NUM|MONTH_MON|FLT_DATE|APT_ICAO|            APT_NAME| STATE_NAME|FLT_DEP_1|FLT_ARR_1|FLT_TOT_1|FLT_DEP_IFR_2|FLT_ARR_IFR_2|FLT_TOT_IFR_2|rank|\n",
      "+----+---------+---------+--------+--------+--------------------+-----------+---------+---------+---------+-------------+-------------+-------------+----+\n",
      "|2016|        7|      JUL|25-07-16|    EHAM|Amsterdam - Schiphol|Netherlands|      782|      770|     1552|          782|          771|         1553|   1|\n",
      "|2017|        5|      MAY|24-05-17|    EHAM|Amsterdam - Schiphol|Netherlands|      803|      767|     1570|          803|          771|         1574|   1|\n",
      "|2017|        8|      AUG|07-08-17|    EHAM|Amsterdam - Schiphol|Netherlands|      803|      783|     1586|          801|          794|         1595|   1|\n",
      "|2018|        8|      AUG|30-08-18|    LFPG|Paris-Charles-de-...|     France|      797|      785|     1582|          796|          790|         1586|   1|\n",
      "|2019|        6|      JUN|02-06-19|    LEMD|    Madrid - Barajas|      Spain|      847|      753|     1600|          852|          724|         1576|   1|\n",
      "|2020|        2|      FEB|27-02-20|    EHAM|Amsterdam - Schiphol|Netherlands|      695|      684|     1379|          694|          684|         1378|   1|\n",
      "|2021|        9|      SEP|05-09-21|    EHAM|Amsterdam - Schiphol|Netherlands|      593|      586|     1179|          592|          586|         1178|   1|\n",
      "|2021|       10|      OCT|24-10-21|    EHAM|Amsterdam - Schiphol|Netherlands|      593|      598|     1191|          593|          598|         1191|   1|\n",
      "|2022|        7|      JUL|01-07-22|    LTFM|iGA Istanbul Airport|     Turkey|      697|      692|     1389|          629|          696|         1325|   1|\n",
      "|2022|        8|      AUG|05-08-22|    LTFM|iGA Istanbul Airport|     Turkey|      697|      683|     1380|          696|          685|         1381|   1|\n",
      "|2023|        6|      JUN|11-06-23|    LTFM|iGA Istanbul Airport|     Turkey|      915|      772|     1687|          919|          773|         1692|   1|\n",
      "|2024|        6|      JUN|23-06-24|    LTFM|            Istanbul|     Turkey|      805|      807|     1612|          809|          819|         1628|   1|\n",
      "+----+---------+---------+--------+--------+--------------------+-----------+---------+---------+---------+-------------+-------------+-------------+----+\n",
      "\n"
     ]
    }
   ],
   "execution_count": 18
  },
  {
   "metadata": {
    "ExecuteTime": {
     "end_time": "2025-03-01T11:27:02.738578Z",
     "start_time": "2025-03-01T11:27:01.245638Z"
    }
   },
   "cell_type": "code",
   "source": [
    "window = Window.partitionBy('APT_ICAO').orderBy(F.col('FLT_DATE').asc())\n",
    "\n",
    "df.withColumn(\n",
    "    'Running Sum',\n",
    "    F.sum('FLT_TOT_1').over(window)\n",
    ").show()"
   ],
   "id": "b284a87973dc315c",
   "outputs": [
    {
     "name": "stdout",
     "output_type": "stream",
     "text": [
      "+----+---------+---------+--------+--------+------------+----------+---------+---------+---------+-------------+-------------+-------------+-----------+\n",
      "|YEAR|MONTH_NUM|MONTH_MON|FLT_DATE|APT_ICAO|    APT_NAME|STATE_NAME|FLT_DEP_1|FLT_ARR_1|FLT_TOT_1|FLT_DEP_IFR_2|FLT_ARR_IFR_2|FLT_TOT_IFR_2|Running Sum|\n",
      "+----+---------+---------+--------+--------+------------+----------+---------+---------+---------+-------------+-------------+-------------+-----------+\n",
      "|2016|        1|      JAN|01-01-16|    EDDK|Cologne-Bonn|   Germany|       92|       90|      182|         NULL|         NULL|         NULL|        182|\n",
      "|2017|        1|      JAN|01-01-17|    EDDK|Cologne-Bonn|   Germany|       95|       97|      192|         NULL|         NULL|         NULL|        374|\n",
      "|2018|        1|      JAN|01-01-18|    EDDK|Cologne-Bonn|   Germany|      108|      110|      218|          108|          107|          215|        592|\n",
      "|2019|        1|      JAN|01-01-19|    EDDK|Cologne-Bonn|   Germany|       97|       99|      196|           98|          101|          199|        788|\n",
      "|2020|        1|      JAN|01-01-20|    EDDK|Cologne-Bonn|   Germany|       90|       89|      179|           89|           91|          180|        967|\n",
      "|2021|        1|      JAN|01-01-21|    EDDK|Cologne-Bonn|   Germany|       26|       26|       52|           27|           27|           54|       1019|\n",
      "|2022|        1|      JAN|01-01-22|    EDDK|Cologne-Bonn|   Germany|       60|       54|      114|           62|           55|          117|       1133|\n",
      "|2023|        1|      JAN|01-01-23|    EDDK|Cologne-Bonn|   Germany|       70|       79|      149|           71|           80|          151|       1282|\n",
      "|2024|        1|      JAN|01-01-24|    EDDK|Cologne-Bonn|   Germany|       70|       71|      141|           72|           72|          144|       1423|\n",
      "|2016|        2|      FEB|01-02-16|    EDDK|Cologne-Bonn|   Germany|      166|      160|      326|         NULL|         NULL|         NULL|       1749|\n",
      "|2017|        2|      FEB|01-02-17|    EDDK|Cologne-Bonn|   Germany|      177|      175|      352|         NULL|         NULL|         NULL|       2101|\n",
      "|2018|        2|      FEB|01-02-18|    EDDK|Cologne-Bonn|   Germany|      181|      185|      366|          181|          179|          360|       2467|\n",
      "|2019|        2|      FEB|01-02-19|    EDDK|Cologne-Bonn|   Germany|      201|      201|      402|          202|          199|          401|       2869|\n",
      "|2020|        2|      FEB|01-02-20|    EDDK|Cologne-Bonn|   Germany|      100|       92|      192|          101|           88|          189|       3061|\n",
      "|2021|        2|      FEB|01-02-21|    EDDK|Cologne-Bonn|   Germany|       81|       82|      163|           84|           80|          164|       3224|\n",
      "|2022|        2|      FEB|01-02-22|    EDDK|Cologne-Bonn|   Germany|      132|      137|      269|          129|          134|          263|       3493|\n",
      "|2023|        2|      FEB|01-02-23|    EDDK|Cologne-Bonn|   Germany|      134|      140|      274|          134|          139|          273|       3767|\n",
      "|2024|        2|      FEB|01-02-24|    EDDK|Cologne-Bonn|   Germany|       78|       90|      168|           76|           84|          160|       3935|\n",
      "|2016|        3|      MAR|01-03-16|    EDDK|Cologne-Bonn|   Germany|      178|      186|      364|         NULL|         NULL|         NULL|       4299|\n",
      "|2017|        3|      MAR|01-03-17|    EDDK|Cologne-Bonn|   Germany|      183|      182|      365|         NULL|         NULL|         NULL|       4664|\n",
      "+----+---------+---------+--------+--------+------------+----------+---------+---------+---------+-------------+-------------+-------------+-----------+\n",
      "only showing top 20 rows\n",
      "\n"
     ]
    }
   ],
   "execution_count": 19
  },
  {
   "metadata": {
    "ExecuteTime": {
     "end_time": "2025-03-01T11:27:04.224695Z",
     "start_time": "2025-03-01T11:27:02.789017Z"
    }
   },
   "cell_type": "code",
   "source": [
    "spark.sql(\"\"\"\n",
    "    SELECT\n",
    "        *,\n",
    "        sum(FLT_TOT_1) OVER (\n",
    "            PARTITION BY APT_ICAO\n",
    "            ORDER BY FLT_DATE\n",
    "        )\n",
    "    FROM\n",
    "        airport_traffic\n",
    "\"\"\").show()"
   ],
   "id": "410e3387d3a10512",
   "outputs": [
    {
     "name": "stdout",
     "output_type": "stream",
     "text": [
      "+----+---------+---------+--------+--------+------------+----------+---------+---------+---------+-------------+-------------+-------------+-------------------------------------------------------------------------------------------------------------------------------+\n",
      "|YEAR|MONTH_NUM|MONTH_MON|FLT_DATE|APT_ICAO|    APT_NAME|STATE_NAME|FLT_DEP_1|FLT_ARR_1|FLT_TOT_1|FLT_DEP_IFR_2|FLT_ARR_IFR_2|FLT_TOT_IFR_2|sum(FLT_TOT_1) OVER (PARTITION BY APT_ICAO ORDER BY FLT_DATE ASC NULLS FIRST RANGE BETWEEN UNBOUNDED PRECEDING AND CURRENT ROW)|\n",
      "+----+---------+---------+--------+--------+------------+----------+---------+---------+---------+-------------+-------------+-------------+-------------------------------------------------------------------------------------------------------------------------------+\n",
      "|2016|        1|      JAN|01-01-16|    EDDK|Cologne-Bonn|   Germany|       92|       90|      182|         NULL|         NULL|         NULL|                                                                                                                            182|\n",
      "|2017|        1|      JAN|01-01-17|    EDDK|Cologne-Bonn|   Germany|       95|       97|      192|         NULL|         NULL|         NULL|                                                                                                                            374|\n",
      "|2018|        1|      JAN|01-01-18|    EDDK|Cologne-Bonn|   Germany|      108|      110|      218|          108|          107|          215|                                                                                                                            592|\n",
      "|2019|        1|      JAN|01-01-19|    EDDK|Cologne-Bonn|   Germany|       97|       99|      196|           98|          101|          199|                                                                                                                            788|\n",
      "|2020|        1|      JAN|01-01-20|    EDDK|Cologne-Bonn|   Germany|       90|       89|      179|           89|           91|          180|                                                                                                                            967|\n",
      "|2021|        1|      JAN|01-01-21|    EDDK|Cologne-Bonn|   Germany|       26|       26|       52|           27|           27|           54|                                                                                                                           1019|\n",
      "|2022|        1|      JAN|01-01-22|    EDDK|Cologne-Bonn|   Germany|       60|       54|      114|           62|           55|          117|                                                                                                                           1133|\n",
      "|2023|        1|      JAN|01-01-23|    EDDK|Cologne-Bonn|   Germany|       70|       79|      149|           71|           80|          151|                                                                                                                           1282|\n",
      "|2024|        1|      JAN|01-01-24|    EDDK|Cologne-Bonn|   Germany|       70|       71|      141|           72|           72|          144|                                                                                                                           1423|\n",
      "|2016|        2|      FEB|01-02-16|    EDDK|Cologne-Bonn|   Germany|      166|      160|      326|         NULL|         NULL|         NULL|                                                                                                                           1749|\n",
      "|2017|        2|      FEB|01-02-17|    EDDK|Cologne-Bonn|   Germany|      177|      175|      352|         NULL|         NULL|         NULL|                                                                                                                           2101|\n",
      "|2018|        2|      FEB|01-02-18|    EDDK|Cologne-Bonn|   Germany|      181|      185|      366|          181|          179|          360|                                                                                                                           2467|\n",
      "|2019|        2|      FEB|01-02-19|    EDDK|Cologne-Bonn|   Germany|      201|      201|      402|          202|          199|          401|                                                                                                                           2869|\n",
      "|2020|        2|      FEB|01-02-20|    EDDK|Cologne-Bonn|   Germany|      100|       92|      192|          101|           88|          189|                                                                                                                           3061|\n",
      "|2021|        2|      FEB|01-02-21|    EDDK|Cologne-Bonn|   Germany|       81|       82|      163|           84|           80|          164|                                                                                                                           3224|\n",
      "|2022|        2|      FEB|01-02-22|    EDDK|Cologne-Bonn|   Germany|      132|      137|      269|          129|          134|          263|                                                                                                                           3493|\n",
      "|2023|        2|      FEB|01-02-23|    EDDK|Cologne-Bonn|   Germany|      134|      140|      274|          134|          139|          273|                                                                                                                           3767|\n",
      "|2024|        2|      FEB|01-02-24|    EDDK|Cologne-Bonn|   Germany|       78|       90|      168|           76|           84|          160|                                                                                                                           3935|\n",
      "|2016|        3|      MAR|01-03-16|    EDDK|Cologne-Bonn|   Germany|      178|      186|      364|         NULL|         NULL|         NULL|                                                                                                                           4299|\n",
      "|2017|        3|      MAR|01-03-17|    EDDK|Cologne-Bonn|   Germany|      183|      182|      365|         NULL|         NULL|         NULL|                                                                                                                           4664|\n",
      "+----+---------+---------+--------+--------+------------+----------+---------+---------+---------+-------------+-------------+-------------+-------------------------------------------------------------------------------------------------------------------------------+\n",
      "only showing top 20 rows\n",
      "\n"
     ]
    }
   ],
   "execution_count": 20
  },
  {
   "metadata": {},
   "cell_type": "markdown",
   "source": "# Calculate a 3-day moving average of FLT_TOT_1 for each airport (APT_ICAO), ordered by FLT_DATE. Handle potential gaps in dates gracefully.",
   "id": "4dd5af07e619e3bb"
  },
  {
   "metadata": {
    "ExecuteTime": {
     "end_time": "2025-03-01T11:27:06.026685Z",
     "start_time": "2025-03-01T11:27:04.246440Z"
    }
   },
   "cell_type": "code",
   "source": [
    "window = Window.partitionBy('APT_ICAO').orderBy('FLT_DATE').rowsBetween(-2, 0)\n",
    "\n",
    "df.withColumn(\n",
    "    'moving_avg_3day',\n",
    "    F.avg('FLT_TOT_1').over(window)\n",
    ").orderBy('APT_ICAO', 'FLT_DATE').show()"
   ],
   "id": "2dd671410a861290",
   "outputs": [
    {
     "name": "stdout",
     "output_type": "stream",
     "text": [
      "+----+---------+---------+--------+--------+--------+----------+---------+---------+---------+-------------+-------------+-------------+------------------+\n",
      "|YEAR|MONTH_NUM|MONTH_MON|FLT_DATE|APT_ICAO|APT_NAME|STATE_NAME|FLT_DEP_1|FLT_ARR_1|FLT_TOT_1|FLT_DEP_IFR_2|FLT_ARR_IFR_2|FLT_TOT_IFR_2|   moving_avg_3day|\n",
      "+----+---------+---------+--------+--------+--------+----------+---------+---------+---------+-------------+-------------+-------------+------------------+\n",
      "|2024|        1|      JAN|01-01-24|    BIKF|Keflavik|   Iceland|       76|       62|      138|         NULL|         NULL|         NULL|             138.0|\n",
      "|2024|        2|      FEB|01-02-24|    BIKF|Keflavik|   Iceland|       62|       72|      134|         NULL|         NULL|         NULL|             136.0|\n",
      "|2024|        3|      MAR|01-03-24|    BIKF|Keflavik|   Iceland|       76|       73|      149|         NULL|         NULL|         NULL|140.33333333333334|\n",
      "|2024|        4|      APR|01-04-24|    BIKF|Keflavik|   Iceland|       87|       80|      167|         NULL|         NULL|         NULL|             150.0|\n",
      "|2024|        5|      MAY|01-05-24|    BIKF|Keflavik|   Iceland|       79|       85|      164|         NULL|         NULL|         NULL|             160.0|\n",
      "|2024|        6|      JUN|01-06-24|    BIKF|Keflavik|   Iceland|       98|      100|      198|         NULL|         NULL|         NULL|176.33333333333334|\n",
      "|2024|        7|      JUL|01-07-24|    BIKF|Keflavik|   Iceland|      118|      118|      236|         NULL|         NULL|         NULL|199.33333333333334|\n",
      "|2024|        8|      AUG|01-08-24|    BIKF|Keflavik|   Iceland|      117|      115|      232|         NULL|         NULL|         NULL|             222.0|\n",
      "|2024|        9|      SEP|01-09-24|    BIKF|Keflavik|   Iceland|      115|      120|      235|         NULL|         NULL|         NULL|234.33333333333334|\n",
      "|2024|       10|      OCT|01-10-24|    BIKF|Keflavik|   Iceland|       93|       92|      185|         NULL|         NULL|         NULL|217.33333333333334|\n",
      "|2024|       11|      NOV|01-11-24|    BIKF|Keflavik|   Iceland|       83|       83|      166|         NULL|         NULL|         NULL|195.33333333333334|\n",
      "|2024|       12|      DEC|01-12-24|    BIKF|Keflavik|   Iceland|       76|       77|      153|         NULL|         NULL|         NULL|             168.0|\n",
      "|2024|        1|      JAN|02-01-24|    BIKF|Keflavik|   Iceland|       86|       86|      172|         NULL|         NULL|         NULL|163.66666666666666|\n",
      "|2024|        2|      FEB|02-02-24|    BIKF|Keflavik|   Iceland|       47|       53|      100|         NULL|         NULL|         NULL|141.66666666666666|\n",
      "|2024|        3|      MAR|02-03-24|    BIKF|Keflavik|   Iceland|       73|       76|      149|         NULL|         NULL|         NULL|140.33333333333334|\n",
      "|2024|        4|      APR|02-04-24|    BIKF|Keflavik|   Iceland|       75|       84|      159|         NULL|         NULL|         NULL|             136.0|\n",
      "|2024|        5|      MAY|02-05-24|    BIKF|Keflavik|   Iceland|       81|       79|      160|         NULL|         NULL|         NULL|             156.0|\n",
      "|2024|        6|      JUN|02-06-24|    BIKF|Keflavik|   Iceland|      102|      100|      202|         NULL|         NULL|         NULL|173.66666666666666|\n",
      "|2024|        7|      JUL|02-07-24|    BIKF|Keflavik|   Iceland|      114|      111|      225|         NULL|         NULL|         NULL|195.66666666666666|\n",
      "|2024|        8|      AUG|02-08-24|    BIKF|Keflavik|   Iceland|      123|      130|      253|         NULL|         NULL|         NULL|226.66666666666666|\n",
      "+----+---------+---------+--------+--------+--------+----------+---------+---------+---------+-------------+-------------+-------------+------------------+\n",
      "only showing top 20 rows\n",
      "\n"
     ]
    }
   ],
   "execution_count": 21
  },
  {
   "metadata": {
    "ExecuteTime": {
     "end_time": "2025-03-01T11:27:07.837043Z",
     "start_time": "2025-03-01T11:27:06.059516Z"
    }
   },
   "cell_type": "code",
   "source": [
    "spark.sql(\"\"\"\n",
    "    SELECT\n",
    "        APT_ICAO,\n",
    "        FLT_DATE,\n",
    "        FLT_TOT_1,\n",
    "        avg(FLT_TOT_1) OVER (\n",
    "            PARTITION BY APT_ICAO\n",
    "            ORDER BY FLT_DATE\n",
    "            ROWS BETWEEN 2 PRECEDING AND CURRENT ROW\n",
    "        ) AS moving_avg_3day\n",
    "    FROM\n",
    "        airport_traffic\n",
    "    ORDER BY\n",
    "        APT_ICAO, FLT_DATE\n",
    "\"\"\").show()"
   ],
   "id": "4df0ec85a4daca51",
   "outputs": [
    {
     "name": "stdout",
     "output_type": "stream",
     "text": [
      "+--------+--------+---------+------------------+\n",
      "|APT_ICAO|FLT_DATE|FLT_TOT_1|   moving_avg_3day|\n",
      "+--------+--------+---------+------------------+\n",
      "|    BIKF|01-01-24|      138|             138.0|\n",
      "|    BIKF|01-02-24|      134|             136.0|\n",
      "|    BIKF|01-03-24|      149|140.33333333333334|\n",
      "|    BIKF|01-04-24|      167|             150.0|\n",
      "|    BIKF|01-05-24|      164|             160.0|\n",
      "|    BIKF|01-06-24|      198|176.33333333333334|\n",
      "|    BIKF|01-07-24|      236|199.33333333333334|\n",
      "|    BIKF|01-08-24|      232|             222.0|\n",
      "|    BIKF|01-09-24|      235|234.33333333333334|\n",
      "|    BIKF|01-10-24|      185|217.33333333333334|\n",
      "|    BIKF|01-11-24|      166|195.33333333333334|\n",
      "|    BIKF|01-12-24|      153|             168.0|\n",
      "|    BIKF|02-01-24|      172|163.66666666666666|\n",
      "|    BIKF|02-02-24|      100|141.66666666666666|\n",
      "|    BIKF|02-03-24|      149|140.33333333333334|\n",
      "|    BIKF|02-04-24|      159|             136.0|\n",
      "|    BIKF|02-05-24|      160|             156.0|\n",
      "|    BIKF|02-06-24|      202|173.66666666666666|\n",
      "|    BIKF|02-07-24|      225|195.66666666666666|\n",
      "|    BIKF|02-08-24|      253|226.66666666666666|\n",
      "+--------+--------+---------+------------------+\n",
      "only showing top 20 rows\n",
      "\n"
     ]
    }
   ],
   "execution_count": 22
  },
  {
   "metadata": {
    "ExecuteTime": {
     "end_time": "2025-03-01T11:27:08.086634Z",
     "start_time": "2025-03-01T11:27:07.850750Z"
    }
   },
   "cell_type": "code",
   "source": [
    "window = Window.orderBy(F.lit(1))\n",
    "\n",
    "df.withColumn(\n",
    "    'row_number',\n",
    "    F.row_number().over(window)\n",
    ").show()"
   ],
   "id": "d9335435d53c9d44",
   "outputs": [
    {
     "name": "stdout",
     "output_type": "stream",
     "text": [
      "+----+---------+---------+--------+--------+-------------+--------------------+---------+---------+---------+-------------+-------------+-------------+----------+\n",
      "|YEAR|MONTH_NUM|MONTH_MON|FLT_DATE|APT_ICAO|     APT_NAME|          STATE_NAME|FLT_DEP_1|FLT_ARR_1|FLT_TOT_1|FLT_DEP_IFR_2|FLT_ARR_IFR_2|FLT_TOT_IFR_2|row_number|\n",
      "+----+---------+---------+--------+--------+-------------+--------------------+---------+---------+---------+-------------+-------------+-------------+----------+\n",
      "|2016|        1|      JAN|01-01-16|    LATI|       Tirana|             Albania|       24|       27|       51|         NULL|         NULL|         NULL|         1|\n",
      "|2016|        1|      JAN|01-01-16|    UDYZ|      Yerevan|             Armenia|        8|       15|       23|         NULL|         NULL|         NULL|         2|\n",
      "|2016|        1|      JAN|01-01-16|    LOWG|         Graz|             Austria|        6|        7|       13|         NULL|         NULL|         NULL|         3|\n",
      "|2016|        1|      JAN|01-01-16|    LOWI|    Innsbruck|             Austria|       26|       32|       58|         NULL|         NULL|         NULL|         4|\n",
      "|2016|        1|      JAN|01-01-16|    LOWK|   Klagenfurt|             Austria|        3|        4|        7|         NULL|         NULL|         NULL|         5|\n",
      "|2016|        1|      JAN|01-01-16|    LOWL|         Linz|             Austria|        3|        5|        8|         NULL|         NULL|         NULL|         6|\n",
      "|2016|        1|      JAN|01-01-16|    LOWS|     Salzburg|             Austria|       23|       26|       49|         NULL|         NULL|         NULL|         7|\n",
      "|2016|        1|      JAN|01-01-16|    LOWW|       Vienna|             Austria|      210|      176|      386|          210|          179|          389|         8|\n",
      "|2016|        1|      JAN|01-01-16|    EBAW|      Antwerp|             Belgium|        4|        3|        7|         NULL|         NULL|         NULL|         9|\n",
      "|2016|        1|      JAN|01-01-16|    EBBR|     Brussels|             Belgium|      174|      171|      345|          174|          161|          335|        10|\n",
      "|2016|        1|      JAN|01-01-16|    EBCI|    Charleroi|             Belgium|       45|       47|       92|           45|           45|           90|        11|\n",
      "|2016|        1|      JAN|01-01-16|    EBLG|        Liège|             Belgium|        6|        7|       13|         NULL|         NULL|         NULL|        12|\n",
      "|2016|        1|      JAN|01-01-16|    EBOS|Ostend-Bruges|             Belgium|        7|        7|       14|         NULL|         NULL|         NULL|        13|\n",
      "|2016|        1|      JAN|01-01-16|    LQSA|     Sarajevo|Bosnia and Herzeg...|        5|        6|       11|         NULL|         NULL|         NULL|        14|\n",
      "|2016|        1|      JAN|01-01-16|    LBSF|        Sofia|            Bulgaria|       26|       26|       52|           26|           24|           50|        15|\n",
      "|2016|        1|      JAN|01-01-16|    LDZA|       Zagreb|             Croatia|       24|       22|       46|         NULL|         NULL|         NULL|        16|\n",
      "|2016|        1|      JAN|01-01-16|    LCLK|      Larnaca|              Cyprus|       25|       27|       52|         NULL|         NULL|         NULL|        17|\n",
      "|2016|        1|      JAN|01-01-16|    LCPH|       Paphos|              Cyprus|        6|        6|       12|         NULL|         NULL|         NULL|        18|\n",
      "|2016|        1|      JAN|01-01-16|    LKMT|      Ostrava|      Czech Republic|        2|        3|        5|         NULL|         NULL|         NULL|        19|\n",
      "|2016|        1|      JAN|01-01-16|    LKPR|       Prague|      Czech Republic|      121|      118|      239|          120|          117|          237|        20|\n",
      "+----+---------+---------+--------+--------+-------------+--------------------+---------+---------+---------+-------------+-------------+-------------+----------+\n",
      "only showing top 20 rows\n",
      "\n"
     ]
    }
   ],
   "execution_count": 23
  },
  {
   "metadata": {
    "ExecuteTime": {
     "end_time": "2025-03-01T11:27:08.490772Z",
     "start_time": "2025-03-01T11:27:08.119220Z"
    }
   },
   "cell_type": "code",
   "source": [
    "window = Window.orderBy(F.lit(1))\n",
    "\n",
    "df_with_indices = df.withColumn('row_number', F.row_number().over(window))\n",
    "df_with_indices.filter((F.col('row_number').between(90, 100))).show()"
   ],
   "id": "93cac7037a8ba5cf",
   "outputs": [
    {
     "name": "stdout",
     "output_type": "stream",
     "text": [
      "+----+---------+---------+--------+--------+--------------+----------+---------+---------+---------+-------------+-------------+-------------+----------+\n",
      "|YEAR|MONTH_NUM|MONTH_MON|FLT_DATE|APT_ICAO|      APT_NAME|STATE_NAME|FLT_DEP_1|FLT_ARR_1|FLT_TOT_1|FLT_DEP_IFR_2|FLT_ARR_IFR_2|FLT_TOT_IFR_2|row_number|\n",
      "+----+---------+---------+--------+--------+--------------+----------+---------+---------+---------+-------------+-------------+-------------+----------+\n",
      "|2016|        1|      JAN|01-01-16|    EDDR|  Saarbruecken|   Germany|        3|        3|        6|         NULL|         NULL|         NULL|        90|\n",
      "|2016|        1|      JAN|01-01-16|    EDDS|     Stuttgart|   Germany|       81|       84|      165|         NULL|         NULL|         NULL|        91|\n",
      "|2016|        1|      JAN|01-01-16|    EDDT|Berlin - Tegel|   Germany|      164|      162|      326|         NULL|         NULL|         NULL|        92|\n",
      "|2016|        1|      JAN|01-01-16|    EDDV|       Hanover|   Germany|       33|       38|       71|           33|           35|           68|        93|\n",
      "|2016|        1|      JAN|01-01-16|    EDDW|        Bremen|   Germany|       13|       14|       27|           13|           14|           27|        94|\n",
      "|2016|        1|      JAN|01-01-16|    LGAV|        Athens|    Greece|      160|      162|      322|          159|          160|          319|        95|\n",
      "|2016|        1|      JAN|01-01-16|    LGIR|     Heraklion|    Greece|       10|       10|       20|         NULL|         NULL|         NULL|        96|\n",
      "|2016|        1|      JAN|01-01-16|    LGKF|    Kefallinia|    Greece|        2|        2|        4|         NULL|         NULL|         NULL|        97|\n",
      "|2016|        1|      JAN|01-01-16|    LGKO|           Kos|    Greece|        2|        2|        4|         NULL|         NULL|         NULL|        98|\n",
      "|2016|        1|      JAN|01-01-16|    LGKR|         Corfu|    Greece|        4|        3|        7|         NULL|         NULL|         NULL|        99|\n",
      "|2016|        1|      JAN|01-01-16|    LGMK|       Mikonos|    Greece|        1|        1|        2|         NULL|         NULL|         NULL|       100|\n",
      "+----+---------+---------+--------+--------+--------------+----------+---------+---------+---------+-------------+-------------+-------------+----------+\n",
      "\n"
     ]
    }
   ],
   "execution_count": 24
  },
  {
   "metadata": {
    "ExecuteTime": {
     "end_time": "2025-03-01T11:27:08.919123Z",
     "start_time": "2025-03-01T11:27:08.535191Z"
    }
   },
   "cell_type": "code",
   "source": [
    "spark.sql(\"\"\"\n",
    "WITH airport_traffic_rows AS (\n",
    "    SELECT\n",
    "        *,\n",
    "        ROW_NUMBER() OVER (ORDER BY 1) AS row_number\n",
    "    FROM\n",
    "        airport_traffic\n",
    "    )\n",
    "    SELECT\n",
    "        *\n",
    "    FROM\n",
    "        airport_traffic_rows\n",
    "    WHERE row_number BETWEEN 490 AND 510\n",
    "\"\"\").show()"
   ],
   "id": "d4baf6f8bd783ef9",
   "outputs": [
    {
     "name": "stdout",
     "output_type": "stream",
     "text": [
      "+----+---------+---------+--------+--------+-------------+--------------------+---------+---------+---------+-------------+-------------+-------------+----------+\n",
      "|YEAR|MONTH_NUM|MONTH_MON|FLT_DATE|APT_ICAO|     APT_NAME|          STATE_NAME|FLT_DEP_1|FLT_ARR_1|FLT_TOT_1|FLT_DEP_IFR_2|FLT_ARR_IFR_2|FLT_TOT_IFR_2|row_number|\n",
      "+----+---------+---------+--------+--------+-------------+--------------------+---------+---------+---------+-------------+-------------+-------------+----------+\n",
      "|2016|        1|      JAN|03-01-16|    LATI|       Tirana|             Albania|       27|       28|       55|         NULL|         NULL|         NULL|       490|\n",
      "|2016|        1|      JAN|03-01-16|    UDYZ|      Yerevan|             Armenia|       27|       27|       54|         NULL|         NULL|         NULL|       491|\n",
      "|2016|        1|      JAN|03-01-16|    LOWG|         Graz|             Austria|        9|       10|       19|         NULL|         NULL|         NULL|       492|\n",
      "|2016|        1|      JAN|03-01-16|    LOWI|    Innsbruck|             Austria|       57|       52|      109|         NULL|         NULL|         NULL|       493|\n",
      "|2016|        1|      JAN|03-01-16|    LOWK|   Klagenfurt|             Austria|       10|        9|       19|         NULL|         NULL|         NULL|       494|\n",
      "|2016|        1|      JAN|03-01-16|    LOWL|         Linz|             Austria|        7|        6|       13|         NULL|         NULL|         NULL|       495|\n",
      "|2016|        1|      JAN|03-01-16|    LOWS|     Salzburg|             Austria|       51|       46|       97|         NULL|         NULL|         NULL|       496|\n",
      "|2016|        1|      JAN|03-01-16|    LOWW|       Vienna|             Austria|      286|      278|      564|          286|          281|          567|       497|\n",
      "|2016|        1|      JAN|03-01-16|    EBAW|      Antwerp|             Belgium|       10|       17|       27|         NULL|         NULL|         NULL|       498|\n",
      "|2016|        1|      JAN|03-01-16|    EBBR|     Brussels|             Belgium|      261|      252|      513|          261|          254|          515|       499|\n",
      "|2016|        1|      JAN|03-01-16|    EBCI|    Charleroi|             Belgium|       62|       60|      122|           62|           60|          122|       500|\n",
      "|2016|        1|      JAN|03-01-16|    EBLG|        Liège|             Belgium|       23|       21|       44|         NULL|         NULL|         NULL|       501|\n",
      "|2016|        1|      JAN|03-01-16|    EBOS|Ostend-Bruges|             Belgium|        4|        4|        8|         NULL|         NULL|         NULL|       502|\n",
      "|2016|        1|      JAN|03-01-16|    LQSA|     Sarajevo|Bosnia and Herzeg...|        9|       12|       21|         NULL|         NULL|         NULL|       503|\n",
      "|2016|        1|      JAN|03-01-16|    LBSF|        Sofia|            Bulgaria|       70|       68|      138|           69|           68|          137|       504|\n",
      "|2016|        1|      JAN|03-01-16|    LDZA|       Zagreb|             Croatia|       50|       45|       95|         NULL|         NULL|         NULL|       505|\n",
      "|2016|        1|      JAN|03-01-16|    LCLK|      Larnaca|              Cyprus|       51|       51|      102|         NULL|         NULL|         NULL|       506|\n",
      "|2016|        1|      JAN|03-01-16|    LCPH|       Paphos|              Cyprus|       18|       17|       35|         NULL|         NULL|         NULL|       507|\n",
      "|2016|        1|      JAN|03-01-16|    LKKV| Karlovy Vary|      Czech Republic|        2|        3|        5|         NULL|         NULL|         NULL|       508|\n",
      "|2016|        1|      JAN|03-01-16|    LKMT|      Ostrava|      Czech Republic|        3|        5|        8|         NULL|         NULL|         NULL|       509|\n",
      "+----+---------+---------+--------+--------+-------------+--------------------+---------+---------+---------+-------------+-------------+-------------+----------+\n",
      "only showing top 20 rows\n",
      "\n"
     ]
    }
   ],
   "execution_count": 25
  },
  {
   "metadata": {
    "ExecuteTime": {
     "end_time": "2025-03-01T11:27:10.416847Z",
     "start_time": "2025-03-01T11:27:08.952151Z"
    }
   },
   "cell_type": "code",
   "source": [
    "window = Window.partitionBy('APT_NAME').orderBy(F.col('FLT_TOT_1').desc())\n",
    "\n",
    "df.withColumn(\n",
    "    'total_flights_rank',\n",
    "    F.rank().over(window)\n",
    ").show()"
   ],
   "id": "a8c68fbd3fb5fd7",
   "outputs": [
    {
     "name": "stdout",
     "output_type": "stream",
     "text": [
      "+----+---------+---------+--------+--------+--------+----------+---------+---------+---------+-------------+-------------+-------------+------------------+\n",
      "|YEAR|MONTH_NUM|MONTH_MON|FLT_DATE|APT_ICAO|APT_NAME|STATE_NAME|FLT_DEP_1|FLT_ARR_1|FLT_TOT_1|FLT_DEP_IFR_2|FLT_ARR_IFR_2|FLT_TOT_IFR_2|total_flights_rank|\n",
      "+----+---------+---------+--------+--------+--------+----------+---------+---------+---------+-------------+-------------+-------------+------------------+\n",
      "|2016|        3|      MAR|31-03-16|    EBAW| Antwerp|   Belgium|       48|       52|      100|         NULL|         NULL|         NULL|                 1|\n",
      "|2016|        4|      APR|04-04-16|    EBAW| Antwerp|   Belgium|       49|       47|       96|         NULL|         NULL|         NULL|                 2|\n",
      "|2018|        4|      APR|17-04-18|    EBAW| Antwerp|   Belgium|       50|       45|       95|         NULL|         NULL|         NULL|                 3|\n",
      "|2016|        3|      MAR|24-03-16|    EBAW| Antwerp|   Belgium|       45|       48|       93|         NULL|         NULL|         NULL|                 4|\n",
      "|2016|        3|      MAR|30-03-16|    EBAW| Antwerp|   Belgium|       49|       44|       93|         NULL|         NULL|         NULL|                 4|\n",
      "|2016|        3|      MAR|29-03-16|    EBAW| Antwerp|   Belgium|       45|       47|       92|         NULL|         NULL|         NULL|                 6|\n",
      "|2016|        4|      APR|01-04-16|    EBAW| Antwerp|   Belgium|       47|       45|       92|         NULL|         NULL|         NULL|                 6|\n",
      "|2016|        5|      MAY|17-05-16|    EBAW| Antwerp|   Belgium|       45|       46|       91|         NULL|         NULL|         NULL|                 8|\n",
      "|2018|        6|      JUN|29-06-18|    EBAW| Antwerp|   Belgium|       44|       46|       90|         NULL|         NULL|         NULL|                 9|\n",
      "|2016|        2|      FEB|05-02-16|    EBAW| Antwerp|   Belgium|       42|       42|       84|         NULL|         NULL|         NULL|                10|\n",
      "|2016|        4|      APR|02-04-16|    EBAW| Antwerp|   Belgium|       42|       39|       81|         NULL|         NULL|         NULL|                11|\n",
      "|2016|        6|      JUN|09-06-16|    EBAW| Antwerp|   Belgium|       39|       42|       81|         NULL|         NULL|         NULL|                11|\n",
      "|2017|        5|      MAY|24-05-17|    EBAW| Antwerp|   Belgium|       47|       34|       81|         NULL|         NULL|         NULL|                11|\n",
      "|2018|        6|      JUN|27-06-18|    EBAW| Antwerp|   Belgium|       41|       40|       81|         NULL|         NULL|         NULL|                11|\n",
      "|2018|        6|      JUN|05-06-18|    EBAW| Antwerp|   Belgium|       43|       37|       80|         NULL|         NULL|         NULL|                15|\n",
      "|2018|        3|      MAR|29-03-18|    EBAW| Antwerp|   Belgium|       41|       37|       78|         NULL|         NULL|         NULL|                16|\n",
      "|2016|        4|      APR|21-04-16|    EBAW| Antwerp|   Belgium|       40|       37|       77|         NULL|         NULL|         NULL|                17|\n",
      "|2016|        5|      MAY|12-05-16|    EBAW| Antwerp|   Belgium|       40|       37|       77|         NULL|         NULL|         NULL|                17|\n",
      "|2016|        6|      JUN|10-06-16|    EBAW| Antwerp|   Belgium|       40|       37|       77|         NULL|         NULL|         NULL|                17|\n",
      "|2018|        8|      AUG|06-08-18|    EBAW| Antwerp|   Belgium|       38|       39|       77|         NULL|         NULL|         NULL|                17|\n",
      "+----+---------+---------+--------+--------+--------+----------+---------+---------+---------+-------------+-------------+-------------+------------------+\n",
      "only showing top 20 rows\n",
      "\n"
     ]
    }
   ],
   "execution_count": 26
  },
  {
   "metadata": {
    "ExecuteTime": {
     "end_time": "2025-03-01T11:27:11.389762Z",
     "start_time": "2025-03-01T11:27:10.466545Z"
    }
   },
   "cell_type": "code",
   "source": [
    "window = Window.orderBy(F.col('FLT_TOT_1').desc())\n",
    "\n",
    "df \\\n",
    ".withColumn('total_flights_rank', F.rank().over(window)) \\\n",
    ".withColumn('total_flights_dense_rank', F.dense_rank().over(window)) \\\n",
    ".select('APT_NAME', 'FLT_TOT_1', 'total_flights_rank', 'total_flights_dense_rank') \\\n",
    ".orderBy('total_flights_rank') \\\n",
    ".show(20)"
   ],
   "id": "e890018170cfb04f",
   "outputs": [
    {
     "name": "stdout",
     "output_type": "stream",
     "text": [
      "+--------------------+---------+------------------+------------------------+\n",
      "|            APT_NAME|FLT_TOT_1|total_flights_rank|total_flights_dense_rank|\n",
      "+--------------------+---------+------------------+------------------------+\n",
      "|iGA Istanbul Airport|     1687|                 1|                       1|\n",
      "|iGA Istanbul Airport|     1646|                 2|                       2|\n",
      "|           Frankfurt|     1628|                 3|                       3|\n",
      "|Paris-Charles-de-...|     1616|                 4|                       4|\n",
      "|            Istanbul|     1612|                 5|                       5|\n",
      "|           Frankfurt|     1610|                 6|                       6|\n",
      "|Paris-Charles-de-...|     1607|                 7|                       7|\n",
      "|           Frankfurt|     1602|                 8|                       8|\n",
      "|    Madrid - Barajas|     1600|                 9|                       9|\n",
      "|Amsterdam - Schiphol|     1599|                10|                      10|\n",
      "|Amsterdam - Schiphol|     1597|                11|                      11|\n",
      "|Amsterdam - Schiphol|     1596|                12|                      12|\n",
      "|Paris-Charles-de-...|     1596|                12|                      12|\n",
      "|Amsterdam - Schiphol|     1595|                14|                      13|\n",
      "|           Frankfurt|     1595|                14|                      13|\n",
      "|           Frankfurt|     1595|                14|                      13|\n",
      "|Amsterdam - Schiphol|     1592|                17|                      14|\n",
      "|Paris-Charles-de-...|     1592|                17|                      14|\n",
      "|Amsterdam - Schiphol|     1590|                19|                      15|\n",
      "|Amsterdam - Schiphol|     1590|                19|                      15|\n",
      "+--------------------+---------+------------------+------------------------+\n",
      "only showing top 20 rows\n",
      "\n"
     ]
    }
   ],
   "execution_count": 27
  },
  {
   "metadata": {
    "ExecuteTime": {
     "end_time": "2025-03-01T11:27:11.700298Z",
     "start_time": "2025-03-01T11:27:11.421417Z"
    }
   },
   "cell_type": "code",
   "source": [
    "spark.sql(\"\"\"\n",
    "WITH airport_traffic AS (\n",
    "    SELECT\n",
    "        *,\n",
    "        dense_rank() OVER(\n",
    "            ORDER BY FLT_TOT_1 DESC\n",
    "        ) AS total_flights_dense_rank,\n",
    "        rank() OVER(\n",
    "            ORDER BY FLT_TOT_1 DESC\n",
    "        ) AS total_flights_rank\n",
    "    FROM\n",
    "        airport_traffic)\n",
    "    SELECT\n",
    "        APT_NAME,\n",
    "        FLT_TOT_1,\n",
    "        total_flights_rank,\n",
    "        total_flights_dense_rank\n",
    "    FROM\n",
    "        airport_traffic\n",
    "\"\"\").show()"
   ],
   "id": "5cf2dc159722a086",
   "outputs": [
    {
     "name": "stdout",
     "output_type": "stream",
     "text": [
      "+--------------------+---------+------------------+------------------------+\n",
      "|            APT_NAME|FLT_TOT_1|total_flights_rank|total_flights_dense_rank|\n",
      "+--------------------+---------+------------------+------------------------+\n",
      "|iGA Istanbul Airport|     1687|                 1|                       1|\n",
      "|iGA Istanbul Airport|     1646|                 2|                       2|\n",
      "|           Frankfurt|     1628|                 3|                       3|\n",
      "|Paris-Charles-de-...|     1616|                 4|                       4|\n",
      "|            Istanbul|     1612|                 5|                       5|\n",
      "|           Frankfurt|     1610|                 6|                       6|\n",
      "|Paris-Charles-de-...|     1607|                 7|                       7|\n",
      "|           Frankfurt|     1602|                 8|                       8|\n",
      "|    Madrid - Barajas|     1600|                 9|                       9|\n",
      "|Amsterdam - Schiphol|     1599|                10|                      10|\n",
      "|Amsterdam - Schiphol|     1597|                11|                      11|\n",
      "|Amsterdam - Schiphol|     1596|                12|                      12|\n",
      "|Paris-Charles-de-...|     1596|                12|                      12|\n",
      "|Amsterdam - Schiphol|     1595|                14|                      13|\n",
      "|           Frankfurt|     1595|                14|                      13|\n",
      "|           Frankfurt|     1595|                14|                      13|\n",
      "|Amsterdam - Schiphol|     1592|                17|                      14|\n",
      "|Paris-Charles-de-...|     1592|                17|                      14|\n",
      "|Amsterdam - Schiphol|     1590|                19|                      15|\n",
      "|Amsterdam - Schiphol|     1590|                19|                      15|\n",
      "+--------------------+---------+------------------+------------------------+\n",
      "only showing top 20 rows\n",
      "\n"
     ]
    }
   ],
   "execution_count": 28
  },
  {
   "metadata": {
    "ExecuteTime": {
     "end_time": "2025-03-01T11:27:12.162319Z",
     "start_time": "2025-03-01T11:27:11.731408Z"
    }
   },
   "cell_type": "code",
   "source": [
    "window = Window.partitionBy('YEAR').orderBy(F.col('FLT_TOT_1').desc())\n",
    "\n",
    "df.withColumn(\n",
    "    'rank_within_year',\n",
    "    F.rank().over(window)\n",
    ").withColumn(\n",
    "    'dense_rank_within_year',\n",
    "    F.dense_rank().over(window)\n",
    ").select(\n",
    "    'YEAR', 'rank_within_year', 'dense_rank_within_year'\n",
    ").show()"
   ],
   "id": "2bc5cc54f000b8f6",
   "outputs": [
    {
     "name": "stdout",
     "output_type": "stream",
     "text": [
      "+----+----------------+----------------------+\n",
      "|YEAR|rank_within_year|dense_rank_within_year|\n",
      "+----+----------------+----------------------+\n",
      "|2018|               1|                     1|\n",
      "|2018|               2|                     2|\n",
      "|2018|               2|                     2|\n",
      "|2018|               2|                     2|\n",
      "|2018|               2|                     2|\n",
      "|2018|               6|                     3|\n",
      "|2018|               7|                     4|\n",
      "|2018|               7|                     4|\n",
      "|2018|               9|                     5|\n",
      "|2018|               9|                     5|\n",
      "|2018|              11|                     6|\n",
      "|2018|              12|                     7|\n",
      "|2018|              12|                     7|\n",
      "|2018|              12|                     7|\n",
      "|2018|              15|                     8|\n",
      "|2018|              15|                     8|\n",
      "|2018|              17|                     9|\n",
      "|2018|              17|                     9|\n",
      "|2018|              17|                     9|\n",
      "|2018|              17|                     9|\n",
      "+----+----------------+----------------------+\n",
      "only showing top 20 rows\n",
      "\n"
     ]
    }
   ],
   "execution_count": 29
  },
  {
   "metadata": {
    "ExecuteTime": {
     "end_time": "2025-03-01T11:27:13.746025Z",
     "start_time": "2025-03-01T11:27:12.199809Z"
    }
   },
   "cell_type": "code",
   "source": [
    "window = Window.partitionBy('APT_NAME').orderBy('YEAR', 'MONTH_NUM')\n",
    "\n",
    "(df.withColumn(\n",
    "    'prev_month_flights',\n",
    "    F.lag('FLT_TOT_1').over(window)\n",
    ").select(\n",
    "    'APT_NAME', 'YEAR', 'MONTH_NUM', 'FLT_TOT_1', 'prev_month_flights'\n",
    ").orderBy(\n",
    "    'APT_NAME', 'YEAR', 'MONTH_NUM'\n",
    ").show())"
   ],
   "id": "abd6e3d88bcc4d5e",
   "outputs": [
    {
     "name": "stdout",
     "output_type": "stream",
     "text": [
      "+--------+----+---------+---------+------------------+\n",
      "|APT_NAME|YEAR|MONTH_NUM|FLT_TOT_1|prev_month_flights|\n",
      "+--------+----+---------+---------+------------------+\n",
      "|    Abad|2016|        1|        4|              NULL|\n",
      "|    Abad|2016|        1|        2|                 4|\n",
      "|    Abad|2016|        1|        2|                 2|\n",
      "|    Abad|2016|        1|        2|                 2|\n",
      "|    Abad|2016|        1|        1|                 2|\n",
      "|    Abad|2016|        1|        2|                 1|\n",
      "|    Abad|2016|        1|        3|                 2|\n",
      "|    Abad|2016|        1|        8|                 3|\n",
      "|    Abad|2016|        1|        2|                 8|\n",
      "|    Abad|2016|        1|        1|                 2|\n",
      "|    Abad|2016|        1|        1|                 1|\n",
      "|    Abad|2016|        1|        2|                 1|\n",
      "|    Abad|2016|        1|        2|                 2|\n",
      "|    Abad|2016|        1|        1|                 2|\n",
      "|    Abad|2016|        1|        5|                 1|\n",
      "|    Abad|2016|        1|        1|                 5|\n",
      "|    Abad|2016|        2|        4|                 1|\n",
      "|    Abad|2016|        2|        1|                 4|\n",
      "|    Abad|2016|        2|        2|                 1|\n",
      "|    Abad|2016|        2|        4|                 2|\n",
      "+--------+----+---------+---------+------------------+\n",
      "only showing top 20 rows\n",
      "\n"
     ]
    }
   ],
   "execution_count": 30
  },
  {
   "metadata": {
    "ExecuteTime": {
     "end_time": "2025-03-01T11:27:15.419868Z",
     "start_time": "2025-03-01T11:27:13.779013Z"
    }
   },
   "cell_type": "code",
   "source": [
    "spark.sql(\"\"\"\n",
    "WITH airport_traffic AS (\n",
    "    SELECT\n",
    "        *,\n",
    "        LAG(FLT_TOT_1) OVER (\n",
    "        PARTITION BY APT_NAME\n",
    "        ORDER BY MONTH_NUM) AS prev_month_flights\n",
    "    FROM\n",
    "        airport_traffic\n",
    "    )\n",
    "    SELECT\n",
    "        APT_NAME,\n",
    "        YEAR,\n",
    "        MONTH_NUM,\n",
    "        FLT_TOT_1,\n",
    "        prev_month_flights\n",
    "    FROM\n",
    "        airport_traffic\n",
    "    ORDER BY\n",
    "        APT_NAME, YEAR, MONTH_NUM\n",
    "\"\"\").show()"
   ],
   "id": "859963b3f908e725",
   "outputs": [
    {
     "name": "stdout",
     "output_type": "stream",
     "text": [
      "+--------+----+---------+---------+------------------+\n",
      "|APT_NAME|YEAR|MONTH_NUM|FLT_TOT_1|prev_month_flights|\n",
      "+--------+----+---------+---------+------------------+\n",
      "|    Abad|2016|        1|        4|              NULL|\n",
      "|    Abad|2016|        1|        2|                 4|\n",
      "|    Abad|2016|        1|        2|                 2|\n",
      "|    Abad|2016|        1|        2|                 2|\n",
      "|    Abad|2016|        1|        1|                 2|\n",
      "|    Abad|2016|        1|        2|                 1|\n",
      "|    Abad|2016|        1|        3|                 2|\n",
      "|    Abad|2016|        1|        8|                 3|\n",
      "|    Abad|2016|        1|        2|                 8|\n",
      "|    Abad|2016|        1|        1|                 2|\n",
      "|    Abad|2016|        1|        1|                 1|\n",
      "|    Abad|2016|        1|        2|                 1|\n",
      "|    Abad|2016|        1|        2|                 2|\n",
      "|    Abad|2016|        1|        1|                 2|\n",
      "|    Abad|2016|        1|        5|                 1|\n",
      "|    Abad|2016|        1|        1|                 5|\n",
      "|    Abad|2016|        2|        2|                 3|\n",
      "|    Abad|2016|        2|        2|                 1|\n",
      "|    Abad|2016|        2|        1|                 2|\n",
      "|    Abad|2016|        2|        5|                 2|\n",
      "+--------+----+---------+---------+------------------+\n",
      "only showing top 20 rows\n",
      "\n"
     ]
    }
   ],
   "execution_count": 31
  },
  {
   "metadata": {
    "ExecuteTime": {
     "end_time": "2025-03-01T11:27:16.899730Z",
     "start_time": "2025-03-01T11:27:15.461988Z"
    }
   },
   "cell_type": "code",
   "source": [
    "window = Window.partitionBy('APT_NAME').orderBy('YEAR', 'MONTH_NUM')\n",
    "\n",
    "df.withColumn(\n",
    "    'next_month_flights',\n",
    "    F.lead('FLT_TOT_1').over(window)\n",
    ").show(5)"
   ],
   "id": "a86d64bc003a5be3",
   "outputs": [
    {
     "name": "stdout",
     "output_type": "stream",
     "text": [
      "+----+---------+---------+--------+--------+--------+----------+---------+---------+---------+-------------+-------------+-------------+------------------+\n",
      "|YEAR|MONTH_NUM|MONTH_MON|FLT_DATE|APT_ICAO|APT_NAME|STATE_NAME|FLT_DEP_1|FLT_ARR_1|FLT_TOT_1|FLT_DEP_IFR_2|FLT_ARR_IFR_2|FLT_TOT_IFR_2|next_month_flights|\n",
      "+----+---------+---------+--------+--------+--------+----------+---------+---------+---------+-------------+-------------+-------------+------------------+\n",
      "|2016|        1|      JAN|01-01-16|    EBAW| Antwerp|   Belgium|        4|        3|        7|         NULL|         NULL|         NULL|                20|\n",
      "|2016|        1|      JAN|02-01-16|    EBAW| Antwerp|   Belgium|        9|       11|       20|         NULL|         NULL|         NULL|                27|\n",
      "|2016|        1|      JAN|03-01-16|    EBAW| Antwerp|   Belgium|       10|       17|       27|         NULL|         NULL|         NULL|                35|\n",
      "|2016|        1|      JAN|04-01-16|    EBAW| Antwerp|   Belgium|       18|       17|       35|         NULL|         NULL|         NULL|                25|\n",
      "|2016|        1|      JAN|05-01-16|    EBAW| Antwerp|   Belgium|       12|       13|       25|         NULL|         NULL|         NULL|                47|\n",
      "+----+---------+---------+--------+--------+--------+----------+---------+---------+---------+-------------+-------------+-------------+------------------+\n",
      "only showing top 5 rows\n",
      "\n"
     ]
    }
   ],
   "execution_count": 32
  },
  {
   "metadata": {
    "ExecuteTime": {
     "end_time": "2025-03-01T11:27:18.438614Z",
     "start_time": "2025-03-01T11:27:16.932363Z"
    }
   },
   "cell_type": "code",
   "source": [
    "spark.sql(\"\"\"\n",
    "    SELECT\n",
    "     *,\n",
    "     lead(FLT_TOT_1) OVER (\n",
    "     PARTITION BY APT_NAME\n",
    "     ORDER BY YEAR, MONTH_NUM\n",
    "     ) AS next_month_flights\n",
    "    FROM\n",
    "        airport_traffic\n",
    "\"\"\").show(5)"
   ],
   "id": "cf84cec091dd0404",
   "outputs": [
    {
     "name": "stdout",
     "output_type": "stream",
     "text": [
      "+----+---------+---------+--------+--------+--------+----------+---------+---------+---------+-------------+-------------+-------------+------------------+\n",
      "|YEAR|MONTH_NUM|MONTH_MON|FLT_DATE|APT_ICAO|APT_NAME|STATE_NAME|FLT_DEP_1|FLT_ARR_1|FLT_TOT_1|FLT_DEP_IFR_2|FLT_ARR_IFR_2|FLT_TOT_IFR_2|next_month_flights|\n",
      "+----+---------+---------+--------+--------+--------+----------+---------+---------+---------+-------------+-------------+-------------+------------------+\n",
      "|2016|        1|      JAN|01-01-16|    EBAW| Antwerp|   Belgium|        4|        3|        7|         NULL|         NULL|         NULL|                20|\n",
      "|2016|        1|      JAN|02-01-16|    EBAW| Antwerp|   Belgium|        9|       11|       20|         NULL|         NULL|         NULL|                27|\n",
      "|2016|        1|      JAN|03-01-16|    EBAW| Antwerp|   Belgium|       10|       17|       27|         NULL|         NULL|         NULL|                35|\n",
      "|2016|        1|      JAN|04-01-16|    EBAW| Antwerp|   Belgium|       18|       17|       35|         NULL|         NULL|         NULL|                25|\n",
      "|2016|        1|      JAN|05-01-16|    EBAW| Antwerp|   Belgium|       12|       13|       25|         NULL|         NULL|         NULL|                47|\n",
      "+----+---------+---------+--------+--------+--------+----------+---------+---------+---------+-------------+-------------+-------------+------------------+\n",
      "only showing top 5 rows\n",
      "\n"
     ]
    }
   ],
   "execution_count": 33
  },
  {
   "metadata": {
    "ExecuteTime": {
     "end_time": "2025-03-01T11:27:19.859481Z",
     "start_time": "2025-03-01T11:27:18.470864Z"
    }
   },
   "cell_type": "code",
   "source": [
    "window = Window.partitionBy('APT_NAME').orderBy('YEAR', 'MONTH_NUM')\n",
    "\n",
    "df.withColumn(\n",
    "    'prev_month_flights',\n",
    "    F.lag('FLT_TOT_1').over(window)\n",
    ").show(5)"
   ],
   "id": "e75b5a5e6a66b504",
   "outputs": [
    {
     "name": "stdout",
     "output_type": "stream",
     "text": [
      "+----+---------+---------+--------+--------+--------+----------+---------+---------+---------+-------------+-------------+-------------+------------------+\n",
      "|YEAR|MONTH_NUM|MONTH_MON|FLT_DATE|APT_ICAO|APT_NAME|STATE_NAME|FLT_DEP_1|FLT_ARR_1|FLT_TOT_1|FLT_DEP_IFR_2|FLT_ARR_IFR_2|FLT_TOT_IFR_2|prev_month_flights|\n",
      "+----+---------+---------+--------+--------+--------+----------+---------+---------+---------+-------------+-------------+-------------+------------------+\n",
      "|2016|        1|      JAN|01-01-16|    EBAW| Antwerp|   Belgium|        4|        3|        7|         NULL|         NULL|         NULL|              NULL|\n",
      "|2016|        1|      JAN|02-01-16|    EBAW| Antwerp|   Belgium|        9|       11|       20|         NULL|         NULL|         NULL|                 7|\n",
      "|2016|        1|      JAN|03-01-16|    EBAW| Antwerp|   Belgium|       10|       17|       27|         NULL|         NULL|         NULL|                20|\n",
      "|2016|        1|      JAN|04-01-16|    EBAW| Antwerp|   Belgium|       18|       17|       35|         NULL|         NULL|         NULL|                27|\n",
      "|2016|        1|      JAN|05-01-16|    EBAW| Antwerp|   Belgium|       12|       13|       25|         NULL|         NULL|         NULL|                35|\n",
      "+----+---------+---------+--------+--------+--------+----------+---------+---------+---------+-------------+-------------+-------------+------------------+\n",
      "only showing top 5 rows\n",
      "\n"
     ]
    }
   ],
   "execution_count": 34
  },
  {
   "metadata": {
    "ExecuteTime": {
     "end_time": "2025-03-01T11:27:21.199320Z",
     "start_time": "2025-03-01T11:27:19.893242Z"
    }
   },
   "cell_type": "code",
   "source": [
    "spark.sql(\"\"\"\n",
    "    SELECT\n",
    "        *,\n",
    "        lag(FLT_TOT_1) OVER(\n",
    "            PARTITION BY APT_NAME\n",
    "            ORDER BY YEAR, MONTH_NUM\n",
    "        ) AS prev_month_flights\n",
    "    FROM\n",
    "        airport_traffic\n",
    "\"\"\").show(5)"
   ],
   "id": "24dbe956601c36c5",
   "outputs": [
    {
     "name": "stdout",
     "output_type": "stream",
     "text": [
      "+----+---------+---------+--------+--------+--------+----------+---------+---------+---------+-------------+-------------+-------------+------------------+\n",
      "|YEAR|MONTH_NUM|MONTH_MON|FLT_DATE|APT_ICAO|APT_NAME|STATE_NAME|FLT_DEP_1|FLT_ARR_1|FLT_TOT_1|FLT_DEP_IFR_2|FLT_ARR_IFR_2|FLT_TOT_IFR_2|prev_month_flights|\n",
      "+----+---------+---------+--------+--------+--------+----------+---------+---------+---------+-------------+-------------+-------------+------------------+\n",
      "|2016|        1|      JAN|01-01-16|    EBAW| Antwerp|   Belgium|        4|        3|        7|         NULL|         NULL|         NULL|              NULL|\n",
      "|2016|        1|      JAN|02-01-16|    EBAW| Antwerp|   Belgium|        9|       11|       20|         NULL|         NULL|         NULL|                 7|\n",
      "|2016|        1|      JAN|03-01-16|    EBAW| Antwerp|   Belgium|       10|       17|       27|         NULL|         NULL|         NULL|                20|\n",
      "|2016|        1|      JAN|04-01-16|    EBAW| Antwerp|   Belgium|       18|       17|       35|         NULL|         NULL|         NULL|                27|\n",
      "|2016|        1|      JAN|05-01-16|    EBAW| Antwerp|   Belgium|       12|       13|       25|         NULL|         NULL|         NULL|                35|\n",
      "+----+---------+---------+--------+--------+--------+----------+---------+---------+---------+-------------+-------------+-------------+------------------+\n",
      "only showing top 5 rows\n",
      "\n"
     ]
    }
   ],
   "execution_count": 35
  },
  {
   "metadata": {
    "ExecuteTime": {
     "end_time": "2025-03-01T11:27:22.675386Z",
     "start_time": "2025-03-01T11:27:21.229584Z"
    }
   },
   "cell_type": "code",
   "source": [
    "window = Window.partitionBy('APT_NAME').orderBy('YEAR', 'MONTH_NUM')\n",
    "\n",
    "df.withColumn(\n",
    "    'three_months_ago_flights',\n",
    "    F.lag('FLT_TOT_1', 3).over(window),\n",
    ").show(5)"
   ],
   "id": "c3b203ca67c3e2fd",
   "outputs": [
    {
     "name": "stdout",
     "output_type": "stream",
     "text": [
      "+----+---------+---------+--------+--------+--------+----------+---------+---------+---------+-------------+-------------+-------------+------------------------+\n",
      "|YEAR|MONTH_NUM|MONTH_MON|FLT_DATE|APT_ICAO|APT_NAME|STATE_NAME|FLT_DEP_1|FLT_ARR_1|FLT_TOT_1|FLT_DEP_IFR_2|FLT_ARR_IFR_2|FLT_TOT_IFR_2|three_months_ago_flights|\n",
      "+----+---------+---------+--------+--------+--------+----------+---------+---------+---------+-------------+-------------+-------------+------------------------+\n",
      "|2016|        1|      JAN|01-01-16|    EBAW| Antwerp|   Belgium|        4|        3|        7|         NULL|         NULL|         NULL|                    NULL|\n",
      "|2016|        1|      JAN|02-01-16|    EBAW| Antwerp|   Belgium|        9|       11|       20|         NULL|         NULL|         NULL|                    NULL|\n",
      "|2016|        1|      JAN|03-01-16|    EBAW| Antwerp|   Belgium|       10|       17|       27|         NULL|         NULL|         NULL|                    NULL|\n",
      "|2016|        1|      JAN|04-01-16|    EBAW| Antwerp|   Belgium|       18|       17|       35|         NULL|         NULL|         NULL|                       7|\n",
      "|2016|        1|      JAN|05-01-16|    EBAW| Antwerp|   Belgium|       12|       13|       25|         NULL|         NULL|         NULL|                      20|\n",
      "+----+---------+---------+--------+--------+--------+----------+---------+---------+---------+-------------+-------------+-------------+------------------------+\n",
      "only showing top 5 rows\n",
      "\n"
     ]
    }
   ],
   "execution_count": 36
  },
  {
   "metadata": {
    "ExecuteTime": {
     "end_time": "2025-03-01T11:27:24.117481Z",
     "start_time": "2025-03-01T11:27:22.706340Z"
    }
   },
   "cell_type": "code",
   "source": [
    "spark.sql(\"\"\"\n",
    "    SELECT\n",
    "        *,\n",
    "        lag(FLT_TOT_1, 3) OVER(\n",
    "            PARTITION BY APT_NAME\n",
    "            ORDER BY YEAR, MONTH_NUM\n",
    "        ) AS three_months_ago_flights\n",
    "    FROM\n",
    "        airport_traffic\n",
    "\"\"\").show(5)"
   ],
   "id": "247b2f8a053ccdc3",
   "outputs": [
    {
     "name": "stdout",
     "output_type": "stream",
     "text": [
      "+----+---------+---------+--------+--------+--------+----------+---------+---------+---------+-------------+-------------+-------------+------------------------+\n",
      "|YEAR|MONTH_NUM|MONTH_MON|FLT_DATE|APT_ICAO|APT_NAME|STATE_NAME|FLT_DEP_1|FLT_ARR_1|FLT_TOT_1|FLT_DEP_IFR_2|FLT_ARR_IFR_2|FLT_TOT_IFR_2|three_months_ago_flights|\n",
      "+----+---------+---------+--------+--------+--------+----------+---------+---------+---------+-------------+-------------+-------------+------------------------+\n",
      "|2016|        1|      JAN|01-01-16|    EBAW| Antwerp|   Belgium|        4|        3|        7|         NULL|         NULL|         NULL|                    NULL|\n",
      "|2016|        1|      JAN|02-01-16|    EBAW| Antwerp|   Belgium|        9|       11|       20|         NULL|         NULL|         NULL|                    NULL|\n",
      "|2016|        1|      JAN|03-01-16|    EBAW| Antwerp|   Belgium|       10|       17|       27|         NULL|         NULL|         NULL|                    NULL|\n",
      "|2016|        1|      JAN|04-01-16|    EBAW| Antwerp|   Belgium|       18|       17|       35|         NULL|         NULL|         NULL|                       7|\n",
      "|2016|        1|      JAN|05-01-16|    EBAW| Antwerp|   Belgium|       12|       13|       25|         NULL|         NULL|         NULL|                      20|\n",
      "+----+---------+---------+--------+--------+--------+----------+---------+---------+---------+-------------+-------------+-------------+------------------------+\n",
      "only showing top 5 rows\n",
      "\n"
     ]
    }
   ],
   "execution_count": 37
  },
  {
   "metadata": {
    "ExecuteTime": {
     "end_time": "2025-03-01T11:27:25.704726Z",
     "start_time": "2025-03-01T11:27:24.150129Z"
    }
   },
   "cell_type": "code",
   "source": [
    "window = Window.partitionBy('YEAR', 'APT_ICAO').orderBy('MONTH_NUM')\n",
    "\n",
    "df.withColumn(\n",
    "    'running_total_flights_year',\n",
    "    F.sum('FLT_TOT_1').over(window)\n",
    ").show(5)"
   ],
   "id": "8b95981f22417438",
   "outputs": [
    {
     "name": "stdout",
     "output_type": "stream",
     "text": [
      "+----+---------+---------+--------+--------+----------+----------+---------+---------+---------+-------------+-------------+-------------+--------------------------+\n",
      "|YEAR|MONTH_NUM|MONTH_MON|FLT_DATE|APT_ICAO|  APT_NAME|STATE_NAME|FLT_DEP_1|FLT_ARR_1|FLT_TOT_1|FLT_DEP_IFR_2|FLT_ARR_IFR_2|FLT_TOT_IFR_2|running_total_flights_year|\n",
      "+----+---------+---------+--------+--------+----------+----------+---------+---------+---------+-------------+-------------+-------------+--------------------------+\n",
      "|2016|        1|      JAN|01-01-16|    EDDL|Dusseldorf|   Germany|      172|      175|      347|         NULL|         NULL|         NULL|                     14406|\n",
      "|2016|        1|      JAN|02-01-16|    EDDL|Dusseldorf|   Germany|      168|      172|      340|         NULL|         NULL|         NULL|                     14406|\n",
      "|2016|        1|      JAN|03-01-16|    EDDL|Dusseldorf|   Germany|      208|      206|      414|         NULL|         NULL|         NULL|                     14406|\n",
      "|2016|        1|      JAN|04-01-16|    EDDL|Dusseldorf|   Germany|      233|      240|      473|         NULL|         NULL|         NULL|                     14406|\n",
      "|2016|        1|      JAN|05-01-16|    EDDL|Dusseldorf|   Germany|      216|      216|      432|         NULL|         NULL|         NULL|                     14406|\n",
      "+----+---------+---------+--------+--------+----------+----------+---------+---------+---------+-------------+-------------+-------------+--------------------------+\n",
      "only showing top 5 rows\n",
      "\n"
     ]
    }
   ],
   "execution_count": 38
  },
  {
   "metadata": {
    "ExecuteTime": {
     "end_time": "2025-03-01T11:27:26.533019Z",
     "start_time": "2025-03-01T11:27:25.742055Z"
    }
   },
   "cell_type": "code",
   "source": [
    "spark.sql(\"\"\"\n",
    "    SELECT\n",
    "        *,\n",
    "        sum(FLT_TOT_1) OVER (\n",
    "            PARTITION BY YEAR, APT_ICAO\n",
    "            ORDER BY MONTH_NUM\n",
    "            ) AS running_total_flights_year\n",
    "    FROM\n",
    "        airport_traffic\n",
    "    WHERE YEAR = 2017\n",
    "\"\"\").show(5)"
   ],
   "id": "23966b5185a7a5b9",
   "outputs": [
    {
     "name": "stdout",
     "output_type": "stream",
     "text": [
      "+----+---------+---------+--------+--------+--------+----------+---------+---------+---------+-------------+-------------+-------------+--------------------------+\n",
      "|YEAR|MONTH_NUM|MONTH_MON|FLT_DATE|APT_ICAO|APT_NAME|STATE_NAME|FLT_DEP_1|FLT_ARR_1|FLT_TOT_1|FLT_DEP_IFR_2|FLT_ARR_IFR_2|FLT_TOT_IFR_2|running_total_flights_year|\n",
      "+----+---------+---------+--------+--------+--------+----------+---------+---------+---------+-------------+-------------+-------------+--------------------------+\n",
      "|2017|        1|      JAN|01-01-17|    EBAW| Antwerp|   Belgium|        4|        6|       10|         NULL|         NULL|         NULL|                       940|\n",
      "|2017|        1|      JAN|02-01-17|    EBAW| Antwerp|   Belgium|       15|       18|       33|         NULL|         NULL|         NULL|                       940|\n",
      "|2017|        1|      JAN|03-01-17|    EBAW| Antwerp|   Belgium|       11|       18|       29|         NULL|         NULL|         NULL|                       940|\n",
      "|2017|        1|      JAN|04-01-17|    EBAW| Antwerp|   Belgium|       18|       13|       31|         NULL|         NULL|         NULL|                       940|\n",
      "|2017|        1|      JAN|05-01-17|    EBAW| Antwerp|   Belgium|       18|       18|       36|         NULL|         NULL|         NULL|                       940|\n",
      "+----+---------+---------+--------+--------+--------+----------+---------+---------+---------+-------------+-------------+-------------+--------------------------+\n",
      "only showing top 5 rows\n",
      "\n"
     ]
    }
   ],
   "execution_count": 39
  },
  {
   "metadata": {
    "ExecuteTime": {
     "end_time": "2025-03-01T11:27:27.985288Z",
     "start_time": "2025-03-01T11:27:26.569740Z"
    }
   },
   "cell_type": "code",
   "source": [
    "window = Window.partitionBy('APT_ICAO').orderBy('YEAR', 'MONTH_NUM').rowsBetween(-2, 0)\n",
    "\n",
    "df.withColumn(\n",
    "    'rolling_avg_3month',\n",
    "    F.round(F.avg('FLT_TOT_1').over(window), 2)\n",
    ").show(8)"
   ],
   "id": "618393846db1fea2",
   "outputs": [
    {
     "name": "stdout",
     "output_type": "stream",
     "text": [
      "+----+---------+---------+--------+--------+------------+----------+---------+---------+---------+-------------+-------------+-------------+------------------+\n",
      "|YEAR|MONTH_NUM|MONTH_MON|FLT_DATE|APT_ICAO|    APT_NAME|STATE_NAME|FLT_DEP_1|FLT_ARR_1|FLT_TOT_1|FLT_DEP_IFR_2|FLT_ARR_IFR_2|FLT_TOT_IFR_2|rolling_avg_3month|\n",
      "+----+---------+---------+--------+--------+------------+----------+---------+---------+---------+-------------+-------------+-------------+------------------+\n",
      "|2016|        1|      JAN|01-01-16|    EDDK|Cologne-Bonn|   Germany|       92|       90|      182|         NULL|         NULL|         NULL|             182.0|\n",
      "|2016|        1|      JAN|02-01-16|    EDDK|Cologne-Bonn|   Germany|       95|       99|      194|         NULL|         NULL|         NULL|             188.0|\n",
      "|2016|        1|      JAN|03-01-16|    EDDK|Cologne-Bonn|   Germany|      126|      130|      256|         NULL|         NULL|         NULL|            210.67|\n",
      "|2016|        1|      JAN|04-01-16|    EDDK|Cologne-Bonn|   Germany|      160|      154|      314|         NULL|         NULL|         NULL|            254.67|\n",
      "|2016|        1|      JAN|05-01-16|    EDDK|Cologne-Bonn|   Germany|      161|      169|      330|         NULL|         NULL|         NULL|             300.0|\n",
      "|2016|        1|      JAN|06-01-16|    EDDK|Cologne-Bonn|   Germany|      164|      157|      321|         NULL|         NULL|         NULL|            321.67|\n",
      "|2016|        1|      JAN|07-01-16|    EDDK|Cologne-Bonn|   Germany|      166|      174|      340|         NULL|         NULL|         NULL|            330.33|\n",
      "|2016|        1|      JAN|08-01-16|    EDDK|Cologne-Bonn|   Germany|      172|      174|      346|         NULL|         NULL|         NULL|            335.67|\n",
      "+----+---------+---------+--------+--------+------------+----------+---------+---------+---------+-------------+-------------+-------------+------------------+\n",
      "only showing top 8 rows\n",
      "\n"
     ]
    }
   ],
   "execution_count": 40
  },
  {
   "metadata": {
    "ExecuteTime": {
     "end_time": "2025-03-01T11:27:29.286863Z",
     "start_time": "2025-03-01T11:27:28.017690Z"
    }
   },
   "cell_type": "code",
   "source": [
    "spark.sql(\"\"\"\n",
    "    SELECT\n",
    "        *,\n",
    "        ROUND(AVG(FLT_TOT_1) OVER(\n",
    "            PARTITION BY APT_ICAO\n",
    "            ORDER BY YEAR, MONTH_NUM\n",
    "            ROWS BETWEEN 2 PRECEDING AND CURRENT ROW\n",
    "        ), 2) AS rolling_avg_3month\n",
    "    FROM\n",
    "        airport_traffic\n",
    "\"\"\").show(5)"
   ],
   "id": "ad97365eee1ac1a4",
   "outputs": [
    {
     "name": "stdout",
     "output_type": "stream",
     "text": [
      "+----+---------+---------+--------+--------+------------+----------+---------+---------+---------+-------------+-------------+-------------+------------------+\n",
      "|YEAR|MONTH_NUM|MONTH_MON|FLT_DATE|APT_ICAO|    APT_NAME|STATE_NAME|FLT_DEP_1|FLT_ARR_1|FLT_TOT_1|FLT_DEP_IFR_2|FLT_ARR_IFR_2|FLT_TOT_IFR_2|rolling_avg_3month|\n",
      "+----+---------+---------+--------+--------+------------+----------+---------+---------+---------+-------------+-------------+-------------+------------------+\n",
      "|2016|        1|      JAN|01-01-16|    EDDK|Cologne-Bonn|   Germany|       92|       90|      182|         NULL|         NULL|         NULL|             182.0|\n",
      "|2016|        1|      JAN|02-01-16|    EDDK|Cologne-Bonn|   Germany|       95|       99|      194|         NULL|         NULL|         NULL|             188.0|\n",
      "|2016|        1|      JAN|03-01-16|    EDDK|Cologne-Bonn|   Germany|      126|      130|      256|         NULL|         NULL|         NULL|            210.67|\n",
      "|2016|        1|      JAN|04-01-16|    EDDK|Cologne-Bonn|   Germany|      160|      154|      314|         NULL|         NULL|         NULL|            254.67|\n",
      "|2016|        1|      JAN|05-01-16|    EDDK|Cologne-Bonn|   Germany|      161|      169|      330|         NULL|         NULL|         NULL|             300.0|\n",
      "+----+---------+---------+--------+--------+------------+----------+---------+---------+---------+-------------+-------------+-------------+------------------+\n",
      "only showing top 5 rows\n",
      "\n"
     ]
    }
   ],
   "execution_count": 41
  },
  {
   "metadata": {
    "ExecuteTime": {
     "end_time": "2025-03-01T11:27:30.559126Z",
     "start_time": "2025-03-01T11:27:29.316972Z"
    }
   },
   "cell_type": "code",
   "source": [
    "window = Window.partitionBy('APT_ICAO').orderBy('YEAR', 'MONTH_NUM').rowsBetween(-1, 1)\n",
    "\n",
    "df.withColumn(\n",
    "    'rolling_avg_3month',\n",
    "    F.round(F.avg('FLT_TOT_1').over(window), 2)\n",
    ").show(8)"
   ],
   "id": "18c274adc7e6e6ce",
   "outputs": [
    {
     "name": "stdout",
     "output_type": "stream",
     "text": [
      "+----+---------+---------+--------+--------+------------+----------+---------+---------+---------+-------------+-------------+-------------+------------------+\n",
      "|YEAR|MONTH_NUM|MONTH_MON|FLT_DATE|APT_ICAO|    APT_NAME|STATE_NAME|FLT_DEP_1|FLT_ARR_1|FLT_TOT_1|FLT_DEP_IFR_2|FLT_ARR_IFR_2|FLT_TOT_IFR_2|rolling_avg_3month|\n",
      "+----+---------+---------+--------+--------+------------+----------+---------+---------+---------+-------------+-------------+-------------+------------------+\n",
      "|2016|        1|      JAN|01-01-16|    EDDK|Cologne-Bonn|   Germany|       92|       90|      182|         NULL|         NULL|         NULL|             188.0|\n",
      "|2016|        1|      JAN|02-01-16|    EDDK|Cologne-Bonn|   Germany|       95|       99|      194|         NULL|         NULL|         NULL|            210.67|\n",
      "|2016|        1|      JAN|03-01-16|    EDDK|Cologne-Bonn|   Germany|      126|      130|      256|         NULL|         NULL|         NULL|            254.67|\n",
      "|2016|        1|      JAN|04-01-16|    EDDK|Cologne-Bonn|   Germany|      160|      154|      314|         NULL|         NULL|         NULL|             300.0|\n",
      "|2016|        1|      JAN|05-01-16|    EDDK|Cologne-Bonn|   Germany|      161|      169|      330|         NULL|         NULL|         NULL|            321.67|\n",
      "|2016|        1|      JAN|06-01-16|    EDDK|Cologne-Bonn|   Germany|      164|      157|      321|         NULL|         NULL|         NULL|            330.33|\n",
      "|2016|        1|      JAN|07-01-16|    EDDK|Cologne-Bonn|   Germany|      166|      174|      340|         NULL|         NULL|         NULL|            335.67|\n",
      "|2016|        1|      JAN|08-01-16|    EDDK|Cologne-Bonn|   Germany|      172|      174|      346|         NULL|         NULL|         NULL|             293.0|\n",
      "+----+---------+---------+--------+--------+------------+----------+---------+---------+---------+-------------+-------------+-------------+------------------+\n",
      "only showing top 8 rows\n",
      "\n"
     ]
    }
   ],
   "execution_count": 42
  },
  {
   "metadata": {
    "ExecuteTime": {
     "end_time": "2025-03-01T11:27:31.866083Z",
     "start_time": "2025-03-01T11:27:30.582332Z"
    }
   },
   "cell_type": "code",
   "source": [
    "spark.sql(\"\"\"\n",
    "    SELECT\n",
    "        *,\n",
    "        AVG(FLT_TOT_1) OVER(\n",
    "            PARTITION BY APT_ICAO\n",
    "            ORDER BY YEAR, MONTH_NUM\n",
    "            ROWS BETWEEN 1 PRECEDING AND 1 FOLLOWING\n",
    "        ) AS centered_rolling_avg_3month\n",
    "    FROM\n",
    "        airport_traffic\n",
    "\"\"\").show(5)"
   ],
   "id": "fdfd288982fffe8e",
   "outputs": [
    {
     "name": "stdout",
     "output_type": "stream",
     "text": [
      "+----+---------+---------+--------+--------+------------+----------+---------+---------+---------+-------------+-------------+-------------+---------------------------+\n",
      "|YEAR|MONTH_NUM|MONTH_MON|FLT_DATE|APT_ICAO|    APT_NAME|STATE_NAME|FLT_DEP_1|FLT_ARR_1|FLT_TOT_1|FLT_DEP_IFR_2|FLT_ARR_IFR_2|FLT_TOT_IFR_2|centered_rolling_avg_3month|\n",
      "+----+---------+---------+--------+--------+------------+----------+---------+---------+---------+-------------+-------------+-------------+---------------------------+\n",
      "|2016|        1|      JAN|01-01-16|    EDDK|Cologne-Bonn|   Germany|       92|       90|      182|         NULL|         NULL|         NULL|                      188.0|\n",
      "|2016|        1|      JAN|02-01-16|    EDDK|Cologne-Bonn|   Germany|       95|       99|      194|         NULL|         NULL|         NULL|         210.66666666666666|\n",
      "|2016|        1|      JAN|03-01-16|    EDDK|Cologne-Bonn|   Germany|      126|      130|      256|         NULL|         NULL|         NULL|         254.66666666666666|\n",
      "|2016|        1|      JAN|04-01-16|    EDDK|Cologne-Bonn|   Germany|      160|      154|      314|         NULL|         NULL|         NULL|                      300.0|\n",
      "|2016|        1|      JAN|05-01-16|    EDDK|Cologne-Bonn|   Germany|      161|      169|      330|         NULL|         NULL|         NULL|          321.6666666666667|\n",
      "+----+---------+---------+--------+--------+------------+----------+---------+---------+---------+-------------+-------------+-------------+---------------------------+\n",
      "only showing top 5 rows\n",
      "\n"
     ]
    }
   ],
   "execution_count": 43
  },
  {
   "metadata": {
    "ExecuteTime": {
     "end_time": "2025-03-01T11:27:32.331662Z",
     "start_time": "2025-03-01T11:27:31.904127Z"
    }
   },
   "cell_type": "code",
   "source": [
    "window = Window.partitionBy('YEAR').orderBy('FLT_TOT_1')\n",
    "\n",
    "df.withColumn(\n",
    "    'percentile_rank_flights',\n",
    "    F.percent_rank().over(window)\n",
    ").show(5)"
   ],
   "id": "f2f8eee34b097c79",
   "outputs": [
    {
     "name": "stdout",
     "output_type": "stream",
     "text": [
      "+----+---------+---------+--------+--------+--------------------+----------+---------+---------+---------+-------------+-------------+-------------+-----------------------+\n",
      "|YEAR|MONTH_NUM|MONTH_MON|FLT_DATE|APT_ICAO|            APT_NAME|STATE_NAME|FLT_DEP_1|FLT_ARR_1|FLT_TOT_1|FLT_DEP_IFR_2|FLT_ARR_IFR_2|FLT_TOT_IFR_2|percentile_rank_flights|\n",
      "+----+---------+---------+--------+--------+--------------------+----------+---------+---------+---------+-------------+-------------+-------------+-----------------------+\n",
      "|2018|        1|      JAN|01-01-18|    LFLI|           Annemasse|    France|        1|        0|        1|         NULL|         NULL|         NULL|                    0.0|\n",
      "|2018|        1|      JAN|01-01-18|    LFLP|      Annecy-Meythet|    France|        0|        1|        1|         NULL|         NULL|         NULL|                    0.0|\n",
      "|2018|        1|      JAN|01-01-18|    LFMH|Saint-Etienne-Bou...|    France|        1|        0|        1|         NULL|         NULL|         NULL|                    0.0|\n",
      "|2018|        1|      JAN|01-01-18|    LFPN|    Toussus-le-Noble|    France|        0|        1|        1|         NULL|         NULL|         NULL|                    0.0|\n",
      "|2018|        1|      JAN|01-01-18|    LFRG| Deauville-Normandie|    France|        0|        1|        1|         NULL|         NULL|         NULL|                    0.0|\n",
      "+----+---------+---------+--------+--------+--------------------+----------+---------+---------+---------+-------------+-------------+-------------+-----------------------+\n",
      "only showing top 5 rows\n",
      "\n"
     ]
    }
   ],
   "execution_count": 44
  },
  {
   "metadata": {
    "ExecuteTime": {
     "end_time": "2025-03-01T11:27:32.823471Z",
     "start_time": "2025-03-01T11:27:32.376900Z"
    }
   },
   "cell_type": "code",
   "source": [
    "window = Window.partitionBy('YEAR').orderBy('FLT_TOT_1')\n",
    "\n",
    "df.withColumn(\n",
    "    'flight_quartile',\n",
    "    F.ntile(4).over(window)\n",
    ").filter(\n",
    "    F.col('flight_quartile') == 1\n",
    ").show()"
   ],
   "id": "97df9bdc1a48ee79",
   "outputs": [
    {
     "name": "stdout",
     "output_type": "stream",
     "text": [
      "+----+---------+---------+--------+--------+--------------------+-----------+---------+---------+---------+-------------+-------------+-------------+---------------+\n",
      "|YEAR|MONTH_NUM|MONTH_MON|FLT_DATE|APT_ICAO|            APT_NAME| STATE_NAME|FLT_DEP_1|FLT_ARR_1|FLT_TOT_1|FLT_DEP_IFR_2|FLT_ARR_IFR_2|FLT_TOT_IFR_2|flight_quartile|\n",
      "+----+---------+---------+--------+--------+--------------------+-----------+---------+---------+---------+-------------+-------------+-------------+---------------+\n",
      "|2018|        1|      JAN|01-01-18|    LFLI|           Annemasse|     France|        1|        0|        1|         NULL|         NULL|         NULL|              1|\n",
      "|2018|        1|      JAN|01-01-18|    LFLP|      Annecy-Meythet|     France|        0|        1|        1|         NULL|         NULL|         NULL|              1|\n",
      "|2018|        1|      JAN|01-01-18|    LFMH|Saint-Etienne-Bou...|     France|        1|        0|        1|         NULL|         NULL|         NULL|              1|\n",
      "|2018|        1|      JAN|01-01-18|    LFPN|    Toussus-le-Noble|     France|        0|        1|        1|         NULL|         NULL|         NULL|              1|\n",
      "|2018|        1|      JAN|01-01-18|    LFRG| Deauville-Normandie|     France|        0|        1|        1|         NULL|         NULL|         NULL|              1|\n",
      "|2018|        1|      JAN|01-01-18|    EVLA|             Liepaja|     Latvia|        1|        0|        1|         NULL|         NULL|         NULL|              1|\n",
      "|2018|        1|      JAN|01-01-18|    EHLE|            Lelystad|Netherlands|        0|        1|        1|         NULL|         NULL|         NULL|              1|\n",
      "|2018|        1|      JAN|01-01-18|    EPZG|Zielona Gora - Ba...|     Poland|        0|        1|        1|         NULL|         NULL|         NULL|              1|\n",
      "|2018|        1|      JAN|01-01-18|    LECU|Madrid - Cuatro V...|      Spain|        1|        0|        1|         NULL|         NULL|         NULL|              1|\n",
      "|2018|        1|      JAN|01-01-18|    LERS|                Reus|      Spain|        0|        1|        1|         NULL|         NULL|         NULL|              1|\n",
      "|2018|        1|      JAN|01-01-18|    LESB|           Son Bonet|      Spain|        1|        0|        1|         NULL|         NULL|         NULL|              1|\n",
      "|2018|        1|      JAN|02-01-18|    LFBH|La Rochelle-Ile d...|     France|        0|        1|        1|         NULL|         NULL|         NULL|              1|\n",
      "|2018|        1|      JAN|02-01-18|    LFMH|Saint-Etienne-Bou...|     France|        0|        1|        1|         NULL|         NULL|         NULL|              1|\n",
      "|2018|        1|      JAN|02-01-18|    LFRO|             Lannion|     France|        0|        1|        1|         NULL|         NULL|         NULL|              1|\n",
      "|2018|        1|      JAN|02-01-18|    LESJ|Palma - Son San Juan|      Spain|        0|        1|        1|         NULL|         NULL|         NULL|              1|\n",
      "|2018|        1|      JAN|03-01-18|    LFMH|Saint-Etienne-Bou...|     France|        1|        0|        1|         NULL|         NULL|         NULL|              1|\n",
      "|2018|        1|      JAN|03-01-18|    LFMI|      Istres-Le Tubé|     France|        1|        0|        1|         NULL|         NULL|         NULL|              1|\n",
      "|2018|        1|      JAN|03-01-18|    EVLA|             Liepaja|     Latvia|        0|        1|        1|         NULL|         NULL|         NULL|              1|\n",
      "|2018|        1|      JAN|03-01-18|    EHLE|            Lelystad|Netherlands|        1|        0|        1|         NULL|         NULL|         NULL|              1|\n",
      "|2018|        1|      JAN|03-01-18|    LESJ|Palma - Son San Juan|      Spain|        1|        0|        1|         NULL|         NULL|         NULL|              1|\n",
      "+----+---------+---------+--------+--------+--------------------+-----------+---------+---------+---------+-------------+-------------+-------------+---------------+\n",
      "only showing top 20 rows\n",
      "\n"
     ]
    }
   ],
   "execution_count": 45
  },
  {
   "metadata": {
    "ExecuteTime": {
     "end_time": "2025-03-01T11:27:32.912367Z",
     "start_time": "2025-03-01T11:27:32.857884Z"
    }
   },
   "cell_type": "code",
   "source": "df.show()",
   "id": "4000439f159158ed",
   "outputs": [
    {
     "name": "stdout",
     "output_type": "stream",
     "text": [
      "+----+---------+---------+--------+--------+-------------+--------------------+---------+---------+---------+-------------+-------------+-------------+\n",
      "|YEAR|MONTH_NUM|MONTH_MON|FLT_DATE|APT_ICAO|     APT_NAME|          STATE_NAME|FLT_DEP_1|FLT_ARR_1|FLT_TOT_1|FLT_DEP_IFR_2|FLT_ARR_IFR_2|FLT_TOT_IFR_2|\n",
      "+----+---------+---------+--------+--------+-------------+--------------------+---------+---------+---------+-------------+-------------+-------------+\n",
      "|2016|        1|      JAN|01-01-16|    LATI|       Tirana|             Albania|       24|       27|       51|         NULL|         NULL|         NULL|\n",
      "|2016|        1|      JAN|01-01-16|    UDYZ|      Yerevan|             Armenia|        8|       15|       23|         NULL|         NULL|         NULL|\n",
      "|2016|        1|      JAN|01-01-16|    LOWG|         Graz|             Austria|        6|        7|       13|         NULL|         NULL|         NULL|\n",
      "|2016|        1|      JAN|01-01-16|    LOWI|    Innsbruck|             Austria|       26|       32|       58|         NULL|         NULL|         NULL|\n",
      "|2016|        1|      JAN|01-01-16|    LOWK|   Klagenfurt|             Austria|        3|        4|        7|         NULL|         NULL|         NULL|\n",
      "|2016|        1|      JAN|01-01-16|    LOWL|         Linz|             Austria|        3|        5|        8|         NULL|         NULL|         NULL|\n",
      "|2016|        1|      JAN|01-01-16|    LOWS|     Salzburg|             Austria|       23|       26|       49|         NULL|         NULL|         NULL|\n",
      "|2016|        1|      JAN|01-01-16|    LOWW|       Vienna|             Austria|      210|      176|      386|          210|          179|          389|\n",
      "|2016|        1|      JAN|01-01-16|    EBAW|      Antwerp|             Belgium|        4|        3|        7|         NULL|         NULL|         NULL|\n",
      "|2016|        1|      JAN|01-01-16|    EBBR|     Brussels|             Belgium|      174|      171|      345|          174|          161|          335|\n",
      "|2016|        1|      JAN|01-01-16|    EBCI|    Charleroi|             Belgium|       45|       47|       92|           45|           45|           90|\n",
      "|2016|        1|      JAN|01-01-16|    EBLG|        Liège|             Belgium|        6|        7|       13|         NULL|         NULL|         NULL|\n",
      "|2016|        1|      JAN|01-01-16|    EBOS|Ostend-Bruges|             Belgium|        7|        7|       14|         NULL|         NULL|         NULL|\n",
      "|2016|        1|      JAN|01-01-16|    LQSA|     Sarajevo|Bosnia and Herzeg...|        5|        6|       11|         NULL|         NULL|         NULL|\n",
      "|2016|        1|      JAN|01-01-16|    LBSF|        Sofia|            Bulgaria|       26|       26|       52|           26|           24|           50|\n",
      "|2016|        1|      JAN|01-01-16|    LDZA|       Zagreb|             Croatia|       24|       22|       46|         NULL|         NULL|         NULL|\n",
      "|2016|        1|      JAN|01-01-16|    LCLK|      Larnaca|              Cyprus|       25|       27|       52|         NULL|         NULL|         NULL|\n",
      "|2016|        1|      JAN|01-01-16|    LCPH|       Paphos|              Cyprus|        6|        6|       12|         NULL|         NULL|         NULL|\n",
      "|2016|        1|      JAN|01-01-16|    LKMT|      Ostrava|      Czech Republic|        2|        3|        5|         NULL|         NULL|         NULL|\n",
      "|2016|        1|      JAN|01-01-16|    LKPR|       Prague|      Czech Republic|      121|      118|      239|          120|          117|          237|\n",
      "+----+---------+---------+--------+--------+-------------+--------------------+---------+---------+---------+-------------+-------------+-------------+\n",
      "only showing top 20 rows\n",
      "\n"
     ]
    }
   ],
   "execution_count": 46
  },
  {
   "metadata": {
    "ExecuteTime": {
     "end_time": "2025-03-01T11:27:33.071689Z",
     "start_time": "2025-03-01T11:27:33.033410Z"
    }
   },
   "cell_type": "code",
   "source": "df.show(5)",
   "id": "76724e5c5e65aaf4",
   "outputs": [
    {
     "name": "stdout",
     "output_type": "stream",
     "text": [
      "+----+---------+---------+--------+--------+----------+----------+---------+---------+---------+-------------+-------------+-------------+\n",
      "|YEAR|MONTH_NUM|MONTH_MON|FLT_DATE|APT_ICAO|  APT_NAME|STATE_NAME|FLT_DEP_1|FLT_ARR_1|FLT_TOT_1|FLT_DEP_IFR_2|FLT_ARR_IFR_2|FLT_TOT_IFR_2|\n",
      "+----+---------+---------+--------+--------+----------+----------+---------+---------+---------+-------------+-------------+-------------+\n",
      "|2016|        1|      JAN|01-01-16|    LATI|    Tirana|   Albania|       24|       27|       51|         NULL|         NULL|         NULL|\n",
      "|2016|        1|      JAN|01-01-16|    UDYZ|   Yerevan|   Armenia|        8|       15|       23|         NULL|         NULL|         NULL|\n",
      "|2016|        1|      JAN|01-01-16|    LOWG|      Graz|   Austria|        6|        7|       13|         NULL|         NULL|         NULL|\n",
      "|2016|        1|      JAN|01-01-16|    LOWI| Innsbruck|   Austria|       26|       32|       58|         NULL|         NULL|         NULL|\n",
      "|2016|        1|      JAN|01-01-16|    LOWK|Klagenfurt|   Austria|        3|        4|        7|         NULL|         NULL|         NULL|\n",
      "+----+---------+---------+--------+--------+----------+----------+---------+---------+---------+-------------+-------------+-------------+\n",
      "only showing top 5 rows\n",
      "\n"
     ]
    }
   ],
   "execution_count": 47
  },
  {
   "metadata": {
    "ExecuteTime": {
     "end_time": "2025-03-01T11:27:33.145742Z",
     "start_time": "2025-03-01T11:27:33.132726Z"
    }
   },
   "cell_type": "code",
   "source": "df = df.withColumn('FLT_DATE', F.to_date('FLT_DATE', 'dd-MM-yy'))",
   "id": "5138ce07e361ef91",
   "outputs": [],
   "execution_count": 48
  },
  {
   "metadata": {
    "ExecuteTime": {
     "end_time": "2025-03-01T11:27:34.158291Z",
     "start_time": "2025-03-01T11:27:33.270372Z"
    }
   },
   "cell_type": "code",
   "source": [
    "count_flights = df.groupby(\n",
    "    'STATE_NAME'\n",
    ").agg(\n",
    "    F.sum('FLT_TOT_1').alias('total_flights')\n",
    ").orderBy(\n",
    "    F.col('total_flights').desc()\n",
    ").toPandas()"
   ],
   "id": "9b100b833220523e",
   "outputs": [],
   "execution_count": 49
  },
  {
   "metadata": {
    "ExecuteTime": {
     "end_time": "2025-03-01T11:27:34.201988Z",
     "start_time": "2025-03-01T11:27:34.167547Z"
    }
   },
   "cell_type": "code",
   "source": [
    "bar = alt.Chart(count_flights).mark_bar().encode(\n",
    "    x=alt.X('STATE_NAME:N', sort='-y', title='State'),\n",
    "    y=alt.Y('total_flights:Q', title='Total flights'),\n",
    ").properties(\n",
    "    title='Total flights by state',\n",
    "    width=900,\n",
    "    height=700\n",
    ").interactive()\n",
    "\n",
    "bar"
   ],
   "id": "529af8d75fb12a44",
   "outputs": [
    {
     "name": "stderr",
     "output_type": "stream",
     "text": [
      "C:\\Users\\Zygim\\anaconda3\\envs\\PySpark_3_11\\Lib\\site-packages\\altair\\utils\\core.py:395: FutureWarning: the convert_dtype parameter is deprecated and will be removed in a future version.  Do ``ser.astype(object).apply()`` instead if you want ``convert_dtype=False``.\n",
      "  col = df[col_name].apply(to_list_if_array, convert_dtype=False)\n"
     ]
    },
    {
     "data": {
      "text/html": [
       "\n",
       "<style>\n",
       "  #altair-viz-b52527378aae4aef9ce0f8cb391166fc.vega-embed {\n",
       "    width: 100%;\n",
       "    display: flex;\n",
       "  }\n",
       "\n",
       "  #altair-viz-b52527378aae4aef9ce0f8cb391166fc.vega-embed details,\n",
       "  #altair-viz-b52527378aae4aef9ce0f8cb391166fc.vega-embed details summary {\n",
       "    position: relative;\n",
       "  }\n",
       "</style>\n",
       "<div id=\"altair-viz-b52527378aae4aef9ce0f8cb391166fc\"></div>\n",
       "<script type=\"text/javascript\">\n",
       "  var VEGA_DEBUG = (typeof VEGA_DEBUG == \"undefined\") ? {} : VEGA_DEBUG;\n",
       "  (function(spec, embedOpt){\n",
       "    let outputDiv = document.currentScript.previousElementSibling;\n",
       "    if (outputDiv.id !== \"altair-viz-b52527378aae4aef9ce0f8cb391166fc\") {\n",
       "      outputDiv = document.getElementById(\"altair-viz-b52527378aae4aef9ce0f8cb391166fc\");\n",
       "    }\n",
       "    const paths = {\n",
       "      \"vega\": \"https://cdn.jsdelivr.net/npm/vega@5?noext\",\n",
       "      \"vega-lib\": \"https://cdn.jsdelivr.net/npm/vega-lib?noext\",\n",
       "      \"vega-lite\": \"https://cdn.jsdelivr.net/npm/vega-lite@5.8.0?noext\",\n",
       "      \"vega-embed\": \"https://cdn.jsdelivr.net/npm/vega-embed@6?noext\",\n",
       "    };\n",
       "\n",
       "    function maybeLoadScript(lib, version) {\n",
       "      var key = `${lib.replace(\"-\", \"\")}_version`;\n",
       "      return (VEGA_DEBUG[key] == version) ?\n",
       "        Promise.resolve(paths[lib]) :\n",
       "        new Promise(function(resolve, reject) {\n",
       "          var s = document.createElement('script');\n",
       "          document.getElementsByTagName(\"head\")[0].appendChild(s);\n",
       "          s.async = true;\n",
       "          s.onload = () => {\n",
       "            VEGA_DEBUG[key] = version;\n",
       "            return resolve(paths[lib]);\n",
       "          };\n",
       "          s.onerror = () => reject(`Error loading script: ${paths[lib]}`);\n",
       "          s.src = paths[lib];\n",
       "        });\n",
       "    }\n",
       "\n",
       "    function showError(err) {\n",
       "      outputDiv.innerHTML = `<div class=\"error\" style=\"color:red;\">${err}</div>`;\n",
       "      throw err;\n",
       "    }\n",
       "\n",
       "    function displayChart(vegaEmbed) {\n",
       "      vegaEmbed(outputDiv, spec, embedOpt)\n",
       "        .catch(err => showError(`Javascript Error: ${err.message}<br>This usually means there's a typo in your chart specification. See the javascript console for the full traceback.`));\n",
       "    }\n",
       "\n",
       "    if(typeof define === \"function\" && define.amd) {\n",
       "      requirejs.config({paths});\n",
       "      require([\"vega-embed\"], displayChart, err => showError(`Error loading script: ${err.message}`));\n",
       "    } else {\n",
       "      maybeLoadScript(\"vega\", \"5\")\n",
       "        .then(() => maybeLoadScript(\"vega-lite\", \"5.8.0\"))\n",
       "        .then(() => maybeLoadScript(\"vega-embed\", \"6\"))\n",
       "        .catch(showError)\n",
       "        .then(() => displayChart(vegaEmbed));\n",
       "    }\n",
       "  })({\"config\": {\"view\": {\"continuousWidth\": 300, \"continuousHeight\": 300}}, \"data\": {\"name\": \"data-6825b08b82a48e707ded1946338abfb8\"}, \"mark\": {\"type\": \"bar\"}, \"encoding\": {\"x\": {\"field\": \"STATE_NAME\", \"sort\": \"-y\", \"title\": \"State\", \"type\": \"nominal\"}, \"y\": {\"field\": \"total_flights\", \"title\": \"Total flights\", \"type\": \"quantitative\"}}, \"height\": 700, \"params\": [{\"name\": \"param_1\", \"select\": {\"type\": \"interval\", \"encodings\": [\"x\", \"y\"]}, \"bind\": \"scales\"}], \"title\": \"Total flights by state\", \"width\": 900, \"$schema\": \"https://vega.github.io/schema/vega-lite/v5.8.0.json\", \"datasets\": {\"data-6825b08b82a48e707ded1946338abfb8\": [{\"STATE_NAME\": \"Spain\", \"total_flights\": 16516439}, {\"STATE_NAME\": \"United Kingdom\", \"total_flights\": 15557754}, {\"STATE_NAME\": \"Germany\", \"total_flights\": 14910621}, {\"STATE_NAME\": \"France\", \"total_flights\": 14377811}, {\"STATE_NAME\": \"Italy\", \"total_flights\": 9567630}, {\"STATE_NAME\": \"Turkey\", \"total_flights\": 8577810}, {\"STATE_NAME\": \"Norway\", \"total_flights\": 5372542}, {\"STATE_NAME\": \"Netherlands\", \"total_flights\": 4282241}, {\"STATE_NAME\": \"Greece\", \"total_flights\": 4167203}, {\"STATE_NAME\": \"Portugal\", \"total_flights\": 3487895}, {\"STATE_NAME\": \"Switzerland\", \"total_flights\": 3461918}, {\"STATE_NAME\": \"Poland\", \"total_flights\": 3337156}, {\"STATE_NAME\": \"Belgium\", \"total_flights\": 2607995}, {\"STATE_NAME\": \"Austria\", \"total_flights\": 2582286}, {\"STATE_NAME\": \"Sweden\", \"total_flights\": 2524492}, {\"STATE_NAME\": \"Ireland\", \"total_flights\": 2252423}, {\"STATE_NAME\": \"Denmark\", \"total_flights\": 1933012}, {\"STATE_NAME\": \"Finland\", \"total_flights\": 1305500}, {\"STATE_NAME\": \"Czech Republic\", \"total_flights\": 1174469}, {\"STATE_NAME\": \"Morocco\", \"total_flights\": 1134024}, {\"STATE_NAME\": \"Romania\", \"total_flights\": 972298}, {\"STATE_NAME\": \"Hungary\", \"total_flights\": 868337}, {\"STATE_NAME\": \"Israel\", \"total_flights\": 856913}, {\"STATE_NAME\": \"Cyprus\", \"total_flights\": 647357}, {\"STATE_NAME\": \"Luxembourg\", \"total_flights\": 589163}, {\"STATE_NAME\": \"Serbia\", \"total_flights\": 584781}, {\"STATE_NAME\": \"Latvia\", \"total_flights\": 569415}, {\"STATE_NAME\": \"Ukraine\", \"total_flights\": 503023}, {\"STATE_NAME\": \"Bulgaria\", \"total_flights\": 479946}, {\"STATE_NAME\": \"Lithuania\", \"total_flights\": 467934}, {\"STATE_NAME\": \"Malta\", \"total_flights\": 441601}, {\"STATE_NAME\": \"Croatia\", \"total_flights\": 360229}, {\"STATE_NAME\": \"Estonia\", \"total_flights\": 329228}, {\"STATE_NAME\": \"Albania\", \"total_flights\": 300361}, {\"STATE_NAME\": \"Georgia\", \"total_flights\": 270549}, {\"STATE_NAME\": \"Armenia\", \"total_flights\": 233722}, {\"STATE_NAME\": \"Slovenia\", \"total_flights\": 232044}, {\"STATE_NAME\": \"Moldova\", \"total_flights\": 207539}, {\"STATE_NAME\": \"Slovakia\", \"total_flights\": 167108}, {\"STATE_NAME\": \"Republic of North Macedonia\", \"total_flights\": 151719}, {\"STATE_NAME\": \"Montenegro\", \"total_flights\": 109146}, {\"STATE_NAME\": \"Bosnia and Herzegovina\", \"total_flights\": 108331}, {\"STATE_NAME\": \"Iceland\", \"total_flights\": 65485}]}}, {\"mode\": \"vega-lite\"});\n",
       "</script>"
      ],
      "text/plain": [
       "alt.Chart(...)"
      ]
     },
     "execution_count": 50,
     "metadata": {},
     "output_type": "execute_result"
    }
   ],
   "execution_count": 50
  },
  {
   "metadata": {
    "ExecuteTime": {
     "end_time": "2025-03-01T11:27:34.368806Z",
     "start_time": "2025-03-01T11:27:34.299955Z"
    }
   },
   "cell_type": "code",
   "source": "df.show(5)",
   "id": "8fe9242710d0379c",
   "outputs": [
    {
     "name": "stdout",
     "output_type": "stream",
     "text": [
      "+----+---------+---------+----------+--------+----------+----------+---------+---------+---------+-------------+-------------+-------------+\n",
      "|YEAR|MONTH_NUM|MONTH_MON|  FLT_DATE|APT_ICAO|  APT_NAME|STATE_NAME|FLT_DEP_1|FLT_ARR_1|FLT_TOT_1|FLT_DEP_IFR_2|FLT_ARR_IFR_2|FLT_TOT_IFR_2|\n",
      "+----+---------+---------+----------+--------+----------+----------+---------+---------+---------+-------------+-------------+-------------+\n",
      "|2016|        1|      JAN|2016-01-01|    LATI|    Tirana|   Albania|       24|       27|       51|         NULL|         NULL|         NULL|\n",
      "|2016|        1|      JAN|2016-01-01|    UDYZ|   Yerevan|   Armenia|        8|       15|       23|         NULL|         NULL|         NULL|\n",
      "|2016|        1|      JAN|2016-01-01|    LOWG|      Graz|   Austria|        6|        7|       13|         NULL|         NULL|         NULL|\n",
      "|2016|        1|      JAN|2016-01-01|    LOWI| Innsbruck|   Austria|       26|       32|       58|         NULL|         NULL|         NULL|\n",
      "|2016|        1|      JAN|2016-01-01|    LOWK|Klagenfurt|   Austria|        3|        4|        7|         NULL|         NULL|         NULL|\n",
      "+----+---------+---------+----------+--------+----------+----------+---------+---------+---------+-------------+-------------+-------------+\n",
      "only showing top 5 rows\n",
      "\n"
     ]
    }
   ],
   "execution_count": 51
  },
  {
   "metadata": {
    "ExecuteTime": {
     "end_time": "2025-03-01T11:35:17.209031Z",
     "start_time": "2025-03-01T11:35:17.164009Z"
    }
   },
   "cell_type": "code",
   "source": "df.show(5)",
   "id": "ae168f6ec8b7bd59",
   "outputs": [
    {
     "name": "stdout",
     "output_type": "stream",
     "text": [
      "+----+---------+---------+----------+--------+----------+----------+---------+---------+---------+-------------+-------------+-------------+\n",
      "|YEAR|MONTH_NUM|MONTH_MON|  FLT_DATE|APT_ICAO|  APT_NAME|STATE_NAME|FLT_DEP_1|FLT_ARR_1|FLT_TOT_1|FLT_DEP_IFR_2|FLT_ARR_IFR_2|FLT_TOT_IFR_2|\n",
      "+----+---------+---------+----------+--------+----------+----------+---------+---------+---------+-------------+-------------+-------------+\n",
      "|2016|        1|      JAN|2016-01-01|    LATI|    Tirana|   Albania|       24|       27|       51|         NULL|         NULL|         NULL|\n",
      "|2016|        1|      JAN|2016-01-01|    UDYZ|   Yerevan|   Armenia|        8|       15|       23|         NULL|         NULL|         NULL|\n",
      "|2016|        1|      JAN|2016-01-01|    LOWG|      Graz|   Austria|        6|        7|       13|         NULL|         NULL|         NULL|\n",
      "|2016|        1|      JAN|2016-01-01|    LOWI| Innsbruck|   Austria|       26|       32|       58|         NULL|         NULL|         NULL|\n",
      "|2016|        1|      JAN|2016-01-01|    LOWK|Klagenfurt|   Austria|        3|        4|        7|         NULL|         NULL|         NULL|\n",
      "+----+---------+---------+----------+--------+----------+----------+---------+---------+---------+-------------+-------------+-------------+\n",
      "only showing top 5 rows\n",
      "\n"
     ]
    }
   ],
   "execution_count": 53
  },
  {
   "metadata": {
    "ExecuteTime": {
     "end_time": "2025-03-01T11:35:23.723938Z",
     "start_time": "2025-03-01T11:35:23.718936Z"
    }
   },
   "cell_type": "code",
   "source": "df.printSchema()",
   "id": "36570a574d565103",
   "outputs": [
    {
     "name": "stdout",
     "output_type": "stream",
     "text": [
      "root\n",
      " |-- YEAR: integer (nullable = true)\n",
      " |-- MONTH_NUM: integer (nullable = true)\n",
      " |-- MONTH_MON: string (nullable = true)\n",
      " |-- FLT_DATE: date (nullable = true)\n",
      " |-- APT_ICAO: string (nullable = true)\n",
      " |-- APT_NAME: string (nullable = true)\n",
      " |-- STATE_NAME: string (nullable = true)\n",
      " |-- FLT_DEP_1: integer (nullable = true)\n",
      " |-- FLT_ARR_1: integer (nullable = true)\n",
      " |-- FLT_TOT_1: integer (nullable = true)\n",
      " |-- FLT_DEP_IFR_2: integer (nullable = true)\n",
      " |-- FLT_ARR_IFR_2: integer (nullable = true)\n",
      " |-- FLT_TOT_IFR_2: integer (nullable = true)\n",
      "\n"
     ]
    }
   ],
   "execution_count": 54
  },
  {
   "metadata": {
    "ExecuteTime": {
     "end_time": "2025-03-01T11:44:12.337493Z",
     "start_time": "2025-03-01T11:44:11.597722Z"
    }
   },
   "cell_type": "code",
   "source": [
    "year_month_flt_count = df.groupBy(\n",
    "    'YEAR', 'MONTH_NUM'\n",
    ").agg(\n",
    "    F.count('FLT_TOT_1').alias('total_flights')\n",
    ").orderBy(\n",
    "    F.col('total_flights').desc()\n",
    ").toPandas()"
   ],
   "id": "b9df946b954cec02",
   "outputs": [],
   "execution_count": 59
  },
  {
   "metadata": {
    "ExecuteTime": {
     "end_time": "2025-03-01T19:22:46.189320Z",
     "start_time": "2025-03-01T19:22:45.744563Z"
    }
   },
   "cell_type": "code",
   "source": [
    "spark.sql(\"\"\"\n",
    "    SELECT\n",
    "        YEAR,\n",
    "        MONTH_NUM,\n",
    "        COUNT(*) AS total_flights\n",
    "    FROM\n",
    "        airport_traffic\n",
    "    GROUP BY\n",
    "        YEAR, MONTH_NUM\n",
    "    ORDER BY\n",
    "        total_flights DESC\n",
    "\"\"\").show()"
   ],
   "id": "cc7050345a479504",
   "outputs": [
    {
     "name": "stdout",
     "output_type": "stream",
     "text": [
      "+----+---------+-------------+\n",
      "|YEAR|MONTH_NUM|total_flights|\n",
      "+----+---------+-------------+\n",
      "|2024|        7|         9814|\n",
      "|2024|        8|         9806|\n",
      "|2021|       10|         9803|\n",
      "|2022|        5|         9794|\n",
      "|2024|        5|         9786|\n",
      "|2024|       10|         9786|\n",
      "|2023|       10|         9783|\n",
      "|2023|        7|         9773|\n",
      "|2021|        8|         9772|\n",
      "|2019|       10|         9772|\n",
      "|2023|        8|         9753|\n",
      "|2022|        7|         9750|\n",
      "|2023|        5|         9749|\n",
      "|2018|       10|         9749|\n",
      "|2019|        5|         9748|\n",
      "|2022|       10|         9740|\n",
      "|2021|        7|         9732|\n",
      "|2019|        7|         9724|\n",
      "|2023|        3|         9704|\n",
      "|2018|        5|         9702|\n",
      "+----+---------+-------------+\n",
      "only showing top 20 rows\n",
      "\n"
     ]
    }
   ],
   "execution_count": 72
  },
  {
   "metadata": {
    "ExecuteTime": {
     "end_time": "2025-03-01T19:13:03.596696Z",
     "start_time": "2025-03-01T19:13:03.559934Z"
    }
   },
   "cell_type": "code",
   "source": [
    "fig = px.bar(\n",
    "    data_frame=year_month_flt_count,\n",
    "    x='MONTH_NUM',\n",
    "    y='total_flights',\n",
    "    color='YEAR',\n",
    "    barmode='group',\n",
    "    title='Total flights by month',\n",
    "    width=900,\n",
    "    height=700\n",
    ")\n",
    "\n",
    "fig.show()"
   ],
   "id": "74f87b9c2fd07a49",
   "outputs": [
    {
     "data": {
      "application/vnd.plotly.v1+json": {
       "data": [
        {
         "alignmentgroup": "True",
         "hovertemplate": "MONTH_NUM=%{x}<br>total_flights=%{y}<br>YEAR=%{marker.color}<extra></extra>",
         "legendgroup": "",
         "marker": {
          "color": [
           2024,
           2024,
           2021,
           2022,
           2024,
           2024,
           2023,
           2023,
           2021,
           2019,
           2023,
           2022,
           2023,
           2018,
           2019,
           2022,
           2021,
           2019,
           2023,
           2018,
           2022,
           2022,
           2018,
           2019,
           2018,
           2019,
           2020,
           2020,
           2024,
           2021,
           2019,
           2020,
           2022,
           2024,
           2018,
           2020,
           2023,
           2021,
           2021,
           2024,
           2024,
           2021,
           2023,
           2019,
           2018,
           2024,
           2024,
           2018,
           2022,
           2023,
           2022,
           2022,
           2021,
           2019,
           2023,
           2024,
           2019,
           2018,
           2018,
           2021,
           2022,
           2019,
           2023,
           2023,
           2022,
           2018,
           2019,
           2018,
           2020,
           2021,
           2021,
           2020,
           2020,
           2020,
           2024,
           2022,
           2019,
           2020,
           2020,
           2023,
           2018,
           2021,
           2016,
           2017,
           2017,
           2017,
           2016,
           2017,
           2016,
           2016,
           2017,
           2016,
           2017,
           2017,
           2016,
           2017,
           2016,
           2017,
           2016,
           2016,
           2016,
           2017,
           2017,
           2016,
           2020,
           2016,
           2017,
           2020
          ],
          "coloraxis": "coloraxis",
          "pattern": {
           "shape": ""
          }
         },
         "name": "",
         "offsetgroup": "",
         "orientation": "v",
         "showlegend": false,
         "textposition": "auto",
         "x": [
          7,
          8,
          10,
          5,
          5,
          10,
          10,
          7,
          8,
          10,
          8,
          7,
          5,
          10,
          5,
          10,
          7,
          7,
          3,
          5,
          3,
          8,
          7,
          8,
          8,
          3,
          7,
          1,
          3,
          5,
          1,
          8,
          1,
          1,
          3,
          10,
          1,
          12,
          3,
          9,
          6,
          9,
          9,
          6,
          1,
          4,
          12,
          12,
          6,
          6,
          9,
          12,
          11,
          9,
          12,
          11,
          12,
          6,
          9,
          6,
          4,
          4,
          4,
          11,
          11,
          4,
          11,
          11,
          9,
          1,
          4,
          12,
          2,
          11,
          2,
          2,
          2,
          6,
          3,
          2,
          2,
          2,
          5,
          10,
          7,
          5,
          7,
          8,
          8,
          10,
          3,
          3,
          1,
          9,
          1,
          12,
          12,
          6,
          6,
          9,
          4,
          11,
          4,
          11,
          5,
          2,
          2,
          4
         ],
         "xaxis": "x",
         "y": [
          9814,
          9806,
          9803,
          9794,
          9786,
          9786,
          9783,
          9773,
          9772,
          9772,
          9753,
          9750,
          9749,
          9749,
          9748,
          9740,
          9732,
          9724,
          9704,
          9702,
          9687,
          9687,
          9676,
          9670,
          9655,
          9655,
          9621,
          9604,
          9601,
          9598,
          9592,
          9580,
          9580,
          9563,
          9557,
          9545,
          9535,
          9518,
          9512,
          9510,
          9501,
          9493,
          9487,
          9484,
          9482,
          9480,
          9477,
          9460,
          9459,
          9458,
          9441,
          9439,
          9429,
          9425,
          9425,
          9419,
          9415,
          9411,
          9410,
          9406,
          9391,
          9382,
          9375,
          9358,
          9357,
          9356,
          9350,
          9341,
          9319,
          9270,
          9144,
          9111,
          9043,
          9042,
          9011,
          8772,
          8758,
          8726,
          8720,
          8715,
          8667,
          8517,
          8296,
          8281,
          8281,
          8268,
          8246,
          8241,
          8218,
          8215,
          8177,
          8124,
          8083,
          8030,
          8028,
          8022,
          8011,
          8010,
          8008,
          7988,
          7973,
          7937,
          7936,
          7883,
          7788,
          7607,
          7323,
          6956
         ],
         "yaxis": "y",
         "type": "bar"
        }
       ],
       "layout": {
        "template": {
         "data": {
          "histogram2dcontour": [
           {
            "type": "histogram2dcontour",
            "colorbar": {
             "outlinewidth": 0,
             "ticks": ""
            },
            "colorscale": [
             [
              0.0,
              "#0d0887"
             ],
             [
              0.1111111111111111,
              "#46039f"
             ],
             [
              0.2222222222222222,
              "#7201a8"
             ],
             [
              0.3333333333333333,
              "#9c179e"
             ],
             [
              0.4444444444444444,
              "#bd3786"
             ],
             [
              0.5555555555555556,
              "#d8576b"
             ],
             [
              0.6666666666666666,
              "#ed7953"
             ],
             [
              0.7777777777777778,
              "#fb9f3a"
             ],
             [
              0.8888888888888888,
              "#fdca26"
             ],
             [
              1.0,
              "#f0f921"
             ]
            ]
           }
          ],
          "choropleth": [
           {
            "type": "choropleth",
            "colorbar": {
             "outlinewidth": 0,
             "ticks": ""
            }
           }
          ],
          "histogram2d": [
           {
            "type": "histogram2d",
            "colorbar": {
             "outlinewidth": 0,
             "ticks": ""
            },
            "colorscale": [
             [
              0.0,
              "#0d0887"
             ],
             [
              0.1111111111111111,
              "#46039f"
             ],
             [
              0.2222222222222222,
              "#7201a8"
             ],
             [
              0.3333333333333333,
              "#9c179e"
             ],
             [
              0.4444444444444444,
              "#bd3786"
             ],
             [
              0.5555555555555556,
              "#d8576b"
             ],
             [
              0.6666666666666666,
              "#ed7953"
             ],
             [
              0.7777777777777778,
              "#fb9f3a"
             ],
             [
              0.8888888888888888,
              "#fdca26"
             ],
             [
              1.0,
              "#f0f921"
             ]
            ]
           }
          ],
          "heatmap": [
           {
            "type": "heatmap",
            "colorbar": {
             "outlinewidth": 0,
             "ticks": ""
            },
            "colorscale": [
             [
              0.0,
              "#0d0887"
             ],
             [
              0.1111111111111111,
              "#46039f"
             ],
             [
              0.2222222222222222,
              "#7201a8"
             ],
             [
              0.3333333333333333,
              "#9c179e"
             ],
             [
              0.4444444444444444,
              "#bd3786"
             ],
             [
              0.5555555555555556,
              "#d8576b"
             ],
             [
              0.6666666666666666,
              "#ed7953"
             ],
             [
              0.7777777777777778,
              "#fb9f3a"
             ],
             [
              0.8888888888888888,
              "#fdca26"
             ],
             [
              1.0,
              "#f0f921"
             ]
            ]
           }
          ],
          "heatmapgl": [
           {
            "type": "heatmapgl",
            "colorbar": {
             "outlinewidth": 0,
             "ticks": ""
            },
            "colorscale": [
             [
              0.0,
              "#0d0887"
             ],
             [
              0.1111111111111111,
              "#46039f"
             ],
             [
              0.2222222222222222,
              "#7201a8"
             ],
             [
              0.3333333333333333,
              "#9c179e"
             ],
             [
              0.4444444444444444,
              "#bd3786"
             ],
             [
              0.5555555555555556,
              "#d8576b"
             ],
             [
              0.6666666666666666,
              "#ed7953"
             ],
             [
              0.7777777777777778,
              "#fb9f3a"
             ],
             [
              0.8888888888888888,
              "#fdca26"
             ],
             [
              1.0,
              "#f0f921"
             ]
            ]
           }
          ],
          "contourcarpet": [
           {
            "type": "contourcarpet",
            "colorbar": {
             "outlinewidth": 0,
             "ticks": ""
            }
           }
          ],
          "contour": [
           {
            "type": "contour",
            "colorbar": {
             "outlinewidth": 0,
             "ticks": ""
            },
            "colorscale": [
             [
              0.0,
              "#0d0887"
             ],
             [
              0.1111111111111111,
              "#46039f"
             ],
             [
              0.2222222222222222,
              "#7201a8"
             ],
             [
              0.3333333333333333,
              "#9c179e"
             ],
             [
              0.4444444444444444,
              "#bd3786"
             ],
             [
              0.5555555555555556,
              "#d8576b"
             ],
             [
              0.6666666666666666,
              "#ed7953"
             ],
             [
              0.7777777777777778,
              "#fb9f3a"
             ],
             [
              0.8888888888888888,
              "#fdca26"
             ],
             [
              1.0,
              "#f0f921"
             ]
            ]
           }
          ],
          "surface": [
           {
            "type": "surface",
            "colorbar": {
             "outlinewidth": 0,
             "ticks": ""
            },
            "colorscale": [
             [
              0.0,
              "#0d0887"
             ],
             [
              0.1111111111111111,
              "#46039f"
             ],
             [
              0.2222222222222222,
              "#7201a8"
             ],
             [
              0.3333333333333333,
              "#9c179e"
             ],
             [
              0.4444444444444444,
              "#bd3786"
             ],
             [
              0.5555555555555556,
              "#d8576b"
             ],
             [
              0.6666666666666666,
              "#ed7953"
             ],
             [
              0.7777777777777778,
              "#fb9f3a"
             ],
             [
              0.8888888888888888,
              "#fdca26"
             ],
             [
              1.0,
              "#f0f921"
             ]
            ]
           }
          ],
          "mesh3d": [
           {
            "type": "mesh3d",
            "colorbar": {
             "outlinewidth": 0,
             "ticks": ""
            }
           }
          ],
          "scatter": [
           {
            "fillpattern": {
             "fillmode": "overlay",
             "size": 10,
             "solidity": 0.2
            },
            "type": "scatter"
           }
          ],
          "parcoords": [
           {
            "type": "parcoords",
            "line": {
             "colorbar": {
              "outlinewidth": 0,
              "ticks": ""
             }
            }
           }
          ],
          "scatterpolargl": [
           {
            "type": "scatterpolargl",
            "marker": {
             "colorbar": {
              "outlinewidth": 0,
              "ticks": ""
             }
            }
           }
          ],
          "bar": [
           {
            "error_x": {
             "color": "#2a3f5f"
            },
            "error_y": {
             "color": "#2a3f5f"
            },
            "marker": {
             "line": {
              "color": "#E5ECF6",
              "width": 0.5
             },
             "pattern": {
              "fillmode": "overlay",
              "size": 10,
              "solidity": 0.2
             }
            },
            "type": "bar"
           }
          ],
          "scattergeo": [
           {
            "type": "scattergeo",
            "marker": {
             "colorbar": {
              "outlinewidth": 0,
              "ticks": ""
             }
            }
           }
          ],
          "scatterpolar": [
           {
            "type": "scatterpolar",
            "marker": {
             "colorbar": {
              "outlinewidth": 0,
              "ticks": ""
             }
            }
           }
          ],
          "histogram": [
           {
            "marker": {
             "pattern": {
              "fillmode": "overlay",
              "size": 10,
              "solidity": 0.2
             }
            },
            "type": "histogram"
           }
          ],
          "scattergl": [
           {
            "type": "scattergl",
            "marker": {
             "colorbar": {
              "outlinewidth": 0,
              "ticks": ""
             }
            }
           }
          ],
          "scatter3d": [
           {
            "type": "scatter3d",
            "line": {
             "colorbar": {
              "outlinewidth": 0,
              "ticks": ""
             }
            },
            "marker": {
             "colorbar": {
              "outlinewidth": 0,
              "ticks": ""
             }
            }
           }
          ],
          "scattermapbox": [
           {
            "type": "scattermapbox",
            "marker": {
             "colorbar": {
              "outlinewidth": 0,
              "ticks": ""
             }
            }
           }
          ],
          "scatterternary": [
           {
            "type": "scatterternary",
            "marker": {
             "colorbar": {
              "outlinewidth": 0,
              "ticks": ""
             }
            }
           }
          ],
          "scattercarpet": [
           {
            "type": "scattercarpet",
            "marker": {
             "colorbar": {
              "outlinewidth": 0,
              "ticks": ""
             }
            }
           }
          ],
          "carpet": [
           {
            "aaxis": {
             "endlinecolor": "#2a3f5f",
             "gridcolor": "white",
             "linecolor": "white",
             "minorgridcolor": "white",
             "startlinecolor": "#2a3f5f"
            },
            "baxis": {
             "endlinecolor": "#2a3f5f",
             "gridcolor": "white",
             "linecolor": "white",
             "minorgridcolor": "white",
             "startlinecolor": "#2a3f5f"
            },
            "type": "carpet"
           }
          ],
          "table": [
           {
            "cells": {
             "fill": {
              "color": "#EBF0F8"
             },
             "line": {
              "color": "white"
             }
            },
            "header": {
             "fill": {
              "color": "#C8D4E3"
             },
             "line": {
              "color": "white"
             }
            },
            "type": "table"
           }
          ],
          "barpolar": [
           {
            "marker": {
             "line": {
              "color": "#E5ECF6",
              "width": 0.5
             },
             "pattern": {
              "fillmode": "overlay",
              "size": 10,
              "solidity": 0.2
             }
            },
            "type": "barpolar"
           }
          ],
          "pie": [
           {
            "automargin": true,
            "type": "pie"
           }
          ]
         },
         "layout": {
          "autotypenumbers": "strict",
          "colorway": [
           "#636efa",
           "#EF553B",
           "#00cc96",
           "#ab63fa",
           "#FFA15A",
           "#19d3f3",
           "#FF6692",
           "#B6E880",
           "#FF97FF",
           "#FECB52"
          ],
          "font": {
           "color": "#2a3f5f"
          },
          "hovermode": "closest",
          "hoverlabel": {
           "align": "left"
          },
          "paper_bgcolor": "white",
          "plot_bgcolor": "#E5ECF6",
          "polar": {
           "bgcolor": "#E5ECF6",
           "angularaxis": {
            "gridcolor": "white",
            "linecolor": "white",
            "ticks": ""
           },
           "radialaxis": {
            "gridcolor": "white",
            "linecolor": "white",
            "ticks": ""
           }
          },
          "ternary": {
           "bgcolor": "#E5ECF6",
           "aaxis": {
            "gridcolor": "white",
            "linecolor": "white",
            "ticks": ""
           },
           "baxis": {
            "gridcolor": "white",
            "linecolor": "white",
            "ticks": ""
           },
           "caxis": {
            "gridcolor": "white",
            "linecolor": "white",
            "ticks": ""
           }
          },
          "coloraxis": {
           "colorbar": {
            "outlinewidth": 0,
            "ticks": ""
           }
          },
          "colorscale": {
           "sequential": [
            [
             0.0,
             "#0d0887"
            ],
            [
             0.1111111111111111,
             "#46039f"
            ],
            [
             0.2222222222222222,
             "#7201a8"
            ],
            [
             0.3333333333333333,
             "#9c179e"
            ],
            [
             0.4444444444444444,
             "#bd3786"
            ],
            [
             0.5555555555555556,
             "#d8576b"
            ],
            [
             0.6666666666666666,
             "#ed7953"
            ],
            [
             0.7777777777777778,
             "#fb9f3a"
            ],
            [
             0.8888888888888888,
             "#fdca26"
            ],
            [
             1.0,
             "#f0f921"
            ]
           ],
           "sequentialminus": [
            [
             0.0,
             "#0d0887"
            ],
            [
             0.1111111111111111,
             "#46039f"
            ],
            [
             0.2222222222222222,
             "#7201a8"
            ],
            [
             0.3333333333333333,
             "#9c179e"
            ],
            [
             0.4444444444444444,
             "#bd3786"
            ],
            [
             0.5555555555555556,
             "#d8576b"
            ],
            [
             0.6666666666666666,
             "#ed7953"
            ],
            [
             0.7777777777777778,
             "#fb9f3a"
            ],
            [
             0.8888888888888888,
             "#fdca26"
            ],
            [
             1.0,
             "#f0f921"
            ]
           ],
           "diverging": [
            [
             0,
             "#8e0152"
            ],
            [
             0.1,
             "#c51b7d"
            ],
            [
             0.2,
             "#de77ae"
            ],
            [
             0.3,
             "#f1b6da"
            ],
            [
             0.4,
             "#fde0ef"
            ],
            [
             0.5,
             "#f7f7f7"
            ],
            [
             0.6,
             "#e6f5d0"
            ],
            [
             0.7,
             "#b8e186"
            ],
            [
             0.8,
             "#7fbc41"
            ],
            [
             0.9,
             "#4d9221"
            ],
            [
             1,
             "#276419"
            ]
           ]
          },
          "xaxis": {
           "gridcolor": "white",
           "linecolor": "white",
           "ticks": "",
           "title": {
            "standoff": 15
           },
           "zerolinecolor": "white",
           "automargin": true,
           "zerolinewidth": 2
          },
          "yaxis": {
           "gridcolor": "white",
           "linecolor": "white",
           "ticks": "",
           "title": {
            "standoff": 15
           },
           "zerolinecolor": "white",
           "automargin": true,
           "zerolinewidth": 2
          },
          "scene": {
           "xaxis": {
            "backgroundcolor": "#E5ECF6",
            "gridcolor": "white",
            "linecolor": "white",
            "showbackground": true,
            "ticks": "",
            "zerolinecolor": "white",
            "gridwidth": 2
           },
           "yaxis": {
            "backgroundcolor": "#E5ECF6",
            "gridcolor": "white",
            "linecolor": "white",
            "showbackground": true,
            "ticks": "",
            "zerolinecolor": "white",
            "gridwidth": 2
           },
           "zaxis": {
            "backgroundcolor": "#E5ECF6",
            "gridcolor": "white",
            "linecolor": "white",
            "showbackground": true,
            "ticks": "",
            "zerolinecolor": "white",
            "gridwidth": 2
           }
          },
          "shapedefaults": {
           "line": {
            "color": "#2a3f5f"
           }
          },
          "annotationdefaults": {
           "arrowcolor": "#2a3f5f",
           "arrowhead": 0,
           "arrowwidth": 1
          },
          "geo": {
           "bgcolor": "white",
           "landcolor": "#E5ECF6",
           "subunitcolor": "white",
           "showland": true,
           "showlakes": true,
           "lakecolor": "white"
          },
          "title": {
           "x": 0.05
          },
          "mapbox": {
           "style": "light"
          }
         }
        },
        "xaxis": {
         "anchor": "y",
         "domain": [
          0.0,
          1.0
         ],
         "title": {
          "text": "MONTH_NUM"
         }
        },
        "yaxis": {
         "anchor": "x",
         "domain": [
          0.0,
          1.0
         ],
         "title": {
          "text": "total_flights"
         }
        },
        "coloraxis": {
         "colorbar": {
          "title": {
           "text": "YEAR"
          }
         },
         "colorscale": [
          [
           0.0,
           "#0d0887"
          ],
          [
           0.1111111111111111,
           "#46039f"
          ],
          [
           0.2222222222222222,
           "#7201a8"
          ],
          [
           0.3333333333333333,
           "#9c179e"
          ],
          [
           0.4444444444444444,
           "#bd3786"
          ],
          [
           0.5555555555555556,
           "#d8576b"
          ],
          [
           0.6666666666666666,
           "#ed7953"
          ],
          [
           0.7777777777777778,
           "#fb9f3a"
          ],
          [
           0.8888888888888888,
           "#fdca26"
          ],
          [
           1.0,
           "#f0f921"
          ]
         ]
        },
        "legend": {
         "tracegroupgap": 0
        },
        "title": {
         "text": "Total flights by month"
        },
        "barmode": "group",
        "height": 700,
        "width": 900
       },
       "config": {
        "plotlyServerURL": "https://plot.ly"
       }
      },
      "text/html": [
       "<div>                            <div id=\"c33ee1aa-1c35-4eab-aa05-eba2e0e1c516\" class=\"plotly-graph-div\" style=\"height:700px; width:900px;\"></div>            <script type=\"text/javascript\">                require([\"plotly\"], function(Plotly) {                    window.PLOTLYENV=window.PLOTLYENV || {};                                    if (document.getElementById(\"c33ee1aa-1c35-4eab-aa05-eba2e0e1c516\")) {                    Plotly.newPlot(                        \"c33ee1aa-1c35-4eab-aa05-eba2e0e1c516\",                        [{\"alignmentgroup\":\"True\",\"hovertemplate\":\"MONTH_NUM=%{x}\\u003cbr\\u003etotal_flights=%{y}\\u003cbr\\u003eYEAR=%{marker.color}\\u003cextra\\u003e\\u003c\\u002fextra\\u003e\",\"legendgroup\":\"\",\"marker\":{\"color\":[2024,2024,2021,2022,2024,2024,2023,2023,2021,2019,2023,2022,2023,2018,2019,2022,2021,2019,2023,2018,2022,2022,2018,2019,2018,2019,2020,2020,2024,2021,2019,2020,2022,2024,2018,2020,2023,2021,2021,2024,2024,2021,2023,2019,2018,2024,2024,2018,2022,2023,2022,2022,2021,2019,2023,2024,2019,2018,2018,2021,2022,2019,2023,2023,2022,2018,2019,2018,2020,2021,2021,2020,2020,2020,2024,2022,2019,2020,2020,2023,2018,2021,2016,2017,2017,2017,2016,2017,2016,2016,2017,2016,2017,2017,2016,2017,2016,2017,2016,2016,2016,2017,2017,2016,2020,2016,2017,2020],\"coloraxis\":\"coloraxis\",\"pattern\":{\"shape\":\"\"}},\"name\":\"\",\"offsetgroup\":\"\",\"orientation\":\"v\",\"showlegend\":false,\"textposition\":\"auto\",\"x\":[7,8,10,5,5,10,10,7,8,10,8,7,5,10,5,10,7,7,3,5,3,8,7,8,8,3,7,1,3,5,1,8,1,1,3,10,1,12,3,9,6,9,9,6,1,4,12,12,6,6,9,12,11,9,12,11,12,6,9,6,4,4,4,11,11,4,11,11,9,1,4,12,2,11,2,2,2,6,3,2,2,2,5,10,7,5,7,8,8,10,3,3,1,9,1,12,12,6,6,9,4,11,4,11,5,2,2,4],\"xaxis\":\"x\",\"y\":[9814,9806,9803,9794,9786,9786,9783,9773,9772,9772,9753,9750,9749,9749,9748,9740,9732,9724,9704,9702,9687,9687,9676,9670,9655,9655,9621,9604,9601,9598,9592,9580,9580,9563,9557,9545,9535,9518,9512,9510,9501,9493,9487,9484,9482,9480,9477,9460,9459,9458,9441,9439,9429,9425,9425,9419,9415,9411,9410,9406,9391,9382,9375,9358,9357,9356,9350,9341,9319,9270,9144,9111,9043,9042,9011,8772,8758,8726,8720,8715,8667,8517,8296,8281,8281,8268,8246,8241,8218,8215,8177,8124,8083,8030,8028,8022,8011,8010,8008,7988,7973,7937,7936,7883,7788,7607,7323,6956],\"yaxis\":\"y\",\"type\":\"bar\"}],                        {\"template\":{\"data\":{\"histogram2dcontour\":[{\"type\":\"histogram2dcontour\",\"colorbar\":{\"outlinewidth\":0,\"ticks\":\"\"},\"colorscale\":[[0.0,\"#0d0887\"],[0.1111111111111111,\"#46039f\"],[0.2222222222222222,\"#7201a8\"],[0.3333333333333333,\"#9c179e\"],[0.4444444444444444,\"#bd3786\"],[0.5555555555555556,\"#d8576b\"],[0.6666666666666666,\"#ed7953\"],[0.7777777777777778,\"#fb9f3a\"],[0.8888888888888888,\"#fdca26\"],[1.0,\"#f0f921\"]]}],\"choropleth\":[{\"type\":\"choropleth\",\"colorbar\":{\"outlinewidth\":0,\"ticks\":\"\"}}],\"histogram2d\":[{\"type\":\"histogram2d\",\"colorbar\":{\"outlinewidth\":0,\"ticks\":\"\"},\"colorscale\":[[0.0,\"#0d0887\"],[0.1111111111111111,\"#46039f\"],[0.2222222222222222,\"#7201a8\"],[0.3333333333333333,\"#9c179e\"],[0.4444444444444444,\"#bd3786\"],[0.5555555555555556,\"#d8576b\"],[0.6666666666666666,\"#ed7953\"],[0.7777777777777778,\"#fb9f3a\"],[0.8888888888888888,\"#fdca26\"],[1.0,\"#f0f921\"]]}],\"heatmap\":[{\"type\":\"heatmap\",\"colorbar\":{\"outlinewidth\":0,\"ticks\":\"\"},\"colorscale\":[[0.0,\"#0d0887\"],[0.1111111111111111,\"#46039f\"],[0.2222222222222222,\"#7201a8\"],[0.3333333333333333,\"#9c179e\"],[0.4444444444444444,\"#bd3786\"],[0.5555555555555556,\"#d8576b\"],[0.6666666666666666,\"#ed7953\"],[0.7777777777777778,\"#fb9f3a\"],[0.8888888888888888,\"#fdca26\"],[1.0,\"#f0f921\"]]}],\"heatmapgl\":[{\"type\":\"heatmapgl\",\"colorbar\":{\"outlinewidth\":0,\"ticks\":\"\"},\"colorscale\":[[0.0,\"#0d0887\"],[0.1111111111111111,\"#46039f\"],[0.2222222222222222,\"#7201a8\"],[0.3333333333333333,\"#9c179e\"],[0.4444444444444444,\"#bd3786\"],[0.5555555555555556,\"#d8576b\"],[0.6666666666666666,\"#ed7953\"],[0.7777777777777778,\"#fb9f3a\"],[0.8888888888888888,\"#fdca26\"],[1.0,\"#f0f921\"]]}],\"contourcarpet\":[{\"type\":\"contourcarpet\",\"colorbar\":{\"outlinewidth\":0,\"ticks\":\"\"}}],\"contour\":[{\"type\":\"contour\",\"colorbar\":{\"outlinewidth\":0,\"ticks\":\"\"},\"colorscale\":[[0.0,\"#0d0887\"],[0.1111111111111111,\"#46039f\"],[0.2222222222222222,\"#7201a8\"],[0.3333333333333333,\"#9c179e\"],[0.4444444444444444,\"#bd3786\"],[0.5555555555555556,\"#d8576b\"],[0.6666666666666666,\"#ed7953\"],[0.7777777777777778,\"#fb9f3a\"],[0.8888888888888888,\"#fdca26\"],[1.0,\"#f0f921\"]]}],\"surface\":[{\"type\":\"surface\",\"colorbar\":{\"outlinewidth\":0,\"ticks\":\"\"},\"colorscale\":[[0.0,\"#0d0887\"],[0.1111111111111111,\"#46039f\"],[0.2222222222222222,\"#7201a8\"],[0.3333333333333333,\"#9c179e\"],[0.4444444444444444,\"#bd3786\"],[0.5555555555555556,\"#d8576b\"],[0.6666666666666666,\"#ed7953\"],[0.7777777777777778,\"#fb9f3a\"],[0.8888888888888888,\"#fdca26\"],[1.0,\"#f0f921\"]]}],\"mesh3d\":[{\"type\":\"mesh3d\",\"colorbar\":{\"outlinewidth\":0,\"ticks\":\"\"}}],\"scatter\":[{\"fillpattern\":{\"fillmode\":\"overlay\",\"size\":10,\"solidity\":0.2},\"type\":\"scatter\"}],\"parcoords\":[{\"type\":\"parcoords\",\"line\":{\"colorbar\":{\"outlinewidth\":0,\"ticks\":\"\"}}}],\"scatterpolargl\":[{\"type\":\"scatterpolargl\",\"marker\":{\"colorbar\":{\"outlinewidth\":0,\"ticks\":\"\"}}}],\"bar\":[{\"error_x\":{\"color\":\"#2a3f5f\"},\"error_y\":{\"color\":\"#2a3f5f\"},\"marker\":{\"line\":{\"color\":\"#E5ECF6\",\"width\":0.5},\"pattern\":{\"fillmode\":\"overlay\",\"size\":10,\"solidity\":0.2}},\"type\":\"bar\"}],\"scattergeo\":[{\"type\":\"scattergeo\",\"marker\":{\"colorbar\":{\"outlinewidth\":0,\"ticks\":\"\"}}}],\"scatterpolar\":[{\"type\":\"scatterpolar\",\"marker\":{\"colorbar\":{\"outlinewidth\":0,\"ticks\":\"\"}}}],\"histogram\":[{\"marker\":{\"pattern\":{\"fillmode\":\"overlay\",\"size\":10,\"solidity\":0.2}},\"type\":\"histogram\"}],\"scattergl\":[{\"type\":\"scattergl\",\"marker\":{\"colorbar\":{\"outlinewidth\":0,\"ticks\":\"\"}}}],\"scatter3d\":[{\"type\":\"scatter3d\",\"line\":{\"colorbar\":{\"outlinewidth\":0,\"ticks\":\"\"}},\"marker\":{\"colorbar\":{\"outlinewidth\":0,\"ticks\":\"\"}}}],\"scattermapbox\":[{\"type\":\"scattermapbox\",\"marker\":{\"colorbar\":{\"outlinewidth\":0,\"ticks\":\"\"}}}],\"scatterternary\":[{\"type\":\"scatterternary\",\"marker\":{\"colorbar\":{\"outlinewidth\":0,\"ticks\":\"\"}}}],\"scattercarpet\":[{\"type\":\"scattercarpet\",\"marker\":{\"colorbar\":{\"outlinewidth\":0,\"ticks\":\"\"}}}],\"carpet\":[{\"aaxis\":{\"endlinecolor\":\"#2a3f5f\",\"gridcolor\":\"white\",\"linecolor\":\"white\",\"minorgridcolor\":\"white\",\"startlinecolor\":\"#2a3f5f\"},\"baxis\":{\"endlinecolor\":\"#2a3f5f\",\"gridcolor\":\"white\",\"linecolor\":\"white\",\"minorgridcolor\":\"white\",\"startlinecolor\":\"#2a3f5f\"},\"type\":\"carpet\"}],\"table\":[{\"cells\":{\"fill\":{\"color\":\"#EBF0F8\"},\"line\":{\"color\":\"white\"}},\"header\":{\"fill\":{\"color\":\"#C8D4E3\"},\"line\":{\"color\":\"white\"}},\"type\":\"table\"}],\"barpolar\":[{\"marker\":{\"line\":{\"color\":\"#E5ECF6\",\"width\":0.5},\"pattern\":{\"fillmode\":\"overlay\",\"size\":10,\"solidity\":0.2}},\"type\":\"barpolar\"}],\"pie\":[{\"automargin\":true,\"type\":\"pie\"}]},\"layout\":{\"autotypenumbers\":\"strict\",\"colorway\":[\"#636efa\",\"#EF553B\",\"#00cc96\",\"#ab63fa\",\"#FFA15A\",\"#19d3f3\",\"#FF6692\",\"#B6E880\",\"#FF97FF\",\"#FECB52\"],\"font\":{\"color\":\"#2a3f5f\"},\"hovermode\":\"closest\",\"hoverlabel\":{\"align\":\"left\"},\"paper_bgcolor\":\"white\",\"plot_bgcolor\":\"#E5ECF6\",\"polar\":{\"bgcolor\":\"#E5ECF6\",\"angularaxis\":{\"gridcolor\":\"white\",\"linecolor\":\"white\",\"ticks\":\"\"},\"radialaxis\":{\"gridcolor\":\"white\",\"linecolor\":\"white\",\"ticks\":\"\"}},\"ternary\":{\"bgcolor\":\"#E5ECF6\",\"aaxis\":{\"gridcolor\":\"white\",\"linecolor\":\"white\",\"ticks\":\"\"},\"baxis\":{\"gridcolor\":\"white\",\"linecolor\":\"white\",\"ticks\":\"\"},\"caxis\":{\"gridcolor\":\"white\",\"linecolor\":\"white\",\"ticks\":\"\"}},\"coloraxis\":{\"colorbar\":{\"outlinewidth\":0,\"ticks\":\"\"}},\"colorscale\":{\"sequential\":[[0.0,\"#0d0887\"],[0.1111111111111111,\"#46039f\"],[0.2222222222222222,\"#7201a8\"],[0.3333333333333333,\"#9c179e\"],[0.4444444444444444,\"#bd3786\"],[0.5555555555555556,\"#d8576b\"],[0.6666666666666666,\"#ed7953\"],[0.7777777777777778,\"#fb9f3a\"],[0.8888888888888888,\"#fdca26\"],[1.0,\"#f0f921\"]],\"sequentialminus\":[[0.0,\"#0d0887\"],[0.1111111111111111,\"#46039f\"],[0.2222222222222222,\"#7201a8\"],[0.3333333333333333,\"#9c179e\"],[0.4444444444444444,\"#bd3786\"],[0.5555555555555556,\"#d8576b\"],[0.6666666666666666,\"#ed7953\"],[0.7777777777777778,\"#fb9f3a\"],[0.8888888888888888,\"#fdca26\"],[1.0,\"#f0f921\"]],\"diverging\":[[0,\"#8e0152\"],[0.1,\"#c51b7d\"],[0.2,\"#de77ae\"],[0.3,\"#f1b6da\"],[0.4,\"#fde0ef\"],[0.5,\"#f7f7f7\"],[0.6,\"#e6f5d0\"],[0.7,\"#b8e186\"],[0.8,\"#7fbc41\"],[0.9,\"#4d9221\"],[1,\"#276419\"]]},\"xaxis\":{\"gridcolor\":\"white\",\"linecolor\":\"white\",\"ticks\":\"\",\"title\":{\"standoff\":15},\"zerolinecolor\":\"white\",\"automargin\":true,\"zerolinewidth\":2},\"yaxis\":{\"gridcolor\":\"white\",\"linecolor\":\"white\",\"ticks\":\"\",\"title\":{\"standoff\":15},\"zerolinecolor\":\"white\",\"automargin\":true,\"zerolinewidth\":2},\"scene\":{\"xaxis\":{\"backgroundcolor\":\"#E5ECF6\",\"gridcolor\":\"white\",\"linecolor\":\"white\",\"showbackground\":true,\"ticks\":\"\",\"zerolinecolor\":\"white\",\"gridwidth\":2},\"yaxis\":{\"backgroundcolor\":\"#E5ECF6\",\"gridcolor\":\"white\",\"linecolor\":\"white\",\"showbackground\":true,\"ticks\":\"\",\"zerolinecolor\":\"white\",\"gridwidth\":2},\"zaxis\":{\"backgroundcolor\":\"#E5ECF6\",\"gridcolor\":\"white\",\"linecolor\":\"white\",\"showbackground\":true,\"ticks\":\"\",\"zerolinecolor\":\"white\",\"gridwidth\":2}},\"shapedefaults\":{\"line\":{\"color\":\"#2a3f5f\"}},\"annotationdefaults\":{\"arrowcolor\":\"#2a3f5f\",\"arrowhead\":0,\"arrowwidth\":1},\"geo\":{\"bgcolor\":\"white\",\"landcolor\":\"#E5ECF6\",\"subunitcolor\":\"white\",\"showland\":true,\"showlakes\":true,\"lakecolor\":\"white\"},\"title\":{\"x\":0.05},\"mapbox\":{\"style\":\"light\"}}},\"xaxis\":{\"anchor\":\"y\",\"domain\":[0.0,1.0],\"title\":{\"text\":\"MONTH_NUM\"}},\"yaxis\":{\"anchor\":\"x\",\"domain\":[0.0,1.0],\"title\":{\"text\":\"total_flights\"}},\"coloraxis\":{\"colorbar\":{\"title\":{\"text\":\"YEAR\"}},\"colorscale\":[[0.0,\"#0d0887\"],[0.1111111111111111,\"#46039f\"],[0.2222222222222222,\"#7201a8\"],[0.3333333333333333,\"#9c179e\"],[0.4444444444444444,\"#bd3786\"],[0.5555555555555556,\"#d8576b\"],[0.6666666666666666,\"#ed7953\"],[0.7777777777777778,\"#fb9f3a\"],[0.8888888888888888,\"#fdca26\"],[1.0,\"#f0f921\"]]},\"legend\":{\"tracegroupgap\":0},\"title\":{\"text\":\"Total flights by month\"},\"barmode\":\"group\",\"height\":700,\"width\":900},                        {\"responsive\": true}                    ).then(function(){\n",
       "                            \n",
       "var gd = document.getElementById('c33ee1aa-1c35-4eab-aa05-eba2e0e1c516');\n",
       "var x = new MutationObserver(function (mutations, observer) {{\n",
       "        var display = window.getComputedStyle(gd).display;\n",
       "        if (!display || display === 'none') {{\n",
       "            console.log([gd, 'removed!']);\n",
       "            Plotly.purge(gd);\n",
       "            observer.disconnect();\n",
       "        }}\n",
       "}});\n",
       "\n",
       "// Listen for the removal of the full notebook cells\n",
       "var notebookContainer = gd.closest('#notebook-container');\n",
       "if (notebookContainer) {{\n",
       "    x.observe(notebookContainer, {childList: true});\n",
       "}}\n",
       "\n",
       "// Listen for the clearing of the current output cell\n",
       "var outputEl = gd.closest('.output');\n",
       "if (outputEl) {{\n",
       "    x.observe(outputEl, {childList: true});\n",
       "}}\n",
       "\n",
       "                        })                };                });            </script>        </div>"
      ]
     },
     "metadata": {},
     "output_type": "display_data"
    }
   ],
   "execution_count": 64
  },
  {
   "metadata": {
    "ExecuteTime": {
     "end_time": "2025-03-01T19:31:02.734633Z",
     "start_time": "2025-03-01T19:31:01.726186Z"
    }
   },
   "cell_type": "code",
   "source": [
    "widnow = Window.partitionBy('YEAR', 'MONTH_NUM').orderBy(F.col('FLT_TOT_1').desc())\n",
    "\n",
    "df.withColumn(\n",
    "    'rank',\n",
    "    F.rank().over(window)\n",
    ").filter(\n",
    "    F.col('rank') <= 5\n",
    ").orderBy(\n",
    "    'YEAR', 'MONTH_NUM', 'rank'\n",
    ").show()"
   ],
   "id": "9100eb1feb6f1a7d",
   "outputs": [
    {
     "name": "stdout",
     "output_type": "stream",
     "text": [
      "+----+---------+---------+----------+--------+--------------------+----------+---------+---------+---------+-------------+-------------+-------------+----+\n",
      "|YEAR|MONTH_NUM|MONTH_MON|  FLT_DATE|APT_ICAO|            APT_NAME|STATE_NAME|FLT_DEP_1|FLT_ARR_1|FLT_TOT_1|FLT_DEP_IFR_2|FLT_ARR_IFR_2|FLT_TOT_IFR_2|rank|\n",
      "+----+---------+---------+----------+--------+--------------------+----------+---------+---------+---------+-------------+-------------+-------------+----+\n",
      "|2016|        1|      JAN|2016-01-01|    LFBA|     Agen-La Garenne|    France|        0|        1|        1|         NULL|         NULL|         NULL|   1|\n",
      "|2016|        1|      JAN|2016-01-01|    LFRD|Dinard-Pleurtuit-...|    France|        1|        0|        1|         NULL|         NULL|         NULL|   1|\n",
      "|2016|        1|      JAN|2016-01-01|    EIWF|           Waterford|   Ireland|        0|        1|        1|         NULL|         NULL|         NULL|   1|\n",
      "|2016|        1|      JAN|2016-01-01|    LJMB|             Maribor|  Slovenia|        0|        1|        1|         NULL|         NULL|         NULL|   1|\n",
      "|2016|        1|      JAN|2016-01-01|    LELL|            Sabadell|     Spain|        1|        0|        1|         NULL|         NULL|         NULL|   1|\n",
      "|2016|        1|      JAN|2016-01-01|    LESB|           Son Bonet|     Spain|        1|        0|        1|         NULL|         NULL|         NULL|   1|\n",
      "|2016|        1|      JAN|2016-01-02|    LFBA|     Agen-La Garenne|    France|        0|        1|        1|         NULL|         NULL|         NULL|   1|\n",
      "|2016|        1|      JAN|2016-01-02|    LFBI|      Poitiers-Biard|    France|        0|        1|        1|         NULL|         NULL|         NULL|   1|\n",
      "|2016|        1|      JAN|2016-01-02|    LFLX|   Châteauroux-Déols|    France|        0|        1|        1|         NULL|         NULL|         NULL|   1|\n",
      "|2016|        1|      JAN|2016-01-02|    LFTW|        Nîmes-Garons|    France|        1|        0|        1|         NULL|         NULL|         NULL|   1|\n",
      "|2016|        1|      JAN|2016-01-02|    LJMB|             Maribor|  Slovenia|        0|        1|        1|         NULL|         NULL|         NULL|   1|\n",
      "|2016|        1|      JAN|2016-01-02|    LELL|            Sabadell|     Spain|        0|        1|        1|         NULL|         NULL|         NULL|   1|\n",
      "|2016|        1|      JAN|2016-01-03|    LFAQ|         Albert-Bray|    France|        1|        0|        1|         NULL|         NULL|         NULL|   1|\n",
      "|2016|        1|      JAN|2016-01-03|    LFLX|   Châteauroux-Déols|    France|        1|        0|        1|         NULL|         NULL|         NULL|   1|\n",
      "|2016|        1|      JAN|2016-01-03|    LFMH|Saint-Etienne-Bou...|    France|        0|        1|        1|         NULL|         NULL|         NULL|   1|\n",
      "|2016|        1|      JAN|2016-01-03|    EIWT|              Weston|   Ireland|        1|        0|        1|         NULL|         NULL|         NULL|   1|\n",
      "|2016|        1|      JAN|2016-01-03|    EPZG|Zielona Gora - Ba...|    Poland|        0|        1|        1|         NULL|         NULL|         NULL|   1|\n",
      "|2016|        1|      JAN|2016-01-03|    LJPZ|            Portorož|  Slovenia|        1|        0|        1|         NULL|         NULL|         NULL|   1|\n",
      "|2016|        1|      JAN|2016-01-03|    LEBZ|             Badajoz|     Spain|        1|        0|        1|         NULL|         NULL|         NULL|   1|\n",
      "|2016|        1|      JAN|2016-01-03|    LELL|            Sabadell|     Spain|        0|        1|        1|         NULL|         NULL|         NULL|   1|\n",
      "+----+---------+---------+----------+--------+--------------------+----------+---------+---------+---------+-------------+-------------+-------------+----+\n",
      "only showing top 20 rows\n",
      "\n"
     ]
    }
   ],
   "execution_count": 79
  },
  {
   "metadata": {
    "ExecuteTime": {
     "end_time": "2025-03-01T19:42:58.849746Z",
     "start_time": "2025-03-01T19:42:58.055827Z"
    }
   },
   "cell_type": "code",
   "source": [
    "spark.sql(\"\"\"\n",
    "WITH airport_traffic AS (\n",
    "    SELECT\n",
    "        *,\n",
    "        RANK() OVER (\n",
    "            PARTITION BY YEAR, MONTH_NUM\n",
    "            ORDER BY FLT_TOT_1 DESC\n",
    "        ) AS rank\n",
    "    FROM\n",
    "        airport_traffic\n",
    "    ) SELECT\n",
    "        *\n",
    "        FROM\n",
    "            airport_traffic\n",
    "        WHERE\n",
    "            rank <= 5\n",
    "        ORDER BY\n",
    "            YEAR, MONTH_NUM, rank\n",
    "\"\"\").show()"
   ],
   "id": "c06f7dc4dc8efefb",
   "outputs": [
    {
     "name": "stdout",
     "output_type": "stream",
     "text": [
      "+----+---------+---------+--------+--------+--------------------+--------------+---------+---------+---------+-------------+-------------+-------------+----+\n",
      "|YEAR|MONTH_NUM|MONTH_MON|FLT_DATE|APT_ICAO|            APT_NAME|    STATE_NAME|FLT_DEP_1|FLT_ARR_1|FLT_TOT_1|FLT_DEP_IFR_2|FLT_ARR_IFR_2|FLT_TOT_IFR_2|rank|\n",
      "+----+---------+---------+--------+--------+--------------------+--------------+---------+---------+---------+-------------+-------------+-------------+----+\n",
      "|2016|        1|      JAN|22-01-16|    EGLL|   London - Heathrow|United Kingdom|      637|      641|     1278|          637|          640|         1277|   1|\n",
      "|2016|        1|      JAN|29-01-16|    EGLL|   London - Heathrow|United Kingdom|      633|      640|     1273|          633|          637|         1270|   2|\n",
      "|2016|        1|      JAN|03-01-16|    LFPG|Paris-Charles-de-...|        France|      631|      632|     1263|          630|          629|         1259|   3|\n",
      "|2016|        1|      JAN|03-01-16|    LTBA|    Istanbul Atatürk|        Turkey|      640|      623|     1263|         NULL|         NULL|         NULL|   3|\n",
      "|2016|        1|      JAN|28-01-16|    EGLL|   London - Heathrow|United Kingdom|      626|      623|     1249|          626|          623|         1249|   5|\n",
      "|2016|        2|      FEB|26-02-16|    EGLL|   London - Heathrow|United Kingdom|      663|      662|     1325|          662|          661|         1323|   1|\n",
      "|2016|        2|      FEB|22-02-16|    EGLL|   London - Heathrow|United Kingdom|      660|      659|     1319|          660|          659|         1319|   2|\n",
      "|2016|        2|      FEB|21-02-16|    EGLL|   London - Heathrow|United Kingdom|      652|      656|     1308|          652|          657|         1309|   3|\n",
      "|2016|        2|      FEB|29-02-16|    EGLL|   London - Heathrow|United Kingdom|      658|      648|     1306|          657|          657|         1314|   4|\n",
      "|2016|        2|      FEB|25-02-16|    EGLL|   London - Heathrow|United Kingdom|      652|      649|     1301|          652|          648|         1300|   5|\n",
      "|2016|        3|      MAR|28-03-16|    EHAM|Amsterdam - Schiphol|   Netherlands|      676|      677|     1353|          676|          680|         1356|   1|\n",
      "|2016|        3|      MAR|31-03-16|    EHAM|Amsterdam - Schiphol|   Netherlands|      670|      672|     1342|          667|          675|         1342|   2|\n",
      "|2016|        3|      MAR|29-03-16|    LFPG|Paris-Charles-de-...|        France|      658|      670|     1328|          657|          667|         1324|   3|\n",
      "|2016|        3|      MAR|30-03-16|    EHAM|Amsterdam - Schiphol|   Netherlands|      662|      658|     1320|          664|          647|         1311|   4|\n",
      "|2016|        3|      MAR|04-03-16|    EGLL|   London - Heathrow|United Kingdom|      659|      660|     1319|          658|          659|         1317|   5|\n",
      "|2016|        4|      APR|29-04-16|    EHAM|Amsterdam - Schiphol|   Netherlands|      738|      736|     1474|          738|          734|         1472|   1|\n",
      "|2016|        4|      APR|22-04-16|    EHAM|Amsterdam - Schiphol|   Netherlands|      728|      727|     1455|          728|          722|         1450|   2|\n",
      "|2016|        4|      APR|28-04-16|    EHAM|Amsterdam - Schiphol|   Netherlands|      720|      725|     1445|          720|          725|         1445|   3|\n",
      "|2016|        4|      APR|25-04-16|    EHAM|Amsterdam - Schiphol|   Netherlands|      723|      718|     1441|          724|          730|         1454|   4|\n",
      "|2016|        4|      APR|21-04-16|    EHAM|Amsterdam - Schiphol|   Netherlands|      723|      715|     1438|          723|          719|         1442|   5|\n",
      "+----+---------+---------+--------+--------+--------------------+--------------+---------+---------+---------+-------------+-------------+-------------+----+\n",
      "only showing top 20 rows\n",
      "\n"
     ]
    }
   ],
   "execution_count": 88
  },
  {
   "metadata": {
    "ExecuteTime": {
     "end_time": "2025-03-01T19:57:28.603710Z",
     "start_time": "2025-03-01T19:57:26.897392Z"
    }
   },
   "cell_type": "code",
   "source": [
    "window = Window.partitionBy('APT_NAME').orderBy('YEAR', 'MONTH_NUM')\n",
    "\n",
    "df_with_lag = df.withColumn(\n",
    "    'prev_month_flights',\n",
    "    F.lag('FLT_TOT_1', 1).over(window),\n",
    ")\n",
    "\n",
    "df_with_lag = df_with_lag.withColumn(\n",
    "    'prev_month_flights',\n",
    "    F.coalesce('prev_month_flights', F.lit(0.0))\n",
    ")\n",
    "\n",
    "df_with_growth = df_with_lag.withColumn(\n",
    "    'mom_growth',\n",
    "    F.when(F.col('prev_month_flights') != 0,\n",
    "           ((F.col('FLT_TOT_1') - F.col('prev_month_flights')) / F.col('prev_month_flights')) * 100\n",
    "           ).otherwise(None)\n",
    ")\n",
    "\n",
    "df_with_growth = df_with_growth.withColumn(\n",
    "    'mom_growth', F.round(F.col('mom_growth'), 2)\n",
    ")\n",
    "\n",
    "df_with_growth.orderBy('APT_NAME', 'YEAR', 'MONTH_NUM').show()"
   ],
   "id": "4284547aafe51967",
   "outputs": [
    {
     "name": "stdout",
     "output_type": "stream",
     "text": [
      "+----+---------+---------+----------+--------+--------+----------+---------+---------+---------+-------------+-------------+-------------+------------------+----------+\n",
      "|YEAR|MONTH_NUM|MONTH_MON|  FLT_DATE|APT_ICAO|APT_NAME|STATE_NAME|FLT_DEP_1|FLT_ARR_1|FLT_TOT_1|FLT_DEP_IFR_2|FLT_ARR_IFR_2|FLT_TOT_IFR_2|prev_month_flights|mom_growth|\n",
      "+----+---------+---------+----------+--------+--------+----------+---------+---------+---------+-------------+-------------+-------------+------------------+----------+\n",
      "|2016|        1|      JAN|2016-01-08|    LEIZ|    Abad|     Spain|        0|        4|        4|         NULL|         NULL|         NULL|               0.0|      NULL|\n",
      "|2016|        1|      JAN|2016-01-09|    LEIZ|    Abad|     Spain|        1|        1|        2|         NULL|         NULL|         NULL|               4.0|     -50.0|\n",
      "|2016|        1|      JAN|2016-01-10|    LEIZ|    Abad|     Spain|        2|        0|        2|         NULL|         NULL|         NULL|               2.0|       0.0|\n",
      "|2016|        1|      JAN|2016-01-12|    LEIZ|    Abad|     Spain|        2|        0|        2|         NULL|         NULL|         NULL|               2.0|       0.0|\n",
      "|2016|        1|      JAN|2016-01-13|    LEIZ|    Abad|     Spain|        0|        1|        1|         NULL|         NULL|         NULL|               2.0|     -50.0|\n",
      "|2016|        1|      JAN|2016-01-15|    LEIZ|    Abad|     Spain|        0|        2|        2|         NULL|         NULL|         NULL|               1.0|     100.0|\n",
      "|2016|        1|      JAN|2016-01-16|    LEIZ|    Abad|     Spain|        1|        2|        3|         NULL|         NULL|         NULL|               2.0|      50.0|\n",
      "|2016|        1|      JAN|2016-01-17|    LEIZ|    Abad|     Spain|        5|        3|        8|         NULL|         NULL|         NULL|               3.0|    166.67|\n",
      "|2016|        1|      JAN|2016-01-20|    LEIZ|    Abad|     Spain|        2|        0|        2|         NULL|         NULL|         NULL|               8.0|     -75.0|\n",
      "|2016|        1|      JAN|2016-01-21|    LEIZ|    Abad|     Spain|        0|        1|        1|         NULL|         NULL|         NULL|               2.0|     -50.0|\n",
      "|2016|        1|      JAN|2016-01-24|    LEIZ|    Abad|     Spain|        1|        0|        1|         NULL|         NULL|         NULL|               1.0|       0.0|\n",
      "|2016|        1|      JAN|2016-01-26|    LEIZ|    Abad|     Spain|        1|        1|        2|         NULL|         NULL|         NULL|               1.0|     100.0|\n",
      "|2016|        1|      JAN|2016-01-27|    LEIZ|    Abad|     Spain|        0|        2|        2|         NULL|         NULL|         NULL|               2.0|       0.0|\n",
      "|2016|        1|      JAN|2016-01-28|    LEIZ|    Abad|     Spain|        0|        1|        1|         NULL|         NULL|         NULL|               2.0|     -50.0|\n",
      "|2016|        1|      JAN|2016-01-29|    LEIZ|    Abad|     Spain|        4|        1|        5|         NULL|         NULL|         NULL|               1.0|     400.0|\n",
      "|2016|        1|      JAN|2016-01-31|    LEIZ|    Abad|     Spain|        0|        1|        1|         NULL|         NULL|         NULL|               5.0|     -80.0|\n",
      "|2016|        2|      FEB|2016-02-01|    LEIZ|    Abad|     Spain|        2|        2|        4|         NULL|         NULL|         NULL|               1.0|     300.0|\n",
      "|2016|        2|      FEB|2016-02-03|    LEIZ|    Abad|     Spain|        1|        0|        1|         NULL|         NULL|         NULL|               4.0|     -75.0|\n",
      "|2016|        2|      FEB|2016-02-04|    LEIZ|    Abad|     Spain|        1|        1|        2|         NULL|         NULL|         NULL|               1.0|     100.0|\n",
      "|2016|        2|      FEB|2016-02-05|    LEIZ|    Abad|     Spain|        1|        3|        4|         NULL|         NULL|         NULL|               2.0|     100.0|\n",
      "+----+---------+---------+----------+--------+--------+----------+---------+---------+---------+-------------+-------------+-------------+------------------+----------+\n",
      "only showing top 20 rows\n",
      "\n"
     ]
    }
   ],
   "execution_count": 105
  },
  {
   "metadata": {
    "ExecuteTime": {
     "end_time": "2025-03-01T20:10:59.756522Z",
     "start_time": "2025-03-01T20:10:58.336264Z"
    }
   },
   "cell_type": "code",
   "source": [
    "spark.sql(\"\"\"\n",
    "SELECT\n",
    "    APT_NAME,\n",
    "    YEAR,\n",
    "    MONTH_NUM,\n",
    "    FLT_TOT_1,\n",
    "    COALESCE(LAG(FLT_TOT_1, 1) OVER (\n",
    "        PARTITION BY APT_NAME\n",
    "        ORDER BY YEAR, MONTH_NUM\n",
    "    ), 0.0) as prev_month_flights,\n",
    "    ROUND(\n",
    "        CASE\n",
    "            WHEN COALESCE(LAG(FLT_TOT_1, 1) OVER (\n",
    "                    PARTITION BY APT_NAME\n",
    "                    ORDER BY YEAR, MONTH_NUM\n",
    "                ), 0.0) != 0\n",
    "            THEN ((FLT_TOT_1 - LAG(FLT_TOT_1, 1) OVER (\n",
    "                    PARTITION BY APT_NAME\n",
    "                    ORDER BY YEAR, MONTH_NUM\n",
    "                )) / LAG(FLT_TOT_1, 1) OVER (\n",
    "                    PARTITION BY APT_NAME\n",
    "                    ORDER BY YEAR, MONTH_NUM\n",
    "                )) * 100\n",
    "            ELSE NULL\n",
    "        END, 2\n",
    "    ) as mom_growth\n",
    "FROM airport_traffic\n",
    "\"\"\").show()"
   ],
   "id": "c8c10237af15627c",
   "outputs": [
    {
     "name": "stdout",
     "output_type": "stream",
     "text": [
      "+------------+----+---------+---------+------------------+----------+\n",
      "|    APT_NAME|YEAR|MONTH_NUM|FLT_TOT_1|prev_month_flights|mom_growth|\n",
      "+------------+----+---------+---------+------------------+----------+\n",
      "|Angers-Marcé|2016|        1|        6|               0.0|      NULL|\n",
      "|Angers-Marcé|2016|        1|        4|               6.0|    -33.33|\n",
      "|Angers-Marcé|2016|        1|        7|               4.0|      75.0|\n",
      "|Angers-Marcé|2016|        1|       11|               7.0|     57.14|\n",
      "|Angers-Marcé|2016|        1|        6|              11.0|    -45.45|\n",
      "|Angers-Marcé|2016|        1|       10|               6.0|     66.67|\n",
      "|Angers-Marcé|2016|        1|        6|              10.0|     -40.0|\n",
      "|Angers-Marcé|2016|        1|        2|               6.0|    -66.67|\n",
      "|Angers-Marcé|2016|        1|        1|               2.0|     -50.0|\n",
      "|Angers-Marcé|2016|        1|        1|               1.0|       0.0|\n",
      "|Angers-Marcé|2016|        1|        7|               1.0|     600.0|\n",
      "|Angers-Marcé|2016|        1|        8|               7.0|     14.29|\n",
      "|Angers-Marcé|2016|        1|       13|               8.0|      62.5|\n",
      "|Angers-Marcé|2016|        1|        3|              13.0|    -76.92|\n",
      "|Angers-Marcé|2016|        1|        1|               3.0|    -66.67|\n",
      "|Angers-Marcé|2016|        1|        2|               1.0|     100.0|\n",
      "|Angers-Marcé|2016|        1|        6|               2.0|     200.0|\n",
      "|Angers-Marcé|2016|        1|        4|               6.0|    -33.33|\n",
      "|Angers-Marcé|2016|        1|        2|               4.0|     -50.0|\n",
      "|Angers-Marcé|2016|        1|        5|               2.0|     150.0|\n",
      "+------------+----+---------+---------+------------------+----------+\n",
      "only showing top 20 rows\n",
      "\n"
     ]
    }
   ],
   "execution_count": 112
  },
  {
   "metadata": {
    "ExecuteTime": {
     "end_time": "2025-03-01T22:14:05.149366Z",
     "start_time": "2025-03-01T22:14:04.965215Z"
    }
   },
   "cell_type": "code",
   "source": "df.show()",
   "id": "ebbb16c0e022998a",
   "outputs": [
    {
     "name": "stdout",
     "output_type": "stream",
     "text": [
      "+----+---------+---------+----------+--------+-------------+--------------------+---------+---------+---------+-------------+-------------+-------------+\n",
      "|YEAR|MONTH_NUM|MONTH_MON|  FLT_DATE|APT_ICAO|     APT_NAME|          STATE_NAME|FLT_DEP_1|FLT_ARR_1|FLT_TOT_1|FLT_DEP_IFR_2|FLT_ARR_IFR_2|FLT_TOT_IFR_2|\n",
      "+----+---------+---------+----------+--------+-------------+--------------------+---------+---------+---------+-------------+-------------+-------------+\n",
      "|2016|        1|      JAN|2016-01-01|    LATI|       Tirana|             Albania|       24|       27|       51|         NULL|         NULL|         NULL|\n",
      "|2016|        1|      JAN|2016-01-01|    UDYZ|      Yerevan|             Armenia|        8|       15|       23|         NULL|         NULL|         NULL|\n",
      "|2016|        1|      JAN|2016-01-01|    LOWG|         Graz|             Austria|        6|        7|       13|         NULL|         NULL|         NULL|\n",
      "|2016|        1|      JAN|2016-01-01|    LOWI|    Innsbruck|             Austria|       26|       32|       58|         NULL|         NULL|         NULL|\n",
      "|2016|        1|      JAN|2016-01-01|    LOWK|   Klagenfurt|             Austria|        3|        4|        7|         NULL|         NULL|         NULL|\n",
      "|2016|        1|      JAN|2016-01-01|    LOWL|         Linz|             Austria|        3|        5|        8|         NULL|         NULL|         NULL|\n",
      "|2016|        1|      JAN|2016-01-01|    LOWS|     Salzburg|             Austria|       23|       26|       49|         NULL|         NULL|         NULL|\n",
      "|2016|        1|      JAN|2016-01-01|    LOWW|       Vienna|             Austria|      210|      176|      386|          210|          179|          389|\n",
      "|2016|        1|      JAN|2016-01-01|    EBAW|      Antwerp|             Belgium|        4|        3|        7|         NULL|         NULL|         NULL|\n",
      "|2016|        1|      JAN|2016-01-01|    EBBR|     Brussels|             Belgium|      174|      171|      345|          174|          161|          335|\n",
      "|2016|        1|      JAN|2016-01-01|    EBCI|    Charleroi|             Belgium|       45|       47|       92|           45|           45|           90|\n",
      "|2016|        1|      JAN|2016-01-01|    EBLG|        Liège|             Belgium|        6|        7|       13|         NULL|         NULL|         NULL|\n",
      "|2016|        1|      JAN|2016-01-01|    EBOS|Ostend-Bruges|             Belgium|        7|        7|       14|         NULL|         NULL|         NULL|\n",
      "|2016|        1|      JAN|2016-01-01|    LQSA|     Sarajevo|Bosnia and Herzeg...|        5|        6|       11|         NULL|         NULL|         NULL|\n",
      "|2016|        1|      JAN|2016-01-01|    LBSF|        Sofia|            Bulgaria|       26|       26|       52|           26|           24|           50|\n",
      "|2016|        1|      JAN|2016-01-01|    LDZA|       Zagreb|             Croatia|       24|       22|       46|         NULL|         NULL|         NULL|\n",
      "|2016|        1|      JAN|2016-01-01|    LCLK|      Larnaca|              Cyprus|       25|       27|       52|         NULL|         NULL|         NULL|\n",
      "|2016|        1|      JAN|2016-01-01|    LCPH|       Paphos|              Cyprus|        6|        6|       12|         NULL|         NULL|         NULL|\n",
      "|2016|        1|      JAN|2016-01-01|    LKMT|      Ostrava|      Czech Republic|        2|        3|        5|         NULL|         NULL|         NULL|\n",
      "|2016|        1|      JAN|2016-01-01|    LKPR|       Prague|      Czech Republic|      121|      118|      239|          120|          117|          237|\n",
      "+----+---------+---------+----------+--------+-------------+--------------------+---------+---------+---------+-------------+-------------+-------------+\n",
      "only showing top 20 rows\n",
      "\n"
     ]
    }
   ],
   "execution_count": 113
  },
  {
   "metadata": {
    "ExecuteTime": {
     "end_time": "2025-03-01T22:30:09.749972Z",
     "start_time": "2025-03-01T22:30:09.435088Z"
    }
   },
   "cell_type": "code",
   "source": "",
   "id": "265c5e9d2a55f202",
   "outputs": [],
   "execution_count": 114
  }
 ],
 "metadata": {
  "kernelspec": {
   "display_name": "Python 3",
   "language": "python",
   "name": "python3"
  },
  "language_info": {
   "codemirror_mode": {
    "name": "ipython",
    "version": 2
   },
   "file_extension": ".py",
   "mimetype": "text/x-python",
   "name": "python",
   "nbconvert_exporter": "python",
   "pygments_lexer": "ipython2",
   "version": "2.7.6"
  }
 },
 "nbformat": 4,
 "nbformat_minor": 5
}
