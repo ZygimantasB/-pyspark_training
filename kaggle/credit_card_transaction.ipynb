{
 "cells": [
  {
   "metadata": {},
   "cell_type": "markdown",
   "source": "https://www.kaggle.com/datasets/priyamchoksi/credit-card-transactions-dataset",
   "id": "1ee21f4f24d6ff2a"
  },
  {
   "cell_type": "code",
   "id": "initial_id",
   "metadata": {
    "collapsed": true,
    "ExecuteTime": {
     "end_time": "2025-01-09T20:16:34.077251Z",
     "start_time": "2025-01-09T20:16:34.073232Z"
    }
   },
   "source": [
    "from pyspark.sql import SparkSession\n",
    "from pyspark.sql import functions as F\n",
    "from pyspark.sql import Window\n",
    "from pyspark.sql.types import StringType, IntegerType, FloatType, DateType\n",
    "import seaborn as sns\n",
    "import matplotlib as plt\n",
    "import altair as alt\n",
    "import plotly.express as px"
   ],
   "outputs": [],
   "execution_count": 172
  },
  {
   "metadata": {
    "ExecuteTime": {
     "end_time": "2025-01-09T20:12:54.010266Z",
     "start_time": "2025-01-09T20:12:54.007277Z"
    }
   },
   "cell_type": "code",
   "source": "df_path = r\"F:\\Datasets\\CSV datasets\\credit_card_transactions.csv\"",
   "id": "495a0b33fa8dc9b3",
   "outputs": [],
   "execution_count": 129
  },
  {
   "metadata": {
    "ExecuteTime": {
     "end_time": "2025-01-09T20:12:54.025294Z",
     "start_time": "2025-01-09T20:12:54.018785Z"
    }
   },
   "cell_type": "code",
   "source": "spark = SparkSession.builder.appName('Credit_Card_Transactions').getOrCreate()",
   "id": "3c391e7e2b66cd29",
   "outputs": [],
   "execution_count": 130
  },
  {
   "metadata": {
    "ExecuteTime": {
     "end_time": "2025-01-09T20:12:55.338365Z",
     "start_time": "2025-01-09T20:12:54.034678Z"
    }
   },
   "cell_type": "code",
   "source": "df = spark.read.csv(df_path, inferSchema=True, header=True)",
   "id": "fc0df2fee7bd4ad7",
   "outputs": [],
   "execution_count": 131
  },
  {
   "metadata": {
    "ExecuteTime": {
     "end_time": "2025-01-09T20:12:55.364141Z",
     "start_time": "2025-01-09T20:12:55.349942Z"
    }
   },
   "cell_type": "code",
   "source": "df = df.withColumnRenamed('Unnamed: 0', 'user_id')",
   "id": "e0669a71e88657fe",
   "outputs": [],
   "execution_count": 132
  },
  {
   "metadata": {
    "ExecuteTime": {
     "end_time": "2025-01-09T20:12:56.511432Z",
     "start_time": "2025-01-09T20:12:55.375291Z"
    }
   },
   "cell_type": "code",
   "source": [
    "df.select([\n",
    "    F.sum(F.when(F.col(column).isNull(), 1).otherwise(0)).alias(column) for column in df.columns\n",
    "]).show()"
   ],
   "id": "8f3784f7fa36f846",
   "outputs": [
    {
     "name": "stdout",
     "output_type": "stream",
     "text": [
      "+-------+---------------------+------+--------+--------+---+-----+----+------+------+----+-----+---+---+----+--------+---+---+---------+---------+---------+----------+--------+-------------+\n",
      "|user_id|trans_date_trans_time|cc_num|merchant|category|amt|first|last|gender|street|city|state|zip|lat|long|city_pop|job|dob|trans_num|unix_time|merch_lat|merch_long|is_fraud|merch_zipcode|\n",
      "+-------+---------------------+------+--------+--------+---+-----+----+------+------+----+-----+---+---+----+--------+---+---+---------+---------+---------+----------+--------+-------------+\n",
      "|      0|                    0|     0|       0|       0|  0|    0|   0|     0|     0|   0|    0|  0|  0|   0|       0|  0|  0|        0|        0|        0|         0|       0|       195973|\n",
      "+-------+---------------------+------+--------+--------+---+-----+----+------+------+----+-----+---+---+----+--------+---+---+---------+---------+---------+----------+--------+-------------+\n",
      "\n"
     ]
    }
   ],
   "execution_count": 133
  },
  {
   "metadata": {
    "ExecuteTime": {
     "end_time": "2025-01-09T20:12:56.554699Z",
     "start_time": "2025-01-09T20:12:56.550934Z"
    }
   },
   "cell_type": "code",
   "source": "df.printSchema()",
   "id": "94dd7edee12fed7",
   "outputs": [
    {
     "name": "stdout",
     "output_type": "stream",
     "text": [
      "root\n",
      " |-- user_id: integer (nullable = true)\n",
      " |-- trans_date_trans_time: timestamp (nullable = true)\n",
      " |-- cc_num: long (nullable = true)\n",
      " |-- merchant: string (nullable = true)\n",
      " |-- category: string (nullable = true)\n",
      " |-- amt: double (nullable = true)\n",
      " |-- first: string (nullable = true)\n",
      " |-- last: string (nullable = true)\n",
      " |-- gender: string (nullable = true)\n",
      " |-- street: string (nullable = true)\n",
      " |-- city: string (nullable = true)\n",
      " |-- state: string (nullable = true)\n",
      " |-- zip: integer (nullable = true)\n",
      " |-- lat: double (nullable = true)\n",
      " |-- long: double (nullable = true)\n",
      " |-- city_pop: integer (nullable = true)\n",
      " |-- job: string (nullable = true)\n",
      " |-- dob: date (nullable = true)\n",
      " |-- trans_num: string (nullable = true)\n",
      " |-- unix_time: integer (nullable = true)\n",
      " |-- merch_lat: double (nullable = true)\n",
      " |-- merch_long: double (nullable = true)\n",
      " |-- is_fraud: integer (nullable = true)\n",
      " |-- merch_zipcode: integer (nullable = true)\n",
      "\n"
     ]
    }
   ],
   "execution_count": 134
  },
  {
   "metadata": {
    "ExecuteTime": {
     "end_time": "2025-01-09T20:12:56.757430Z",
     "start_time": "2025-01-09T20:12:56.662826Z"
    }
   },
   "cell_type": "code",
   "source": "df.show()",
   "id": "1f2dc2bd0b5d9761",
   "outputs": [
    {
     "name": "stdout",
     "output_type": "stream",
     "text": [
      "+-------+---------------------+-------------------+--------------------+-------------+------+-----------+---------+------+--------------------+--------------------+-----+-----+-------+------------------+--------+--------------------+----------+--------------------+----------+------------------+------------------+--------+-------------+\n",
      "|user_id|trans_date_trans_time|             cc_num|            merchant|     category|   amt|      first|     last|gender|              street|                city|state|  zip|    lat|              long|city_pop|                 job|       dob|           trans_num| unix_time|         merch_lat|        merch_long|is_fraud|merch_zipcode|\n",
      "+-------+---------------------+-------------------+--------------------+-------------+------+-----------+---------+------+--------------------+--------------------+-----+-----+-------+------------------+--------+--------------------+----------+--------------------+----------+------------------+------------------+--------+-------------+\n",
      "|      0|  2019-01-01 00:00:18|   2703186189652095|fraud_Rippin, Kub...|     misc_net|  4.97|   Jennifer|    Banks|     F|      561 Perry Cove|      Moravian Falls|   NC|28654|36.0788|          -81.1781|    3495|Psychologist, cou...|1988-03-09|0b242abb623afc578...|1325376018|         36.011293|        -82.048315|       0|        28705|\n",
      "|      1|  2019-01-01 00:00:44|       630423337322|fraud_Heller, Gut...|  grocery_pos|107.23|  Stephanie|     Gill|     F|43039 Riley Green...|              Orient|   WA|99160|48.8878|         -118.2105|     149|Special education...|1978-06-21|1f76529f857473494...|1325376044|49.159046999999994|       -118.186462|       0|         NULL|\n",
      "|      2|  2019-01-01 00:00:51|     38859492057661|fraud_Lind-Buckridge|entertainment|220.11|     Edward|  Sanchez|     M|594 White Dale Su...|          Malad City|   ID|83252|42.1808|          -112.262|    4154|Nature conservati...|1962-01-19|a1a22d70485983eac...|1325376051|         43.150704|       -112.154481|       0|        83236|\n",
      "|      3|  2019-01-01 00:01:16|   3534093764340240|fraud_Kutch, Herm...|gas_transport|  45.0|     Jeremy|    White|     M|9443 Cynthia Cour...|             Boulder|   MT|59632|46.2306|         -112.1138|    1939|     Patent attorney|1967-01-12|6b849c168bdad6f86...|1325376076|         47.034331|       -112.561071|       0|         NULL|\n",
      "|      4|  2019-01-01 00:03:06|    375534208663984| fraud_Keeling-Crist|     misc_pos| 41.96|      Tyler|   Garcia|     M|    408 Bradley Rest|            Doe Hill|   VA|24433|38.4207|          -79.4629|      99|Dance movement ps...|1986-03-28|a41d7549acf907893...|1325376186|         38.674999|        -78.632459|       0|        22844|\n",
      "|      5|  2019-01-01 00:04:08|   4767265376804500|fraud_Stroman, Hu...|gas_transport| 94.63|   Jennifer|   Conner|     F|   4655 David Island|              Dublin|   PA|18917| 40.375|          -75.2045|    2158|   Transport planner|1961-06-19|189a841a0a8ba0305...|1325376248|         40.653382|-76.15266700000001|       0|        17972|\n",
      "|      6|  2019-01-01 00:04:42|     30074693890476|fraud_Rowe-Vander...|  grocery_net| 44.54|     Kelsey| Richards|     F|889 Sarah Station...|             Holcomb|   KS|67851|37.9931|         -100.9893|    2691|     Arboriculturist|1993-08-16|83ec1cc84142af6e2...|1325376282|37.162704999999995|        -100.15337|       0|         NULL|\n",
      "|      7|  2019-01-01 00:05:08|   6011360759745864|fraud_Corwin-Collins|gas_transport| 71.65|     Steven| Williams|     M|231 Flores Pass S...|            Edinburg|   VA|22824|38.8432|          -78.6003|    6018|Designer, multimedia|1947-08-21|6d294ed2cc447d2c7...|1325376308|         38.948089|        -78.540296|       0|        22644|\n",
      "|      8|  2019-01-01 00:05:18|   4922710831011201|    fraud_Herzog Ltd|     misc_pos|  4.27|    Heather|    Chase|     F|6888 Hicks Stream...|               Manor|   PA|15665|40.3359|          -79.6607|    1472|Public affairs co...|1941-03-07|fc28024ce480f8ef2...|1325376318|         40.351813|        -79.958146|       0|        15236|\n",
      "|      9|  2019-01-01 00:06:01|   2720830304681674|fraud_Schoen, Kup...|  grocery_pos|198.39|    Melissa|  Aguilar|     F|21326 Taylor Squa...|         Clarksville|   TN|37040| 36.522|-87.34899999999999|  151785|         Pathologist|1974-03-28|3b9014ea8fb80bd65...|1325376361|         37.179198|        -87.485381|       0|        42442|\n",
      "|     10|  2019-01-01 00:06:23|      4642894980163|fraud_Rutherford-...|  grocery_pos| 24.74|      Eddie|   Mendez|     M|1831 Faith View S...|            Clarinda|   IA|51632|40.7491|           -95.038|    7297|          IT trainer|1990-07-13|d71c95ab6b7356dd7...|1325376383|40.275890999999994|        -96.011548|       0|        68348|\n",
      "|     11|  2019-01-01 00:06:53|    377234009633447|fraud_Kerluke-Abs...| shopping_net|  7.77|    Theresa|Blackwell|     F|43576 Kristina Is...| Shenandoah Junction|   WV|25442|39.3716|          -77.8229|    1925|   Systems developer|1966-02-14|3c74776e558f1499a...|1325376413|         40.103866|        -78.624459|       0|        15554|\n",
      "|     12|  2019-01-01 00:06:56|    180042946491150|   fraud_Lockman Ltd|  grocery_pos| 71.22|    Charles|   Robles|     M|    3337 Lisa Divide|    Saint Petersburg|   FL|33710|27.7898|          -82.7243|  341043|      Engineer, land|1989-02-28|c1d9a7ddb1e34639f...|1325376416|         27.630593|        -82.308891|       0|        33598|\n",
      "|     13|  2019-01-01 00:07:27|   5559857416065248|     fraud_Kiehn Inc|  grocery_pos| 96.29|       Jack|     Hill|     M|5916 Susan Bridge...|             Grenada|   CA|96038|41.6125|         -122.5258|     589|     Systems analyst|1945-12-21|413636e759663f264...|1325376447|          41.65752|       -122.230347|       0|         NULL|\n",
      "|     14|  2019-01-01 00:09:03|   3514865930894695|   fraud_Beier-Hyatt| shopping_pos|  7.77|Christopher|Castaneda|     M|1632 Cohen Drive ...|High Rolls Mounta...|   NM|88325|32.9396|         -105.8189|     899|     Naval architect|1967-08-30|8a6293af5ed278dea...|1325376543|         32.863258|       -106.520205|       0|         NULL|\n",
      "|     15|  2019-01-01 00:09:20|   6011999606625827|fraud_Schmidt and...| shopping_net|  3.26|     Ronald|   Carson|     M|     870 Rocha Drive|     Harrington Park|   NJ| 7640|40.9918|            -73.98|    4664|Radiographer, dia...|1965-06-30|baae0b096835c9758...|1325376560|         41.831174|        -74.335559|       0|        12446|\n",
      "|     16|  2019-01-01 00:10:49|   6011860238257910|fraud_Lebsack and...|     misc_net| 327.0|       Lisa|   Mendez|     F|44259 Beth Statio...|              Lahoma|   OK|73754| 36.385|          -98.0727|    1078|Programme researc...|1952-07-06|991c04803b4d4eeab...|1325376649|36.384091999999995|        -99.048472|       0|        73852|\n",
      "|     17|  2019-01-01 00:10:58|   3565423334076143|  fraud_Mayert Group| shopping_pos|341.67|     Nathan|   Thomas|     M|4923 Campbell Pin...|            Carlisle|   IN|47838|38.9763|          -87.3667|    4081|     Energy engineer|1938-03-15|f12cf52be2175703d...|1325376658|         38.674491|        -88.305767|       0|        62824|\n",
      "|     18|  2019-01-01 00:11:14|   2348245054386329|fraud_Konopelski,...|  food_dining| 63.07|     Justin|      Gay|     M|268 Hayes Rue Sui...|         Harborcreek|   PA|16421|42.1767|          -79.9416|    2518|     Event organiser|1946-02-02|8500f3d459047eac8...|1325376674|         41.430274|        -79.492553|       0|        16364|\n",
      "|     19|  2019-01-01 00:12:34|4956828990005111019|fraud_Schultz, Si...|  grocery_pos| 44.71|    Kenneth| Robinson|     M|  269 Sanchez Rapids|           Elizabeth|   NJ| 7208|40.6747|          -74.2239|  124967|Operational resea...|1980-12-21|09eff9c806365e2a6...|1325376754|         40.079588|-74.84808699999999|       0|         8016|\n",
      "+-------+---------------------+-------------------+--------------------+-------------+------+-----------+---------+------+--------------------+--------------------+-----+-----+-------+------------------+--------+--------------------+----------+--------------------+----------+------------------+------------------+--------+-------------+\n",
      "only showing top 20 rows\n",
      "\n"
     ]
    }
   ],
   "execution_count": 135
  },
  {
   "metadata": {
    "ExecuteTime": {
     "end_time": "2025-01-09T20:12:57.419867Z",
     "start_time": "2025-01-09T20:12:56.792916Z"
    }
   },
   "cell_type": "code",
   "source": [
    "df.select(\n",
    "    F.min(F.col('trans_date_trans_time')).alias('min_date'),\n",
    "    F.max(F.col('trans_date_trans_time')).alias('max_date'),\n",
    ").show()"
   ],
   "id": "ba79bd86a63ba43a",
   "outputs": [
    {
     "name": "stdout",
     "output_type": "stream",
     "text": [
      "+-------------------+-------------------+\n",
      "|           min_date|           max_date|\n",
      "+-------------------+-------------------+\n",
      "|2019-01-01 00:00:18|2020-06-21 12:13:37|\n",
      "+-------------------+-------------------+\n",
      "\n"
     ]
    }
   ],
   "execution_count": 136
  },
  {
   "metadata": {
    "ExecuteTime": {
     "end_time": "2025-01-09T20:12:58.073687Z",
     "start_time": "2025-01-09T20:12:57.431399Z"
    }
   },
   "cell_type": "code",
   "source": [
    "df.agg(\n",
    "    F.min(\"trans_date_trans_time\").alias(\"min_date\"),\n",
    "    F.max(\"trans_date_trans_time\").alias(\"max_date\"),\n",
    "    (F.unix_timestamp(F.max(\"trans_date_trans_time\")) - F.unix_timestamp(F.min(\"trans_date_trans_time\"))).alias(\n",
    "        \"time_diff_seconds\")\n",
    ").show()"
   ],
   "id": "a46daca3e1d43703",
   "outputs": [
    {
     "name": "stdout",
     "output_type": "stream",
     "text": [
      "+-------------------+-------------------+-----------------+\n",
      "|           min_date|           max_date|time_diff_seconds|\n",
      "+-------------------+-------------------+-----------------+\n",
      "|2019-01-01 00:00:18|2020-06-21 12:13:37|         46437199|\n",
      "+-------------------+-------------------+-----------------+\n",
      "\n"
     ]
    }
   ],
   "execution_count": 137
  },
  {
   "metadata": {
    "ExecuteTime": {
     "end_time": "2025-01-09T20:12:58.104754Z",
     "start_time": "2025-01-09T20:12:58.083728Z"
    }
   },
   "cell_type": "code",
   "source": [
    "df = df.withColumn(\n",
    "    'age',\n",
    "    F.round((\n",
    "        F.months_between(F.current_date(), F.col('dob')) / 12), 0)\n",
    "        .cast(IntegerType()).alias('age')\n",
    ")"
   ],
   "id": "10633ccb825445bd",
   "outputs": [],
   "execution_count": 138
  },
  {
   "metadata": {
    "ExecuteTime": {
     "end_time": "2025-01-09T20:12:58.288061Z",
     "start_time": "2025-01-09T20:12:58.174058Z"
    }
   },
   "cell_type": "code",
   "source": "df.show()",
   "id": "46cc40fd5d05d0fd",
   "outputs": [
    {
     "name": "stdout",
     "output_type": "stream",
     "text": [
      "+-------+---------------------+-------------------+--------------------+-------------+------+-----------+---------+------+--------------------+--------------------+-----+-----+-------+------------------+--------+--------------------+----------+--------------------+----------+------------------+------------------+--------+-------------+---+\n",
      "|user_id|trans_date_trans_time|             cc_num|            merchant|     category|   amt|      first|     last|gender|              street|                city|state|  zip|    lat|              long|city_pop|                 job|       dob|           trans_num| unix_time|         merch_lat|        merch_long|is_fraud|merch_zipcode|age|\n",
      "+-------+---------------------+-------------------+--------------------+-------------+------+-----------+---------+------+--------------------+--------------------+-----+-----+-------+------------------+--------+--------------------+----------+--------------------+----------+------------------+------------------+--------+-------------+---+\n",
      "|      0|  2019-01-01 00:00:18|   2703186189652095|fraud_Rippin, Kub...|     misc_net|  4.97|   Jennifer|    Banks|     F|      561 Perry Cove|      Moravian Falls|   NC|28654|36.0788|          -81.1781|    3495|Psychologist, cou...|1988-03-09|0b242abb623afc578...|1325376018|         36.011293|        -82.048315|       0|        28705| 37|\n",
      "|      1|  2019-01-01 00:00:44|       630423337322|fraud_Heller, Gut...|  grocery_pos|107.23|  Stephanie|     Gill|     F|43039 Riley Green...|              Orient|   WA|99160|48.8878|         -118.2105|     149|Special education...|1978-06-21|1f76529f857473494...|1325376044|49.159046999999994|       -118.186462|       0|         NULL| 47|\n",
      "|      2|  2019-01-01 00:00:51|     38859492057661|fraud_Lind-Buckridge|entertainment|220.11|     Edward|  Sanchez|     M|594 White Dale Su...|          Malad City|   ID|83252|42.1808|          -112.262|    4154|Nature conservati...|1962-01-19|a1a22d70485983eac...|1325376051|         43.150704|       -112.154481|       0|        83236| 63|\n",
      "|      3|  2019-01-01 00:01:16|   3534093764340240|fraud_Kutch, Herm...|gas_transport|  45.0|     Jeremy|    White|     M|9443 Cynthia Cour...|             Boulder|   MT|59632|46.2306|         -112.1138|    1939|     Patent attorney|1967-01-12|6b849c168bdad6f86...|1325376076|         47.034331|       -112.561071|       0|         NULL| 58|\n",
      "|      4|  2019-01-01 00:03:06|    375534208663984| fraud_Keeling-Crist|     misc_pos| 41.96|      Tyler|   Garcia|     M|    408 Bradley Rest|            Doe Hill|   VA|24433|38.4207|          -79.4629|      99|Dance movement ps...|1986-03-28|a41d7549acf907893...|1325376186|         38.674999|        -78.632459|       0|        22844| 39|\n",
      "|      5|  2019-01-01 00:04:08|   4767265376804500|fraud_Stroman, Hu...|gas_transport| 94.63|   Jennifer|   Conner|     F|   4655 David Island|              Dublin|   PA|18917| 40.375|          -75.2045|    2158|   Transport planner|1961-06-19|189a841a0a8ba0305...|1325376248|         40.653382|-76.15266700000001|       0|        17972| 64|\n",
      "|      6|  2019-01-01 00:04:42|     30074693890476|fraud_Rowe-Vander...|  grocery_net| 44.54|     Kelsey| Richards|     F|889 Sarah Station...|             Holcomb|   KS|67851|37.9931|         -100.9893|    2691|     Arboriculturist|1993-08-16|83ec1cc84142af6e2...|1325376282|37.162704999999995|        -100.15337|       0|         NULL| 31|\n",
      "|      7|  2019-01-01 00:05:08|   6011360759745864|fraud_Corwin-Collins|gas_transport| 71.65|     Steven| Williams|     M|231 Flores Pass S...|            Edinburg|   VA|22824|38.8432|          -78.6003|    6018|Designer, multimedia|1947-08-21|6d294ed2cc447d2c7...|1325376308|         38.948089|        -78.540296|       0|        22644| 77|\n",
      "|      8|  2019-01-01 00:05:18|   4922710831011201|    fraud_Herzog Ltd|     misc_pos|  4.27|    Heather|    Chase|     F|6888 Hicks Stream...|               Manor|   PA|15665|40.3359|          -79.6607|    1472|Public affairs co...|1941-03-07|fc28024ce480f8ef2...|1325376318|         40.351813|        -79.958146|       0|        15236| 84|\n",
      "|      9|  2019-01-01 00:06:01|   2720830304681674|fraud_Schoen, Kup...|  grocery_pos|198.39|    Melissa|  Aguilar|     F|21326 Taylor Squa...|         Clarksville|   TN|37040| 36.522|-87.34899999999999|  151785|         Pathologist|1974-03-28|3b9014ea8fb80bd65...|1325376361|         37.179198|        -87.485381|       0|        42442| 51|\n",
      "|     10|  2019-01-01 00:06:23|      4642894980163|fraud_Rutherford-...|  grocery_pos| 24.74|      Eddie|   Mendez|     M|1831 Faith View S...|            Clarinda|   IA|51632|40.7491|           -95.038|    7297|          IT trainer|1990-07-13|d71c95ab6b7356dd7...|1325376383|40.275890999999994|        -96.011548|       0|        68348| 34|\n",
      "|     11|  2019-01-01 00:06:53|    377234009633447|fraud_Kerluke-Abs...| shopping_net|  7.77|    Theresa|Blackwell|     F|43576 Kristina Is...| Shenandoah Junction|   WV|25442|39.3716|          -77.8229|    1925|   Systems developer|1966-02-14|3c74776e558f1499a...|1325376413|         40.103866|        -78.624459|       0|        15554| 59|\n",
      "|     12|  2019-01-01 00:06:56|    180042946491150|   fraud_Lockman Ltd|  grocery_pos| 71.22|    Charles|   Robles|     M|    3337 Lisa Divide|    Saint Petersburg|   FL|33710|27.7898|          -82.7243|  341043|      Engineer, land|1989-02-28|c1d9a7ddb1e34639f...|1325376416|         27.630593|        -82.308891|       0|        33598| 36|\n",
      "|     13|  2019-01-01 00:07:27|   5559857416065248|     fraud_Kiehn Inc|  grocery_pos| 96.29|       Jack|     Hill|     M|5916 Susan Bridge...|             Grenada|   CA|96038|41.6125|         -122.5258|     589|     Systems analyst|1945-12-21|413636e759663f264...|1325376447|          41.65752|       -122.230347|       0|         NULL| 79|\n",
      "|     14|  2019-01-01 00:09:03|   3514865930894695|   fraud_Beier-Hyatt| shopping_pos|  7.77|Christopher|Castaneda|     M|1632 Cohen Drive ...|High Rolls Mounta...|   NM|88325|32.9396|         -105.8189|     899|     Naval architect|1967-08-30|8a6293af5ed278dea...|1325376543|         32.863258|       -106.520205|       0|         NULL| 57|\n",
      "|     15|  2019-01-01 00:09:20|   6011999606625827|fraud_Schmidt and...| shopping_net|  3.26|     Ronald|   Carson|     M|     870 Rocha Drive|     Harrington Park|   NJ| 7640|40.9918|            -73.98|    4664|Radiographer, dia...|1965-06-30|baae0b096835c9758...|1325376560|         41.831174|        -74.335559|       0|        12446| 60|\n",
      "|     16|  2019-01-01 00:10:49|   6011860238257910|fraud_Lebsack and...|     misc_net| 327.0|       Lisa|   Mendez|     F|44259 Beth Statio...|              Lahoma|   OK|73754| 36.385|          -98.0727|    1078|Programme researc...|1952-07-06|991c04803b4d4eeab...|1325376649|36.384091999999995|        -99.048472|       0|        73852| 73|\n",
      "|     17|  2019-01-01 00:10:58|   3565423334076143|  fraud_Mayert Group| shopping_pos|341.67|     Nathan|   Thomas|     M|4923 Campbell Pin...|            Carlisle|   IN|47838|38.9763|          -87.3667|    4081|     Energy engineer|1938-03-15|f12cf52be2175703d...|1325376658|         38.674491|        -88.305767|       0|        62824| 87|\n",
      "|     18|  2019-01-01 00:11:14|   2348245054386329|fraud_Konopelski,...|  food_dining| 63.07|     Justin|      Gay|     M|268 Hayes Rue Sui...|         Harborcreek|   PA|16421|42.1767|          -79.9416|    2518|     Event organiser|1946-02-02|8500f3d459047eac8...|1325376674|         41.430274|        -79.492553|       0|        16364| 79|\n",
      "|     19|  2019-01-01 00:12:34|4956828990005111019|fraud_Schultz, Si...|  grocery_pos| 44.71|    Kenneth| Robinson|     M|  269 Sanchez Rapids|           Elizabeth|   NJ| 7208|40.6747|          -74.2239|  124967|Operational resea...|1980-12-21|09eff9c806365e2a6...|1325376754|         40.079588|-74.84808699999999|       0|         8016| 44|\n",
      "+-------+---------------------+-------------------+--------------------+-------------+------+-----------+---------+------+--------------------+--------------------+-----+-----+-------+------------------+--------+--------------------+----------+--------------------+----------+------------------+------------------+--------+-------------+---+\n",
      "only showing top 20 rows\n",
      "\n"
     ]
    }
   ],
   "execution_count": 139
  },
  {
   "metadata": {
    "ExecuteTime": {
     "end_time": "2025-01-09T20:12:58.322829Z",
     "start_time": "2025-01-09T20:12:58.317810Z"
    }
   },
   "cell_type": "code",
   "source": "{index: column for index, column in enumerate(df.columns)}",
   "id": "7b08e51be3d95af6",
   "outputs": [
    {
     "data": {
      "text/plain": [
       "{0: 'user_id',\n",
       " 1: 'trans_date_trans_time',\n",
       " 2: 'cc_num',\n",
       " 3: 'merchant',\n",
       " 4: 'category',\n",
       " 5: 'amt',\n",
       " 6: 'first',\n",
       " 7: 'last',\n",
       " 8: 'gender',\n",
       " 9: 'street',\n",
       " 10: 'city',\n",
       " 11: 'state',\n",
       " 12: 'zip',\n",
       " 13: 'lat',\n",
       " 14: 'long',\n",
       " 15: 'city_pop',\n",
       " 16: 'job',\n",
       " 17: 'dob',\n",
       " 18: 'trans_num',\n",
       " 19: 'unix_time',\n",
       " 20: 'merch_lat',\n",
       " 21: 'merch_long',\n",
       " 22: 'is_fraud',\n",
       " 23: 'merch_zipcode',\n",
       " 24: 'age'}"
      ]
     },
     "execution_count": 140,
     "metadata": {},
     "output_type": "execute_result"
    }
   ],
   "execution_count": 140
  },
  {
   "metadata": {
    "ExecuteTime": {
     "end_time": "2025-01-09T20:12:58.476312Z",
     "start_time": "2025-01-09T20:12:58.459801Z"
    }
   },
   "cell_type": "code",
   "source": [
    "gender_avg_age = df.groupBy(\n",
    "    F.col('gender')\n",
    ").agg(\n",
    "    F.round(F.mean('age')).alias('avg_age')\n",
    ")"
   ],
   "id": "bbff5f9fd6cbe1da",
   "outputs": [],
   "execution_count": 141
  },
  {
   "metadata": {
    "ExecuteTime": {
     "end_time": "2025-01-09T20:12:59.693532Z",
     "start_time": "2025-01-09T20:12:58.517867Z"
    }
   },
   "cell_type": "code",
   "source": "sns.barplot(gender_avg_age.toPandas(), x='gender', y='avg_age', hue='gender')",
   "id": "749907f2b19c7170",
   "outputs": [
    {
     "data": {
      "text/plain": [
       "<Axes: xlabel='gender', ylabel='avg_age'>"
      ]
     },
     "execution_count": 142,
     "metadata": {},
     "output_type": "execute_result"
    },
    {
     "data": {
      "text/plain": [
       "<Figure size 640x480 with 1 Axes>"
      ],
      "image/png": "[encoded data removed]"
     },
     "metadata": {},
     "output_type": "display_data"
    }
   ],
   "execution_count": 142
  },
  {
   "metadata": {
    "ExecuteTime": {
     "end_time": "2025-01-09T20:12:59.788186Z",
     "start_time": "2025-01-09T20:12:59.707610Z"
    }
   },
   "cell_type": "code",
   "source": "df.show(5, truncate=False)",
   "id": "2fd415969935854a",
   "outputs": [
    {
     "name": "stdout",
     "output_type": "stream",
     "text": [
      "+-------+---------------------+----------------+----------------------------------+-------------+------+---------+-------+------+----------------------------+--------------+-----+-----+-------+---------+--------+---------------------------------+----------+--------------------------------+----------+------------------+-----------+--------+-------------+---+\n",
      "|user_id|trans_date_trans_time|cc_num          |merchant                          |category     |amt   |first    |last   |gender|street                      |city          |state|zip  |lat    |long     |city_pop|job                              |dob       |trans_num                       |unix_time |merch_lat         |merch_long |is_fraud|merch_zipcode|age|\n",
      "+-------+---------------------+----------------+----------------------------------+-------------+------+---------+-------+------+----------------------------+--------------+-----+-----+-------+---------+--------+---------------------------------+----------+--------------------------------+----------+------------------+-----------+--------+-------------+---+\n",
      "|0      |2019-01-01 00:00:18  |2703186189652095|fraud_Rippin, Kub and Mann        |misc_net     |4.97  |Jennifer |Banks  |F     |561 Perry Cove              |Moravian Falls|NC   |28654|36.0788|-81.1781 |3495    |Psychologist, counselling        |1988-03-09|0b242abb623afc578575680df30655b9|1325376018|36.011293         |-82.048315 |0       |28705        |37 |\n",
      "|1      |2019-01-01 00:00:44  |630423337322    |fraud_Heller, Gutmann and Zieme   |grocery_pos  |107.23|Stephanie|Gill   |F     |43039 Riley Greens Suite 393|Orient        |WA   |99160|48.8878|-118.2105|149     |Special educational needs teacher|1978-06-21|1f76529f8574734946361c461b024d99|1325376044|49.159046999999994|-118.186462|0       |NULL         |47 |\n",
      "|2      |2019-01-01 00:00:51  |38859492057661  |fraud_Lind-Buckridge              |entertainment|220.11|Edward   |Sanchez|M     |594 White Dale Suite 530    |Malad City    |ID   |83252|42.1808|-112.262 |4154    |Nature conservation officer      |1962-01-19|a1a22d70485983eac12b5b88dad1cf95|1325376051|43.150704         |-112.154481|0       |83236        |63 |\n",
      "|3      |2019-01-01 00:01:16  |3534093764340240|fraud_Kutch, Hermiston and Farrell|gas_transport|45.0  |Jeremy   |White  |M     |9443 Cynthia Court Apt. 038 |Boulder       |MT   |59632|46.2306|-112.1138|1939    |Patent attorney                  |1967-01-12|6b849c168bdad6f867558c3793159a81|1325376076|47.034331         |-112.561071|0       |NULL         |58 |\n",
      "|4      |2019-01-01 00:03:06  |375534208663984 |fraud_Keeling-Crist               |misc_pos     |41.96 |Tyler    |Garcia |M     |408 Bradley Rest            |Doe Hill      |VA   |24433|38.4207|-79.4629 |99      |Dance movement psychotherapist   |1986-03-28|a41d7549acf90789359a9aa5346dcb46|1325376186|38.674999         |-78.632459 |0       |22844        |39 |\n",
      "+-------+---------------------+----------------+----------------------------------+-------------+------+---------+-------+------+----------------------------+--------------+-----+-----+-------+---------+--------+---------------------------------+----------+--------------------------------+----------+------------------+-----------+--------+-------------+---+\n",
      "only showing top 5 rows\n",
      "\n"
     ]
    }
   ],
   "execution_count": 143
  },
  {
   "metadata": {
    "ExecuteTime": {
     "end_time": "2025-01-09T20:13:00.984688Z",
     "start_time": "2025-01-09T20:12:59.811254Z"
    }
   },
   "cell_type": "code",
   "source": [
    "df.select([\n",
    "    F.sum(F.when(F.col(column).isNull(), 1).otherwise(0)).alias(column) for column in df.columns]).show()"
   ],
   "id": "2b49c27925568794",
   "outputs": [
    {
     "name": "stdout",
     "output_type": "stream",
     "text": [
      "+-------+---------------------+------+--------+--------+---+-----+----+------+------+----+-----+---+---+----+--------+---+---+---------+---------+---------+----------+--------+-------------+---+\n",
      "|user_id|trans_date_trans_time|cc_num|merchant|category|amt|first|last|gender|street|city|state|zip|lat|long|city_pop|job|dob|trans_num|unix_time|merch_lat|merch_long|is_fraud|merch_zipcode|age|\n",
      "+-------+---------------------+------+--------+--------+---+-----+----+------+------+----+-----+---+---+----+--------+---+---+---------+---------+---------+----------+--------+-------------+---+\n",
      "|      0|                    0|     0|       0|       0|  0|    0|   0|     0|     0|   0|    0|  0|  0|   0|       0|  0|  0|        0|        0|        0|         0|       0|       195973|  0|\n",
      "+-------+---------------------+------+--------+--------+---+-----+----+------+------+----+-----+---+---+----+--------+---+---+---------+---------+---------+----------+--------+-------------+---+\n",
      "\n"
     ]
    }
   ],
   "execution_count": 144
  },
  {
   "metadata": {
    "ExecuteTime": {
     "end_time": "2025-01-09T20:13:01.004463Z",
     "start_time": "2025-01-09T20:13:00.994210Z"
    }
   },
   "cell_type": "code",
   "source": [
    "df = df.fillna({\n",
    "    'amt': 0,\n",
    "    'zip': 0,\n",
    "    'city': 'Unknown',\n",
    "    'merch_zipcode': 0,\n",
    "})"
   ],
   "id": "a0d30fd7d56f9b2a",
   "outputs": [],
   "execution_count": 145
  },
  {
   "metadata": {
    "ExecuteTime": {
     "end_time": "2025-01-09T20:13:01.112595Z",
     "start_time": "2025-01-09T20:13:01.109586Z"
    }
   },
   "cell_type": "code",
   "source": "from pyspark.sql.types import DateType, TimestampType",
   "id": "5741619144544b64",
   "outputs": [],
   "execution_count": 146
  },
  {
   "metadata": {
    "ExecuteTime": {
     "end_time": "2025-01-09T20:13:01.193731Z",
     "start_time": "2025-01-09T20:13:01.170390Z"
    }
   },
   "cell_type": "code",
   "source": [
    "df = df.withColumns({\n",
    "    'trans_date_trans_time': F.col('trans_date_trans_time').cast(TimestampType()),\n",
    "    'dob': F.col('dob').cast(DateType())\n",
    "})"
   ],
   "id": "bd03598038446e14",
   "outputs": [],
   "execution_count": 147
  },
  {
   "metadata": {
    "ExecuteTime": {
     "end_time": "2025-01-09T20:13:03.996203Z",
     "start_time": "2025-01-09T20:13:01.200737Z"
    }
   },
   "cell_type": "code",
   "source": [
    "df.groupBy('trans_num', 'unix_time').count().filter(\n",
    "    F.col('count') > 1\n",
    ").show(truncate=False)"
   ],
   "id": "6ed45b5bb8a67c53",
   "outputs": [
    {
     "name": "stdout",
     "output_type": "stream",
     "text": [
      "+---------+---------+-----+\n",
      "|trans_num|unix_time|count|\n",
      "+---------+---------+-----+\n",
      "+---------+---------+-----+\n",
      "\n"
     ]
    }
   ],
   "execution_count": 148
  },
  {
   "metadata": {
    "ExecuteTime": {
     "end_time": "2025-01-09T20:13:04.023812Z",
     "start_time": "2025-01-09T20:13:04.008063Z"
    }
   },
   "cell_type": "code",
   "source": [
    "df = df.withColumn(\n",
    "    'cc_num_masked',\n",
    "    F.concat(F.lit('*********'), F.substring('cc_num', -4, 4))\n",
    ")"
   ],
   "id": "a0888598c0aedfe9",
   "outputs": [],
   "execution_count": 149
  },
  {
   "metadata": {
    "ExecuteTime": {
     "end_time": "2025-01-09T20:13:04.100358Z",
     "start_time": "2025-01-09T20:13:04.084827Z"
    }
   },
   "cell_type": "code",
   "source": [
    "df = df.withColumns({\n",
    "    'year': F.year(F.col('trans_date_trans_time')),\n",
    "    'month': F.month(F.col('trans_date_trans_time')),\n",
    "})"
   ],
   "id": "b85d4cffd6ccc45",
   "outputs": [],
   "execution_count": 150
  },
  {
   "metadata": {
    "ExecuteTime": {
     "end_time": "2025-01-09T20:13:04.147693Z",
     "start_time": "2025-01-09T20:13:04.115367Z"
    }
   },
   "cell_type": "code",
   "source": [
    "for col in df.columns:\n",
    "    if col in ['merchant', 'category', 'state', 'job']:\n",
    "        df = df.withColumn(col, F.trim(F.lower(F.col(col))))"
   ],
   "id": "f035f5aa121bd46c",
   "outputs": [],
   "execution_count": 151
  },
  {
   "metadata": {
    "ExecuteTime": {
     "end_time": "2025-01-09T20:13:04.191511Z",
     "start_time": "2025-01-09T20:13:04.157970Z"
    }
   },
   "cell_type": "code",
   "source": [
    "df = df.withColumn(\n",
    "    'day_of_week',\n",
    "    F.when(F.dayofweek(F.col('trans_date_trans_time')) == 1, 'Monday')\n",
    "     .when(F.dayofweek(F.col('trans_date_trans_time')) == 2, 'Tuesday')\n",
    "     .when(F.dayofweek(F.col('trans_date_trans_time')) == 3, 'Wednesday')\n",
    "     .when(F.dayofweek(F.col('trans_date_trans_time')) == 4, 'Thursday')\n",
    "     .when(F.dayofweek(F.col('trans_date_trans_time')) == 5, 'Friday')\n",
    "     .when(F.dayofweek(F.col('trans_date_trans_time')) == 6, 'Saturday')\n",
    "     .when(F.dayofweek(F.col('trans_date_trans_time')) == 7, 'Sunday')\n",
    "     .otherwise('Unknown')\n",
    ")"
   ],
   "id": "8661657581fb65c8",
   "outputs": [],
   "execution_count": 152
  },
  {
   "metadata": {
    "ExecuteTime": {
     "end_time": "2025-01-09T20:13:04.227743Z",
     "start_time": "2025-01-09T20:13:04.213680Z"
    }
   },
   "cell_type": "code",
   "source": [
    "df = df.withColumn(\n",
    "    'calculated_age',\n",
    "    F.floor(F.datediff(F.col('trans_date_trans_time'), F.col('dob')) / 365.25)\n",
    ")"
   ],
   "id": "a9233364729e31d1",
   "outputs": [],
   "execution_count": 153
  },
  {
   "metadata": {
    "ExecuteTime": {
     "end_time": "2025-01-09T20:13:04.253323Z",
     "start_time": "2025-01-09T20:13:04.236975Z"
    }
   },
   "cell_type": "code",
   "source": [
    "window_spec = Window.orderBy(F.col('amt'))\n",
    "\n",
    "df = df.withColumn(\n",
    "    'percent_rank', F.percent_rank().over(window_spec)\n",
    ")"
   ],
   "id": "a6d3f516c8842aa6",
   "outputs": [],
   "execution_count": 154
  },
  {
   "metadata": {
    "ExecuteTime": {
     "end_time": "2025-01-09T20:13:04.956673Z",
     "start_time": "2025-01-09T20:13:04.261839Z"
    }
   },
   "cell_type": "code",
   "source": [
    "quantiles = df.approxQuantile('amt', [0.33, 0.66], 0.01)\n",
    "\n",
    "df = df.withColumn(\n",
    "    'amount_category',\n",
    "    F.when(F.col('amt') <= quantiles[0], 'small')\n",
    "    .when((F.col('amt') > quantiles[0]) & (F.col('amt') <= quantiles[1]), 'medium')\n",
    "    .otherwise('large')\n",
    ")"
   ],
   "id": "8da3a3e710bd6ec7",
   "outputs": [],
   "execution_count": 155
  },
  {
   "metadata": {
    "ExecuteTime": {
     "end_time": "2025-01-09T20:13:04.989911Z",
     "start_time": "2025-01-09T20:13:04.966264Z"
    }
   },
   "cell_type": "code",
   "source": [
    "df = df.withColumn('hour', F.hour(F.col('trans_date_trans_time'))) \\\n",
    "    .withColumn('minute', F.minute(F.col('trans_date_trans_time'))) \\\n",
    "    .withColumn('second', F.second(F.col('trans_date_trans_time')))"
   ],
   "id": "91ac86db5403ea10",
   "outputs": [],
   "execution_count": 156
  },
  {
   "metadata": {
    "ExecuteTime": {
     "end_time": "2025-01-09T20:13:05.034189Z",
     "start_time": "2025-01-09T20:13:04.999262Z"
    }
   },
   "cell_type": "code",
   "source": [
    "R = 6371\n",
    "\n",
    "df = df.withColumn(\n",
    "    \"distance_km\",\n",
    "    2 * R * F.asin(F.sqrt(\n",
    "        F.sin(F.radians(F.col(\"merch_lat\") - F.col(\"lat\")) / 2) ** 2 +\n",
    "        F.cos(F.radians(F.col(\"lat\"))) * F.cos(F.radians(F.col(\"merch_lat\"))) *\n",
    "        F.sin(F.radians(F.col(\"merch_long\") - F.col(\"long\")) / 2) ** 2\n",
    "    ))\n",
    ")"
   ],
   "id": "7d6c1610dcd2d05d",
   "outputs": [],
   "execution_count": 157
  },
  {
   "metadata": {
    "ExecuteTime": {
     "end_time": "2025-01-09T20:13:05.047306Z",
     "start_time": "2025-01-09T20:13:05.044155Z"
    }
   },
   "cell_type": "code",
   "source": [
    "high_risk_jobs = [\n",
    "    \"Futures Trader\",\n",
    "    \"Equities Trader\",\n",
    "    \"Petroleum Engineer\",\n",
    "    \"Armed Forces Training and Education Officer\",\n",
    "    \"Hospital Doctor\",\n",
    "    \"Drilling Engineer\",\n",
    "    \"Mining Engineer\",\n",
    "    \"Surgeon\",\n",
    "    \"Police Officer\",\n",
    "    \"Airline Pilot\",\n",
    "    \"Firefighter\",\n",
    "    \"Paramedic\",\n",
    "    \"Construction Site Engineer\",\n",
    "    \"Veterinary Surgeon\",\n",
    "    \"Forensic Psychologist\",\n",
    "    \"Tree Surgeon\",\n",
    "    \"Armed Forces Logistics/Support/Administrative Officer\",\n",
    "    \"Geologist, Wellsite\",\n",
    "    \"Aeronautical Engineer\",\n",
    "    \"Clinical Research Associate\",\n",
    "    \"Health Physicist\",\n",
    "    \"Surveyor, Mining\",\n",
    "    \"Operations Geologist\",\n",
    "    \"Seismic Interpreter\",\n",
    "    \"Acupuncturist\"\n",
    "]"
   ],
   "id": "885286dce9a254f4",
   "outputs": [],
   "execution_count": 158
  },
  {
   "metadata": {
    "ExecuteTime": {
     "end_time": "2025-01-09T20:13:05.098455Z",
     "start_time": "2025-01-09T20:13:05.055813Z"
    }
   },
   "cell_type": "code",
   "source": [
    "df = df.withColumn(\n",
    "    'high_risk_job',\n",
    "    F.when(F.col('job').isin(high_risk_jobs), F.lit('High Risk')).otherwise(F.lit('Low Risk'))\n",
    ")"
   ],
   "id": "9f421753b054e845",
   "outputs": [],
   "execution_count": 159
  },
  {
   "metadata": {
    "ExecuteTime": {
     "end_time": "2025-01-09T20:13:10.191173Z",
     "start_time": "2025-01-09T20:13:05.108692Z"
    }
   },
   "cell_type": "code",
   "source": "df.show(5, truncate=False)",
   "id": "e2cbcd16da055bf9",
   "outputs": [
    {
     "name": "stdout",
     "output_type": "stream",
     "text": [
      "+-------+---------------------+-------------------+-------------------------------------+------------+---+-----------+---------+------+------------------------------+------------------------+-----+-----+-------+---------+--------+--------------------------+----------+--------------------------------+----------+---------+-----------+--------+-------------+---+-------------+----+-----+-----------+--------------+------------+---------------+----+------+------+------------------+-------------+\n",
      "|user_id|trans_date_trans_time|cc_num             |merchant                             |category    |amt|first      |last     |gender|street                        |city                    |state|zip  |lat    |long     |city_pop|job                       |dob       |trans_num                       |unix_time |merch_lat|merch_long |is_fraud|merch_zipcode|age|cc_num_masked|year|month|day_of_week|calculated_age|percent_rank|amount_category|hour|minute|second|distance_km       |high_risk_job|\n",
      "+-------+---------------------+-------------------+-------------------------------------+------------+---+-----------+---------+------+------------------------------+------------------------+-----+-----+-------+---------+--------+--------------------------+----------+--------------------------------+----------+---------+-----------+--------+-------------+---+-------------+----+-----+-----------+--------------+------------+---------------+----+------+------+------------------+-------------+\n",
      "|21768  |2019-01-14 00:57:30  |3552581383553463   |fraud_schuppe, nolan and hoeger      |shopping_pos|1.0|Jonathan   |Castro   |M     |200 Christie Mills Apt. 307   |Andrews                 |nc   |28901|35.1959|-83.8228 |5354    |retail buyer              |1965-04-13|197ae55bfdf14775bb51bc0e9e70eeeb|1326502650|35.600491|-84.324442 |0       |37885        |60 |*********3463|2019|1    |Tuesday    |53            |0.0         |small          |0   |57    |30    |63.963703896324226|Low Risk     |\n",
      "|953804 |2020-01-18 10:30:44  |3514865930894695   |fraud_rohan, white and aufderhar     |misc_net    |1.0|Christopher|Castaneda|M     |1632 Cohen Drive Suite 639    |High Rolls Mountain Park|nm   |88325|32.9396|-105.8189|899     |naval architect           |1967-08-30|98120d3c1ba6b135fb22a196984e6512|1358505044|33.79853 |-104.821646|0       |0            |57 |*********4695|2020|1    |Sunday     |52            |0.0         |small          |10  |30    |44    |133.03335274733803|Low Risk     |\n",
      "|22762  |2019-01-14 13:05:13  |4561368699336875   |fraud_turner and sons                |shopping_pos|1.0|Pamela     |Lewis    |F     |653 Jessica Extension Apt. 668|Clifton                 |sc   |29324|34.9906|-81.8327 |167     |museum/gallery conservator|1988-11-01|9f54e7b342064745407f9a3012e814d6|1326546313|35.134181|-82.804672 |0       |28772        |36 |*********6875|2019|1    |Tuesday    |30            |0.0         |small          |13  |5     |13    |89.89376757848888 |Low Risk     |\n",
      "|960413 |2020-01-21 13:03:13  |4797297220948468262|fraud_goyette, howell and collier    |shopping_pos|1.0|Erica      |Briggs   |F     |3310 Davidson Spurs Apt. 107  |Oolitic                 |in   |47451|38.8938|-86.5246 |1228    |counsellor                |1991-03-13|9d61d962367a77d72e051fdc66be6255|1358773393|39.803436|-87.376108 |0       |47862        |34 |*********8262|2020|1    |Wednesday  |28            |0.0         |small          |13  |3     |13    |124.86521825685243|Low Risk     |\n",
      "|23685  |2019-01-14 20:23:49  |2712209726293386   |fraud_mclaughlin, armstrong and koepp|travel      |1.0|Jenna      |Brooks   |F     |50872 Alex Plain Suite 088    |Baton Rouge             |la   |70808|30.4066|-91.1468 |378909  |designer, furniture       |1977-02-22|cb8bf5e2473d7fcb0c457f9bba6a4bfc|1326572629|30.007442|-91.080276 |0       |70341        |48 |*********3386|2019|1    |Tuesday    |41            |0.0         |small          |20  |23    |49    |44.842349346102395|Low Risk     |\n",
      "+-------+---------------------+-------------------+-------------------------------------+------------+---+-----------+---------+------+------------------------------+------------------------+-----+-----+-------+---------+--------+--------------------------+----------+--------------------------------+----------+---------+-----------+--------+-------------+---+-------------+----+-----+-----------+--------------+------------+---------------+----+------+------+------------------+-------------+\n",
      "only showing top 5 rows\n",
      "\n"
     ]
    }
   ],
   "execution_count": 160
  },
  {
   "metadata": {
    "ExecuteTime": {
     "end_time": "2025-01-09T20:13:12.671675Z",
     "start_time": "2025-01-09T20:13:10.200281Z"
    }
   },
   "cell_type": "code",
   "source": "df.groupBy('day_of_week', 'cc_num').count().orderBy('count', ascending=False).show()",
   "id": "ed7fb4deaed024d2",
   "outputs": [
    {
     "name": "stdout",
     "output_type": "stream",
     "text": [
      "+-----------+-------------------+-----+\n",
      "|day_of_week|             cc_num|count|\n",
      "+-----------+-------------------+-----+\n",
      "|     Monday|    372520049757633|  782|\n",
      "|     Monday|     30273037698427|  773|\n",
      "|     Monday|   3545109339866548|  768|\n",
      "|     Monday|   2720433095629877|  765|\n",
      "|     Monday|   4364010865167176|  761|\n",
      "|     Monday|      4745996322265|  746|\n",
      "|     Monday|   6534628260579800|  745|\n",
      "|     Monday|4587657402165341815|  737|\n",
      "|     Monday|   6538441737335434|  734|\n",
      "|     Monday|   2242542703101233|  728|\n",
      "|     Monday|   4586810168620942|  724|\n",
      "|    Tuesday|   2720433095629877|  688|\n",
      "|     Monday|   3533742182628021|  684|\n",
      "|    Tuesday|   6534628260579800|  680|\n",
      "|    Tuesday|   3545109339866548|  678|\n",
      "|     Monday|   6011693194885790|  675|\n",
      "|    Tuesday|   4364010865167176|  666|\n",
      "|     Monday|     38052002992326|  660|\n",
      "|     Monday|   4653879239169997|  656|\n",
      "|     Monday|   2264937662466770|  651|\n",
      "+-----------+-------------------+-----+\n",
      "only showing top 20 rows\n",
      "\n"
     ]
    }
   ],
   "execution_count": 161
  },
  {
   "metadata": {
    "ExecuteTime": {
     "end_time": "2025-01-09T20:13:15.293062Z",
     "start_time": "2025-01-09T20:13:12.681306Z"
    }
   },
   "cell_type": "code",
   "source": [
    "df.withColumn(\n",
    "    'date', F.to_date('trans_date_trans_time')\n",
    ").groupBy(\n",
    "    'date', 'cc_num'\n",
    ").count(\n",
    ").orderBy(\n",
    "    'count', ascending=False\n",
    ").show()"
   ],
   "id": "7318b824257585b3",
   "outputs": [
    {
     "name": "stdout",
     "output_type": "stream",
     "text": [
      "+----------+-------------------+-----+\n",
      "|      date|             cc_num|count|\n",
      "+----------+-------------------+-----+\n",
      "|2019-12-15|   3556613125071656|   34|\n",
      "|2019-12-08|   4586810168620942|   33|\n",
      "|2019-12-15|   4364010865167176|   30|\n",
      "|2019-12-08|   3545109339866548|   28|\n",
      "|2019-12-08|   6534628260579800|   28|\n",
      "|2019-12-01|   4364010865167176|   26|\n",
      "|2019-12-29|   4653879239169997|   26|\n",
      "|2019-12-08|4587657402165341815|   26|\n",
      "|2019-12-08|   3551217896304745|   26|\n",
      "|2019-12-29|   4836998673805450|   25|\n",
      "|2019-12-29|   3556613125071656|   25|\n",
      "|2020-06-15|      4745996322265|   25|\n",
      "|2019-12-15|      4745996322265|   25|\n",
      "|2019-12-07|    213112402583773|   24|\n",
      "|2019-12-08|   3533742182628021|   24|\n",
      "|2019-12-02|   4939976756738216|   24|\n",
      "|2019-12-09|   6011438889172900|   24|\n",
      "|2019-12-08|   2720433095629877|   24|\n",
      "|2019-12-22|    372520049757633|   24|\n",
      "|2019-12-01|   3567697931646329|   24|\n",
      "+----------+-------------------+-----+\n",
      "only showing top 20 rows\n",
      "\n"
     ]
    }
   ],
   "execution_count": 162
  },
  {
   "metadata": {
    "ExecuteTime": {
     "end_time": "2025-01-09T20:13:20.265503Z",
     "start_time": "2025-01-09T20:13:15.303012Z"
    }
   },
   "cell_type": "code",
   "source": "df.show()",
   "id": "d10712906442188b",
   "outputs": [
    {
     "name": "stdout",
     "output_type": "stream",
     "text": [
      "+-------+---------------------+-------------------+--------------------+--------------+---+-----------+----------+------+--------------------+--------------------+-----+-----+-------+---------+--------+--------------------+----------+--------------------+----------+------------------+------------------+--------+-------------+---+-------------+----+-----+-----------+--------------+------------+---------------+----+------+------+------------------+-------------+\n",
      "|user_id|trans_date_trans_time|             cc_num|            merchant|      category|amt|      first|      last|gender|              street|                city|state|  zip|    lat|     long|city_pop|                 job|       dob|           trans_num| unix_time|         merch_lat|        merch_long|is_fraud|merch_zipcode|age|cc_num_masked|year|month|day_of_week|calculated_age|percent_rank|amount_category|hour|minute|second|       distance_km|high_risk_job|\n",
      "+-------+---------------------+-------------------+--------------------+--------------+---+-----------+----------+------+--------------------+--------------------+-----+-----+-------+---------+--------+--------------------+----------+--------------------+----------+------------------+------------------+--------+-------------+---+-------------+----+-----+-----------+--------------+------------+---------------+----+------+------+------------------+-------------+\n",
      "|  21768|  2019-01-14 00:57:30|   3552581383553463|fraud_schuppe, no...|  shopping_pos|1.0|   Jonathan|    Castro|     M|200 Christie Mill...|             Andrews|   nc|28901|35.1959| -83.8228|    5354|        retail buyer|1965-04-13|197ae55bfdf14775b...|1326502650|         35.600491|        -84.324442|       0|        37885| 60|*********3463|2019|    1|    Tuesday|            53|         0.0|          small|   0|    57|    30|63.963703896324226|     Low Risk|\n",
      "| 953804|  2020-01-18 10:30:44|   3514865930894695|fraud_rohan, whit...|      misc_net|1.0|Christopher| Castaneda|     M|1632 Cohen Drive ...|High Rolls Mounta...|   nm|88325|32.9396|-105.8189|     899|     naval architect|1967-08-30|98120d3c1ba6b135f...|1358505044|          33.79853|       -104.821646|       0|            0| 57|*********4695|2020|    1|     Sunday|            52|         0.0|          small|  10|    30|    44|133.03335274733803|     Low Risk|\n",
      "|  22762|  2019-01-14 13:05:13|   4561368699336875|fraud_turner and ...|  shopping_pos|1.0|     Pamela|     Lewis|     F|653 Jessica Exten...|             Clifton|   sc|29324|34.9906| -81.8327|     167|museum/gallery co...|1988-11-01|9f54e7b3420647454...|1326546313|         35.134181|        -82.804672|       0|        28772| 36|*********6875|2019|    1|    Tuesday|            30|         0.0|          small|  13|     5|    13| 89.89376757848888|     Low Risk|\n",
      "| 960413|  2020-01-21 13:03:13|4797297220948468262|fraud_goyette, ho...|  shopping_pos|1.0|      Erica|    Briggs|     F|3310 Davidson Spu...|             Oolitic|   in|47451|38.8938| -86.5246|    1228|          counsellor|1991-03-13|9d61d962367a77d72...|1358773393|         39.803436|        -87.376108|       0|        47862| 34|*********8262|2020|    1|  Wednesday|            28|         0.0|          small|  13|     3|    13|124.86521825685243|     Low Risk|\n",
      "|  23685|  2019-01-14 20:23:49|   2712209726293386|fraud_mclaughlin,...|        travel|1.0|      Jenna|    Brooks|     F|50872 Alex Plain ...|         Baton Rouge|   la|70808|30.4066| -91.1468|  378909| designer, furniture|1977-02-22|cb8bf5e2473d7fcb0...|1326572629|         30.007442|        -91.080276|       0|        70341| 48|*********3386|2019|    1|    Tuesday|            41|         0.0|          small|  20|    23|    49|44.842349346102395|     Low Risk|\n",
      "| 971802|  2020-01-27 23:18:59|      4149635823017|fraud_leffler-gol...| personal_care|1.0|     Samuel|   Farrell|     M|428 Michael Tunne...|           Cleveland|   al|35049|33.9778| -86.5598|    3996|          aid worker|1977-06-14|14da7bb742b0785e2...|1359328739|33.858740000000004|        -85.878114|       0|        36279| 48|*********3017|2020|    1|    Tuesday|            42|         0.0|          small|  23|    18|    59| 64.27942410605122|     Low Risk|\n",
      "|  25146|  2019-01-15 13:05:16|4045036286570100739|   fraud_dare-gibson|health_fitness|1.0|     Bianca|     Scott|     F|9588 Cox Rapid Ap...|              Atglen|   pa|19310|39.9458| -75.9703|    3066|     product manager|1928-07-15|3d7f67a607ea5d485...|1326632716|         39.102257|        -76.958004|       0|        20868| 96|*********0739|2019|    1|  Wednesday|            90|         0.0|          small|  13|     5|    16| 126.3899354861773|     Low Risk|\n",
      "| 972528|  2020-01-28 15:36:51|       577588686219|fraud_boyer-reichert|  shopping_net|1.0|      James|Strickland|     M|  25454 Leonard Lake|       Spring Church|   pa|15686|40.6153| -79.4545|     972|public relations ...|1997-10-23|48debc739e144b995...|1359387411|         39.672139|        -79.090978|       0|        21536| 27|*********6219|2020|    1|  Wednesday|            22|         0.0|          small|  15|    36|    51|109.33171754787627|     Low Risk|\n",
      "|  34740|  2019-01-21 13:23:59|    340951438290556|    fraud_dooley inc|  shopping_pos|1.0|      Maria|    Garcia|     F|  865 Thomas Village|          Orangeburg|   ny|10962|41.0442| -73.9609|    5950|     records manager|1971-07-02|c67f870d1ae29b034...|1327152239|         41.729484|-74.90406899999999|       0|        12750| 54|*********0556|2019|    1|    Tuesday|            47|         0.0|          small|  13|    23|    59|109.53248327095517|     Low Risk|\n",
      "| 972675|  2020-01-28 17:43:44|    213195754007681|fraud_weber and sons|   food_dining|1.0|    Zachary|     Allen|     M|69252 Oconnor All...|               Ollie|   ia|52576|41.2001| -92.1354|     568|commercial hortic...|1969-07-24|fc157a1062a86c48e...|1359395024|         40.283106|        -92.922737|       0|        63545| 55|*********7681|2020|    1|  Wednesday|            50|         0.0|          small|  17|    43|    44|121.64055272607246|     Low Risk|\n",
      "|  41725|  2019-01-25 19:18:03|    377654590313960| fraud_fadel-hilpert|health_fitness|1.0|   Lawrence|     Davis|     M|7421 Serrano Lane...|              Powell|   tn|37849|36.0435|   -84.04|   25459|teacher, special ...|1969-02-22|3bb52a981528d4817...|1327519083|         36.981775|        -83.968447|       0|        40734| 56|*********3960|2019|    1|   Saturday|            49|         0.0|          small|  19|    18|     3| 104.5271974907065|     Low Risk|\n",
      "| 974124|  2020-01-29 21:23:11|   3521417320836166|fraud_zboncak, ro...|  shopping_net|1.0|     Angela|    Hodges|     F|      08236 Kim Hill|        Indianapolis|   in|46254| 39.849|  -86.272|  910148|         firefighter|1975-11-30|d2ceb207c03884667...|1359494591|         40.473461|        -86.208771|       0|        46902| 49|*********6166|2020|    1|   Thursday|            44|         0.0|          small|  21|    23|    11| 69.64446827568239|     Low Risk|\n",
      "|  49569|  2019-01-29 19:15:41|   2283743876903625|fraud_hartmann, r...|        travel|1.0|    Shannon|  Williams|     F|9345 Spencer Junc...|          Alpharetta|   ga|30009| 34.077| -84.3033|  165556|      prison officer|1997-12-27|f88cf3c04aab3295b...|1327864541|         33.666221|        -84.344186|       0|        30288| 27|*********3625|2019|    1|  Wednesday|            21|         0.0|          small|  19|    15|    41|45.832248472914145|     Low Risk|\n",
      "| 975173|  2020-01-30 17:13:15|      4862293128558|   fraud_fritsch llc|        travel|1.0|  Elizabeth|     Payne|     F|897 Daugherty Mis...|           Grassflat|   pa|16839|41.0036| -78.1104|     489|pension scheme ma...|1956-09-15|6392456a33f03504c...|1359565995|40.878347999999995|-77.33419599999999|       0|        16820| 68|*********8558|2020|    1|     Friday|            63|         0.0|          small|  17|    13|    15| 66.66797764161728|     Low Risk|\n",
      "|  52655|  2019-02-01 02:35:32|      4623560839669|fraud_morissette plc|  shopping_pos|1.0|    Vincent|    Waller|     M|9379 Vanessa Run ...|           Lohrville|   ia|51453|42.2619| -94.5566|     695|       administrator|1954-07-15|6f40a008d66c954bc...|1328063732|         42.776789|        -94.419739|       0|        50520| 70|*********9669|2019|    2|   Saturday|            64|         0.0|          small|   2|    35|    32| 58.34141049004219|     Low Risk|\n",
      "| 978862|  2020-02-01 21:27:15|   3586008444788268|    fraud_conroy ltd|  shopping_pos|1.0|    Crystal|    Fuller|     F|  000 Jennifer Mills|            Issaquah|   wa|98027|47.4974|-122.0107|   50489|           osteopath|1984-02-29|e11fe7739933b0e43...|1359754035|         48.126733|       -121.021365|       0|        98241| 41|*********8268|2020|    2|     Sunday|            35|         0.0|          small|  21|    27|    15|101.75786729896743|     Low Risk|\n",
      "|  53832|  2019-02-01 21:44:47|   4364010865167176|fraud_quitzon, gr...|  shopping_pos|1.0|       Gary|  Martinez|     M| 03512 Jackson Ports|                Reno|   nv|89512|39.5483|-119.7957|  276896|        immunologist|1997-03-12|9b1adc1990ea1701b...|1328132687|           38.8237|       -119.041283|       0|        89447| 28|*********7176|2019|    2|   Saturday|            21|         0.0|          small|  21|    44|    47|103.53433118770687|     Low Risk|\n",
      "| 992883|  2020-02-09 20:22:56|   4642255475285942|      fraud_kihn inc|  shopping_pos|1.0|    Sabrina|   Johnson|     F|320 Nicholson Orc...|            Thompson|   ut|84540|38.9999| -109.615|      46|  surveyor, minerals|1987-04-23|b1a6c4401c342867e...|1360441376|          38.30282|       -109.804185|       0|            0| 38|*********5942|2020|    2|     Monday|            32|         0.0|          small|  20|    22|    56| 79.23359423052952|     Low Risk|\n",
      "|  54942|  2019-02-02 17:10:47|   3575540972310993|  fraud_erdman-ebert| personal_care|1.0|     Rachel|Villarreal|     F|250 Carrie Throug...|          University|   ms|38677|34.3396| -89.5736|    4198|             curator|2001-06-22|6fb133dc5b448c4b5...|1328202647|34.472615000000005|        -89.661165|       0|            0| 24|*********0993|2019|    2|     Sunday|            17|         0.0|          small|  17|    10|    47|  16.8314149775532|     Low Risk|\n",
      "| 995300|  2020-02-10 21:05:21|   3502088871723054|fraud_fadel, mert...| entertainment|1.0|      Scott|    Martin|     M|31472 Cody Place ...|          Kensington|   md|20895|39.0298| -77.0793|   19054|operations geologist|1976-09-08|c8cf9c7709a036fa1...|1360530321|         38.977523|        -76.620726|       0|        21032| 48|*********3054|2020|    2|    Tuesday|            43|         0.0|          small|  21|     5|    21|40.049533533721224|     Low Risk|\n",
      "+-------+---------------------+-------------------+--------------------+--------------+---+-----------+----------+------+--------------------+--------------------+-----+-----+-------+---------+--------+--------------------+----------+--------------------+----------+------------------+------------------+--------+-------------+---+-------------+----+-----+-----------+--------------+------------+---------------+----+------+------+------------------+-------------+\n",
      "only showing top 20 rows\n",
      "\n"
     ]
    }
   ],
   "execution_count": 163
  },
  {
   "metadata": {
    "ExecuteTime": {
     "end_time": "2025-01-09T20:13:29.257508Z",
     "start_time": "2025-01-09T20:13:20.274842Z"
    }
   },
   "cell_type": "code",
   "source": [
    "rolling_avg_window = (Window\n",
    "    .partitionBy('user_id')\n",
    "    .orderBy(F.col('trans_date_trans_time'))\n",
    "    .rowsBetween(-6, 0)\n",
    ")\n",
    "\n",
    "\n",
    "df.withColumn(\n",
    "    'rolling_avg_amt',\n",
    "    F.avg('amt').over(rolling_avg_window)\n",
    ").show()"
   ],
   "id": "49205ae2fa8c6167",
   "outputs": [
    {
     "name": "stdout",
     "output_type": "stream",
     "text": [
      "+-------+---------------------+-------------------+--------------------+-------------+------+-----------+---------+------+--------------------+--------------------+-----+-----+-------+------------------+--------+--------------------+----------+--------------------+----------+------------------+------------------+--------+-------------+---+-------------+----+-----+-----------+--------------+-------------------+---------------+----+------+------+------------------+-------------+---------------+\n",
      "|user_id|trans_date_trans_time|             cc_num|            merchant|     category|   amt|      first|     last|gender|              street|                city|state|  zip|    lat|              long|city_pop|                 job|       dob|           trans_num| unix_time|         merch_lat|        merch_long|is_fraud|merch_zipcode|age|cc_num_masked|year|month|day_of_week|calculated_age|       percent_rank|amount_category|hour|minute|second|       distance_km|high_risk_job|rolling_avg_amt|\n",
      "+-------+---------------------+-------------------+--------------------+-------------+------+-----------+---------+------+--------------------+--------------------+-----+-----+-------+------------------+--------+--------------------+----------+--------------------+----------+------------------+------------------+--------+-------------+---+-------------+----+-----+-----------+--------------+-------------------+---------------+----+------+------+------------------+-------------+---------------+\n",
      "|      0|  2019-01-01 00:00:18|   2703186189652095|fraud_rippin, kub...|     misc_net|  4.97|   Jennifer|    Banks|     F|      561 Perry Cove|      Moravian Falls|   nc|28654|36.0788|          -81.1781|    3495|psychologist, cou...|1988-03-09|0b242abb623afc578...|1325376018|         36.011293|        -82.048315|       0|        28705| 37|*********2095|2019|    1|  Wednesday|            30|0.12426639232374521|          small|   0|     0|    18| 78.59756848823127|     Low Risk|           4.97|\n",
      "|      1|  2019-01-01 00:00:44|       630423337322|fraud_heller, gut...|  grocery_pos|107.23|  Stephanie|     Gill|     F|43039 Riley Green...|              Orient|   wa|99160|48.8878|         -118.2105|     149|special education...|1978-06-21|1f76529f857473494...|1325376044|49.159046999999994|       -118.186462|       0|            0| 47|*********7322|2019|    1|  Wednesday|            40| 0.8406430606305054|          large|   0|     0|    44| 30.21217571921031|     Low Risk|         107.23|\n",
      "|      2|  2019-01-01 00:00:51|     38859492057661|fraud_lind-buckridge|entertainment|220.11|     Edward|  Sanchez|     M|594 White Dale Su...|          Malad City|   id|83252|42.1808|          -112.262|    4154|nature conservati...|1962-01-19|a1a22d70485983eac...|1325376051|         43.150704|       -112.154481|       0|        83236| 63|*********7661|2019|    1|  Wednesday|            56|  0.962457024664642|          large|   0|     0|    51|108.20608258720077|     Low Risk|         220.11|\n",
      "|      3|  2019-01-01 00:01:16|   3534093764340240|fraud_kutch, herm...|gas_transport|  45.0|     Jeremy|    White|     M|9443 Cynthia Cour...|             Boulder|   mt|59632|46.2306|         -112.1138|    1939|     patent attorney|1967-01-12|6b849c168bdad6f86...|1325376076|         47.034331|       -112.561071|       0|            0| 58|*********0240|2019|    1|  Wednesday|            51| 0.4818057584250166|         medium|   0|     1|    16| 95.67323113819798|     Low Risk|           45.0|\n",
      "|      4|  2019-01-01 00:03:06|    375534208663984| fraud_keeling-crist|     misc_pos| 41.96|      Tyler|   Garcia|     M|    408 Bradley Rest|            Doe Hill|   va|24433|38.4207|          -79.4629|      99|dance movement ps...|1986-03-28|a41d7549acf907893...|1325376186|         38.674999|        -78.632459|       0|        22844| 39|*********3984|2019|    1|  Wednesday|            32| 0.4616194972676247|         medium|   0|     3|     6| 77.55674362581732|     Low Risk|          41.96|\n",
      "|      5|  2019-01-01 00:04:08|   4767265376804500|fraud_stroman, hu...|gas_transport| 94.63|   Jennifer|   Conner|     F|   4655 David Island|              Dublin|   pa|18917| 40.375|          -75.2045|    2158|   transport planner|1961-06-19|189a841a0a8ba0305...|1325376248|         40.653382|-76.15266700000001|       0|        17972| 64|*********4500|2019|    1|  Wednesday|            57| 0.7997893071041757|          large|   0|     4|     8| 85.92264266264067|     Low Risk|          94.63|\n",
      "|      6|  2019-01-01 00:04:42|     30074693890476|fraud_rowe-vander...|  grocery_net| 44.54|     Kelsey| Richards|     F|889 Sarah Station...|             Holcomb|   ks|67851|37.9931|         -100.9893|    2691|     arboriculturist|1993-08-16|83ec1cc84142af6e2...|1325376282|37.162704999999995|        -100.15337|       0|            0| 31|*********0476|2019|    1|  Wednesday|            25| 0.4786530770262996|         medium|   0|     4|    42|118.11977555909674|     Low Risk|          44.54|\n",
      "|      7|  2019-01-01 00:05:08|   6011360759745864|fraud_corwin-collins|gas_transport| 71.65|     Steven| Williams|     M|231 Flores Pass S...|            Edinburg|   va|22824|38.8432|          -78.6003|    6018|designer, multimedia|1947-08-21|6d294ed2cc447d2c7...|1325376308|         38.948089|        -78.540296|       0|        22644| 77|*********5864|2019|    1|  Wednesday|            71| 0.6744571110394748|          large|   0|     5|     8|12.766922541958941|     Low Risk|          71.65|\n",
      "|      8|  2019-01-01 00:05:18|   4922710831011201|    fraud_herzog ltd|     misc_pos|  4.27|    Heather|    Chase|     F|6888 Hicks Stream...|               Manor|   pa|15665|40.3359|          -79.6607|    1472|public affairs co...|1941-03-07|fc28024ce480f8ef2...|1325376318|         40.351813|        -79.958146|       0|        15236| 84|*********1201|2019|    1|  Wednesday|            77|0.10439863836245657|          small|   0|     5|    18|25.270493671049227|     Low Risk|           4.27|\n",
      "|      9|  2019-01-01 00:06:01|   2720830304681674|fraud_schoen, kup...|  grocery_pos|198.39|    Melissa|  Aguilar|     F|21326 Taylor Squa...|         Clarksville|   tn|37040| 36.522|-87.34899999999999|  151785|         pathologist|1974-03-28|3b9014ea8fb80bd65...|1325376361|         37.179198|        -87.485381|       0|        42442| 51|*********1674|2019|    1|  Wednesday|            44| 0.9512784246464416|          large|   0|     6|     1| 74.07775048182143|     Low Risk|         198.39|\n",
      "|     10|  2019-01-01 00:06:23|      4642894980163|fraud_rutherford-...|  grocery_pos| 24.74|      Eddie|   Mendez|     M|1831 Faith View S...|            Clarinda|   ia|51632|40.7491|           -95.038|    7297|          it trainer|1990-07-13|d71c95ab6b7356dd7...|1325376383|40.275890999999994|        -96.011548|       0|        68348| 34|*********0163|2019|    1|  Wednesday|            28|0.35589824427728173|         medium|   0|     6|    23| 97.68326577207222|     Low Risk|          24.74|\n",
      "|     11|  2019-01-01 00:06:53|    377234009633447|fraud_kerluke-abs...| shopping_net|  7.77|    Theresa|Blackwell|     F|43576 Kristina Is...| Shenandoah Junction|   wv|25442|39.3716|          -77.8229|    1925|   systems developer|1966-02-14|3c74776e558f1499a...|1325376413|         40.103866|        -78.624459|       0|        15554| 59|*********3447|2019|    1|  Wednesday|            52|0.20053305611125077|          small|   0|     6|    53|106.42938089432842|     Low Risk|           7.77|\n",
      "|     12|  2019-01-01 00:06:56|    180042946491150|   fraud_lockman ltd|  grocery_pos| 71.22|    Charles|   Robles|     M|    3337 Lisa Divide|    Saint Petersburg|   fl|33710|27.7898|          -82.7243|  341043|      engineer, land|1989-02-28|c1d9a7ddb1e34639f...|1325376416|         27.630593|        -82.308891|       0|        33598| 36|*********1150|2019|    1|  Wednesday|            29|  0.671369210765389|          large|   0|     6|    56| 44.56107983071143|     Low Risk|          71.22|\n",
      "|     13|  2019-01-01 00:07:27|   5559857416065248|     fraud_kiehn inc|  grocery_pos| 96.29|       Jack|     Hill|     M|5916 Susan Bridge...|             Grenada|   ca|96038|41.6125|         -122.5258|     589|     systems analyst|1945-12-21|413636e759663f264...|1325376447|          41.65752|       -122.230347|       0|            0| 79|*********5248|2019|    1|  Wednesday|            73|  0.805997498214663|          large|   0|     7|    27|25.059079169314753|     Low Risk|          96.29|\n",
      "|     14|  2019-01-01 00:09:03|   3514865930894695|   fraud_beier-hyatt| shopping_pos|  7.77|Christopher|Castaneda|     M|1632 Cohen Drive ...|High Rolls Mounta...|   nm|88325|32.9396|         -105.8189|     899|     naval architect|1967-08-30|8a6293af5ed278dea...|1325376543|         32.863258|       -106.520205|       0|            0| 57|*********4695|2019|    1|  Wednesday|            51|0.20053305611125077|          small|   0|     9|     3| 66.02168481006089|     Low Risk|           7.77|\n",
      "|     15|  2019-01-01 00:09:20|   6011999606625827|fraud_schmidt and...| shopping_net|  3.26|     Ronald|   Carson|     M|     870 Rocha Drive|     Harrington Park|   nj| 7640|40.9918|            -73.98|    4664|radiographer, dia...|1965-06-30|baae0b096835c9758...|1325376560|         41.831174|        -74.335559|       0|        12446| 60|*********5827|2019|    1|  Wednesday|            53|0.07469263669974104|          small|   0|     9|    20| 97.93065268602594|     Low Risk|           3.26|\n",
      "|     16|  2019-01-01 00:10:49|   6011860238257910|fraud_lebsack and...|     misc_net| 327.0|       Lisa|   Mendez|     F|44259 Beth Statio...|              Lahoma|   ok|73754| 36.385|          -98.0727|    1078|programme researc...|1952-07-06|991c04803b4d4eeab...|1325376649|36.384091999999995|        -99.048472|       0|        73852| 73|*********7910|2019|    1|  Wednesday|            66|  0.979173639634943|          large|   0|    10|    49| 87.34874840731625|     Low Risk|          327.0|\n",
      "|     17|  2019-01-01 00:10:58|   3565423334076143|  fraud_mayert group| shopping_pos|341.67|     Nathan|   Thomas|     M|4923 Campbell Pin...|            Carlisle|   in|47838|38.9763|          -87.3667|    4081|     energy engineer|1938-03-15|f12cf52be2175703d...|1325376658|         38.674491|        -88.305767|       0|        62824| 87|*********6143|2019|    1|  Wednesday|            80| 0.9802379009681693|          large|   0|    10|    58| 87.99895015911541|     Low Risk|         341.67|\n",
      "|     18|  2019-01-01 00:11:14|   2348245054386329|fraud_konopelski,...|  food_dining| 63.07|     Justin|      Gay|     M|268 Hayes Rue Sui...|         Harborcreek|   pa|16421|42.1767|          -79.9416|    2518|     event organiser|1946-02-02|8500f3d459047eac8...|1325376674|         41.430274|        -79.492553|       0|        16364| 79|*********6329|2019|    1|  Wednesday|            72| 0.6149317407459393|         medium|   0|    11|    14| 90.96220878947955|     Low Risk|          63.07|\n",
      "|     19|  2019-01-01 00:12:34|4956828990005111019|fraud_schultz, si...|  grocery_pos| 44.71|    Kenneth| Robinson|     M|  269 Sanchez Rapids|           Elizabeth|   nj| 7208|40.6747|          -74.2239|  124967|operational resea...|1980-12-21|09eff9c806365e2a6...|1325376754|         40.079588|-74.84808699999999|       0|         8016| 44|*********1019|2019|    1|  Wednesday|            38|0.47975821216435277|         medium|   0|    12|    34|  84.7021203085421|     Low Risk|          44.71|\n",
      "+-------+---------------------+-------------------+--------------------+-------------+------+-----------+---------+------+--------------------+--------------------+-----+-----+-------+------------------+--------+--------------------+----------+--------------------+----------+------------------+------------------+--------+-------------+---+-------------+----+-----+-----------+--------------+-------------------+---------------+----+------+------+------------------+-------------+---------------+\n",
      "only showing top 20 rows\n",
      "\n"
     ]
    }
   ],
   "execution_count": 164
  },
  {
   "metadata": {
    "ExecuteTime": {
     "end_time": "2025-01-09T20:13:32.173328Z",
     "start_time": "2025-01-09T20:13:29.267695Z"
    }
   },
   "cell_type": "code",
   "source": [
    "df = df.withColumn(\"transaction_date\", F.to_date(F.col(\"trans_date_trans_time\")))\n",
    "\n",
    "user_summary = df.groupBy('user_id').agg(\n",
    "    F.sum('amt').alias('total_transaction_value'),\n",
    "    F.min('transaction_date').alias('first_transaction_date'),\n",
    "    F.max('transaction_date').alias('last_transaction_date'),\n",
    ")\n",
    "\n",
    "user_summary = user_summary.withColumn(\n",
    "    \"active_days\",\n",
    "    F.datediff(F.col(\"last_transaction_date\"), F.col(\"first_transaction_date\")) + 1\n",
    ")\n",
    "\n",
    "user_summary = user_summary.withColumn(\n",
    "    \"ltv\",\n",
    "    F.round(F.col(\"total_transaction_value\") / F.col(\"active_days\"), 2)\n",
    ")\n",
    "\n",
    "user_summary.show()"
   ],
   "id": "10ce6c9f9afb0e64",
   "outputs": [
    {
     "name": "stdout",
     "output_type": "stream",
     "text": [
      "+-------+-----------------------+----------------------+---------------------+-----------+------+\n",
      "|user_id|total_transaction_value|first_transaction_date|last_transaction_date|active_days|   ltv|\n",
      "+-------+-----------------------+----------------------+---------------------+-----------+------+\n",
      "|    148|                  32.82|            2019-01-01|           2019-01-01|          1| 32.82|\n",
      "|    463|                  15.44|            2019-01-01|           2019-01-01|          1| 15.44|\n",
      "|    471|                 107.69|            2019-01-01|           2019-01-01|          1|107.69|\n",
      "|    496|                 168.42|            2019-01-01|           2019-01-01|          1|168.42|\n",
      "|    833|                  93.84|            2019-01-01|           2019-01-01|          1| 93.84|\n",
      "|   1088|                  23.95|            2019-01-01|           2019-01-01|          1| 23.95|\n",
      "|   1238|                   6.56|            2019-01-01|           2019-01-01|          1|  6.56|\n",
      "|   1342|                  19.62|            2019-01-01|           2019-01-01|          1| 19.62|\n",
      "|   1580|                   3.85|            2019-01-01|           2019-01-01|          1|  3.85|\n",
      "|   1591|                  49.27|            2019-01-01|           2019-01-01|          1| 49.27|\n",
      "|   1645|                  141.0|            2019-01-01|           2019-01-01|          1| 141.0|\n",
      "|   1829|                  34.67|            2019-01-01|           2019-01-01|          1| 34.67|\n",
      "|   1959|                  34.15|            2019-01-01|           2019-01-01|          1| 34.15|\n",
      "|   2122|                  28.54|            2019-01-01|           2019-01-01|          1| 28.54|\n",
      "|   2142|                   9.88|            2019-01-01|           2019-01-01|          1|  9.88|\n",
      "|   2366|                  71.16|            2019-01-01|           2019-01-01|          1| 71.16|\n",
      "|   2659|                  37.69|            2019-01-02|           2019-01-02|          1| 37.69|\n",
      "|   2866|                  23.26|            2019-01-02|           2019-01-02|          1| 23.26|\n",
      "|   3175|                  86.33|            2019-01-02|           2019-01-02|          1| 86.33|\n",
      "|   3749|                  99.92|            2019-01-03|           2019-01-03|          1| 99.92|\n",
      "+-------+-----------------------+----------------------+---------------------+-----------+------+\n",
      "only showing top 20 rows\n",
      "\n"
     ]
    }
   ],
   "execution_count": 165
  },
  {
   "metadata": {
    "ExecuteTime": {
     "end_time": "2025-01-09T20:13:34.345967Z",
     "start_time": "2025-01-09T20:13:32.183895Z"
    }
   },
   "cell_type": "code",
   "source": [
    "df.groupBy(\n",
    "    F.col('cc_num'),\n",
    ").agg(\n",
    "    F.round(F.sum('amt'), 3).alias('total_transaction_value'),\n",
    "    F.count('amt').alias('total_transactions'),\n",
    ").orderBy(\n",
    "    'total_transaction_value', ascending=False\n",
    ").show()"
   ],
   "id": "59f3b5785d7c0bd0",
   "outputs": [
    {
     "name": "stdout",
     "output_type": "stream",
     "text": [
      "+-------------------+-----------------------+------------------+\n",
      "|             cc_num|total_transaction_value|total_transactions|\n",
      "+-------------------+-----------------------+------------------+\n",
      "|   6011367958204270|              296436.73|              3110|\n",
      "|   4908846471916297|              290478.49|              3039|\n",
      "|   6011438889172900|               284013.5|              3106|\n",
      "|     36722699017270|              280008.05|              3119|\n",
      "|   6011893664860915|              278325.97|              3090|\n",
      "|   6011109736646996|              278139.27|              3101|\n",
      "|   3583635130604947|              278042.99|              3026|\n",
      "|   2712209726293386|              277085.65|              3064|\n",
      "|   4836998673805450|              275930.63|              3027|\n",
      "|    372509258176510|              275889.68|              3054|\n",
      "|    180048185037117|              274019.88|              3080|\n",
      "|    344709867813900|              273723.12|              3027|\n",
      "|   3590736522064285|              273162.27|              3081|\n",
      "|    180094419304907|              272866.42|              3026|\n",
      "|   3566094707272327|               272468.9|              3034|\n",
      "|    213141712584544|              271661.15|              3046|\n",
      "|   3521417320836166|              270698.48|              3032|\n",
      "|   6538891242532018|              269099.47|              3072|\n",
      "|4792627764422477317|              260008.37|              3082|\n",
      "|   4939976756738216|              258282.59|              3038|\n",
      "+-------------------+-----------------------+------------------+\n",
      "only showing top 20 rows\n",
      "\n"
     ]
    }
   ],
   "execution_count": 166
  },
  {
   "metadata": {
    "ExecuteTime": {
     "end_time": "2025-01-09T20:13:36.432151Z",
     "start_time": "2025-01-09T20:13:34.356021Z"
    }
   },
   "cell_type": "code",
   "source": [
    "df.groupBy(\n",
    "    F.col('merchant'),\n",
    ").agg(\n",
    "    F.sum(F.col('is_fraud')).alias(\n",
    "        'fraudulent_transactions'),\n",
    "    F.count(F.col('amt')).alias(\n",
    "        'total_transactions'),\n",
    ").withColumn(\n",
    "    'fraud_rate', (F.col('fraudulent_transactions') /\n",
    "                   F.col('total_transactions')) * 100\n",
    ").orderBy(\n",
    "    'fraud_rate', ascending=False\n",
    ").show(truncate=False)"
   ],
   "id": "982e5455809a6592",
   "outputs": [
    {
     "name": "stdout",
     "output_type": "stream",
     "text": [
      "+------------------------------------+-----------------------+------------------+------------------+\n",
      "|merchant                            |fraudulent_transactions|total_transactions|fraud_rate        |\n",
      "+------------------------------------+-----------------------+------------------+------------------+\n",
      "|fraud_kozey-boehm                   |48                     |1866              |2.572347266881029 |\n",
      "|fraud_herman, treutel and dickens   |33                     |1300              |2.5384615384615383|\n",
      "|fraud_kerluke-abshire               |41                     |1838              |2.2306855277475517|\n",
      "|fraud_brown plc                     |26                     |1176              |2.2108843537414966|\n",
      "|fraud_goyette inc                   |42                     |1943              |2.1616057642820383|\n",
      "|fraud_terry-huel                    |43                     |1996              |2.154308617234469 |\n",
      "|fraud_jast ltd                      |42                     |1953              |2.1505376344086025|\n",
      "|fraud_schmeler, bashirian and price |41                     |1968              |2.083333333333333 |\n",
      "|fraud_boyer-reichert                |38                     |1908              |1.9916142557651992|\n",
      "|fraud_langworth, boehm and gulgowski|39                     |1969              |1.9807008633824275|\n",
      "|fraud_moore, dibbert and koepp      |25                     |1266              |1.9747235387045814|\n",
      "|fraud_baumbach, feeney and morar    |38                     |1929              |1.9699326075686883|\n",
      "|fraud_rau and sons                  |49                     |2490              |1.967871485943775 |\n",
      "|fraud_gleason-macejkovic            |40                     |2033              |1.9675356615838662|\n",
      "|fraud_kuhic llc                     |39                     |1985              |1.964735516372796 |\n",
      "|fraud_kuhic, bins and pfeffer       |39                     |2003              |1.9470793809286073|\n",
      "|fraud_price inc                     |38                     |1983              |1.9162884518406456|\n",
      "|fraud_tillman, fritsch and schmitt  |25                     |1307              |1.9127773527161436|\n",
      "|fraud_vandervort-funk               |47                     |2474              |1.8997574777687956|\n",
      "|fraud_durgan-auer                   |24                     |1283              |1.8706157443491818|\n",
      "+------------------------------------+-----------------------+------------------+------------------+\n",
      "only showing top 20 rows\n",
      "\n"
     ]
    }
   ],
   "execution_count": 167
  },
  {
   "metadata": {
    "ExecuteTime": {
     "end_time": "2025-01-09T20:13:38.422741Z",
     "start_time": "2025-01-09T20:13:36.441911Z"
    }
   },
   "cell_type": "code",
   "source": [
    "df.groupBy(\n",
    "    F.col('city')\n",
    ").count().sort(\n",
    "    F.col('count').desc()\n",
    ").show()"
   ],
   "id": "4c7e41d906413155",
   "outputs": [
    {
     "name": "stdout",
     "output_type": "stream",
     "text": [
      "+------------+-----+\n",
      "|        city|count|\n",
      "+------------+-----+\n",
      "|  Birmingham| 5617|\n",
      "| San Antonio| 5130|\n",
      "|       Utica| 5105|\n",
      "|     Phoenix| 5075|\n",
      "|    Meridian| 5060|\n",
      "|      Thomas| 4634|\n",
      "|      Conway| 4613|\n",
      "|   Cleveland| 4604|\n",
      "|      Warren| 4599|\n",
      "|     Houston| 4168|\n",
      "|     Burbank| 4159|\n",
      "|      Naples| 4155|\n",
      "|     Arcadia| 4096|\n",
      "|Indianapolis| 4073|\n",
      "|     Brandon| 4044|\n",
      "|      Fulton| 3977|\n",
      "|      Lahoma| 3646|\n",
      "|   Allentown| 3639|\n",
      "|    Lakeland| 3635|\n",
      "|      Dallas| 3629|\n",
      "+------------+-----+\n",
      "only showing top 20 rows\n",
      "\n"
     ]
    }
   ],
   "execution_count": 168
  },
  {
   "metadata": {
    "ExecuteTime": {
     "end_time": "2025-01-09T20:13:38.462276Z",
     "start_time": "2025-01-09T20:13:38.432091Z"
    }
   },
   "cell_type": "code",
   "source": [
    "df = df.withColumn(\n",
    "    'year_month',\n",
    "    F.date_format(F.col('trans_date_trans_time'), 'yyyy-MM')\n",
    ")\n",
    "\n",
    "fraud_df = df.filter(F.col('is_fraud') == 1)\n",
    "\n",
    "monthly_fraud_trends = fraud_df.groupBy('year_month').agg(\n",
    "    F.count('*').alias('fraud_count')\n",
    ")"
   ],
   "id": "eb7cbe58edbaf717",
   "outputs": [],
   "execution_count": 169
  },
  {
   "metadata": {
    "ExecuteTime": {
     "end_time": "2025-01-09T20:16:23.771613Z",
     "start_time": "2025-01-09T20:16:23.557274Z"
    }
   },
   "cell_type": "code",
   "source": [
    "monthly_fraud_pd = monthly_fraud_trends.toPandas()\n",
    "\n",
    "plt.figure(figsize=(10, 5))\n",
    "plt.plot(monthly_fraud_pd[\"year_month\"], monthly_fraud_pd[\"fraud_count\"], marker='o', color='b')\n",
    "plt.title(\"Monthly Fraud Trends\", fontsize=16)\n",
    "plt.xlabel(\"Month\", fontsize=12)\n",
    "plt.ylabel(\"Fraudulent Transactions\", fontsize=12)\n",
    "plt.xticks(rotation=45)\n",
    "plt.grid(True)\n",
    "plt.show()"
   ],
   "id": "21ad621d23d6b3e8",
   "outputs": [
    {
     "data": {
      "text/plain": [
       "<Figure size 1000x500 with 1 Axes>"
      ],
      "image/png": "[encoded data removed]"
     },
     "metadata": {},
     "output_type": "display_data"
    }
   ],
   "execution_count": 171
  },
  {
   "metadata": {
    "ExecuteTime": {
     "end_time": "2025-01-09T20:20:03.104388Z",
     "start_time": "2025-01-09T20:20:02.241813Z"
    }
   },
   "cell_type": "code",
   "source": [
    "df.groupBy(\n",
    "    F.upper(F.col('state')).alias('state')\n",
    ").agg(\n",
    "    F.mean('amt').alias('avg_amt'),\n",
    ").orderBy(\n",
    "    'avg_amt', ascending=False\n",
    ").show()"
   ],
   "id": "8f07ff1413d04bd7",
   "outputs": [
    {
     "name": "stdout",
     "output_type": "stream",
     "text": [
      "+-----+-----------------+\n",
      "|state|          avg_amt|\n",
      "+-----+-----------------+\n",
      "|   DE|514.4933333333333|\n",
      "|   VT| 82.0953458531611|\n",
      "|   RI|81.93940000000002|\n",
      "|   CO|78.54260158501445|\n",
      "|   NC|76.97751106852571|\n",
      "|   DC|76.69954608358704|\n",
      "|   WY|75.75822792671566|\n",
      "|   AR|75.25520705496837|\n",
      "|   AZ| 75.0534382544104|\n",
      "|   LA|74.95842260911041|\n",
      "|   TN|74.82700410162926|\n",
      "|   NH|74.00965329789803|\n",
      "|   FL|73.94229406388413|\n",
      "|   WA|73.77716497569226|\n",
      "|   CA| 73.4222588715401|\n",
      "|   OH| 73.0668386402754|\n",
      "|   ID| 73.0660522993688|\n",
      "|   PA|72.27584668177893|\n",
      "|   NY|71.93325864360905|\n",
      "|   TX| 71.6821696741009|\n",
      "+-----+-----------------+\n",
      "only showing top 20 rows\n",
      "\n"
     ]
    }
   ],
   "execution_count": 179
  },
  {
   "metadata": {
    "ExecuteTime": {
     "end_time": "2025-01-09T20:23:42.779423Z",
     "start_time": "2025-01-09T20:23:42.774495Z"
    }
   },
   "cell_type": "code",
   "source": "[col for col in df.columns if 'is_fraud' in col]",
   "id": "75fd0f63a543ad3e",
   "outputs": [
    {
     "data": {
      "text/plain": [
       "['is_fraud']"
      ]
     },
     "execution_count": 184,
     "metadata": {},
     "output_type": "execute_result"
    }
   ],
   "execution_count": 184
  }
 ],
 "metadata": {
  "kernelspec": {
   "display_name": "Python 3",
   "language": "python",
   "name": "python3"
  },
  "language_info": {
   "codemirror_mode": {
    "name": "ipython",
    "version": 2
   },
   "file_extension": ".py",
   "mimetype": "text/x-python",
   "name": "python",
   "nbconvert_exporter": "python",
   "pygments_lexer": "ipython2",
   "version": "2.7.6"
  }
 },
 "nbformat": 4,
 "nbformat_minor": 5
}
