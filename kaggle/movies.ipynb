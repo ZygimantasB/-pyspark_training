{
 "cells": [
  {
   "cell_type": "code",
   "id": "initial_id",
   "metadata": {
    "collapsed": true,
    "ExecuteTime": {
     "end_time": "2025-03-20T18:28:28.551610Z",
     "start_time": "2025-03-20T18:28:26.682817Z"
    }
   },
   "source": [
    "import os\n",
    "import math\n",
    "\n",
    "import altair as alt\n",
    "import pandas as pd\n",
    "\n",
    "import plotly.express as px\n",
    "import plotly.graph_objects as go\n",
    "\n",
    "import pyspark.sql.functions as F\n",
    "from pyspark.sql import SparkSession\n",
    "from pyspark.sql import Window"
   ],
   "outputs": [],
   "execution_count": 1
  },
  {
   "metadata": {
    "ExecuteTime": {
     "end_time": "2025-03-20T18:28:28.566944Z",
     "start_time": "2025-03-20T18:28:28.561837Z"
    }
   },
   "cell_type": "code",
   "source": [
    "os.environ['SPARK_HOME'] = r'C:\\spark\\spark-3.5.5-bin-hadoop3'\n",
    "os.environ['PYSPARK_DRIVER_PYTHON'] = 'jupyter'\n",
    "os.environ['PYSPARK_DRIVER_PYTHON_OPTS'] = 'lab'\n",
    "os.environ['PYSPARK_PYTHON'] = 'python'"
   ],
   "id": "b7a34d0da8a9a880",
   "outputs": [],
   "execution_count": 2
  },
  {
   "metadata": {
    "ExecuteTime": {
     "end_time": "2025-03-20T18:28:33.020133Z",
     "start_time": "2025-03-20T18:28:28.575595Z"
    }
   },
   "cell_type": "code",
   "source": [
    "spark = (\n",
    "    SparkSession.builder\n",
    "    .appName('Airport Traffic')\n",
    "    .master('local[4]')\n",
    "    .config('spark.executor.memory', '2g')\n",
    "    .config('spark.executor.cores', '2')\n",
    "    .config(\"spark.dynamicAllocation.enabled\", \"true\")\n",
    "    .config(\"spark.dynamicAllocation.minExecutors\", \"1\")\n",
    "    .config(\"spark.dynamicAllocation.maxExecutors\", \"4\")\n",
    "    .config('spark.executor.memoryOverhead', '512m')\n",
    "    .config(\"spark.driver.memory\", \"2g\")\n",
    "    .config(\"spark.driver.maxResultSize\", \"2g\")\n",
    "    .config('spark.sql.adaptive.enabled', 'true')\n",
    "    .config('spark.sql.adaptive.coalescePartitions.enabled', 'true')\n",
    "    .config('spark.sql.adaptive.advisoryPartitionSizeInBytes', '64mb')\n",
    "    .config(\"spark.serializer\", \"org.apache.spark.serializer.KryoSerializer\")\n",
    "    .config('spark.dynamicAllocation.executorIdleTimeout', '60s')\n",
    "    .config('spark.sql.autoBroadcastJoinThreshold', '512mb')\n",
    "    .getOrCreate()\n",
    ")"
   ],
   "id": "a7f67f4f51d64e96",
   "outputs": [],
   "execution_count": 3
  },
  {
   "metadata": {
    "ExecuteTime": {
     "end_time": "2025-03-20T18:28:33.261264Z",
     "start_time": "2025-03-20T18:28:33.258118Z"
    }
   },
   "cell_type": "code",
   "source": [
    "df_movies_path = \"F:\\Datasets\\CSV datasets\\movies\\movies.csv\"\n",
    "df_movies_reviews_path = \"F:\\Datasets\\CSV datasets\\movies\\movies_reviews.csv\""
   ],
   "id": "723c1f1e11978d5e",
   "outputs": [],
   "execution_count": 4
  },
  {
   "metadata": {
    "ExecuteTime": {
     "end_time": "2025-03-20T18:28:38.244372Z",
     "start_time": "2025-03-20T18:28:33.268066Z"
    }
   },
   "cell_type": "code",
   "source": "movies_df = spark.read.csv(df_movies_path, header=True, inferSchema=True)",
   "id": "1c1cd66d8616cd9b",
   "outputs": [],
   "execution_count": 5
  },
  {
   "metadata": {
    "ExecuteTime": {
     "end_time": "2025-03-20T18:28:39.323237Z",
     "start_time": "2025-03-20T18:28:38.311722Z"
    }
   },
   "cell_type": "code",
   "source": "movies_reviews_df = spark.read.csv(df_movies_reviews_path, header=True, inferSchema=True)",
   "id": "7759133a79618ab2",
   "outputs": [],
   "execution_count": 6
  },
  {
   "metadata": {
    "ExecuteTime": {
     "end_time": "2025-03-20T18:28:39.378990Z",
     "start_time": "2025-03-20T18:28:39.332363Z"
    }
   },
   "cell_type": "code",
   "source": "joined_df = movies_reviews_df.join(F.broadcast(movies_df), movies_reviews_df.id == movies_df.id, 'inner')",
   "id": "cbabe0532e995fc8",
   "outputs": [],
   "execution_count": 7
  },
  {
   "metadata": {
    "ExecuteTime": {
     "end_time": "2025-03-20T18:28:39.502623Z",
     "start_time": "2025-03-20T18:28:39.389254Z"
    }
   },
   "cell_type": "code",
   "source": "joined_df.cache()",
   "id": "20ec4c6d1fad3f72",
   "outputs": [
    {
     "data": {
      "text/plain": [
       "DataFrame[id: string, title: string, quote: string, score: string, date: string, author: string, publicationName: string, review_type: string, id: string, title: string, releaseDate: string, rating: string, genres: string, description: string, duration: string, tagline: string, metascore: string, metascore_count: string, metascore_sentiment: string, userscore: string, userscore_count: string, userscore_sentiment: string, production_companies: string, director: string, writer: string, top_cast: string]"
      ]
     },
     "execution_count": 8,
     "metadata": {},
     "output_type": "execute_result"
    }
   ],
   "execution_count": 8
  },
  {
   "metadata": {
    "ExecuteTime": {
     "end_time": "2025-03-20T18:28:39.516535Z",
     "start_time": "2025-03-20T18:28:39.510781Z"
    }
   },
   "cell_type": "code",
   "source": "joined_df.printSchema()",
   "id": "b54f8551cd316eca",
   "outputs": [
    {
     "name": "stdout",
     "output_type": "stream",
     "text": [
      "root\n",
      " |-- id: string (nullable = true)\n",
      " |-- title: string (nullable = true)\n",
      " |-- quote: string (nullable = true)\n",
      " |-- score: string (nullable = true)\n",
      " |-- date: string (nullable = true)\n",
      " |-- author: string (nullable = true)\n",
      " |-- publicationName: string (nullable = true)\n",
      " |-- review_type: string (nullable = true)\n",
      " |-- id: string (nullable = true)\n",
      " |-- title: string (nullable = true)\n",
      " |-- releaseDate: string (nullable = true)\n",
      " |-- rating: string (nullable = true)\n",
      " |-- genres: string (nullable = true)\n",
      " |-- description: string (nullable = true)\n",
      " |-- duration: string (nullable = true)\n",
      " |-- tagline: string (nullable = true)\n",
      " |-- metascore: string (nullable = true)\n",
      " |-- metascore_count: string (nullable = true)\n",
      " |-- metascore_sentiment: string (nullable = true)\n",
      " |-- userscore: string (nullable = true)\n",
      " |-- userscore_count: string (nullable = true)\n",
      " |-- userscore_sentiment: string (nullable = true)\n",
      " |-- production_companies: string (nullable = true)\n",
      " |-- director: string (nullable = true)\n",
      " |-- writer: string (nullable = true)\n",
      " |-- top_cast: string (nullable = true)\n",
      "\n"
     ]
    }
   ],
   "execution_count": 9
  },
  {
   "metadata": {
    "ExecuteTime": {
     "end_time": "2025-03-20T18:28:39.574894Z",
     "start_time": "2025-03-20T18:28:39.527603Z"
    }
   },
   "cell_type": "code",
   "source": [
    "joined_df = joined_df.withColumn(\n",
    "    'director_array',\n",
    "    F.split(F.col('director'), ',')\n",
    ")\n",
    "\n",
    "joined_df = joined_df.withColumn(\n",
    "    'director_single',\n",
    "    F.explode(F.col('director_array'))\n",
    ")"
   ],
   "id": "c0e8ee6e27693b63",
   "outputs": [],
   "execution_count": 10
  },
  {
   "metadata": {
    "ExecuteTime": {
     "end_time": "2025-03-20T18:28:39.594463Z",
     "start_time": "2025-03-20T18:28:39.586310Z"
    }
   },
   "cell_type": "code",
   "source": "spark",
   "id": "fc2dabc74af7494a",
   "outputs": [
    {
     "data": {
      "text/plain": [
       "<pyspark.sql.session.SparkSession at 0x1f8bb0abf90>"
      ],
      "text/html": [
       "\n",
       "            <div>\n",
       "                <p><b>SparkSession - in-memory</b></p>\n",
       "                \n",
       "        <div>\n",
       "            <p><b>SparkContext</b></p>\n",
       "\n",
       "            <p><a href=\"http://Zygimantas:4040\">Spark UI</a></p>\n",
       "\n",
       "            <dl>\n",
       "              <dt>Version</dt>\n",
       "                <dd><code>v3.5.5</code></dd>\n",
       "              <dt>Master</dt>\n",
       "                <dd><code>local[4]</code></dd>\n",
       "              <dt>AppName</dt>\n",
       "                <dd><code>Airport Traffic</code></dd>\n",
       "            </dl>\n",
       "        </div>\n",
       "        \n",
       "            </div>\n",
       "        "
      ]
     },
     "execution_count": 11,
     "metadata": {},
     "output_type": "execute_result"
    }
   ],
   "execution_count": 11
  },
  {
   "metadata": {
    "ExecuteTime": {
     "end_time": "2025-03-20T18:28:46.091378Z",
     "start_time": "2025-03-20T18:28:39.605745Z"
    }
   },
   "cell_type": "code",
   "source": [
    "joined_df.groupBy(\n",
    "    'director_single'\n",
    ").agg(\n",
    "    F.avg(F.col('userscore').cast('double')).alias('director_avg_score')\n",
    ").orderBy(\n",
    "    F.col('director_avg_score').desc()\n",
    ").show(5)"
   ],
   "id": "f7e5b26101c4f41b",
   "outputs": [
    {
     "name": "stdout",
     "output_type": "stream",
     "text": [
      "+-------------------+------------------+\n",
      "|    director_single|director_avg_score|\n",
      "+-------------------+------------------+\n",
      "|      Brian W. Cook|             100.0|\n",
      "|       Lev Anderson|             100.0|\n",
      "|Nikolaus Geyrhalter|              98.0|\n",
      "|   Milos Loncarevic|              98.0|\n",
      "|      Linnea Saasen|              98.0|\n",
      "+-------------------+------------------+\n",
      "only showing top 5 rows\n",
      "\n"
     ]
    }
   ],
   "execution_count": 12
  },
  {
   "metadata": {
    "ExecuteTime": {
     "end_time": "2025-03-20T18:41:04.309892Z",
     "start_time": "2025-03-20T18:41:04.200694Z"
    }
   },
   "cell_type": "code",
   "source": "joined_df.show(truncate=False, n=5)",
   "id": "d2576e5942b761dc",
   "outputs": [
    {
     "name": "stdout",
     "output_type": "stream",
     "text": [
      "+----------+--------------+---------------------------------------------------------------------------------------------------------------------------------------------------------------------------------------------------------------------------------------------------------------------------------------------------------------------------------------------------------------------------------------------------------------------------------------------------------------------------------------------------------------------------------------------------------------------------------------------------------------------------------------------------------------------------------------------------------------------------------------------------------------------------------------------------------------------------------------------------------------------------------------------------------------------------------------------------------------------------------------------------------------------------------------------------------------------------------------------------------------------------------------------------------------------------------------------------------------------------------------------------------------------------------------------------------------------------------------------------------------------------------------------------------------------------------------------------------------------------------------------------------------------------------------------------------------------------------------------------------------------------------------------------------------------------------+---------------------------------------------------------------------------------------+-----------------------------------------+--------------------------------------------------------------------+----------------------------------------------------------------------------------------------------------------------------------------------------------------+---------------------------------------------+----------+--------------+-----------+------+------+------------------------------------------------------------------------------------------------------------------------------------------------------------------------------------------------------------------------------------------------------------------------------------------------------------------------------------------------------------------------------------------------------------------------------------------------------------------------------------------------------------------------------------------------------------------------------------------------------------------------------------------------------------------------------------------------------------------------------------------------------------------------------------------------------------------------------------------------------------------------------------------------------------------------------------------------------------------------------------------------------------------------------+--------+-------+---------+---------------+-------------------+---------+---------------+-------------------+----------------------------------------------+--------------------------+----------+------------------------------+----------------------------+--------------------------+\n",
      "|id        |title         |quote                                                                                                                                                                                                                                                                                                                                                                                                                                                                                                                                                                                                                                                                                                                                                                                                                                                                                                                                                                                                                                                                                                                                                                                                                                                                                                                                                                                                                                                                                                                                                                                                                                                                            |score                                                                                  |date                                     |author                                                              |publicationName                                                                                                                                                 |review_type                                  |id        |title         |releaseDate|rating|genres|description                                                                                                                                                                                                                                                                                                                                                                                                                                                                                                                                                                                                                                                                                                                                                                                                                                                                                                                                                                                                                   |duration|tagline|metascore|metascore_count|metascore_sentiment|userscore|userscore_count|userscore_sentiment|production_companies                          |director                  |writer    |top_cast                      |director_array              |director_single           |\n",
      "+----------+--------------+---------------------------------------------------------------------------------------------------------------------------------------------------------------------------------------------------------------------------------------------------------------------------------------------------------------------------------------------------------------------------------------------------------------------------------------------------------------------------------------------------------------------------------------------------------------------------------------------------------------------------------------------------------------------------------------------------------------------------------------------------------------------------------------------------------------------------------------------------------------------------------------------------------------------------------------------------------------------------------------------------------------------------------------------------------------------------------------------------------------------------------------------------------------------------------------------------------------------------------------------------------------------------------------------------------------------------------------------------------------------------------------------------------------------------------------------------------------------------------------------------------------------------------------------------------------------------------------------------------------------------------------------------------------------------------+---------------------------------------------------------------------------------------+-----------------------------------------+--------------------------------------------------------------------+----------------------------------------------------------------------------------------------------------------------------------------------------------------+---------------------------------------------+----------+--------------+-----------+------+------+------------------------------------------------------------------------------------------------------------------------------------------------------------------------------------------------------------------------------------------------------------------------------------------------------------------------------------------------------------------------------------------------------------------------------------------------------------------------------------------------------------------------------------------------------------------------------------------------------------------------------------------------------------------------------------------------------------------------------------------------------------------------------------------------------------------------------------------------------------------------------------------------------------------------------------------------------------------------------------------------------------------------------+--------+-------+---------+---------------+-------------------+---------+---------------+-------------------+----------------------------------------------+--------------------------+----------+------------------------------+----------------------------+--------------------------+\n",
      "|2000545497|Dekalog (1988)|What a bitter pill to swallow when knowing the stakes from the jump. You walk around like everything is in control. The ten commandments reveal the character of God.                                                                                                                                                                                                                                                                                                                                                                                                                                                                                                                                                                                                                                                                                                                                                                                                                                                                                                                                                                                                                                                                                                                                                                                                                                                                                                                                                                                                                                                                                                            |100                                                                                    |2023-11-22                               |Siza                                                                |NULL                                                                                                                                                            |user                                         |2000545497|Dekalog (1988)|1996-03-22 |TV-MA |Drama |This masterwork by Krzysztof Kieślowski is one of the twentieth century’s greatest achievements in visual storytelling. Originally made for Polish television, Dekalog focuses on the residents of a housing complex in late-Communist Poland, whose lives become subtly intertwined as they face emotional dilemmas that are at once deeply personal and universally human. Its ten hour-long films, drawing from the Ten Commandments for thematic inspiration and an overarching structure, grapple deftly with complex moral and existential questions concerning life, death, love, hate, truth, and the passage of time. Shot by nine different cinematographers, with stirring music by Zbigniew Preisner and compelling performances from established and unknown actors alike, Dekalog arrestingly explores the unknowable forces that shape our lives. Also available are the longer theatrical versions of the series’ fifth and sixth films: A Short Film About Killing and A Short Film About Love. [Janus Films]|572     |NULL   |100.0    |13             |Universal acclaim  |78.0     |162.0          |Generally favorable|\"Telewizja Polska (TVP),Zespol Filmowy \"\"Tor\"\"|Sender Freies Berlin (SFB)|Janus Film|Facets Multimedia Distribution|[Sender Freies Berlin (SFB)]|Sender Freies Berlin (SFB)|\n",
      "|2000545497|Dekalog (1988)|The best 10 hours you will spend at movies and this Series.                                                                                                                                                                                                                                                                                                                                                                                                                                                                                                                                                                                                                                                                                                                                                                                                                                                                                                                                                                                                                                                                                                                                                                                                                                                                                                                                                                                                                                                                                                                                                                                                                      |NULL                                                                                   |NULL                                     |NULL                                                                |NULL                                                                                                                                                            |NULL                                         |2000545497|Dekalog (1988)|1996-03-22 |TV-MA |Drama |This masterwork by Krzysztof Kieślowski is one of the twentieth century’s greatest achievements in visual storytelling. Originally made for Polish television, Dekalog focuses on the residents of a housing complex in late-Communist Poland, whose lives become subtly intertwined as they face emotional dilemmas that are at once deeply personal and universally human. Its ten hour-long films, drawing from the Ten Commandments for thematic inspiration and an overarching structure, grapple deftly with complex moral and existential questions concerning life, death, love, hate, truth, and the passage of time. Shot by nine different cinematographers, with stirring music by Zbigniew Preisner and compelling performances from established and unknown actors alike, Dekalog arrestingly explores the unknowable forces that shape our lives. Also available are the longer theatrical versions of the series’ fifth and sixth films: A Short Film About Killing and A Short Film About Love. [Janus Films]|572     |NULL   |100.0    |13             |Universal acclaim  |78.0     |162.0          |Generally favorable|\"Telewizja Polska (TVP),Zespol Filmowy \"\"Tor\"\"|Sender Freies Berlin (SFB)|Janus Film|Facets Multimedia Distribution|[Sender Freies Berlin (SFB)]|Sender Freies Berlin (SFB)|\n",
      "|2000545497|Dekalog (1988)|Touching and human, Dekalog is a trip inside morality and common people's dilemes. Doesn't matter social class, culture or context, it's hard not to indentificate yourself or at least feel dismayed or thinkfull and for that reason, series is timeless too.                                                                                                                                                                                                                                                                                                                                                                                                                                                                                                                                                                                                                                                                                                                                                                                                                                                                                                                                                                                                                                                                                                                                                                                                                                                                                                                                                                                                                  |100                                                                                    |2019-12-05                               |Andremax                                                            |NULL                                                                                                                                                            |user                                         |2000545497|Dekalog (1988)|1996-03-22 |TV-MA |Drama |This masterwork by Krzysztof Kieślowski is one of the twentieth century’s greatest achievements in visual storytelling. Originally made for Polish television, Dekalog focuses on the residents of a housing complex in late-Communist Poland, whose lives become subtly intertwined as they face emotional dilemmas that are at once deeply personal and universally human. Its ten hour-long films, drawing from the Ten Commandments for thematic inspiration and an overarching structure, grapple deftly with complex moral and existential questions concerning life, death, love, hate, truth, and the passage of time. Shot by nine different cinematographers, with stirring music by Zbigniew Preisner and compelling performances from established and unknown actors alike, Dekalog arrestingly explores the unknowable forces that shape our lives. Also available are the longer theatrical versions of the series’ fifth and sixth films: A Short Film About Killing and A Short Film About Love. [Janus Films]|572     |NULL   |100.0    |13             |Universal acclaim  |78.0     |162.0          |Generally favorable|\"Telewizja Polska (TVP),Zespol Filmowy \"\"Tor\"\"|Sender Freies Berlin (SFB)|Janus Film|Facets Multimedia Distribution|[Sender Freies Berlin (SFB)]|Sender Freies Berlin (SFB)|\n",
      "|2000545497|Dekalog (1988)|\"Krzysztof Kieslowski's \"\"The Decalogue\"\" is one of the most powerful cinematic experiences you'll ever have                                                                                                                                                                                                                                                                                                                                                                                                                                                                                                                                                                                                                                                                                                                                                                                                                                                                                                                                                                                                                                                                                                                                                                                                                                                                                                                                                                                                                                                                                                                                                                     | and probably the best ensemble cast I've ever seen (if you consider them a single film| like I do). I used to think Mike Nichols| Ingmar Bergman and Robert Altman were the supreme actor's directors| but I might consider Kieslowski (1941-1996) my #1 for this project alone. It helps that all the actors are unknown to most of us and not famous Hollywood stars| and that makes the experience even more real|2000545497|Dekalog (1988)|1996-03-22 |TV-MA |Drama |This masterwork by Krzysztof Kieślowski is one of the twentieth century’s greatest achievements in visual storytelling. Originally made for Polish television, Dekalog focuses on the residents of a housing complex in late-Communist Poland, whose lives become subtly intertwined as they face emotional dilemmas that are at once deeply personal and universally human. Its ten hour-long films, drawing from the Ten Commandments for thematic inspiration and an overarching structure, grapple deftly with complex moral and existential questions concerning life, death, love, hate, truth, and the passage of time. Shot by nine different cinematographers, with stirring music by Zbigniew Preisner and compelling performances from established and unknown actors alike, Dekalog arrestingly explores the unknowable forces that shape our lives. Also available are the longer theatrical versions of the series’ fifth and sixth films: A Short Film About Killing and A Short Film About Love. [Janus Films]|572     |NULL   |100.0    |13             |Universal acclaim  |78.0     |162.0          |Generally favorable|\"Telewizja Polska (TVP),Zespol Filmowy \"\"Tor\"\"|Sender Freies Berlin (SFB)|Janus Film|Facets Multimedia Distribution|[Sender Freies Berlin (SFB)]|Sender Freies Berlin (SFB)|\n",
      "|2000545497|Dekalog (1988)|For me it is simply breathtaking what a tv series the dekalog is, I know it is classified as a movie but it really is a series consisting of 10 episodes. By far THE GOAT, no questions, THE GREATEST TV SHOW THAT WILL EVER GRACE THIS PLANET, please watch it. Sopranos does not scratch it, not the wire game of thrones or any **** thatyou might think is good like breaking bad, dexter, the boys, band of brothers, mad men. Utter **** when compared to this and utter **** in general except for band of brothers. How is it possible that a tv show with actors you have never heard of can get compared with great films. Usually if you know films you have an understanding that whatever the best tv show oat is, for an example the wire, it probably is worse than catch me if you can, a movie that doesn't come close to top 100. But oh my **** god, Ksistof you **** did it. I AM AN ATHEIST FOR **** SAKE, THIS SERIES IS CENTERED AROUND CHRISTIANITY, the dekalog will changeyour life if you understand it. The way it manages to critique society is unbelivable and I can only compare it to se7en, my favorite movie. But my god, is it a peice of art. If you are into stories or characters go ahead and watch **** fiction that you can binge and be happy and talk to your friends about who killed who, who kissed who or who betrayed who, but if you want to learn something about life and experience an art form that will change your life try to understamd the decalogue and watch THE GOAT of TV the dekalog. Please. When you include fiction and that means films, movies, tv shows and books, dekalog is top 10 for me, a masterpiece.|100                                                                                    |2024-10-31                               |Daki1105                                                            |NULL                                                                                                                                                            |user                                         |2000545497|Dekalog (1988)|1996-03-22 |TV-MA |Drama |This masterwork by Krzysztof Kieślowski is one of the twentieth century’s greatest achievements in visual storytelling. Originally made for Polish television, Dekalog focuses on the residents of a housing complex in late-Communist Poland, whose lives become subtly intertwined as they face emotional dilemmas that are at once deeply personal and universally human. Its ten hour-long films, drawing from the Ten Commandments for thematic inspiration and an overarching structure, grapple deftly with complex moral and existential questions concerning life, death, love, hate, truth, and the passage of time. Shot by nine different cinematographers, with stirring music by Zbigniew Preisner and compelling performances from established and unknown actors alike, Dekalog arrestingly explores the unknowable forces that shape our lives. Also available are the longer theatrical versions of the series’ fifth and sixth films: A Short Film About Killing and A Short Film About Love. [Janus Films]|572     |NULL   |100.0    |13             |Universal acclaim  |78.0     |162.0          |Generally favorable|\"Telewizja Polska (TVP),Zespol Filmowy \"\"Tor\"\"|Sender Freies Berlin (SFB)|Janus Film|Facets Multimedia Distribution|[Sender Freies Berlin (SFB)]|Sender Freies Berlin (SFB)|\n",
      "+----------+--------------+---------------------------------------------------------------------------------------------------------------------------------------------------------------------------------------------------------------------------------------------------------------------------------------------------------------------------------------------------------------------------------------------------------------------------------------------------------------------------------------------------------------------------------------------------------------------------------------------------------------------------------------------------------------------------------------------------------------------------------------------------------------------------------------------------------------------------------------------------------------------------------------------------------------------------------------------------------------------------------------------------------------------------------------------------------------------------------------------------------------------------------------------------------------------------------------------------------------------------------------------------------------------------------------------------------------------------------------------------------------------------------------------------------------------------------------------------------------------------------------------------------------------------------------------------------------------------------------------------------------------------------------------------------------------------------+---------------------------------------------------------------------------------------+-----------------------------------------+--------------------------------------------------------------------+----------------------------------------------------------------------------------------------------------------------------------------------------------------+---------------------------------------------+----------+--------------+-----------+------+------+------------------------------------------------------------------------------------------------------------------------------------------------------------------------------------------------------------------------------------------------------------------------------------------------------------------------------------------------------------------------------------------------------------------------------------------------------------------------------------------------------------------------------------------------------------------------------------------------------------------------------------------------------------------------------------------------------------------------------------------------------------------------------------------------------------------------------------------------------------------------------------------------------------------------------------------------------------------------------------------------------------------------------+--------+-------+---------+---------------+-------------------+---------+---------------+-------------------+----------------------------------------------+--------------------------+----------+------------------------------+----------------------------+--------------------------+\n",
      "only showing top 5 rows\n",
      "\n"
     ]
    }
   ],
   "execution_count": 16
  },
  {
   "metadata": {
    "ExecuteTime": {
     "end_time": "2025-03-20T18:52:12.897786Z",
     "start_time": "2025-03-20T18:51:47.164277Z"
    }
   },
   "cell_type": "code",
   "source": [
    "joined_df = joined_df.withColumn(\n",
    "    'genre_array',\n",
    "    F.split(F.col('genres'), ',')\n",
    ")\n",
    "\n",
    "joined_df = joined_df.withColumn(\n",
    "    'individual_genre',\n",
    "    F.explode(F.col('genre_array'))\n",
    ")\n",
    "\n",
    "joined_df = joined_df.withColumn(\n",
    "    'individual_genre',\n",
    "    F.trim(F.col('individual_genre'))\n",
    ")\n",
    "\n",
    "joined_df.groupBy(\n",
    "    'individual_genre'\n",
    ").agg(\n",
    "    F.avg(F.col('metascore').cast('double')).alias('genre_avg_score'),\n",
    "    F.avg('userscore').alias('genre_avg_userscore')\n",
    ").orderBy(\n",
    "    F.col('genre_avg_userscore').desc()\n",
    ").show(10)"
   ],
   "id": "7a3010b7f6854c4",
   "outputs": [
    {
     "name": "stdout",
     "output_type": "stream",
     "text": [
      "+----------------+------------------+-------------------+\n",
      "|individual_genre|   genre_avg_score|genre_avg_userscore|\n",
      "+----------------+------------------+-------------------+\n",
      "|       Animation| 68.47672736340759|  72.53455674147177|\n",
      "|          Family| 65.33807843876822|  70.41003572880197|\n",
      "|         Musical| 67.69222197005406|  68.36792928057201|\n",
      "|         Western| 66.10290581358218|  67.94736062925224|\n",
      "|           Music| 70.16306394716601|  67.89234303047621|\n",
      "|         Fantasy|63.837374181722254|  67.87679040230658|\n",
      "|       Adventure|63.424157898135014|  67.75998269462038|\n",
      "|       Film-Noir| 86.08825136612022|  67.47383879781421|\n",
      "|          Comedy|62.475037579835366|  66.42924035583839|\n",
      "|       Biography| 67.71024643280292|   66.2641447797247|\n",
      "+----------------+------------------+-------------------+\n",
      "only showing top 10 rows\n",
      "\n"
     ]
    }
   ],
   "execution_count": 27
  },
  {
   "metadata": {
    "ExecuteTime": {
     "end_time": "2025-03-20T19:04:44.888050Z",
     "start_time": "2025-03-20T19:04:44.856293Z"
    }
   },
   "cell_type": "code",
   "source": "joined_df.createOrReplaceTempView(\"movie_reviews\")",
   "id": "675afdf5651fe191",
   "outputs": [],
   "execution_count": 28
  },
  {
   "metadata": {
    "ExecuteTime": {
     "end_time": "2025-03-20T19:08:57.651664Z",
     "start_time": "2025-03-20T19:08:31.480506Z"
    }
   },
   "cell_type": "code",
   "source": [
    "spark.sql(\"\"\"\n",
    "    SELECT\n",
    "        avg(metascore) as meta_score,\n",
    "        avg(userscore) as user_score,\n",
    "        count(*) as review_count,\n",
    "        individual_genre\n",
    "    FROM\n",
    "        movie_reviews\n",
    "    GROUP BY\n",
    "        individual_genre\n",
    "\"\"\").show()"
   ],
   "id": "44b349216fcabf23",
   "outputs": [
    {
     "name": "stdout",
     "output_type": "stream",
     "text": [
      "+------------------+------------------+------------+----------------+\n",
      "|        meta_score|        user_score|review_count|individual_genre|\n",
      "+------------------+------------------+------------+----------------+\n",
      "|61.000996911707766| 65.21876955512982|     3082731|           Crime|\n",
      "| 62.50139281525923|62.029325889680365|     2249031|         Romance|\n",
      "| 59.81715914339128| 64.05089318977791|     4603316|        Thriller|\n",
      "|63.424157898135014| 67.75998269462038|     6426333|       Adventure|\n",
      "|              NULL|              NULL|          10|              99|\n",
      "| 65.36669922563719| 65.76451886434978|     6839816|           Drama|\n",
      "| 65.51107291160743| 64.66925575305906|      907357|             War|\n",
      "| 71.65365271750878| 53.99372289101932|      317838|     Documentary|\n",
      "| 65.33807843876822| 70.41003572880197|     4064537|          Family|\n",
      "|63.837374181722254| 67.87679040230658|     4399019|         Fantasy|\n",
      "|              82.0|               0.0|         144|       Game-Show|\n",
      "| 68.21889400921658| 37.15552995391705|        8248|         Unknown|\n",
      "| 69.91551981941532| 64.98273301947488|      935584|         History|\n",
      "|61.251794215575266| 64.67007812124031|     2565877|         Mystery|\n",
      "| 67.69222197005406| 68.36792928057201|      911305|         Musical|\n",
      "| 68.47672736340759| 72.53455674147177|     3244818|       Animation|\n",
      "| 70.16306394716601| 67.89234303047621|      915292|           Music|\n",
      "| 86.08825136612022| 67.47383879781421|       14640|       Film-Noir|\n",
      "|  56.5793947474145| 60.39849726016739|     1343264|          Horror|\n",
      "| 66.10290581358218| 67.94736062925224|      206780|         Western|\n",
      "+------------------+------------------+------------+----------------+\n",
      "only showing top 20 rows\n",
      "\n"
     ]
    }
   ],
   "execution_count": 32
  },
  {
   "metadata": {
    "ExecuteTime": {
     "end_time": "2025-03-20T19:17:02.504502Z",
     "start_time": "2025-03-20T19:17:02.354767Z"
    }
   },
   "cell_type": "code",
   "source": [
    "joined_df.withColumn(\n",
    "    'user_meta_score_diff',\n",
    "    F.abs(F.col('userscore') - F.col('metascore'))\n",
    ").show()"
   ],
   "id": "ae935726a5b829bf",
   "outputs": [
    {
     "name": "stdout",
     "output_type": "stream",
     "text": [
      "+----------+--------------+--------------------+--------------------+--------------------+--------------------+--------------------+--------------------+----------+--------------+-----------+------+------+--------------------+--------+-------+---------+---------------+-------------------+---------+---------------+-------------------+--------------------+--------------------+----------+--------------------+--------------------+--------------------+-----------+----------------+--------------------+\n",
      "|        id|         title|               quote|               score|                date|              author|     publicationName|         review_type|        id|         title|releaseDate|rating|genres|         description|duration|tagline|metascore|metascore_count|metascore_sentiment|userscore|userscore_count|userscore_sentiment|production_companies|            director|    writer|            top_cast|      director_array|     director_single|genre_array|individual_genre|user_meta_score_diff|\n",
      "+----------+--------------+--------------------+--------------------+--------------------+--------------------+--------------------+--------------------+----------+--------------+-----------+------+------+--------------------+--------+-------+---------+---------------+-------------------+---------+---------------+-------------------+--------------------+--------------------+----------+--------------------+--------------------+--------------------+-----------+----------------+--------------------+\n",
      "|2000545497|Dekalog (1988)|What a bitter pil...|                 100|          2023-11-22|                Siza|                NULL|                user|2000545497|Dekalog (1988)| 1996-03-22| TV-MA| Drama|This masterwork b...|     572|   NULL|    100.0|             13|  Universal acclaim|     78.0|          162.0|Generally favorable|\"Telewizja Polska...|Sender Freies Ber...|Janus Film|Facets Multimedia...|[Sender Freies Be...|Sender Freies Ber...|    [Drama]|           Drama|                22.0|\n",
      "|2000545497|Dekalog (1988)|The best 10 hours...|                NULL|                NULL|                NULL|                NULL|                NULL|2000545497|Dekalog (1988)| 1996-03-22| TV-MA| Drama|This masterwork b...|     572|   NULL|    100.0|             13|  Universal acclaim|     78.0|          162.0|Generally favorable|\"Telewizja Polska...|Sender Freies Ber...|Janus Film|Facets Multimedia...|[Sender Freies Be...|Sender Freies Ber...|    [Drama]|           Drama|                22.0|\n",
      "|2000545497|Dekalog (1988)|Touching and huma...|                 100|          2019-12-05|            Andremax|                NULL|                user|2000545497|Dekalog (1988)| 1996-03-22| TV-MA| Drama|This masterwork b...|     572|   NULL|    100.0|             13|  Universal acclaim|     78.0|          162.0|Generally favorable|\"Telewizja Polska...|Sender Freies Ber...|Janus Film|Facets Multimedia...|[Sender Freies Be...|Sender Freies Ber...|    [Drama]|           Drama|                22.0|\n",
      "|2000545497|Dekalog (1988)|\"Krzysztof Kieslo...| and probably the...| like I do). I us...| Ingmar Bergman a...| but I might cons...| and that makes t...|2000545497|Dekalog (1988)| 1996-03-22| TV-MA| Drama|This masterwork b...|     572|   NULL|    100.0|             13|  Universal acclaim|     78.0|          162.0|Generally favorable|\"Telewizja Polska...|Sender Freies Ber...|Janus Film|Facets Multimedia...|[Sender Freies Be...|Sender Freies Ber...|    [Drama]|           Drama|                22.0|\n",
      "|2000545497|Dekalog (1988)|For me it is simp...|                 100|          2024-10-31|            Daki1105|                NULL|                user|2000545497|Dekalog (1988)| 1996-03-22| TV-MA| Drama|This masterwork b...|     572|   NULL|    100.0|             13|  Universal acclaim|     78.0|          162.0|Generally favorable|\"Telewizja Polska...|Sender Freies Ber...|Janus Film|Facets Multimedia...|[Sender Freies Be...|Sender Freies Ber...|    [Drama]|           Drama|                22.0|\n",
      "|2000545497|Dekalog (1988)|The greatest seri...|                 100|          2019-08-04|            BeastJ18|                NULL|                user|2000545497|Dekalog (1988)| 1996-03-22| TV-MA| Drama|This masterwork b...|     572|   NULL|    100.0|             13|  Universal acclaim|     78.0|          162.0|Generally favorable|\"Telewizja Polska...|Sender Freies Ber...|Janus Film|Facets Multimedia...|[Sender Freies Be...|Sender Freies Ber...|    [Drama]|           Drama|                22.0|\n",
      "|2000545497|Dekalog (1988)|Not only is this ...|                 100|          2019-03-21|         benchwarmer|                NULL|                user|2000545497|Dekalog (1988)| 1996-03-22| TV-MA| Drama|This masterwork b...|     572|   NULL|    100.0|             13|  Universal acclaim|     78.0|          162.0|Generally favorable|\"Telewizja Polska...|Sender Freies Ber...|Janus Film|Facets Multimedia...|[Sender Freies Be...|Sender Freies Ber...|    [Drama]|           Drama|                22.0|\n",
      "|2000545497|Dekalog (1988)|Commandments reha...|                NULL|                NULL|                NULL|                NULL|                NULL|2000545497|Dekalog (1988)| 1996-03-22| TV-MA| Drama|This masterwork b...|     572|   NULL|    100.0|             13|  Universal acclaim|     78.0|          162.0|Generally favorable|\"Telewizja Polska...|Sender Freies Ber...|Janus Film|Facets Multimedia...|[Sender Freies Be...|Sender Freies Ber...|    [Drama]|           Drama|                22.0|\n",
      "|2000545497|Dekalog (1988)|The biblical root...|                NULL|                NULL|                NULL|                NULL|                NULL|2000545497|Dekalog (1988)| 1996-03-22| TV-MA| Drama|This masterwork b...|     572|   NULL|    100.0|             13|  Universal acclaim|     78.0|          162.0|Generally favorable|\"Telewizja Polska...|Sender Freies Ber...|Janus Film|Facets Multimedia...|[Sender Freies Be...|Sender Freies Ber...|    [Drama]|           Drama|                22.0|\n",
      "|2000545497|Dekalog (1988)|Throughout the hi...|                 100|                NULL|  James Berardinelli|           ReelViews|              critic|2000545497|Dekalog (1988)| 1996-03-22| TV-MA| Drama|This masterwork b...|     572|   NULL|    100.0|             13|  Universal acclaim|     78.0|          162.0|Generally favorable|\"Telewizja Polska...|Sender Freies Ber...|Janus Film|Facets Multimedia...|[Sender Freies Be...|Sender Freies Ber...|    [Drama]|           Drama|                22.0|\n",
      "|2000545497|Dekalog (1988)|They are adults, ...|                 100|                NULL|         Roger Ebert|   Chicago Sun-Times|              critic|2000545497|Dekalog (1988)| 1996-03-22| TV-MA| Drama|This masterwork b...|     572|   NULL|    100.0|             13|  Universal acclaim|     78.0|          162.0|Generally favorable|\"Telewizja Polska...|Sender Freies Ber...|Janus Film|Facets Multimedia...|[Sender Freies Be...|Sender Freies Ber...|    [Drama]|           Drama|                22.0|\n",
      "|2000545497|Dekalog (1988)|Being a pessimist...|                 100|                NULL|Staff [Not Credited]|             Variety|              critic|2000545497|Dekalog (1988)| 1996-03-22| TV-MA| Drama|This masterwork b...|     572|   NULL|    100.0|             13|  Universal acclaim|     78.0|          162.0|Generally favorable|\"Telewizja Polska...|Sender Freies Ber...|Janus Film|Facets Multimedia...|[Sender Freies Be...|Sender Freies Ber...|    [Drama]|           Drama|                22.0|\n",
      "|2000545497|Dekalog (1988)|Dekalog certainly...|                 100|                NULL|         Bilge Ebiri|       Village Voice|              critic|2000545497|Dekalog (1988)| 1996-03-22| TV-MA| Drama|This masterwork b...|     572|   NULL|    100.0|             13|  Universal acclaim|     78.0|          162.0|Generally favorable|\"Telewizja Polska...|Sender Freies Ber...|Janus Film|Facets Multimedia...|[Sender Freies Be...|Sender Freies Ber...|    [Drama]|           Drama|                22.0|\n",
      "|2000545497|Dekalog (1988)|Kieslowski's beau...|                 100|                NULL|  Michael Wilmington|     Chicago Tribune|              critic|2000545497|Dekalog (1988)| 1996-03-22| TV-MA| Drama|This masterwork b...|     572|   NULL|    100.0|             13|  Universal acclaim|     78.0|          162.0|Generally favorable|\"Telewizja Polska...|Sender Freies Ber...|Janus Film|Facets Multimedia...|[Sender Freies Be...|Sender Freies Ber...|    [Drama]|           Drama|                22.0|\n",
      "|2000545497|Dekalog (1988)|The Decalogue fin...|                 100|                NULL|        Scott Tobias|       The A.V. Club|              critic|2000545497|Dekalog (1988)| 1996-03-22| TV-MA| Drama|This masterwork b...|     572|   NULL|    100.0|             13|  Universal acclaim|     78.0|          162.0|Generally favorable|\"Telewizja Polska...|Sender Freies Ber...|Janus Film|Facets Multimedia...|[Sender Freies Be...|Sender Freies Ber...|    [Drama]|           Drama|                22.0|\n",
      "|2000545497|Dekalog (1988)|You have to see a...|                 100|                NULL|       Andrew Sarris|            Observer|              critic|2000545497|Dekalog (1988)| 1996-03-22| TV-MA| Drama|This masterwork b...|     572|   NULL|    100.0|             13|  Universal acclaim|     78.0|          162.0|Generally favorable|\"Telewizja Polska...|Sender Freies Ber...|Janus Film|Facets Multimedia...|[Sender Freies Be...|Sender Freies Ber...|    [Drama]|           Drama|                22.0|\n",
      "|2000545497|Dekalog (1988)|The profound plea...|                 100|                NULL|      Stephen Holden|  The New York Times|              critic|2000545497|Dekalog (1988)| 1996-03-22| TV-MA| Drama|This masterwork b...|     572|   NULL|    100.0|             13|  Universal acclaim|     78.0|          162.0|Generally favorable|\"Telewizja Polska...|Sender Freies Ber...|Janus Film|Facets Multimedia...|[Sender Freies Be...|Sender Freies Ber...|    [Drama]|           Drama|                22.0|\n",
      "|2000545497|Dekalog (1988)|The stories are s...|                 100|                NULL|    Lisa Schwarzbaum|Entertainment Weekly|              critic|2000545497|Dekalog (1988)| 1996-03-22| TV-MA| Drama|This masterwork b...|     572|   NULL|    100.0|             13|  Universal acclaim|     78.0|          162.0|Generally favorable|\"Telewizja Polska...|Sender Freies Ber...|Janus Film|Facets Multimedia...|[Sender Freies Be...|Sender Freies Ber...|    [Drama]|           Drama|                22.0|\n",
      "|2000545497|Dekalog (1988)|The great, unifyi...|                 100|                NULL|        Andrew Crump|        The Playlist|              critic|2000545497|Dekalog (1988)| 1996-03-22| TV-MA| Drama|This masterwork b...|     572|   NULL|    100.0|             13|  Universal acclaim|     78.0|          162.0|Generally favorable|\"Telewizja Polska...|Sender Freies Ber...|Janus Film|Facets Multimedia...|[Sender Freies Be...|Sender Freies Ber...|    [Drama]|           Drama|                22.0|\n",
      "|2000545497|Dekalog (1988)|For a biblically-...|                 100|                NULL|       David Ehrlich|           IndieWire|              critic|2000545497|Dekalog (1988)| 1996-03-22| TV-MA| Drama|This masterwork b...|     572|   NULL|    100.0|             13|  Universal acclaim|     78.0|          162.0|Generally favorable|\"Telewizja Polska...|Sender Freies Ber...|Janus Film|Facets Multimedia...|[Sender Freies Be...|Sender Freies Ber...|    [Drama]|           Drama|                22.0|\n",
      "+----------+--------------+--------------------+--------------------+--------------------+--------------------+--------------------+--------------------+----------+--------------+-----------+------+------+--------------------+--------+-------+---------+---------------+-------------------+---------+---------------+-------------------+--------------------+--------------------+----------+--------------------+--------------------+--------------------+-----------+----------------+--------------------+\n",
      "only showing top 20 rows\n",
      "\n"
     ]
    }
   ],
   "execution_count": 35
  }
 ],
 "metadata": {
  "kernelspec": {
   "display_name": "Python 3",
   "language": "python",
   "name": "python3"
  },
  "language_info": {
   "codemirror_mode": {
    "name": "ipython",
    "version": 2
   },
   "file_extension": ".py",
   "mimetype": "text/x-python",
   "name": "python",
   "nbconvert_exporter": "python",
   "pygments_lexer": "ipython2",
   "version": "2.7.6"
  }
 },
 "nbformat": 4,
 "nbformat_minor": 5
}
