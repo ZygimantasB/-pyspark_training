{
 "cells": [
  {
   "cell_type": "code",
   "id": "initial_id",
   "metadata": {
    "collapsed": true,
    "ExecuteTime": {
     "end_time": "2025-03-25T18:16:03.253570Z",
     "start_time": "2025-03-25T18:16:01.920157Z"
    }
   },
   "source": [
    "import os\n",
    "import math\n",
    "\n",
    "import altair as alt\n",
    "import pandas as pd\n",
    "\n",
    "import plotly.express as px\n",
    "import plotly.graph_objects as go\n",
    "\n",
    "import pyspark.sql.functions as F\n",
    "from pyspark.sql import SparkSession\n",
    "from pyspark.sql import Window"
   ],
   "outputs": [],
   "execution_count": 1
  },
  {
   "metadata": {
    "ExecuteTime": {
     "end_time": "2025-03-25T18:16:03.266485Z",
     "start_time": "2025-03-25T18:16:03.262897Z"
    }
   },
   "cell_type": "code",
   "source": [
    "os.environ['SPARK_HOME'] = r'C:\\spark\\spark-3.5.5-bin-hadoop3'\n",
    "os.environ['PYSPARK_DRIVER_PYTHON'] = 'jupyter'\n",
    "os.environ['PYSPARK_DRIVER_PYTHON_OPTS'] = 'lab'\n",
    "os.environ['PYSPARK_PYTHON'] = 'python'"
   ],
   "id": "b7a34d0da8a9a880",
   "outputs": [],
   "execution_count": 2
  },
  {
   "metadata": {
    "ExecuteTime": {
     "end_time": "2025-03-25T18:16:07.100879Z",
     "start_time": "2025-03-25T18:16:03.269291Z"
    }
   },
   "cell_type": "code",
   "source": [
    "spark = (\n",
    "    SparkSession.builder\n",
    "    .appName('Airport Traffic')\n",
    "    .master('local[4]')\n",
    "    .config('spark.executor.memory', '2g')\n",
    "    .config('spark.executor.cores', '2')\n",
    "    .config(\"spark.dynamicAllocation.enabled\", \"true\")\n",
    "    .config(\"spark.dynamicAllocation.minExecutors\", \"1\")\n",
    "    .config(\"spark.dynamicAllocation.maxExecutors\", \"4\")\n",
    "    .config('spark.executor.memoryOverhead', '512m')\n",
    "    .config(\"spark.driver.memory\", \"2g\")\n",
    "    .config(\"spark.driver.maxResultSize\", \"2g\")\n",
    "    .config('spark.sql.adaptive.enabled', 'true')\n",
    "    .config('spark.sql.adaptive.coalescePartitions.enabled', 'true')\n",
    "    .config('spark.sql.adaptive.advisoryPartitionSizeInBytes', '64mb')\n",
    "    .config(\"spark.serializer\", \"org.apache.spark.serializer.KryoSerializer\")\n",
    "    .config('spark.dynamicAllocation.executorIdleTimeout', '60s')\n",
    "    .config('spark.sql.autoBroadcastJoinThreshold', '512mb')\n",
    "    .getOrCreate()\n",
    ")"
   ],
   "id": "a7f67f4f51d64e96",
   "outputs": [],
   "execution_count": 3
  },
  {
   "metadata": {
    "ExecuteTime": {
     "end_time": "2025-03-25T18:16:07.373659Z",
     "start_time": "2025-03-25T18:16:07.370462Z"
    }
   },
   "cell_type": "code",
   "source": [
    "df_movies_path = \"F:\\Datasets\\CSV datasets\\movies\\movies.csv\"\n",
    "df_movies_reviews_path = \"F:\\Datasets\\CSV datasets\\movies\\movies_reviews.csv\""
   ],
   "id": "723c1f1e11978d5e",
   "outputs": [],
   "execution_count": 4
  },
  {
   "metadata": {
    "ExecuteTime": {
     "end_time": "2025-03-25T18:16:12.188136Z",
     "start_time": "2025-03-25T18:16:07.378913Z"
    }
   },
   "cell_type": "code",
   "source": "movies_df = spark.read.csv(df_movies_path, header=True, inferSchema=True)",
   "id": "1c1cd66d8616cd9b",
   "outputs": [],
   "execution_count": 5
  },
  {
   "metadata": {
    "ExecuteTime": {
     "end_time": "2025-03-25T18:16:12.275053Z",
     "start_time": "2025-03-25T18:16:12.245318Z"
    }
   },
   "cell_type": "code",
   "source": [
    "movies_df = movies_df.withColumnRenamed(\"title\", \"movie_title\")\n",
    "movies_df = movies_df.withColumnRenamed(\"id\", \"movie_id\")"
   ],
   "id": "5c1d118c7df84874",
   "outputs": [],
   "execution_count": 6
  },
  {
   "metadata": {
    "ExecuteTime": {
     "end_time": "2025-03-25T18:16:13.499875Z",
     "start_time": "2025-03-25T18:16:12.286933Z"
    }
   },
   "cell_type": "code",
   "source": "movies_reviews_df = spark.read.csv(df_movies_reviews_path, header=True, inferSchema=True)",
   "id": "7759133a79618ab2",
   "outputs": [],
   "execution_count": 7
  },
  {
   "metadata": {
    "ExecuteTime": {
     "end_time": "2025-03-25T18:16:13.566483Z",
     "start_time": "2025-03-25T18:16:13.511243Z"
    }
   },
   "cell_type": "code",
   "source": [
    "joined_df = movies_reviews_df.join(\n",
    "    F.broadcast(movies_df), movies_reviews_df.id == movies_df.movie_id, \"inner\"\n",
    ")\n"
   ],
   "id": "cbabe0532e995fc8",
   "outputs": [],
   "execution_count": 8
  },
  {
   "metadata": {
    "ExecuteTime": {
     "end_time": "2025-03-25T18:16:13.740256Z",
     "start_time": "2025-03-25T18:16:13.579710Z"
    }
   },
   "cell_type": "code",
   "source": "joined_df.cache()",
   "id": "20ec4c6d1fad3f72",
   "outputs": [
    {
     "data": {
      "text/plain": [
       "DataFrame[id: string, title: string, quote: string, score: string, date: string, author: string, publicationName: string, review_type: string, movie_id: string, movie_title: string, releaseDate: string, rating: string, genres: string, description: string, duration: string, tagline: string, metascore: string, metascore_count: string, metascore_sentiment: string, userscore: string, userscore_count: string, userscore_sentiment: string, production_companies: string, director: string, writer: string, top_cast: string]"
      ]
     },
     "execution_count": 9,
     "metadata": {},
     "output_type": "execute_result"
    }
   ],
   "execution_count": 9
  },
  {
   "metadata": {
    "ExecuteTime": {
     "end_time": "2025-03-25T18:16:13.757723Z",
     "start_time": "2025-03-25T18:16:13.749506Z"
    }
   },
   "cell_type": "code",
   "source": "joined_df.printSchema()",
   "id": "b54f8551cd316eca",
   "outputs": [
    {
     "name": "stdout",
     "output_type": "stream",
     "text": [
      "root\n",
      " |-- id: string (nullable = true)\n",
      " |-- title: string (nullable = true)\n",
      " |-- quote: string (nullable = true)\n",
      " |-- score: string (nullable = true)\n",
      " |-- date: string (nullable = true)\n",
      " |-- author: string (nullable = true)\n",
      " |-- publicationName: string (nullable = true)\n",
      " |-- review_type: string (nullable = true)\n",
      " |-- movie_id: string (nullable = true)\n",
      " |-- movie_title: string (nullable = true)\n",
      " |-- releaseDate: string (nullable = true)\n",
      " |-- rating: string (nullable = true)\n",
      " |-- genres: string (nullable = true)\n",
      " |-- description: string (nullable = true)\n",
      " |-- duration: string (nullable = true)\n",
      " |-- tagline: string (nullable = true)\n",
      " |-- metascore: string (nullable = true)\n",
      " |-- metascore_count: string (nullable = true)\n",
      " |-- metascore_sentiment: string (nullable = true)\n",
      " |-- userscore: string (nullable = true)\n",
      " |-- userscore_count: string (nullable = true)\n",
      " |-- userscore_sentiment: string (nullable = true)\n",
      " |-- production_companies: string (nullable = true)\n",
      " |-- director: string (nullable = true)\n",
      " |-- writer: string (nullable = true)\n",
      " |-- top_cast: string (nullable = true)\n",
      "\n"
     ]
    }
   ],
   "execution_count": 10
  },
  {
   "metadata": {
    "ExecuteTime": {
     "end_time": "2025-03-25T18:16:13.866073Z",
     "start_time": "2025-03-25T18:16:13.792829Z"
    }
   },
   "cell_type": "code",
   "source": [
    "joined_df = joined_df.withColumn(\n",
    "    'director_array',\n",
    "    F.split(F.col('director'), ',')\n",
    ")\n",
    "\n",
    "joined_df = joined_df.withColumn(\n",
    "    'director_single',\n",
    "    F.explode(F.col('director_array'))\n",
    ")"
   ],
   "id": "c0e8ee6e27693b63",
   "outputs": [],
   "execution_count": 11
  },
  {
   "metadata": {
    "ExecuteTime": {
     "end_time": "2025-03-25T18:16:13.891238Z",
     "start_time": "2025-03-25T18:16:13.879998Z"
    }
   },
   "cell_type": "code",
   "source": "spark",
   "id": "fc2dabc74af7494a",
   "outputs": [
    {
     "data": {
      "text/plain": [
       "<pyspark.sql.session.SparkSession at 0x1d43a4f3c50>"
      ],
      "text/html": [
       "\n",
       "            <div>\n",
       "                <p><b>SparkSession - in-memory</b></p>\n",
       "                \n",
       "        <div>\n",
       "            <p><b>SparkContext</b></p>\n",
       "\n",
       "            <p><a href=\"http://Zygimantas:4040\">Spark UI</a></p>\n",
       "\n",
       "            <dl>\n",
       "              <dt>Version</dt>\n",
       "                <dd><code>v3.5.5</code></dd>\n",
       "              <dt>Master</dt>\n",
       "                <dd><code>local[4]</code></dd>\n",
       "              <dt>AppName</dt>\n",
       "                <dd><code>Airport Traffic</code></dd>\n",
       "            </dl>\n",
       "        </div>\n",
       "        \n",
       "            </div>\n",
       "        "
      ]
     },
     "execution_count": 12,
     "metadata": {},
     "output_type": "execute_result"
    }
   ],
   "execution_count": 12
  },
  {
   "metadata": {
    "ExecuteTime": {
     "end_time": "2025-03-25T18:16:22.991119Z",
     "start_time": "2025-03-25T18:16:13.928145Z"
    }
   },
   "cell_type": "code",
   "source": [
    "joined_df.groupBy(\n",
    "    'director_single'\n",
    ").agg(\n",
    "    F.avg(F.col('userscore').cast('double')).alias('director_avg_score')\n",
    ").orderBy(\n",
    "    F.col('director_avg_score').desc()\n",
    ").show(5)"
   ],
   "id": "f7e5b26101c4f41b",
   "outputs": [
    {
     "name": "stdout",
     "output_type": "stream",
     "text": [
      "+-------------------+------------------+\n",
      "|    director_single|director_avg_score|\n",
      "+-------------------+------------------+\n",
      "|      Brian W. Cook|             100.0|\n",
      "|       Lev Anderson|             100.0|\n",
      "|Nikolaus Geyrhalter|              98.0|\n",
      "|   Milos Loncarevic|              98.0|\n",
      "|      Linnea Saasen|              98.0|\n",
      "+-------------------+------------------+\n",
      "only showing top 5 rows\n",
      "\n"
     ]
    }
   ],
   "execution_count": 13
  },
  {
   "metadata": {
    "ExecuteTime": {
     "end_time": "2025-03-25T18:16:23.319049Z",
     "start_time": "2025-03-25T18:16:23.012361Z"
    }
   },
   "cell_type": "code",
   "source": "joined_df.show(truncate=False, n=5)",
   "id": "d2576e5942b761dc",
   "outputs": [
    {
     "name": "stdout",
     "output_type": "stream",
     "text": [
      "+----------+--------------+---------------------------------------------------------------------------------------------------------------------------------------------------------------------------------------------------------------------------------------------------------------------------------------------------------------------------------------------------------------------------------------------------------------------------------------------------------------------------------------------------------------------------------------------------------------------------------------------------------------------------------------------------------------------------------------------------------------------------------------------------------------------------------------------------------------------------------------------------------------------------------------------------------------------------------------------------------------------------------------------------------------------------------------------------------------------------------------------------------------------------------------------------------------------------------------------------------------------------------------------------------------------------------------------------------------------------------------------------------------------------------------------------------------------------------------------------------------------------------------------------------------------------------------------------------------------------------------------------------------------------------------------------------------------------------+---------------------------------------------------------------------------------------+-----------------------------------------+--------------------------------------------------------------------+----------------------------------------------------------------------------------------------------------------------------------------------------------------+---------------------------------------------+----------+--------------+-----------+------+------+------------------------------------------------------------------------------------------------------------------------------------------------------------------------------------------------------------------------------------------------------------------------------------------------------------------------------------------------------------------------------------------------------------------------------------------------------------------------------------------------------------------------------------------------------------------------------------------------------------------------------------------------------------------------------------------------------------------------------------------------------------------------------------------------------------------------------------------------------------------------------------------------------------------------------------------------------------------------------------------------------------------------------+--------+-------+---------+---------------+-------------------+---------+---------------+-------------------+----------------------------------------------+--------------------------+----------+------------------------------+----------------------------+--------------------------+\n",
      "|id        |title         |quote                                                                                                                                                                                                                                                                                                                                                                                                                                                                                                                                                                                                                                                                                                                                                                                                                                                                                                                                                                                                                                                                                                                                                                                                                                                                                                                                                                                                                                                                                                                                                                                                                                                                            |score                                                                                  |date                                     |author                                                              |publicationName                                                                                                                                                 |review_type                                  |movie_id  |movie_title   |releaseDate|rating|genres|description                                                                                                                                                                                                                                                                                                                                                                                                                                                                                                                                                                                                                                                                                                                                                                                                                                                                                                                                                                                                                   |duration|tagline|metascore|metascore_count|metascore_sentiment|userscore|userscore_count|userscore_sentiment|production_companies                          |director                  |writer    |top_cast                      |director_array              |director_single           |\n",
      "+----------+--------------+---------------------------------------------------------------------------------------------------------------------------------------------------------------------------------------------------------------------------------------------------------------------------------------------------------------------------------------------------------------------------------------------------------------------------------------------------------------------------------------------------------------------------------------------------------------------------------------------------------------------------------------------------------------------------------------------------------------------------------------------------------------------------------------------------------------------------------------------------------------------------------------------------------------------------------------------------------------------------------------------------------------------------------------------------------------------------------------------------------------------------------------------------------------------------------------------------------------------------------------------------------------------------------------------------------------------------------------------------------------------------------------------------------------------------------------------------------------------------------------------------------------------------------------------------------------------------------------------------------------------------------------------------------------------------------+---------------------------------------------------------------------------------------+-----------------------------------------+--------------------------------------------------------------------+----------------------------------------------------------------------------------------------------------------------------------------------------------------+---------------------------------------------+----------+--------------+-----------+------+------+------------------------------------------------------------------------------------------------------------------------------------------------------------------------------------------------------------------------------------------------------------------------------------------------------------------------------------------------------------------------------------------------------------------------------------------------------------------------------------------------------------------------------------------------------------------------------------------------------------------------------------------------------------------------------------------------------------------------------------------------------------------------------------------------------------------------------------------------------------------------------------------------------------------------------------------------------------------------------------------------------------------------------+--------+-------+---------+---------------+-------------------+---------+---------------+-------------------+----------------------------------------------+--------------------------+----------+------------------------------+----------------------------+--------------------------+\n",
      "|2000545497|Dekalog (1988)|What a bitter pill to swallow when knowing the stakes from the jump. You walk around like everything is in control. The ten commandments reveal the character of God.                                                                                                                                                                                                                                                                                                                                                                                                                                                                                                                                                                                                                                                                                                                                                                                                                                                                                                                                                                                                                                                                                                                                                                                                                                                                                                                                                                                                                                                                                                            |100                                                                                    |2023-11-22                               |Siza                                                                |NULL                                                                                                                                                            |user                                         |2000545497|Dekalog (1988)|1996-03-22 |TV-MA |Drama |This masterwork by Krzysztof Kieślowski is one of the twentieth century’s greatest achievements in visual storytelling. Originally made for Polish television, Dekalog focuses on the residents of a housing complex in late-Communist Poland, whose lives become subtly intertwined as they face emotional dilemmas that are at once deeply personal and universally human. Its ten hour-long films, drawing from the Ten Commandments for thematic inspiration and an overarching structure, grapple deftly with complex moral and existential questions concerning life, death, love, hate, truth, and the passage of time. Shot by nine different cinematographers, with stirring music by Zbigniew Preisner and compelling performances from established and unknown actors alike, Dekalog arrestingly explores the unknowable forces that shape our lives. Also available are the longer theatrical versions of the series’ fifth and sixth films: A Short Film About Killing and A Short Film About Love. [Janus Films]|572     |NULL   |100.0    |13             |Universal acclaim  |78.0     |162.0          |Generally favorable|\"Telewizja Polska (TVP),Zespol Filmowy \"\"Tor\"\"|Sender Freies Berlin (SFB)|Janus Film|Facets Multimedia Distribution|[Sender Freies Berlin (SFB)]|Sender Freies Berlin (SFB)|\n",
      "|2000545497|Dekalog (1988)|The best 10 hours you will spend at movies and this Series.                                                                                                                                                                                                                                                                                                                                                                                                                                                                                                                                                                                                                                                                                                                                                                                                                                                                                                                                                                                                                                                                                                                                                                                                                                                                                                                                                                                                                                                                                                                                                                                                                      |NULL                                                                                   |NULL                                     |NULL                                                                |NULL                                                                                                                                                            |NULL                                         |2000545497|Dekalog (1988)|1996-03-22 |TV-MA |Drama |This masterwork by Krzysztof Kieślowski is one of the twentieth century’s greatest achievements in visual storytelling. Originally made for Polish television, Dekalog focuses on the residents of a housing complex in late-Communist Poland, whose lives become subtly intertwined as they face emotional dilemmas that are at once deeply personal and universally human. Its ten hour-long films, drawing from the Ten Commandments for thematic inspiration and an overarching structure, grapple deftly with complex moral and existential questions concerning life, death, love, hate, truth, and the passage of time. Shot by nine different cinematographers, with stirring music by Zbigniew Preisner and compelling performances from established and unknown actors alike, Dekalog arrestingly explores the unknowable forces that shape our lives. Also available are the longer theatrical versions of the series’ fifth and sixth films: A Short Film About Killing and A Short Film About Love. [Janus Films]|572     |NULL   |100.0    |13             |Universal acclaim  |78.0     |162.0          |Generally favorable|\"Telewizja Polska (TVP),Zespol Filmowy \"\"Tor\"\"|Sender Freies Berlin (SFB)|Janus Film|Facets Multimedia Distribution|[Sender Freies Berlin (SFB)]|Sender Freies Berlin (SFB)|\n",
      "|2000545497|Dekalog (1988)|Touching and human, Dekalog is a trip inside morality and common people's dilemes. Doesn't matter social class, culture or context, it's hard not to indentificate yourself or at least feel dismayed or thinkfull and for that reason, series is timeless too.                                                                                                                                                                                                                                                                                                                                                                                                                                                                                                                                                                                                                                                                                                                                                                                                                                                                                                                                                                                                                                                                                                                                                                                                                                                                                                                                                                                                                  |100                                                                                    |2019-12-05                               |Andremax                                                            |NULL                                                                                                                                                            |user                                         |2000545497|Dekalog (1988)|1996-03-22 |TV-MA |Drama |This masterwork by Krzysztof Kieślowski is one of the twentieth century’s greatest achievements in visual storytelling. Originally made for Polish television, Dekalog focuses on the residents of a housing complex in late-Communist Poland, whose lives become subtly intertwined as they face emotional dilemmas that are at once deeply personal and universally human. Its ten hour-long films, drawing from the Ten Commandments for thematic inspiration and an overarching structure, grapple deftly with complex moral and existential questions concerning life, death, love, hate, truth, and the passage of time. Shot by nine different cinematographers, with stirring music by Zbigniew Preisner and compelling performances from established and unknown actors alike, Dekalog arrestingly explores the unknowable forces that shape our lives. Also available are the longer theatrical versions of the series’ fifth and sixth films: A Short Film About Killing and A Short Film About Love. [Janus Films]|572     |NULL   |100.0    |13             |Universal acclaim  |78.0     |162.0          |Generally favorable|\"Telewizja Polska (TVP),Zespol Filmowy \"\"Tor\"\"|Sender Freies Berlin (SFB)|Janus Film|Facets Multimedia Distribution|[Sender Freies Berlin (SFB)]|Sender Freies Berlin (SFB)|\n",
      "|2000545497|Dekalog (1988)|\"Krzysztof Kieslowski's \"\"The Decalogue\"\" is one of the most powerful cinematic experiences you'll ever have                                                                                                                                                                                                                                                                                                                                                                                                                                                                                                                                                                                                                                                                                                                                                                                                                                                                                                                                                                                                                                                                                                                                                                                                                                                                                                                                                                                                                                                                                                                                                                     | and probably the best ensemble cast I've ever seen (if you consider them a single film| like I do). I used to think Mike Nichols| Ingmar Bergman and Robert Altman were the supreme actor's directors| but I might consider Kieslowski (1941-1996) my #1 for this project alone. It helps that all the actors are unknown to most of us and not famous Hollywood stars| and that makes the experience even more real|2000545497|Dekalog (1988)|1996-03-22 |TV-MA |Drama |This masterwork by Krzysztof Kieślowski is one of the twentieth century’s greatest achievements in visual storytelling. Originally made for Polish television, Dekalog focuses on the residents of a housing complex in late-Communist Poland, whose lives become subtly intertwined as they face emotional dilemmas that are at once deeply personal and universally human. Its ten hour-long films, drawing from the Ten Commandments for thematic inspiration and an overarching structure, grapple deftly with complex moral and existential questions concerning life, death, love, hate, truth, and the passage of time. Shot by nine different cinematographers, with stirring music by Zbigniew Preisner and compelling performances from established and unknown actors alike, Dekalog arrestingly explores the unknowable forces that shape our lives. Also available are the longer theatrical versions of the series’ fifth and sixth films: A Short Film About Killing and A Short Film About Love. [Janus Films]|572     |NULL   |100.0    |13             |Universal acclaim  |78.0     |162.0          |Generally favorable|\"Telewizja Polska (TVP),Zespol Filmowy \"\"Tor\"\"|Sender Freies Berlin (SFB)|Janus Film|Facets Multimedia Distribution|[Sender Freies Berlin (SFB)]|Sender Freies Berlin (SFB)|\n",
      "|2000545497|Dekalog (1988)|For me it is simply breathtaking what a tv series the dekalog is, I know it is classified as a movie but it really is a series consisting of 10 episodes. By far THE GOAT, no questions, THE GREATEST TV SHOW THAT WILL EVER GRACE THIS PLANET, please watch it. Sopranos does not scratch it, not the wire game of thrones or any **** thatyou might think is good like breaking bad, dexter, the boys, band of brothers, mad men. Utter **** when compared to this and utter **** in general except for band of brothers. How is it possible that a tv show with actors you have never heard of can get compared with great films. Usually if you know films you have an understanding that whatever the best tv show oat is, for an example the wire, it probably is worse than catch me if you can, a movie that doesn't come close to top 100. But oh my **** god, Ksistof you **** did it. I AM AN ATHEIST FOR **** SAKE, THIS SERIES IS CENTERED AROUND CHRISTIANITY, the dekalog will changeyour life if you understand it. The way it manages to critique society is unbelivable and I can only compare it to se7en, my favorite movie. But my god, is it a peice of art. If you are into stories or characters go ahead and watch **** fiction that you can binge and be happy and talk to your friends about who killed who, who kissed who or who betrayed who, but if you want to learn something about life and experience an art form that will change your life try to understamd the decalogue and watch THE GOAT of TV the dekalog. Please. When you include fiction and that means films, movies, tv shows and books, dekalog is top 10 for me, a masterpiece.|100                                                                                    |2024-10-31                               |Daki1105                                                            |NULL                                                                                                                                                            |user                                         |2000545497|Dekalog (1988)|1996-03-22 |TV-MA |Drama |This masterwork by Krzysztof Kieślowski is one of the twentieth century’s greatest achievements in visual storytelling. Originally made for Polish television, Dekalog focuses on the residents of a housing complex in late-Communist Poland, whose lives become subtly intertwined as they face emotional dilemmas that are at once deeply personal and universally human. Its ten hour-long films, drawing from the Ten Commandments for thematic inspiration and an overarching structure, grapple deftly with complex moral and existential questions concerning life, death, love, hate, truth, and the passage of time. Shot by nine different cinematographers, with stirring music by Zbigniew Preisner and compelling performances from established and unknown actors alike, Dekalog arrestingly explores the unknowable forces that shape our lives. Also available are the longer theatrical versions of the series’ fifth and sixth films: A Short Film About Killing and A Short Film About Love. [Janus Films]|572     |NULL   |100.0    |13             |Universal acclaim  |78.0     |162.0          |Generally favorable|\"Telewizja Polska (TVP),Zespol Filmowy \"\"Tor\"\"|Sender Freies Berlin (SFB)|Janus Film|Facets Multimedia Distribution|[Sender Freies Berlin (SFB)]|Sender Freies Berlin (SFB)|\n",
      "+----------+--------------+---------------------------------------------------------------------------------------------------------------------------------------------------------------------------------------------------------------------------------------------------------------------------------------------------------------------------------------------------------------------------------------------------------------------------------------------------------------------------------------------------------------------------------------------------------------------------------------------------------------------------------------------------------------------------------------------------------------------------------------------------------------------------------------------------------------------------------------------------------------------------------------------------------------------------------------------------------------------------------------------------------------------------------------------------------------------------------------------------------------------------------------------------------------------------------------------------------------------------------------------------------------------------------------------------------------------------------------------------------------------------------------------------------------------------------------------------------------------------------------------------------------------------------------------------------------------------------------------------------------------------------------------------------------------------------+---------------------------------------------------------------------------------------+-----------------------------------------+--------------------------------------------------------------------+----------------------------------------------------------------------------------------------------------------------------------------------------------------+---------------------------------------------+----------+--------------+-----------+------+------+------------------------------------------------------------------------------------------------------------------------------------------------------------------------------------------------------------------------------------------------------------------------------------------------------------------------------------------------------------------------------------------------------------------------------------------------------------------------------------------------------------------------------------------------------------------------------------------------------------------------------------------------------------------------------------------------------------------------------------------------------------------------------------------------------------------------------------------------------------------------------------------------------------------------------------------------------------------------------------------------------------------------------+--------+-------+---------+---------------+-------------------+---------+---------------+-------------------+----------------------------------------------+--------------------------+----------+------------------------------+----------------------------+--------------------------+\n",
      "only showing top 5 rows\n",
      "\n"
     ]
    }
   ],
   "execution_count": 14
  },
  {
   "metadata": {
    "ExecuteTime": {
     "end_time": "2025-03-25T18:16:25.717085Z",
     "start_time": "2025-03-25T18:16:23.334154Z"
    }
   },
   "cell_type": "code",
   "source": [
    "joined_df = joined_df.withColumn(\n",
    "    'genre_array',\n",
    "    F.split(F.col('genres'), ',')\n",
    ")\n",
    "\n",
    "joined_df = joined_df.withColumn(\n",
    "    'individual_genre',\n",
    "    F.explode(F.col('genre_array'))\n",
    ")\n",
    "\n",
    "joined_df = joined_df.withColumn(\n",
    "    'individual_genre',\n",
    "    F.trim(F.col('individual_genre'))\n",
    ")\n",
    "\n",
    "joined_df.groupBy(\n",
    "    'individual_genre'\n",
    ").agg(\n",
    "    F.avg(F.col('metascore').cast('double')).alias('genre_avg_score'),\n",
    "    F.avg('userscore').alias('genre_avg_userscore')\n",
    ").orderBy(\n",
    "    F.col('genre_avg_userscore').desc()\n",
    ").show(10)"
   ],
   "id": "7a3010b7f6854c4",
   "outputs": [
    {
     "name": "stdout",
     "output_type": "stream",
     "text": [
      "+----------------+------------------+-------------------+\n",
      "|individual_genre|   genre_avg_score|genre_avg_userscore|\n",
      "+----------------+------------------+-------------------+\n",
      "|       Animation| 67.91979687116061|  72.26846910563879|\n",
      "|          Family|62.955282400403426|  68.50639849213829|\n",
      "|       Film-Noir| 85.96273291925466|  67.24596273291925|\n",
      "|         Western| 66.97849462365592|  67.04609634551495|\n",
      "|         Musical| 67.12175505653767|   66.5977772523055|\n",
      "|       Adventure| 62.53759002326157|  66.49965046596503|\n",
      "|         Fantasy| 61.89928556620473|  66.23475985708414|\n",
      "|           Crime| 61.68818103199769|  65.38917786034105|\n",
      "|          Sci-Fi|  61.7940662268872|  65.32193857431912|\n",
      "|          Action| 59.69993538660349|  64.81016024938273|\n",
      "+----------------+------------------+-------------------+\n",
      "only showing top 10 rows\n",
      "\n"
     ]
    }
   ],
   "execution_count": 15
  },
  {
   "metadata": {
    "ExecuteTime": {
     "end_time": "2025-03-25T18:16:25.826761Z",
     "start_time": "2025-03-25T18:16:25.740768Z"
    }
   },
   "cell_type": "code",
   "source": "joined_df.createOrReplaceTempView(\"movie_reviews\")",
   "id": "675afdf5651fe191",
   "outputs": [],
   "execution_count": 16
  },
  {
   "metadata": {
    "ExecuteTime": {
     "end_time": "2025-03-25T18:16:28.048651Z",
     "start_time": "2025-03-25T18:16:25.886166Z"
    }
   },
   "cell_type": "code",
   "source": [
    "spark.sql(\"\"\"\n",
    "    SELECT\n",
    "        avg(metascore) as meta_score,\n",
    "        avg(userscore) as user_score,\n",
    "        count(*) as review_count,\n",
    "        individual_genre\n",
    "    FROM\n",
    "        movie_reviews\n",
    "    GROUP BY\n",
    "        individual_genre\n",
    "\"\"\").show()"
   ],
   "id": "44b349216fcabf23",
   "outputs": [
    {
     "name": "stdout",
     "output_type": "stream",
     "text": [
      "+------------------+------------------+------------+----------------+\n",
      "|        meta_score|        user_score|review_count|individual_genre|\n",
      "+------------------+------------------+------------+----------------+\n",
      "| 61.68818103199769| 65.38917786034105|      216964|           Crime|\n",
      "| 61.65832553097127|60.013149924773835|      171193|         Romance|\n",
      "| 59.77647552176858|  64.1515089821001|      333072|        Thriller|\n",
      "| 62.53759002326157| 66.49965046596503|      335687|       Adventure|\n",
      "|              NULL|              NULL|          10|              99|\n",
      "| 66.32661346016418| 63.78408013311783|      538216|           Drama|\n",
      "| 67.36993859940259| 64.38319638455218|       51111|             War|\n",
      "| 71.14466546112116| 47.35067027728666|       59740|     Documentary|\n",
      "|62.955282400403426| 68.50639849213829|      151349|          Family|\n",
      "| 61.89928556620473| 66.23475985708414|      189629|         Fantasy|\n",
      "|              82.0|               0.0|           9|       Game-Show|\n",
      "|  67.8639455782313|40.605442176870746|         696|         Unknown|\n",
      "| 70.67103954240238| 62.96535796766744|       52972|         History|\n",
      "| 60.41536793603469| 63.63191986971482|      162405|         Mystery|\n",
      "| 67.12175505653767|  66.5977772523055|       33163|         Musical|\n",
      "| 67.91979687116061| 72.26846910563879|       93741|       Animation|\n",
      "|  68.3819052030261| 64.33944841549835|       53618|           Music|\n",
      "| 85.96273291925466| 67.24596273291925|         805|       Film-Noir|\n",
      "| 56.44475971903471| 60.91426826899059|      129162|          Horror|\n",
      "| 66.97849462365592| 67.04609634551495|       12828|         Western|\n",
      "+------------------+------------------+------------+----------------+\n",
      "only showing top 20 rows\n",
      "\n"
     ]
    }
   ],
   "execution_count": 17
  },
  {
   "metadata": {
    "ExecuteTime": {
     "end_time": "2025-03-25T18:16:33.159887Z",
     "start_time": "2025-03-25T18:16:28.057626Z"
    }
   },
   "cell_type": "code",
   "source": [
    "joined_df = joined_df.withColumn(\"normalized_metascore\", F.col(\"metascore\").cast(\"double\"))\n",
    "joined_df = joined_df.withColumn(\"normalized_userscore\", F.col(\"userscore\").cast(\"double\") * 10)\n",
    "\n",
    "joined_df = joined_df.withColumn(\"score_difference\", F.abs(F.col(\"normalized_metascore\") - F.col\n",
    "(\"normalized_userscore\")))\n",
    "\n",
    "result_df = joined_df.orderBy(F.col(\"score_difference\").desc())\n",
    "result_df.show(10)"
   ],
   "id": "ae935726a5b829bf",
   "outputs": [
    {
     "name": "stdout",
     "output_type": "stream",
     "text": [
      "+----------+----------------+--------------------+-----+----+------------------+--------------------+-----------+----------+----------------+-----------+---------+------------+--------------------+--------+--------------------+---------+---------------+-------------------+---------+---------------+-------------------+--------------------+-------------+--------------+--------------------+---------------+---------------+---------------+----------------+--------------------+--------------------+----------------+\n",
      "|        id|           title|               quote|score|date|            author|     publicationName|review_type|  movie_id|     movie_title|releaseDate|   rating|      genres|         description|duration|             tagline|metascore|metascore_count|metascore_sentiment|userscore|userscore_count|userscore_sentiment|production_companies|     director|        writer|            top_cast| director_array|director_single|    genre_array|individual_genre|normalized_metascore|normalized_userscore|score_difference|\n",
      "+----------+----------------+--------------------+-----+----+------------------+--------------------+-----------+----------+----------------+-----------+---------+------------+--------------------+--------+--------------------+---------+---------------+-------------------+---------+---------------+-------------------+--------------------+-------------+--------------+--------------------+---------------+---------------+---------------+----------------+--------------------+--------------------+----------------+\n",
      "|2000518279|Color Me Kubrick|\"Color Me Kubrick...|   83|NULL|      Peter Rainer|Christian Science...|     critic|2000518279|Color Me Kubrick| 2007-03-23|Not Rated|Comedy,Drama|John Malkovich st...|      86|The true ... ish ...|     57.0|             21|   Mixed or average|    100.0|            4.0|  Universal acclaim|Colour Me K Produ...|Brian W. Cook|Anthony Frewin|John Malkovich,Ji...|[Brian W. Cook]|  Brian W. Cook|[Comedy, Drama]|           Drama|                57.0|              1000.0|           943.0|\n",
      "|2000518279|Color Me Kubrick|The filmmakers ha...|   75|NULL|       Ruthe Stein|San Francisco Chr...|     critic|2000518279|Color Me Kubrick| 2007-03-23|Not Rated|Comedy,Drama|John Malkovich st...|      86|The true ... ish ...|     57.0|             21|   Mixed or average|    100.0|            4.0|  Universal acclaim|Colour Me K Produ...|Brian W. Cook|Anthony Frewin|John Malkovich,Ji...|[Brian W. Cook]|  Brian W. Cook|[Comedy, Drama]|           Drama|                57.0|              1000.0|           943.0|\n",
      "|2000518279|Color Me Kubrick|A sly, enormously...|   80|NULL|    Lisa Nesselson|             Variety|     critic|2000518279|Color Me Kubrick| 2007-03-23|Not Rated|Comedy,Drama|John Malkovich st...|      86|The true ... ish ...|     57.0|             21|   Mixed or average|    100.0|            4.0|  Universal acclaim|Colour Me K Produ...|Brian W. Cook|Anthony Frewin|John Malkovich,Ji...|[Brian W. Cook]|  Brian W. Cook|[Comedy, Drama]|          Comedy|                57.0|              1000.0|           943.0|\n",
      "|2000518279|Color Me Kubrick|In Color Me Kubri...|   75|NULL|Michael Wilmington|     Chicago Tribune|     critic|2000518279|Color Me Kubrick| 2007-03-23|Not Rated|Comedy,Drama|John Malkovich st...|      86|The true ... ish ...|     57.0|             21|   Mixed or average|    100.0|            4.0|  Universal acclaim|Colour Me K Produ...|Brian W. Cook|Anthony Frewin|John Malkovich,Ji...|[Brian W. Cook]|  Brian W. Cook|[Comedy, Drama]|          Comedy|                57.0|              1000.0|           943.0|\n",
      "|2000518279|Color Me Kubrick|In Color Me Kubri...|   75|NULL|Michael Wilmington|     Chicago Tribune|     critic|2000518279|Color Me Kubrick| 2007-03-23|Not Rated|Comedy,Drama|John Malkovich st...|      86|The true ... ish ...|     57.0|             21|   Mixed or average|    100.0|            4.0|  Universal acclaim|Colour Me K Produ...|Brian W. Cook|Anthony Frewin|John Malkovich,Ji...|[Brian W. Cook]|  Brian W. Cook|[Comedy, Drama]|           Drama|                57.0|              1000.0|           943.0|\n",
      "|2000518279|Color Me Kubrick|\"Color Me Kubrick...|   83|NULL|      Peter Rainer|Christian Science...|     critic|2000518279|Color Me Kubrick| 2007-03-23|Not Rated|Comedy,Drama|John Malkovich st...|      86|The true ... ish ...|     57.0|             21|   Mixed or average|    100.0|            4.0|  Universal acclaim|Colour Me K Produ...|Brian W. Cook|Anthony Frewin|John Malkovich,Ji...|[Brian W. Cook]|  Brian W. Cook|[Comedy, Drama]|          Comedy|                57.0|              1000.0|           943.0|\n",
      "|2000518279|Color Me Kubrick|The film reveals,...|   75|NULL|   Owen Gleiberman|Entertainment Weekly|     critic|2000518279|Color Me Kubrick| 2007-03-23|Not Rated|Comedy,Drama|John Malkovich st...|      86|The true ... ish ...|     57.0|             21|   Mixed or average|    100.0|            4.0|  Universal acclaim|Colour Me K Produ...|Brian W. Cook|Anthony Frewin|John Malkovich,Ji...|[Brian W. Cook]|  Brian W. Cook|[Comedy, Drama]|          Comedy|                57.0|              1000.0|           943.0|\n",
      "|2000518279|Color Me Kubrick|Color Me Kubrick ...|   80|NULL|    Stephen Hunter|     Washington Post|     critic|2000518279|Color Me Kubrick| 2007-03-23|Not Rated|Comedy,Drama|John Malkovich st...|      86|The true ... ish ...|     57.0|             21|   Mixed or average|    100.0|            4.0|  Universal acclaim|Colour Me K Produ...|Brian W. Cook|Anthony Frewin|John Malkovich,Ji...|[Brian W. Cook]|  Brian W. Cook|[Comedy, Drama]|          Comedy|                57.0|              1000.0|           943.0|\n",
      "|2000518279|Color Me Kubrick|The film reveals,...|   75|NULL|   Owen Gleiberman|Entertainment Weekly|     critic|2000518279|Color Me Kubrick| 2007-03-23|Not Rated|Comedy,Drama|John Malkovich st...|      86|The true ... ish ...|     57.0|             21|   Mixed or average|    100.0|            4.0|  Universal acclaim|Colour Me K Produ...|Brian W. Cook|Anthony Frewin|John Malkovich,Ji...|[Brian W. Cook]|  Brian W. Cook|[Comedy, Drama]|           Drama|                57.0|              1000.0|           943.0|\n",
      "|2000518279|Color Me Kubrick|The filmmakers ha...|   75|NULL|       Ruthe Stein|San Francisco Chr...|     critic|2000518279|Color Me Kubrick| 2007-03-23|Not Rated|Comedy,Drama|John Malkovich st...|      86|The true ... ish ...|     57.0|             21|   Mixed or average|    100.0|            4.0|  Universal acclaim|Colour Me K Produ...|Brian W. Cook|Anthony Frewin|John Malkovich,Ji...|[Brian W. Cook]|  Brian W. Cook|[Comedy, Drama]|          Comedy|                57.0|              1000.0|           943.0|\n",
      "+----------+----------------+--------------------+-----+----+------------------+--------------------+-----------+----------+----------------+-----------+---------+------------+--------------------+--------+--------------------+---------+---------------+-------------------+---------+---------------+-------------------+--------------------+-------------+--------------+--------------------+---------------+---------------+---------------+----------------+--------------------+--------------------+----------------+\n",
      "only showing top 10 rows\n",
      "\n"
     ]
    }
   ],
   "execution_count": 18
  },
  {
   "metadata": {
    "ExecuteTime": {
     "end_time": "2025-03-25T18:16:34.873625Z",
     "start_time": "2025-03-25T18:16:33.171610Z"
    }
   },
   "cell_type": "code",
   "source": [
    "max_diff = joined_df.agg({\"score_difference\": \"max\"}).collect()[0][0]\n",
    "movies_with_max_diff = joined_df.filter(F.col(\"score_difference\") == F.lit(max_diff))\n",
    "movies_with_max_diff.show()"
   ],
   "id": "b7ab50f0854e5742",
   "outputs": [
    {
     "name": "stdout",
     "output_type": "stream",
     "text": [
      "+----------+----------------+--------------------+-----+----+------------------+--------------------+-----------+----------+----------------+-----------+---------+------------+--------------------+--------+--------------------+---------+---------------+-------------------+---------+---------------+-------------------+--------------------+-------------+--------------+--------------------+---------------+---------------+---------------+----------------+--------------------+--------------------+----------------+\n",
      "|        id|           title|               quote|score|date|            author|     publicationName|review_type|  movie_id|     movie_title|releaseDate|   rating|      genres|         description|duration|             tagline|metascore|metascore_count|metascore_sentiment|userscore|userscore_count|userscore_sentiment|production_companies|     director|        writer|            top_cast| director_array|director_single|    genre_array|individual_genre|normalized_metascore|normalized_userscore|score_difference|\n",
      "+----------+----------------+--------------------+-----+----+------------------+--------------------+-----------+----------+----------------+-----------+---------+------------+--------------------+--------+--------------------+---------+---------------+-------------------+---------+---------------+-------------------+--------------------+-------------+--------------+--------------------+---------------+---------------+---------------+----------------+--------------------+--------------------+----------------+\n",
      "|2000518279|Color Me Kubrick|\"Color Me Kubrick...|   83|NULL|      Peter Rainer|Christian Science...|     critic|2000518279|Color Me Kubrick| 2007-03-23|Not Rated|Comedy,Drama|John Malkovich st...|      86|The true ... ish ...|     57.0|             21|   Mixed or average|    100.0|            4.0|  Universal acclaim|Colour Me K Produ...|Brian W. Cook|Anthony Frewin|John Malkovich,Ji...|[Brian W. Cook]|  Brian W. Cook|[Comedy, Drama]|          Comedy|                57.0|              1000.0|           943.0|\n",
      "|2000518279|Color Me Kubrick|\"Color Me Kubrick...|   83|NULL|      Peter Rainer|Christian Science...|     critic|2000518279|Color Me Kubrick| 2007-03-23|Not Rated|Comedy,Drama|John Malkovich st...|      86|The true ... ish ...|     57.0|             21|   Mixed or average|    100.0|            4.0|  Universal acclaim|Colour Me K Produ...|Brian W. Cook|Anthony Frewin|John Malkovich,Ji...|[Brian W. Cook]|  Brian W. Cook|[Comedy, Drama]|           Drama|                57.0|              1000.0|           943.0|\n",
      "|2000518279|Color Me Kubrick|A sly, enormously...|   80|NULL|    Lisa Nesselson|             Variety|     critic|2000518279|Color Me Kubrick| 2007-03-23|Not Rated|Comedy,Drama|John Malkovich st...|      86|The true ... ish ...|     57.0|             21|   Mixed or average|    100.0|            4.0|  Universal acclaim|Colour Me K Produ...|Brian W. Cook|Anthony Frewin|John Malkovich,Ji...|[Brian W. Cook]|  Brian W. Cook|[Comedy, Drama]|          Comedy|                57.0|              1000.0|           943.0|\n",
      "|2000518279|Color Me Kubrick|A sly, enormously...|   80|NULL|    Lisa Nesselson|             Variety|     critic|2000518279|Color Me Kubrick| 2007-03-23|Not Rated|Comedy,Drama|John Malkovich st...|      86|The true ... ish ...|     57.0|             21|   Mixed or average|    100.0|            4.0|  Universal acclaim|Colour Me K Produ...|Brian W. Cook|Anthony Frewin|John Malkovich,Ji...|[Brian W. Cook]|  Brian W. Cook|[Comedy, Drama]|           Drama|                57.0|              1000.0|           943.0|\n",
      "|2000518279|Color Me Kubrick|Color Me Kubrick ...|   80|NULL|    Stephen Hunter|     Washington Post|     critic|2000518279|Color Me Kubrick| 2007-03-23|Not Rated|Comedy,Drama|John Malkovich st...|      86|The true ... ish ...|     57.0|             21|   Mixed or average|    100.0|            4.0|  Universal acclaim|Colour Me K Produ...|Brian W. Cook|Anthony Frewin|John Malkovich,Ji...|[Brian W. Cook]|  Brian W. Cook|[Comedy, Drama]|          Comedy|                57.0|              1000.0|           943.0|\n",
      "|2000518279|Color Me Kubrick|Color Me Kubrick ...|   80|NULL|    Stephen Hunter|     Washington Post|     critic|2000518279|Color Me Kubrick| 2007-03-23|Not Rated|Comedy,Drama|John Malkovich st...|      86|The true ... ish ...|     57.0|             21|   Mixed or average|    100.0|            4.0|  Universal acclaim|Colour Me K Produ...|Brian W. Cook|Anthony Frewin|John Malkovich,Ji...|[Brian W. Cook]|  Brian W. Cook|[Comedy, Drama]|           Drama|                57.0|              1000.0|           943.0|\n",
      "|2000518279|Color Me Kubrick|In Color Me Kubri...|   75|NULL|Michael Wilmington|     Chicago Tribune|     critic|2000518279|Color Me Kubrick| 2007-03-23|Not Rated|Comedy,Drama|John Malkovich st...|      86|The true ... ish ...|     57.0|             21|   Mixed or average|    100.0|            4.0|  Universal acclaim|Colour Me K Produ...|Brian W. Cook|Anthony Frewin|John Malkovich,Ji...|[Brian W. Cook]|  Brian W. Cook|[Comedy, Drama]|          Comedy|                57.0|              1000.0|           943.0|\n",
      "|2000518279|Color Me Kubrick|In Color Me Kubri...|   75|NULL|Michael Wilmington|     Chicago Tribune|     critic|2000518279|Color Me Kubrick| 2007-03-23|Not Rated|Comedy,Drama|John Malkovich st...|      86|The true ... ish ...|     57.0|             21|   Mixed or average|    100.0|            4.0|  Universal acclaim|Colour Me K Produ...|Brian W. Cook|Anthony Frewin|John Malkovich,Ji...|[Brian W. Cook]|  Brian W. Cook|[Comedy, Drama]|           Drama|                57.0|              1000.0|           943.0|\n",
      "|2000518279|Color Me Kubrick|The film reveals,...|   75|NULL|   Owen Gleiberman|Entertainment Weekly|     critic|2000518279|Color Me Kubrick| 2007-03-23|Not Rated|Comedy,Drama|John Malkovich st...|      86|The true ... ish ...|     57.0|             21|   Mixed or average|    100.0|            4.0|  Universal acclaim|Colour Me K Produ...|Brian W. Cook|Anthony Frewin|John Malkovich,Ji...|[Brian W. Cook]|  Brian W. Cook|[Comedy, Drama]|          Comedy|                57.0|              1000.0|           943.0|\n",
      "|2000518279|Color Me Kubrick|The film reveals,...|   75|NULL|   Owen Gleiberman|Entertainment Weekly|     critic|2000518279|Color Me Kubrick| 2007-03-23|Not Rated|Comedy,Drama|John Malkovich st...|      86|The true ... ish ...|     57.0|             21|   Mixed or average|    100.0|            4.0|  Universal acclaim|Colour Me K Produ...|Brian W. Cook|Anthony Frewin|John Malkovich,Ji...|[Brian W. Cook]|  Brian W. Cook|[Comedy, Drama]|           Drama|                57.0|              1000.0|           943.0|\n",
      "|2000518279|Color Me Kubrick|The filmmakers ha...|   75|NULL|       Ruthe Stein|San Francisco Chr...|     critic|2000518279|Color Me Kubrick| 2007-03-23|Not Rated|Comedy,Drama|John Malkovich st...|      86|The true ... ish ...|     57.0|             21|   Mixed or average|    100.0|            4.0|  Universal acclaim|Colour Me K Produ...|Brian W. Cook|Anthony Frewin|John Malkovich,Ji...|[Brian W. Cook]|  Brian W. Cook|[Comedy, Drama]|          Comedy|                57.0|              1000.0|           943.0|\n",
      "|2000518279|Color Me Kubrick|The filmmakers ha...|   75|NULL|       Ruthe Stein|San Francisco Chr...|     critic|2000518279|Color Me Kubrick| 2007-03-23|Not Rated|Comedy,Drama|John Malkovich st...|      86|The true ... ish ...|     57.0|             21|   Mixed or average|    100.0|            4.0|  Universal acclaim|Colour Me K Produ...|Brian W. Cook|Anthony Frewin|John Malkovich,Ji...|[Brian W. Cook]|  Brian W. Cook|[Comedy, Drama]|           Drama|                57.0|              1000.0|           943.0|\n",
      "|2000518279|Color Me Kubrick|Scarcely an insig...|   70|NULL|       Ed Gonzalez|   Los Angeles Times|     critic|2000518279|Color Me Kubrick| 2007-03-23|Not Rated|Comedy,Drama|John Malkovich st...|      86|The true ... ish ...|     57.0|             21|   Mixed or average|    100.0|            4.0|  Universal acclaim|Colour Me K Produ...|Brian W. Cook|Anthony Frewin|John Malkovich,Ji...|[Brian W. Cook]|  Brian W. Cook|[Comedy, Drama]|          Comedy|                57.0|              1000.0|           943.0|\n",
      "|2000518279|Color Me Kubrick|Scarcely an insig...|   70|NULL|       Ed Gonzalez|   Los Angeles Times|     critic|2000518279|Color Me Kubrick| 2007-03-23|Not Rated|Comedy,Drama|John Malkovich st...|      86|The true ... ish ...|     57.0|             21|   Mixed or average|    100.0|            4.0|  Universal acclaim|Colour Me K Produ...|Brian W. Cook|Anthony Frewin|John Malkovich,Ji...|[Brian W. Cook]|  Brian W. Cook|[Comedy, Drama]|           Drama|                57.0|              1000.0|           943.0|\n",
      "|2000518279|Color Me Kubrick|Even if it doesn'...|   70|NULL|    Stephen Holden|  The New York Times|     critic|2000518279|Color Me Kubrick| 2007-03-23|Not Rated|Comedy,Drama|John Malkovich st...|      86|The true ... ish ...|     57.0|             21|   Mixed or average|    100.0|            4.0|  Universal acclaim|Colour Me K Produ...|Brian W. Cook|Anthony Frewin|John Malkovich,Ji...|[Brian W. Cook]|  Brian W. Cook|[Comedy, Drama]|          Comedy|                57.0|              1000.0|           943.0|\n",
      "|2000518279|Color Me Kubrick|Even if it doesn'...|   70|NULL|    Stephen Holden|  The New York Times|     critic|2000518279|Color Me Kubrick| 2007-03-23|Not Rated|Comedy,Drama|John Malkovich st...|      86|The true ... ish ...|     57.0|             21|   Mixed or average|    100.0|            4.0|  Universal acclaim|Colour Me K Produ...|Brian W. Cook|Anthony Frewin|John Malkovich,Ji...|[Brian W. Cook]|  Brian W. Cook|[Comedy, Drama]|           Drama|                57.0|              1000.0|           943.0|\n",
      "|2000518279|Color Me Kubrick|This 2005 British...|   70|NULL|Jonathan Rosenbaum|      Chicago Reader|     critic|2000518279|Color Me Kubrick| 2007-03-23|Not Rated|Comedy,Drama|John Malkovich st...|      86|The true ... ish ...|     57.0|             21|   Mixed or average|    100.0|            4.0|  Universal acclaim|Colour Me K Produ...|Brian W. Cook|Anthony Frewin|John Malkovich,Ji...|[Brian W. Cook]|  Brian W. Cook|[Comedy, Drama]|          Comedy|                57.0|              1000.0|           943.0|\n",
      "|2000518279|Color Me Kubrick|This 2005 British...|   70|NULL|Jonathan Rosenbaum|      Chicago Reader|     critic|2000518279|Color Me Kubrick| 2007-03-23|Not Rated|Comedy,Drama|John Malkovich st...|      86|The true ... ish ...|     57.0|             21|   Mixed or average|    100.0|            4.0|  Universal acclaim|Colour Me K Produ...|Brian W. Cook|Anthony Frewin|John Malkovich,Ji...|[Brian W. Cook]|  Brian W. Cook|[Comedy, Drama]|           Drama|                57.0|              1000.0|           943.0|\n",
      "|2000518279|Color Me Kubrick|It's entertaining...|   67|NULL|      Sean Axmaker|Seattle Post-Inte...|     critic|2000518279|Color Me Kubrick| 2007-03-23|Not Rated|Comedy,Drama|John Malkovich st...|      86|The true ... ish ...|     57.0|             21|   Mixed or average|    100.0|            4.0|  Universal acclaim|Colour Me K Produ...|Brian W. Cook|Anthony Frewin|John Malkovich,Ji...|[Brian W. Cook]|  Brian W. Cook|[Comedy, Drama]|          Comedy|                57.0|              1000.0|           943.0|\n",
      "|2000518279|Color Me Kubrick|It's entertaining...|   67|NULL|      Sean Axmaker|Seattle Post-Inte...|     critic|2000518279|Color Me Kubrick| 2007-03-23|Not Rated|Comedy,Drama|John Malkovich st...|      86|The true ... ish ...|     57.0|             21|   Mixed or average|    100.0|            4.0|  Universal acclaim|Colour Me K Produ...|Brian W. Cook|Anthony Frewin|John Malkovich,Ji...|[Brian W. Cook]|  Brian W. Cook|[Comedy, Drama]|           Drama|                57.0|              1000.0|           943.0|\n",
      "+----------+----------------+--------------------+-----+----+------------------+--------------------+-----------+----------+----------------+-----------+---------+------------+--------------------+--------+--------------------+---------+---------------+-------------------+---------+---------------+-------------------+--------------------+-------------+--------------+--------------------+---------------+---------------+---------------+----------------+--------------------+--------------------+----------------+\n",
      "only showing top 20 rows\n",
      "\n"
     ]
    }
   ],
   "execution_count": 19
  },
  {
   "metadata": {
    "ExecuteTime": {
     "end_time": "2025-03-25T18:16:35.058684Z",
     "start_time": "2025-03-25T18:16:34.886270Z"
    }
   },
   "cell_type": "code",
   "source": [
    "spark.sql(\"\"\"\n",
    "    SELECT\n",
    "        *\n",
    "    FROM\n",
    "        movie_reviews\n",
    "\"\"\").show(5)"
   ],
   "id": "3a2c62ddbd4c978f",
   "outputs": [
    {
     "name": "stdout",
     "output_type": "stream",
     "text": [
      "+----------+--------------+--------------------+--------------------+--------------------+--------------------+--------------------+--------------------+----------+--------------+-----------+------+------+--------------------+--------+-------+---------+---------------+-------------------+---------+---------------+-------------------+--------------------+--------------------+----------+--------------------+--------------------+--------------------+-----------+----------------+\n",
      "|        id|         title|               quote|               score|                date|              author|     publicationName|         review_type|  movie_id|   movie_title|releaseDate|rating|genres|         description|duration|tagline|metascore|metascore_count|metascore_sentiment|userscore|userscore_count|userscore_sentiment|production_companies|            director|    writer|            top_cast|      director_array|     director_single|genre_array|individual_genre|\n",
      "+----------+--------------+--------------------+--------------------+--------------------+--------------------+--------------------+--------------------+----------+--------------+-----------+------+------+--------------------+--------+-------+---------+---------------+-------------------+---------+---------------+-------------------+--------------------+--------------------+----------+--------------------+--------------------+--------------------+-----------+----------------+\n",
      "|2000545497|Dekalog (1988)|What a bitter pil...|                 100|          2023-11-22|                Siza|                NULL|                user|2000545497|Dekalog (1988)| 1996-03-22| TV-MA| Drama|This masterwork b...|     572|   NULL|    100.0|             13|  Universal acclaim|     78.0|          162.0|Generally favorable|\"Telewizja Polska...|Sender Freies Ber...|Janus Film|Facets Multimedia...|[Sender Freies Be...|Sender Freies Ber...|    [Drama]|           Drama|\n",
      "|2000545497|Dekalog (1988)|The best 10 hours...|                NULL|                NULL|                NULL|                NULL|                NULL|2000545497|Dekalog (1988)| 1996-03-22| TV-MA| Drama|This masterwork b...|     572|   NULL|    100.0|             13|  Universal acclaim|     78.0|          162.0|Generally favorable|\"Telewizja Polska...|Sender Freies Ber...|Janus Film|Facets Multimedia...|[Sender Freies Be...|Sender Freies Ber...|    [Drama]|           Drama|\n",
      "|2000545497|Dekalog (1988)|Touching and huma...|                 100|          2019-12-05|            Andremax|                NULL|                user|2000545497|Dekalog (1988)| 1996-03-22| TV-MA| Drama|This masterwork b...|     572|   NULL|    100.0|             13|  Universal acclaim|     78.0|          162.0|Generally favorable|\"Telewizja Polska...|Sender Freies Ber...|Janus Film|Facets Multimedia...|[Sender Freies Be...|Sender Freies Ber...|    [Drama]|           Drama|\n",
      "|2000545497|Dekalog (1988)|\"Krzysztof Kieslo...| and probably the...| like I do). I us...| Ingmar Bergman a...| but I might cons...| and that makes t...|2000545497|Dekalog (1988)| 1996-03-22| TV-MA| Drama|This masterwork b...|     572|   NULL|    100.0|             13|  Universal acclaim|     78.0|          162.0|Generally favorable|\"Telewizja Polska...|Sender Freies Ber...|Janus Film|Facets Multimedia...|[Sender Freies Be...|Sender Freies Ber...|    [Drama]|           Drama|\n",
      "|2000545497|Dekalog (1988)|For me it is simp...|                 100|          2024-10-31|            Daki1105|                NULL|                user|2000545497|Dekalog (1988)| 1996-03-22| TV-MA| Drama|This masterwork b...|     572|   NULL|    100.0|             13|  Universal acclaim|     78.0|          162.0|Generally favorable|\"Telewizja Polska...|Sender Freies Ber...|Janus Film|Facets Multimedia...|[Sender Freies Be...|Sender Freies Ber...|    [Drama]|           Drama|\n",
      "+----------+--------------+--------------------+--------------------+--------------------+--------------------+--------------------+--------------------+----------+--------------+-----------+------+------+--------------------+--------+-------+---------+---------------+-------------------+---------+---------------+-------------------+--------------------+--------------------+----------+--------------------+--------------------+--------------------+-----------+----------------+\n",
      "only showing top 5 rows\n",
      "\n"
     ]
    }
   ],
   "execution_count": 20
  },
  {
   "metadata": {
    "ExecuteTime": {
     "end_time": "2025-03-25T18:16:42.853336Z",
     "start_time": "2025-03-25T18:16:35.125629Z"
    }
   },
   "cell_type": "code",
   "source": [
    "window = Window.partitionBy('title').orderBy('date')\n",
    "\n",
    "joined_df.withColumn(\n",
    "    'review_number',\n",
    "    F.row_number().over(window)\n",
    ").show(10, truncate=False)"
   ],
   "id": "b21c33d1ea280a75",
   "outputs": [
    {
     "name": "stdout",
     "output_type": "stream",
     "text": [
      "+----------+---------------------------------------------------------+------------------------------------------------------------------------------------------------------------------------------------------------------------------------------------------------------------------------------------------------------------------------------------------------------------------------------------------------------------------------------------------------------------+-----+----+------+---------------+-----------+----------+------------------------------+---------------------------------------------------------------------+------+--------------------------------------------+------------------------------------------------------------------------------------------------------------------------------------------------------------------------------------------------------------------------------------------------------------------------------------------------------------------------------------------------------------------------------+-------------------------------------+---------------------------+-----------+---------------+-------------------+-------------------------------------------------------------------------------+---------------+-------------------+------------------------------------------------------------------------------------------------------------------------------------------------------------------------------------------------------------------------------------------------------------------------------------------------------------------------------------------------------------------------------------------------------------------------------------------------------------------------------------------------------------------------------------------------------------------------------------------------------------------------------------------------------------------------------------------------------------------------------------------------------------------------------------+------------+-------------------+-------------------------------------------------------------------------------------------------------------------------------------------------------------------------------------------------------------------------------------------------------------------------+--------------+---------------+----------------------------------------------+-------------------------------------------+--------------------+--------------------+----------------+-------------+\n",
      "|id        |title                                                    |quote                                                                                                                                                                                                                                                                                                                                                                                                       |score|date|author|publicationName|review_type|movie_id  |movie_title                   |releaseDate                                                          |rating|genres                                      |description                                                                                                                                                                                                                                                                                                                                                                   |duration                             |tagline                    |metascore  |metascore_count|metascore_sentiment|userscore                                                                      |userscore_count|userscore_sentiment|production_companies                                                                                                                                                                                                                                                                                                                                                                                                                                                                                                                                                                                                                                                                                                                                                                |director    |writer             |top_cast                                                                                                                                                                                                                                                                 |director_array|director_single|genre_array                                   |individual_genre                           |normalized_metascore|normalized_userscore|score_difference|review_number|\n",
      "+----------+---------------------------------------------------------+------------------------------------------------------------------------------------------------------------------------------------------------------------------------------------------------------------------------------------------------------------------------------------------------------------------------------------------------------------------------------------------------------------+-----+----+------+---------------+-----------+----------+------------------------------+---------------------------------------------------------------------+------+--------------------------------------------+------------------------------------------------------------------------------------------------------------------------------------------------------------------------------------------------------------------------------------------------------------------------------------------------------------------------------------------------------------------------------+-------------------------------------+---------------------------+-----------+---------------+-------------------+-------------------------------------------------------------------------------+---------------+-------------------+------------------------------------------------------------------------------------------------------------------------------------------------------------------------------------------------------------------------------------------------------------------------------------------------------------------------------------------------------------------------------------------------------------------------------------------------------------------------------------------------------------------------------------------------------------------------------------------------------------------------------------------------------------------------------------------------------------------------------------------------------------------------------------+------------+-------------------+-------------------------------------------------------------------------------------------------------------------------------------------------------------------------------------------------------------------------------------------------------------------------+--------------+---------------+----------------------------------------------+-------------------------------------------+--------------------+--------------------+----------------+-------------+\n",
      "|Plus      | prepare to wait a long time for the \"\"Action\"\" part here| as the movie draws out to full length before we get to that. But it'll be worth it I think if you're into slower-going drama/action and it definitely has some strong characters and ideas worked into it.                                                                                                                                                                                                 |NULL |NULL|NULL  |NULL           |NULL       |Plus      | there’s the neighbors: cranky| elderly Andra and the two granddaughters who look after her. As Kate| Alex | and Abby interact with the people next door| with each other                                                                                                                                                                                                                                                                                                                                                              | and with their New York surroundings| a complex mix of animosity| friendship| deception     | guilt             | and love plays out with both sharp humor and pathos. (Sony Pictures Classics)\"|90             |NULL               |78.0                                                                                                                                                                                                                                                                                                                                                                                                                                                                                                                                                                                                                                                                                                                                                                                |35          |Generally favorable|74.0                                                                                                                                                                                                                                                                     |[35]          |35             |[ and Abby interact with the people next door]|and Abby interact with the people next door|NULL                |NULL                |NULL            |1            |\n",
      "|2000542403|'71                                                      |I really enjoyed this film and thought the acting by Jack O'Connell was superb, he played a young inexperienced soldier thrown into a desperate situation excellently. Its a gritty, tense, movie and once it got started I was engrossed until the end. Its a very believable story, and doesn't take sides in the conflict, its more of an anti-establishment film and shows the corruption on both sides.|NULL |NULL|NULL  |NULL           |NULL       |2000542403|'71                           |2015-02-27                                                           |R     |Action,Crime,Drama,Thriller,War             |’71 takes place over a single night in the life of a young British soldier (Jack O’Connell) accidentally abandoned by his unit following a riot on the streets of Belfast in 1971. Unable to tell friend from foe, and increasingly wary of his own comrades, he must survive the night alone and find his way to safety through a disorientating, alien and deadly landscape.|99                                   |Alone behind enemy lines.  |83.0       |34             |Universal acclaim  |75.0                                                                           |152.0          |Generally favorable|Film4,British Film Institute (BFI),Screen Yorkshire,Creative Scotland,Crab Apple Films,Warp Films,,Black Label Media,Ad Vitam Distribution,Atlantic Film,Aya Pro,Elevation Pictures,Entertainment One,Good Films,NOS Audiovisuais,Roadside Attractions,Spentzos Films,StudioCanal UK,Sundream Motion Pictures,Vértigo Films,Another World Entertainment,Ascot Elite Home Entertainment,Ascot Elite Home Entertainment,Atlantic Film,Audio Visual Entertainment,Elevation Pictures,Elevation Pictures,Entertainment One,Entertainment One,Front Row Filmed Entertainment,Lionsgate Home Entertainment,Paramount+,Seven Films,StudioCanal UK,StudioCanal UK,Universal Pictures Home Entertainment,Visionary Thinking,Vértigo Films,Vértigo Films,Yleisradio (YLE),Union Visual Effects|Yann Demange|Gregory Burke      |Jack O'Connell,Sam Reid,Sean Harris,Paul Popplewell,Jack Lowden,Adam Nagaitis,Joshua Hill,Ben Williams-Lee,Jonah Russell,Harry Verity,Peter McNeil O'Connor,Babou Ceesay,James McArdle,Sam Hazeldine,Paul Anderson,Ben Peel,Andy Moore,Amy Molloy,Valene Kane,Aaron Lynch|[Yann Demange]|Yann Demange   |[Action, Crime, Drama, Thriller, War]         |Action                                     |83.0                |750.0               |667.0           |1            |\n",
      "|2000542403|'71                                                      |I really enjoyed this film and thought the acting by Jack O'Connell was superb, he played a young inexperienced soldier thrown into a desperate situation excellently. Its a gritty, tense, movie and once it got started I was engrossed until the end. Its a very believable story, and doesn't take sides in the conflict, its more of an anti-establishment film and shows the corruption on both sides.|NULL |NULL|NULL  |NULL           |NULL       |2000542403|'71                           |2015-02-27                                                           |R     |Action,Crime,Drama,Thriller,War             |’71 takes place over a single night in the life of a young British soldier (Jack O’Connell) accidentally abandoned by his unit following a riot on the streets of Belfast in 1971. Unable to tell friend from foe, and increasingly wary of his own comrades, he must survive the night alone and find his way to safety through a disorientating, alien and deadly landscape.|99                                   |Alone behind enemy lines.  |83.0       |34             |Universal acclaim  |75.0                                                                           |152.0          |Generally favorable|Film4,British Film Institute (BFI),Screen Yorkshire,Creative Scotland,Crab Apple Films,Warp Films,,Black Label Media,Ad Vitam Distribution,Atlantic Film,Aya Pro,Elevation Pictures,Entertainment One,Good Films,NOS Audiovisuais,Roadside Attractions,Spentzos Films,StudioCanal UK,Sundream Motion Pictures,Vértigo Films,Another World Entertainment,Ascot Elite Home Entertainment,Ascot Elite Home Entertainment,Atlantic Film,Audio Visual Entertainment,Elevation Pictures,Elevation Pictures,Entertainment One,Entertainment One,Front Row Filmed Entertainment,Lionsgate Home Entertainment,Paramount+,Seven Films,StudioCanal UK,StudioCanal UK,Universal Pictures Home Entertainment,Visionary Thinking,Vértigo Films,Vértigo Films,Yleisradio (YLE),Union Visual Effects|Yann Demange|Gregory Burke      |Jack O'Connell,Sam Reid,Sean Harris,Paul Popplewell,Jack Lowden,Adam Nagaitis,Joshua Hill,Ben Williams-Lee,Jonah Russell,Harry Verity,Peter McNeil O'Connor,Babou Ceesay,James McArdle,Sam Hazeldine,Paul Anderson,Ben Peel,Andy Moore,Amy Molloy,Valene Kane,Aaron Lynch|[Yann Demange]|Yann Demange   |[Action, Crime, Drama, Thriller, War]         |Crime                                      |83.0                |750.0               |667.0           |2            |\n",
      "|2000542403|'71                                                      |I really enjoyed this film and thought the acting by Jack O'Connell was superb, he played a young inexperienced soldier thrown into a desperate situation excellently. Its a gritty, tense, movie and once it got started I was engrossed until the end. Its a very believable story, and doesn't take sides in the conflict, its more of an anti-establishment film and shows the corruption on both sides.|NULL |NULL|NULL  |NULL           |NULL       |2000542403|'71                           |2015-02-27                                                           |R     |Action,Crime,Drama,Thriller,War             |’71 takes place over a single night in the life of a young British soldier (Jack O’Connell) accidentally abandoned by his unit following a riot on the streets of Belfast in 1971. Unable to tell friend from foe, and increasingly wary of his own comrades, he must survive the night alone and find his way to safety through a disorientating, alien and deadly landscape.|99                                   |Alone behind enemy lines.  |83.0       |34             |Universal acclaim  |75.0                                                                           |152.0          |Generally favorable|Film4,British Film Institute (BFI),Screen Yorkshire,Creative Scotland,Crab Apple Films,Warp Films,,Black Label Media,Ad Vitam Distribution,Atlantic Film,Aya Pro,Elevation Pictures,Entertainment One,Good Films,NOS Audiovisuais,Roadside Attractions,Spentzos Films,StudioCanal UK,Sundream Motion Pictures,Vértigo Films,Another World Entertainment,Ascot Elite Home Entertainment,Ascot Elite Home Entertainment,Atlantic Film,Audio Visual Entertainment,Elevation Pictures,Elevation Pictures,Entertainment One,Entertainment One,Front Row Filmed Entertainment,Lionsgate Home Entertainment,Paramount+,Seven Films,StudioCanal UK,StudioCanal UK,Universal Pictures Home Entertainment,Visionary Thinking,Vértigo Films,Vértigo Films,Yleisradio (YLE),Union Visual Effects|Yann Demange|Gregory Burke      |Jack O'Connell,Sam Reid,Sean Harris,Paul Popplewell,Jack Lowden,Adam Nagaitis,Joshua Hill,Ben Williams-Lee,Jonah Russell,Harry Verity,Peter McNeil O'Connor,Babou Ceesay,James McArdle,Sam Hazeldine,Paul Anderson,Ben Peel,Andy Moore,Amy Molloy,Valene Kane,Aaron Lynch|[Yann Demange]|Yann Demange   |[Action, Crime, Drama, Thriller, War]         |Drama                                      |83.0                |750.0               |667.0           |3            |\n",
      "|2000542403|'71                                                      |I really enjoyed this film and thought the acting by Jack O'Connell was superb, he played a young inexperienced soldier thrown into a desperate situation excellently. Its a gritty, tense, movie and once it got started I was engrossed until the end. Its a very believable story, and doesn't take sides in the conflict, its more of an anti-establishment film and shows the corruption on both sides.|NULL |NULL|NULL  |NULL           |NULL       |2000542403|'71                           |2015-02-27                                                           |R     |Action,Crime,Drama,Thriller,War             |’71 takes place over a single night in the life of a young British soldier (Jack O’Connell) accidentally abandoned by his unit following a riot on the streets of Belfast in 1971. Unable to tell friend from foe, and increasingly wary of his own comrades, he must survive the night alone and find his way to safety through a disorientating, alien and deadly landscape.|99                                   |Alone behind enemy lines.  |83.0       |34             |Universal acclaim  |75.0                                                                           |152.0          |Generally favorable|Film4,British Film Institute (BFI),Screen Yorkshire,Creative Scotland,Crab Apple Films,Warp Films,,Black Label Media,Ad Vitam Distribution,Atlantic Film,Aya Pro,Elevation Pictures,Entertainment One,Good Films,NOS Audiovisuais,Roadside Attractions,Spentzos Films,StudioCanal UK,Sundream Motion Pictures,Vértigo Films,Another World Entertainment,Ascot Elite Home Entertainment,Ascot Elite Home Entertainment,Atlantic Film,Audio Visual Entertainment,Elevation Pictures,Elevation Pictures,Entertainment One,Entertainment One,Front Row Filmed Entertainment,Lionsgate Home Entertainment,Paramount+,Seven Films,StudioCanal UK,StudioCanal UK,Universal Pictures Home Entertainment,Visionary Thinking,Vértigo Films,Vértigo Films,Yleisradio (YLE),Union Visual Effects|Yann Demange|Gregory Burke      |Jack O'Connell,Sam Reid,Sean Harris,Paul Popplewell,Jack Lowden,Adam Nagaitis,Joshua Hill,Ben Williams-Lee,Jonah Russell,Harry Verity,Peter McNeil O'Connor,Babou Ceesay,James McArdle,Sam Hazeldine,Paul Anderson,Ben Peel,Andy Moore,Amy Molloy,Valene Kane,Aaron Lynch|[Yann Demange]|Yann Demange   |[Action, Crime, Drama, Thriller, War]         |Thriller                                   |83.0                |750.0               |667.0           |4            |\n",
      "|2000542403|'71                                                      |I really enjoyed this film and thought the acting by Jack O'Connell was superb, he played a young inexperienced soldier thrown into a desperate situation excellently. Its a gritty, tense, movie and once it got started I was engrossed until the end. Its a very believable story, and doesn't take sides in the conflict, its more of an anti-establishment film and shows the corruption on both sides.|NULL |NULL|NULL  |NULL           |NULL       |2000542403|'71                           |2015-02-27                                                           |R     |Action,Crime,Drama,Thriller,War             |’71 takes place over a single night in the life of a young British soldier (Jack O’Connell) accidentally abandoned by his unit following a riot on the streets of Belfast in 1971. Unable to tell friend from foe, and increasingly wary of his own comrades, he must survive the night alone and find his way to safety through a disorientating, alien and deadly landscape.|99                                   |Alone behind enemy lines.  |83.0       |34             |Universal acclaim  |75.0                                                                           |152.0          |Generally favorable|Film4,British Film Institute (BFI),Screen Yorkshire,Creative Scotland,Crab Apple Films,Warp Films,,Black Label Media,Ad Vitam Distribution,Atlantic Film,Aya Pro,Elevation Pictures,Entertainment One,Good Films,NOS Audiovisuais,Roadside Attractions,Spentzos Films,StudioCanal UK,Sundream Motion Pictures,Vértigo Films,Another World Entertainment,Ascot Elite Home Entertainment,Ascot Elite Home Entertainment,Atlantic Film,Audio Visual Entertainment,Elevation Pictures,Elevation Pictures,Entertainment One,Entertainment One,Front Row Filmed Entertainment,Lionsgate Home Entertainment,Paramount+,Seven Films,StudioCanal UK,StudioCanal UK,Universal Pictures Home Entertainment,Visionary Thinking,Vértigo Films,Vértigo Films,Yleisradio (YLE),Union Visual Effects|Yann Demange|Gregory Burke      |Jack O'Connell,Sam Reid,Sean Harris,Paul Popplewell,Jack Lowden,Adam Nagaitis,Joshua Hill,Ben Williams-Lee,Jonah Russell,Harry Verity,Peter McNeil O'Connor,Babou Ceesay,James McArdle,Sam Hazeldine,Paul Anderson,Ben Peel,Andy Moore,Amy Molloy,Valene Kane,Aaron Lynch|[Yann Demange]|Yann Demange   |[Action, Crime, Drama, Thriller, War]         |War                                        |83.0                |750.0               |667.0           |5            |\n",
      "|2000542403|'71                                                      |What an incredible film. I've enjoyed it very much and great acting from the lead. Must watch!                                                                                                                                                                                                                                                                                                              |NULL |NULL|NULL  |NULL           |NULL       |2000542403|'71                           |2015-02-27                                                           |R     |Action,Crime,Drama,Thriller,War             |’71 takes place over a single night in the life of a young British soldier (Jack O’Connell) accidentally abandoned by his unit following a riot on the streets of Belfast in 1971. Unable to tell friend from foe, and increasingly wary of his own comrades, he must survive the night alone and find his way to safety through a disorientating, alien and deadly landscape.|99                                   |Alone behind enemy lines.  |83.0       |34             |Universal acclaim  |75.0                                                                           |152.0          |Generally favorable|Film4,British Film Institute (BFI),Screen Yorkshire,Creative Scotland,Crab Apple Films,Warp Films,,Black Label Media,Ad Vitam Distribution,Atlantic Film,Aya Pro,Elevation Pictures,Entertainment One,Good Films,NOS Audiovisuais,Roadside Attractions,Spentzos Films,StudioCanal UK,Sundream Motion Pictures,Vértigo Films,Another World Entertainment,Ascot Elite Home Entertainment,Ascot Elite Home Entertainment,Atlantic Film,Audio Visual Entertainment,Elevation Pictures,Elevation Pictures,Entertainment One,Entertainment One,Front Row Filmed Entertainment,Lionsgate Home Entertainment,Paramount+,Seven Films,StudioCanal UK,StudioCanal UK,Universal Pictures Home Entertainment,Visionary Thinking,Vértigo Films,Vértigo Films,Yleisradio (YLE),Union Visual Effects|Yann Demange|Gregory Burke      |Jack O'Connell,Sam Reid,Sean Harris,Paul Popplewell,Jack Lowden,Adam Nagaitis,Joshua Hill,Ben Williams-Lee,Jonah Russell,Harry Verity,Peter McNeil O'Connor,Babou Ceesay,James McArdle,Sam Hazeldine,Paul Anderson,Ben Peel,Andy Moore,Amy Molloy,Valene Kane,Aaron Lynch|[Yann Demange]|Yann Demange   |[Action, Crime, Drama, Thriller, War]         |Action                                     |83.0                |750.0               |667.0           |6            |\n",
      "|2000542403|'71                                                      |What an incredible film. I've enjoyed it very much and great acting from the lead. Must watch!                                                                                                                                                                                                                                                                                                              |NULL |NULL|NULL  |NULL           |NULL       |2000542403|'71                           |2015-02-27                                                           |R     |Action,Crime,Drama,Thriller,War             |’71 takes place over a single night in the life of a young British soldier (Jack O’Connell) accidentally abandoned by his unit following a riot on the streets of Belfast in 1971. Unable to tell friend from foe, and increasingly wary of his own comrades, he must survive the night alone and find his way to safety through a disorientating, alien and deadly landscape.|99                                   |Alone behind enemy lines.  |83.0       |34             |Universal acclaim  |75.0                                                                           |152.0          |Generally favorable|Film4,British Film Institute (BFI),Screen Yorkshire,Creative Scotland,Crab Apple Films,Warp Films,,Black Label Media,Ad Vitam Distribution,Atlantic Film,Aya Pro,Elevation Pictures,Entertainment One,Good Films,NOS Audiovisuais,Roadside Attractions,Spentzos Films,StudioCanal UK,Sundream Motion Pictures,Vértigo Films,Another World Entertainment,Ascot Elite Home Entertainment,Ascot Elite Home Entertainment,Atlantic Film,Audio Visual Entertainment,Elevation Pictures,Elevation Pictures,Entertainment One,Entertainment One,Front Row Filmed Entertainment,Lionsgate Home Entertainment,Paramount+,Seven Films,StudioCanal UK,StudioCanal UK,Universal Pictures Home Entertainment,Visionary Thinking,Vértigo Films,Vértigo Films,Yleisradio (YLE),Union Visual Effects|Yann Demange|Gregory Burke      |Jack O'Connell,Sam Reid,Sean Harris,Paul Popplewell,Jack Lowden,Adam Nagaitis,Joshua Hill,Ben Williams-Lee,Jonah Russell,Harry Verity,Peter McNeil O'Connor,Babou Ceesay,James McArdle,Sam Hazeldine,Paul Anderson,Ben Peel,Andy Moore,Amy Molloy,Valene Kane,Aaron Lynch|[Yann Demange]|Yann Demange   |[Action, Crime, Drama, Thriller, War]         |Crime                                      |83.0                |750.0               |667.0           |7            |\n",
      "|2000542403|'71                                                      |What an incredible film. I've enjoyed it very much and great acting from the lead. Must watch!                                                                                                                                                                                                                                                                                                              |NULL |NULL|NULL  |NULL           |NULL       |2000542403|'71                           |2015-02-27                                                           |R     |Action,Crime,Drama,Thriller,War             |’71 takes place over a single night in the life of a young British soldier (Jack O’Connell) accidentally abandoned by his unit following a riot on the streets of Belfast in 1971. Unable to tell friend from foe, and increasingly wary of his own comrades, he must survive the night alone and find his way to safety through a disorientating, alien and deadly landscape.|99                                   |Alone behind enemy lines.  |83.0       |34             |Universal acclaim  |75.0                                                                           |152.0          |Generally favorable|Film4,British Film Institute (BFI),Screen Yorkshire,Creative Scotland,Crab Apple Films,Warp Films,,Black Label Media,Ad Vitam Distribution,Atlantic Film,Aya Pro,Elevation Pictures,Entertainment One,Good Films,NOS Audiovisuais,Roadside Attractions,Spentzos Films,StudioCanal UK,Sundream Motion Pictures,Vértigo Films,Another World Entertainment,Ascot Elite Home Entertainment,Ascot Elite Home Entertainment,Atlantic Film,Audio Visual Entertainment,Elevation Pictures,Elevation Pictures,Entertainment One,Entertainment One,Front Row Filmed Entertainment,Lionsgate Home Entertainment,Paramount+,Seven Films,StudioCanal UK,StudioCanal UK,Universal Pictures Home Entertainment,Visionary Thinking,Vértigo Films,Vértigo Films,Yleisradio (YLE),Union Visual Effects|Yann Demange|Gregory Burke      |Jack O'Connell,Sam Reid,Sean Harris,Paul Popplewell,Jack Lowden,Adam Nagaitis,Joshua Hill,Ben Williams-Lee,Jonah Russell,Harry Verity,Peter McNeil O'Connor,Babou Ceesay,James McArdle,Sam Hazeldine,Paul Anderson,Ben Peel,Andy Moore,Amy Molloy,Valene Kane,Aaron Lynch|[Yann Demange]|Yann Demange   |[Action, Crime, Drama, Thriller, War]         |Drama                                      |83.0                |750.0               |667.0           |8            |\n",
      "|2000542403|'71                                                      |What an incredible film. I've enjoyed it very much and great acting from the lead. Must watch!                                                                                                                                                                                                                                                                                                              |NULL |NULL|NULL  |NULL           |NULL       |2000542403|'71                           |2015-02-27                                                           |R     |Action,Crime,Drama,Thriller,War             |’71 takes place over a single night in the life of a young British soldier (Jack O’Connell) accidentally abandoned by his unit following a riot on the streets of Belfast in 1971. Unable to tell friend from foe, and increasingly wary of his own comrades, he must survive the night alone and find his way to safety through a disorientating, alien and deadly landscape.|99                                   |Alone behind enemy lines.  |83.0       |34             |Universal acclaim  |75.0                                                                           |152.0          |Generally favorable|Film4,British Film Institute (BFI),Screen Yorkshire,Creative Scotland,Crab Apple Films,Warp Films,,Black Label Media,Ad Vitam Distribution,Atlantic Film,Aya Pro,Elevation Pictures,Entertainment One,Good Films,NOS Audiovisuais,Roadside Attractions,Spentzos Films,StudioCanal UK,Sundream Motion Pictures,Vértigo Films,Another World Entertainment,Ascot Elite Home Entertainment,Ascot Elite Home Entertainment,Atlantic Film,Audio Visual Entertainment,Elevation Pictures,Elevation Pictures,Entertainment One,Entertainment One,Front Row Filmed Entertainment,Lionsgate Home Entertainment,Paramount+,Seven Films,StudioCanal UK,StudioCanal UK,Universal Pictures Home Entertainment,Visionary Thinking,Vértigo Films,Vértigo Films,Yleisradio (YLE),Union Visual Effects|Yann Demange|Gregory Burke      |Jack O'Connell,Sam Reid,Sean Harris,Paul Popplewell,Jack Lowden,Adam Nagaitis,Joshua Hill,Ben Williams-Lee,Jonah Russell,Harry Verity,Peter McNeil O'Connor,Babou Ceesay,James McArdle,Sam Hazeldine,Paul Anderson,Ben Peel,Andy Moore,Amy Molloy,Valene Kane,Aaron Lynch|[Yann Demange]|Yann Demange   |[Action, Crime, Drama, Thriller, War]         |Thriller                                   |83.0                |750.0               |667.0           |9            |\n",
      "+----------+---------------------------------------------------------+------------------------------------------------------------------------------------------------------------------------------------------------------------------------------------------------------------------------------------------------------------------------------------------------------------------------------------------------------------------------------------------------------------+-----+----+------+---------------+-----------+----------+------------------------------+---------------------------------------------------------------------+------+--------------------------------------------+------------------------------------------------------------------------------------------------------------------------------------------------------------------------------------------------------------------------------------------------------------------------------------------------------------------------------------------------------------------------------+-------------------------------------+---------------------------+-----------+---------------+-------------------+-------------------------------------------------------------------------------+---------------+-------------------+------------------------------------------------------------------------------------------------------------------------------------------------------------------------------------------------------------------------------------------------------------------------------------------------------------------------------------------------------------------------------------------------------------------------------------------------------------------------------------------------------------------------------------------------------------------------------------------------------------------------------------------------------------------------------------------------------------------------------------------------------------------------------------+------------+-------------------+-------------------------------------------------------------------------------------------------------------------------------------------------------------------------------------------------------------------------------------------------------------------------+--------------+---------------+----------------------------------------------+-------------------------------------------+--------------------+--------------------+----------------+-------------+\n",
      "only showing top 10 rows\n",
      "\n"
     ]
    }
   ],
   "execution_count": 21
  },
  {
   "metadata": {
    "ExecuteTime": {
     "end_time": "2025-03-25T18:16:48.978796Z",
     "start_time": "2025-03-25T18:16:42.862706Z"
    }
   },
   "cell_type": "code",
   "source": [
    "spark.sql(\"\"\"\n",
    "    SELECT\n",
    "        *,\n",
    "        row_number() OVER (\n",
    "            PARTITION BY title\n",
    "            ORDER BY date\n",
    "        ) AS review_number\n",
    "    FROM\n",
    "        movie_reviews\n",
    "\"\"\").show(5, truncate=False)"
   ],
   "id": "47f53828732f578a",
   "outputs": [
    {
     "name": "stdout",
     "output_type": "stream",
     "text": [
      "+----------+---------------------------------------------------------+------------------------------------------------------------------------------------------------------------------------------------------------------------------------------------------------------------------------------------------------------------------------------------------------------------------------------------------------------------------------------------------------------------+-----+----+------+---------------+-----------+----------+------------------------------+---------------------------------------------------------------------+------+--------------------------------------------+------------------------------------------------------------------------------------------------------------------------------------------------------------------------------------------------------------------------------------------------------------------------------------------------------------------------------------------------------------------------------+-------------------------------------+---------------------------+-----------+---------------+-------------------+-------------------------------------------------------------------------------+---------------+-------------------+------------------------------------------------------------------------------------------------------------------------------------------------------------------------------------------------------------------------------------------------------------------------------------------------------------------------------------------------------------------------------------------------------------------------------------------------------------------------------------------------------------------------------------------------------------------------------------------------------------------------------------------------------------------------------------------------------------------------------------------------------------------------------------+------------+-------------------+-------------------------------------------------------------------------------------------------------------------------------------------------------------------------------------------------------------------------------------------------------------------------+--------------+---------------+----------------------------------------------+-------------------------------------------+-------------+\n",
      "|id        |title                                                    |quote                                                                                                                                                                                                                                                                                                                                                                                                       |score|date|author|publicationName|review_type|movie_id  |movie_title                   |releaseDate                                                          |rating|genres                                      |description                                                                                                                                                                                                                                                                                                                                                                   |duration                             |tagline                    |metascore  |metascore_count|metascore_sentiment|userscore                                                                      |userscore_count|userscore_sentiment|production_companies                                                                                                                                                                                                                                                                                                                                                                                                                                                                                                                                                                                                                                                                                                                                                                |director    |writer             |top_cast                                                                                                                                                                                                                                                                 |director_array|director_single|genre_array                                   |individual_genre                           |review_number|\n",
      "+----------+---------------------------------------------------------+------------------------------------------------------------------------------------------------------------------------------------------------------------------------------------------------------------------------------------------------------------------------------------------------------------------------------------------------------------------------------------------------------------+-----+----+------+---------------+-----------+----------+------------------------------+---------------------------------------------------------------------+------+--------------------------------------------+------------------------------------------------------------------------------------------------------------------------------------------------------------------------------------------------------------------------------------------------------------------------------------------------------------------------------------------------------------------------------+-------------------------------------+---------------------------+-----------+---------------+-------------------+-------------------------------------------------------------------------------+---------------+-------------------+------------------------------------------------------------------------------------------------------------------------------------------------------------------------------------------------------------------------------------------------------------------------------------------------------------------------------------------------------------------------------------------------------------------------------------------------------------------------------------------------------------------------------------------------------------------------------------------------------------------------------------------------------------------------------------------------------------------------------------------------------------------------------------+------------+-------------------+-------------------------------------------------------------------------------------------------------------------------------------------------------------------------------------------------------------------------------------------------------------------------+--------------+---------------+----------------------------------------------+-------------------------------------------+-------------+\n",
      "|Plus      | prepare to wait a long time for the \"\"Action\"\" part here| as the movie draws out to full length before we get to that. But it'll be worth it I think if you're into slower-going drama/action and it definitely has some strong characters and ideas worked into it.                                                                                                                                                                                                 |NULL |NULL|NULL  |NULL           |NULL       |Plus      | there’s the neighbors: cranky| elderly Andra and the two granddaughters who look after her. As Kate| Alex | and Abby interact with the people next door| with each other                                                                                                                                                                                                                                                                                                                                                              | and with their New York surroundings| a complex mix of animosity| friendship| deception     | guilt             | and love plays out with both sharp humor and pathos. (Sony Pictures Classics)\"|90             |NULL               |78.0                                                                                                                                                                                                                                                                                                                                                                                                                                                                                                                                                                                                                                                                                                                                                                                |35          |Generally favorable|74.0                                                                                                                                                                                                                                                                     |[35]          |35             |[ and Abby interact with the people next door]|and Abby interact with the people next door|1            |\n",
      "|2000542403|'71                                                      |I really enjoyed this film and thought the acting by Jack O'Connell was superb, he played a young inexperienced soldier thrown into a desperate situation excellently. Its a gritty, tense, movie and once it got started I was engrossed until the end. Its a very believable story, and doesn't take sides in the conflict, its more of an anti-establishment film and shows the corruption on both sides.|NULL |NULL|NULL  |NULL           |NULL       |2000542403|'71                           |2015-02-27                                                           |R     |Action,Crime,Drama,Thriller,War             |’71 takes place over a single night in the life of a young British soldier (Jack O’Connell) accidentally abandoned by his unit following a riot on the streets of Belfast in 1971. Unable to tell friend from foe, and increasingly wary of his own comrades, he must survive the night alone and find his way to safety through a disorientating, alien and deadly landscape.|99                                   |Alone behind enemy lines.  |83.0       |34             |Universal acclaim  |75.0                                                                           |152.0          |Generally favorable|Film4,British Film Institute (BFI),Screen Yorkshire,Creative Scotland,Crab Apple Films,Warp Films,,Black Label Media,Ad Vitam Distribution,Atlantic Film,Aya Pro,Elevation Pictures,Entertainment One,Good Films,NOS Audiovisuais,Roadside Attractions,Spentzos Films,StudioCanal UK,Sundream Motion Pictures,Vértigo Films,Another World Entertainment,Ascot Elite Home Entertainment,Ascot Elite Home Entertainment,Atlantic Film,Audio Visual Entertainment,Elevation Pictures,Elevation Pictures,Entertainment One,Entertainment One,Front Row Filmed Entertainment,Lionsgate Home Entertainment,Paramount+,Seven Films,StudioCanal UK,StudioCanal UK,Universal Pictures Home Entertainment,Visionary Thinking,Vértigo Films,Vértigo Films,Yleisradio (YLE),Union Visual Effects|Yann Demange|Gregory Burke      |Jack O'Connell,Sam Reid,Sean Harris,Paul Popplewell,Jack Lowden,Adam Nagaitis,Joshua Hill,Ben Williams-Lee,Jonah Russell,Harry Verity,Peter McNeil O'Connor,Babou Ceesay,James McArdle,Sam Hazeldine,Paul Anderson,Ben Peel,Andy Moore,Amy Molloy,Valene Kane,Aaron Lynch|[Yann Demange]|Yann Demange   |[Action, Crime, Drama, Thriller, War]         |Action                                     |1            |\n",
      "|2000542403|'71                                                      |I really enjoyed this film and thought the acting by Jack O'Connell was superb, he played a young inexperienced soldier thrown into a desperate situation excellently. Its a gritty, tense, movie and once it got started I was engrossed until the end. Its a very believable story, and doesn't take sides in the conflict, its more of an anti-establishment film and shows the corruption on both sides.|NULL |NULL|NULL  |NULL           |NULL       |2000542403|'71                           |2015-02-27                                                           |R     |Action,Crime,Drama,Thriller,War             |’71 takes place over a single night in the life of a young British soldier (Jack O’Connell) accidentally abandoned by his unit following a riot on the streets of Belfast in 1971. Unable to tell friend from foe, and increasingly wary of his own comrades, he must survive the night alone and find his way to safety through a disorientating, alien and deadly landscape.|99                                   |Alone behind enemy lines.  |83.0       |34             |Universal acclaim  |75.0                                                                           |152.0          |Generally favorable|Film4,British Film Institute (BFI),Screen Yorkshire,Creative Scotland,Crab Apple Films,Warp Films,,Black Label Media,Ad Vitam Distribution,Atlantic Film,Aya Pro,Elevation Pictures,Entertainment One,Good Films,NOS Audiovisuais,Roadside Attractions,Spentzos Films,StudioCanal UK,Sundream Motion Pictures,Vértigo Films,Another World Entertainment,Ascot Elite Home Entertainment,Ascot Elite Home Entertainment,Atlantic Film,Audio Visual Entertainment,Elevation Pictures,Elevation Pictures,Entertainment One,Entertainment One,Front Row Filmed Entertainment,Lionsgate Home Entertainment,Paramount+,Seven Films,StudioCanal UK,StudioCanal UK,Universal Pictures Home Entertainment,Visionary Thinking,Vértigo Films,Vértigo Films,Yleisradio (YLE),Union Visual Effects|Yann Demange|Gregory Burke      |Jack O'Connell,Sam Reid,Sean Harris,Paul Popplewell,Jack Lowden,Adam Nagaitis,Joshua Hill,Ben Williams-Lee,Jonah Russell,Harry Verity,Peter McNeil O'Connor,Babou Ceesay,James McArdle,Sam Hazeldine,Paul Anderson,Ben Peel,Andy Moore,Amy Molloy,Valene Kane,Aaron Lynch|[Yann Demange]|Yann Demange   |[Action, Crime, Drama, Thriller, War]         |Crime                                      |2            |\n",
      "|2000542403|'71                                                      |I really enjoyed this film and thought the acting by Jack O'Connell was superb, he played a young inexperienced soldier thrown into a desperate situation excellently. Its a gritty, tense, movie and once it got started I was engrossed until the end. Its a very believable story, and doesn't take sides in the conflict, its more of an anti-establishment film and shows the corruption on both sides.|NULL |NULL|NULL  |NULL           |NULL       |2000542403|'71                           |2015-02-27                                                           |R     |Action,Crime,Drama,Thriller,War             |’71 takes place over a single night in the life of a young British soldier (Jack O’Connell) accidentally abandoned by his unit following a riot on the streets of Belfast in 1971. Unable to tell friend from foe, and increasingly wary of his own comrades, he must survive the night alone and find his way to safety through a disorientating, alien and deadly landscape.|99                                   |Alone behind enemy lines.  |83.0       |34             |Universal acclaim  |75.0                                                                           |152.0          |Generally favorable|Film4,British Film Institute (BFI),Screen Yorkshire,Creative Scotland,Crab Apple Films,Warp Films,,Black Label Media,Ad Vitam Distribution,Atlantic Film,Aya Pro,Elevation Pictures,Entertainment One,Good Films,NOS Audiovisuais,Roadside Attractions,Spentzos Films,StudioCanal UK,Sundream Motion Pictures,Vértigo Films,Another World Entertainment,Ascot Elite Home Entertainment,Ascot Elite Home Entertainment,Atlantic Film,Audio Visual Entertainment,Elevation Pictures,Elevation Pictures,Entertainment One,Entertainment One,Front Row Filmed Entertainment,Lionsgate Home Entertainment,Paramount+,Seven Films,StudioCanal UK,StudioCanal UK,Universal Pictures Home Entertainment,Visionary Thinking,Vértigo Films,Vértigo Films,Yleisradio (YLE),Union Visual Effects|Yann Demange|Gregory Burke      |Jack O'Connell,Sam Reid,Sean Harris,Paul Popplewell,Jack Lowden,Adam Nagaitis,Joshua Hill,Ben Williams-Lee,Jonah Russell,Harry Verity,Peter McNeil O'Connor,Babou Ceesay,James McArdle,Sam Hazeldine,Paul Anderson,Ben Peel,Andy Moore,Amy Molloy,Valene Kane,Aaron Lynch|[Yann Demange]|Yann Demange   |[Action, Crime, Drama, Thriller, War]         |Drama                                      |3            |\n",
      "|2000542403|'71                                                      |I really enjoyed this film and thought the acting by Jack O'Connell was superb, he played a young inexperienced soldier thrown into a desperate situation excellently. Its a gritty, tense, movie and once it got started I was engrossed until the end. Its a very believable story, and doesn't take sides in the conflict, its more of an anti-establishment film and shows the corruption on both sides.|NULL |NULL|NULL  |NULL           |NULL       |2000542403|'71                           |2015-02-27                                                           |R     |Action,Crime,Drama,Thriller,War             |’71 takes place over a single night in the life of a young British soldier (Jack O’Connell) accidentally abandoned by his unit following a riot on the streets of Belfast in 1971. Unable to tell friend from foe, and increasingly wary of his own comrades, he must survive the night alone and find his way to safety through a disorientating, alien and deadly landscape.|99                                   |Alone behind enemy lines.  |83.0       |34             |Universal acclaim  |75.0                                                                           |152.0          |Generally favorable|Film4,British Film Institute (BFI),Screen Yorkshire,Creative Scotland,Crab Apple Films,Warp Films,,Black Label Media,Ad Vitam Distribution,Atlantic Film,Aya Pro,Elevation Pictures,Entertainment One,Good Films,NOS Audiovisuais,Roadside Attractions,Spentzos Films,StudioCanal UK,Sundream Motion Pictures,Vértigo Films,Another World Entertainment,Ascot Elite Home Entertainment,Ascot Elite Home Entertainment,Atlantic Film,Audio Visual Entertainment,Elevation Pictures,Elevation Pictures,Entertainment One,Entertainment One,Front Row Filmed Entertainment,Lionsgate Home Entertainment,Paramount+,Seven Films,StudioCanal UK,StudioCanal UK,Universal Pictures Home Entertainment,Visionary Thinking,Vértigo Films,Vértigo Films,Yleisradio (YLE),Union Visual Effects|Yann Demange|Gregory Burke      |Jack O'Connell,Sam Reid,Sean Harris,Paul Popplewell,Jack Lowden,Adam Nagaitis,Joshua Hill,Ben Williams-Lee,Jonah Russell,Harry Verity,Peter McNeil O'Connor,Babou Ceesay,James McArdle,Sam Hazeldine,Paul Anderson,Ben Peel,Andy Moore,Amy Molloy,Valene Kane,Aaron Lynch|[Yann Demange]|Yann Demange   |[Action, Crime, Drama, Thriller, War]         |Thriller                                   |4            |\n",
      "+----------+---------------------------------------------------------+------------------------------------------------------------------------------------------------------------------------------------------------------------------------------------------------------------------------------------------------------------------------------------------------------------------------------------------------------------------------------------------------------------+-----+----+------+---------------+-----------+----------+------------------------------+---------------------------------------------------------------------+------+--------------------------------------------+------------------------------------------------------------------------------------------------------------------------------------------------------------------------------------------------------------------------------------------------------------------------------------------------------------------------------------------------------------------------------+-------------------------------------+---------------------------+-----------+---------------+-------------------+-------------------------------------------------------------------------------+---------------+-------------------+------------------------------------------------------------------------------------------------------------------------------------------------------------------------------------------------------------------------------------------------------------------------------------------------------------------------------------------------------------------------------------------------------------------------------------------------------------------------------------------------------------------------------------------------------------------------------------------------------------------------------------------------------------------------------------------------------------------------------------------------------------------------------------+------------+-------------------+-------------------------------------------------------------------------------------------------------------------------------------------------------------------------------------------------------------------------------------------------------------------------+--------------+---------------+----------------------------------------------+-------------------------------------------+-------------+\n",
      "only showing top 5 rows\n",
      "\n"
     ]
    }
   ],
   "execution_count": 22
  },
  {
   "metadata": {
    "ExecuteTime": {
     "end_time": "2025-03-25T18:16:51.153832Z",
     "start_time": "2025-03-25T18:16:48.989316Z"
    }
   },
   "cell_type": "code",
   "source": [
    "author_genre_counts = joined_df.groupBy(\"author\", \"individual_genre\").agg(\n",
    "    F.count(\"*\").alias(\"review_count\")\n",
    ")\n",
    "\n",
    "window = Window.partitionBy(\"individual_genre\").orderBy(F.col(\"review_count\").desc())\n",
    "\n",
    "ranked_reviewers = author_genre_counts.withColumn(\n",
    "    'rank',\n",
    "    F.row_number().over(window)\n",
    ").where(F.col(\"author\").isNotNull())\n",
    "\n",
    "ranked_reviewers.filter(\n",
    "    F.col(\"rank\") <= 3\n",
    ").show(5, truncate=False)"
   ],
   "id": "87395c6405cd3c80",
   "outputs": [
    {
     "name": "stdout",
     "output_type": "stream",
     "text": [
      "+--------------------+----------------+------------+----+\n",
      "|author              |individual_genre|review_count|rank|\n",
      "+--------------------+----------------+------------+----+\n",
      "|Staff (Not Credited)|Action          |2302        |2   |\n",
      "|James Berardinelli  |Action          |1882        |3   |\n",
      "|Staff (Not Credited)|Adventure       |3028        |2   |\n",
      "|James Berardinelli  |Adventure       |1707        |3   |\n",
      "|Staff (Not Credited)|Animation       |676         |2   |\n",
      "+--------------------+----------------+------------+----+\n",
      "only showing top 5 rows\n",
      "\n"
     ]
    }
   ],
   "execution_count": 23
  },
  {
   "metadata": {
    "ExecuteTime": {
     "end_time": "2025-03-25T18:16:53.922778Z",
     "start_time": "2025-03-25T18:16:51.175976Z"
    }
   },
   "cell_type": "code",
   "source": [
    "spark.sql(\"\"\"\n",
    "WITH ranked_reviewers AS (\n",
    "    SELECT\n",
    "        author,\n",
    "        individual_genre,\n",
    "        count(*) AS review_count,\n",
    "        row_number() OVER (\n",
    "            PARTITION BY author\n",
    "            ORDER BY count(*) DESC\n",
    "        ) AS rank\n",
    "    FROM\n",
    "        movie_reviews\n",
    "    WHERE\n",
    "        author IS NOT NULL\n",
    "    GROUP BY\n",
    "        author,\n",
    "        individual_genre\n",
    ") SELECT\n",
    "    *,\n",
    "    review_count\n",
    "    FROM\n",
    "        ranked_reviewers\n",
    "    WHERE\n",
    "        rank <= 3\n",
    "\"\"\").show(5)"
   ],
   "id": "81f7f1aa8962aebe",
   "outputs": [
    {
     "name": "stdout",
     "output_type": "stream",
     "text": [
      "+--------------------+----------------+------------+----+------------+\n",
      "|              author|individual_genre|review_count|rank|review_count|\n",
      "+--------------------+----------------+------------+----+------------+\n",
      "|  Hunger Games Do...|        Thriller|           1|   1|           1|\n",
      "|  Hunger Games Do...|       Adventure|           1|   2|           1|\n",
      "|  Hunger Games Do...|          Action|           1|   3|           1|\n",
      "|  I get that this...|           Crime|           1|   1|           1|\n",
      "|  I get that this...|          Sci-Fi|           1|   2|           1|\n",
      "+--------------------+----------------+------------+----+------------+\n",
      "only showing top 5 rows\n",
      "\n"
     ]
    }
   ],
   "execution_count": 24
  },
  {
   "metadata": {
    "ExecuteTime": {
     "end_time": "2025-03-25T18:16:54.089214Z",
     "start_time": "2025-03-25T18:16:53.935785Z"
    }
   },
   "cell_type": "code",
   "source": [
    "joined_df = joined_df.withColumn(\n",
    "    'days_since_release',\n",
    "    F.datediff(F.to_date('date'), F.to_date('releaseDate'))\n",
    ")\n",
    "\n",
    "joined_df.withColumn(\n",
    "    'years_since_release',\n",
    "    F.round(F.col('days_since_release') / 365.25, 2)\n",
    ").show(5)"
   ],
   "id": "da5c9dd45d1f3e91",
   "outputs": [
    {
     "name": "stdout",
     "output_type": "stream",
     "text": [
      "+----------+--------------+--------------------+--------------------+--------------------+--------------------+--------------------+--------------------+----------+--------------+-----------+------+------+--------------------+--------+-------+---------+---------------+-------------------+---------+---------------+-------------------+--------------------+--------------------+----------+--------------------+--------------------+--------------------+-----------+----------------+--------------------+--------------------+----------------+------------------+-------------------+\n",
      "|        id|         title|               quote|               score|                date|              author|     publicationName|         review_type|  movie_id|   movie_title|releaseDate|rating|genres|         description|duration|tagline|metascore|metascore_count|metascore_sentiment|userscore|userscore_count|userscore_sentiment|production_companies|            director|    writer|            top_cast|      director_array|     director_single|genre_array|individual_genre|normalized_metascore|normalized_userscore|score_difference|days_since_release|years_since_release|\n",
      "+----------+--------------+--------------------+--------------------+--------------------+--------------------+--------------------+--------------------+----------+--------------+-----------+------+------+--------------------+--------+-------+---------+---------------+-------------------+---------+---------------+-------------------+--------------------+--------------------+----------+--------------------+--------------------+--------------------+-----------+----------------+--------------------+--------------------+----------------+------------------+-------------------+\n",
      "|2000545497|Dekalog (1988)|What a bitter pil...|                 100|          2023-11-22|                Siza|                NULL|                user|2000545497|Dekalog (1988)| 1996-03-22| TV-MA| Drama|This masterwork b...|     572|   NULL|    100.0|             13|  Universal acclaim|     78.0|          162.0|Generally favorable|\"Telewizja Polska...|Sender Freies Ber...|Janus Film|Facets Multimedia...|[Sender Freies Be...|Sender Freies Ber...|    [Drama]|           Drama|               100.0|               780.0|           680.0|             10106|              27.67|\n",
      "|2000545497|Dekalog (1988)|The best 10 hours...|                NULL|                NULL|                NULL|                NULL|                NULL|2000545497|Dekalog (1988)| 1996-03-22| TV-MA| Drama|This masterwork b...|     572|   NULL|    100.0|             13|  Universal acclaim|     78.0|          162.0|Generally favorable|\"Telewizja Polska...|Sender Freies Ber...|Janus Film|Facets Multimedia...|[Sender Freies Be...|Sender Freies Ber...|    [Drama]|           Drama|               100.0|               780.0|           680.0|              NULL|               NULL|\n",
      "|2000545497|Dekalog (1988)|Touching and huma...|                 100|          2019-12-05|            Andremax|                NULL|                user|2000545497|Dekalog (1988)| 1996-03-22| TV-MA| Drama|This masterwork b...|     572|   NULL|    100.0|             13|  Universal acclaim|     78.0|          162.0|Generally favorable|\"Telewizja Polska...|Sender Freies Ber...|Janus Film|Facets Multimedia...|[Sender Freies Be...|Sender Freies Ber...|    [Drama]|           Drama|               100.0|               780.0|           680.0|              8658|               23.7|\n",
      "|2000545497|Dekalog (1988)|\"Krzysztof Kieslo...| and probably the...| like I do). I us...| Ingmar Bergman a...| but I might cons...| and that makes t...|2000545497|Dekalog (1988)| 1996-03-22| TV-MA| Drama|This masterwork b...|     572|   NULL|    100.0|             13|  Universal acclaim|     78.0|          162.0|Generally favorable|\"Telewizja Polska...|Sender Freies Ber...|Janus Film|Facets Multimedia...|[Sender Freies Be...|Sender Freies Ber...|    [Drama]|           Drama|               100.0|               780.0|           680.0|              NULL|               NULL|\n",
      "|2000545497|Dekalog (1988)|For me it is simp...|                 100|          2024-10-31|            Daki1105|                NULL|                user|2000545497|Dekalog (1988)| 1996-03-22| TV-MA| Drama|This masterwork b...|     572|   NULL|    100.0|             13|  Universal acclaim|     78.0|          162.0|Generally favorable|\"Telewizja Polska...|Sender Freies Ber...|Janus Film|Facets Multimedia...|[Sender Freies Be...|Sender Freies Ber...|    [Drama]|           Drama|               100.0|               780.0|           680.0|             10450|              28.61|\n",
      "+----------+--------------+--------------------+--------------------+--------------------+--------------------+--------------------+--------------------+----------+--------------+-----------+------+------+--------------------+--------+-------+---------+---------------+-------------------+---------+---------------+-------------------+--------------------+--------------------+----------+--------------------+--------------------+--------------------+-----------+----------------+--------------------+--------------------+----------------+------------------+-------------------+\n",
      "only showing top 5 rows\n",
      "\n"
     ]
    }
   ],
   "execution_count": 25
  },
  {
   "metadata": {
    "ExecuteTime": {
     "end_time": "2025-03-25T18:16:54.256461Z",
     "start_time": "2025-03-25T18:16:54.123168Z"
    }
   },
   "cell_type": "code",
   "source": [
    "spark.sql(\"\"\"\n",
    "    SELECT\n",
    "        *,\n",
    "        DATEDIFF(date, releaseDate) AS days_since_release,\n",
    "        ROUND(DATEDIFF(date, releaseDate) / 365.25, 2) AS years_since_release\n",
    "    FROM\n",
    "        movie_reviews\n",
    "\"\"\").show(5)"
   ],
   "id": "acb9dde99256f625",
   "outputs": [
    {
     "name": "stdout",
     "output_type": "stream",
     "text": [
      "+----------+--------------+--------------------+--------------------+--------------------+--------------------+--------------------+--------------------+----------+--------------+-----------+------+------+--------------------+--------+-------+---------+---------------+-------------------+---------+---------------+-------------------+--------------------+--------------------+----------+--------------------+--------------------+--------------------+-----------+----------------+------------------+-------------------+\n",
      "|        id|         title|               quote|               score|                date|              author|     publicationName|         review_type|  movie_id|   movie_title|releaseDate|rating|genres|         description|duration|tagline|metascore|metascore_count|metascore_sentiment|userscore|userscore_count|userscore_sentiment|production_companies|            director|    writer|            top_cast|      director_array|     director_single|genre_array|individual_genre|days_since_release|years_since_release|\n",
      "+----------+--------------+--------------------+--------------------+--------------------+--------------------+--------------------+--------------------+----------+--------------+-----------+------+------+--------------------+--------+-------+---------+---------------+-------------------+---------+---------------+-------------------+--------------------+--------------------+----------+--------------------+--------------------+--------------------+-----------+----------------+------------------+-------------------+\n",
      "|2000545497|Dekalog (1988)|What a bitter pil...|                 100|          2023-11-22|                Siza|                NULL|                user|2000545497|Dekalog (1988)| 1996-03-22| TV-MA| Drama|This masterwork b...|     572|   NULL|    100.0|             13|  Universal acclaim|     78.0|          162.0|Generally favorable|\"Telewizja Polska...|Sender Freies Ber...|Janus Film|Facets Multimedia...|[Sender Freies Be...|Sender Freies Ber...|    [Drama]|           Drama|             10106|              27.67|\n",
      "|2000545497|Dekalog (1988)|The best 10 hours...|                NULL|                NULL|                NULL|                NULL|                NULL|2000545497|Dekalog (1988)| 1996-03-22| TV-MA| Drama|This masterwork b...|     572|   NULL|    100.0|             13|  Universal acclaim|     78.0|          162.0|Generally favorable|\"Telewizja Polska...|Sender Freies Ber...|Janus Film|Facets Multimedia...|[Sender Freies Be...|Sender Freies Ber...|    [Drama]|           Drama|              NULL|               NULL|\n",
      "|2000545497|Dekalog (1988)|Touching and huma...|                 100|          2019-12-05|            Andremax|                NULL|                user|2000545497|Dekalog (1988)| 1996-03-22| TV-MA| Drama|This masterwork b...|     572|   NULL|    100.0|             13|  Universal acclaim|     78.0|          162.0|Generally favorable|\"Telewizja Polska...|Sender Freies Ber...|Janus Film|Facets Multimedia...|[Sender Freies Be...|Sender Freies Ber...|    [Drama]|           Drama|              8658|              23.70|\n",
      "|2000545497|Dekalog (1988)|\"Krzysztof Kieslo...| and probably the...| like I do). I us...| Ingmar Bergman a...| but I might cons...| and that makes t...|2000545497|Dekalog (1988)| 1996-03-22| TV-MA| Drama|This masterwork b...|     572|   NULL|    100.0|             13|  Universal acclaim|     78.0|          162.0|Generally favorable|\"Telewizja Polska...|Sender Freies Ber...|Janus Film|Facets Multimedia...|[Sender Freies Be...|Sender Freies Ber...|    [Drama]|           Drama|              NULL|               NULL|\n",
      "|2000545497|Dekalog (1988)|For me it is simp...|                 100|          2024-10-31|            Daki1105|                NULL|                user|2000545497|Dekalog (1988)| 1996-03-22| TV-MA| Drama|This masterwork b...|     572|   NULL|    100.0|             13|  Universal acclaim|     78.0|          162.0|Generally favorable|\"Telewizja Polska...|Sender Freies Ber...|Janus Film|Facets Multimedia...|[Sender Freies Be...|Sender Freies Ber...|    [Drama]|           Drama|             10450|              28.61|\n",
      "+----------+--------------+--------------------+--------------------+--------------------+--------------------+--------------------+--------------------+----------+--------------+-----------+------+------+--------------------+--------+-------+---------+---------------+-------------------+---------+---------------+-------------------+--------------------+--------------------+----------+--------------------+--------------------+--------------------+-----------+----------------+------------------+-------------------+\n",
      "only showing top 5 rows\n",
      "\n"
     ]
    }
   ],
   "execution_count": 26
  },
  {
   "metadata": {
    "ExecuteTime": {
     "end_time": "2025-03-25T18:16:55.814420Z",
     "start_time": "2025-03-25T18:16:54.324258Z"
    }
   },
   "cell_type": "code",
   "source": [
    "reviews1 = movies_reviews_df.alias(\"reviews1\")\n",
    "reviews2 = movies_reviews_df.alias(\"reviews2\")\n",
    "\n",
    "joined_reviews = reviews1.join(\n",
    "    reviews2,\n",
    "    (F.col(\"reviews1.title\") == F.col(\"reviews2.title\")) &\n",
    "    (F.col(\"reviews1.author\") != F.col(\"reviews2.author\")),\n",
    "    \"inner\"\n",
    ")\n",
    "\n",
    "joined_reviews = joined_reviews.withColumn(\n",
    "    \"score_difference\",\n",
    "    F.abs(F.col(\"reviews1.score\").cast(\"double\") - F.col(\"reviews2.score\").cast(\"double\"))\n",
    ")\n",
    "\n",
    "joined_reviews.select(\n",
    "    F.col(\"reviews1.title\").alias(\"movie_title\"),\n",
    "    F.col(\"reviews1.author\").alias(\"author1\"),\n",
    "    F.col(\"reviews1.date\").alias(\"date1\"),\n",
    "    F.col(\"reviews1.score\").alias(\"score1\"),\n",
    "    F.col(\"reviews2.author\").alias(\"author2\"),\n",
    "    F.col(\"reviews2.date\").alias(\"date2\"),\n",
    "    F.col(\"reviews2.score\").alias(\"score2\"),\n",
    "    \"score_difference\"\n",
    ").show(5)"
   ],
   "id": "3a9404801f0be9cf",
   "outputs": [
    {
     "name": "stdout",
     "output_type": "stream",
     "text": [
      "+--------------+-------+----------+------+----------------+-----+------+----------------+\n",
      "|   movie_title|author1|     date1|score1|         author2|date2|score2|score_difference|\n",
      "+--------------+-------+----------+------+----------------+-----+------+----------------+\n",
      "|Dekalog (1988)|   Siza|2023-11-22|   100|   Kenneth Turan| NULL|   100|             0.0|\n",
      "|Dekalog (1988)|   Siza|2023-11-22|   100|   David Ehrlich| NULL|   100|             0.0|\n",
      "|Dekalog (1988)|   Siza|2023-11-22|   100|    Andrew Crump| NULL|   100|             0.0|\n",
      "|Dekalog (1988)|   Siza|2023-11-22|   100|Lisa Schwarzbaum| NULL|   100|             0.0|\n",
      "|Dekalog (1988)|   Siza|2023-11-22|   100|  Stephen Holden| NULL|   100|             0.0|\n",
      "+--------------+-------+----------+------+----------------+-----+------+----------------+\n",
      "only showing top 5 rows\n",
      "\n"
     ]
    }
   ],
   "execution_count": 27
  },
  {
   "metadata": {
    "ExecuteTime": {
     "end_time": "2025-03-25T18:16:55.837128Z",
     "start_time": "2025-03-25T18:16:55.829196Z"
    }
   },
   "cell_type": "code",
   "source": "movies_reviews_df.createOrReplaceTempView(\"movies_reviews\")",
   "id": "9905bdba28fd3d8a",
   "outputs": [],
   "execution_count": 28
  },
  {
   "metadata": {
    "ExecuteTime": {
     "end_time": "2025-03-25T18:16:57.074883Z",
     "start_time": "2025-03-25T18:16:55.961750Z"
    }
   },
   "cell_type": "code",
   "source": [
    "spark.sql(\"\"\"\n",
    "    SELECT\n",
    "        r1.title AS movie_title,\n",
    "        r1.author AS author1,\n",
    "        r1.date AS date1,\n",
    "        r1.score AS score1,\n",
    "        r2.author AS author2,\n",
    "        r2.date AS date2,\n",
    "        r2.score AS score2,\n",
    "        ABS(CAST(r1.score AS DOUBLE) - CAST(r2.score AS DOUBLE)) AS score_difference\n",
    "    FROM\n",
    "        movies_reviews r1\n",
    "    JOIN\n",
    "        movies_reviews r2\n",
    "    ON\n",
    "        r1.title = r2.title AND r1.author != r2.author\n",
    "\"\"\").show(5)"
   ],
   "id": "7e35c4fea47ec888",
   "outputs": [
    {
     "name": "stdout",
     "output_type": "stream",
     "text": [
      "+--------------+-------+----------+------+----------------+-----+------+----------------+\n",
      "|   movie_title|author1|     date1|score1|         author2|date2|score2|score_difference|\n",
      "+--------------+-------+----------+------+----------------+-----+------+----------------+\n",
      "|Dekalog (1988)|   Siza|2023-11-22|   100|   Kenneth Turan| NULL|   100|             0.0|\n",
      "|Dekalog (1988)|   Siza|2023-11-22|   100|   David Ehrlich| NULL|   100|             0.0|\n",
      "|Dekalog (1988)|   Siza|2023-11-22|   100|    Andrew Crump| NULL|   100|             0.0|\n",
      "|Dekalog (1988)|   Siza|2023-11-22|   100|Lisa Schwarzbaum| NULL|   100|             0.0|\n",
      "|Dekalog (1988)|   Siza|2023-11-22|   100|  Stephen Holden| NULL|   100|             0.0|\n",
      "+--------------+-------+----------+------+----------------+-----+------+----------------+\n",
      "only showing top 5 rows\n",
      "\n"
     ]
    }
   ],
   "execution_count": 29
  },
  {
   "metadata": {
    "ExecuteTime": {
     "end_time": "2025-03-25T18:17:00.322588Z",
     "start_time": "2025-03-25T18:16:57.095381Z"
    }
   },
   "cell_type": "code",
   "source": [
    "window = Window.partitionBy()\n",
    "\n",
    "df_with_zscores = joined_df \\\n",
    "    .withColumn('metascore_double',F.col('metascore').cast('double')) \\\n",
    "    .withColumn('userscore_double', F.col('userscore').cast('double') * 10) \\\n",
    "    .withColumn('metascore_mean', F.mean('metascore_double').over(window)) \\\n",
    "    .withColumn('metascore_stddev', F.stddev('metascore_double').over(window)) \\\n",
    "    .withColumn('userscore_mean', F.mean('userscore_double').over(window)) \\\n",
    "    .withColumn('userscore_stddev', F.stddev('userscore_double').over(window)) \\\n",
    "    .withColumn('metascore_zscore', F.col('metascore_double') - F.col('metascore_mean')) \\\n",
    "    .withColumn('userscore_zscore', F.col('userscore_double') - F.col('userscore_mean'))\n",
    "\n",
    "divergent_movies = df_with_zscores \\\n",
    "    .withColumn(\"zscore_difference\", F.abs(F.col(\"metascore_zscore\") - F.col(\"userscore_zscore\"))) \\\n",
    "    .select(\n",
    "    \"movie_title\",\n",
    "    \"metascore_double\",\n",
    "    \"userscore_double\",\n",
    "    \"metascore_zscore\",\n",
    "    \"userscore_zscore\",\n",
    "    \"zscore_difference\"\n",
    ")\n",
    "\n",
    "threshold = 2.0\n",
    "significant_differences = divergent_movies \\\n",
    "    .filter(F.col(\"zscore_difference\") > threshold) \\\n",
    "    .orderBy(F.col(\"zscore_difference\").desc())\n",
    "\n",
    "significant_differences.show(10, truncate=False)"
   ],
   "id": "da2cd7cc1865a20e",
   "outputs": [
    {
     "name": "stdout",
     "output_type": "stream",
     "text": [
      "+-------------------+----------------+----------------+-----------------+------------------+-----------------+\n",
      "|movie_title        |metascore_double|userscore_double|metascore_zscore |userscore_zscore  |zscore_difference|\n",
      "+-------------------+----------------+----------------+-----------------+------------------+-----------------+\n",
      "|Shoah: Four Sisters|93.0            |0.0             |30.30402537431783|-641.9907265245962|672.294751898914 |\n",
      "|Shoah: Four Sisters|93.0            |0.0             |30.30402537431783|-641.9907265245962|672.294751898914 |\n",
      "|Shoah: Four Sisters|93.0            |0.0             |30.30402537431783|-641.9907265245962|672.294751898914 |\n",
      "|Shoah: Four Sisters|93.0            |0.0             |30.30402537431783|-641.9907265245962|672.294751898914 |\n",
      "|Shoah: Four Sisters|93.0            |0.0             |30.30402537431783|-641.9907265245962|672.294751898914 |\n",
      "|Shoah: Four Sisters|93.0            |0.0             |30.30402537431783|-641.9907265245962|672.294751898914 |\n",
      "|Shoah: Four Sisters|93.0            |0.0             |30.30402537431783|-641.9907265245962|672.294751898914 |\n",
      "|Shoah: Four Sisters|93.0            |0.0             |30.30402537431783|-641.9907265245962|672.294751898914 |\n",
      "|Shoah: Four Sisters|93.0            |0.0             |30.30402537431783|-641.9907265245962|672.294751898914 |\n",
      "|Shoah: Four Sisters|93.0            |0.0             |30.30402537431783|-641.9907265245962|672.294751898914 |\n",
      "+-------------------+----------------+----------------+-----------------+------------------+-----------------+\n",
      "only showing top 10 rows\n",
      "\n"
     ]
    }
   ],
   "execution_count": 30
  },
  {
   "metadata": {
    "ExecuteTime": {
     "end_time": "2025-03-25T18:17:03.772318Z",
     "start_time": "2025-03-25T18:17:00.346282Z"
    }
   },
   "cell_type": "code",
   "source": [
    "spark.sql(\"\"\"\n",
    "    WITH zscore_calc AS (\n",
    "      SELECT\n",
    "        movie_title,\n",
    "        CAST(metascore AS DOUBLE) as metascore_double,\n",
    "        CAST(userscore AS DOUBLE) * 10 as userscore_double,\n",
    "        AVG(CAST(metascore AS DOUBLE)) OVER () as metascore_mean,\n",
    "        STDDEV(CAST(metascore AS DOUBLE)) OVER () as metascore_stddev,\n",
    "        AVG(CAST(userscore AS DOUBLE) * 10) OVER () as userscore_mean,\n",
    "        STDDEV(CAST(userscore AS DOUBLE) * 10) OVER () as userscore_stddev\n",
    "      FROM movie_reviews\n",
    "    ),\n",
    "    zscores AS (\n",
    "      SELECT\n",
    "        movie_title,\n",
    "        metascore_double,\n",
    "        userscore_double,\n",
    "        (metascore_double - metascore_mean) as metascore_zscore,\n",
    "        (userscore_double - userscore_mean) as userscore_zscore\n",
    "      FROM zscore_calc\n",
    "    ),\n",
    "    differences AS (\n",
    "      SELECT\n",
    "        movie_title,\n",
    "        metascore_double,\n",
    "        userscore_double,\n",
    "        metascore_zscore,\n",
    "        userscore_zscore,\n",
    "        ABS(metascore_zscore - userscore_zscore) as zscore_difference\n",
    "      FROM zscores\n",
    "    )\n",
    "    SELECT *\n",
    "    FROM differences\n",
    "    WHERE zscore_difference > 2.0\n",
    "    ORDER BY zscore_difference DESC\n",
    "\"\"\").show(5, truncate=False)"
   ],
   "id": "3f4d6d183fffa160",
   "outputs": [
    {
     "name": "stdout",
     "output_type": "stream",
     "text": [
      "+-------------------+----------------+----------------+-----------------+------------------+-----------------+\n",
      "|movie_title        |metascore_double|userscore_double|metascore_zscore |userscore_zscore  |zscore_difference|\n",
      "+-------------------+----------------+----------------+-----------------+------------------+-----------------+\n",
      "|Shoah: Four Sisters|93.0            |0.0             |30.30402537431783|-641.9907265245962|672.294751898914 |\n",
      "|Shoah: Four Sisters|93.0            |0.0             |30.30402537431783|-641.9907265245962|672.294751898914 |\n",
      "|Shoah: Four Sisters|93.0            |0.0             |30.30402537431783|-641.9907265245962|672.294751898914 |\n",
      "|Shoah: Four Sisters|93.0            |0.0             |30.30402537431783|-641.9907265245962|672.294751898914 |\n",
      "|Shoah: Four Sisters|93.0            |0.0             |30.30402537431783|-641.9907265245962|672.294751898914 |\n",
      "+-------------------+----------------+----------------+-----------------+------------------+-----------------+\n",
      "only showing top 5 rows\n",
      "\n"
     ]
    }
   ],
   "execution_count": 31
  },
  {
   "metadata": {
    "ExecuteTime": {
     "end_time": "2025-03-25T18:26:13.423441Z",
     "start_time": "2025-03-25T18:26:13.269033Z"
    }
   },
   "cell_type": "code",
   "source": [
    "joined_df.select(\n",
    "    F.col('author').alias('user_id'),\n",
    "    F.col('movie_id'),\n",
    "    F.col('movie_title'),\n",
    "    F.col('score')\n",
    ").filter(\n",
    "    F.col('author').isNotNull() &\n",
    "    F.col('score').isNotNull() &\n",
    "    (F.col('score') != 'NULL')\n",
    ").withColumn(\n",
    "    'score',\n",
    "    F.col('score').cast('double')\n",
    ").show()"
   ],
   "id": "a98cf87f1e4774d0",
   "outputs": [
    {
     "name": "stdout",
     "output_type": "stream",
     "text": [
      "+--------------------+----------+--------------------+-----+\n",
      "|             user_id|  movie_id|         movie_title|score|\n",
      "+--------------------+----------+--------------------+-----+\n",
      "|                Siza|2000545497|      Dekalog (1988)|100.0|\n",
      "|            Andremax|2000545497|      Dekalog (1988)|100.0|\n",
      "| Ingmar Bergman a...|2000545497|      Dekalog (1988)| NULL|\n",
      "|            Daki1105|2000545497|      Dekalog (1988)|100.0|\n",
      "|            BeastJ18|2000545497|      Dekalog (1988)|100.0|\n",
      "|         benchwarmer|2000545497|      Dekalog (1988)|100.0|\n",
      "|  James Berardinelli|2000545497|      Dekalog (1988)|100.0|\n",
      "|         Roger Ebert|2000545497|      Dekalog (1988)|100.0|\n",
      "|Staff [Not Credited]|2000545497|      Dekalog (1988)|100.0|\n",
      "|         Bilge Ebiri|2000545497|      Dekalog (1988)|100.0|\n",
      "|  Michael Wilmington|2000545497|      Dekalog (1988)|100.0|\n",
      "|        Scott Tobias|2000545497|      Dekalog (1988)|100.0|\n",
      "|       Andrew Sarris|2000545497|      Dekalog (1988)|100.0|\n",
      "|      Stephen Holden|2000545497|      Dekalog (1988)|100.0|\n",
      "|    Lisa Schwarzbaum|2000545497|      Dekalog (1988)|100.0|\n",
      "|        Andrew Crump|2000545497|      Dekalog (1988)|100.0|\n",
      "|       David Ehrlich|2000545497|      Dekalog (1988)|100.0|\n",
      "|       Kenneth Turan|2000545497|      Dekalog (1988)|100.0|\n",
      "|       ryancarroll88|2000521589|The Leopard (re-r...|100.0|\n",
      "|       ryancarroll88|2000521589|The Leopard (re-r...|100.0|\n",
      "+--------------------+----------+--------------------+-----+\n",
      "only showing top 20 rows\n",
      "\n"
     ]
    }
   ],
   "execution_count": 36
  },
  {
   "metadata": {
    "ExecuteTime": {
     "end_time": "2025-03-25T18:40:04.103486Z",
     "start_time": "2025-03-25T18:40:04.078708Z"
    }
   },
   "cell_type": "code",
   "source": [
    "genre_quote_df = joined_df.select(\n",
    "    'genres', 'quote'\n",
    ").filter(\n",
    "    F.col('genres').isNotNull() & (F.col('genres') != '') &\n",
    "    F.col('quote').isNotNull() & (F.col('quote') != '')\n",
    ")"
   ],
   "id": "c53633feaae3b364",
   "outputs": [],
   "execution_count": 39
  }
 ],
 "metadata": {
  "kernelspec": {
   "display_name": "Python 3",
   "language": "python",
   "name": "python3"
  },
  "language_info": {
   "codemirror_mode": {
    "name": "ipython",
    "version": 2
   },
   "file_extension": ".py",
   "mimetype": "text/x-python",
   "name": "python",
   "nbconvert_exporter": "python",
   "pygments_lexer": "ipython2",
   "version": "2.7.6"
  }
 },
 "nbformat": 4,
 "nbformat_minor": 5
}
