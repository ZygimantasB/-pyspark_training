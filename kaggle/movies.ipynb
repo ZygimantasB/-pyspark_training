{
 "cells": [
  {
   "cell_type": "code",
   "id": "initial_id",
   "metadata": {
    "collapsed": true,
    "ExecuteTime": {
     "end_time": "2025-03-16T19:26:55.380821Z",
     "start_time": "2025-03-16T19:26:54.456233Z"
    }
   },
   "source": [
    "import os\n",
    "import math\n",
    "\n",
    "import altair as alt\n",
    "import pandas as pd\n",
    "\n",
    "import plotly.express as px\n",
    "import plotly.graph_objects as go\n",
    "\n",
    "import pyspark.sql.functions as F\n",
    "from pyspark.sql import SparkSession\n",
    "from pyspark.sql import Window"
   ],
   "outputs": [],
   "execution_count": 1
  },
  {
   "metadata": {
    "ExecuteTime": {
     "end_time": "2025-03-16T19:26:55.387400Z",
     "start_time": "2025-03-16T19:26:55.382890Z"
    }
   },
   "cell_type": "code",
   "source": [
    "os.environ['SPARK_HOME'] = r'C:\\spark\\spark-3.5.5-bin-hadoop3'\n",
    "os.environ['PYSPARK_DRIVER_PYTHON'] = 'jupyter'\n",
    "os.environ['PYSPARK_DRIVER_PYTHON_OPTS'] = 'lab'\n",
    "os.environ['PYSPARK_PYTHON'] = 'python'"
   ],
   "id": "b7a34d0da8a9a880",
   "outputs": [],
   "execution_count": 2
  },
  {
   "metadata": {
    "ExecuteTime": {
     "end_time": "2025-03-16T19:26:59.535936Z",
     "start_time": "2025-03-16T19:26:55.682864Z"
    }
   },
   "cell_type": "code",
   "source": [
    "spark = (\n",
    "    SparkSession.builder\n",
    "    .appName('Airport Traffic')\n",
    "    .master('local[4]')\n",
    "    .config('spark.executor.memory', '2g')\n",
    "    .config('spark.executor.cores', '2')\n",
    "    .config(\"spark.dynamicAllocation.enabled\", \"true\")\n",
    "    .config(\"spark.dynamicAllocation.minExecutors\", \"1\")\n",
    "    .config(\"spark.dynamicAllocation.maxExecutors\", \"4\")\n",
    "    .config('spark.executor.memoryOverhead', '512m')\n",
    "    .config(\"spark.driver.memory\", \"2g\")\n",
    "    .config(\"spark.driver.maxResultSize\", \"2g\")\n",
    "    .config('spark.sql.adaptive.enabled', 'true')\n",
    "    .config('spark.sql.adaptive.coalescePartitions.enabled', 'true')\n",
    "    .config('spark.sql.adaptive.advisoryPartitionSizeInBytes', '64mb')\n",
    "    .config(\"spark.serializer\", \"org.apache.spark.serializer.KryoSerializer\")\n",
    "    .config('spark.dynamicAllocation.executorIdleTimeout', '60s')\n",
    "    .config('spark.sql.autoBroadcastJoinThreshold', '512mb')\n",
    "    .getOrCreate()\n",
    ")"
   ],
   "id": "a7f67f4f51d64e96",
   "outputs": [],
   "execution_count": 3
  },
  {
   "metadata": {
    "ExecuteTime": {
     "end_time": "2025-03-16T19:26:59.542141Z",
     "start_time": "2025-03-16T19:26:59.538941Z"
    }
   },
   "cell_type": "code",
   "source": [
    "df_movies_path = \"F:\\Datasets\\CSV datasets\\movies\\movies.csv\"\n",
    "df_movies_reviews_path = \"F:\\Datasets\\CSV datasets\\movies\\movies_reviews.csv\""
   ],
   "id": "723c1f1e11978d5e",
   "outputs": [],
   "execution_count": 4
  },
  {
   "metadata": {
    "ExecuteTime": {
     "end_time": "2025-03-16T19:27:04.379706Z",
     "start_time": "2025-03-16T19:26:59.556083Z"
    }
   },
   "cell_type": "code",
   "source": "movies_df = spark.read.csv(df_movies_path, header=True, inferSchema=True)",
   "id": "1c1cd66d8616cd9b",
   "outputs": [],
   "execution_count": 5
  },
  {
   "metadata": {
    "ExecuteTime": {
     "end_time": "2025-03-16T19:27:05.165014Z",
     "start_time": "2025-03-16T19:27:04.411134Z"
    }
   },
   "cell_type": "code",
   "source": "movies_reviews_df = spark.read.csv(df_movies_reviews_path, header=True, inferSchema=True)",
   "id": "7759133a79618ab2",
   "outputs": [],
   "execution_count": 6
  },
  {
   "metadata": {
    "ExecuteTime": {
     "end_time": "2025-03-16T19:27:13.844345Z",
     "start_time": "2025-03-16T19:27:13.808949Z"
    }
   },
   "cell_type": "code",
   "source": "joined_df = movies_reviews_df.join(F.broadcast(movies_df), movies_reviews_df.id == movies_df.id, 'inner')",
   "id": "cbabe0532e995fc8",
   "outputs": [],
   "execution_count": 9
  },
  {
   "metadata": {
    "ExecuteTime": {
     "end_time": "2025-03-16T19:27:14.559159Z",
     "start_time": "2025-03-16T19:27:14.466365Z"
    }
   },
   "cell_type": "code",
   "source": "joined_df.cache()",
   "id": "20ec4c6d1fad3f72",
   "outputs": [
    {
     "data": {
      "text/plain": [
       "DataFrame[id: string, title: string, quote: string, score: string, date: string, author: string, publicationName: string, review_type: string, id: string, title: string, releaseDate: string, rating: string, genres: string, description: string, duration: string, tagline: string, metascore: string, metascore_count: string, metascore_sentiment: string, userscore: string, userscore_count: string, userscore_sentiment: string, production_companies: string, director: string, writer: string, top_cast: string]"
      ]
     },
     "execution_count": 10,
     "metadata": {},
     "output_type": "execute_result"
    }
   ],
   "execution_count": 10
  },
  {
   "metadata": {
    "ExecuteTime": {
     "end_time": "2025-03-16T19:27:15.902790Z",
     "start_time": "2025-03-16T19:27:15.898149Z"
    }
   },
   "cell_type": "code",
   "source": "joined_df.printSchema()",
   "id": "b54f8551cd316eca",
   "outputs": [
    {
     "name": "stdout",
     "output_type": "stream",
     "text": [
      "root\n",
      " |-- id: string (nullable = true)\n",
      " |-- title: string (nullable = true)\n",
      " |-- quote: string (nullable = true)\n",
      " |-- score: string (nullable = true)\n",
      " |-- date: string (nullable = true)\n",
      " |-- author: string (nullable = true)\n",
      " |-- publicationName: string (nullable = true)\n",
      " |-- review_type: string (nullable = true)\n",
      " |-- id: string (nullable = true)\n",
      " |-- title: string (nullable = true)\n",
      " |-- releaseDate: string (nullable = true)\n",
      " |-- rating: string (nullable = true)\n",
      " |-- genres: string (nullable = true)\n",
      " |-- description: string (nullable = true)\n",
      " |-- duration: string (nullable = true)\n",
      " |-- tagline: string (nullable = true)\n",
      " |-- metascore: string (nullable = true)\n",
      " |-- metascore_count: string (nullable = true)\n",
      " |-- metascore_sentiment: string (nullable = true)\n",
      " |-- userscore: string (nullable = true)\n",
      " |-- userscore_count: string (nullable = true)\n",
      " |-- userscore_sentiment: string (nullable = true)\n",
      " |-- production_companies: string (nullable = true)\n",
      " |-- director: string (nullable = true)\n",
      " |-- writer: string (nullable = true)\n",
      " |-- top_cast: string (nullable = true)\n",
      "\n"
     ]
    }
   ],
   "execution_count": 11
  },
  {
   "metadata": {
    "ExecuteTime": {
     "end_time": "2025-03-16T19:27:25.766405Z",
     "start_time": "2025-03-16T19:27:25.722645Z"
    }
   },
   "cell_type": "code",
   "source": [
    "joined_df = joined_df.withColumn(\n",
    "    'director_array',\n",
    "    F.split(F.col('director'), ',')\n",
    ")\n",
    "\n",
    "joined_df = joined_df.withColumn(\n",
    "    'director_single',\n",
    "    F.explode(F.col('director_array'))\n",
    ")"
   ],
   "id": "c0e8ee6e27693b63",
   "outputs": [],
   "execution_count": 12
  },
  {
   "metadata": {
    "ExecuteTime": {
     "end_time": "2025-03-16T19:27:31.748957Z",
     "start_time": "2025-03-16T19:27:31.741905Z"
    }
   },
   "cell_type": "code",
   "source": "spark",
   "id": "fc2dabc74af7494a",
   "outputs": [
    {
     "data": {
      "text/plain": [
       "<pyspark.sql.session.SparkSession at 0x209bab06c90>"
      ],
      "text/html": [
       "\n",
       "            <div>\n",
       "                <p><b>SparkSession - in-memory</b></p>\n",
       "                \n",
       "        <div>\n",
       "            <p><b>SparkContext</b></p>\n",
       "\n",
       "            <p><a href=\"http://Zygimantas:4040\">Spark UI</a></p>\n",
       "\n",
       "            <dl>\n",
       "              <dt>Version</dt>\n",
       "                <dd><code>v3.5.5</code></dd>\n",
       "              <dt>Master</dt>\n",
       "                <dd><code>local[20]</code></dd>\n",
       "              <dt>AppName</dt>\n",
       "                <dd><code>Airport Traffic</code></dd>\n",
       "            </dl>\n",
       "        </div>\n",
       "        \n",
       "            </div>\n",
       "        "
      ]
     },
     "execution_count": 13,
     "metadata": {},
     "output_type": "execute_result"
    }
   ],
   "execution_count": 13
  },
  {
   "metadata": {
    "ExecuteTime": {
     "end_time": "2025-03-16T19:27:49.477468Z",
     "start_time": "2025-03-16T19:27:42.382666Z"
    }
   },
   "cell_type": "code",
   "source": [
    "joined_df.groupBy(\n",
    "    'director_single'\n",
    ").agg(\n",
    "    F.avg(F.col('userscore').cast('double')).alias('director_avg_score')\n",
    ").orderBy(\n",
    "    F.col('director_avg_score').desc()\n",
    ").show(5)"
   ],
   "id": "f7e5b26101c4f41b",
   "outputs": [
    {
     "name": "stdout",
     "output_type": "stream",
     "text": [
      "+-------------------+------------------+\n",
      "|    director_single|director_avg_score|\n",
      "+-------------------+------------------+\n",
      "|       Lev Anderson|             100.0|\n",
      "|      Brian W. Cook|             100.0|\n",
      "|   Milos Loncarevic|              98.0|\n",
      "|Nikolaus Geyrhalter|              98.0|\n",
      "|      Linnea Saasen|              98.0|\n",
      "+-------------------+------------------+\n",
      "only showing top 5 rows\n",
      "\n"
     ]
    }
   ],
   "execution_count": 14
  },
  {
   "metadata": {},
   "cell_type": "code",
   "outputs": [],
   "execution_count": null,
   "source": "",
   "id": "d2576e5942b761dc"
  }
 ],
 "metadata": {
  "kernelspec": {
   "display_name": "Python 3",
   "language": "python",
   "name": "python3"
  },
  "language_info": {
   "codemirror_mode": {
    "name": "ipython",
    "version": 2
   },
   "file_extension": ".py",
   "mimetype": "text/x-python",
   "name": "python",
   "nbconvert_exporter": "python",
   "pygments_lexer": "ipython2",
   "version": "2.7.6"
  }
 },
 "nbformat": 4,
 "nbformat_minor": 5
}
