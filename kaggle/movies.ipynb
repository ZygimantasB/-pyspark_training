{
 "cells": [
  {
   "cell_type": "code",
   "id": "initial_id",
   "metadata": {
    "collapsed": true,
    "ExecuteTime": {
     "end_time": "2025-03-16T18:55:57.492572Z",
     "start_time": "2025-03-16T18:55:56.394490Z"
    }
   },
   "source": [
    "import os\n",
    "import math\n",
    "\n",
    "import altair as alt\n",
    "import pandas as pd\n",
    "\n",
    "import plotly.express as px\n",
    "import plotly.graph_objects as go\n",
    "\n",
    "import pyspark.sql.functions as F\n",
    "from pyspark.sql import SparkSession\n",
    "from pyspark.sql import Window"
   ],
   "outputs": [],
   "execution_count": 2
  },
  {
   "metadata": {
    "ExecuteTime": {
     "end_time": "2025-03-16T18:56:00.898868Z",
     "start_time": "2025-03-16T18:56:00.895423Z"
    }
   },
   "cell_type": "code",
   "source": [
    "os.environ['SPARK_HOME'] = r'C:\\spark\\spark-3.5.5-bin-hadoop3'\n",
    "os.environ['PYSPARK_DRIVER_PYTHON'] = 'jupyter'\n",
    "os.environ['PYSPARK_DRIVER_PYTHON_OPTS'] = 'lab'\n",
    "os.environ['PYSPARK_PYTHON'] = 'python'"
   ],
   "id": "b7a34d0da8a9a880",
   "outputs": [],
   "execution_count": 3
  },
  {
   "metadata": {
    "ExecuteTime": {
     "end_time": "2025-03-16T18:56:05.448784Z",
     "start_time": "2025-03-16T18:56:01.470993Z"
    }
   },
   "cell_type": "code",
   "source": [
    "spark = (\n",
    "    SparkSession.builder\n",
    "    .appName('Airport Traffic')\n",
    "    .master('local[20]')\n",
    "    .config('spark.executor.memory', '12g')\n",
    "    .config('spark.executor.cors', '4')\n",
    "    .config(\"spark.dynamicAllocation.enabled\", \"true\")\n",
    "    .config(\"spark.dynamicAllocation.minExecutors\", \"2\")\n",
    "    .config(\"spark.dynamicAllocation.maxExecutors\", \"20\")\n",
    "    .config('spark.executors.memoryOverhead', '2g')\n",
    "    .config(\"spark.driver.memory\", \"12g\")\n",
    "    .config(\"spark.driver.maxResultSize\", \"4g\")\n",
    "    .config('spark.sql.adaptive.enabled', 'true')\n",
    "    .config('spark.sql.adaptive.coalescePartitions.enabled', 'true')\n",
    "    .config('spark.sql.adaptive.advisoryPartitionSizeInBytes', '128mb')\n",
    "    .config(\"spark.serializer\", \"org.apache.spark.serializer.KryoSerializer\")\n",
    "    .config('spark.dynamicAllocation.executorIdleTimeout', '120')\n",
    "    .config('spark.sql.autoBroadcastJoinThreshold', '512mb')\n",
    "    .getOrCreate()\n",
    ")"
   ],
   "id": "a7f67f4f51d64e96",
   "outputs": [],
   "execution_count": 4
  },
  {
   "metadata": {
    "ExecuteTime": {
     "end_time": "2025-03-16T18:56:05.455941Z",
     "start_time": "2025-03-16T18:56:05.452791Z"
    }
   },
   "cell_type": "code",
   "source": [
    "df_movies_path = \"F:\\Datasets\\CSV datasets\\movies\\movies.csv\"\n",
    "df_movies_reviews_path = \"F:\\Datasets\\CSV datasets\\movies\\movies_reviews.csv\""
   ],
   "id": "723c1f1e11978d5e",
   "outputs": [],
   "execution_count": 5
  },
  {
   "metadata": {
    "ExecuteTime": {
     "end_time": "2025-03-16T18:56:10.123459Z",
     "start_time": "2025-03-16T18:56:05.469461Z"
    }
   },
   "cell_type": "code",
   "source": "movies_df = spark.read.csv(df_movies_path, header=True, inferSchema=True)",
   "id": "1c1cd66d8616cd9b",
   "outputs": [],
   "execution_count": 6
  },
  {
   "metadata": {
    "ExecuteTime": {
     "end_time": "2025-03-16T18:56:10.892787Z",
     "start_time": "2025-03-16T18:56:10.149741Z"
    }
   },
   "cell_type": "code",
   "source": "movies_reviews_df = spark.read.csv(df_movies_reviews_path, header=True, inferSchema=True)",
   "id": "7759133a79618ab2",
   "outputs": [],
   "execution_count": 7
  },
  {
   "metadata": {
    "ExecuteTime": {
     "end_time": "2025-03-16T18:57:39.115036Z",
     "start_time": "2025-03-16T18:57:39.035337Z"
    }
   },
   "cell_type": "code",
   "source": "movies_df.show(5)",
   "id": "68e340a1e67d7149",
   "outputs": [
    {
     "name": "stdout",
     "output_type": "stream",
     "text": [
      "+----------+--------------------+-----------+------+--------------------+--------------------+--------+--------------------+---------+---------------+-------------------+---------+---------------+-------------------+--------------------+--------------------+--------------------+--------------------+\n",
      "|        id|               title|releaseDate|rating|              genres|         description|duration|             tagline|metascore|metascore_count|metascore_sentiment|userscore|userscore_count|userscore_sentiment|production_companies|            director|              writer|            top_cast|\n",
      "+----------+--------------------+-----------+------+--------------------+--------------------+--------+--------------------+---------+---------------+-------------------+---------+---------------+-------------------+--------------------+--------------------+--------------------+--------------------+\n",
      "|2000545497|      Dekalog (1988)| 1996-03-22| TV-MA|               Drama|This masterwork b...|     572|                NULL|    100.0|             13|  Universal acclaim|     78.0|          162.0|Generally favorable|\"Telewizja Polska...|Sender Freies Ber...|          Janus Film|Facets Multimedia...|\n",
      "|2000521589|The Leopard (re-r...| 2004-08-13|    PG|       Drama,History|Set in Sicily in ...|     187|Luchino Visconti'...|    100.0|             12|  Universal acclaim|     79.0|           99.0|Generally favorable|Titanus,Société N...|    Luchino Visconti|Giuseppe Tomasi d...|Burt Lancaster,Al...|\n",
      "|2000548059|         Rear Window| 1954-09-01| TV-PG|Drama,Mystery,Thr...|A wheelchair-boun...|     112|In deadly danger....|    100.0|             18|  Universal acclaim|     87.0|          626.0|  Universal acclaim|Alfred J. Hitchco...|    Alfred Hitchcock|John Michael Haye...|James Stewart,Gra...|\n",
      "|2000542176|             Boyhood| 2014-07-11| TV-14|               Drama|Filmed over 12 ye...|     165|12 years in the m...|    100.0|             50|  Universal acclaim|     76.0|         2650.0|Generally favorable|IFC Productions,D...|   Richard Linklater|   Richard Linklater|Ellar Coltrane,Pa...|\n",
      "|2000545507|   Three Colors: Red| 1994-11-23|     R|Drama,Mystery,Rom...|Krzysztof Kieslow...|      99|                NULL|    100.0|             11|  Universal acclaim|     83.0|          270.0|  Universal acclaim|\"MK2 Productions,...|              Canal+|           Eurimages|Télévision Suisse...|\n",
      "+----------+--------------------+-----------+------+--------------------+--------------------+--------+--------------------+---------+---------------+-------------------+---------+---------------+-------------------+--------------------+--------------------+--------------------+--------------------+\n",
      "only showing top 5 rows\n",
      "\n"
     ]
    }
   ],
   "execution_count": 9
  },
  {
   "metadata": {
    "ExecuteTime": {
     "end_time": "2025-03-16T18:57:50.407182Z",
     "start_time": "2025-03-16T18:57:50.302526Z"
    }
   },
   "cell_type": "code",
   "source": "movies_reviews_df.show(5)",
   "id": "44a84ef575f57b5b",
   "outputs": [
    {
     "name": "stdout",
     "output_type": "stream",
     "text": [
      "+--------------------+--------------------+--------------------+--------------------+--------------------+--------------------+--------------------+--------------------+\n",
      "|                  id|               title|               quote|               score|                date|              author|     publicationName|         review_type|\n",
      "+--------------------+--------------------+--------------------+--------------------+--------------------+--------------------+--------------------+--------------------+\n",
      "|          2000545497|      Dekalog (1988)|What a bitter pil...|                 100|          2023-11-22|                Siza|                NULL|                user|\n",
      "|          2000545497|      Dekalog (1988)|The best 10 hours...|                NULL|                NULL|                NULL|                NULL|                NULL|\n",
      "|Ten commandments....| decades before l...| Krzysztof Kieślo...| and more lavishl...| “Dekalog” would ...|                 100|          2021-05-01|        ItsMahdiyarr|\n",
      "|          2000545497|      Dekalog (1988)|Touching and huma...|                 100|          2019-12-05|            Andremax|                NULL|                user|\n",
      "|          2000545497|      Dekalog (1988)|\"Krzysztof Kieslo...| and probably the...| like I do). I us...| Ingmar Bergman a...| but I might cons...| and that makes t...|\n",
      "+--------------------+--------------------+--------------------+--------------------+--------------------+--------------------+--------------------+--------------------+\n",
      "only showing top 5 rows\n",
      "\n"
     ]
    }
   ],
   "execution_count": 10
  },
  {
   "metadata": {
    "ExecuteTime": {
     "end_time": "2025-03-16T18:59:07.581140Z",
     "start_time": "2025-03-16T18:59:07.566135Z"
    }
   },
   "cell_type": "code",
   "source": "joined_df = movies_reviews_df.join(F.broadcast(movies_df), movies_reviews_df.id == movies_df.id, 'inner')",
   "id": "cbabe0532e995fc8",
   "outputs": [],
   "execution_count": 13
  },
  {
   "metadata": {
    "ExecuteTime": {
     "end_time": "2025-03-16T19:03:13.028875Z",
     "start_time": "2025-03-16T19:03:12.994598Z"
    }
   },
   "cell_type": "code",
   "source": "joined_df.cache()",
   "id": "20ec4c6d1fad3f72",
   "outputs": [
    {
     "data": {
      "text/plain": [
       "DataFrame[id: string, title: string, quote: string, score: string, date: string, author: string, publicationName: string, review_type: string, id: string, title: string, releaseDate: string, rating: string, genres: string, description: string, duration: string, tagline: string, metascore: string, metascore_count: string, metascore_sentiment: string, userscore: string, userscore_count: string, userscore_sentiment: string, production_companies: string, director: string, writer: string, top_cast: string]"
      ]
     },
     "execution_count": 19,
     "metadata": {},
     "output_type": "execute_result"
    }
   ],
   "execution_count": 19
  },
  {
   "metadata": {
    "ExecuteTime": {
     "end_time": "2025-03-16T19:07:58.018631Z",
     "start_time": "2025-03-16T19:07:58.013898Z"
    }
   },
   "cell_type": "code",
   "source": "joined_df.printSchema()",
   "id": "b54f8551cd316eca",
   "outputs": [
    {
     "name": "stdout",
     "output_type": "stream",
     "text": [
      "root\n",
      " |-- id: string (nullable = true)\n",
      " |-- title: string (nullable = true)\n",
      " |-- quote: string (nullable = true)\n",
      " |-- score: string (nullable = true)\n",
      " |-- date: string (nullable = true)\n",
      " |-- author: string (nullable = true)\n",
      " |-- publicationName: string (nullable = true)\n",
      " |-- review_type: string (nullable = true)\n",
      " |-- id: string (nullable = true)\n",
      " |-- title: string (nullable = true)\n",
      " |-- releaseDate: string (nullable = true)\n",
      " |-- rating: string (nullable = true)\n",
      " |-- genres: string (nullable = true)\n",
      " |-- description: string (nullable = true)\n",
      " |-- duration: string (nullable = true)\n",
      " |-- tagline: string (nullable = true)\n",
      " |-- metascore: string (nullable = true)\n",
      " |-- metascore_count: string (nullable = true)\n",
      " |-- metascore_sentiment: string (nullable = true)\n",
      " |-- userscore: string (nullable = true)\n",
      " |-- userscore_count: string (nullable = true)\n",
      " |-- userscore_sentiment: string (nullable = true)\n",
      " |-- production_companies: string (nullable = true)\n",
      " |-- director: string (nullable = true)\n",
      " |-- writer: string (nullable = true)\n",
      " |-- top_cast: string (nullable = true)\n",
      "\n"
     ]
    }
   ],
   "execution_count": 24
  },
  {
   "metadata": {
    "ExecuteTime": {
     "end_time": "2025-03-16T19:08:05.175689Z",
     "start_time": "2025-03-16T19:08:05.112552Z"
    }
   },
   "cell_type": "code",
   "source": "joined_df.show(5)",
   "id": "ff6faabb12452fc2",
   "outputs": [
    {
     "name": "stdout",
     "output_type": "stream",
     "text": [
      "+----------+--------------+--------------------+--------------------+--------------------+--------------------+--------------------+--------------------+----------+--------------+-----------+------+------+--------------------+--------+-------+---------+---------------+-------------------+---------+---------------+-------------------+--------------------+--------------------+----------+--------------------+\n",
      "|        id|         title|               quote|               score|                date|              author|     publicationName|         review_type|        id|         title|releaseDate|rating|genres|         description|duration|tagline|metascore|metascore_count|metascore_sentiment|userscore|userscore_count|userscore_sentiment|production_companies|            director|    writer|            top_cast|\n",
      "+----------+--------------+--------------------+--------------------+--------------------+--------------------+--------------------+--------------------+----------+--------------+-----------+------+------+--------------------+--------+-------+---------+---------------+-------------------+---------+---------------+-------------------+--------------------+--------------------+----------+--------------------+\n",
      "|2000545497|Dekalog (1988)|What a bitter pil...|                 100|          2023-11-22|                Siza|                NULL|                user|2000545497|Dekalog (1988)| 1996-03-22| TV-MA| Drama|This masterwork b...|     572|   NULL|    100.0|             13|  Universal acclaim|     78.0|          162.0|Generally favorable|\"Telewizja Polska...|Sender Freies Ber...|Janus Film|Facets Multimedia...|\n",
      "|2000545497|Dekalog (1988)|The best 10 hours...|                NULL|                NULL|                NULL|                NULL|                NULL|2000545497|Dekalog (1988)| 1996-03-22| TV-MA| Drama|This masterwork b...|     572|   NULL|    100.0|             13|  Universal acclaim|     78.0|          162.0|Generally favorable|\"Telewizja Polska...|Sender Freies Ber...|Janus Film|Facets Multimedia...|\n",
      "|2000545497|Dekalog (1988)|Touching and huma...|                 100|          2019-12-05|            Andremax|                NULL|                user|2000545497|Dekalog (1988)| 1996-03-22| TV-MA| Drama|This masterwork b...|     572|   NULL|    100.0|             13|  Universal acclaim|     78.0|          162.0|Generally favorable|\"Telewizja Polska...|Sender Freies Ber...|Janus Film|Facets Multimedia...|\n",
      "|2000545497|Dekalog (1988)|\"Krzysztof Kieslo...| and probably the...| like I do). I us...| Ingmar Bergman a...| but I might cons...| and that makes t...|2000545497|Dekalog (1988)| 1996-03-22| TV-MA| Drama|This masterwork b...|     572|   NULL|    100.0|             13|  Universal acclaim|     78.0|          162.0|Generally favorable|\"Telewizja Polska...|Sender Freies Ber...|Janus Film|Facets Multimedia...|\n",
      "|2000545497|Dekalog (1988)|For me it is simp...|                 100|          2024-10-31|            Daki1105|                NULL|                user|2000545497|Dekalog (1988)| 1996-03-22| TV-MA| Drama|This masterwork b...|     572|   NULL|    100.0|             13|  Universal acclaim|     78.0|          162.0|Generally favorable|\"Telewizja Polska...|Sender Freies Ber...|Janus Film|Facets Multimedia...|\n",
      "+----------+--------------+--------------------+--------------------+--------------------+--------------------+--------------------+--------------------+----------+--------------+-----------+------+------+--------------------+--------+-------+---------+---------------+-------------------+---------+---------------+-------------------+--------------------+--------------------+----------+--------------------+\n",
      "only showing top 5 rows\n",
      "\n"
     ]
    }
   ],
   "execution_count": 25
  },
  {
   "metadata": {},
   "cell_type": "code",
   "outputs": [],
   "execution_count": null,
   "source": "",
   "id": "f7e5b26101c4f41b"
  }
 ],
 "metadata": {
  "kernelspec": {
   "display_name": "Python 3",
   "language": "python",
   "name": "python3"
  },
  "language_info": {
   "codemirror_mode": {
    "name": "ipython",
    "version": 2
   },
   "file_extension": ".py",
   "mimetype": "text/x-python",
   "name": "python",
   "nbconvert_exporter": "python",
   "pygments_lexer": "ipython2",
   "version": "2.7.6"
  }
 },
 "nbformat": 4,
 "nbformat_minor": 5
}
