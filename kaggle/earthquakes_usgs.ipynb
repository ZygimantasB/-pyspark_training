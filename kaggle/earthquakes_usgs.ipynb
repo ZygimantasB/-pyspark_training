{
 "cells": [
  {
   "cell_type": "code",
   "id": "initial_id",
   "metadata": {
    "collapsed": true,
    "ExecuteTime": {
     "end_time": "2025-04-28T18:10:28.970658Z",
     "start_time": "2025-04-28T18:10:28.503232Z"
    }
   },
   "source": [
    "import os\n",
    "import math\n",
    "\n",
    "import altair as alt\n",
    "import pandas as pd\n",
    "import seaborn as sns\n",
    "import matplotlib.pyplot as plt\n",
    "\n",
    "import plotly.express as px\n",
    "import plotly.graph_objects as go\n",
    "\n",
    "import pyspark.sql.functions as F\n",
    "from pyspark.sql import SparkSession\n",
    "from pyspark.sql import Window\n",
    "from pyspark.sql.types import ShortType"
   ],
   "outputs": [],
   "execution_count": 2
  },
  {
   "metadata": {
    "ExecuteTime": {
     "end_time": "2025-04-28T18:10:28.492008Z",
     "start_time": "2025-04-28T18:10:28.488752Z"
    }
   },
   "cell_type": "code",
   "source": "df_path = r\"F:\\Datasets\\CSV datasets\\earthquakes_usgs.csv\"",
   "id": "32cf480cda8a43b0",
   "outputs": [],
   "execution_count": 1
  },
  {
   "metadata": {
    "ExecuteTime": {
     "end_time": "2025-04-28T18:11:06.206147Z",
     "start_time": "2025-04-28T18:11:06.201596Z"
    }
   },
   "cell_type": "code",
   "source": [
    "os.environ['SPARK_HOME'] = r'C:\\spark\\spark-3.5.5-bin-hadoop3'\n",
    "os.environ['PYSPARK_DRIVER_PYTHON'] = 'jupyter'\n",
    "os.environ['PYSPARK_DRIVER_PYTHON_OPTS'] = 'lab'\n",
    "os.environ['PYSPARK_PYTHON'] = 'python'"
   ],
   "id": "b4ec9346696cf1bf",
   "outputs": [],
   "execution_count": 3
  },
  {
   "metadata": {
    "ExecuteTime": {
     "end_time": "2025-04-28T18:17:30.790247Z",
     "start_time": "2025-04-28T18:17:29.985349Z"
    }
   },
   "cell_type": "code",
   "source": [
    "spark = (\n",
    "    SparkSession.builder\n",
    "    .appName('MOMA art collection - Optimized Local')\n",
    "    .master('local[*]')\n",
    "    .config(\"spark.driver.memory\", \"60g\")\n",
    "    .config(\"spark.driver.maxResultSize\", \"4g\")\n",
    "    .config('spark.sql.adaptive.enabled', 'true')\n",
    "    .config('spark.sql.adaptive.coalescePartitions.enabled', 'true')\n",
    "    .config('spark.sql.adaptive.advisoryPartitionSizeInBytes', '128mb')\n",
    "    .config('spark.sql.shuffle.partitions', '100')\n",
    "    .config(\"spark.serializer\", \"org.apache.spark.serializer.KryoSerializer\")\n",
    "    .config('spark.sql.autoBroadcastJoinThreshold', '256mb')\n",
    "    .getOrCreate()\n",
    ")\n",
    "\n",
    "print(f\"SparkSession configured with Driver Memory: {spark.conf.get('spark.driver.memory')}\")"
   ],
   "id": "133b439d9f273608",
   "outputs": [
    {
     "name": "stdout",
     "output_type": "stream",
     "text": [
      "SparkSession configured with Driver Memory: 60g\n"
     ]
    }
   ],
   "execution_count": 6
  },
  {
   "metadata": {
    "ExecuteTime": {
     "end_time": "2025-04-28T18:22:26.738678Z",
     "start_time": "2025-04-28T18:22:19.274226Z"
    }
   },
   "cell_type": "code",
   "source": [
    "df = spark.read.option(\n",
    "    \"header\", \"true\"\n",
    ").option(\n",
    "    \"inferSchema\", \"true\"\n",
    ").csv(df_path)"
   ],
   "id": "c73131cdf120ddde",
   "outputs": [],
   "execution_count": 7
  },
  {
   "metadata": {
    "ExecuteTime": {
     "end_time": "2025-04-28T18:24:18.465786Z",
     "start_time": "2025-04-28T18:24:18.460068Z"
    }
   },
   "cell_type": "code",
   "source": "df.printSchema()",
   "id": "2fc9c9ecb1649675",
   "outputs": [
    {
     "name": "stdout",
     "output_type": "stream",
     "text": [
      "root\n",
      " |-- time: timestamp (nullable = true)\n",
      " |-- latitude: double (nullable = true)\n",
      " |-- longitude: double (nullable = true)\n",
      " |-- depth: double (nullable = true)\n",
      " |-- mag: double (nullable = true)\n",
      " |-- magType: string (nullable = true)\n",
      " |-- nst: double (nullable = true)\n",
      " |-- gap: double (nullable = true)\n",
      " |-- dmin: double (nullable = true)\n",
      " |-- rms: double (nullable = true)\n",
      " |-- net: string (nullable = true)\n",
      " |-- id: string (nullable = true)\n",
      " |-- updated: timestamp (nullable = true)\n",
      " |-- place: string (nullable = true)\n",
      " |-- type: string (nullable = true)\n",
      " |-- horizontalError: double (nullable = true)\n",
      " |-- depthError: double (nullable = true)\n",
      " |-- magError: double (nullable = true)\n",
      " |-- magNst: double (nullable = true)\n",
      " |-- status: string (nullable = true)\n",
      " |-- locationSource: string (nullable = true)\n",
      " |-- magSource: string (nullable = true)\n",
      "\n"
     ]
    }
   ],
   "execution_count": 11
  },
  {
   "metadata": {},
   "cell_type": "markdown",
   "source": [
    "## Explanation of Earthquake Data Schema Columns\n",
    "\n",
    "This describes the meaning of each column found in the earthquake dataset schema.\n",
    "\n",
    "---\n",
    "\n",
    "-   **`time` (timestamp)**: The precise date and time when the earthquake occurred (the origin time) at the source. Usually in UTC.\n",
    "\n",
    "-   **`latitude` (double)**: The geographic latitude of the earthquake's epicenter (point on surface above origin). Decimal degrees (N+, S-).\n",
    "\n",
    "-   **`longitude` (double)**: The geographic longitude of the earthquake's epicenter. Decimal degrees (E+, W-).\n",
    "\n",
    "-   **`depth` (double)**: The depth of the earthquake's hypocenter (focus) below the Earth's surface. Usually in kilometers (km).\n",
    "\n",
    "-   **`mag` (double)**: The magnitude (size/strength) of the earthquake. Scale depends on `magType`.\n",
    "\n",
    "-   **`magType` (string)**: Method/scale used for magnitude (e.g., Mw, Ml, Mb, Ms, Md).\n",
    "\n",
    "-   **`nst` (double)**: Number of Seismic Stations used to determine location. Higher numbers often mean more reliability.\n",
    "\n",
    "-   **`gap` (double)**: Azimuthal Gap (degrees). Largest angle between adjacent stations. Smaller gaps (< 180°) mean better coverage.\n",
    "\n",
    "-   **`dmin` (double)**: Minimum Distance (degrees or km) from epicenter to the nearest station. Smaller values often improve accuracy.\n",
    "\n",
    "-   **`rms` (double)**: Root Mean Square (seconds) of travel-time residuals. Lower values indicate a better fit of the location/time model to data.\n",
    "\n",
    "-   **`net` (string)**: Network Identifier of the primary source/contributor (e.g., 'us', 'ci', 'ak').\n",
    "\n",
    "-   **`id` (string)**: Unique Event ID assigned by the source network (`net`).\n",
    "\n",
    "-   **`updated` (timestamp)**: Timestamp when this event information was last modified in the source database.\n",
    "\n",
    "-   **`place` (string)**: Human-readable description of the approximate location (e.g., \"9km ENE of Pāhala, Hawaii\").\n",
    "\n",
    "-   **`type` (string)**: Type of seismic event (e.g., 'earthquake', 'quarry blast', 'explosion').\n",
    "\n",
    "-   **`horizontalError` (double)**: Uncertainty/error estimate for the epicenter location (latitude/longitude), usually in km.\n",
    "\n",
    "-   **`depthError` (double)**: Uncertainty/error estimate for the hypocenter depth, usually in km.\n",
    "\n",
    "-   **`magError` (double)**: Uncertainty/error estimate for the magnitude (`mag`).\n",
    "\n",
    "-   **`magNst` (double)**: Number of Stations used specifically to calculate the magnitude (`mag`). Higher numbers often mean more reliability.\n",
    "\n",
    "-   **`status` (string)**: Review status (e.g., 'automatic', 'reviewed', 'deleted').\n",
    "\n",
    "-   **`locationSource` (string)**: Network/agency providing the authoritative location solution.\n",
    "\n",
    "-   **`magSource` (string)**: Network/agency providing the authoritative magnitude solution.\n",
    "\n",
    "---\n",
    "\n",
    "> _**Note:** All columns are potentially nullable, meaning they might contain missing (NULL) values for a given event record._"
   ],
   "id": "48371153bf0d1dba"
  },
  {
   "metadata": {
    "ExecuteTime": {
     "end_time": "2025-04-28T18:55:25.945041Z",
     "start_time": "2025-04-28T18:55:25.942530Z"
    }
   },
   "cell_type": "code",
   "source": "",
   "id": "46ca8ea47037b9b",
   "outputs": [],
   "execution_count": null
  },
  {
   "metadata": {},
   "cell_type": "code",
   "outputs": [],
   "execution_count": null,
   "source": "",
   "id": "2d16b7c4ff4203e3"
  }
 ],
 "metadata": {
  "kernelspec": {
   "display_name": "Python 3",
   "language": "python",
   "name": "python3"
  },
  "language_info": {
   "codemirror_mode": {
    "name": "ipython",
    "version": 2
   },
   "file_extension": ".py",
   "mimetype": "text/x-python",
   "name": "python",
   "nbconvert_exporter": "python",
   "pygments_lexer": "ipython2",
   "version": "2.7.6"
  }
 },
 "nbformat": 4,
 "nbformat_minor": 5
}
