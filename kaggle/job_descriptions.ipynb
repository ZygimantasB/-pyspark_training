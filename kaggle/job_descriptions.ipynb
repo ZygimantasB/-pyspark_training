{
 "cells": [
  {
   "metadata": {},
   "cell_type": "markdown",
   "source": "https://www.kaggle.com/datasets/ravindrasinghrana/job-description-dataset",
   "id": "94a80cdc57012170"
  },
  {
   "cell_type": "code",
   "id": "initial_id",
   "metadata": {
    "collapsed": true,
    "ExecuteTime": {
     "end_time": "2025-01-11T21:26:50.356775Z",
     "start_time": "2025-01-11T21:26:49.817159Z"
    }
   },
   "source": [
    "from pyspark.sql import SparkSession\n",
    "from pyspark.sql import functions as F\n",
    "from pyspark.sql import Window\n",
    "from pyspark.sql.types import StringType, IntegerType, FloatType, DateType\n",
    "import seaborn as sns\n",
    "import matplotlib as plt\n",
    "import altair as alt\n",
    "import plotly.express as px"
   ],
   "outputs": [],
   "execution_count": 1
  },
  {
   "metadata": {
    "ExecuteTime": {
     "end_time": "2025-01-11T21:26:54.221223Z",
     "start_time": "2025-01-11T21:26:50.360416Z"
    }
   },
   "cell_type": "code",
   "source": [
    "spark = (\n",
    "    SparkSession.builder\n",
    "    .appName(\"JobDescription\")\n",
    "    .config('spark.executor.memory', '16g')\n",
    "    .config('spark.driver.memory', '16g')\n",
    "    .config('spark.default.parallelism', '24')\n",
    "    .config('spark.sql.shuffle.partitions', '24')\n",
    "    .config('spark.dynamicAllocation.enabled', 'true')\n",
    "    .config('spark.shuffle.service.enabled', 'true')\n",
    "    .config(\"spark.serializer\", \"org.apache.spark.serializer.KryoSerializer\")\n",
    "    .getOrCreate())"
   ],
   "id": "bb6c3c1376fd5878",
   "outputs": [],
   "execution_count": 2
  },
  {
   "metadata": {
    "ExecuteTime": {
     "end_time": "2025-01-11T21:26:54.412164Z",
     "start_time": "2025-01-11T21:26:54.408655Z"
    }
   },
   "cell_type": "code",
   "source": "df_path = r\"F:\\Datasets\\CSV datasets\\job_descriptions.csv\"",
   "id": "64154499dfa586a",
   "outputs": [],
   "execution_count": 3
  },
  {
   "metadata": {
    "ExecuteTime": {
     "end_time": "2025-01-11T21:27:00.899321Z",
     "start_time": "2025-01-11T21:26:54.418735Z"
    }
   },
   "cell_type": "code",
   "source": "df = spark.read.csv(df_path, inferSchema=True, header=True)",
   "id": "590522b9b19e18fc",
   "outputs": [],
   "execution_count": 4
  },
  {
   "metadata": {
    "ExecuteTime": {
     "end_time": "2025-01-11T21:40:11.025500Z",
     "start_time": "2025-01-11T21:40:08.941660Z"
    }
   },
   "cell_type": "code",
   "source": [
    "df = df.repartition(100, \"Country\")\n",
    "\n",
    "df.cache()\n",
    "\n",
    "df.groupBy(\n",
    "    'Country', 'Country', 'Work Type'\n",
    ").agg(\n",
    "    F.sum('Company Size').alias('Company Size'),\n",
    "    F.mean('Company Size').alias('Mean Company Size'),\n",
    "    F.count('Company Size').alias('Count Company Size'),\n",
    "    F.countDistinct('Company Size').alias('Distinct Company Size'),\n",
    "    F.min('Company Size').alias('Min Company Size'),\n",
    "    F.max('Company Size').alias('Max Company Size'),\n",
    "    F.stddev('Company Size').alias('Stddev Company Size'),\n",
    "    F.variance('Company Size').alias('Variance Company Size'),\n",
    ").show(50, truncate=False)"
   ],
   "id": "9b3ea0266d49c2ec",
   "outputs": [
    {
     "name": "stdout",
     "output_type": "stream",
     "text": [
      "+--------+--------+---------+------------+-----------------+------------------+---------------------+----------------+----------------+-------------------+---------------------+\n",
      "|Country |Country |Work Type|Company Size|Mean Company Size|Count Company Size|Distinct Company Size|Min Company Size|Max Company Size|Stddev Company Size|Variance Company Size|\n",
      "+--------+--------+---------+------------+-----------------+------------------+---------------------+----------------+----------------+-------------------+---------------------+\n",
      "|Panama  |Panama  |Temporary|106845218   |73992.53324099723|1444              |1433                 |12646           |134770          |35704.54820972104  |1.274814762860294E9  |\n",
      "|Panama  |Panama  |Contract |108832619   |73585.27315753888|1479              |1471                 |12802           |134832          |34800.12419859903  |1.2110486442379177E9 |\n",
      "|Panama  |Panama  |Full-Time|107396580   |74997.61173184357|1432              |1425                 |12711           |134822          |35161.41412522968  |1.2363250432859013E9 |\n",
      "|Panama  |Panama  |Intern   |107526729   |74775.19401947148|1438              |1431                 |12709           |134801          |35668.81832636861  |1.2722646007994893E9 |\n",
      "|Panama  |Panama  |Part-Time|114706098   |73956.22050290136|1551              |1535                 |12738           |134810          |35438.19284601498  |1.2558655121913471E9 |\n",
      "|Chad    |Chad    |Temporary|112680529   |75624.51610738254|1490              |1480                 |12735           |134743          |34818.03728759254  |1.2122957205601845E9 |\n",
      "|Chad    |Chad    |Part-Time|113798785   |74087.75065104167|1536              |1521                 |12741           |134776          |34987.758167935164 |1.224143221617914E9  |\n",
      "|Chad    |Chad    |Contract |110659588   |73284.4953642384 |1510              |1500                 |12649           |134820          |35772.33897509573  |1.2796602357491527E9 |\n",
      "|Chad    |Chad    |Intern   |104754792   |72847.56050069541|1438              |1429                 |12662           |134722          |35439.34974112715  |1.255947510073929E9  |\n",
      "|Chad    |Chad    |Full-Time|110351099   |73813.44414715719|1495              |1476                 |12750           |134760          |35298.88837970343  |1.246011520842762E9  |\n",
      "|Paraguay|Paraguay|Intern   |109467304   |74014.40432724814|1479              |1471                 |12696           |134729          |35270.255076362846 |1.243990893151699E9  |\n",
      "|Russia  |Russia  |Contract |110824400   |73151.41914191419|1515              |1507                 |12716           |134720          |35462.751338103946 |1.2576067324681933E9 |\n",
      "|Russia  |Russia  |Full-Time|107461194   |74162.31469979296|1449              |1442                 |12772           |134762          |35023.826999165445 |1.2266684576674705E9 |\n",
      "|Russia  |Russia  |Intern   |109839610   |74215.9527027027 |1480              |1472                 |12650           |134786          |35613.118696474405 |1.2682942232891748E9 |\n",
      "|Paraguay|Paraguay|Part-Time|109607124   |74664.25340599455|1468              |1457                 |12694           |134434          |35530.72262655501  |1.2624322503651884E9 |\n",
      "|Nauru   |Nauru   |Contract |113644260   |74765.96052631579|1520              |1511                 |12661           |134754          |34827.612252206054 |1.2129625751900132E9 |\n",
      "|Paraguay|Paraguay|Temporary|113722239   |73845.60974025974|1540              |1529                 |12667           |134826          |36233.93421953565  |1.3128979890256364E9 |\n",
      "|Nauru   |Nauru   |Full-Time|110944754   |73230.86072607261|1515              |1508                 |12727           |134488          |35215.61053576402  |1.2401392254066136E9 |\n",
      "|Nauru   |Nauru   |Part-Time|114841628   |75653.2463768116 |1518              |1510                 |12809           |134753          |35233.10885195438  |1.241371959373666E9  |\n",
      "|Paraguay|Paraguay|Contract |114356774   |73969.45278137128|1546              |1539                 |12652           |134711          |35934.1305120583   |1.2912617356576393E9 |\n",
      "|Nauru   |Nauru   |Temporary|114190807   |74781.14407334643|1527              |1519                 |12666           |134749          |34611.76926489504  |1.197974571646333E9  |\n",
      "|Nauru   |Nauru   |Intern   |111899339   |74450.65801729873|1503              |1492                 |12683           |134829          |35145.00322123926  |1.235171251420918E9  |\n",
      "|Russia  |Russia  |Temporary|113569154   |73555.15155440415|1544              |1528                 |12673           |134813          |35561.70576883144  |1.2646349171889393E9 |\n",
      "|Paraguay|Paraguay|Full-Time|111068053   |73946.77296937417|1502              |1495                 |12660           |134739          |34887.066571797994 |1.217107413985065E9  |\n",
      "|Russia  |Russia  |Part-Time|114525813   |75395.53192890059|1519              |1510                 |12687           |134803          |35502.99263915793  |1.2604624863361022E9 |\n",
      "|Ukraine |Ukraine |Intern   |109300351   |73702.19217801753|1483              |1474                 |12698           |134831          |35020.51609846897  |1.2264365478031244E9 |\n",
      "|Ukraine |Ukraine |Contract |102578366   |71984.81824561403|1425              |1417                 |12649           |134750          |35868.108023615736 |1.2865211731937678E9 |\n",
      "|Ukraine |Ukraine |Part-Time|107595391   |74152.57822191592|1451              |1445                 |12687           |134794          |35648.296930543365 |1.2708010740481877E9 |\n",
      "|Ukraine |Ukraine |Full-Time|106994549   |73083.70833333333|1464              |1454                 |12694           |134575          |35073.544771420624 |1.2301535428328469E9 |\n",
      "|Ukraine |Ukraine |Temporary|110837509   |74688.34838274933|1484              |1469                 |12684           |134738          |36306.891143950874 |1.3181903445386984E9 |\n",
      "|Israel  |Israel  |Full-Time|108073265   |73419.33763586957|1472              |1462                 |12662           |134695          |35244.62009954688  |1.242183245961384E9  |\n",
      "|Iceland |Iceland |Full-Time|103439360   |73153.71994342291|1414              |1406                 |12732           |134692          |34621.18856746328  |1.19862669782385E9   |\n",
      "|Iceland |Iceland |Temporary|108136311   |73412.29531568228|1473              |1459                 |12686           |134766          |35900.11452577384  |1.288818222963678E9  |\n",
      "|Iceland |Iceland |Part-Time|111384942   |73618.60013218771|1513              |1500                 |12759           |134542          |35016.57666180156  |1.2261606411118257E9 |\n",
      "|Israel  |Israel  |Part-Time|110137856   |73035.71352785146|1508              |1497                 |12706           |134690          |35077.973247705144 |1.2304642071667175E9 |\n",
      "|Israel  |Israel  |Temporary|111396759   |73335.58854509545|1519              |1507                 |12687           |134828          |35531.42651303603  |1.2624822700512798E9 |\n",
      "|Iceland |Iceland |Contract |109064861   |74701.9595890411 |1460              |1454                 |12686           |134693          |35189.9205102916   |1.2383305055206413E9 |\n",
      "|Iceland |Iceland |Intern   |103509447   |72283.13337988827|1432              |1425                 |12646           |134697          |35329.58600342878  |1.2481796471736712E9 |\n",
      "|Israel  |Israel  |Intern   |109775250   |74727.87610619469|1469              |1462                 |12679           |134659          |35250.96145769254  |1.242630283691725E9  |\n",
      "|Israel  |Israel  |Contract |110754574   |73984.35136940547|1497              |1482                 |12647           |134775          |35409.33403157439  |1.2538209365596125E9 |\n",
      "|Yemen   |Yemen   |Part-Time|112114111   |73325.12164813603|1529              |1519                 |12701           |134751          |35156.2200533101   |1.2359598084367633E9 |\n",
      "|Yemen   |Yemen   |Intern   |109724543   |74642.5462585034 |1470              |1459                 |12681           |134764          |35133.98381981888  |1.234396819051295E9  |\n",
      "|Yemen   |Yemen   |Temporary|112818202   |73737.38692810458|1530              |1521                 |12733           |134828          |35235.328672937845 |1.2415283866899557E9 |\n",
      "|Yemen   |Yemen   |Contract |113430210   |73039.41403734707|1553              |1546                 |12650           |134774          |35715.240744063645 |1.275578421406424E9  |\n",
      "|Yemen   |Yemen   |Full-Time|106483333   |73184.42130584193|1455              |1445                 |12655           |134795          |35161.17170054763  |1.2363079953553917E9 |\n",
      "|Senegal |Senegal |Intern   |114478027   |72317.1364497789 |1583              |1572                 |12757           |134769          |35241.85056903287  |1.2419880315300422E9 |\n",
      "|Senegal |Senegal |Full-Time|109539313   |74415.29415760869|1472              |1464                 |12657           |134422          |35349.66426420286  |1.2495987635918605E9 |\n",
      "|Senegal |Senegal |Contract |111950936   |71763.4205128205 |1560              |1550                 |12822           |134713          |34971.36576286617  |1.222996423320168E9  |\n",
      "|Senegal |Senegal |Temporary|110070200   |75081.99181446111|1466              |1448                 |12782           |134831          |34654.85960162187  |1.2009592940081236E9 |\n",
      "|Senegal |Senegal |Part-Time|111877026   |73458.32304661852|1523              |1512                 |12764           |134820          |35391.58592753191  |1.2525643544658744E9 |\n",
      "+--------+--------+---------+------------+-----------------+------------------+---------------------+----------------+----------------+-------------------+---------------------+\n",
      "only showing top 50 rows\n",
      "\n"
     ]
    }
   ],
   "execution_count": 8
  },
  {
   "metadata": {
    "ExecuteTime": {
     "end_time": "2025-01-11T21:27:10.606165Z",
     "start_time": "2025-01-11T21:27:10.602234Z"
    }
   },
   "cell_type": "code",
   "source": "",
   "id": "261cbd0b7005d79",
   "outputs": [],
   "execution_count": null
  }
 ],
 "metadata": {
  "kernelspec": {
   "display_name": "Python 3",
   "language": "python",
   "name": "python3"
  },
  "language_info": {
   "codemirror_mode": {
    "name": "ipython",
    "version": 2
   },
   "file_extension": ".py",
   "mimetype": "text/x-python",
   "name": "python",
   "nbconvert_exporter": "python",
   "pygments_lexer": "ipython2",
   "version": "2.7.6"
  }
 },
 "nbformat": 4,
 "nbformat_minor": 5
}
