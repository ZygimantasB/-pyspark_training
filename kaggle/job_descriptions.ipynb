{
 "cells": [
  {
   "metadata": {},
   "cell_type": "markdown",
   "source": "https://www.kaggle.com/datasets/ravindrasinghrana/job-description-dataset",
   "id": "94a80cdc57012170"
  },
  {
   "cell_type": "code",
   "id": "initial_id",
   "metadata": {
    "collapsed": true,
    "ExecuteTime": {
     "end_time": "2025-01-12T08:14:21.572694Z",
     "start_time": "2025-01-12T08:14:21.568906Z"
    }
   },
   "source": [
    "from pyspark.sql import SparkSession\n",
    "from pyspark.sql import functions as F\n",
    "from pyspark.sql import Window\n",
    "from pyspark.sql.types import StringType, IntegerType, FloatType, DateType\n",
    "import seaborn as sns\n",
    "import matplotlib as plt\n",
    "import altair as alt\n",
    "import plotly.express as px"
   ],
   "outputs": [],
   "execution_count": 26
  },
  {
   "metadata": {
    "ExecuteTime": {
     "end_time": "2025-01-12T08:14:21.723753Z",
     "start_time": "2025-01-12T08:14:21.620572Z"
    }
   },
   "cell_type": "code",
   "source": [
    "spark = (\n",
    "    SparkSession.builder\n",
    "    .appName(\"JobDescription\")\n",
    "    .config('spark.executor.memory', '16g')\n",
    "    .config('spark.driver.memory', '16g')\n",
    "    .config('spark.default.parallelism', '24')\n",
    "    .config('spark.sql.shuffle.partitions', '24')\n",
    "    .config('spark.dynamicAllocation.enabled', 'true')\n",
    "    .config('spark.shuffle.service.enabled', 'true')\n",
    "    .config(\"spark.serializer\", \"org.apache.spark.serializer.KryoSerializer\")\n",
    "    .getOrCreate())"
   ],
   "id": "bb6c3c1376fd5878",
   "outputs": [],
   "execution_count": 27
  },
  {
   "metadata": {
    "ExecuteTime": {
     "end_time": "2025-01-12T08:14:21.733062Z",
     "start_time": "2025-01-12T08:14:21.729955Z"
    }
   },
   "cell_type": "code",
   "source": "df_path = r\"F:\\Datasets\\CSV datasets\\job_descriptions.csv\"",
   "id": "64154499dfa586a",
   "outputs": [],
   "execution_count": 28
  },
  {
   "metadata": {
    "ExecuteTime": {
     "end_time": "2025-01-12T08:14:23.033296Z",
     "start_time": "2025-01-12T08:14:21.747747Z"
    }
   },
   "cell_type": "code",
   "source": "df = spark.read.csv(df_path, inferSchema=True, header=True)",
   "id": "590522b9b19e18fc",
   "outputs": [],
   "execution_count": 29
  },
  {
   "metadata": {
    "ExecuteTime": {
     "end_time": "2025-01-12T08:14:29.642306Z",
     "start_time": "2025-01-12T08:14:23.042333Z"
    }
   },
   "cell_type": "code",
   "source": [
    "df = df.repartition(100, \"Country\")\n",
    "\n",
    "df.cache()\n",
    "\n",
    "df.groupBy(\n",
    "    'Country', 'Country', 'Work Type'\n",
    ").agg(\n",
    "    F.sum('Company Size').alias('Company Size'),\n",
    "    F.mean('Company Size').alias('Mean Company Size'),\n",
    "    F.count('Company Size').alias('Count Company Size'),\n",
    "    F.countDistinct('Company Size').alias('Distinct Company Size'),\n",
    "    F.min('Company Size').alias('Min Company Size'),\n",
    "    F.max('Company Size').alias('Max Company Size'),\n",
    "    F.stddev('Company Size').alias('Stddev Company Size'),\n",
    "    F.variance('Company Size').alias('Variance Company Size'),\n",
    ").show(5, truncate=False)"
   ],
   "id": "9b3ea0266d49c2ec",
   "outputs": [
    {
     "name": "stdout",
     "output_type": "stream",
     "text": [
      "+-------+-------+---------+------------+-----------------+------------------+---------------------+----------------+----------------+-------------------+---------------------+\n",
      "|Country|Country|Work Type|Company Size|Mean Company Size|Count Company Size|Distinct Company Size|Min Company Size|Max Company Size|Stddev Company Size|Variance Company Size|\n",
      "+-------+-------+---------+------------+-----------------+------------------+---------------------+----------------+----------------+-------------------+---------------------+\n",
      "|Panama |Panama |Temporary|106845218   |73992.53324099723|1444              |1433                 |12646           |134770          |35704.54820972104  |1.274814762860294E9  |\n",
      "|Panama |Panama |Contract |108832619   |73585.27315753888|1479              |1471                 |12802           |134832          |34800.12419859903  |1.2110486442379177E9 |\n",
      "|Panama |Panama |Full-Time|107396580   |74997.61173184357|1432              |1425                 |12711           |134822          |35161.41412522968  |1.2363250432859013E9 |\n",
      "|Panama |Panama |Intern   |107526729   |74775.19401947148|1438              |1431                 |12709           |134801          |35668.81832636861  |1.2722646007994893E9 |\n",
      "|Panama |Panama |Part-Time|114706098   |73956.22050290136|1551              |1535                 |12738           |134810          |35438.19284601498  |1.2558655121913471E9 |\n",
      "+-------+-------+---------+------------+-----------------+------------------+---------------------+----------------+----------------+-------------------+---------------------+\n",
      "only showing top 5 rows\n",
      "\n"
     ]
    }
   ],
   "execution_count": 30
  },
  {
   "metadata": {
    "ExecuteTime": {
     "end_time": "2025-01-12T08:14:29.665612Z",
     "start_time": "2025-01-12T08:14:29.662601Z"
    }
   },
   "cell_type": "code",
   "source": "",
   "id": "261cbd0b7005d79",
   "outputs": [],
   "execution_count": null
  }
 ],
 "metadata": {
  "kernelspec": {
   "display_name": "Python 3",
   "language": "python",
   "name": "python3"
  },
  "language_info": {
   "codemirror_mode": {
    "name": "ipython",
    "version": 2
   },
   "file_extension": ".py",
   "mimetype": "text/x-python",
   "name": "python",
   "nbconvert_exporter": "python",
   "pygments_lexer": "ipython2",
   "version": "2.7.6"
  }
 },
 "nbformat": 4,
 "nbformat_minor": 5
}
