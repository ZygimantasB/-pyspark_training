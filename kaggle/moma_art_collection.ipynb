{
 "cells": [
  {
   "cell_type": "code",
   "id": "initial_id",
   "metadata": {
    "collapsed": true,
    "ExecuteTime": {
     "end_time": "2025-03-31T17:37:38.940755Z",
     "start_time": "2025-03-31T17:37:38.132022Z"
    }
   },
   "source": [
    "import os\n",
    "import math\n",
    "\n",
    "import altair as alt\n",
    "import pandas as pd\n",
    "\n",
    "import plotly.express as px\n",
    "import plotly.graph_objects as go\n",
    "\n",
    "import pyspark.sql.functions as F\n",
    "from pyspark.sql import SparkSession\n",
    "from pyspark.sql import Window"
   ],
   "outputs": [],
   "execution_count": 1
  },
  {
   "metadata": {
    "ExecuteTime": {
     "end_time": "2025-03-31T17:37:38.950367Z",
     "start_time": "2025-03-31T17:37:38.946642Z"
    }
   },
   "cell_type": "code",
   "source": [
    "os.environ['SPARK_HOME'] = r'C:\\spark\\spark-3.5.5-bin-hadoop3'\n",
    "os.environ['PYSPARK_DRIVER_PYTHON'] = 'jupyter'\n",
    "os.environ['PYSPARK_DRIVER_PYTHON_OPTS'] = 'lab'\n",
    "os.environ['PYSPARK_PYTHON'] = 'python'"
   ],
   "id": "26307b3d22c46f62",
   "outputs": [],
   "execution_count": 2
  },
  {
   "metadata": {
    "ExecuteTime": {
     "end_time": "2025-03-31T17:43:44.270987Z",
     "start_time": "2025-03-31T17:42:51.107902Z"
    }
   },
   "cell_type": "code",
   "source": [
    "spark = (\n",
    "    SparkSession.builder\n",
    "    .appName('MOMA art collection')\n",
    "    .master('local[*]')\n",
    "    .config('spark.executor.memory', '1g')\n",
    "    .config('spark.executor.cores', '3')\n",
    "    .config(\"spark.dynamicAllocation.enabled\", \"true\")\n",
    "    .config(\"spark.dynamicAllocation.minExecutors\", \"1\")\n",
    "    .config(\"spark.dynamicAllocation.maxExecutors\", \"4\")\n",
    "    .config('spark.executor.memoryOverhead', '256m')\n",
    "    .config(\"spark.driver.memory\", \"1g\")\n",
    "    .config(\"spark.driver.maxResultSize\", \"1g\")\n",
    "    .config('spark.sql.adaptive.enabled', 'true')\n",
    "    .config('spark.sql.adaptive.coalescePartitions.enabled', 'true')\n",
    "    .config('spark.sql.adaptive.advisoryPartitionSizeInBytes', '16mb')\n",
    "    .config(\"spark.serializer\", \"org.apache.spark.serializer.KryoSerializer\")\n",
    "    .config('spark.dynamicAllocation.executorIdleTimeout', '60s')\n",
    "    .config('spark.sql.autoBroadcastJoinThreshold', '128mb')\n",
    "    .getOrCreate()\n",
    ")"
   ],
   "id": "734c548878ca9fac",
   "outputs": [],
   "execution_count": 6
  },
  {
   "metadata": {
    "ExecuteTime": {
     "end_time": "2025-03-31T17:45:12.084010Z",
     "start_time": "2025-03-31T17:45:12.080391Z"
    }
   },
   "cell_type": "code",
   "source": [
    "artists_path = r\"F:\\Datasets\\CSV datasets\\MoMA+Art+Collection\\Artists.csv\"\n",
    "artworks_path = r\"F:\\Datasets\\CSV datasets\\MoMA+Art+Collection\\Artworks.csv\"\n",
    "moma_data_dictionary_path = r\"F:\\Datasets\\CSV datasets\\MoMA+Art+Collection\\MoMA_data_dictionary.csv\"\n",
    "moma_onview_path = \"F:\\Datasets\\CSV datasets\\MoMA+Art+Collection\\MoMA_OnView.xlsx\""
   ],
   "id": "492131fafbde3312",
   "outputs": [],
   "execution_count": 7
  },
  {
   "metadata": {
    "ExecuteTime": {
     "end_time": "2025-03-31T17:59:04.351153Z",
     "start_time": "2025-03-31T17:59:04.186541Z"
    }
   },
   "cell_type": "code",
   "source": [
    "moma_onview_pd = pd.read_excel(moma_onview_path, sheet_name=\"Artists\")\n",
    "\n",
    "moma_onview = spark.createDataFrame(moma_onview_pd)"
   ],
   "id": "6255d1919a46af74",
   "outputs": [],
   "execution_count": 18
  },
  {
   "metadata": {
    "ExecuteTime": {
     "end_time": "2025-03-31T17:59:04.870169Z",
     "start_time": "2025-03-31T17:59:04.464537Z"
    }
   },
   "cell_type": "code",
   "source": "artworks_df = spark.read.csv(artworks_path, header=True, inferSchema=True)",
   "id": "64bbeba2a65d6386",
   "outputs": [],
   "execution_count": 19
  },
  {
   "metadata": {
    "ExecuteTime": {
     "end_time": "2025-03-31T19:12:02.713528Z",
     "start_time": "2025-03-31T19:12:02.506279Z"
    }
   },
   "cell_type": "code",
   "source": "artists_df = spark.read.csv(artists_path, header=True, inferSchema=True)",
   "id": "3757150d9b5de518",
   "outputs": [],
   "execution_count": 22
  },
  {
   "metadata": {
    "ExecuteTime": {
     "end_time": "2025-03-31T19:12:19.004858Z",
     "start_time": "2025-03-31T19:12:18.559185Z"
    }
   },
   "cell_type": "code",
   "source": "artists_df.count()",
   "id": "98dcc0f9035a48e",
   "outputs": [
    {
     "data": {
      "text/plain": [
       "15639"
      ]
     },
     "execution_count": 24,
     "metadata": {},
     "output_type": "execute_result"
    }
   ],
   "execution_count": 24
  },
  {
   "metadata": {
    "ExecuteTime": {
     "end_time": "2025-03-31T19:12:27.482160Z",
     "start_time": "2025-03-31T19:12:27.209155Z"
    }
   },
   "cell_type": "code",
   "source": "artworks_df.count()",
   "id": "e4ccd79da57f2c5a",
   "outputs": [
    {
     "data": {
      "text/plain": [
       "169806"
      ]
     },
     "execution_count": 25,
     "metadata": {},
     "output_type": "execute_result"
    }
   ],
   "execution_count": 25
  },
  {
   "metadata": {
    "ExecuteTime": {
     "end_time": "2025-03-31T19:15:31.084817Z",
     "start_time": "2025-03-31T19:15:31.071812Z"
    }
   },
   "cell_type": "code",
   "source": [
    "artworks_artists = artworks_df.join(\n",
    "    F.broadcast(artists_df),\n",
    "    on=artworks_df.ConstituentID == artists_df.ConstituentID,\n",
    "    how='inner'\n",
    ")"
   ],
   "id": "a08aa06c16c90d01",
   "outputs": [],
   "execution_count": 30
  },
  {
   "metadata": {
    "ExecuteTime": {
     "end_time": "2025-03-31T19:16:32.714535Z",
     "start_time": "2025-03-31T19:16:32.567797Z"
    }
   },
   "cell_type": "code",
   "source": "moma_data_dictionary = spark.read.csv(moma_data_dictionary_path, header=True, inferSchema=True)",
   "id": "7329d01cbd74440f",
   "outputs": [],
   "execution_count": 31
  },
  {
   "metadata": {
    "ExecuteTime": {
     "end_time": "2025-03-31T19:16:42.530799Z",
     "start_time": "2025-03-31T19:16:42.473676Z"
    }
   },
   "cell_type": "code",
   "source": "moma_data_dictionary.show(5)",
   "id": "555cc6281ddd25d7",
   "outputs": [
    {
     "name": "stdout",
     "output_type": "stream",
     "text": [
      "+--------+-------------+--------------------+\n",
      "|   Table|        Field|         Description|\n",
      "+--------+-------------+--------------------+\n",
      "|Artworks|        Title|The name or title...|\n",
      "|Artworks|       Artist|The name of the a...|\n",
      "|Artworks|ConstituentID|Unique identifier...|\n",
      "|Artworks|    ArtistBio|A short biography...|\n",
      "|Artworks|  Nationality|The country or re...|\n",
      "+--------+-------------+--------------------+\n",
      "only showing top 5 rows\n",
      "\n"
     ]
    }
   ],
   "execution_count": 32
  },
  {
   "metadata": {
    "ExecuteTime": {
     "end_time": "2025-03-31T19:22:27.129283Z",
     "start_time": "2025-03-31T19:22:26.936843Z"
    }
   },
   "cell_type": "code",
   "source": "artworks_artists.show(n=5, truncate=False)",
   "id": "68c8a9005e0874f2",
   "outputs": [
    {
     "name": "stdout",
     "output_type": "stream",
     "text": [
      "+-------------------------------------------------------------------------------------------------------------+------------------------+-------------+-----------------------------------------+-----------+---------+-------+------+----+--------------------------------------------------------------+-------------------------------------+-----------------------------------------------------------------------+---------------+--------------+---------------------+------------+---------+--------+---------------------------------------+----------------------------------------------------------------------------------------------------------------------------------+------+------------------+----------+-------------+-----------+-----------+-----------+----------+----------------+---------------+-------------+------------------------+---------------------------------------+-----------+------+---------+-------+--------+---------+\n",
      "|Title                                                                                                        |Artist                  |ConstituentID|ArtistBio                                |Nationality|BeginDate|EndDate|Gender|Date|Medium                                                        |Dimensions                           |CreditLine                                                             |AccessionNumber|Classification|Department           |DateAcquired|Cataloged|ObjectID|URL                                    |ImageURL                                                                                                                          |OnView|Circumference (cm)|Depth (cm)|Diameter (cm)|Height (cm)|Length (cm)|Weight (kg)|Width (cm)|Seat Height (cm)|Duration (sec.)|ConstituentID|DisplayName             |ArtistBio                              |Nationality|Gender|BeginDate|EndDate|Wiki QID|ULAN     |\n",
      "+-------------------------------------------------------------------------------------------------------------+------------------------+-------------+-----------------------------------------+-----------+---------+-------+------+----+--------------------------------------------------------------+-------------------------------------+-----------------------------------------------------------------------+---------------+--------------+---------------------+------------+---------+--------+---------------------------------------+----------------------------------------------------------------------------------------------------------------------------------+------+------------------+----------+-------------+-----------+-----------+-----------+----------+----------------+---------------+-------------+------------------------+---------------------------------------+-----------+------+---------+-------+--------+---------+\n",
      "|Ferdinandsbrücke Project, Vienna, Austria (Elevation, preliminary version)                                   |Otto Wagner             |6210         |(Austrian, 1841–1918)                    |(Austrian) |(1841)   |(1918) |(male)|1896|Ink and cut-and-pasted painted pages on paper                 |\"19 1/8 x 66 1/2\"\" (48.6 x 168.9 cm)\"|Fractional and promised gift of Jo Carole and Ronald S. Lauder         |885.1996       |Architecture  |Architecture & Design|1996-04-09  |Y        |2       |https://www.moma.org/collection/works/2|https://www.moma.org/media/W1siZiIsIjUyNzc3MCJdLFsicCIsImNvbnZlcnQiLCItcmVzaXplIDEwMjR4MTAyNFx1MDAzZSJdXQ.jpg?sha=712ac0fd74ea5bd5|NULL  |NULL              |NULL      |NULL         |48.6       |NULL       |NULL       |168.9     |NULL            |NULL           |6210         |Otto Wagner             |Austrian, 1841–1918                    |Austrian   |male  |1841     |1918   |Q84287  |500016971|\n",
      "|City of Music, National Superior Conservatory of Music and Dance, Paris, France, View from interior courtyard|Christian de Portzamparc|7470         |(French, born 1944)                      |(French)   |(1944)   |(0)    |(male)|1987|Paint and colored pencil on print                             |\"16 x 11 3/4\"\" (40.6 x 29.8 cm)\"     |Gift of the architect in honor of Lily Auchincloss                     |1.1995         |Architecture  |Architecture & Design|1995-01-17  |Y        |3       |https://www.moma.org/collection/works/3|https://www.moma.org/media/W1siZiIsIjUyNzM3NCJdLFsicCIsImNvbnZlcnQiLCItcmVzaXplIDEwMjR4MTAyNFx1MDAzZSJdXQ.jpg?sha=a2898fe0f088f196|NULL  |NULL              |NULL      |NULL         |40.6401    |NULL       |NULL       |29.8451   |NULL            |NULL           |7470         |Christian de Portzamparc|French, born 1944                      |French     |male  |1944     |0      |Q312838 |500024982|\n",
      "|Villa project, outside Vienna, Austria (Elevation)                                                           |Emil Hoppe              |7605         |(Austrian, 1876–1957)                    |(Austrian) |(1876)   |(1957) |(male)|1903|Graphite, pen, color pencil, ink, and gouache on tracing paper|\"13 1/2 x 12 1/2\"\" (34.3 x 31.8 cm)\" |Gift of Jo Carole and Ronald S. Lauder                                 |1.1997         |Architecture  |Architecture & Design|1997-01-15  |Y        |4       |https://www.moma.org/collection/works/4|https://www.moma.org/media/W1siZiIsIjUyNzM3NSJdLFsicCIsImNvbnZlcnQiLCItcmVzaXplIDEwMjR4MTAyNFx1MDAzZSJdXQ.jpg?sha=baf3b82af676ad45|NULL  |NULL              |NULL      |NULL         |34.3       |NULL       |NULL       |31.8      |NULL            |NULL           |7605         |Emil Hoppe              |Austrian, 1876–1957                    |Austrian   |male  |1876     |1957   |Q1336246|500232997|\n",
      "|The Manhattan Transcripts Project, New York, New York, Introductory panel to Episode 1: The Park             |Bernard Tschumi         |7056         |(French and Swiss, born Switzerland 1944)|()         |(1944)   |(0)    |(male)|1980|Photographic reproduction with colored synthetic laminate     |\"20 x 20\"\" (50.8 x 50.8 cm)\"         |Purchase and partial gift of the architect in honor of Lily Auchincloss|2.1995         |Architecture  |Architecture & Design|1995-01-17  |Y        |5       |https://www.moma.org/collection/works/5|https://www.moma.org/media/W1siZiIsIjUyNzQ3NCJdLFsicCIsImNvbnZlcnQiLCItcmVzaXplIDEwMjR4MTAyNFx1MDAzZSJdXQ.jpg?sha=6295e6698e3871fd|NULL  |NULL              |NULL      |NULL         |50.8       |NULL       |NULL       |50.8      |NULL            |NULL           |7056         |Bernard Tschumi         |French and Swiss, born Switzerland 1944|NULL       |male  |1944     |0      |Q123966 |500022322|\n",
      "|Villa project, outside Vienna, Austria (Exterior perspective)                                                |Emil Hoppe              |7605         |(Austrian, 1876–1957)                    |(Austrian) |(1876)   |(1957) |(male)|1903|Graphite, color pencil, ink, and gouache on tracing paper     |\"15 1/8 x 7 1/2\"\" (38.4 x 19.1 cm)\"  |Gift of Jo Carole and Ronald S. Lauder                                 |2.1997         |Architecture  |Architecture & Design|1997-01-15  |Y        |6       |https://www.moma.org/collection/works/6|https://www.moma.org/media/W1siZiIsIjUyNzQ3NSJdLFsicCIsImNvbnZlcnQiLCItcmVzaXplIDEwMjR4MTAyNFx1MDAzZSJdXQ.jpg?sha=96e3ccab203afa0d|NULL  |NULL              |NULL      |NULL         |38.4       |NULL       |NULL       |19.1      |NULL            |NULL           |7605         |Emil Hoppe              |Austrian, 1876–1957                    |Austrian   |male  |1876     |1957   |Q1336246|500232997|\n",
      "+-------------------------------------------------------------------------------------------------------------+------------------------+-------------+-----------------------------------------+-----------+---------+-------+------+----+--------------------------------------------------------------+-------------------------------------+-----------------------------------------------------------------------+---------------+--------------+---------------------+------------+---------+--------+---------------------------------------+----------------------------------------------------------------------------------------------------------------------------------+------+------------------+----------+-------------+-----------+-----------+-----------+----------+----------------+---------------+-------------+------------------------+---------------------------------------+-----------+------+---------+-------+--------+---------+\n",
      "only showing top 5 rows\n",
      "\n"
     ]
    }
   ],
   "execution_count": 34
  }
 ],
 "metadata": {
  "kernelspec": {
   "display_name": "Python 3",
   "language": "python",
   "name": "python3"
  },
  "language_info": {
   "codemirror_mode": {
    "name": "ipython",
    "version": 2
   },
   "file_extension": ".py",
   "mimetype": "text/x-python",
   "name": "python",
   "nbconvert_exporter": "python",
   "pygments_lexer": "ipython2",
   "version": "2.7.6"
  }
 },
 "nbformat": 4,
 "nbformat_minor": 5
}
