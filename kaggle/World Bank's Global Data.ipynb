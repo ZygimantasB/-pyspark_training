{
 "cells": [
  {
   "cell_type": "code",
   "id": "initial_id",
   "metadata": {
    "collapsed": true,
    "ExecuteTime": {
     "end_time": "2025-02-15T12:26:00.167109Z",
     "start_time": "2025-02-15T12:25:59.991854Z"
    }
   },
   "source": [
    "from pyspark.sql import SparkSession\n",
    "import pyspark.sql.functions as F\n",
    "import os"
   ],
   "outputs": [],
   "execution_count": 1
  },
  {
   "metadata": {
    "ExecuteTime": {
     "end_time": "2025-02-15T12:26:00.174439Z",
     "start_time": "2025-02-15T12:26:00.170116Z"
    }
   },
   "cell_type": "code",
   "source": [
    "os.environ['SPARK_HOME'] = r'C:\\spark\\spark-3.5.4-bin-hadoop3'\n",
    "os.environ['PYSPARK_DRIVER_PYTHON'] = 'jupyter'\n",
    "os.environ['PYSPARK_DRIVER_PYTHON_OPTS'] = 'lab'\n",
    "os.environ['PYSPARK_PYTHON'] = 'python'"
   ],
   "id": "3b3e62ee7ba9c60",
   "outputs": [],
   "execution_count": 2
  },
  {
   "metadata": {
    "ExecuteTime": {
     "end_time": "2025-02-15T12:26:04.066587Z",
     "start_time": "2025-02-15T12:26:00.360115Z"
    }
   },
   "cell_type": "code",
   "source": [
    "spark = (\n",
    "    SparkSession\n",
    "    .builder\n",
    "    .appName(\"PySpark Zero to Hero\")\n",
    "    .master(\"local[*]\")\n",
    "    .config(\"spark.executor.memory\", \"16g\")\n",
    "    .config(\"spark.driver.memory\", \"16g\")\n",
    "    .config(\"spark.executor.cores\", \"4\")\n",
    "    .config(\"spark.sql.shuffle.partitions\", \"80\")\n",
    "    .config(\"spark.dynamicAllocation.enabled\", \"true\")\n",
    "    .config(\"spark.dynamicAllocation.minExecutors\", \"2\")\n",
    "    .config(\"spark.dynamicAllocation.initialExecutors\", \"24\")\n",
    "    .config(\"spark.dynamicAllocation.maxExecutors\", \"50\")\n",
    "    .config('spark.dynamicAllocation.shuffleTrackingEnabled', 'true')\n",
    "    .config('spark.dynamicAllocation.executorIdleTimeout', '60')\n",
    "    .config(\"spark.shuffle.service.enabled\", \"true\")\n",
    "    .config(\"spark.serializer\", \"org.apache.spark.serializer.KryoSerializer\")\n",
    "    .enableHiveSupport()\n",
    "    .getOrCreate()\n",
    ")"
   ],
   "id": "e060db9655b0b7bb",
   "outputs": [],
   "execution_count": 3
  },
  {
   "metadata": {
    "ExecuteTime": {
     "end_time": "2025-02-15T12:26:04.735489Z",
     "start_time": "2025-02-15T12:26:04.080367Z"
    }
   },
   "cell_type": "code",
   "source": [
    "spark.conf.set('spark.sql.adaptive.enabled', 'true')\n",
    "spark.conf.set('spark.sql.adaptive.coalescePartitions.enabled', 'true')\n",
    "spark.conf.set('spark.sql.autoBroadcastJoinThreshold', '-1')"
   ],
   "id": "6ace92aa3fe82ebb",
   "outputs": [],
   "execution_count": 4
  },
  {
   "metadata": {
    "ExecuteTime": {
     "end_time": "2025-02-15T12:26:04.744454Z",
     "start_time": "2025-02-15T12:26:04.741440Z"
    }
   },
   "cell_type": "code",
   "source": "df_path = r\"F:\\Datasets\\CSV datasets\\synthetic_beverage_sales_data.csv\"",
   "id": "136ec1a05e99241b",
   "outputs": [],
   "execution_count": 5
  },
  {
   "metadata": {
    "ExecuteTime": {
     "end_time": "2025-02-15T12:26:08.040828Z",
     "start_time": "2025-02-15T12:26:04.750485Z"
    }
   },
   "cell_type": "code",
   "source": "df = spark.read.format('csv').option('header', 'true').load(df_path)",
   "id": "40515bd4da257078",
   "outputs": [],
   "execution_count": 6
  },
  {
   "metadata": {
    "ExecuteTime": {
     "end_time": "2025-02-15T12:26:08.356872Z",
     "start_time": "2025-02-15T12:26:08.074803Z"
    }
   },
   "cell_type": "code",
   "source": "df.show(truncate=False)",
   "id": "f11d5dc14a658b1",
   "outputs": [
    {
     "name": "stdout",
     "output_type": "stream",
     "text": [
      "+--------+-----------+-------------+------------------+-------------------+----------+--------+--------+-----------+------------------+----------+\n",
      "|Order_ID|Customer_ID|Customer_Type|Product           |Category           |Unit_Price|Quantity|Discount|Total_Price|Region            |Order_Date|\n",
      "+--------+-----------+-------------+------------------+-------------------+----------+--------+--------+-----------+------------------+----------+\n",
      "|ORD1    |CUS1496    |B2B          |Vio Wasser        |Water              |1.66      |53      |0.1     |79.18      |Baden-Württemberg |2023-08-23|\n",
      "|ORD1    |CUS1496    |B2B          |Evian             |Water              |1.56      |90      |0.1     |126.36     |Baden-Württemberg |2023-08-23|\n",
      "|ORD1    |CUS1496    |B2B          |Sprite            |Soft Drinks        |1.17      |73      |0.05    |81.14      |Baden-Württemberg |2023-08-23|\n",
      "|ORD1    |CUS1496    |B2B          |Rauch Multivitamin|Juices             |3.22      |59      |0.1     |170.98     |Baden-Württemberg |2023-08-23|\n",
      "|ORD1    |CUS1496    |B2B          |Gerolsteiner      |Water              |0.87      |35      |0.1     |27.4       |Baden-Württemberg |2023-08-23|\n",
      "|ORD2    |CUS2847    |B2C          |Sauvignon Blanc   |Alcoholic Beverages|9.09      |2       |0.0     |18.18      |Schleswig-Holstein|2023-03-16|\n",
      "|ORD3    |CUS1806    |B2B          |Tomato Juice      |Juices             |2.14      |44      |0.1     |84.74      |Hamburg           |2022-11-20|\n",
      "|ORD3    |CUS1806    |B2B          |Vittel            |Water              |0.43      |13      |0.05    |5.31       |Hamburg           |2022-11-20|\n",
      "|ORD3    |CUS1806    |B2B          |San Pellegrino    |Water              |1.21      |92      |0.1     |100.19     |Hamburg           |2022-11-20|\n",
      "|ORD3    |CUS1806    |B2B          |Evian             |Water              |1.38      |3       |0.05    |3.93       |Hamburg           |2022-11-20|\n",
      "|ORD4    |CUS2275    |B2C          |Mountain Dew      |Soft Drinks        |0.99      |11      |0.0     |10.89      |Bayern            |2023-11-05|\n",
      "|ORD5    |CUS7919    |B2B          |Hohes C Orange    |Juices             |1.52      |8       |0.05    |11.55      |Bayern            |2023-08-05|\n",
      "|ORD5    |CUS7919    |B2B          |Red Bull          |Soft Drinks        |2.13      |16      |0.05    |32.38      |Bayern            |2023-08-05|\n",
      "|ORD5    |CUS7919    |B2B          |Chardonnay        |Alcoholic Beverages|6.45      |3       |0.05    |18.38      |Bayern            |2023-08-05|\n",
      "|ORD5    |CUS7919    |B2B          |Tanqueray         |Alcoholic Beverages|33.36     |43      |0.15    |1219.31    |Bayern            |2023-08-05|\n",
      "|ORD6    |CUS533     |B2B          |Rotkäppchen Sekt  |Alcoholic Beverages|5.89      |44      |0.05    |246.2      |Saarland          |2023-02-18|\n",
      "|ORD6    |CUS533     |B2B          |Mango Juice       |Juices             |2.5       |10      |0.05    |23.75      |Saarland          |2023-02-18|\n",
      "|ORD6    |CUS533     |B2B          |Apollinaris       |Water              |0.82      |13      |0.05    |10.13      |Saarland          |2023-02-18|\n",
      "|ORD6    |CUS533     |B2B          |Mountain Dew      |Soft Drinks        |1.87      |89      |0.15    |141.47     |Saarland          |2023-02-18|\n",
      "|ORD6    |CUS533     |B2B          |Riesling          |Alcoholic Beverages|11.48     |21      |0.05    |229.03     |Saarland          |2023-02-18|\n",
      "+--------+-----------+-------------+------------------+-------------------+----------+--------+--------+-----------+------------------+----------+\n",
      "only showing top 20 rows\n",
      "\n"
     ]
    }
   ],
   "execution_count": 7
  },
  {
   "metadata": {
    "ExecuteTime": {
     "end_time": "2025-02-15T12:26:08.395170Z",
     "start_time": "2025-02-15T12:26:08.389871Z"
    }
   },
   "cell_type": "code",
   "source": "df.printSchema()",
   "id": "1dbc563dc21d9c8c",
   "outputs": [
    {
     "name": "stdout",
     "output_type": "stream",
     "text": [
      "root\n",
      " |-- Order_ID: string (nullable = true)\n",
      " |-- Customer_ID: string (nullable = true)\n",
      " |-- Customer_Type: string (nullable = true)\n",
      " |-- Product: string (nullable = true)\n",
      " |-- Category: string (nullable = true)\n",
      " |-- Unit_Price: string (nullable = true)\n",
      " |-- Quantity: string (nullable = true)\n",
      " |-- Discount: string (nullable = true)\n",
      " |-- Total_Price: string (nullable = true)\n",
      " |-- Region: string (nullable = true)\n",
      " |-- Order_Date: string (nullable = true)\n",
      "\n"
     ]
    }
   ],
   "execution_count": 8
  },
  {
   "metadata": {
    "ExecuteTime": {
     "end_time": "2025-02-15T12:26:09.818826Z",
     "start_time": "2025-02-15T12:26:08.462218Z"
    }
   },
   "cell_type": "code",
   "source": "df.count()",
   "id": "99bd5a180c504e38",
   "outputs": [
    {
     "data": {
      "text/plain": [
       "8999910"
      ]
     },
     "execution_count": 9,
     "metadata": {},
     "output_type": "execute_result"
    }
   ],
   "execution_count": 9
  },
  {
   "metadata": {
    "ExecuteTime": {
     "end_time": "2025-02-15T12:40:26.853515Z",
     "start_time": "2025-02-15T12:40:26.846402Z"
    }
   },
   "cell_type": "code",
   "source": "df = df.drop(\"Unit_Price\", \"Quantity\", \"Discount\", \"Total_Price\")",
   "id": "fd699996764cb120",
   "outputs": [],
   "execution_count": 34
  },
  {
   "metadata": {
    "ExecuteTime": {
     "end_time": "2025-02-15T12:26:09.983196Z",
     "start_time": "2025-02-15T12:26:09.844829Z"
    }
   },
   "cell_type": "code",
   "source": [
    "df.select(\n",
    "    F.col('Product'), F.col('Total_Price')\n",
    ").show(truncate=False)"
   ],
   "id": "59a8c21be64f19cd",
   "outputs": [
    {
     "name": "stdout",
     "output_type": "stream",
     "text": [
      "+------------------+-----------+\n",
      "|Product           |Total_Price|\n",
      "+------------------+-----------+\n",
      "|Vio Wasser        |79.18      |\n",
      "|Evian             |126.36     |\n",
      "|Sprite            |81.14      |\n",
      "|Rauch Multivitamin|170.98     |\n",
      "|Gerolsteiner      |27.4       |\n",
      "|Sauvignon Blanc   |18.18      |\n",
      "|Tomato Juice      |84.74      |\n",
      "|Vittel            |5.31       |\n",
      "|San Pellegrino    |100.19     |\n",
      "|Evian             |3.93       |\n",
      "|Mountain Dew      |10.89      |\n",
      "|Hohes C Orange    |11.55      |\n",
      "|Red Bull          |32.38      |\n",
      "|Chardonnay        |18.38      |\n",
      "|Tanqueray         |1219.31    |\n",
      "|Rotkäppchen Sekt  |246.2      |\n",
      "|Mango Juice       |23.75      |\n",
      "|Apollinaris       |10.13      |\n",
      "|Mountain Dew      |141.47     |\n",
      "|Riesling          |229.03     |\n",
      "+------------------+-----------+\n",
      "only showing top 20 rows\n",
      "\n"
     ]
    }
   ],
   "execution_count": 10
  },
  {
   "metadata": {
    "ExecuteTime": {
     "end_time": "2025-02-15T12:26:09.996150Z",
     "start_time": "2025-02-15T12:26:09.991716Z"
    }
   },
   "cell_type": "code",
   "source": "df.printSchema()",
   "id": "78d1a0075a6f355e",
   "outputs": [
    {
     "name": "stdout",
     "output_type": "stream",
     "text": [
      "root\n",
      " |-- Order_ID: string (nullable = true)\n",
      " |-- Customer_ID: string (nullable = true)\n",
      " |-- Customer_Type: string (nullable = true)\n",
      " |-- Product: string (nullable = true)\n",
      " |-- Category: string (nullable = true)\n",
      " |-- Unit_Price: string (nullable = true)\n",
      " |-- Quantity: string (nullable = true)\n",
      " |-- Discount: string (nullable = true)\n",
      " |-- Total_Price: string (nullable = true)\n",
      " |-- Region: string (nullable = true)\n",
      " |-- Order_Date: string (nullable = true)\n",
      "\n"
     ]
    }
   ],
   "execution_count": 11
  },
  {
   "metadata": {
    "ExecuteTime": {
     "end_time": "2025-02-15T12:26:10.143837Z",
     "start_time": "2025-02-15T12:26:10.048069Z"
    }
   },
   "cell_type": "code",
   "source": "df.show(truncate=False, n=5)",
   "id": "988490420a473e17",
   "outputs": [
    {
     "name": "stdout",
     "output_type": "stream",
     "text": [
      "+--------+-----------+-------------+------------------+-----------+----------+--------+--------+-----------+-----------------+----------+\n",
      "|Order_ID|Customer_ID|Customer_Type|Product           |Category   |Unit_Price|Quantity|Discount|Total_Price|Region           |Order_Date|\n",
      "+--------+-----------+-------------+------------------+-----------+----------+--------+--------+-----------+-----------------+----------+\n",
      "|ORD1    |CUS1496    |B2B          |Vio Wasser        |Water      |1.66      |53      |0.1     |79.18      |Baden-Württemberg|2023-08-23|\n",
      "|ORD1    |CUS1496    |B2B          |Evian             |Water      |1.56      |90      |0.1     |126.36     |Baden-Württemberg|2023-08-23|\n",
      "|ORD1    |CUS1496    |B2B          |Sprite            |Soft Drinks|1.17      |73      |0.05    |81.14      |Baden-Württemberg|2023-08-23|\n",
      "|ORD1    |CUS1496    |B2B          |Rauch Multivitamin|Juices     |3.22      |59      |0.1     |170.98     |Baden-Württemberg|2023-08-23|\n",
      "|ORD1    |CUS1496    |B2B          |Gerolsteiner      |Water      |0.87      |35      |0.1     |27.4       |Baden-Württemberg|2023-08-23|\n",
      "+--------+-----------+-------------+------------------+-----------+----------+--------+--------+-----------+-----------------+----------+\n",
      "only showing top 5 rows\n",
      "\n"
     ]
    }
   ],
   "execution_count": 12
  },
  {
   "metadata": {
    "ExecuteTime": {
     "end_time": "2025-02-15T12:26:10.165738Z",
     "start_time": "2025-02-15T12:26:10.162636Z"
    }
   },
   "cell_type": "code",
   "source": "from pyspark.sql.types import IntegerType, DecimalType, StringType, DateType",
   "id": "533f98ce12c8b195",
   "outputs": [],
   "execution_count": 13
  },
  {
   "metadata": {
    "ExecuteTime": {
     "end_time": "2025-02-15T12:26:10.281101Z",
     "start_time": "2025-02-15T12:26:10.232089Z"
    }
   },
   "cell_type": "code",
   "source": [
    "df = df.select(\n",
    "    '*',\n",
    "    F.col('Unit_Price').cast(DecimalType(10, 2)),\n",
    "    F.col('Quantity').cast(IntegerType()),\n",
    "    F.col('Discount').cast(DecimalType(10, 2)),\n",
    "    F.col('Total_Price').cast(DecimalType(10, 2))\n",
    ")"
   ],
   "id": "836595f159f15b5e",
   "outputs": [],
   "execution_count": 14
  },
  {
   "metadata": {
    "ExecuteTime": {
     "end_time": "2025-02-15T12:26:11.521093Z",
     "start_time": "2025-02-15T12:26:10.296664Z"
    }
   },
   "cell_type": "code",
   "source": "df.filter(F.col('Customer_Type').isNull()).count()",
   "id": "1b1d09f16723c469",
   "outputs": [
    {
     "data": {
      "text/plain": [
       "0"
      ]
     },
     "execution_count": 15,
     "metadata": {},
     "output_type": "execute_result"
    }
   ],
   "execution_count": 15
  },
  {
   "metadata": {
    "ExecuteTime": {
     "end_time": "2025-02-15T12:26:12.364970Z",
     "start_time": "2025-02-15T12:26:11.529168Z"
    }
   },
   "cell_type": "code",
   "source": "df.filter(F.col('Product').isNull()).count()",
   "id": "9d66485743350b31",
   "outputs": [
    {
     "data": {
      "text/plain": [
       "0"
      ]
     },
     "execution_count": 16,
     "metadata": {},
     "output_type": "execute_result"
    }
   ],
   "execution_count": 16
  },
  {
   "metadata": {
    "ExecuteTime": {
     "end_time": "2025-02-15T12:26:12.395512Z",
     "start_time": "2025-02-15T12:26:12.372484Z"
    }
   },
   "cell_type": "code",
   "source": [
    "df = df.withColumn(\n",
    "    'Order_Date', F.to_date(F.col('Order_Date'), 'yyyy-MM-dd')\n",
    ")"
   ],
   "id": "21602a352057c65d",
   "outputs": [],
   "execution_count": 17
  },
  {
   "metadata": {
    "ExecuteTime": {
     "end_time": "2025-02-15T12:26:12.463711Z",
     "start_time": "2025-02-15T12:26:12.405079Z"
    }
   },
   "cell_type": "code",
   "source": [
    "df = df.select(\n",
    "    '*',\n",
    "    F.year(F.col('Order_Date')).alias('Order_Year'),\n",
    "    F.month(F.col('Order_Date')).alias('Order_Month'),\n",
    "    F.day(F.col('Order_Date')).alias('Order_Day')\n",
    ")"
   ],
   "id": "f197d97d3e1c649d",
   "outputs": [],
   "execution_count": 18
  },
  {
   "metadata": {
    "ExecuteTime": {
     "end_time": "2025-02-15T12:40:09.554889Z",
     "start_time": "2025-02-15T12:40:09.545374Z"
    }
   },
   "cell_type": "code",
   "source": "",
   "id": "7bf11899bec4e5ba",
   "outputs": [],
   "execution_count": 32
  },
  {
   "metadata": {
    "ExecuteTime": {
     "end_time": "2025-02-15T12:40:11.085674Z",
     "start_time": "2025-02-15T12:40:10.942353Z"
    }
   },
   "cell_type": "code",
   "source": [
    "df.filter(\n",
    "    F.col('Discount') > 0.1\n",
    ").show()"
   ],
   "id": "69c3984b3d9872ed",
   "outputs": [
    {
     "name": "stdout",
     "output_type": "stream",
     "text": [
      "+--------+-----------+-------------+-------------------+-------------------+--------------------+----------+----------+-----------+---------+\n",
      "|Order_ID|Customer_ID|Customer_Type|            Product|           Category|              Region|Order_Date|Order_Year|Order_Month|Order_Day|\n",
      "+--------+-----------+-------------+-------------------+-------------------+--------------------+----------+----------+-----------+---------+\n",
      "|    ORD5|    CUS7919|          B2B|          Tanqueray|Alcoholic Beverages|              Bayern|2023-08-05|      2023|          8|        5|\n",
      "|    ORD6|     CUS533|          B2B|       Mountain Dew|        Soft Drinks|            Saarland|2023-02-18|      2023|          2|       18|\n",
      "|   ORD11|    CUS3565|          B2B|         Krombacher|Alcoholic Beverages|         Brandenburg|2021-01-05|      2021|          1|        5|\n",
      "|   ORD17|    CUS9592|          B2B|    Cranberry Juice|             Juices|       Niedersachsen|2021-07-13|      2021|          7|       13|\n",
      "|   ORD47|    CUS9133|          B2B|Passion Fruit Juice|             Juices|            Saarland|2022-05-22|      2022|          5|       22|\n",
      "|   ORD47|    CUS9133|          B2B|      Granini Apple|             Juices|            Saarland|2022-05-22|      2022|          5|       22|\n",
      "|   ORD50|    CUS7265|          B2B|             Volvic|              Water|              Bayern|2023-06-23|      2023|          6|       23|\n",
      "|   ORD53|    CUS6801|          B2B|             Kölsch|Alcoholic Beverages|   Baden-Württemberg|2021-07-10|      2021|          7|       10|\n",
      "|   ORD67|    CUS1215|          B2B|         Warsteiner|Alcoholic Beverages|     Rheinland-Pfalz|2023-12-29|      2023|         12|       29|\n",
      "|   ORD73|     CUS987|          B2B|        Mango Juice|             Juices|             Hamburg|2022-12-07|      2022|         12|        7|\n",
      "|   ORD75|    CUS5847|          B2B|     San Pellegrino|              Water|              Bayern|2022-02-08|      2022|          2|        8|\n",
      "|   ORD94|    CUS6080|          B2B|         Fritz-Kola|        Soft Drinks|       Niedersachsen|2022-08-21|      2022|          8|       21|\n",
      "|  ORD112|    CUS9836|          B2B|              Jever|Alcoholic Beverages|              Bremen|2023-02-13|      2023|          2|       13|\n",
      "|  ORD112|    CUS9836|          B2B|Passion Fruit Juice|             Juices|              Bremen|2023-02-13|      2023|          2|       13|\n",
      "|  ORD116|    CUS3915|          B2B|      Granini Apple|             Juices|              Bremen|2021-03-24|      2021|          3|       24|\n",
      "|  ORD116|    CUS3915|          B2B|         Fritz-Kola|        Soft Drinks|              Bremen|2021-03-24|      2021|          3|       24|\n",
      "|  ORD125|    CUS9419|          B2B|        Mango Juice|             Juices|            Saarland|2023-02-15|      2023|          2|       15|\n",
      "|  ORD129|    CUS3961|          B2B|         Vio Wasser|              Water|              Bremen|2022-03-23|      2022|          3|       23|\n",
      "|  ORD131|    CUS1076|          B2B|    Cranberry Juice|             Juices|Mecklenburg-Vorpo...|2021-06-01|      2021|          6|        1|\n",
      "|  ORD150|    CUS6370|          B2B|    Sauvignon Blanc|Alcoholic Beverages|             Hamburg|2023-08-04|      2023|          8|        4|\n",
      "+--------+-----------+-------------+-------------------+-------------------+--------------------+----------+----------+-----------+---------+\n",
      "only showing top 20 rows\n",
      "\n"
     ]
    }
   ],
   "execution_count": 33
  },
  {
   "metadata": {
    "ExecuteTime": {
     "end_time": "2025-02-15T12:38:44.779329Z",
     "start_time": "2025-02-15T12:38:44.774823Z"
    }
   },
   "cell_type": "code",
   "source": "df.printSchema()",
   "id": "1f6aa00143e89087",
   "outputs": [
    {
     "name": "stdout",
     "output_type": "stream",
     "text": [
      "root\n",
      " |-- Order_ID: string (nullable = true)\n",
      " |-- Customer_ID: string (nullable = true)\n",
      " |-- Customer_Type: string (nullable = true)\n",
      " |-- Product: string (nullable = true)\n",
      " |-- Category: string (nullable = true)\n",
      " |-- Unit_Price: string (nullable = true)\n",
      " |-- Quantity: string (nullable = true)\n",
      " |-- Discount: string (nullable = true)\n",
      " |-- Total_Price: string (nullable = true)\n",
      " |-- Region: string (nullable = true)\n",
      " |-- Order_Date: date (nullable = true)\n",
      " |-- Unit_Price: decimal(10,2) (nullable = true)\n",
      " |-- Quantity: integer (nullable = true)\n",
      " |-- Discount: decimal(10,2) (nullable = true)\n",
      " |-- Total_Price: decimal(10,2) (nullable = true)\n",
      " |-- Order_Year: integer (nullable = true)\n",
      " |-- Order_Month: integer (nullable = true)\n",
      " |-- Order_Day: integer (nullable = true)\n",
      "\n"
     ]
    }
   ],
   "execution_count": 30
  },
  {
   "metadata": {
    "ExecuteTime": {
     "end_time": "2025-02-15T19:24:07.226056Z",
     "start_time": "2025-02-15T19:24:05.367575Z"
    }
   },
   "cell_type": "code",
   "source": "df.orderBy(F.desc('Total_Price')).show()",
   "id": "55cdc5d5d028047a",
   "outputs": [
    {
     "name": "stdout",
     "output_type": "stream",
     "text": [
      "+----------+-----------+-------------+--------------+-------------------+------------------+----------+----------+-----------+---------+\n",
      "|  Order_ID|Customer_ID|Customer_Type|       Product|           Category|            Region|Order_Date|Order_Year|Order_Month|Order_Day|\n",
      "+----------+-----------+-------------+--------------+-------------------+------------------+----------+----------+-----------+---------+\n",
      "|ORD1133781|    CUS3918|          B2B|Moët & Chandon|Alcoholic Beverages|     Niedersachsen|2021-01-26|      2021|          1|       26|\n",
      "| ORD536454|    CUS8636|          B2B|Moët & Chandon|Alcoholic Beverages|            Hessen|2022-10-11|      2022|         10|       11|\n",
      "|ORD2134175|     CUS944|          B2B|Moët & Chandon|Alcoholic Beverages|            Berlin|2023-12-24|      2023|         12|       24|\n",
      "|ORD2894273|    CUS7905|          B2B|Moët & Chandon|Alcoholic Beverages|            Berlin|2021-01-29|      2021|          1|       29|\n",
      "|ORD2906160|    CUS1093|          B2B|Veuve Clicquot|Alcoholic Beverages|          Saarland|2021-02-05|      2021|          2|        5|\n",
      "|ORD2784790|    CUS2426|          B2B|Moët & Chandon|Alcoholic Beverages|            Bremen|2021-12-29|      2021|         12|       29|\n",
      "| ORD661205|    CUS8932|          B2B|Veuve Clicquot|Alcoholic Beverages|           Hamburg|2022-08-02|      2022|          8|        2|\n",
      "|ORD2645032|     CUS182|          B2B|Moët & Chandon|Alcoholic Beverages|            Bayern|2023-09-28|      2023|          9|       28|\n",
      "| ORD695730|    CUS9112|          B2B|Moët & Chandon|Alcoholic Beverages|    Sachsen-Anhalt|2022-12-29|      2022|         12|       29|\n",
      "| ORD181176|    CUS7104|          B2B|Veuve Clicquot|Alcoholic Beverages|           Sachsen|2023-01-07|      2023|          1|        7|\n",
      "|ORD1553775|    CUS2218|          B2B|Moët & Chandon|Alcoholic Beverages|         Thüringen|2022-11-18|      2022|         11|       18|\n",
      "|ORD1397562|    CUS1122|          B2B|Moët & Chandon|Alcoholic Beverages|          Saarland|2021-08-13|      2021|          8|       13|\n",
      "| ORD679871|    CUS3334|          B2B|Moët & Chandon|Alcoholic Beverages|       Brandenburg|2021-11-07|      2021|         11|        7|\n",
      "|ORD2177541|     CUS190|          B2B|Veuve Clicquot|Alcoholic Beverages|            Bayern|2022-07-22|      2022|          7|       22|\n",
      "| ORD899096|    CUS3820|          B2B|Veuve Clicquot|Alcoholic Beverages|            Hessen|2023-08-24|      2023|          8|       24|\n",
      "|ORD1686098|    CUS7278|          B2B|Veuve Clicquot|Alcoholic Beverages|       Brandenburg|2023-10-06|      2023|         10|        6|\n",
      "|ORD1263245|     CUS810|          B2B|     Tanqueray|Alcoholic Beverages|         Thüringen|2022-12-23|      2022|         12|       23|\n",
      "|ORD2716358|    CUS2557|          B2B|      Riesling|Alcoholic Beverages|            Bayern|2021-03-16|      2021|          3|       16|\n",
      "|ORD2439829|    CUS9524|          B2B|   Havana Club|Alcoholic Beverages|         Thüringen|2021-09-03|      2021|          9|        3|\n",
      "| ORD834991|     CUS665|          B2B|      Riesling|Alcoholic Beverages|Schleswig-Holstein|2022-12-05|      2022|         12|        5|\n",
      "+----------+-----------+-------------+--------------+-------------------+------------------+----------+----------+-----------+---------+\n",
      "only showing top 20 rows\n",
      "\n"
     ]
    }
   ],
   "execution_count": 38
  },
  {
   "metadata": {
    "ExecuteTime": {
     "end_time": "2025-02-15T19:26:04.577941Z",
     "start_time": "2025-02-15T19:26:02.739846Z"
    }
   },
   "cell_type": "code",
   "source": "df.orderBy(F.asc('Order_Date')).show()",
   "id": "3dec66b74b9e3a2d",
   "outputs": [
    {
     "name": "stdout",
     "output_type": "stream",
     "text": [
      "+----------+-----------+-------------+-------------------+-------------------+-----------------+----------+----------+-----------+---------+\n",
      "|  Order_ID|Customer_ID|Customer_Type|            Product|           Category|           Region|Order_Date|Order_Year|Order_Month|Order_Day|\n",
      "+----------+-----------+-------------+-------------------+-------------------+-----------------+----------+----------+-----------+---------+\n",
      "|ORD2895558|    CUS6624|          B2C|             Merlot|Alcoholic Beverages|  Rheinland-Pfalz|2021-01-01|      2021|          1|        1|\n",
      "|   ORD4654|    CUS9564|          B2B|      Granini Apple|             Juices|Baden-Württemberg|2021-01-01|      2021|          1|        1|\n",
      "| ORD638439|    CUS3479|          B2C|          Club Mate|        Soft Drinks|Baden-Württemberg|2021-01-01|      2021|          1|        1|\n",
      "|   ORD8797|    CUS9206|          B2C|             Sprite|        Soft Drinks|           Bayern|2021-01-01|      2021|          1|        1|\n",
      "|ORD1024147|    CUS5312|          B2C| Rauch Multivitamin|             Juices|           Bayern|2021-01-01|      2021|          1|        1|\n",
      "|   ORD4654|    CUS9564|          B2B|         Vio Wasser|              Water|Baden-Württemberg|2021-01-01|      2021|          1|        1|\n",
      "| ORD636525|    CUS8178|          B2B| Rauch Multivitamin|             Juices|           Berlin|2021-01-01|      2021|          1|        1|\n",
      "|   ORD3176|    CUS7445|          B2C|       Jack Daniels|Alcoholic Beverages|          Sachsen|2021-01-01|      2021|          1|        1|\n",
      "| ORD892775|    CUS4566|          B2C|        Apollinaris|              Water|           Berlin|2021-01-01|      2021|          1|        1|\n",
      "|   ORD4727|    CUS8157|          B2C|         Warsteiner|Alcoholic Beverages|  Rheinland-Pfalz|2021-01-01|      2021|          1|        1|\n",
      "| ORD639673|    CUS1852|          B2C|              Evian|              Water|  Rheinland-Pfalz|2021-01-01|      2021|          1|        1|\n",
      "|   ORD1201|    CUS4952|          B2C|     Hohes C Orange|             Juices|      Brandenburg|2021-01-01|      2021|          1|        1|\n",
      "|ORD1031763|    CUS3343|          B2C|Passion Fruit Juice|             Juices|          Sachsen|2021-01-01|      2021|          1|        1|\n",
      "|   ORD4727|    CUS8157|          B2C|             Volvic|              Water|  Rheinland-Pfalz|2021-01-01|      2021|          1|        1|\n",
      "| ORD638439|    CUS3479|          B2C|       Tomato Juice|             Juices|Baden-Württemberg|2021-01-01|      2021|          1|        1|\n",
      "|   ORD1201|    CUS4952|          B2C|Passion Fruit Juice|             Juices|      Brandenburg|2021-01-01|      2021|          1|        1|\n",
      "|ORD1519586|     CUS809|          B2B|    Cranberry Juice|             Juices|         Saarland|2021-01-01|      2021|          1|        1|\n",
      "|   ORD5563|    CUS8522|          B2B|         Augustiner|Alcoholic Beverages|           Hessen|2021-01-01|      2021|          1|        1|\n",
      "| ORD636525|    CUS8178|          B2B|     Hohes C Orange|             Juices|           Berlin|2021-01-01|      2021|          1|        1|\n",
      "|   ORD1993|    CUS8223|          B2C|           Riesling|Alcoholic Beverages|         Saarland|2021-01-01|      2021|          1|        1|\n",
      "+----------+-----------+-------------+-------------------+-------------------+-----------------+----------+----------+-----------+---------+\n",
      "only showing top 20 rows\n",
      "\n"
     ]
    }
   ],
   "execution_count": 42
  },
  {
   "metadata": {
    "ExecuteTime": {
     "end_time": "2025-02-15T19:27:25.727380Z",
     "start_time": "2025-02-15T19:27:25.672126Z"
    }
   },
   "cell_type": "code",
   "source": [
    "df.filter(\n",
    "    F.col('Product') == 'Sprite'\n",
    ").show()"
   ],
   "id": "351ca80f8ce25e44",
   "outputs": [
    {
     "name": "stdout",
     "output_type": "stream",
     "text": [
      "+--------+-----------+-------------+-------+-----------+-------------------+----------+----------+-----------+---------+\n",
      "|Order_ID|Customer_ID|Customer_Type|Product|   Category|             Region|Order_Date|Order_Year|Order_Month|Order_Day|\n",
      "+--------+-----------+-------------+-------+-----------+-------------------+----------+----------+-----------+---------+\n",
      "|    ORD1|    CUS1496|          B2B| Sprite|Soft Drinks|  Baden-Württemberg|2023-08-23|      2023|          8|       23|\n",
      "|   ORD10|    CUS9472|          B2B| Sprite|Soft Drinks|             Bayern|2023-04-09|      2023|          4|        9|\n",
      "|   ORD42|    CUS1799|          B2C| Sprite|Soft Drinks|        Brandenburg|2022-05-05|      2022|          5|        5|\n",
      "|   ORD62|    CUS2179|          B2C| Sprite|Soft Drinks|             Berlin|2021-06-02|      2021|          6|        2|\n",
      "|   ORD79|    CUS7926|          B2C| Sprite|Soft Drinks|  Baden-Württemberg|2021-11-23|      2021|         11|       23|\n",
      "|  ORD115|    CUS9902|          B2C| Sprite|Soft Drinks|           Saarland|2023-02-26|      2023|          2|       26|\n",
      "|  ORD119|    CUS8217|          B2C| Sprite|Soft Drinks|             Berlin|2023-03-10|      2023|          3|       10|\n",
      "|  ORD160|    CUS2426|          B2B| Sprite|Soft Drinks|             Bremen|2022-02-09|      2022|          2|        9|\n",
      "|  ORD168|    CUS1499|          B2B| Sprite|Soft Drinks|        Brandenburg|2021-12-22|      2021|         12|       22|\n",
      "|  ORD195|    CUS4664|          B2B| Sprite|Soft Drinks|Nordrhein-Westfalen|2021-11-25|      2021|         11|       25|\n",
      "|  ORD196|    CUS8048|          B2C| Sprite|Soft Drinks|  Baden-Württemberg|2022-08-29|      2022|          8|       29|\n",
      "|  ORD204|    CUS5581|          B2C| Sprite|Soft Drinks|             Berlin|2021-06-06|      2021|          6|        6|\n",
      "|  ORD247|     CUS511|          B2B| Sprite|Soft Drinks|      Niedersachsen|2022-07-28|      2022|          7|       28|\n",
      "|  ORD249|     CUS329|          B2C| Sprite|Soft Drinks|          Thüringen|2022-07-11|      2022|          7|       11|\n",
      "|  ORD267|     CUS776|          B2C| Sprite|Soft Drinks|            Sachsen|2022-05-28|      2022|          5|       28|\n",
      "|  ORD269|    CUS6169|          B2C| Sprite|Soft Drinks|  Baden-Württemberg|2023-04-16|      2023|          4|       16|\n",
      "|  ORD270|     CUS187|          B2B| Sprite|Soft Drinks|  Baden-Württemberg|2023-11-21|      2023|         11|       21|\n",
      "|  ORD311|    CUS3377|          B2C| Sprite|Soft Drinks|             Berlin|2022-08-11|      2022|          8|       11|\n",
      "|  ORD348|    CUS3279|          B2C| Sprite|Soft Drinks|             Bayern|2021-11-02|      2021|         11|        2|\n",
      "|  ORD353|    CUS7685|          B2C| Sprite|Soft Drinks|             Berlin|2023-06-12|      2023|          6|       12|\n",
      "+--------+-----------+-------------+-------+-----------+-------------------+----------+----------+-----------+---------+\n",
      "only showing top 20 rows\n",
      "\n"
     ]
    }
   ],
   "execution_count": 44
  }
 ],
 "metadata": {
  "kernelspec": {
   "display_name": "Python 3",
   "language": "python",
   "name": "python3"
  },
  "language_info": {
   "codemirror_mode": {
    "name": "ipython",
    "version": 2
   },
   "file_extension": ".py",
   "mimetype": "text/x-python",
   "name": "python",
   "nbconvert_exporter": "python",
   "pygments_lexer": "ipython2",
   "version": "2.7.6"
  }
 },
 "nbformat": 4,
 "nbformat_minor": 5
}
