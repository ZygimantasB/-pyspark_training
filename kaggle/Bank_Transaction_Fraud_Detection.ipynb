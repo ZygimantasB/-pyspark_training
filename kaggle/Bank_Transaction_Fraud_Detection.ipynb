{
 "cells": [
  {
   "cell_type": "code",
   "id": "initial_id",
   "metadata": {
    "collapsed": true,
    "ExecuteTime": {
     "end_time": "2025-02-16T14:05:56.409372Z",
     "start_time": "2025-02-16T14:05:56.238244Z"
    }
   },
   "source": [
    "from email.feedparser import headerRE\n",
    "\n",
    "from pyspark.sql import SparkSession\n",
    "import pyspark.sql.functions as F\n",
    "import os\n",
    "\n",
    "from pyspark.sql.types import StringType"
   ],
   "outputs": [],
   "execution_count": 1
  },
  {
   "metadata": {
    "ExecuteTime": {
     "end_time": "2025-02-16T14:05:56.415316Z",
     "start_time": "2025-02-16T14:05:56.412430Z"
    }
   },
   "cell_type": "code",
   "source": [
    "os.environ['SPARK_HOME'] = r'C:\\spark\\spark-3.5.4-bin-hadoop3'\n",
    "os.environ['PYSPARK_DRIVER_PYTHON'] = 'jupyter'\n",
    "os.environ['PYSPARK_DRIVER_PYTHON_OPTS'] = 'lab'\n",
    "os.environ['PYSPARK_PYTHON'] = 'python'"
   ],
   "id": "60f1d078c30b9a66",
   "outputs": [],
   "execution_count": 2
  },
  {
   "metadata": {
    "ExecuteTime": {
     "end_time": "2025-02-16T14:06:00.324023Z",
     "start_time": "2025-02-16T14:05:56.610871Z"
    }
   },
   "cell_type": "code",
   "source": [
    "spark = (\n",
    "    SparkSession\n",
    "    .builder\n",
    "    .appName(\"PySpark Zero to Hero\")\n",
    "    .master(\"local[*]\")\n",
    "    .config(\"spark.executor.memory\", \"16g\")\n",
    "    .config(\"spark.driver.memory\", \"16g\")\n",
    "    .config(\"spark.executor.cores\", \"4\")\n",
    "    .config(\"spark.sql.shuffle.partitions\", \"80\")\n",
    "    .config(\"spark.dynamicAllocation.enabled\", \"true\")\n",
    "    .config(\"spark.dynamicAllocation.minExecutors\", \"2\")\n",
    "    .config(\"spark.dynamicAllocation.initialExecutors\", \"24\")\n",
    "    .config(\"spark.dynamicAllocation.maxExecutors\", \"50\")\n",
    "    .config('spark.dynamicAllocation.shuffleTrackingEnabled', 'true')\n",
    "    .config('spark.dynamicAllocation.executorIdleTimeout', '60')\n",
    "    .config(\"spark.shuffle.service.enabled\", \"true\")\n",
    "    .config(\"spark.serializer\", \"org.apache.spark.serializer.KryoSerializer\")\n",
    "    .enableHiveSupport()\n",
    "    .getOrCreate()\n",
    ")"
   ],
   "id": "a9bf80ac0b042269",
   "outputs": [],
   "execution_count": 3
  },
  {
   "metadata": {
    "ExecuteTime": {
     "end_time": "2025-02-16T14:06:01.003311Z",
     "start_time": "2025-02-16T14:06:00.329003Z"
    }
   },
   "cell_type": "code",
   "source": [
    "spark.conf.set('spark.sql.adaptive.enabled', 'true')\n",
    "spark.conf.set('spark.sql.adaptive.coalescePartitions.enabled', 'true')\n",
    "spark.conf.set('spark.sql.autoBroadcastJoinThreshold', '-1')"
   ],
   "id": "34dc7e7eeeb638b8",
   "outputs": [],
   "execution_count": 4
  },
  {
   "metadata": {
    "ExecuteTime": {
     "end_time": "2025-02-16T14:06:01.013097Z",
     "start_time": "2025-02-16T14:06:01.009331Z"
    }
   },
   "cell_type": "code",
   "source": "df_path = r\"F:\\Datasets\\CSV datasets\\Bank_Transaction_Fraud_Detection.csv\"",
   "id": "778d1844a9ec6805",
   "outputs": [],
   "execution_count": 5
  },
  {
   "metadata": {
    "ExecuteTime": {
     "end_time": "2025-02-16T14:06:05.910429Z",
     "start_time": "2025-02-16T14:06:01.018224Z"
    }
   },
   "cell_type": "code",
   "source": [
    "df = (\n",
    "    spark.read.format('csv')\n",
    "      .options(header='true', inferSchema='true')\n",
    "      .load(df_path)\n",
    ")"
   ],
   "id": "3acae5ea08ac8ac2",
   "outputs": [],
   "execution_count": 6
  },
  {
   "metadata": {
    "ExecuteTime": {
     "end_time": "2025-02-16T14:06:06.512500Z",
     "start_time": "2025-02-16T14:06:05.986587Z"
    }
   },
   "cell_type": "code",
   "source": "df.show(truncate=False)",
   "id": "9958028963d81c9a",
   "outputs": [
    {
     "name": "stdout",
     "output_type": "stream",
     "text": [
      "+------------------------------------+-------------------+------+---+----------------------------------------+------------------+-------------------------+------------+------------------------------------+----------------+-------------------+------------------+------------------------------------+----------------+-----------------+---------------+----------------------------+--------------------------------------------------+-----------+--------+--------------------+----------------+------------------------------+------------------------+\n",
      "|Customer_ID                         |Customer_Name      |Gender|Age|State                                   |City              |Bank_Branch              |Account_Type|Transaction_ID                      |Transaction_Date|Transaction_Time   |Transaction_Amount|Merchant_ID                         |Transaction_Type|Merchant_Category|Account_Balance|Transaction_Device          |Transaction_Location                              |Device_Type|Is_Fraud|Transaction_Currency|Customer_Contact|Transaction_Description       |Customer_Email          |\n",
      "+------------------------------------+-------------------+------+---+----------------------------------------+------------------+-------------------------+------------+------------------------------------+----------------+-------------------+------------------+------------------------------------+----------------+-----------------+---------------+----------------------------+--------------------------------------------------+-----------+--------+--------------------+----------------+------------------------------+------------------------+\n",
      "|d5f6ec07-d69e-4f47-b9b4-7c58ff17c19e|Osha Tella         |Male  |60 |Kerala                                  |Thiruvananthapuram|Thiruvananthapuram Branch|Savings     |4fa3208f-9e23-42dc-b330-844829d0c12c|23-01-2025      |2025-02-16 16:04:07|32415.45          |214e03c5-5c34-40d1-a66c-f440aa2bbd02|Transfer        |Restaurant       |74557.27       |Voice Assistant             |Thiruvananthapuram, Kerala                        |POS        |0       |INR                 |+9198579XXXXXX  |Bitcoin transaction           |oshaXXXXX@XXXXX.com     |\n",
      "|7c14ad51-781a-4db9-b7bd-67439c175262|Hredhaan Khosla    |Female|51 |Maharashtra                             |Nashik            |Nashik Branch            |Business    |c9de0c06-2c4c-40a9-97ed-3c7b8f97c79c|11-01-2025      |2025-02-16 17:14:53|43622.6           |f9e3f11f-28d3-4199-b0ca-f225a155ede6|Bill Payment    |Restaurant       |74622.66       |POS Mobile Device           |Nashik, Maharashtra                               |Desktop    |0       |INR                 |+9191074XXXXXX  |Grocery delivery              |hredhaanXXXX@XXXXXX.com |\n",
      "|3a73a0e5-d4da-45aa-85f3-528413900a35|Ekani Nazareth     |Male  |20 |Bihar                                   |Bhagalpur         |Bhagalpur Branch         |Savings     |e41c55f9-c016-4ff3-872b-cae72467c75c|25-01-2025      |2025-02-16 03:09:52|63062.56          |97977d83-5486-4510-af1c-8dada3e1cfa0|Bill Payment    |Groceries        |66817.99       |ATM                         |Bhagalpur, Bihar                                  |Desktop    |0       |INR                 |+9197745XXXXXX  |Mutual fund investment        |ekaniXXX@XXXXXX.com     |\n",
      "|7902f4ef-9050-4a79-857d-9c2ea3181940|Yamini Ramachandran|Female|57 |Tamil Nadu                              |Chennai           |Chennai Branch           |Business    |7f7ee11b-ff2c-45a3-802a-49bc47c02ecb|19-01-2025      |2025-02-16 12:27:02|14000.72          |f45cd6b3-5092-44d0-8afb-490894605184|Debit           |Entertainment    |58177.08       |POS Mobile App              |Chennai, Tamil Nadu                               |Mobile     |0       |INR                 |+9195889XXXXXX  |Food delivery                 |yaminiXXXXX@XXXXXXX.com |\n",
      "|3a4bba70-d9a9-4c5f-8b92-1735fd8c19e9|Kritika Rege       |Female|43 |Punjab                                  |Amritsar          |Amritsar Branch          |Savings     |f8e6ac6f-81a1-4985-bf12-f60967d852ef|30-01-2025      |2025-02-16 18:30:46|18335.16          |70dd77dd-3b00-4b2c-8ebc-cfb8af5f6741|Transfer        |Entertainment    |16108.56       |Virtual Card                |Amritsar, Punjab                                  |Mobile     |0       |INR                 |+9195316XXXXXX  |Debt repayment                |kritikaXXXX@XXXXXX.com  |\n",
      "|6c870d65-76b0-431d-bdf3-9292998e8211|Ishanvi Dar        |Male  |54 |Gujarat                                 |Ahmedabad         |Ahmedabad Branch         |Checking    |af5f667c-d064-4083-bfb7-83396111a3da|25-01-2025      |2025-02-16 06:49:53|9711.15           |d82a798d-7b4d-4609-a687-8f6b5fc58fe7|Transfer        |Entertainment    |61258.85       |Mobile Device               |Ahmedabad, Gujarat                                |POS        |0       |INR                 |+9198318XXXXXX  |Seminar registration          |ishanviXXX@XXXXX.com    |\n",
      "|5323737c-bbd2-423f-9c9b-e0433c8f75dc|Arya Shroff        |Female|61 |Delhi                                   |New Delhi         |New Delhi Branch         |Business    |b1355810-d246-4aeb-9932-347f32646172|04-01-2025      |2025-02-16 00:53:33|94677.01          |e0b802ba-b1d9-4e94-9a88-6fbb6066b4e0|Transfer        |Health           |36313.61       |Payment Gateway Device      |New Delhi, Delhi                                  |Desktop    |0       |INR                 |+9194785XXXXXX  |Public transport pass         |aryaXXX@XXXXX.com       |\n",
      "|c0c3d474-f6c2-4c66-9b0e-f9ba75c6f310|Jackson Shere      |Male  |32 |Andaman and Nicobar Islands             |Port Blair        |Port Blair Branch        |Business    |c86a000c-d81f-40be-acdf-77fc072fd808|16-01-2025      |2025-02-16 04:04:48|67704.28          |ec344461-1bab-4e85-a1cb-05061e9149bc|Debit           |Clothing         |16948.73       |Debit/Credit Card           |Port Blair, Andaman and Nicobar Islands           |ATM        |0       |INR                 |+9193423XXXXXX  |Online shopping               |jacksonXXX@XXXXXXX.com  |\n",
      "|e9a82764-1253-4a46-ad34-80e3416fc801|Bhanumati Ravel    |Male  |52 |Madhya Pradesh                          |Bhopal            |Bhopal Branch            |Business    |323cc683-b0dc-40ee-a519-3b5dc96c7ed8|25-01-2025      |2025-02-16 10:50:12|72953.45          |1de36b2e-e1a9-4e29-b8f8-8693919f0bb1|Withdrawal      |Clothing         |18138.71       |ATM                         |Bhopal, Madhya Pradesh                            |Mobile     |0       |INR                 |+9194374XXXXXX  |Vacation payment              |bhanumatiXXXXX@XXXXX.com|\n",
      "|708224d5-192a-4d86-b411-8ec6d1bb274b|Meera Ganesh       |Female|32 |Chhattisgarh                            |Jagdalpur         |Jagdalpur Branch         |Business    |9fad31ea-2770-4d80-a0ea-00972d5f02cc|02-01-2025      |2025-02-16 04:37:34|5689.02           |20ffaa8f-958b-4848-b2e4-f62a3fda9bc1|Credit          |Entertainment    |65801.35       |Bank Branch                 |Jagdalpur, Chhattisgarh                           |Desktop    |0       |INR                 |+9194511XXXXXX  |Electronics purchase          |meeraXXXXX@XXXXXXX.com  |\n",
      "|87b53799-9959-4534-9aad-f7dfc1821d4b|Charvi Biswas      |Male  |18 |Gujarat                                 |Vadodara          |Vadodara Branch          |Savings     |72832f5f-3b4c-4c9f-8434-8cfc564835f1|25-01-2025      |2025-02-16 08:52:44|45491.61          |e4d6a617-f30f-481c-b2d6-133259d69a3b|Credit          |Clothing         |25427.07       |Desktop/Laptop              |Vadodara, Gujarat                                 |POS        |0       |INR                 |+9193360XXXXXX  |Streaming service subscription|charviXXXX@XXXXXXX.com  |\n",
      "|d4d0f62e-00b0-4c0e-8188-0b5a3f3e6c3e|Yuvraj Dasgupta    |Male  |59 |Punjab                                  |Chandigarh        |Chandigarh Branch        |Business    |9a03bbb6-0b7b-4ea6-919f-ba430637b612|14-01-2025      |2025-02-16 19:43:31|34680.87          |3777c223-bf6f-443f-8964-5f60155cca98|Credit          |Restaurant       |38070.74       |Bank Branch                 |Chandigarh, Punjab                                |Mobile     |0       |INR                 |+9193342XXXXXX  |Subscription renewal          |yuvrajXXXXX@XXXXX.com   |\n",
      "|b2563484-0dae-4555-8859-5b55f91136d4|Amara Sidhu        |Male  |66 |Mizoram                                 |Champhai          |Champhai Branch          |Savings     |6fa60ddb-b48b-40d3-b48a-d3bfa5afaafa|27-01-2025      |2025-02-16 22:02:12|46843.65          |31278c3e-48ae-4115-a5c0-d8de1745d28f|Bill Payment    |Restaurant       |38362.08       |Desktop/Laptop              |Champhai, Mizoram                                 |Desktop    |0       |INR                 |+9192865XXXXXX  |Laundry service               |amaraXXXX@XXXXXXX.com   |\n",
      "|e6efdf36-1128-4a59-b4e5-08d8e5eb0e90|Maya Purohit       |Female|47 |Chhattisgarh                            |Korba             |Korba Branch             |Savings     |9cb895c2-a148-43e4-8bff-44dfff407fe7|29-01-2025      |2025-02-16 12:09:47|39976.03          |84797331-345f-40c3-87cd-f45e873de706|Transfer        |Restaurant       |49403.41       |Self-service Banking Machine|Korba, Chhattisgarh                               |POS        |0       |INR                 |+9193052XXXXXX  |Online shopping               |mayaXXX@XXXXXXX.com     |\n",
      "|3b59a82e-cd12-4eb4-bb0d-a52fb0662be8|Eshana Yohannan    |Male  |37 |West Bengal                             |Kolkata           |Kolkata Branch           |Savings     |9ce70ba0-cdf9-4c7d-bf79-8b59ac663b91|09-01-2025      |2025-02-16 14:35:57|10258.06          |09006c38-ded5-4abe-8660-6334a1fd4825|Transfer        |Groceries        |73121.31       |Payment Gateway Device      |Kolkata, West Bengal                              |ATM        |0       |INR                 |+9197782XXXXXX  |Personal loan repayment       |eshanaXXXXX@XXXXXXX.com |\n",
      "|fa3f6733-33d6-4893-9a4b-90d097e02a14|Ranveer Biswas     |Female|53 |Bihar                                   |Gaya              |Gaya Branch              |Business    |08d040c8-4561-40e3-b2de-605ffbc837a2|22-01-2025      |2025-02-16 09:50:59|92969.97          |c402f840-63bc-4a00-97d3-59ca63c281ff|Withdrawal      |Health           |80388.02       |ATM Booth Kiosk             |Gaya, Bihar                                       |Mobile     |0       |INR                 |+9194710XXXXXX  |Insurance premium             |ranveerXXXX@XXXXXXX.com |\n",
      "|8d375e52-bfe4-405c-8e49-0e53f4cb8258|Bishakha Dhar      |Female|38 |Sikkim                                  |Jorethang         |Jorethang Branch         |Checking    |26064944-2ef5-40f3-bbc6-880fa0c7ffa6|08-01-2025      |2025-02-16 13:51:31|47.39             |9ccd73b9-9361-4ec7-af4f-9bbf27672b77|Withdrawal      |Clothing         |52977.93       |ATM                         |Jorethang, Sikkim                                 |Mobile     |0       |INR                 |+9199457XXXXXX  |Pet care                      |bishakhaXXXXX@XXXXX.com |\n",
      "|99d95f63-a2fa-4707-b577-f4a008e6700e|Theodore Suri      |Male  |56 |Dadra and Nagar Haveli and Daman and Diu|Silvassa          |Silvassa Branch          |Business    |aa3832eb-c0f0-48b1-b195-a376a1e17797|24-01-2025      |2025-02-16 12:41:39|85269.3           |edb8e488-50ce-4d73-8dfd-ba561b4bc17b|Debit           |Restaurant       |74322.85       |Biometric Scanner           |Silvassa, Dadra and Nagar Haveli and Daman and Diu|Desktop    |1       |INR                 |+9194951XXXXXX  |Gift for colleague            |theodoreXXX@XXXXX.com   |\n",
      "|88f48e6d-8018-4977-9af3-1702bd6e490c|Gagan Vala         |Female|38 |Madhya Pradesh                          |Bhopal            |Bhopal Branch            |Savings     |df9d6dd9-dd29-442d-9abf-a2b3bbffde24|02-01-2025      |2025-02-16 12:42:43|89594.61          |70d22ed4-3162-419f-adbb-1d04449f135d|Bill Payment    |Groceries        |61702.79       |POS Mobile Device           |Bhopal, Madhya Pradesh                            |Desktop    |0       |INR                 |+9196471XXXXXX  |Smart home device purchase    |gaganXXXXX@XXXXX.com    |\n",
      "|f2fd2ba1-be7e-4a02-8cb6-bd20cae92545|Saanvi Srinivas    |Female|38 |Uttar Pradesh                           |Kanpur            |Kanpur Branch            |Business    |0c4dafb3-c550-453a-a77c-6660a26b6705|13-01-2025      |2025-02-16 21:50:44|17728.9           |4a1fff97-40f6-4427-b6fa-a1921619b4df|Withdrawal      |Clothing         |6965.92        |Self-service Banking Machine|Kanpur, Uttar Pradesh                             |Desktop    |0       |INR                 |+9196905XXXXXX  |Beauty products               |saanviXXXX@XXXXX.com    |\n",
      "+------------------------------------+-------------------+------+---+----------------------------------------+------------------+-------------------------+------------+------------------------------------+----------------+-------------------+------------------+------------------------------------+----------------+-----------------+---------------+----------------------------+--------------------------------------------------+-----------+--------+--------------------+----------------+------------------------------+------------------------+\n",
      "only showing top 20 rows\n",
      "\n"
     ]
    }
   ],
   "execution_count": 7
  },
  {
   "metadata": {
    "ExecuteTime": {
     "end_time": "2025-02-16T14:06:11.040106Z",
     "start_time": "2025-02-16T14:06:06.539552Z"
    }
   },
   "cell_type": "code",
   "source": "df.select(*[F.count_distinct(col).alias(col) for col in df.columns]).show()",
   "id": "43fd20f70518b2af",
   "outputs": [
    {
     "name": "stdout",
     "output_type": "stream",
     "text": [
      "+-----------+-------------+------+---+-----+----+-----------+------------+--------------+----------------+----------------+------------------+-----------+----------------+-----------------+---------------+------------------+--------------------+-----------+--------+--------------------+----------------+-----------------------+--------------+\n",
      "|Customer_ID|Customer_Name|Gender|Age|State|City|Bank_Branch|Account_Type|Transaction_ID|Transaction_Date|Transaction_Time|Transaction_Amount|Merchant_ID|Transaction_Type|Merchant_Category|Account_Balance|Transaction_Device|Transaction_Location|Device_Type|Is_Fraud|Transaction_Currency|Customer_Contact|Transaction_Description|Customer_Email|\n",
      "+-----------+-------------+------+---+-----+----+-----------+------------+--------------+----------------+----------------+------------------+-----------+----------------+-----------------+---------------+------------------+--------------------+-----------+--------+--------------------+----------------+-----------------------+--------------+\n",
      "|     200000|       142699|     2| 53|   34| 145|        145|           3|        200000|              31|           77856|            197978|     200000|               5|                6|         197954|                20|                 148|          4|       2|                   1|            9000|                    172|          4779|\n",
      "+-----------+-------------+------+---+-----+----+-----------+------------+--------------+----------------+----------------+------------------+-----------+----------------+-----------------+---------------+------------------+--------------------+-----------+--------+--------------------+----------------+-----------------------+--------------+\n",
      "\n"
     ]
    }
   ],
   "execution_count": 8
  },
  {
   "metadata": {
    "ExecuteTime": {
     "end_time": "2025-02-16T14:06:11.858200Z",
     "start_time": "2025-02-16T14:06:11.068902Z"
    }
   },
   "cell_type": "code",
   "source": [
    "df.select([\n",
    "    F.sum(F.when(F.col(column).isNull(), 1).otherwise(0)).alias(column) for column in df.columns\n",
    "]).show()"
   ],
   "id": "b2a6e159ba1751b5",
   "outputs": [
    {
     "name": "stdout",
     "output_type": "stream",
     "text": [
      "+-----------+-------------+------+---+-----+----+-----------+------------+--------------+----------------+----------------+------------------+-----------+----------------+-----------------+---------------+------------------+--------------------+-----------+--------+--------------------+----------------+-----------------------+--------------+\n",
      "|Customer_ID|Customer_Name|Gender|Age|State|City|Bank_Branch|Account_Type|Transaction_ID|Transaction_Date|Transaction_Time|Transaction_Amount|Merchant_ID|Transaction_Type|Merchant_Category|Account_Balance|Transaction_Device|Transaction_Location|Device_Type|Is_Fraud|Transaction_Currency|Customer_Contact|Transaction_Description|Customer_Email|\n",
      "+-----------+-------------+------+---+-----+----+-----------+------------+--------------+----------------+----------------+------------------+-----------+----------------+-----------------+---------------+------------------+--------------------+-----------+--------+--------------------+----------------+-----------------------+--------------+\n",
      "|          0|            0|     0|  0|    0|   0|          0|           0|             0|               0|               0|                 0|          0|               0|                0|              0|                 0|                   0|          0|       0|                   0|               0|                      0|             0|\n",
      "+-----------+-------------+------+---+-----+----+-----------+------------+--------------+----------------+----------------+------------------+-----------+----------------+-----------------+---------------+------------------+--------------------+-----------+--------+--------------------+----------------+-----------------------+--------------+\n",
      "\n"
     ]
    }
   ],
   "execution_count": 9
  },
  {
   "metadata": {
    "ExecuteTime": {
     "end_time": "2025-02-16T14:06:12.242538Z",
     "start_time": "2025-02-16T14:06:11.891086Z"
    }
   },
   "cell_type": "code",
   "source": "df.count()",
   "id": "59bf8de21bb33664",
   "outputs": [
    {
     "data": {
      "text/plain": [
       "200000"
      ]
     },
     "execution_count": 10,
     "metadata": {},
     "output_type": "execute_result"
    }
   ],
   "execution_count": 10
  },
  {
   "metadata": {
    "ExecuteTime": {
     "end_time": "2025-02-16T14:06:12.524381Z",
     "start_time": "2025-02-16T14:06:12.294007Z"
    }
   },
   "cell_type": "code",
   "source": [
    "(df.select(\n",
    "    F.col('Customer_Name'),\n",
    "    F.col('Age'),\n",
    "    F.col('Transaction_Amount'),\n",
    "    F.col('Is_Fraud')\n",
    ").where(\n",
    "    F.col('Is_Fraud') == 1\n",
    ").show())"
   ],
   "id": "f3424fe5d7080449",
   "outputs": [
    {
     "name": "stdout",
     "output_type": "stream",
     "text": [
      "+-------------------+---+------------------+--------+\n",
      "|      Customer_Name|Age|Transaction_Amount|Is_Fraud|\n",
      "+-------------------+---+------------------+--------+\n",
      "|      Theodore Suri| 56|           85269.3|       1|\n",
      "|        Jalsa Menon| 24|          70219.41|       1|\n",
      "|       Ishanvi Kant| 39|          28020.64|       1|\n",
      "|       Peter Dhawan| 52|          37118.69|       1|\n",
      "|        Gopal Ratta| 28|          17317.33|       1|\n",
      "|          Ryan Nagi| 43|           1517.59|       1|\n",
      "|  Rachita Jayaraman| 21|          82488.69|       1|\n",
      "|      Niharika Kari| 29|          70716.71|       1|\n",
      "|     Yashoda Parmer| 33|          32001.45|       1|\n",
      "|Prisha Venkataraman| 41|          39955.85|       1|\n",
      "|        Zayan Sidhu| 30|          95667.96|       1|\n",
      "|   Warinder Agrawal| 67|          60502.58|       1|\n",
      "|       Nitara Batta| 24|          76437.89|       1|\n",
      "|      Varenya Batta| 33|          50499.73|       1|\n",
      "|      Yadavi Mammen| 29|          63840.09|       1|\n",
      "|      Lakshmi Sethi| 38|          29722.53|       1|\n",
      "|     Faqid Sundaram| 29|          52672.03|       1|\n",
      "|        Damini Kala| 59|          22045.62|       1|\n",
      "|         Sai Sehgal| 46|          45143.79|       1|\n",
      "|       Farhan Sibal| 47|           89586.8|       1|\n",
      "+-------------------+---+------------------+--------+\n",
      "only showing top 20 rows\n",
      "\n"
     ]
    }
   ],
   "execution_count": 11
  },
  {
   "metadata": {
    "ExecuteTime": {
     "end_time": "2025-02-16T14:06:12.655189Z",
     "start_time": "2025-02-16T14:06:12.560651Z"
    }
   },
   "cell_type": "code",
   "source": "df.createOrReplaceTempView(\"transactions\")",
   "id": "e640dbe663dca32c",
   "outputs": [],
   "execution_count": 12
  },
  {
   "metadata": {
    "ExecuteTime": {
     "end_time": "2025-02-16T14:06:12.868162Z",
     "start_time": "2025-02-16T14:06:12.669047Z"
    }
   },
   "cell_type": "code",
   "source": [
    "spark.sql(\n",
    "    \"\"\"\n",
    "    SELECT\n",
    "        Customer_Name,\n",
    "        Age,\n",
    "        Transaction_Amount,\n",
    "        Is_Fraud\n",
    "    FROM\n",
    "        transactions\n",
    "    WHERE\n",
    "        Is_Fraud = 1\n",
    "    \"\"\"\n",
    ").show()"
   ],
   "id": "223a78dd4e4a124f",
   "outputs": [
    {
     "name": "stdout",
     "output_type": "stream",
     "text": [
      "+-------------------+---+------------------+--------+\n",
      "|      Customer_Name|Age|Transaction_Amount|Is_Fraud|\n",
      "+-------------------+---+------------------+--------+\n",
      "|      Theodore Suri| 56|           85269.3|       1|\n",
      "|        Jalsa Menon| 24|          70219.41|       1|\n",
      "|       Ishanvi Kant| 39|          28020.64|       1|\n",
      "|       Peter Dhawan| 52|          37118.69|       1|\n",
      "|        Gopal Ratta| 28|          17317.33|       1|\n",
      "|          Ryan Nagi| 43|           1517.59|       1|\n",
      "|  Rachita Jayaraman| 21|          82488.69|       1|\n",
      "|      Niharika Kari| 29|          70716.71|       1|\n",
      "|     Yashoda Parmer| 33|          32001.45|       1|\n",
      "|Prisha Venkataraman| 41|          39955.85|       1|\n",
      "|        Zayan Sidhu| 30|          95667.96|       1|\n",
      "|   Warinder Agrawal| 67|          60502.58|       1|\n",
      "|       Nitara Batta| 24|          76437.89|       1|\n",
      "|      Varenya Batta| 33|          50499.73|       1|\n",
      "|      Yadavi Mammen| 29|          63840.09|       1|\n",
      "|      Lakshmi Sethi| 38|          29722.53|       1|\n",
      "|     Faqid Sundaram| 29|          52672.03|       1|\n",
      "|        Damini Kala| 59|          22045.62|       1|\n",
      "|         Sai Sehgal| 46|          45143.79|       1|\n",
      "|       Farhan Sibal| 47|           89586.8|       1|\n",
      "+-------------------+---+------------------+--------+\n",
      "only showing top 20 rows\n",
      "\n"
     ]
    }
   ],
   "execution_count": 13
  },
  {
   "metadata": {
    "ExecuteTime": {
     "end_time": "2025-02-16T14:06:13.153790Z",
     "start_time": "2025-02-16T14:06:12.898565Z"
    }
   },
   "cell_type": "code",
   "source": [
    "spark.sql(\"\"\"\n",
    "    SELECT\n",
    "        *\n",
    "    FROM\n",
    "        transactions\n",
    "    WHERE\n",
    "        Transaction_Type = \"Debit\"\n",
    "    AND\n",
    "        Transaction_Amount > 1000\n",
    "    AND\n",
    "        State = \"Andhra Pradesh\"\n",
    "\"\"\").show()"
   ],
   "id": "7399925998b2e48b",
   "outputs": [
    {
     "name": "stdout",
     "output_type": "stream",
     "text": [
      "+--------------------+------------------+------+---+--------------+-------------+--------------------+------------+--------------------+----------------+-------------------+------------------+--------------------+----------------+-----------------+---------------+--------------------+--------------------+-----------+--------+--------------------+----------------+-----------------------+--------------------+\n",
      "|         Customer_ID|     Customer_Name|Gender|Age|         State|         City|         Bank_Branch|Account_Type|      Transaction_ID|Transaction_Date|   Transaction_Time|Transaction_Amount|         Merchant_ID|Transaction_Type|Merchant_Category|Account_Balance|  Transaction_Device|Transaction_Location|Device_Type|Is_Fraud|Transaction_Currency|Customer_Contact|Transaction_Description|      Customer_Email|\n",
      "+--------------------+------------------+------+---+--------------+-------------+--------------------+------------+--------------------+----------------+-------------------+------------------+--------------------+----------------+-----------------+---------------+--------------------+--------------------+-----------+--------+--------------------+----------------+-----------------------+--------------------+\n",
      "|78a39437-022f-4ce...| Nirja Chakrabarti|Female| 22|Andhra Pradesh|      Nellore|      Nellore Branch|     Savings|d510bbec-08a8-402...|      02-01-2025|2025-02-16 04:30:46|          29888.32|d870abd1-0b40-4a1...|           Debit|      Electronics|       74035.38|   Biometric Scanner|Nellore, Andhra P...|    Desktop|       0|                 INR|  +9194596XXXXXX|              Taxi fare|nirjaXXXXX@XXXXXX...|\n",
      "|909a9823-7aad-4d8...|Devika Chakrabarti|  Male| 54|Andhra Pradesh|   Vijayawada|   Vijayawada Branch|    Checking|8818d4b9-239f-43a...|      24-01-2025|2025-02-16 02:10:13|          74827.85|3b65fbee-8f00-4cc...|           Debit|       Restaurant|       50761.34|        POS Terminal|Vijayawada, Andhr...|        ATM|       0|                 INR|  +9195593XXXXXX|   Charity contribution|devikaXXXX@XXXXX.com|\n",
      "|06ba7817-6f00-4aa...|    Yachana Gulati|Female| 69|Andhra Pradesh|      Nellore|      Nellore Branch|    Business|7aca7bf3-15cb-446...|      07-01-2025|2025-02-16 23:37:02|          49884.13|ac62323b-e598-415...|           Debit|         Clothing|       61833.49|                 ATM|Nellore, Andhra P...|    Desktop|       0|                 INR|  +9192060XXXXXX|       Gifts for family|yachanaXXX@XXXXXX...|\n",
      "|cd145d84-4433-4bb...|       Jai Ganguly|Female| 21|Andhra Pradesh|      Nellore|      Nellore Branch|    Business|3e3f0df1-c28d-462...|      27-01-2025|2025-02-16 02:06:25|          40208.12|a4b9621c-3ca3-4a9...|           Debit|      Electronics|       44957.25|      Desktop/Laptop|Nellore, Andhra P...|        POS|       0|                 INR|  +9198950XXXXXX|   Mutual fund inves...| jaiXXXX@XXXXXXX.com|\n",
      "|1c684f8e-7520-484...|   Wahab Venkatesh|  Male| 51|Andhra Pradesh|       Guntur|       Guntur Branch|     Savings|fbd6a079-5459-464...|      22-01-2025|2025-02-16 02:04:00|          17705.89|141a6967-2d49-4b9...|           Debit|           Health|       41774.67|              Tablet|Guntur, Andhra Pr...|        ATM|       0|                 INR|  +9196131XXXXXX|       Charity donation| wahabXXXX@XXXXX.com|\n",
      "|937e32bb-2912-452...|   Manthan Acharya|Female| 42|Andhra Pradesh|      Nellore|      Nellore Branch|     Savings|652f0d97-e59e-4e6...|      26-01-2025|2025-02-16 11:44:21|          71954.92|5e59fd7f-22b9-421...|           Debit|      Electronics|       97729.43|   Debit/Credit Card|Nellore, Andhra P...|        POS|       0|                 INR|  +9191122XXXXXX|          Food delivery|manthanXXXX@XXXXX...|\n",
      "|947fc8bc-9ef9-482...|       Sanaya Buch|  Male| 26|Andhra Pradesh|     Tirupati|     Tirupati Branch|    Checking|fb1264d8-4ab0-4ff...|      24-01-2025|2025-02-16 19:54:14|          10255.23|e1ddf0f2-636d-457...|           Debit|    Entertainment|       29953.85|     Banking Chatbot|Tirupati, Andhra ...|     Mobile|       0|                 INR|  +9196198XXXXXX|      Pharmacy purchase|sanayaXXX@XXXXXX.com|\n",
      "|6f13689b-c1bb-496...|          Ryan Ray|Female| 53|Andhra Pradesh|Visakhapatnam|Visakhapatnam Branch|    Checking|bfbb20d3-6213-483...|      02-01-2025|2025-02-16 01:09:43|          19412.62|d7ad5aff-fdea-438...|           Debit|           Health|        16703.1|     Wearable Device|Visakhapatnam, An...|        POS|       0|                 INR|  +9195599XXXXXX|          Online gaming| ryanXXXXX@XXXXX.com|\n",
      "|745141c0-c053-487...|    Upadhriti Mall|  Male| 35|Andhra Pradesh|       Guntur|       Guntur Branch|     Savings|c1045d66-b986-4c7...|      09-01-2025|2025-02-16 20:58:10|           8399.55|457b4950-bdc0-494...|           Debit|         Clothing|       98369.13|     QR Code Scanner|Guntur, Andhra Pr...|    Desktop|       0|                 INR|  +9196453XXXXXX|           Cash deposit|upadhritiXXX@XXXX...|\n",
      "|3906e9db-5b5a-407...|       Tanvi Arora|  Male| 42|Andhra Pradesh|   Vijayawada|   Vijayawada Branch|     Savings|28a7b7db-584f-449...|      16-01-2025|2025-02-16 08:16:47|          93799.58|0b580875-f44a-49a...|           Debit|        Groceries|       89437.19|   Biometric Scanner|Vijayawada, Andhr...|    Desktop|       0|                 INR|  +9191519XXXXXX|             Team lunch| tanviXXX@XXXXXX.com|\n",
      "|d7c41f5f-c0e1-49e...|      Bhavani Dyal|Female| 58|Andhra Pradesh|Visakhapatnam|Visakhapatnam Branch|    Checking|5c6e14d3-3b60-430...|      18-01-2025|2025-02-16 04:57:33|            5339.0|a7a4695d-ccf2-4b1...|           Debit|    Entertainment|        88714.8|         Bank Branch|Visakhapatnam, An...|        POS|       0|                 INR|  +9195771XXXXXX|               Pet care|bhavaniXXX@XXXXXX...|\n",
      "|57c67932-0e67-437...|    Gabriel Gulati|Female| 51|Andhra Pradesh|      Nellore|      Nellore Branch|    Business|39a46b66-519f-45b...|      05-01-2025|2025-02-16 18:31:20|          28191.54|c924338f-f3e3-4f7...|           Debit|        Groceries|       28905.69|         Web Browser|Nellore, Andhra P...|    Desktop|       0|                 INR|  +9192985XXXXXX|       Stock investment|gabrielXXXX@XXXXX...|\n",
      "|f2b4e82b-4bce-496...|        Madhav Oak|Female| 37|Andhra Pradesh|     Tirupati|     Tirupati Branch|     Savings|d1d9a4a8-0c2e-461...|      25-01-2025|2025-02-16 20:43:25|           4786.35|fa628be4-586e-4a0...|           Debit|        Groceries|       42976.71|   Debit/Credit Card|Tirupati, Andhra ...|        POS|       0|                 INR|  +9191205XXXXXX|           Loan payment|madhavXXXXX@XXXXX...|\n",
      "|5744430e-e99e-45e...|   Charita Mahajan|  Male| 45|Andhra Pradesh|      Nellore|      Nellore Branch|    Business|903d3201-db9e-402...|      01-01-2025|2025-02-16 15:35:03|          20141.59|c1a93ad2-7424-40c...|           Debit|       Restaurant|       48816.74|Payment Gateway D...|Nellore, Andhra P...|     Mobile|       0|                 INR|  +9196658XXXXXX|          Cafe purchase|charitaXXX@XXXXXX...|\n",
      "|9c3eeb16-de66-4b2...|     Mohini Sehgal|  Male| 22|Andhra Pradesh|     Tirupati|     Tirupati Branch|    Business|9cad3608-cad1-462...|      17-01-2025|2025-02-16 10:19:17|          98700.33|9afbd7cc-50b0-456...|           Debit|           Health|       56542.68|                 ATM|Tirupati, Andhra ...|        POS|       1|                 INR|  +9198831XXXXXX|    Import duty payment|mohiniXXXX@XXXXXX...|\n",
      "|165d3029-7637-41d...|       Victor Bala|Female| 60|Andhra Pradesh|   Vijayawada|   Vijayawada Branch|     Savings|408ac208-3889-4d0...|      26-01-2025|2025-02-16 03:37:25|          42135.85|b8146c40-3491-428...|           Debit|        Groceries|       89937.27|     Wearable Device|Vijayawada, Andhr...|     Mobile|       0|                 INR|  +9196426XXXXXX|   Loyalty points re...|victorXXXXX@XXXXX...|\n",
      "|9e423401-e269-4d1...|      Varsha Wagle|Female| 38|Andhra Pradesh|      Nellore|      Nellore Branch|    Business|86020193-1ac1-4a7...|      28-01-2025|2025-02-16 15:01:53|          34034.98|5beb194e-f6c0-4db...|           Debit|         Clothing|       92624.52|     QR Code Scanner|Nellore, Andhra P...|     Mobile|       1|                 INR|  +9191163XXXXXX|           Home repairs|varshaXXX@XXXXXXX...|\n",
      "|53249412-da14-47a...|        Xalak Sood|Female| 26|Andhra Pradesh|       Guntur|       Guntur Branch|     Savings|d077ea74-b90e-412...|      12-01-2025|2025-02-16 01:29:47|          61042.43|55ab93d2-6046-478...|           Debit|      Electronics|       61448.37|     Banking Chatbot|Guntur, Andhra Pr...|     Mobile|       0|                 INR|  +9198289XXXXXX|       Contract renewal|xalakXXXX@XXXXXX.com|\n",
      "|67a920da-8ca9-427...|      Joshua Ghose|Female| 49|Andhra Pradesh|Visakhapatnam|Visakhapatnam Branch|    Business|050d974c-634c-4dc...|      08-01-2025|2025-02-16 16:10:05|           30726.0|1cb59da4-ea1b-4e7...|           Debit|        Groceries|        43305.2|      POS Mobile App|Visakhapatnam, An...|        POS|       0|                 INR|  +9195900XXXXXX|   Specialty store s...|joshuaXXXXX@XXXXX...|\n",
      "|a4efe870-0a0e-48a...|    Faqid Randhawa|  Male| 58|Andhra Pradesh|Visakhapatnam|Visakhapatnam Branch|    Business|d3732e92-4c48-4a6...|      13-01-2025|2025-02-16 13:18:45|          26589.86|9dcad830-c68c-43c...|           Debit|         Clothing|       15768.95|     Wearable Device|Visakhapatnam, An...|     Mobile|       0|                 INR|  +9195757XXXXXX|   Membership subscr...|faqidXXXXX@XXXXXX...|\n",
      "+--------------------+------------------+------+---+--------------+-------------+--------------------+------------+--------------------+----------------+-------------------+------------------+--------------------+----------------+-----------------+---------------+--------------------+--------------------+-----------+--------+--------------------+----------------+-----------------------+--------------------+\n",
      "only showing top 20 rows\n",
      "\n"
     ]
    }
   ],
   "execution_count": 14
  },
  {
   "metadata": {
    "ExecuteTime": {
     "end_time": "2025-02-16T14:06:13.980563Z",
     "start_time": "2025-02-16T14:06:13.193455Z"
    }
   },
   "cell_type": "code",
   "source": [
    "spark.sql(\"\"\"\n",
    "    SELECT\n",
    "        State,\n",
    "        COUNT(State) AS Count\n",
    "    FROM\n",
    "        transactions\n",
    "    GROUP BY\n",
    "        State\n",
    "    ORDER BY\n",
    "        Count DESC\n",
    "\"\"\").show()"
   ],
   "id": "79461e6a0c5709c6",
   "outputs": [
    {
     "name": "stdout",
     "output_type": "stream",
     "text": [
      "+-----------------+-----+\n",
      "|            State|Count|\n",
      "+-----------------+-----+\n",
      "|         Nagaland| 6031|\n",
      "|        Meghalaya| 6003|\n",
      "|    Uttar Pradesh| 6002|\n",
      "|      Uttarakhand| 5985|\n",
      "|      Lakshadweep| 5954|\n",
      "|        Telangana| 5952|\n",
      "|          Haryana| 5947|\n",
      "|            Delhi| 5943|\n",
      "|           Kerala| 5933|\n",
      "|   Madhya Pradesh| 5928|\n",
      "|Arunachal Pradesh| 5919|\n",
      "|           Punjab| 5912|\n",
      "|          Gujarat| 5901|\n",
      "|           Odisha| 5899|\n",
      "|        Jharkhand| 5898|\n",
      "|          Mizoram| 5892|\n",
      "| Himachal Pradesh| 5875|\n",
      "|              Goa| 5871|\n",
      "|          Tripura| 5869|\n",
      "|          Manipur| 5869|\n",
      "+-----------------+-----+\n",
      "only showing top 20 rows\n",
      "\n"
     ]
    }
   ],
   "execution_count": 15
  },
  {
   "metadata": {
    "ExecuteTime": {
     "end_time": "2025-02-16T14:06:14.702987Z",
     "start_time": "2025-02-16T14:06:14.013509Z"
    }
   },
   "cell_type": "code",
   "source": "df.select(\"State\").distinct().show()",
   "id": "86b7be20fa32b0f2",
   "outputs": [
    {
     "name": "stdout",
     "output_type": "stream",
     "text": [
      "+----------------+\n",
      "|           State|\n",
      "+----------------+\n",
      "|Himachal Pradesh|\n",
      "|         Haryana|\n",
      "|          Kerala|\n",
      "|       Jharkhand|\n",
      "|      Tamil Nadu|\n",
      "|       Telangana|\n",
      "|           Bihar|\n",
      "|         Gujarat|\n",
      "|    Chhattisgarh|\n",
      "|         Mizoram|\n",
      "|  Andhra Pradesh|\n",
      "|         Tripura|\n",
      "|   Uttar Pradesh|\n",
      "|        Nagaland|\n",
      "|         Manipur|\n",
      "|       Karnataka|\n",
      "|          Sikkim|\n",
      "|      Puducherry|\n",
      "|           Delhi|\n",
      "|          Odisha|\n",
      "+----------------+\n",
      "only showing top 20 rows\n",
      "\n"
     ]
    }
   ],
   "execution_count": 16
  },
  {
   "metadata": {
    "ExecuteTime": {
     "end_time": "2025-02-16T14:06:14.731035Z",
     "start_time": "2025-02-16T14:06:14.727026Z"
    }
   },
   "cell_type": "code",
   "source": "from pyspark.sql.types import StringType",
   "id": "1ff7dfaa33062a4d",
   "outputs": [],
   "execution_count": 17
  },
  {
   "metadata": {
    "ExecuteTime": {
     "end_time": "2025-02-16T14:06:15.097102Z",
     "start_time": "2025-02-16T14:06:14.824123Z"
    }
   },
   "cell_type": "code",
   "source": [
    "df.withColumn('Name_Parts', F.split(F.col('Customer_Name'), ' ')) \\\n",
    "    .withColumn('First_Name', F.element_at(F.col('Name_Parts'), 1)) \\\n",
    "    .withColumn('Last_Name', F.element_at(F.col('Name_Parts'), 2)) \\\n",
    "    .withColumn('First_Initial', F.substring(F.col('First_Name'), 1, 1)) \\\n",
    "    .withColumn('Second_Surname_Letter', F.substring(F.col('Last_Name'), 1, 1)) \\\n",
    "    .withColumn('Combined_Initials', F.concat(F.col('First_Initial'), F.col('Second_Surname_Letter'))) \\\n",
    "    .show()"
   ],
   "id": "ce682b815724495a",
   "outputs": [
    {
     "name": "stdout",
     "output_type": "stream",
     "text": [
      "+--------------------+-------------------+------+---+--------------------+------------------+--------------------+------------+--------------------+----------------+-------------------+------------------+--------------------+----------------+-----------------+---------------+--------------------+--------------------+-----------+--------+--------------------+----------------+-----------------------+--------------------+--------------------+----------+------------+-------------+---------------------+-----------------+\n",
      "|         Customer_ID|      Customer_Name|Gender|Age|               State|              City|         Bank_Branch|Account_Type|      Transaction_ID|Transaction_Date|   Transaction_Time|Transaction_Amount|         Merchant_ID|Transaction_Type|Merchant_Category|Account_Balance|  Transaction_Device|Transaction_Location|Device_Type|Is_Fraud|Transaction_Currency|Customer_Contact|Transaction_Description|      Customer_Email|          Name_Parts|First_Name|   Last_Name|First_Initial|Second_Surname_Letter|Combined_Initials|\n",
      "+--------------------+-------------------+------+---+--------------------+------------------+--------------------+------------+--------------------+----------------+-------------------+------------------+--------------------+----------------+-----------------+---------------+--------------------+--------------------+-----------+--------+--------------------+----------------+-----------------------+--------------------+--------------------+----------+------------+-------------+---------------------+-----------------+\n",
      "|d5f6ec07-d69e-4f4...|         Osha Tella|  Male| 60|              Kerala|Thiruvananthapuram|Thiruvananthapura...|     Savings|4fa3208f-9e23-42d...|      23-01-2025|2025-02-16 16:04:07|          32415.45|214e03c5-5c34-40d...|        Transfer|       Restaurant|       74557.27|     Voice Assistant|Thiruvananthapura...|        POS|       0|                 INR|  +9198579XXXXXX|    Bitcoin transaction| oshaXXXXX@XXXXX.com|       [Osha, Tella]|      Osha|       Tella|            O|                    T|               OT|\n",
      "|7c14ad51-781a-4db...|    Hredhaan Khosla|Female| 51|         Maharashtra|            Nashik|       Nashik Branch|    Business|c9de0c06-2c4c-40a...|      11-01-2025|2025-02-16 17:14:53|           43622.6|f9e3f11f-28d3-419...|    Bill Payment|       Restaurant|       74622.66|   POS Mobile Device| Nashik, Maharashtra|    Desktop|       0|                 INR|  +9191074XXXXXX|       Grocery delivery|hredhaanXXXX@XXXX...|  [Hredhaan, Khosla]|  Hredhaan|      Khosla|            H|                    K|               HK|\n",
      "|3a73a0e5-d4da-45a...|     Ekani Nazareth|  Male| 20|               Bihar|         Bhagalpur|    Bhagalpur Branch|     Savings|e41c55f9-c016-4ff...|      25-01-2025|2025-02-16 03:09:52|          63062.56|97977d83-5486-451...|    Bill Payment|        Groceries|       66817.99|                 ATM|    Bhagalpur, Bihar|    Desktop|       0|                 INR|  +9197745XXXXXX|   Mutual fund inves...| ekaniXXX@XXXXXX.com|   [Ekani, Nazareth]|     Ekani|    Nazareth|            E|                    N|               EN|\n",
      "|7902f4ef-9050-4a7...|Yamini Ramachandran|Female| 57|          Tamil Nadu|           Chennai|      Chennai Branch|    Business|7f7ee11b-ff2c-45a...|      19-01-2025|2025-02-16 12:27:02|          14000.72|f45cd6b3-5092-44d...|           Debit|    Entertainment|       58177.08|      POS Mobile App| Chennai, Tamil Nadu|     Mobile|       0|                 INR|  +9195889XXXXXX|          Food delivery|yaminiXXXXX@XXXXX...|[Yamini, Ramachan...|    Yamini|Ramachandran|            Y|                    R|               YR|\n",
      "|3a4bba70-d9a9-4c5...|       Kritika Rege|Female| 43|              Punjab|          Amritsar|     Amritsar Branch|     Savings|f8e6ac6f-81a1-498...|      30-01-2025|2025-02-16 18:30:46|          18335.16|70dd77dd-3b00-4b2...|        Transfer|    Entertainment|       16108.56|        Virtual Card|    Amritsar, Punjab|     Mobile|       0|                 INR|  +9195316XXXXXX|         Debt repayment|kritikaXXXX@XXXXX...|     [Kritika, Rege]|   Kritika|        Rege|            K|                    R|               KR|\n",
      "|6c870d65-76b0-431...|        Ishanvi Dar|  Male| 54|             Gujarat|         Ahmedabad|    Ahmedabad Branch|    Checking|af5f667c-d064-408...|      25-01-2025|2025-02-16 06:49:53|           9711.15|d82a798d-7b4d-460...|        Transfer|    Entertainment|       61258.85|       Mobile Device|  Ahmedabad, Gujarat|        POS|       0|                 INR|  +9198318XXXXXX|   Seminar registration|ishanviXXX@XXXXX.com|      [Ishanvi, Dar]|   Ishanvi|         Dar|            I|                    D|               ID|\n",
      "|5323737c-bbd2-423...|        Arya Shroff|Female| 61|               Delhi|         New Delhi|    New Delhi Branch|    Business|b1355810-d246-4ae...|      04-01-2025|2025-02-16 00:53:33|          94677.01|e0b802ba-b1d9-4e9...|        Transfer|           Health|       36313.61|Payment Gateway D...|    New Delhi, Delhi|    Desktop|       0|                 INR|  +9194785XXXXXX|   Public transport ...|   aryaXXX@XXXXX.com|      [Arya, Shroff]|      Arya|      Shroff|            A|                    S|               AS|\n",
      "|c0c3d474-f6c2-4c6...|      Jackson Shere|  Male| 32|Andaman and Nicob...|        Port Blair|   Port Blair Branch|    Business|c86a000c-d81f-40b...|      16-01-2025|2025-02-16 04:04:48|          67704.28|ec344461-1bab-4e8...|           Debit|         Clothing|       16948.73|   Debit/Credit Card|Port Blair, Andam...|        ATM|       0|                 INR|  +9193423XXXXXX|        Online shopping|jacksonXXX@XXXXXX...|    [Jackson, Shere]|   Jackson|       Shere|            J|                    S|               JS|\n",
      "|e9a82764-1253-4a4...|    Bhanumati Ravel|  Male| 52|      Madhya Pradesh|            Bhopal|       Bhopal Branch|    Business|323cc683-b0dc-40e...|      25-01-2025|2025-02-16 10:50:12|          72953.45|1de36b2e-e1a9-4e2...|      Withdrawal|         Clothing|       18138.71|                 ATM|Bhopal, Madhya Pr...|     Mobile|       0|                 INR|  +9194374XXXXXX|       Vacation payment|bhanumatiXXXXX@XX...|  [Bhanumati, Ravel]| Bhanumati|       Ravel|            B|                    R|               BR|\n",
      "|708224d5-192a-4d8...|       Meera Ganesh|Female| 32|        Chhattisgarh|         Jagdalpur|    Jagdalpur Branch|    Business|9fad31ea-2770-4d8...|      02-01-2025|2025-02-16 04:37:34|           5689.02|20ffaa8f-958b-484...|          Credit|    Entertainment|       65801.35|         Bank Branch|Jagdalpur, Chhatt...|    Desktop|       0|                 INR|  +9194511XXXXXX|   Electronics purchase|meeraXXXXX@XXXXXX...|     [Meera, Ganesh]|     Meera|      Ganesh|            M|                    G|               MG|\n",
      "|87b53799-9959-453...|      Charvi Biswas|  Male| 18|             Gujarat|          Vadodara|     Vadodara Branch|     Savings|72832f5f-3b4c-4c9...|      25-01-2025|2025-02-16 08:52:44|          45491.61|e4d6a617-f30f-481...|          Credit|         Clothing|       25427.07|      Desktop/Laptop|   Vadodara, Gujarat|        POS|       0|                 INR|  +9193360XXXXXX|   Streaming service...|charviXXXX@XXXXXX...|    [Charvi, Biswas]|    Charvi|      Biswas|            C|                    B|               CB|\n",
      "|d4d0f62e-00b0-4c0...|    Yuvraj Dasgupta|  Male| 59|              Punjab|        Chandigarh|   Chandigarh Branch|    Business|9a03bbb6-0b7b-4ea...|      14-01-2025|2025-02-16 19:43:31|          34680.87|3777c223-bf6f-443...|          Credit|       Restaurant|       38070.74|         Bank Branch|  Chandigarh, Punjab|     Mobile|       0|                 INR|  +9193342XXXXXX|   Subscription renewal|yuvrajXXXXX@XXXXX...|  [Yuvraj, Dasgupta]|    Yuvraj|    Dasgupta|            Y|                    D|               YD|\n",
      "|b2563484-0dae-455...|        Amara Sidhu|  Male| 66|             Mizoram|          Champhai|     Champhai Branch|     Savings|6fa60ddb-b48b-40d...|      27-01-2025|2025-02-16 22:02:12|          46843.65|31278c3e-48ae-411...|    Bill Payment|       Restaurant|       38362.08|      Desktop/Laptop|   Champhai, Mizoram|    Desktop|       0|                 INR|  +9192865XXXXXX|        Laundry service|amaraXXXX@XXXXXXX...|      [Amara, Sidhu]|     Amara|       Sidhu|            A|                    S|               AS|\n",
      "|e6efdf36-1128-4a5...|       Maya Purohit|Female| 47|        Chhattisgarh|             Korba|        Korba Branch|     Savings|9cb895c2-a148-43e...|      29-01-2025|2025-02-16 12:09:47|          39976.03|84797331-345f-40c...|        Transfer|       Restaurant|       49403.41|Self-service Bank...| Korba, Chhattisgarh|        POS|       0|                 INR|  +9193052XXXXXX|        Online shopping| mayaXXX@XXXXXXX.com|     [Maya, Purohit]|      Maya|     Purohit|            M|                    P|               MP|\n",
      "|3b59a82e-cd12-4eb...|    Eshana Yohannan|  Male| 37|         West Bengal|           Kolkata|      Kolkata Branch|     Savings|9ce70ba0-cdf9-4c7...|      09-01-2025|2025-02-16 14:35:57|          10258.06|09006c38-ded5-4ab...|        Transfer|        Groceries|       73121.31|Payment Gateway D...|Kolkata, West Bengal|        ATM|       0|                 INR|  +9197782XXXXXX|   Personal loan rep...|eshanaXXXXX@XXXXX...|  [Eshana, Yohannan]|    Eshana|    Yohannan|            E|                    Y|               EY|\n",
      "|fa3f6733-33d6-489...|     Ranveer Biswas|Female| 53|               Bihar|              Gaya|         Gaya Branch|    Business|08d040c8-4561-40e...|      22-01-2025|2025-02-16 09:50:59|          92969.97|c402f840-63bc-4a0...|      Withdrawal|           Health|       80388.02|     ATM Booth Kiosk|         Gaya, Bihar|     Mobile|       0|                 INR|  +9194710XXXXXX|      Insurance premium|ranveerXXXX@XXXXX...|   [Ranveer, Biswas]|   Ranveer|      Biswas|            R|                    B|               RB|\n",
      "|8d375e52-bfe4-405...|      Bishakha Dhar|Female| 38|              Sikkim|         Jorethang|    Jorethang Branch|    Checking|26064944-2ef5-40f...|      08-01-2025|2025-02-16 13:51:31|             47.39|9ccd73b9-9361-4ec...|      Withdrawal|         Clothing|       52977.93|                 ATM|   Jorethang, Sikkim|     Mobile|       0|                 INR|  +9199457XXXXXX|               Pet care|bishakhaXXXXX@XXX...|    [Bishakha, Dhar]|  Bishakha|        Dhar|            B|                    D|               BD|\n",
      "|99d95f63-a2fa-470...|      Theodore Suri|  Male| 56|Dadra and Nagar H...|          Silvassa|     Silvassa Branch|    Business|aa3832eb-c0f0-48b...|      24-01-2025|2025-02-16 12:41:39|           85269.3|edb8e488-50ce-4d7...|           Debit|       Restaurant|       74322.85|   Biometric Scanner|Silvassa, Dadra a...|    Desktop|       1|                 INR|  +9194951XXXXXX|     Gift for colleague|theodoreXXX@XXXXX...|    [Theodore, Suri]|  Theodore|        Suri|            T|                    S|               TS|\n",
      "|88f48e6d-8018-497...|         Gagan Vala|Female| 38|      Madhya Pradesh|            Bhopal|       Bhopal Branch|     Savings|df9d6dd9-dd29-442...|      02-01-2025|2025-02-16 12:42:43|          89594.61|70d22ed4-3162-419...|    Bill Payment|        Groceries|       61702.79|   POS Mobile Device|Bhopal, Madhya Pr...|    Desktop|       0|                 INR|  +9196471XXXXXX|   Smart home device...|gaganXXXXX@XXXXX.com|       [Gagan, Vala]|     Gagan|        Vala|            G|                    V|               GV|\n",
      "|f2fd2ba1-be7e-4a0...|    Saanvi Srinivas|Female| 38|       Uttar Pradesh|            Kanpur|       Kanpur Branch|    Business|0c4dafb3-c550-453...|      13-01-2025|2025-02-16 21:50:44|           17728.9|4a1fff97-40f6-442...|      Withdrawal|         Clothing|        6965.92|Self-service Bank...|Kanpur, Uttar Pra...|    Desktop|       0|                 INR|  +9196905XXXXXX|        Beauty products|saanviXXXX@XXXXX.com|  [Saanvi, Srinivas]|    Saanvi|    Srinivas|            S|                    S|               SS|\n",
      "+--------------------+-------------------+------+---+--------------------+------------------+--------------------+------------+--------------------+----------------+-------------------+------------------+--------------------+----------------+-----------------+---------------+--------------------+--------------------+-----------+--------+--------------------+----------------+-----------------------+--------------------+--------------------+----------+------------+-------------+---------------------+-----------------+\n",
      "only showing top 20 rows\n",
      "\n"
     ]
    }
   ],
   "execution_count": 18
  },
  {
   "metadata": {
    "ExecuteTime": {
     "end_time": "2025-02-16T14:06:15.152464Z",
     "start_time": "2025-02-16T14:06:15.128736Z"
    }
   },
   "cell_type": "code",
   "source": [
    "name_surname = df.select(\n",
    "    F.split(F.col('Customer_Name'), ' ')[0].alias('First_Name'),\n",
    "    F.split(F.col('Customer_Name'), ' ')[1].alias('Last_Name')\n",
    ")\n",
    "\n",
    "take_first_letter = F.udf(lambda name: name[0] if name else None, StringType())"
   ],
   "id": "fd2300eb737727cf",
   "outputs": [],
   "execution_count": 19
  },
  {
   "metadata": {
    "ExecuteTime": {
     "end_time": "2025-02-16T14:06:15.374529Z",
     "start_time": "2025-02-16T14:06:15.322240Z"
    }
   },
   "cell_type": "code",
   "source": [
    "name_surname.select(\n",
    "    'First_Name', take_first_letter('First_Name').alias('First_Letter'),\n",
    "    'Last_Name', take_first_letter('Last_Name').alias('First_Name_Letter'),\n",
    ").select(\n",
    "    F.col('First_Letter'), F.col('First_Name_Letter')\n",
    ")"
   ],
   "id": "8921904bf94638e",
   "outputs": [
    {
     "data": {
      "text/plain": [
       "DataFrame[First_Letter: string, First_Name_Letter: string]"
      ]
     },
     "execution_count": 20,
     "metadata": {},
     "output_type": "execute_result"
    }
   ],
   "execution_count": 20
  },
  {
   "metadata": {
    "ExecuteTime": {
     "end_time": "2025-02-16T14:06:15.582683Z",
     "start_time": "2025-02-16T14:06:15.402559Z"
    }
   },
   "cell_type": "code",
   "source": [
    "spark.sql(\"\"\"\n",
    "WITH name_parts AS (\n",
    "    SELECT\n",
    "        Customer_Name,\n",
    "        split(Customer_Name, ' ')[0] AS First_Name,\n",
    "        split(Customer_Name, ' ')[1] AS Last_Name,\n",
    "        substr(split(Customer_Name, ' ')[0], 1, 1) AS First_Initial,\n",
    "        substr(split(Customer_Name, ' ')[1], 1, 1) AS Second_Surname_Letter,\n",
    "        concat(\n",
    "            First_Initial,\n",
    "            Second_Surname_Letter\n",
    "        ) AS Combined_Initials\n",
    "    FROM\n",
    "        transactions)\n",
    "SELECT Combined_Initials FROM name_parts\n",
    "\"\"\").show()"
   ],
   "id": "5f2ad8ec069bc2a8",
   "outputs": [
    {
     "name": "stdout",
     "output_type": "stream",
     "text": [
      "+-----------------+\n",
      "|Combined_Initials|\n",
      "+-----------------+\n",
      "|               OT|\n",
      "|               HK|\n",
      "|               EN|\n",
      "|               YR|\n",
      "|               KR|\n",
      "|               ID|\n",
      "|               AS|\n",
      "|               JS|\n",
      "|               BR|\n",
      "|               MG|\n",
      "|               CB|\n",
      "|               YD|\n",
      "|               AS|\n",
      "|               MP|\n",
      "|               EY|\n",
      "|               RB|\n",
      "|               BD|\n",
      "|               TS|\n",
      "|               GV|\n",
      "|               SS|\n",
      "+-----------------+\n",
      "only showing top 20 rows\n",
      "\n"
     ]
    }
   ],
   "execution_count": 21
  },
  {
   "metadata": {
    "ExecuteTime": {
     "end_time": "2025-02-16T14:06:15.904368Z",
     "start_time": "2025-02-16T14:06:15.611745Z"
    }
   },
   "cell_type": "code",
   "source": [
    "df.select(\n",
    "    F.round(F.avg('Account_Balance'), 3).alias('Average_Balance')\n",
    ").show()"
   ],
   "id": "4937c07fc77e0dc3",
   "outputs": [
    {
     "name": "stdout",
     "output_type": "stream",
     "text": [
      "+---------------+\n",
      "|Average_Balance|\n",
      "+---------------+\n",
      "|      52437.989|\n",
      "+---------------+\n",
      "\n"
     ]
    }
   ],
   "execution_count": 22
  },
  {
   "metadata": {
    "ExecuteTime": {
     "end_time": "2025-02-16T14:06:16.179567Z",
     "start_time": "2025-02-16T14:06:15.933437Z"
    }
   },
   "cell_type": "code",
   "source": [
    "spark.sql(\"\"\"\n",
    "    SELECT\n",
    "        round(avg(Account_Balance), 3) AS Average_Balance\n",
    "    FROM\n",
    "        transactions\n",
    "\"\"\").show()"
   ],
   "id": "48b2a2d74fb21359",
   "outputs": [
    {
     "name": "stdout",
     "output_type": "stream",
     "text": [
      "+---------------+\n",
      "|Average_Balance|\n",
      "+---------------+\n",
      "|      52437.989|\n",
      "+---------------+\n",
      "\n"
     ]
    }
   ],
   "execution_count": 23
  },
  {
   "metadata": {
    "ExecuteTime": {
     "end_time": "2025-02-16T14:06:16.546909Z",
     "start_time": "2025-02-16T14:06:16.212139Z"
    }
   },
   "cell_type": "code",
   "source": [
    "df.select(\n",
    "    F.max('Transaction_Amount').alias('Max_Transaction_Amount'),\n",
    ").show()"
   ],
   "id": "bc7245ad167491dc",
   "outputs": [
    {
     "name": "stdout",
     "output_type": "stream",
     "text": [
      "+----------------------+\n",
      "|Max_Transaction_Amount|\n",
      "+----------------------+\n",
      "|              98999.98|\n",
      "+----------------------+\n",
      "\n"
     ]
    }
   ],
   "execution_count": 24
  },
  {
   "metadata": {
    "ExecuteTime": {
     "end_time": "2025-02-16T14:06:16.805519Z",
     "start_time": "2025-02-16T14:06:16.564781Z"
    }
   },
   "cell_type": "code",
   "source": [
    "spark.sql(\"\"\"\n",
    "    SELECT\n",
    "        max(Transaction_Amount)\n",
    "    FROM transactions\n",
    "\"\"\").show()"
   ],
   "id": "f3398a068a7e4e83",
   "outputs": [
    {
     "name": "stdout",
     "output_type": "stream",
     "text": [
      "+-----------------------+\n",
      "|max(Transaction_Amount)|\n",
      "+-----------------------+\n",
      "|               98999.98|\n",
      "+-----------------------+\n",
      "\n"
     ]
    }
   ],
   "execution_count": 25
  },
  {
   "metadata": {
    "ExecuteTime": {
     "end_time": "2025-02-16T14:06:17.930123Z",
     "start_time": "2025-02-16T14:06:16.846578Z"
    }
   },
   "cell_type": "code",
   "source": [
    "df.groupBy(\n",
    "    'Customer_ID',\n",
    "    # 'Transaction_Amount',\n",
    ").agg(\n",
    "    F.sum('Transaction_Amount').alias('Total_Transaction_Amount'),\n",
    ").orderBy(\n",
    "    'Total_Transaction_Amount', ascending=False\n",
    ").show(truncate=False, n=5)"
   ],
   "id": "9f5e311f28085159",
   "outputs": [
    {
     "name": "stdout",
     "output_type": "stream",
     "text": [
      "+------------------------------------+------------------------+\n",
      "|Customer_ID                         |Total_Transaction_Amount|\n",
      "+------------------------------------+------------------------+\n",
      "|6137084d-c143-437c-b676-e5de957cd9dc|98999.98                |\n",
      "|052c66e7-dda4-44ce-b384-53eba907d790|98999.45                |\n",
      "|56b3c3af-2f8b-4717-9d01-ea25c68947a7|98999.02                |\n",
      "|5eb26096-850d-49e8-899e-fb190dc3ca5b|98997.99                |\n",
      "|aeb47222-c508-42ec-bf46-1735dcf25805|98997.02                |\n",
      "+------------------------------------+------------------------+\n",
      "only showing top 5 rows\n",
      "\n"
     ]
    }
   ],
   "execution_count": 26
  },
  {
   "metadata": {
    "ExecuteTime": {
     "end_time": "2025-02-16T14:06:18.738874Z",
     "start_time": "2025-02-16T14:06:17.958213Z"
    }
   },
   "cell_type": "code",
   "source": [
    "spark.sql(\"\"\"\n",
    "    SELECT\n",
    "        Customer_ID,\n",
    "        sum(Transaction_Amount) AS Total_Transaction_Amount\n",
    "    FROM\n",
    "        transactions\n",
    "    GROUP BY Customer_ID\n",
    "    ORDER BY sum(Transaction_Amount) DESC\n",
    "\"\"\").show(truncate=False, n=5)"
   ],
   "id": "b01549fd6d34f47f",
   "outputs": [
    {
     "name": "stdout",
     "output_type": "stream",
     "text": [
      "+------------------------------------+------------------------+\n",
      "|Customer_ID                         |Total_Transaction_Amount|\n",
      "+------------------------------------+------------------------+\n",
      "|6137084d-c143-437c-b676-e5de957cd9dc|98999.98                |\n",
      "|052c66e7-dda4-44ce-b384-53eba907d790|98999.45                |\n",
      "|56b3c3af-2f8b-4717-9d01-ea25c68947a7|98999.02                |\n",
      "|5eb26096-850d-49e8-899e-fb190dc3ca5b|98997.99                |\n",
      "|aeb47222-c508-42ec-bf46-1735dcf25805|98997.02                |\n",
      "+------------------------------------+------------------------+\n",
      "only showing top 5 rows\n",
      "\n"
     ]
    }
   ],
   "execution_count": 27
  },
  {
   "metadata": {
    "ExecuteTime": {
     "end_time": "2025-02-16T14:06:19.072516Z",
     "start_time": "2025-02-16T14:06:18.764483Z"
    }
   },
   "cell_type": "code",
   "source": [
    "df.groupBy(\n",
    "    'Merchant_Category'\n",
    ").count().orderBy('count', ascending=False).show()"
   ],
   "id": "4c3d9e4b767d1012",
   "outputs": [
    {
     "name": "stdout",
     "output_type": "stream",
     "text": [
      "+-----------------+-----+\n",
      "|Merchant_Category|count|\n",
      "+-----------------+-----+\n",
      "|       Restaurant|33525|\n",
      "|    Entertainment|33421|\n",
      "|      Electronics|33409|\n",
      "|         Clothing|33340|\n",
      "|        Groceries|33187|\n",
      "|           Health|33118|\n",
      "+-----------------+-----+\n",
      "\n"
     ]
    }
   ],
   "execution_count": 28
  },
  {
   "metadata": {
    "ExecuteTime": {
     "end_time": "2025-02-16T14:06:19.332585Z",
     "start_time": "2025-02-16T14:06:19.097769Z"
    }
   },
   "cell_type": "code",
   "source": [
    "spark.sql(\"\"\"\n",
    "    SELECT\n",
    "        Merchant_Category,\n",
    "        count(*) AS Count\n",
    "    FROM\n",
    "        transactions\n",
    "    GROUP BY\n",
    "        Merchant_Category\n",
    "    ORDER BY\n",
    "        Count DESC\n",
    "\"\"\").show()"
   ],
   "id": "69d5ff30b63c3e1f",
   "outputs": [
    {
     "name": "stdout",
     "output_type": "stream",
     "text": [
      "+-----------------+-----+\n",
      "|Merchant_Category|Count|\n",
      "+-----------------+-----+\n",
      "|       Restaurant|33525|\n",
      "|    Entertainment|33421|\n",
      "|      Electronics|33409|\n",
      "|         Clothing|33340|\n",
      "|        Groceries|33187|\n",
      "|           Health|33118|\n",
      "+-----------------+-----+\n",
      "\n"
     ]
    }
   ],
   "execution_count": 29
  },
  {
   "metadata": {
    "ExecuteTime": {
     "end_time": "2025-02-16T14:06:19.721111Z",
     "start_time": "2025-02-16T14:06:19.356140Z"
    }
   },
   "cell_type": "code",
   "source": [
    "df.groupBy(\n",
    "    'Account_Type'\n",
    ").agg(\n",
    "    F.avg('Transaction_Amount').alias('Average_Transaction_Amount')\n",
    ").orderBy(\n",
    "    'Average_Transaction_Amount', ascending=False\n",
    ").show()"
   ],
   "id": "c04a41457b8fa046",
   "outputs": [
    {
     "name": "stdout",
     "output_type": "stream",
     "text": [
      "+------------+--------------------------+\n",
      "|Account_Type|Average_Transaction_Amount|\n",
      "+------------+--------------------------+\n",
      "|    Business|         49649.43531278669|\n",
      "|    Checking|         49646.34864263941|\n",
      "|     Savings|         49317.90828435421|\n",
      "+------------+--------------------------+\n",
      "\n"
     ]
    }
   ],
   "execution_count": 30
  },
  {
   "metadata": {
    "ExecuteTime": {
     "end_time": "2025-02-16T14:06:19.991421Z",
     "start_time": "2025-02-16T14:06:19.745389Z"
    }
   },
   "cell_type": "code",
   "source": [
    "spark.sql(\"\"\"\n",
    "    SELECT\n",
    "        Account_Type,\n",
    "        avg(Transaction_Amount) AS Average_Transaction_Amount\n",
    "    FROM\n",
    "        transactions\n",
    "    GROUP BY Account_Type\n",
    "    ORDER BY Average_Transaction_Amount DESC\n",
    "\"\"\").show()"
   ],
   "id": "97c347a06445fe1c",
   "outputs": [
    {
     "name": "stdout",
     "output_type": "stream",
     "text": [
      "+------------+--------------------------+\n",
      "|Account_Type|Average_Transaction_Amount|\n",
      "+------------+--------------------------+\n",
      "|    Business|         49649.43531278669|\n",
      "|    Checking|         49646.34864263941|\n",
      "|     Savings|         49317.90828435421|\n",
      "+------------+--------------------------+\n",
      "\n"
     ]
    }
   ],
   "execution_count": 31
  },
  {
   "metadata": {
    "ExecuteTime": {
     "end_time": "2025-02-16T14:07:39.784728Z",
     "start_time": "2025-02-16T14:07:39.775449Z"
    }
   },
   "cell_type": "code",
   "source": [
    "df = df.withColumn(\n",
    "    'Transaction_Date',\n",
    "    F.to_date(F.col('Transaction_Date'), format='dd-MM-yyyy'),\n",
    ")"
   ],
   "id": "a579f9f408ea32f0",
   "outputs": [],
   "execution_count": 40
  },
  {
   "metadata": {
    "ExecuteTime": {
     "end_time": "2025-02-16T14:51:36.507246Z",
     "start_time": "2025-02-16T14:51:36.442162Z"
    }
   },
   "cell_type": "code",
   "source": "df.show()",
   "id": "7dd40021a0aab4d8",
   "outputs": [
    {
     "name": "stdout",
     "output_type": "stream",
     "text": [
      "+--------------------+-------------------+------+---+--------------------+------------------+--------------------+------------+--------------------+----------------+-------------------+------------------+--------------------+----------------+-----------------+---------------+--------------------+--------------------+-----------+--------+--------------------+----------------+-----------------------+--------------------+---------------------+----------------------+--------------------+----------------------+\n",
      "|         Customer_ID|      Customer_Name|Gender|Age|               State|              City|         Bank_Branch|Account_Type|      Transaction_ID|Transaction_Date|   Transaction_Time|Transaction_Amount|         Merchant_ID|Transaction_Type|Merchant_Category|Account_Balance|  Transaction_Device|Transaction_Location|Device_Type|Is_Fraud|Transaction_Currency|Customer_Contact|Transaction_Description|      Customer_Email|Year_Transaction_Date|Month_Transaction_Date|Day_transaction_Date|Transaction_Amount_EUR|\n",
      "+--------------------+-------------------+------+---+--------------------+------------------+--------------------+------------+--------------------+----------------+-------------------+------------------+--------------------+----------------+-----------------+---------------+--------------------+--------------------+-----------+--------+--------------------+----------------+-----------------------+--------------------+---------------------+----------------------+--------------------+----------------------+\n",
      "|d5f6ec07-d69e-4f4...|         Osha Tella|  Male| 60|              Kerala|Thiruvananthapuram|Thiruvananthapura...|     Savings|4fa3208f-9e23-42d...|      2025-01-23|2025-02-16 16:04:07|          32415.45|214e03c5-5c34-40d...|        Transfer|       Restaurant|       74557.27|     Voice Assistant|Thiruvananthapura...|        POS|       0|                 INR|  +9198579XXXXXX|    Bitcoin transaction| oshaXXXXX@XXXXX.com|                 2025|                     1|                  23|                356.46|\n",
      "|7c14ad51-781a-4db...|    Hredhaan Khosla|Female| 51|         Maharashtra|            Nashik|       Nashik Branch|    Business|c9de0c06-2c4c-40a...|      2025-01-11|2025-02-16 17:14:53|           43622.6|f9e3f11f-28d3-419...|    Bill Payment|       Restaurant|       74622.66|   POS Mobile Device| Nashik, Maharashtra|    Desktop|       0|                 INR|  +9191074XXXXXX|       Grocery delivery|hredhaanXXXX@XXXX...|                 2025|                     1|                  11|                 479.7|\n",
      "|3a73a0e5-d4da-45a...|     Ekani Nazareth|  Male| 20|               Bihar|         Bhagalpur|    Bhagalpur Branch|     Savings|e41c55f9-c016-4ff...|      2025-01-25|2025-02-16 03:09:52|          63062.56|97977d83-5486-451...|    Bill Payment|        Groceries|       66817.99|                 ATM|    Bhagalpur, Bihar|    Desktop|       0|                 INR|  +9197745XXXXXX|   Mutual fund inves...| ekaniXXX@XXXXXX.com|                 2025|                     1|                  25|                693.47|\n",
      "|7902f4ef-9050-4a7...|Yamini Ramachandran|Female| 57|          Tamil Nadu|           Chennai|      Chennai Branch|    Business|7f7ee11b-ff2c-45a...|      2025-01-19|2025-02-16 12:27:02|          14000.72|f45cd6b3-5092-44d...|           Debit|    Entertainment|       58177.08|      POS Mobile App| Chennai, Tamil Nadu|     Mobile|       0|                 INR|  +9195889XXXXXX|          Food delivery|yaminiXXXXX@XXXXX...|                 2025|                     1|                  19|                153.96|\n",
      "|3a4bba70-d9a9-4c5...|       Kritika Rege|Female| 43|              Punjab|          Amritsar|     Amritsar Branch|     Savings|f8e6ac6f-81a1-498...|      2025-01-30|2025-02-16 18:30:46|          18335.16|70dd77dd-3b00-4b2...|        Transfer|    Entertainment|       16108.56|        Virtual Card|    Amritsar, Punjab|     Mobile|       0|                 INR|  +9195316XXXXXX|         Debt repayment|kritikaXXXX@XXXXX...|                 2025|                     1|                  30|                201.62|\n",
      "|6c870d65-76b0-431...|        Ishanvi Dar|  Male| 54|             Gujarat|         Ahmedabad|    Ahmedabad Branch|    Checking|af5f667c-d064-408...|      2025-01-25|2025-02-16 06:49:53|           9711.15|d82a798d-7b4d-460...|        Transfer|    Entertainment|       61258.85|       Mobile Device|  Ahmedabad, Gujarat|        POS|       0|                 INR|  +9198318XXXXXX|   Seminar registration|ishanviXXX@XXXXX.com|                 2025|                     1|                  25|                106.79|\n",
      "|5323737c-bbd2-423...|        Arya Shroff|Female| 61|               Delhi|         New Delhi|    New Delhi Branch|    Business|b1355810-d246-4ae...|      2025-01-04|2025-02-16 00:53:33|          94677.01|e0b802ba-b1d9-4e9...|        Transfer|           Health|       36313.61|Payment Gateway D...|    New Delhi, Delhi|    Desktop|       0|                 INR|  +9194785XXXXXX|   Public transport ...|   aryaXXX@XXXXX.com|                 2025|                     1|                   4|               1041.12|\n",
      "|c0c3d474-f6c2-4c6...|      Jackson Shere|  Male| 32|Andaman and Nicob...|        Port Blair|   Port Blair Branch|    Business|c86a000c-d81f-40b...|      2025-01-16|2025-02-16 04:04:48|          67704.28|ec344461-1bab-4e8...|           Debit|         Clothing|       16948.73|   Debit/Credit Card|Port Blair, Andam...|        ATM|       0|                 INR|  +9193423XXXXXX|        Online shopping|jacksonXXX@XXXXXX...|                 2025|                     1|                  16|                744.51|\n",
      "|e9a82764-1253-4a4...|    Bhanumati Ravel|  Male| 52|      Madhya Pradesh|            Bhopal|       Bhopal Branch|    Business|323cc683-b0dc-40e...|      2025-01-25|2025-02-16 10:50:12|          72953.45|1de36b2e-e1a9-4e2...|      Withdrawal|         Clothing|       18138.71|                 ATM|Bhopal, Madhya Pr...|     Mobile|       0|                 INR|  +9194374XXXXXX|       Vacation payment|bhanumatiXXXXX@XX...|                 2025|                     1|                  25|                802.24|\n",
      "|708224d5-192a-4d8...|       Meera Ganesh|Female| 32|        Chhattisgarh|         Jagdalpur|    Jagdalpur Branch|    Business|9fad31ea-2770-4d8...|      2025-01-02|2025-02-16 04:37:34|           5689.02|20ffaa8f-958b-484...|          Credit|    Entertainment|       65801.35|         Bank Branch|Jagdalpur, Chhatt...|    Desktop|       0|                 INR|  +9194511XXXXXX|   Electronics purchase|meeraXXXXX@XXXXXX...|                 2025|                     1|                   2|                 62.56|\n",
      "|87b53799-9959-453...|      Charvi Biswas|  Male| 18|             Gujarat|          Vadodara|     Vadodara Branch|     Savings|72832f5f-3b4c-4c9...|      2025-01-25|2025-02-16 08:52:44|          45491.61|e4d6a617-f30f-481...|          Credit|         Clothing|       25427.07|      Desktop/Laptop|   Vadodara, Gujarat|        POS|       0|                 INR|  +9193360XXXXXX|   Streaming service...|charviXXXX@XXXXXX...|                 2025|                     1|                  25|                500.25|\n",
      "|d4d0f62e-00b0-4c0...|    Yuvraj Dasgupta|  Male| 59|              Punjab|        Chandigarh|   Chandigarh Branch|    Business|9a03bbb6-0b7b-4ea...|      2025-01-14|2025-02-16 19:43:31|          34680.87|3777c223-bf6f-443...|          Credit|       Restaurant|       38070.74|         Bank Branch|  Chandigarh, Punjab|     Mobile|       0|                 INR|  +9193342XXXXXX|   Subscription renewal|yuvrajXXXXX@XXXXX...|                 2025|                     1|                  14|                381.37|\n",
      "|b2563484-0dae-455...|        Amara Sidhu|  Male| 66|             Mizoram|          Champhai|     Champhai Branch|     Savings|6fa60ddb-b48b-40d...|      2025-01-27|2025-02-16 22:02:12|          46843.65|31278c3e-48ae-411...|    Bill Payment|       Restaurant|       38362.08|      Desktop/Laptop|   Champhai, Mizoram|    Desktop|       0|                 INR|  +9192865XXXXXX|        Laundry service|amaraXXXX@XXXXXXX...|                 2025|                     1|                  27|                515.12|\n",
      "|e6efdf36-1128-4a5...|       Maya Purohit|Female| 47|        Chhattisgarh|             Korba|        Korba Branch|     Savings|9cb895c2-a148-43e...|      2025-01-29|2025-02-16 12:09:47|          39976.03|84797331-345f-40c...|        Transfer|       Restaurant|       49403.41|Self-service Bank...| Korba, Chhattisgarh|        POS|       0|                 INR|  +9193052XXXXXX|        Online shopping| mayaXXX@XXXXXXX.com|                 2025|                     1|                  29|                 439.6|\n",
      "|3b59a82e-cd12-4eb...|    Eshana Yohannan|  Male| 37|         West Bengal|           Kolkata|      Kolkata Branch|     Savings|9ce70ba0-cdf9-4c7...|      2025-01-09|2025-02-16 14:35:57|          10258.06|09006c38-ded5-4ab...|        Transfer|        Groceries|       73121.31|Payment Gateway D...|Kolkata, West Bengal|        ATM|       0|                 INR|  +9197782XXXXXX|   Personal loan rep...|eshanaXXXXX@XXXXX...|                 2025|                     1|                   9|                 112.8|\n",
      "|fa3f6733-33d6-489...|     Ranveer Biswas|Female| 53|               Bihar|              Gaya|         Gaya Branch|    Business|08d040c8-4561-40e...|      2025-01-22|2025-02-16 09:50:59|          92969.97|c402f840-63bc-4a0...|      Withdrawal|           Health|       80388.02|     ATM Booth Kiosk|         Gaya, Bihar|     Mobile|       0|                 INR|  +9194710XXXXXX|      Insurance premium|ranveerXXXX@XXXXX...|                 2025|                     1|                  22|               1022.35|\n",
      "|8d375e52-bfe4-405...|      Bishakha Dhar|Female| 38|              Sikkim|         Jorethang|    Jorethang Branch|    Checking|26064944-2ef5-40f...|      2025-01-08|2025-02-16 13:51:31|             47.39|9ccd73b9-9361-4ec...|      Withdrawal|         Clothing|       52977.93|                 ATM|   Jorethang, Sikkim|     Mobile|       0|                 INR|  +9199457XXXXXX|               Pet care|bishakhaXXXXX@XXX...|                 2025|                     1|                   8|                  0.52|\n",
      "|99d95f63-a2fa-470...|      Theodore Suri|  Male| 56|Dadra and Nagar H...|          Silvassa|     Silvassa Branch|    Business|aa3832eb-c0f0-48b...|      2025-01-24|2025-02-16 12:41:39|           85269.3|edb8e488-50ce-4d7...|           Debit|       Restaurant|       74322.85|   Biometric Scanner|Silvassa, Dadra a...|    Desktop|       1|                 INR|  +9194951XXXXXX|     Gift for colleague|theodoreXXX@XXXXX...|                 2025|                     1|                  24|                937.67|\n",
      "|88f48e6d-8018-497...|         Gagan Vala|Female| 38|      Madhya Pradesh|            Bhopal|       Bhopal Branch|     Savings|df9d6dd9-dd29-442...|      2025-01-02|2025-02-16 12:42:43|          89594.61|70d22ed4-3162-419...|    Bill Payment|        Groceries|       61702.79|   POS Mobile Device|Bhopal, Madhya Pr...|    Desktop|       0|                 INR|  +9196471XXXXXX|   Smart home device...|gaganXXXXX@XXXXX.com|                 2025|                     1|                   2|                985.23|\n",
      "|f2fd2ba1-be7e-4a0...|    Saanvi Srinivas|Female| 38|       Uttar Pradesh|            Kanpur|       Kanpur Branch|    Business|0c4dafb3-c550-453...|      2025-01-13|2025-02-16 21:50:44|           17728.9|4a1fff97-40f6-442...|      Withdrawal|         Clothing|        6965.92|Self-service Bank...|Kanpur, Uttar Pra...|    Desktop|       0|                 INR|  +9196905XXXXXX|        Beauty products|saanviXXXX@XXXXX.com|                 2025|                     1|                  13|                194.96|\n",
      "+--------------------+-------------------+------+---+--------------------+------------------+--------------------+------------+--------------------+----------------+-------------------+------------------+--------------------+----------------+-----------------+---------------+--------------------+--------------------+-----------+--------+--------------------+----------------+-----------------------+--------------------+---------------------+----------------------+--------------------+----------------------+\n",
      "only showing top 20 rows\n",
      "\n"
     ]
    }
   ],
   "execution_count": 68
  },
  {
   "metadata": {
    "ExecuteTime": {
     "end_time": "2025-02-16T14:33:50.934140Z",
     "start_time": "2025-02-16T14:33:50.911380Z"
    }
   },
   "cell_type": "code",
   "source": [
    "df = df.withColumn('Year_Transaction_Date', F.year(F.col('Transaction_Date'))) \\\n",
    "    .withColumn('Month_Transaction_Date', F.month(F.col('Transaction_Date'))) \\\n",
    "    .withColumn('Day_transaction_Date', F.day(F.col('Transaction_Date')))"
   ],
   "id": "4075809adee0dd25",
   "outputs": [],
   "execution_count": 44
  },
  {
   "metadata": {
    "ExecuteTime": {
     "end_time": "2025-02-16T14:42:20.087871Z",
     "start_time": "2025-02-16T14:42:20.074978Z"
    }
   },
   "cell_type": "code",
   "source": [
    "df = df.withColumn(\n",
    "    \"Transaction_Amount_EUR\",\n",
    "    F.round(F.col('Transaction_Amount') * 0.010996533, 2)\n",
    ")"
   ],
   "id": "813e28aad99ca8ca",
   "outputs": [],
   "execution_count": 56
  },
  {
   "metadata": {
    "ExecuteTime": {
     "end_time": "2025-02-16T15:09:15.749759Z",
     "start_time": "2025-02-16T15:09:15.689976Z"
    }
   },
   "cell_type": "code",
   "source": [
    "spark.sql(\"\"\"\n",
    "SELECT\n",
    "    *,\n",
    "    year(Transaction_Date) AS Year_Transaction_Date,\n",
    "    month(Transaction_Date) AS Month_Transaction_Date,\n",
    "    day(Transaction_Date) AS Day_Transaction_Date\n",
    "FROM (\n",
    "    SELECT\n",
    "        date_format(to_date(t.Transaction_Date, 'dd-MM-yyyy'), 'yyyy-MM-dd') as Transaction_Date\n",
    "    FROM\n",
    "        transactions t\n",
    ") AS data_format\n",
    "\"\"\").show()"
   ],
   "id": "bc4838e4252fe860",
   "outputs": [
    {
     "name": "stdout",
     "output_type": "stream",
     "text": [
      "+----------------+---------------------+----------------------+--------------------+\n",
      "|Transaction_Date|Year_Transaction_Date|Month_Transaction_Date|Day_Transaction_Date|\n",
      "+----------------+---------------------+----------------------+--------------------+\n",
      "|      2025-01-23|                 2025|                     1|                  23|\n",
      "|      2025-01-11|                 2025|                     1|                  11|\n",
      "|      2025-01-25|                 2025|                     1|                  25|\n",
      "|      2025-01-19|                 2025|                     1|                  19|\n",
      "|      2025-01-30|                 2025|                     1|                  30|\n",
      "|      2025-01-25|                 2025|                     1|                  25|\n",
      "|      2025-01-04|                 2025|                     1|                   4|\n",
      "|      2025-01-16|                 2025|                     1|                  16|\n",
      "|      2025-01-25|                 2025|                     1|                  25|\n",
      "|      2025-01-02|                 2025|                     1|                   2|\n",
      "|      2025-01-25|                 2025|                     1|                  25|\n",
      "|      2025-01-14|                 2025|                     1|                  14|\n",
      "|      2025-01-27|                 2025|                     1|                  27|\n",
      "|      2025-01-29|                 2025|                     1|                  29|\n",
      "|      2025-01-09|                 2025|                     1|                   9|\n",
      "|      2025-01-22|                 2025|                     1|                  22|\n",
      "|      2025-01-08|                 2025|                     1|                   8|\n",
      "|      2025-01-24|                 2025|                     1|                  24|\n",
      "|      2025-01-02|                 2025|                     1|                   2|\n",
      "|      2025-01-13|                 2025|                     1|                  13|\n",
      "+----------------+---------------------+----------------------+--------------------+\n",
      "only showing top 20 rows\n",
      "\n"
     ]
    }
   ],
   "execution_count": 134
  },
  {
   "metadata": {
    "ExecuteTime": {
     "end_time": "2025-02-16T14:42:22.755737Z",
     "start_time": "2025-02-16T14:42:22.679642Z"
    }
   },
   "cell_type": "code",
   "source": "df.show()",
   "id": "305f5c3d83f5008b",
   "outputs": [
    {
     "name": "stdout",
     "output_type": "stream",
     "text": [
      "+--------------------+-------------------+------+---+--------------------+------------------+--------------------+------------+--------------------+----------------+-------------------+------------------+--------------------+----------------+-----------------+---------------+--------------------+--------------------+-----------+--------+--------------------+----------------+-----------------------+--------------------+---------------------+----------------------+--------------------+----------------------+\n",
      "|         Customer_ID|      Customer_Name|Gender|Age|               State|              City|         Bank_Branch|Account_Type|      Transaction_ID|Transaction_Date|   Transaction_Time|Transaction_Amount|         Merchant_ID|Transaction_Type|Merchant_Category|Account_Balance|  Transaction_Device|Transaction_Location|Device_Type|Is_Fraud|Transaction_Currency|Customer_Contact|Transaction_Description|      Customer_Email|Year_Transaction_Date|Month_Transaction_Date|Day_transaction_Date|Transaction_Amount_EUR|\n",
      "+--------------------+-------------------+------+---+--------------------+------------------+--------------------+------------+--------------------+----------------+-------------------+------------------+--------------------+----------------+-----------------+---------------+--------------------+--------------------+-----------+--------+--------------------+----------------+-----------------------+--------------------+---------------------+----------------------+--------------------+----------------------+\n",
      "|d5f6ec07-d69e-4f4...|         Osha Tella|  Male| 60|              Kerala|Thiruvananthapuram|Thiruvananthapura...|     Savings|4fa3208f-9e23-42d...|      2025-01-23|2025-02-16 16:04:07|          32415.45|214e03c5-5c34-40d...|        Transfer|       Restaurant|       74557.27|     Voice Assistant|Thiruvananthapura...|        POS|       0|                 INR|  +9198579XXXXXX|    Bitcoin transaction| oshaXXXXX@XXXXX.com|                 2025|                     1|                  23|                356.46|\n",
      "|7c14ad51-781a-4db...|    Hredhaan Khosla|Female| 51|         Maharashtra|            Nashik|       Nashik Branch|    Business|c9de0c06-2c4c-40a...|      2025-01-11|2025-02-16 17:14:53|           43622.6|f9e3f11f-28d3-419...|    Bill Payment|       Restaurant|       74622.66|   POS Mobile Device| Nashik, Maharashtra|    Desktop|       0|                 INR|  +9191074XXXXXX|       Grocery delivery|hredhaanXXXX@XXXX...|                 2025|                     1|                  11|                 479.7|\n",
      "|3a73a0e5-d4da-45a...|     Ekani Nazareth|  Male| 20|               Bihar|         Bhagalpur|    Bhagalpur Branch|     Savings|e41c55f9-c016-4ff...|      2025-01-25|2025-02-16 03:09:52|          63062.56|97977d83-5486-451...|    Bill Payment|        Groceries|       66817.99|                 ATM|    Bhagalpur, Bihar|    Desktop|       0|                 INR|  +9197745XXXXXX|   Mutual fund inves...| ekaniXXX@XXXXXX.com|                 2025|                     1|                  25|                693.47|\n",
      "|7902f4ef-9050-4a7...|Yamini Ramachandran|Female| 57|          Tamil Nadu|           Chennai|      Chennai Branch|    Business|7f7ee11b-ff2c-45a...|      2025-01-19|2025-02-16 12:27:02|          14000.72|f45cd6b3-5092-44d...|           Debit|    Entertainment|       58177.08|      POS Mobile App| Chennai, Tamil Nadu|     Mobile|       0|                 INR|  +9195889XXXXXX|          Food delivery|yaminiXXXXX@XXXXX...|                 2025|                     1|                  19|                153.96|\n",
      "|3a4bba70-d9a9-4c5...|       Kritika Rege|Female| 43|              Punjab|          Amritsar|     Amritsar Branch|     Savings|f8e6ac6f-81a1-498...|      2025-01-30|2025-02-16 18:30:46|          18335.16|70dd77dd-3b00-4b2...|        Transfer|    Entertainment|       16108.56|        Virtual Card|    Amritsar, Punjab|     Mobile|       0|                 INR|  +9195316XXXXXX|         Debt repayment|kritikaXXXX@XXXXX...|                 2025|                     1|                  30|                201.62|\n",
      "|6c870d65-76b0-431...|        Ishanvi Dar|  Male| 54|             Gujarat|         Ahmedabad|    Ahmedabad Branch|    Checking|af5f667c-d064-408...|      2025-01-25|2025-02-16 06:49:53|           9711.15|d82a798d-7b4d-460...|        Transfer|    Entertainment|       61258.85|       Mobile Device|  Ahmedabad, Gujarat|        POS|       0|                 INR|  +9198318XXXXXX|   Seminar registration|ishanviXXX@XXXXX.com|                 2025|                     1|                  25|                106.79|\n",
      "|5323737c-bbd2-423...|        Arya Shroff|Female| 61|               Delhi|         New Delhi|    New Delhi Branch|    Business|b1355810-d246-4ae...|      2025-01-04|2025-02-16 00:53:33|          94677.01|e0b802ba-b1d9-4e9...|        Transfer|           Health|       36313.61|Payment Gateway D...|    New Delhi, Delhi|    Desktop|       0|                 INR|  +9194785XXXXXX|   Public transport ...|   aryaXXX@XXXXX.com|                 2025|                     1|                   4|               1041.12|\n",
      "|c0c3d474-f6c2-4c6...|      Jackson Shere|  Male| 32|Andaman and Nicob...|        Port Blair|   Port Blair Branch|    Business|c86a000c-d81f-40b...|      2025-01-16|2025-02-16 04:04:48|          67704.28|ec344461-1bab-4e8...|           Debit|         Clothing|       16948.73|   Debit/Credit Card|Port Blair, Andam...|        ATM|       0|                 INR|  +9193423XXXXXX|        Online shopping|jacksonXXX@XXXXXX...|                 2025|                     1|                  16|                744.51|\n",
      "|e9a82764-1253-4a4...|    Bhanumati Ravel|  Male| 52|      Madhya Pradesh|            Bhopal|       Bhopal Branch|    Business|323cc683-b0dc-40e...|      2025-01-25|2025-02-16 10:50:12|          72953.45|1de36b2e-e1a9-4e2...|      Withdrawal|         Clothing|       18138.71|                 ATM|Bhopal, Madhya Pr...|     Mobile|       0|                 INR|  +9194374XXXXXX|       Vacation payment|bhanumatiXXXXX@XX...|                 2025|                     1|                  25|                802.24|\n",
      "|708224d5-192a-4d8...|       Meera Ganesh|Female| 32|        Chhattisgarh|         Jagdalpur|    Jagdalpur Branch|    Business|9fad31ea-2770-4d8...|      2025-01-02|2025-02-16 04:37:34|           5689.02|20ffaa8f-958b-484...|          Credit|    Entertainment|       65801.35|         Bank Branch|Jagdalpur, Chhatt...|    Desktop|       0|                 INR|  +9194511XXXXXX|   Electronics purchase|meeraXXXXX@XXXXXX...|                 2025|                     1|                   2|                 62.56|\n",
      "|87b53799-9959-453...|      Charvi Biswas|  Male| 18|             Gujarat|          Vadodara|     Vadodara Branch|     Savings|72832f5f-3b4c-4c9...|      2025-01-25|2025-02-16 08:52:44|          45491.61|e4d6a617-f30f-481...|          Credit|         Clothing|       25427.07|      Desktop/Laptop|   Vadodara, Gujarat|        POS|       0|                 INR|  +9193360XXXXXX|   Streaming service...|charviXXXX@XXXXXX...|                 2025|                     1|                  25|                500.25|\n",
      "|d4d0f62e-00b0-4c0...|    Yuvraj Dasgupta|  Male| 59|              Punjab|        Chandigarh|   Chandigarh Branch|    Business|9a03bbb6-0b7b-4ea...|      2025-01-14|2025-02-16 19:43:31|          34680.87|3777c223-bf6f-443...|          Credit|       Restaurant|       38070.74|         Bank Branch|  Chandigarh, Punjab|     Mobile|       0|                 INR|  +9193342XXXXXX|   Subscription renewal|yuvrajXXXXX@XXXXX...|                 2025|                     1|                  14|                381.37|\n",
      "|b2563484-0dae-455...|        Amara Sidhu|  Male| 66|             Mizoram|          Champhai|     Champhai Branch|     Savings|6fa60ddb-b48b-40d...|      2025-01-27|2025-02-16 22:02:12|          46843.65|31278c3e-48ae-411...|    Bill Payment|       Restaurant|       38362.08|      Desktop/Laptop|   Champhai, Mizoram|    Desktop|       0|                 INR|  +9192865XXXXXX|        Laundry service|amaraXXXX@XXXXXXX...|                 2025|                     1|                  27|                515.12|\n",
      "|e6efdf36-1128-4a5...|       Maya Purohit|Female| 47|        Chhattisgarh|             Korba|        Korba Branch|     Savings|9cb895c2-a148-43e...|      2025-01-29|2025-02-16 12:09:47|          39976.03|84797331-345f-40c...|        Transfer|       Restaurant|       49403.41|Self-service Bank...| Korba, Chhattisgarh|        POS|       0|                 INR|  +9193052XXXXXX|        Online shopping| mayaXXX@XXXXXXX.com|                 2025|                     1|                  29|                 439.6|\n",
      "|3b59a82e-cd12-4eb...|    Eshana Yohannan|  Male| 37|         West Bengal|           Kolkata|      Kolkata Branch|     Savings|9ce70ba0-cdf9-4c7...|      2025-01-09|2025-02-16 14:35:57|          10258.06|09006c38-ded5-4ab...|        Transfer|        Groceries|       73121.31|Payment Gateway D...|Kolkata, West Bengal|        ATM|       0|                 INR|  +9197782XXXXXX|   Personal loan rep...|eshanaXXXXX@XXXXX...|                 2025|                     1|                   9|                 112.8|\n",
      "|fa3f6733-33d6-489...|     Ranveer Biswas|Female| 53|               Bihar|              Gaya|         Gaya Branch|    Business|08d040c8-4561-40e...|      2025-01-22|2025-02-16 09:50:59|          92969.97|c402f840-63bc-4a0...|      Withdrawal|           Health|       80388.02|     ATM Booth Kiosk|         Gaya, Bihar|     Mobile|       0|                 INR|  +9194710XXXXXX|      Insurance premium|ranveerXXXX@XXXXX...|                 2025|                     1|                  22|               1022.35|\n",
      "|8d375e52-bfe4-405...|      Bishakha Dhar|Female| 38|              Sikkim|         Jorethang|    Jorethang Branch|    Checking|26064944-2ef5-40f...|      2025-01-08|2025-02-16 13:51:31|             47.39|9ccd73b9-9361-4ec...|      Withdrawal|         Clothing|       52977.93|                 ATM|   Jorethang, Sikkim|     Mobile|       0|                 INR|  +9199457XXXXXX|               Pet care|bishakhaXXXXX@XXX...|                 2025|                     1|                   8|                  0.52|\n",
      "|99d95f63-a2fa-470...|      Theodore Suri|  Male| 56|Dadra and Nagar H...|          Silvassa|     Silvassa Branch|    Business|aa3832eb-c0f0-48b...|      2025-01-24|2025-02-16 12:41:39|           85269.3|edb8e488-50ce-4d7...|           Debit|       Restaurant|       74322.85|   Biometric Scanner|Silvassa, Dadra a...|    Desktop|       1|                 INR|  +9194951XXXXXX|     Gift for colleague|theodoreXXX@XXXXX...|                 2025|                     1|                  24|                937.67|\n",
      "|88f48e6d-8018-497...|         Gagan Vala|Female| 38|      Madhya Pradesh|            Bhopal|       Bhopal Branch|     Savings|df9d6dd9-dd29-442...|      2025-01-02|2025-02-16 12:42:43|          89594.61|70d22ed4-3162-419...|    Bill Payment|        Groceries|       61702.79|   POS Mobile Device|Bhopal, Madhya Pr...|    Desktop|       0|                 INR|  +9196471XXXXXX|   Smart home device...|gaganXXXXX@XXXXX.com|                 2025|                     1|                   2|                985.23|\n",
      "|f2fd2ba1-be7e-4a0...|    Saanvi Srinivas|Female| 38|       Uttar Pradesh|            Kanpur|       Kanpur Branch|    Business|0c4dafb3-c550-453...|      2025-01-13|2025-02-16 21:50:44|           17728.9|4a1fff97-40f6-442...|      Withdrawal|         Clothing|        6965.92|Self-service Bank...|Kanpur, Uttar Pra...|    Desktop|       0|                 INR|  +9196905XXXXXX|        Beauty products|saanviXXXX@XXXXX.com|                 2025|                     1|                  13|                194.96|\n",
      "+--------------------+-------------------+------+---+--------------------+------------------+--------------------+------------+--------------------+----------------+-------------------+------------------+--------------------+----------------+-----------------+---------------+--------------------+--------------------+-----------+--------+--------------------+----------------+-----------------------+--------------------+---------------------+----------------------+--------------------+----------------------+\n",
      "only showing top 20 rows\n",
      "\n"
     ]
    }
   ],
   "execution_count": 57
  },
  {
   "metadata": {
    "ExecuteTime": {
     "end_time": "2025-02-16T14:48:19.404051Z",
     "start_time": "2025-02-16T14:48:19.311716Z"
    }
   },
   "cell_type": "code",
   "source": [
    "df.select(\n",
    "    '*',\n",
    "    F.concat(\n",
    "        F.col('City'), F.lit(', '), F.col('State')\n",
    "    ).alias('Combined_Location'),\n",
    ")"
   ],
   "id": "a787c2ab4e94f7e9",
   "outputs": [
    {
     "name": "stdout",
     "output_type": "stream",
     "text": [
      "+------------------------------------+-------------------+------+---+-----------+------------------+-------------------------+------------+------------------------------------+----------------+-------------------+------------------+------------------------------------+----------------+-----------------+---------------+------------------+--------------------------+-----------+--------+--------------------+----------------+-----------------------+-----------------------+---------------------+----------------------+--------------------+----------------------+--------------------------+\n",
      "|Customer_ID                         |Customer_Name      |Gender|Age|State      |City              |Bank_Branch              |Account_Type|Transaction_ID                      |Transaction_Date|Transaction_Time   |Transaction_Amount|Merchant_ID                         |Transaction_Type|Merchant_Category|Account_Balance|Transaction_Device|Transaction_Location      |Device_Type|Is_Fraud|Transaction_Currency|Customer_Contact|Transaction_Description|Customer_Email         |Year_Transaction_Date|Month_Transaction_Date|Day_transaction_Date|Transaction_Amount_EUR|Combined_Location         |\n",
      "+------------------------------------+-------------------+------+---+-----------+------------------+-------------------------+------------+------------------------------------+----------------+-------------------+------------------+------------------------------------+----------------+-----------------+---------------+------------------+--------------------------+-----------+--------+--------------------+----------------+-----------------------+-----------------------+---------------------+----------------------+--------------------+----------------------+--------------------------+\n",
      "|d5f6ec07-d69e-4f47-b9b4-7c58ff17c19e|Osha Tella         |Male  |60 |Kerala     |Thiruvananthapuram|Thiruvananthapuram Branch|Savings     |4fa3208f-9e23-42dc-b330-844829d0c12c|2025-01-23      |2025-02-16 16:04:07|32415.45          |214e03c5-5c34-40d1-a66c-f440aa2bbd02|Transfer        |Restaurant       |74557.27       |Voice Assistant   |Thiruvananthapuram, Kerala|POS        |0       |INR                 |+9198579XXXXXX  |Bitcoin transaction    |oshaXXXXX@XXXXX.com    |2025                 |1                     |23                  |356.46                |Thiruvananthapuram, Kerala|\n",
      "|7c14ad51-781a-4db9-b7bd-67439c175262|Hredhaan Khosla    |Female|51 |Maharashtra|Nashik            |Nashik Branch            |Business    |c9de0c06-2c4c-40a9-97ed-3c7b8f97c79c|2025-01-11      |2025-02-16 17:14:53|43622.6           |f9e3f11f-28d3-4199-b0ca-f225a155ede6|Bill Payment    |Restaurant       |74622.66       |POS Mobile Device |Nashik, Maharashtra       |Desktop    |0       |INR                 |+9191074XXXXXX  |Grocery delivery       |hredhaanXXXX@XXXXXX.com|2025                 |1                     |11                  |479.7                 |Nashik, Maharashtra       |\n",
      "|3a73a0e5-d4da-45aa-85f3-528413900a35|Ekani Nazareth     |Male  |20 |Bihar      |Bhagalpur         |Bhagalpur Branch         |Savings     |e41c55f9-c016-4ff3-872b-cae72467c75c|2025-01-25      |2025-02-16 03:09:52|63062.56          |97977d83-5486-4510-af1c-8dada3e1cfa0|Bill Payment    |Groceries        |66817.99       |ATM               |Bhagalpur, Bihar          |Desktop    |0       |INR                 |+9197745XXXXXX  |Mutual fund investment |ekaniXXX@XXXXXX.com    |2025                 |1                     |25                  |693.47                |Bhagalpur, Bihar          |\n",
      "|7902f4ef-9050-4a79-857d-9c2ea3181940|Yamini Ramachandran|Female|57 |Tamil Nadu |Chennai           |Chennai Branch           |Business    |7f7ee11b-ff2c-45a3-802a-49bc47c02ecb|2025-01-19      |2025-02-16 12:27:02|14000.72          |f45cd6b3-5092-44d0-8afb-490894605184|Debit           |Entertainment    |58177.08       |POS Mobile App    |Chennai, Tamil Nadu       |Mobile     |0       |INR                 |+9195889XXXXXX  |Food delivery          |yaminiXXXXX@XXXXXXX.com|2025                 |1                     |19                  |153.96                |Chennai, Tamil Nadu       |\n",
      "|3a4bba70-d9a9-4c5f-8b92-1735fd8c19e9|Kritika Rege       |Female|43 |Punjab     |Amritsar          |Amritsar Branch          |Savings     |f8e6ac6f-81a1-4985-bf12-f60967d852ef|2025-01-30      |2025-02-16 18:30:46|18335.16          |70dd77dd-3b00-4b2c-8ebc-cfb8af5f6741|Transfer        |Entertainment    |16108.56       |Virtual Card      |Amritsar, Punjab          |Mobile     |0       |INR                 |+9195316XXXXXX  |Debt repayment         |kritikaXXXX@XXXXXX.com |2025                 |1                     |30                  |201.62                |Amritsar, Punjab          |\n",
      "+------------------------------------+-------------------+------+---+-----------+------------------+-------------------------+------------+------------------------------------+----------------+-------------------+------------------+------------------------------------+----------------+-----------------+---------------+------------------+--------------------------+-----------+--------+--------------------+----------------+-----------------------+-----------------------+---------------------+----------------------+--------------------+----------------------+--------------------------+\n",
      "only showing top 5 rows\n",
      "\n"
     ]
    }
   ],
   "execution_count": 63
  },
  {
   "metadata": {
    "ExecuteTime": {
     "end_time": "2025-02-16T15:25:34.689091Z",
     "start_time": "2025-02-16T15:25:32.925570Z"
    }
   },
   "cell_type": "code",
   "source": [
    "df_spark = spark.sql(\"\"\"\n",
    "    SELECT\n",
    "        *,\n",
    "        concat(City, ', ', State) AS Combined_Location\n",
    "    FROM\n",
    "        transactions\n",
    "\"\"\")\n",
    "\n",
    "df_spark.write.mode('overwrite').saveAsTable('transactions')"
   ],
   "id": "59b1f53a766dc635",
   "outputs": [],
   "execution_count": 145
  },
  {
   "metadata": {
    "ExecuteTime": {
     "end_time": "2025-02-16T15:26:12.501414Z",
     "start_time": "2025-02-16T15:26:12.490944Z"
    }
   },
   "cell_type": "code",
   "source": [
    "spark.sql(\n",
    "    \"\"\"\n",
    "        SELECT * FROM transactions\n",
    "    \"\"\"\n",
    ")"
   ],
   "id": "fe996a8a4bb571db",
   "outputs": [
    {
     "data": {
      "text/plain": [
       "DataFrame[Customer_ID: string, Customer_Name: string, Gender: string, Age: int, State: string, City: string, Bank_Branch: string, Account_Type: string, Transaction_ID: string, Transaction_Date: string, Transaction_Time: timestamp, Transaction_Amount: double, Merchant_ID: string, Transaction_Type: string, Merchant_Category: string, Account_Balance: double, Transaction_Device: string, Transaction_Location: string, Device_Type: string, Is_Fraud: int, Transaction_Currency: string, Customer_Contact: string, Transaction_Description: string, Customer_Email: string]"
      ]
     },
     "execution_count": 148,
     "metadata": {},
     "output_type": "execute_result"
    }
   ],
   "execution_count": 148
  },
  {
   "metadata": {
    "ExecuteTime": {
     "end_time": "2025-02-16T15:24:45.965090Z",
     "start_time": "2025-02-16T15:24:45.916139Z"
    }
   },
   "cell_type": "code",
   "source": [
    "spark.sql(\"\"\"\n",
    "    SELECT\n",
    "        *\n",
    "    FROM\n",
    "        transactions\n",
    "\"\"\").show()"
   ],
   "id": "7fabe91a8238b7fb",
   "outputs": [
    {
     "name": "stdout",
     "output_type": "stream",
     "text": [
      "+--------------------+-------------------+------+---+--------------------+------------------+--------------------+------------+--------------------+----------------+-------------------+------------------+--------------------+----------------+-----------------+---------------+--------------------+--------------------+-----------+--------+--------------------+----------------+-----------------------+--------------------+\n",
      "|         Customer_ID|      Customer_Name|Gender|Age|               State|              City|         Bank_Branch|Account_Type|      Transaction_ID|Transaction_Date|   Transaction_Time|Transaction_Amount|         Merchant_ID|Transaction_Type|Merchant_Category|Account_Balance|  Transaction_Device|Transaction_Location|Device_Type|Is_Fraud|Transaction_Currency|Customer_Contact|Transaction_Description|      Customer_Email|\n",
      "+--------------------+-------------------+------+---+--------------------+------------------+--------------------+------------+--------------------+----------------+-------------------+------------------+--------------------+----------------+-----------------+---------------+--------------------+--------------------+-----------+--------+--------------------+----------------+-----------------------+--------------------+\n",
      "|d5f6ec07-d69e-4f4...|         Osha Tella|  Male| 60|              Kerala|Thiruvananthapuram|Thiruvananthapura...|     Savings|4fa3208f-9e23-42d...|      23-01-2025|2025-02-16 16:04:07|          32415.45|214e03c5-5c34-40d...|        Transfer|       Restaurant|       74557.27|     Voice Assistant|Thiruvananthapura...|        POS|       0|                 INR|  +9198579XXXXXX|    Bitcoin transaction| oshaXXXXX@XXXXX.com|\n",
      "|7c14ad51-781a-4db...|    Hredhaan Khosla|Female| 51|         Maharashtra|            Nashik|       Nashik Branch|    Business|c9de0c06-2c4c-40a...|      11-01-2025|2025-02-16 17:14:53|           43622.6|f9e3f11f-28d3-419...|    Bill Payment|       Restaurant|       74622.66|   POS Mobile Device| Nashik, Maharashtra|    Desktop|       0|                 INR|  +9191074XXXXXX|       Grocery delivery|hredhaanXXXX@XXXX...|\n",
      "|3a73a0e5-d4da-45a...|     Ekani Nazareth|  Male| 20|               Bihar|         Bhagalpur|    Bhagalpur Branch|     Savings|e41c55f9-c016-4ff...|      25-01-2025|2025-02-16 03:09:52|          63062.56|97977d83-5486-451...|    Bill Payment|        Groceries|       66817.99|                 ATM|    Bhagalpur, Bihar|    Desktop|       0|                 INR|  +9197745XXXXXX|   Mutual fund inves...| ekaniXXX@XXXXXX.com|\n",
      "|7902f4ef-9050-4a7...|Yamini Ramachandran|Female| 57|          Tamil Nadu|           Chennai|      Chennai Branch|    Business|7f7ee11b-ff2c-45a...|      19-01-2025|2025-02-16 12:27:02|          14000.72|f45cd6b3-5092-44d...|           Debit|    Entertainment|       58177.08|      POS Mobile App| Chennai, Tamil Nadu|     Mobile|       0|                 INR|  +9195889XXXXXX|          Food delivery|yaminiXXXXX@XXXXX...|\n",
      "|3a4bba70-d9a9-4c5...|       Kritika Rege|Female| 43|              Punjab|          Amritsar|     Amritsar Branch|     Savings|f8e6ac6f-81a1-498...|      30-01-2025|2025-02-16 18:30:46|          18335.16|70dd77dd-3b00-4b2...|        Transfer|    Entertainment|       16108.56|        Virtual Card|    Amritsar, Punjab|     Mobile|       0|                 INR|  +9195316XXXXXX|         Debt repayment|kritikaXXXX@XXXXX...|\n",
      "|6c870d65-76b0-431...|        Ishanvi Dar|  Male| 54|             Gujarat|         Ahmedabad|    Ahmedabad Branch|    Checking|af5f667c-d064-408...|      25-01-2025|2025-02-16 06:49:53|           9711.15|d82a798d-7b4d-460...|        Transfer|    Entertainment|       61258.85|       Mobile Device|  Ahmedabad, Gujarat|        POS|       0|                 INR|  +9198318XXXXXX|   Seminar registration|ishanviXXX@XXXXX.com|\n",
      "|5323737c-bbd2-423...|        Arya Shroff|Female| 61|               Delhi|         New Delhi|    New Delhi Branch|    Business|b1355810-d246-4ae...|      04-01-2025|2025-02-16 00:53:33|          94677.01|e0b802ba-b1d9-4e9...|        Transfer|           Health|       36313.61|Payment Gateway D...|    New Delhi, Delhi|    Desktop|       0|                 INR|  +9194785XXXXXX|   Public transport ...|   aryaXXX@XXXXX.com|\n",
      "|c0c3d474-f6c2-4c6...|      Jackson Shere|  Male| 32|Andaman and Nicob...|        Port Blair|   Port Blair Branch|    Business|c86a000c-d81f-40b...|      16-01-2025|2025-02-16 04:04:48|          67704.28|ec344461-1bab-4e8...|           Debit|         Clothing|       16948.73|   Debit/Credit Card|Port Blair, Andam...|        ATM|       0|                 INR|  +9193423XXXXXX|        Online shopping|jacksonXXX@XXXXXX...|\n",
      "|e9a82764-1253-4a4...|    Bhanumati Ravel|  Male| 52|      Madhya Pradesh|            Bhopal|       Bhopal Branch|    Business|323cc683-b0dc-40e...|      25-01-2025|2025-02-16 10:50:12|          72953.45|1de36b2e-e1a9-4e2...|      Withdrawal|         Clothing|       18138.71|                 ATM|Bhopal, Madhya Pr...|     Mobile|       0|                 INR|  +9194374XXXXXX|       Vacation payment|bhanumatiXXXXX@XX...|\n",
      "|708224d5-192a-4d8...|       Meera Ganesh|Female| 32|        Chhattisgarh|         Jagdalpur|    Jagdalpur Branch|    Business|9fad31ea-2770-4d8...|      02-01-2025|2025-02-16 04:37:34|           5689.02|20ffaa8f-958b-484...|          Credit|    Entertainment|       65801.35|         Bank Branch|Jagdalpur, Chhatt...|    Desktop|       0|                 INR|  +9194511XXXXXX|   Electronics purchase|meeraXXXXX@XXXXXX...|\n",
      "|87b53799-9959-453...|      Charvi Biswas|  Male| 18|             Gujarat|          Vadodara|     Vadodara Branch|     Savings|72832f5f-3b4c-4c9...|      25-01-2025|2025-02-16 08:52:44|          45491.61|e4d6a617-f30f-481...|          Credit|         Clothing|       25427.07|      Desktop/Laptop|   Vadodara, Gujarat|        POS|       0|                 INR|  +9193360XXXXXX|   Streaming service...|charviXXXX@XXXXXX...|\n",
      "|d4d0f62e-00b0-4c0...|    Yuvraj Dasgupta|  Male| 59|              Punjab|        Chandigarh|   Chandigarh Branch|    Business|9a03bbb6-0b7b-4ea...|      14-01-2025|2025-02-16 19:43:31|          34680.87|3777c223-bf6f-443...|          Credit|       Restaurant|       38070.74|         Bank Branch|  Chandigarh, Punjab|     Mobile|       0|                 INR|  +9193342XXXXXX|   Subscription renewal|yuvrajXXXXX@XXXXX...|\n",
      "|b2563484-0dae-455...|        Amara Sidhu|  Male| 66|             Mizoram|          Champhai|     Champhai Branch|     Savings|6fa60ddb-b48b-40d...|      27-01-2025|2025-02-16 22:02:12|          46843.65|31278c3e-48ae-411...|    Bill Payment|       Restaurant|       38362.08|      Desktop/Laptop|   Champhai, Mizoram|    Desktop|       0|                 INR|  +9192865XXXXXX|        Laundry service|amaraXXXX@XXXXXXX...|\n",
      "|e6efdf36-1128-4a5...|       Maya Purohit|Female| 47|        Chhattisgarh|             Korba|        Korba Branch|     Savings|9cb895c2-a148-43e...|      29-01-2025|2025-02-16 12:09:47|          39976.03|84797331-345f-40c...|        Transfer|       Restaurant|       49403.41|Self-service Bank...| Korba, Chhattisgarh|        POS|       0|                 INR|  +9193052XXXXXX|        Online shopping| mayaXXX@XXXXXXX.com|\n",
      "|3b59a82e-cd12-4eb...|    Eshana Yohannan|  Male| 37|         West Bengal|           Kolkata|      Kolkata Branch|     Savings|9ce70ba0-cdf9-4c7...|      09-01-2025|2025-02-16 14:35:57|          10258.06|09006c38-ded5-4ab...|        Transfer|        Groceries|       73121.31|Payment Gateway D...|Kolkata, West Bengal|        ATM|       0|                 INR|  +9197782XXXXXX|   Personal loan rep...|eshanaXXXXX@XXXXX...|\n",
      "|fa3f6733-33d6-489...|     Ranveer Biswas|Female| 53|               Bihar|              Gaya|         Gaya Branch|    Business|08d040c8-4561-40e...|      22-01-2025|2025-02-16 09:50:59|          92969.97|c402f840-63bc-4a0...|      Withdrawal|           Health|       80388.02|     ATM Booth Kiosk|         Gaya, Bihar|     Mobile|       0|                 INR|  +9194710XXXXXX|      Insurance premium|ranveerXXXX@XXXXX...|\n",
      "|8d375e52-bfe4-405...|      Bishakha Dhar|Female| 38|              Sikkim|         Jorethang|    Jorethang Branch|    Checking|26064944-2ef5-40f...|      08-01-2025|2025-02-16 13:51:31|             47.39|9ccd73b9-9361-4ec...|      Withdrawal|         Clothing|       52977.93|                 ATM|   Jorethang, Sikkim|     Mobile|       0|                 INR|  +9199457XXXXXX|               Pet care|bishakhaXXXXX@XXX...|\n",
      "|99d95f63-a2fa-470...|      Theodore Suri|  Male| 56|Dadra and Nagar H...|          Silvassa|     Silvassa Branch|    Business|aa3832eb-c0f0-48b...|      24-01-2025|2025-02-16 12:41:39|           85269.3|edb8e488-50ce-4d7...|           Debit|       Restaurant|       74322.85|   Biometric Scanner|Silvassa, Dadra a...|    Desktop|       1|                 INR|  +9194951XXXXXX|     Gift for colleague|theodoreXXX@XXXXX...|\n",
      "|88f48e6d-8018-497...|         Gagan Vala|Female| 38|      Madhya Pradesh|            Bhopal|       Bhopal Branch|     Savings|df9d6dd9-dd29-442...|      02-01-2025|2025-02-16 12:42:43|          89594.61|70d22ed4-3162-419...|    Bill Payment|        Groceries|       61702.79|   POS Mobile Device|Bhopal, Madhya Pr...|    Desktop|       0|                 INR|  +9196471XXXXXX|   Smart home device...|gaganXXXXX@XXXXX.com|\n",
      "|f2fd2ba1-be7e-4a0...|    Saanvi Srinivas|Female| 38|       Uttar Pradesh|            Kanpur|       Kanpur Branch|    Business|0c4dafb3-c550-453...|      13-01-2025|2025-02-16 21:50:44|           17728.9|4a1fff97-40f6-442...|      Withdrawal|         Clothing|        6965.92|Self-service Bank...|Kanpur, Uttar Pra...|    Desktop|       0|                 INR|  +9196905XXXXXX|        Beauty products|saanviXXXX@XXXXX.com|\n",
      "+--------------------+-------------------+------+---+--------------------+------------------+--------------------+------------+--------------------+----------------+-------------------+------------------+--------------------+----------------+-----------------+---------------+--------------------+--------------------+-----------+--------+--------------------+----------------+-----------------------+--------------------+\n",
      "only showing top 20 rows\n",
      "\n"
     ]
    }
   ],
   "execution_count": 143
  },
  {
   "metadata": {
    "ExecuteTime": {
     "end_time": "2025-02-16T15:37:39.441427Z",
     "start_time": "2025-02-16T15:37:39.326601Z"
    }
   },
   "cell_type": "code",
   "source": [
    "df.withColumn(\n",
    "    'Is_High_Value',\n",
    "    F.when(F.col('Transaction_Amount') > 5000, 'Yes').otherwise('No')\n",
    ").show()"
   ],
   "id": "ec89bdf90c094c7b",
   "outputs": [
    {
     "name": "stdout",
     "output_type": "stream",
     "text": [
      "+--------------------+-------------------+------+---+--------------------+------------------+--------------------+------------+--------------------+----------------+-------------------+------------------+--------------------+----------------+-----------------+---------------+--------------------+--------------------+-----------+--------+--------------------+----------------+-----------------------+--------------------+---------------------+----------------------+--------------------+----------------------+-------------+\n",
      "|         Customer_ID|      Customer_Name|Gender|Age|               State|              City|         Bank_Branch|Account_Type|      Transaction_ID|Transaction_Date|   Transaction_Time|Transaction_Amount|         Merchant_ID|Transaction_Type|Merchant_Category|Account_Balance|  Transaction_Device|Transaction_Location|Device_Type|Is_Fraud|Transaction_Currency|Customer_Contact|Transaction_Description|      Customer_Email|Year_Transaction_Date|Month_Transaction_Date|Day_transaction_Date|Transaction_Amount_EUR|Is_High_Value|\n",
      "+--------------------+-------------------+------+---+--------------------+------------------+--------------------+------------+--------------------+----------------+-------------------+------------------+--------------------+----------------+-----------------+---------------+--------------------+--------------------+-----------+--------+--------------------+----------------+-----------------------+--------------------+---------------------+----------------------+--------------------+----------------------+-------------+\n",
      "|d5f6ec07-d69e-4f4...|         Osha Tella|  Male| 60|              Kerala|Thiruvananthapuram|Thiruvananthapura...|     Savings|4fa3208f-9e23-42d...|      2025-01-23|2025-02-16 16:04:07|          32415.45|214e03c5-5c34-40d...|        Transfer|       Restaurant|       74557.27|     Voice Assistant|Thiruvananthapura...|        POS|       0|                 INR|  +9198579XXXXXX|    Bitcoin transaction| oshaXXXXX@XXXXX.com|                 2025|                     1|                  23|                356.46|          Yes|\n",
      "|7c14ad51-781a-4db...|    Hredhaan Khosla|Female| 51|         Maharashtra|            Nashik|       Nashik Branch|    Business|c9de0c06-2c4c-40a...|      2025-01-11|2025-02-16 17:14:53|           43622.6|f9e3f11f-28d3-419...|    Bill Payment|       Restaurant|       74622.66|   POS Mobile Device| Nashik, Maharashtra|    Desktop|       0|                 INR|  +9191074XXXXXX|       Grocery delivery|hredhaanXXXX@XXXX...|                 2025|                     1|                  11|                 479.7|          Yes|\n",
      "|3a73a0e5-d4da-45a...|     Ekani Nazareth|  Male| 20|               Bihar|         Bhagalpur|    Bhagalpur Branch|     Savings|e41c55f9-c016-4ff...|      2025-01-25|2025-02-16 03:09:52|          63062.56|97977d83-5486-451...|    Bill Payment|        Groceries|       66817.99|                 ATM|    Bhagalpur, Bihar|    Desktop|       0|                 INR|  +9197745XXXXXX|   Mutual fund inves...| ekaniXXX@XXXXXX.com|                 2025|                     1|                  25|                693.47|          Yes|\n",
      "|7902f4ef-9050-4a7...|Yamini Ramachandran|Female| 57|          Tamil Nadu|           Chennai|      Chennai Branch|    Business|7f7ee11b-ff2c-45a...|      2025-01-19|2025-02-16 12:27:02|          14000.72|f45cd6b3-5092-44d...|           Debit|    Entertainment|       58177.08|      POS Mobile App| Chennai, Tamil Nadu|     Mobile|       0|                 INR|  +9195889XXXXXX|          Food delivery|yaminiXXXXX@XXXXX...|                 2025|                     1|                  19|                153.96|          Yes|\n",
      "|3a4bba70-d9a9-4c5...|       Kritika Rege|Female| 43|              Punjab|          Amritsar|     Amritsar Branch|     Savings|f8e6ac6f-81a1-498...|      2025-01-30|2025-02-16 18:30:46|          18335.16|70dd77dd-3b00-4b2...|        Transfer|    Entertainment|       16108.56|        Virtual Card|    Amritsar, Punjab|     Mobile|       0|                 INR|  +9195316XXXXXX|         Debt repayment|kritikaXXXX@XXXXX...|                 2025|                     1|                  30|                201.62|          Yes|\n",
      "|6c870d65-76b0-431...|        Ishanvi Dar|  Male| 54|             Gujarat|         Ahmedabad|    Ahmedabad Branch|    Checking|af5f667c-d064-408...|      2025-01-25|2025-02-16 06:49:53|           9711.15|d82a798d-7b4d-460...|        Transfer|    Entertainment|       61258.85|       Mobile Device|  Ahmedabad, Gujarat|        POS|       0|                 INR|  +9198318XXXXXX|   Seminar registration|ishanviXXX@XXXXX.com|                 2025|                     1|                  25|                106.79|          Yes|\n",
      "|5323737c-bbd2-423...|        Arya Shroff|Female| 61|               Delhi|         New Delhi|    New Delhi Branch|    Business|b1355810-d246-4ae...|      2025-01-04|2025-02-16 00:53:33|          94677.01|e0b802ba-b1d9-4e9...|        Transfer|           Health|       36313.61|Payment Gateway D...|    New Delhi, Delhi|    Desktop|       0|                 INR|  +9194785XXXXXX|   Public transport ...|   aryaXXX@XXXXX.com|                 2025|                     1|                   4|               1041.12|          Yes|\n",
      "|c0c3d474-f6c2-4c6...|      Jackson Shere|  Male| 32|Andaman and Nicob...|        Port Blair|   Port Blair Branch|    Business|c86a000c-d81f-40b...|      2025-01-16|2025-02-16 04:04:48|          67704.28|ec344461-1bab-4e8...|           Debit|         Clothing|       16948.73|   Debit/Credit Card|Port Blair, Andam...|        ATM|       0|                 INR|  +9193423XXXXXX|        Online shopping|jacksonXXX@XXXXXX...|                 2025|                     1|                  16|                744.51|          Yes|\n",
      "|e9a82764-1253-4a4...|    Bhanumati Ravel|  Male| 52|      Madhya Pradesh|            Bhopal|       Bhopal Branch|    Business|323cc683-b0dc-40e...|      2025-01-25|2025-02-16 10:50:12|          72953.45|1de36b2e-e1a9-4e2...|      Withdrawal|         Clothing|       18138.71|                 ATM|Bhopal, Madhya Pr...|     Mobile|       0|                 INR|  +9194374XXXXXX|       Vacation payment|bhanumatiXXXXX@XX...|                 2025|                     1|                  25|                802.24|          Yes|\n",
      "|708224d5-192a-4d8...|       Meera Ganesh|Female| 32|        Chhattisgarh|         Jagdalpur|    Jagdalpur Branch|    Business|9fad31ea-2770-4d8...|      2025-01-02|2025-02-16 04:37:34|           5689.02|20ffaa8f-958b-484...|          Credit|    Entertainment|       65801.35|         Bank Branch|Jagdalpur, Chhatt...|    Desktop|       0|                 INR|  +9194511XXXXXX|   Electronics purchase|meeraXXXXX@XXXXXX...|                 2025|                     1|                   2|                 62.56|          Yes|\n",
      "|87b53799-9959-453...|      Charvi Biswas|  Male| 18|             Gujarat|          Vadodara|     Vadodara Branch|     Savings|72832f5f-3b4c-4c9...|      2025-01-25|2025-02-16 08:52:44|          45491.61|e4d6a617-f30f-481...|          Credit|         Clothing|       25427.07|      Desktop/Laptop|   Vadodara, Gujarat|        POS|       0|                 INR|  +9193360XXXXXX|   Streaming service...|charviXXXX@XXXXXX...|                 2025|                     1|                  25|                500.25|          Yes|\n",
      "|d4d0f62e-00b0-4c0...|    Yuvraj Dasgupta|  Male| 59|              Punjab|        Chandigarh|   Chandigarh Branch|    Business|9a03bbb6-0b7b-4ea...|      2025-01-14|2025-02-16 19:43:31|          34680.87|3777c223-bf6f-443...|          Credit|       Restaurant|       38070.74|         Bank Branch|  Chandigarh, Punjab|     Mobile|       0|                 INR|  +9193342XXXXXX|   Subscription renewal|yuvrajXXXXX@XXXXX...|                 2025|                     1|                  14|                381.37|          Yes|\n",
      "|b2563484-0dae-455...|        Amara Sidhu|  Male| 66|             Mizoram|          Champhai|     Champhai Branch|     Savings|6fa60ddb-b48b-40d...|      2025-01-27|2025-02-16 22:02:12|          46843.65|31278c3e-48ae-411...|    Bill Payment|       Restaurant|       38362.08|      Desktop/Laptop|   Champhai, Mizoram|    Desktop|       0|                 INR|  +9192865XXXXXX|        Laundry service|amaraXXXX@XXXXXXX...|                 2025|                     1|                  27|                515.12|          Yes|\n",
      "|e6efdf36-1128-4a5...|       Maya Purohit|Female| 47|        Chhattisgarh|             Korba|        Korba Branch|     Savings|9cb895c2-a148-43e...|      2025-01-29|2025-02-16 12:09:47|          39976.03|84797331-345f-40c...|        Transfer|       Restaurant|       49403.41|Self-service Bank...| Korba, Chhattisgarh|        POS|       0|                 INR|  +9193052XXXXXX|        Online shopping| mayaXXX@XXXXXXX.com|                 2025|                     1|                  29|                 439.6|          Yes|\n",
      "|3b59a82e-cd12-4eb...|    Eshana Yohannan|  Male| 37|         West Bengal|           Kolkata|      Kolkata Branch|     Savings|9ce70ba0-cdf9-4c7...|      2025-01-09|2025-02-16 14:35:57|          10258.06|09006c38-ded5-4ab...|        Transfer|        Groceries|       73121.31|Payment Gateway D...|Kolkata, West Bengal|        ATM|       0|                 INR|  +9197782XXXXXX|   Personal loan rep...|eshanaXXXXX@XXXXX...|                 2025|                     1|                   9|                 112.8|          Yes|\n",
      "|fa3f6733-33d6-489...|     Ranveer Biswas|Female| 53|               Bihar|              Gaya|         Gaya Branch|    Business|08d040c8-4561-40e...|      2025-01-22|2025-02-16 09:50:59|          92969.97|c402f840-63bc-4a0...|      Withdrawal|           Health|       80388.02|     ATM Booth Kiosk|         Gaya, Bihar|     Mobile|       0|                 INR|  +9194710XXXXXX|      Insurance premium|ranveerXXXX@XXXXX...|                 2025|                     1|                  22|               1022.35|          Yes|\n",
      "|8d375e52-bfe4-405...|      Bishakha Dhar|Female| 38|              Sikkim|         Jorethang|    Jorethang Branch|    Checking|26064944-2ef5-40f...|      2025-01-08|2025-02-16 13:51:31|             47.39|9ccd73b9-9361-4ec...|      Withdrawal|         Clothing|       52977.93|                 ATM|   Jorethang, Sikkim|     Mobile|       0|                 INR|  +9199457XXXXXX|               Pet care|bishakhaXXXXX@XXX...|                 2025|                     1|                   8|                  0.52|           No|\n",
      "|99d95f63-a2fa-470...|      Theodore Suri|  Male| 56|Dadra and Nagar H...|          Silvassa|     Silvassa Branch|    Business|aa3832eb-c0f0-48b...|      2025-01-24|2025-02-16 12:41:39|           85269.3|edb8e488-50ce-4d7...|           Debit|       Restaurant|       74322.85|   Biometric Scanner|Silvassa, Dadra a...|    Desktop|       1|                 INR|  +9194951XXXXXX|     Gift for colleague|theodoreXXX@XXXXX...|                 2025|                     1|                  24|                937.67|          Yes|\n",
      "|88f48e6d-8018-497...|         Gagan Vala|Female| 38|      Madhya Pradesh|            Bhopal|       Bhopal Branch|     Savings|df9d6dd9-dd29-442...|      2025-01-02|2025-02-16 12:42:43|          89594.61|70d22ed4-3162-419...|    Bill Payment|        Groceries|       61702.79|   POS Mobile Device|Bhopal, Madhya Pr...|    Desktop|       0|                 INR|  +9196471XXXXXX|   Smart home device...|gaganXXXXX@XXXXX.com|                 2025|                     1|                   2|                985.23|          Yes|\n",
      "|f2fd2ba1-be7e-4a0...|    Saanvi Srinivas|Female| 38|       Uttar Pradesh|            Kanpur|       Kanpur Branch|    Business|0c4dafb3-c550-453...|      2025-01-13|2025-02-16 21:50:44|           17728.9|4a1fff97-40f6-442...|      Withdrawal|         Clothing|        6965.92|Self-service Bank...|Kanpur, Uttar Pra...|    Desktop|       0|                 INR|  +9196905XXXXXX|        Beauty products|saanviXXXX@XXXXX.com|                 2025|                     1|                  13|                194.96|          Yes|\n",
      "+--------------------+-------------------+------+---+--------------------+------------------+--------------------+------------+--------------------+----------------+-------------------+------------------+--------------------+----------------+-----------------+---------------+--------------------+--------------------+-----------+--------+--------------------+----------------+-----------------------+--------------------+---------------------+----------------------+--------------------+----------------------+-------------+\n",
      "only showing top 20 rows\n",
      "\n"
     ]
    }
   ],
   "execution_count": 155
  },
  {
   "metadata": {},
   "cell_type": "code",
   "outputs": [],
   "execution_count": null,
   "source": "",
   "id": "558a5a6ba8a67540"
  }
 ],
 "metadata": {
  "kernelspec": {
   "display_name": "Python 3",
   "language": "python",
   "name": "python3"
  },
  "language_info": {
   "codemirror_mode": {
    "name": "ipython",
    "version": 2
   },
   "file_extension": ".py",
   "mimetype": "text/x-python",
   "name": "python",
   "nbconvert_exporter": "python",
   "pygments_lexer": "ipython2",
   "version": "2.7.6"
  }
 },
 "nbformat": 4,
 "nbformat_minor": 5
}
