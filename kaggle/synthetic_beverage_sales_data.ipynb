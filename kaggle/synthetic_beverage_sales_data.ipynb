{
 "cells": [
  {
   "cell_type": "code",
   "id": "initial_id",
   "metadata": {
    "collapsed": true,
    "ExecuteTime": {
     "end_time": "2025-02-22T18:35:32.825741Z",
     "start_time": "2025-02-22T18:35:32.822785Z"
    }
   },
   "source": [
    "import pyspark.sql.functions as F\n",
    "import os\n",
    "\n",
    "from pyspark.sql import SparkSession\n",
    "from pyspark.sql.window import Window"
   ],
   "outputs": [],
   "execution_count": 10
  },
  {
   "metadata": {
    "ExecuteTime": {
     "end_time": "2025-02-22T18:20:41.354057Z",
     "start_time": "2025-02-22T18:20:41.350048Z"
    }
   },
   "cell_type": "code",
   "source": [
    "os.environ['SPARK_HOME'] = r'C:\\spark\\spark-3.5.4-bin-hadoop3'\n",
    "os.environ['PYSPARK_DRIVER_PYTHON'] = 'jupyter'\n",
    "os.environ['PYSPARK_DRIVER_PYTHON_OPTS'] = 'lab'\n",
    "os.environ['PYSPARK_PYTHON'] = 'python'"
   ],
   "id": "e02d67c1038ca24f",
   "outputs": [],
   "execution_count": 2
  },
  {
   "metadata": {
    "ExecuteTime": {
     "end_time": "2025-02-22T18:21:32.076551Z",
     "start_time": "2025-02-22T18:20:41.660177Z"
    }
   },
   "cell_type": "code",
   "source": [
    "spark = (\n",
    "    SparkSession\n",
    "    .builder\n",
    "    .appName(\"PySpark Zero to Hero\")\n",
    "    .master(\"local[*]\")\n",
    "    .config(\"spark.executor.memory\", \"16g\")\n",
    "    .config(\"spark.driver.memory\", \"16g\")\n",
    "    .config(\"spark.executor.cores\", \"4\")\n",
    "    .config(\"spark.sql.shuffle.partitions\", \"80\")\n",
    "    .config(\"spark.dynamicAllocation.enabled\", \"true\")\n",
    "    .config(\"spark.dynamicAllocation.minExecutors\", \"2\")\n",
    "    .config(\"spark.dynamicAllocation.initialExecutors\", \"24\")\n",
    "    .config(\"spark.dynamicAllocation.maxExecutors\", \"50\")\n",
    "    .config('spark.dynamicAllocation.shuffleTrackingEnabled', 'true')\n",
    "    .config('spark.dynamicAllocation.executorIdleTimeout', '60')\n",
    "    .config(\"spark.shuffle.service.enabled\", \"true\")\n",
    "    .config(\"spark.serializer\", \"org.apache.spark.serializer.KryoSerializer\")\n",
    "    .enableHiveSupport()\n",
    "    .getOrCreate()\n",
    ")"
   ],
   "id": "307092903f880f8a",
   "outputs": [],
   "execution_count": 3
  },
  {
   "metadata": {
    "ExecuteTime": {
     "end_time": "2025-02-22T18:21:32.896037Z",
     "start_time": "2025-02-22T18:21:32.096168Z"
    }
   },
   "cell_type": "code",
   "source": [
    "spark.conf.set('spark.sql.adaptive.enabled', 'true')\n",
    "spark.conf.set('spark.sql.adaptive.coalescePartitions.enabled', 'true')\n",
    "spark.conf.set('spark.sql.autoBroadcastJoinThreshold', '-1')"
   ],
   "id": "195476e365253d",
   "outputs": [],
   "execution_count": 4
  },
  {
   "metadata": {
    "ExecuteTime": {
     "end_time": "2025-02-22T18:23:37.574543Z",
     "start_time": "2025-02-22T18:23:37.570638Z"
    }
   },
   "cell_type": "code",
   "source": "df_path = r\"F:\\Datasets\\CSV datasets\\TMDB_movie_dataset_v11.csv\"",
   "id": "f187dd7a22a1a389",
   "outputs": [],
   "execution_count": 5
  },
  {
   "metadata": {
    "ExecuteTime": {
     "end_time": "2025-02-22T18:29:59.262716Z",
     "start_time": "2025-02-22T18:29:54.321250Z"
    }
   },
   "cell_type": "code",
   "source": [
    "df = (spark\n",
    "      .read\n",
    "      .format(\"csv\")\n",
    "      .option(\"header\", \"true\")\n",
    "      .option(\"inferSchema\", \"true\")\n",
    "      .load(df_path))"
   ],
   "id": "16b53d884488e30c",
   "outputs": [],
   "execution_count": 6
  },
  {
   "metadata": {
    "ExecuteTime": {
     "end_time": "2025-02-22T18:30:04.939480Z",
     "start_time": "2025-02-22T18:30:04.933146Z"
    }
   },
   "cell_type": "code",
   "source": "df.dtypes",
   "id": "b0142652a1e14603",
   "outputs": [
    {
     "data": {
      "text/plain": [
       "[('id', 'int'),\n",
       " ('title', 'string'),\n",
       " ('vote_average', 'string'),\n",
       " ('vote_count', 'string'),\n",
       " ('status', 'string'),\n",
       " ('release_date', 'string'),\n",
       " ('revenue', 'string'),\n",
       " ('runtime', 'string'),\n",
       " ('adult', 'string'),\n",
       " ('backdrop_path', 'string'),\n",
       " ('budget', 'string'),\n",
       " ('homepage', 'string'),\n",
       " ('imdb_id', 'string'),\n",
       " ('original_language', 'string'),\n",
       " ('original_title', 'string'),\n",
       " ('overview', 'string'),\n",
       " ('popularity', 'string'),\n",
       " ('poster_path', 'string'),\n",
       " ('tagline', 'string'),\n",
       " ('genres', 'string'),\n",
       " ('production_companies', 'string'),\n",
       " ('production_countries', 'string'),\n",
       " ('spoken_languages', 'string'),\n",
       " ('keywords', 'string')]"
      ]
     },
     "execution_count": 7,
     "metadata": {},
     "output_type": "execute_result"
    }
   ],
   "execution_count": 7
  },
  {
   "metadata": {
    "ExecuteTime": {
     "end_time": "2025-02-22T18:33:21.184178Z",
     "start_time": "2025-02-22T18:33:21.037542Z"
    }
   },
   "cell_type": "code",
   "source": "df.show(5)",
   "id": "f8ead396209093d3",
   "outputs": [
    {
     "name": "stdout",
     "output_type": "stream",
     "text": [
      "+------+---------------+------------+----------+--------+------------+----------+-------+-----+--------------------+---------+--------------------+---------+-----------------+---------------+--------------------+--------------------+--------------------+--------------------+--------------------+--------------------+--------------------+--------------------+--------------------+\n",
      "|    id|          title|vote_average|vote_count|  status|release_date|   revenue|runtime|adult|       backdrop_path|   budget|            homepage|  imdb_id|original_language| original_title|            overview|          popularity|         poster_path|             tagline|              genres|production_companies|production_countries|    spoken_languages|            keywords|\n",
      "+------+---------------+------------+----------+--------+------------+----------+-------+-----+--------------------+---------+--------------------+---------+-----------------+---------------+--------------------+--------------------+--------------------+--------------------+--------------------+--------------------+--------------------+--------------------+--------------------+\n",
      "| 27205|      Inception|       8.364|     34495|Released|  2010-07-15| 825532764|    148|False|/8ZTVqvKDQ8emSGUE...|160000000|https://www.warne...|tt1375666|               en|      Inception|\"Cobb, a skilled ...| the implantation...|              83.952|/oYuLEt3zVCKq57qu...|Your mind is the ...|Action, Science F...|Legendary Picture...|United Kingdom, U...|English, French, ...|\n",
      "|157336|   Interstellar|       8.417|     32571|Released|  2014-11-05| 701729206|    169|False|/pbrkL804c8yAv3zB...|165000000|http://www.inters...|tt0816692|               en|   Interstellar|The adventures of...|             140.241|/gEU2QniE6E77NI6l...|Mankind was born ...|Adventure, Drama,...|Legendary Picture...|United Kingdom, U...|             English|rescue, future, s...|\n",
      "|   155|The Dark Knight|       8.512|     30619|Released|  2008-07-16|1004558444|    152|False|/nMKdUUepR0i5zn0y...|185000000|https://www.warne...|tt0468569|               en|The Dark Knight|Batman raises the...|             130.643|/qJ2tW6WMUDux911r...|Welcome to a worl...|Drama, Action, Cr...|DC Comics, Legend...|United Kingdom, U...|   English, Mandarin|joker, sadism, ch...|\n",
      "| 19995|         Avatar|       7.573|     29815|Released|  2009-12-15|2923706026|    162|False|/vL5LR6WdxWPjLPFR...|237000000|https://www.avata...|tt0499549|               en|         Avatar|In the 22nd centu...|              79.932|/kyeqWdyUXW608qlY...|Enter the world o...|Action, Adventure...|Dune Entertainmen...|United States of ...|    English, Spanish|future, society, ...|\n",
      "| 24428|   The Avengers|        7.71|     29166|Released|  2012-04-25|1518815515|    143|False|/9BBTo63ANSmhC4e6...|220000000|https://www.marve...|tt0848228|               en|   The Avengers|When an unexpecte...|              98.082|/RYMX2wcKCBAr24Uy...|Some assembly req...|Science Fiction, ...|      Marvel Studios|United States of ...|English, Hindi, R...|new york city, su...|\n",
      "+------+---------------+------------+----------+--------+------------+----------+-------+-----+--------------------+---------+--------------------+---------+-----------------+---------------+--------------------+--------------------+--------------------+--------------------+--------------------+--------------------+--------------------+--------------------+--------------------+\n",
      "only showing top 5 rows\n",
      "\n"
     ]
    }
   ],
   "execution_count": 9
  },
  {
   "metadata": {
    "ExecuteTime": {
     "end_time": "2025-02-22T18:39:17.656478Z",
     "start_time": "2025-02-22T18:39:13.950599Z"
    }
   },
   "cell_type": "code",
   "source": [
    "windows_spec = Window.partitionBy('original_language').orderBy(F.col('popularity').desc())\n",
    "\n",
    "ranked_movies = (\n",
    "    df.select(\n",
    "        'title',\n",
    "        'original_language',\n",
    "        'popularity',\n",
    "    ).withColumn(\n",
    "        'rank', F.rank().over(windows_spec)\n",
    "    )\n",
    ")\n",
    "\n",
    "ranked_movies.orderBy('original_language', 'rank').show(10)"
   ],
   "id": "f2f60bfa591fbdaf",
   "outputs": [
    {
     "name": "stdout",
     "output_type": "stream",
     "text": [
      "+--------------------+-----------------+-------------------------------------+----+\n",
      "|               title|original_language|                           popularity|rank|\n",
      "+--------------------+-----------------+-------------------------------------+----+\n",
      "|\"Kami Kouen Yotei...|             NULL|  神公演予定」* 諸般の事情により、...|   1|\n",
      "|\"\"\"I'm Not A Kid ...|             NULL| 『私もう子供じゃないよ…胸は小さい...|   2|\n",
      "|\"\"\"You Missed You...|             NULL|「終電ないの！？じゃあウチおいでよ...|   3|\n",
      "|\"\"\"You Missed The...|             NULL|「終電ないの！？じゃあウチおいで」...|   4|\n",
      "|\"\"\"I Want You To ...|             NULL|「私のおっぱいでもっともっと気持ち...|   5|\n",
      "|\"\"\"I Didn't Want ...|             NULL|「私、したくもないのにヤラされまし...|   6|\n",
      "|           \"\"\"Lately|             NULL| 「最近下半身のむくみがひどくて…リ...|   7|\n",
      "|\"\"\"I really like ...|             NULL|「ホントは寝バックが好きなんです」...|   8|\n",
      "|\"\"\"No Matter How ...|             NULL| 「イッても舐め続けます」 射精後も...|   9|\n",
      "|\"\"\"When My Big Si...|             NULL|「お見舞いに来てくれた姉の無防備な...|  10|\n",
      "+--------------------+-----------------+-------------------------------------+----+\n",
      "only showing top 10 rows\n",
      "\n"
     ]
    }
   ],
   "execution_count": 14
  },
  {
   "metadata": {
    "ExecuteTime": {
     "end_time": "2025-02-22T18:44:09.113377Z",
     "start_time": "2025-02-22T18:44:09.083305Z"
    }
   },
   "cell_type": "code",
   "source": "df.createOrReplaceTempView('movies')",
   "id": "560010317e211c47",
   "outputs": [],
   "execution_count": 15
  },
  {
   "metadata": {
    "ExecuteTime": {
     "end_time": "2025-02-22T18:51:52.287744Z",
     "start_time": "2025-02-22T18:51:50.179860Z"
    }
   },
   "cell_type": "code",
   "source": [
    "spark.sql(\"\"\"\n",
    "  SELECT\n",
    "    title,\n",
    "    original_language,\n",
    "    popularity,\n",
    "    RANK() OVER (\n",
    "    PARTITION BY original_language\n",
    "    ORDER BY popularity DESC\n",
    "    ) AS rank\n",
    "  FROM\n",
    "    movies\n",
    "  ORDER BY\n",
    "    original_language, rank\n",
    "\"\"\").show(5)"
   ],
   "id": "aae19a1535949dd3",
   "outputs": [
    {
     "name": "stdout",
     "output_type": "stream",
     "text": [
      "+--------------------+-----------------+-------------------------------------+----+\n",
      "|               title|original_language|                           popularity|rank|\n",
      "+--------------------+-----------------+-------------------------------------+----+\n",
      "|\"Kami Kouen Yotei...|             NULL|  神公演予定」* 諸般の事情により、...|   1|\n",
      "|\"\"\"I'm Not A Kid ...|             NULL| 『私もう子供じゃないよ…胸は小さい...|   2|\n",
      "|\"\"\"You Missed You...|             NULL|「終電ないの！？じゃあウチおいでよ...|   3|\n",
      "|\"\"\"You Missed The...|             NULL|「終電ないの！？じゃあウチおいで」...|   4|\n",
      "|\"\"\"I Want You To ...|             NULL|「私のおっぱいでもっともっと気持ち...|   5|\n",
      "+--------------------+-----------------+-------------------------------------+----+\n",
      "only showing top 5 rows\n",
      "\n"
     ]
    }
   ],
   "execution_count": 24
  },
  {
   "metadata": {
    "ExecuteTime": {
     "end_time": "2025-02-22T19:04:28.589739Z",
     "start_time": "2025-02-22T19:04:28.576946Z"
    }
   },
   "cell_type": "code",
   "source": "df = df.withColumn(\"release_date\", F.to_date(df[\"release_date\"]))",
   "id": "35f96cf3107018b8",
   "outputs": [],
   "execution_count": 37
  },
  {
   "metadata": {
    "ExecuteTime": {
     "end_time": "2025-02-22T19:04:40.351387Z",
     "start_time": "2025-02-22T19:04:40.346465Z"
    }
   },
   "cell_type": "code",
   "source": "df.dtypes",
   "id": "d3bfba8574252a7a",
   "outputs": [
    {
     "data": {
      "text/plain": [
       "[('id', 'int'),\n",
       " ('title', 'string'),\n",
       " ('vote_average', 'string'),\n",
       " ('vote_count', 'string'),\n",
       " ('status', 'string'),\n",
       " ('release_date', 'date'),\n",
       " ('revenue', 'string'),\n",
       " ('runtime', 'string'),\n",
       " ('adult', 'string'),\n",
       " ('backdrop_path', 'string'),\n",
       " ('budget', 'string'),\n",
       " ('homepage', 'string'),\n",
       " ('imdb_id', 'string'),\n",
       " ('original_language', 'string'),\n",
       " ('original_title', 'string'),\n",
       " ('overview', 'string'),\n",
       " ('popularity', 'string'),\n",
       " ('poster_path', 'string'),\n",
       " ('tagline', 'string'),\n",
       " ('genres', 'string'),\n",
       " ('production_companies', 'string'),\n",
       " ('production_countries', 'string'),\n",
       " ('spoken_languages', 'string'),\n",
       " ('keywords', 'string')]"
      ]
     },
     "execution_count": 39,
     "metadata": {},
     "output_type": "execute_result"
    }
   ],
   "execution_count": 39
  },
  {
   "metadata": {
    "ExecuteTime": {
     "end_time": "2025-02-22T19:07:41.952029Z",
     "start_time": "2025-02-22T19:07:40.699848Z"
    }
   },
   "cell_type": "code",
   "source": [
    "base_df = df.select(\n",
    "    'title',\n",
    "    F.year('release_date').alias('release_year'),\n",
    "    'revenue'\n",
    ")\n",
    "\n",
    "windows_spec = Window.partitionBy('release_year').orderBy(F.col('revenue').desc())\n",
    "\n",
    "ranked_movies = (base_df\n",
    "                 .withColumn('rank', F.rank().over(windows_spec))\n",
    "                 .orderBy('release_year', 'rank')\n",
    "                 )\n",
    "\n",
    "ranked_movies.show(5)"
   ],
   "id": "2e4cffe1b8e8bae9",
   "outputs": [
    {
     "name": "stdout",
     "output_type": "stream",
     "text": [
      "+--------------------+------------+--------+----+\n",
      "|               title|release_year| revenue|rank|\n",
      "+--------------------+------------+--------+----+\n",
      "|\"So I Asked This ...|        NULL|Released|   1|\n",
      "|\"\"\"I really like ...|        NULL|Released|   1|\n",
      "|\"\"\"You Missed You...|        NULL|Released|   1|\n",
      "|\"Kami Kouen Yotei...|        NULL|Released|   1|\n",
      "|               \"\"\"Eh|        NULL|Released|   1|\n",
      "+--------------------+------------+--------+----+\n",
      "only showing top 5 rows\n",
      "\n"
     ]
    }
   ],
   "execution_count": 46
  },
  {
   "metadata": {
    "ExecuteTime": {
     "end_time": "2025-02-22T19:13:44.098410Z",
     "start_time": "2025-02-22T19:13:42.487910Z"
    }
   },
   "cell_type": "code",
   "source": [
    "spark.sql(\"\"\"\n",
    "  SELECT\n",
    "    title,\n",
    "    YEAR(release_date) AS release_year,\n",
    "    revenue,\n",
    "    RANK() OVER (\n",
    "    PARTITION BY YEAR(release_date)\n",
    "    ORDER BY revenue DESC\n",
    "    ) AS rank\n",
    "  FROM\n",
    "    movies\n",
    "  ORDER BY\n",
    "    release_year, rank\n",
    "\"\"\").show()"
   ],
   "id": "ddac6a2d13032f6b",
   "outputs": [
    {
     "name": "stdout",
     "output_type": "stream",
     "text": [
      "+--------------------+------------+---------+----+\n",
      "|               title|release_year|  revenue|rank|\n",
      "+--------------------+------------+---------+----+\n",
      "|\"So I Asked This ...|        NULL| Released|   1|\n",
      "|\"\"\"I really like ...|        NULL| Released|   1|\n",
      "|\"\"\"You Missed You...|        NULL| Released|   1|\n",
      "|\"Kami Kouen Yotei...|        NULL| Released|   1|\n",
      "|               \"\"\"Eh|        NULL| Released|   1|\n",
      "|\"\"\"Ghosts and Fir...|        NULL| Released|   1|\n",
      "|\"\"\"I'm Not A Kid ...|        NULL| Released|   1|\n",
      "|\"\"\"When My Big Si...|        NULL| Released|   1|\n",
      "|    \"\"\"Masochist Boy|        NULL| Released|   1|\n",
      "|\"\"\"I Want You To ...|        NULL| Released|   1|\n",
      "|  \"Skyworks: \"\"Light|        NULL| Released|   1|\n",
      "|\"\"\"I Didn't Want ...|        NULL| Released|   1|\n",
      "|           \"\"\"Lately|        NULL| Released|   1|\n",
      "|\"\"\"You Missed The...|        NULL| Released|   1|\n",
      "|\"Something in the...|        NULL| Released|   1|\n",
      "|\"S.S. \"\"Kinau\"\" L...|        NULL| Released|   1|\n",
      "|\"\"\"No Matter How ...|        NULL| Released|   1|\n",
      "|       Lil Detective|        NULL|999999999|  18|\n",
      "|             WWE RAW|        NULL|  9999999|  19|\n",
      "|Joker X: Look Who...|        NULL|  9999999|  19|\n",
      "+--------------------+------------+---------+----+\n",
      "only showing top 20 rows\n",
      "\n"
     ]
    }
   ],
   "execution_count": 59
  },
  {
   "metadata": {
    "ExecuteTime": {
     "end_time": "2025-02-22T19:38:17.565064Z",
     "start_time": "2025-02-22T19:38:15.481447Z"
    }
   },
   "cell_type": "code",
   "source": [
    "window_spec = Window.partitionBy('release_date').rowsBetween(Window.unboundedPreceding, 0)\n",
    "\n",
    "running_total_df = df.select(\n",
    "    'title',\n",
    "    'release_date',\n",
    "    'vote_count'\n",
    ").withColumn(\n",
    "    'running_total',\n",
    "    F.sum('vote_count').over(window_spec)\n",
    ").orderBy(\n",
    "    'release_date'\n",
    ")\n",
    "\n",
    "running_total_df.show(5)"
   ],
   "id": "4c49fc1a0657b86e",
   "outputs": [
    {
     "name": "stdout",
     "output_type": "stream",
     "text": [
      "+----------+------------+----------+-------------+\n",
      "|     title|release_date|vote_count|running_total|\n",
      "+----------+------------+----------+-------------+\n",
      "|    Return|        NULL|       129|        129.0|\n",
      "|    Return|        NULL|       124|        253.0|\n",
      "|       Box|        NULL|        44|        297.0|\n",
      "|      I am|        NULL|        37|        334.0|\n",
      "|kino-react|        NULL|        37|        371.0|\n",
      "+----------+------------+----------+-------------+\n",
      "only showing top 5 rows\n",
      "\n"
     ]
    }
   ],
   "execution_count": 69
  },
  {
   "metadata": {
    "ExecuteTime": {
     "end_time": "2025-02-22T20:52:42.561633Z",
     "start_time": "2025-02-22T20:52:40.079895Z"
    }
   },
   "cell_type": "code",
   "source": [
    "spark.sql(\"\"\"\n",
    "    SELECT\n",
    "        title,\n",
    "        release_date,\n",
    "        vote_count,\n",
    "        sum(vote_count) OVER (\n",
    "            ORDER BY release_date\n",
    "            ROWS BETWEEN UNBOUNDED PRECEDING AND CURRENT ROW\n",
    "        ) AS running_total\n",
    "    FROM\n",
    "        movies\n",
    "    ORDER BY release_date\n",
    "\"\"\").show()"
   ],
   "id": "e39ef286a959ae06",
   "outputs": [
    {
     "name": "stdout",
     "output_type": "stream",
     "text": [
      "+--------------------+------------+----------+-------------+\n",
      "|               title|release_date|vote_count|running_total|\n",
      "+--------------------+------------+----------+-------------+\n",
      "|              Return|        NULL|       129|        129.0|\n",
      "|              Return|        NULL|       124|        253.0|\n",
      "|                 Box|        NULL|        44|        297.0|\n",
      "|                I am|        NULL|        37|        334.0|\n",
      "|          kino-react|        NULL|        37|        371.0|\n",
      "|Hey Qween - Holig...|        NULL|        33|        404.0|\n",
      "|                   1|        NULL|        31|        435.0|\n",
      "|                Star|        NULL|        30|        465.0|\n",
      "|                 Box|        NULL|        28|        493.0|\n",
      "|              Movies|        NULL|        28|        521.0|\n",
      "|            S.T.A.R.|        NULL|        24|        545.0|\n",
      "|Fight Club (Russi...|        NULL|        23|        568.0|\n",
      "|America's Funnies...|        NULL|        21|        589.0|\n",
      "|        Emerald City|        NULL|        20|        609.0|\n",
      "|                 RED|        NULL|        19|        628.0|\n",
      "|Returning to the ...|        NULL|        19|        647.0|\n",
      "|                 bad|        NULL|        19|        666.0|\n",
      "|Madagascar: Legen...|        NULL|        19|        685.0|\n",
      "|                 123|        NULL|        18|        703.0|\n",
      "|                Test|        NULL|        18|        721.0|\n",
      "+--------------------+------------+----------+-------------+\n",
      "only showing top 20 rows\n",
      "\n"
     ]
    }
   ],
   "execution_count": 73
  }
 ],
 "metadata": {
  "kernelspec": {
   "display_name": "Python 3",
   "language": "python",
   "name": "python3"
  },
  "language_info": {
   "codemirror_mode": {
    "name": "ipython",
    "version": 2
   },
   "file_extension": ".py",
   "mimetype": "text/x-python",
   "name": "python",
   "nbconvert_exporter": "python",
   "pygments_lexer": "ipython2",
   "version": "2.7.6"
  }
 },
 "nbformat": 4,
 "nbformat_minor": 5
}
