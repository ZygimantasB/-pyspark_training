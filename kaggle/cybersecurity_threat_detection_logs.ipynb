{
 "cells": [
  {
   "cell_type": "code",
   "id": "initial_id",
   "metadata": {
    "collapsed": true,
    "ExecuteTime": {
     "end_time": "2025-05-12T17:28:34.541320Z",
     "start_time": "2025-05-12T17:28:34.107469Z"
    }
   },
   "source": [
    "import os\n",
    "import math\n",
    "\n",
    "import altair as alt\n",
    "import netaddr\n",
    "import pandas as pd\n",
    "import seaborn as sns\n",
    "import matplotlib.pyplot as plt\n",
    "\n",
    "\n",
    "import plotly.express as px\n",
    "import plotly.graph_objects as go\n",
    "\n",
    "import pyspark.sql.functions as F\n",
    "from pyspark.sql import SparkSession\n",
    "from pyspark.sql import Window\n",
    "from pyspark.sql.types import ShortType"
   ],
   "outputs": [],
   "execution_count": 1
  },
  {
   "metadata": {
    "ExecuteTime": {
     "end_time": "2025-05-12T17:28:34.560873Z",
     "start_time": "2025-05-12T17:28:34.556873Z"
    }
   },
   "cell_type": "code",
   "source": "df_path = \"F:\\Datasets\\CSV datasets\\cybersecurity_threat_detection_logs.csv\"",
   "id": "cae6d8fb69aa73e8",
   "outputs": [],
   "execution_count": 2
  },
  {
   "metadata": {
    "ExecuteTime": {
     "end_time": "2025-05-12T17:28:34.778154Z",
     "start_time": "2025-05-12T17:28:34.774942Z"
    }
   },
   "cell_type": "code",
   "source": [
    "os.environ['SPARK_HOME'] = r'C:\\spark\\spark-3.5.5-bin-hadoop3'\n",
    "os.environ['PYSPARK_DRIVER_PYTHON'] = 'jupyter'\n",
    "os.environ['PYSPARK_DRIVER_PYTHON_OPTS'] = 'lab'\n",
    "os.environ['PYSPARK_PYTHON'] = 'python'"
   ],
   "id": "8a5a56b695cfaeb2",
   "outputs": [],
   "execution_count": 3
  },
  {
   "metadata": {
    "ExecuteTime": {
     "end_time": "2025-05-12T17:28:39.281527Z",
     "start_time": "2025-05-12T17:28:34.786995Z"
    }
   },
   "cell_type": "code",
   "source": [
    "spark = (\n",
    "    SparkSession.builder\n",
    "    .appName('MOMA art collection - Optimized Local')\n",
    "    .master('local[*]')\n",
    "    .config(\"spark.driver.memory\", \"60g\")\n",
    "    .config(\"spark.driver.maxResultSize\", \"4g\")\n",
    "    .config('spark.sql.adaptive.enabled', 'true')\n",
    "    .config('spark.sql.adaptive.coalescePartitions.enabled', 'true')\n",
    "    .config('spark.sql.adaptive.advisoryPartitionSizeInBytes', '128mb')\n",
    "    .config('spark.sql.shuffle.partitions', '100')\n",
    "    .config(\"spark.serializer\", \"org.apache.spark.serializer.KryoSerializer\")\n",
    "    .config('spark.sql.autoBroadcastJoinThreshold', '256mb')\n",
    "    .getOrCreate()\n",
    ")\n",
    "\n",
    "print(f\"SparkSession configured with Driver Memory: {spark.conf.get('spark.driver.memory')}\")"
   ],
   "id": "81a458d42a625001",
   "outputs": [
    {
     "name": "stdout",
     "output_type": "stream",
     "text": [
      "SparkSession configured with Driver Memory: 60g\n"
     ]
    }
   ],
   "execution_count": 4
  },
  {
   "metadata": {
    "ExecuteTime": {
     "end_time": "2025-05-12T17:28:45.602767Z",
     "start_time": "2025-05-12T17:28:39.293016Z"
    }
   },
   "cell_type": "code",
   "source": [
    "df = spark.read.option(\n",
    "    \"header\", \"true\"\n",
    ").option(\n",
    "    \"inferSchema\", \"true\"\n",
    ").csv(df_path)"
   ],
   "id": "3fc3065c42075c7b",
   "outputs": [],
   "execution_count": 5
  },
  {
   "metadata": {
    "ExecuteTime": {
     "end_time": "2025-05-12T17:28:45.976572Z",
     "start_time": "2025-05-12T17:28:45.641069Z"
    }
   },
   "cell_type": "code",
   "source": "df.show(truncate=False)",
   "id": "9a256e81b18c66df",
   "outputs": [
    {
     "name": "stdout",
     "output_type": "stream",
     "text": [
      "+-------------------+--------------+-------------+--------+-------+------------+-----------+-----------------+---------------------------------------------------------------------------------------------------------------------+-------------+\n",
      "|timestamp          |source_ip     |dest_ip      |protocol|action |threat_label|log_type   |bytes_transferred|user_agent                                                                                                           |request_path |\n",
      "+-------------------+--------------+-------------+--------+-------+------------+-----------+-----------------+---------------------------------------------------------------------------------------------------------------------+-------------+\n",
      "|2024-05-01 00:00:00|192.168.1.125 |192.168.1.124|TCP     |blocked|benign      |firewall   |10889            |Nmap Scripting Engine                                                                                                |/            |\n",
      "|2024-07-18 00:00:00|192.168.1.201 |192.168.1.201|ICMP    |blocked|benign      |application|36522            |Nmap Scripting Engine                                                                                                |/            |\n",
      "|2024-04-07 00:00:00|192.168.1.248 |192.168.1.15 |HTTP    |allowed|benign      |application|20652            |Mozilla/5.0 (Windows NT 10.0; Win64; x64) AppleWebKit/537.36 (KHTML, like Gecko) Chrome/120.0.0.0 Safari/537.36      |/login       |\n",
      "|2024-10-26 00:00:00|192.168.1.236 |192.168.1.219|HTTP    |allowed|benign      |application|5350             |Mozilla/5.0 (Macintosh; Intel Mac OS X 10_15_7) AppleWebKit/535.11 (KHTML, like Gecko) Chrome/117.0.0.0 Safari/537.36|/login       |\n",
      "|2024-10-31 00:00:00|192.168.1.221 |192.168.1.61 |ICMP    |allowed|benign      |application|40691            |Mozilla/5.0 (Windows NT 10.0; Win64; x64) AppleWebKit/537.36 (KHTML, like Gecko) Chrome/120.0.0.0 Safari/537.36      |/            |\n",
      "|2024-12-02 00:00:00|192.168.1.134 |192.168.1.81 |FTP     |allowed|benign      |application|15742            |curl/7.64.1                                                                                                          |/backup      |\n",
      "|2024-03-08 00:00:00|192.168.1.77  |192.168.1.118|UDP     |allowed|benign      |firewall   |30134            |SQLMap/1.6-dev                                                                                                       |/            |\n",
      "|2024-02-07 00:00:00|192.168.1.130 |192.168.1.68 |TCP     |blocked|benign      |firewall   |16109            |curl/7.64.1                                                                                                          |/            |\n",
      "|2024-03-21 00:00:00|192.168.1.140 |192.168.1.181|UDP     |allowed|benign      |application|36446            |curl/7.64.1                                                                                                          |/            |\n",
      "|2024-03-09 00:00:00|192.168.1.228 |192.168.1.28 |HTTPS   |allowed|benign      |ids        |18565            |SQLMap/1.6-dev                                                                                                       |/secure      |\n",
      "|2024-06-24 00:00:00|192.168.1.163 |192.168.1.219|UDP     |blocked|benign      |ids        |3429             |Mozilla/5.0 (Windows NT 10.0; Win64; x64) AppleWebKit/537.36 (KHTML, like Gecko) Chrome/120.0.0.0 Safari/537.36      |/            |\n",
      "|2024-05-21 00:00:00|192.168.1.86  |192.168.1.198|TCP     |blocked|benign      |firewall   |48677            |Nmap Scripting Engine                                                                                                |/            |\n",
      "|2024-10-14 00:00:00|192.168.1.20  |192.168.1.242|HTTPS   |allowed|benign      |application|2461             |curl/7.64.1                                                                                                          |/admin/config|\n",
      "|2024-10-09 00:00:00|192.168.1.33  |192.168.1.11 |UDP     |allowed|benign      |ids        |13867            |Mozilla/5.0 (Macintosh; Intel Mac OS X 10_15_7) AppleWebKit/535.11 (KHTML, like Gecko) Chrome/117.0.0.0 Safari/537.36|/            |\n",
      "|2024-06-30 00:00:00|88.29.76.112  |192.168.1.250|HTTP    |allowed|benign      |firewall   |11703            |Nmap Scripting Engine                                                                                                |/login       |\n",
      "|2024-04-01 00:00:00|103.93.57.36  |192.168.1.201|FTP     |allowed|benign      |ids        |25170            |Mozilla/5.0 (Windows NT 10.0; Win64; x64) AppleWebKit/537.36 (KHTML, like Gecko) Chrome/120.0.0.0 Safari/537.36      |/backup      |\n",
      "|2024-04-23 00:00:00|192.168.1.236 |192.168.1.118|UDP     |allowed|benign      |firewall   |1650             |Mozilla/5.0 (Macintosh; Intel Mac OS X 10_15_7) AppleWebKit/535.11 (KHTML, like Gecko) Chrome/117.0.0.0 Safari/537.36|/            |\n",
      "|2024-06-17 00:00:00|192.168.1.18  |192.168.1.248|HTTPS   |blocked|benign      |application|33484            |Nmap Scripting Engine                                                                                                |/admin/config|\n",
      "|2024-06-18 00:00:00|217.89.155.68 |192.168.1.225|SSH     |allowed|benign      |application|7204             |SQLMap/1.6-dev                                                                                                       |/home/user   |\n",
      "|2024-06-25 00:00:00|144.138.68.192|192.168.1.112|HTTP    |allowed|benign      |ids        |3008             |Nmap Scripting Engine                                                                                                |/login       |\n",
      "+-------------------+--------------+-------------+--------+-------+------------+-----------+-----------------+---------------------------------------------------------------------------------------------------------------------+-------------+\n",
      "only showing top 20 rows\n",
      "\n"
     ]
    }
   ],
   "execution_count": 6
  },
  {
   "metadata": {
    "ExecuteTime": {
     "end_time": "2025-05-12T17:28:46.875190Z",
     "start_time": "2025-05-12T17:28:46.869156Z"
    }
   },
   "cell_type": "code",
   "source": "df.printSchema()",
   "id": "1383d19ce098c60f",
   "outputs": [
    {
     "name": "stdout",
     "output_type": "stream",
     "text": [
      "root\n",
      " |-- timestamp: timestamp (nullable = true)\n",
      " |-- source_ip: string (nullable = true)\n",
      " |-- dest_ip: string (nullable = true)\n",
      " |-- protocol: string (nullable = true)\n",
      " |-- action: string (nullable = true)\n",
      " |-- threat_label: string (nullable = true)\n",
      " |-- log_type: string (nullable = true)\n",
      " |-- bytes_transferred: integer (nullable = true)\n",
      " |-- user_agent: string (nullable = true)\n",
      " |-- request_path: string (nullable = true)\n",
      "\n"
     ]
    }
   ],
   "execution_count": 7
  },
  {
   "metadata": {
    "ExecuteTime": {
     "end_time": "2025-05-12T17:28:47.045017Z",
     "start_time": "2025-05-12T17:28:47.039515Z"
    }
   },
   "cell_type": "code",
   "source": [
    "from pyspark.sql.types import ArrayType, StringType\n",
    "import pyspark.sql.functions as F\n",
    "# Ensure 'netaddr' is installed on all worker nodes if you rely on a global import.\n",
    "# If not, import it inside the UDF.\n",
    "\n",
    "@F.udf(returnType=ArrayType(StringType()))\n",
    "def get_ip_address_type(ip_address):\n",
    "    import netaddr # Import inside UDF is safer unless worker env is guaranteed\n",
    "\n",
    "    if ip_address is None:\n",
    "        return None\n",
    "\n",
    "    try:\n",
    "        ip_obj = netaddr.IPAddress(ip_address)\n",
    "        ip_types = []\n",
    "\n",
    "        if ip_obj.is_ipv4_private_use():\n",
    "             ip_types.append('Private')\n",
    "        if ip_obj.is_reserved(): ip_types.append('Reserved')\n",
    "        if ip_obj.is_loopback(): ip_types.append('Loopback')\n",
    "        if ip_obj.is_multicast(): ip_types.append('Multicast')\n",
    "        if ip_obj.is_link_local(): ip_types.append('Link Local')\n",
    "        if ip_obj.is_global(): ip_types.append('Global')\n",
    "\n",
    "        if not ip_types:\n",
    "            ip_types.append('Other Valid')\n",
    "\n",
    "        return ip_types\n",
    "\n",
    "    except netaddr.AddrFormatError: # This means netaddr was imported successfully\n",
    "        return ['Invalid Format']\n",
    "    except Exception as e:\n",
    "        # THIS WILL NOW SHOW YOU THE REAL ERROR\n",
    "        return [f'Actual Error: {str(e)}']"
   ],
   "id": "6a3ebb00205a5343",
   "outputs": [],
   "execution_count": 8
  },
  {
   "metadata": {
    "ExecuteTime": {
     "end_time": "2025-05-12T17:28:47.100684Z",
     "start_time": "2025-05-12T17:28:47.096415Z"
    }
   },
   "cell_type": "code",
   "source": "df.printSchema()",
   "id": "add65aa0da48ede9",
   "outputs": [
    {
     "name": "stdout",
     "output_type": "stream",
     "text": [
      "root\n",
      " |-- timestamp: timestamp (nullable = true)\n",
      " |-- source_ip: string (nullable = true)\n",
      " |-- dest_ip: string (nullable = true)\n",
      " |-- protocol: string (nullable = true)\n",
      " |-- action: string (nullable = true)\n",
      " |-- threat_label: string (nullable = true)\n",
      " |-- log_type: string (nullable = true)\n",
      " |-- bytes_transferred: integer (nullable = true)\n",
      " |-- user_agent: string (nullable = true)\n",
      " |-- request_path: string (nullable = true)\n",
      "\n"
     ]
    }
   ],
   "execution_count": 9
  },
  {
   "metadata": {
    "ExecuteTime": {
     "end_time": "2025-05-12T17:28:47.211784Z",
     "start_time": "2025-05-12T17:28:47.151409Z"
    }
   },
   "cell_type": "code",
   "source": [
    "df = df.withColumn(\n",
    "    'source_ip_type',\n",
    "    get_ip_address_type(F.col('source_ip'))\n",
    ")"
   ],
   "id": "8717a70c945d0e40",
   "outputs": [],
   "execution_count": 10
  },
  {
   "metadata": {
    "ExecuteTime": {
     "end_time": "2025-05-12T17:28:47.281596Z",
     "start_time": "2025-05-12T17:28:47.265666Z"
    }
   },
   "cell_type": "code",
   "source": [
    "df = df.withColumn(\n",
    "    'dst_ip_type',\n",
    "    get_ip_address_type(F.col('dest_ip'))\n",
    ")"
   ],
   "id": "dd35727b85b2286c",
   "outputs": [],
   "execution_count": 11
  },
  {
   "metadata": {
    "ExecuteTime": {
     "end_time": "2025-05-12T17:28:50.318779Z",
     "start_time": "2025-05-12T17:28:47.333251Z"
    }
   },
   "cell_type": "code",
   "source": "df.select(F.max('timestamp').alias('Min')).show(), df.select(F.min('timestamp').alias('Max')).show()",
   "id": "b1dc3d947692ffca",
   "outputs": [
    {
     "name": "stdout",
     "output_type": "stream",
     "text": [
      "+-------------------+\n",
      "|                Min|\n",
      "+-------------------+\n",
      "|2024-12-30 00:00:00|\n",
      "+-------------------+\n",
      "\n",
      "+-------------------+\n",
      "|                Max|\n",
      "+-------------------+\n",
      "|2024-01-01 00:00:00|\n",
      "+-------------------+\n",
      "\n"
     ]
    },
    {
     "data": {
      "text/plain": [
       "(None, None)"
      ]
     },
     "execution_count": 12,
     "metadata": {},
     "output_type": "execute_result"
    }
   ],
   "execution_count": 12
  },
  {
   "metadata": {
    "ExecuteTime": {
     "end_time": "2025-05-12T17:28:53.112402Z",
     "start_time": "2025-05-12T17:28:50.378596Z"
    }
   },
   "cell_type": "code",
   "source": [
    "df.select(\n",
    "    'source_ip'\n",
    ").distinct().count()"
   ],
   "id": "13cf476806b81bb4",
   "outputs": [
    {
     "data": {
      "text/plain": [
       "354"
      ]
     },
     "execution_count": 13,
     "metadata": {},
     "output_type": "execute_result"
    }
   ],
   "execution_count": 13
  },
  {
   "metadata": {
    "ExecuteTime": {
     "end_time": "2025-05-12T17:28:53.182032Z",
     "start_time": "2025-05-12T17:28:53.167477Z"
    }
   },
   "cell_type": "code",
   "source": [
    "df = df.withColumn(\n",
    "    'timestamp',\n",
    "    F.to_date(F.col('timestamp'))\n",
    ")"
   ],
   "id": "be92535683246a09",
   "outputs": [],
   "execution_count": 14
  },
  {
   "metadata": {
    "ExecuteTime": {
     "end_time": "2025-05-12T17:28:54.349421Z",
     "start_time": "2025-05-12T17:28:53.231815Z"
    }
   },
   "cell_type": "code",
   "source": "df.show(truncate=False)",
   "id": "e33b86b157751f2c",
   "outputs": [
    {
     "name": "stdout",
     "output_type": "stream",
     "text": [
      "+----------+--------------+-------------+--------+-------+------------+-----------+-----------------+---------------------------------------------------------------------------------------------------------------------+-------------+--------------+-----------+\n",
      "|timestamp |source_ip     |dest_ip      |protocol|action |threat_label|log_type   |bytes_transferred|user_agent                                                                                                           |request_path |source_ip_type|dst_ip_type|\n",
      "+----------+--------------+-------------+--------+-------+------------+-----------+-----------------+---------------------------------------------------------------------------------------------------------------------+-------------+--------------+-----------+\n",
      "|2024-05-01|192.168.1.125 |192.168.1.124|TCP     |blocked|benign      |firewall   |10889            |Nmap Scripting Engine                                                                                                |/            |[Private]     |[Private]  |\n",
      "|2024-07-18|192.168.1.201 |192.168.1.201|ICMP    |blocked|benign      |application|36522            |Nmap Scripting Engine                                                                                                |/            |[Private]     |[Private]  |\n",
      "|2024-04-07|192.168.1.248 |192.168.1.15 |HTTP    |allowed|benign      |application|20652            |Mozilla/5.0 (Windows NT 10.0; Win64; x64) AppleWebKit/537.36 (KHTML, like Gecko) Chrome/120.0.0.0 Safari/537.36      |/login       |[Private]     |[Private]  |\n",
      "|2024-10-26|192.168.1.236 |192.168.1.219|HTTP    |allowed|benign      |application|5350             |Mozilla/5.0 (Macintosh; Intel Mac OS X 10_15_7) AppleWebKit/535.11 (KHTML, like Gecko) Chrome/117.0.0.0 Safari/537.36|/login       |[Private]     |[Private]  |\n",
      "|2024-10-31|192.168.1.221 |192.168.1.61 |ICMP    |allowed|benign      |application|40691            |Mozilla/5.0 (Windows NT 10.0; Win64; x64) AppleWebKit/537.36 (KHTML, like Gecko) Chrome/120.0.0.0 Safari/537.36      |/            |[Private]     |[Private]  |\n",
      "|2024-12-02|192.168.1.134 |192.168.1.81 |FTP     |allowed|benign      |application|15742            |curl/7.64.1                                                                                                          |/backup      |[Private]     |[Private]  |\n",
      "|2024-03-08|192.168.1.77  |192.168.1.118|UDP     |allowed|benign      |firewall   |30134            |SQLMap/1.6-dev                                                                                                       |/            |[Private]     |[Private]  |\n",
      "|2024-02-07|192.168.1.130 |192.168.1.68 |TCP     |blocked|benign      |firewall   |16109            |curl/7.64.1                                                                                                          |/            |[Private]     |[Private]  |\n",
      "|2024-03-21|192.168.1.140 |192.168.1.181|UDP     |allowed|benign      |application|36446            |curl/7.64.1                                                                                                          |/            |[Private]     |[Private]  |\n",
      "|2024-03-09|192.168.1.228 |192.168.1.28 |HTTPS   |allowed|benign      |ids        |18565            |SQLMap/1.6-dev                                                                                                       |/secure      |[Private]     |[Private]  |\n",
      "|2024-06-24|192.168.1.163 |192.168.1.219|UDP     |blocked|benign      |ids        |3429             |Mozilla/5.0 (Windows NT 10.0; Win64; x64) AppleWebKit/537.36 (KHTML, like Gecko) Chrome/120.0.0.0 Safari/537.36      |/            |[Private]     |[Private]  |\n",
      "|2024-05-21|192.168.1.86  |192.168.1.198|TCP     |blocked|benign      |firewall   |48677            |Nmap Scripting Engine                                                                                                |/            |[Private]     |[Private]  |\n",
      "|2024-10-14|192.168.1.20  |192.168.1.242|HTTPS   |allowed|benign      |application|2461             |curl/7.64.1                                                                                                          |/admin/config|[Private]     |[Private]  |\n",
      "|2024-10-09|192.168.1.33  |192.168.1.11 |UDP     |allowed|benign      |ids        |13867            |Mozilla/5.0 (Macintosh; Intel Mac OS X 10_15_7) AppleWebKit/535.11 (KHTML, like Gecko) Chrome/117.0.0.0 Safari/537.36|/            |[Private]     |[Private]  |\n",
      "|2024-06-30|88.29.76.112  |192.168.1.250|HTTP    |allowed|benign      |firewall   |11703            |Nmap Scripting Engine                                                                                                |/login       |[Global]      |[Private]  |\n",
      "|2024-04-01|103.93.57.36  |192.168.1.201|FTP     |allowed|benign      |ids        |25170            |Mozilla/5.0 (Windows NT 10.0; Win64; x64) AppleWebKit/537.36 (KHTML, like Gecko) Chrome/120.0.0.0 Safari/537.36      |/backup      |[Global]      |[Private]  |\n",
      "|2024-04-23|192.168.1.236 |192.168.1.118|UDP     |allowed|benign      |firewall   |1650             |Mozilla/5.0 (Macintosh; Intel Mac OS X 10_15_7) AppleWebKit/535.11 (KHTML, like Gecko) Chrome/117.0.0.0 Safari/537.36|/            |[Private]     |[Private]  |\n",
      "|2024-06-17|192.168.1.18  |192.168.1.248|HTTPS   |blocked|benign      |application|33484            |Nmap Scripting Engine                                                                                                |/admin/config|[Private]     |[Private]  |\n",
      "|2024-06-18|217.89.155.68 |192.168.1.225|SSH     |allowed|benign      |application|7204             |SQLMap/1.6-dev                                                                                                       |/home/user   |[Global]      |[Private]  |\n",
      "|2024-06-25|144.138.68.192|192.168.1.112|HTTP    |allowed|benign      |ids        |3008             |Nmap Scripting Engine                                                                                                |/login       |[Global]      |[Private]  |\n",
      "+----------+--------------+-------------+--------+-------+------------+-----------+-----------------+---------------------------------------------------------------------------------------------------------------------+-------------+--------------+-----------+\n",
      "only showing top 20 rows\n",
      "\n"
     ]
    }
   ],
   "execution_count": 15
  },
  {
   "metadata": {
    "ExecuteTime": {
     "end_time": "2025-05-12T17:28:56.890380Z",
     "start_time": "2025-05-12T17:28:54.398113Z"
    }
   },
   "cell_type": "code",
   "source": [
    "df.groupBy(\n",
    "    F.col('timestamp')\n",
    ").count().orderBy(\n",
    "    F.reverse('count')\n",
    ").show()"
   ],
   "id": "68831c87ff3f4899",
   "outputs": [
    {
     "name": "stdout",
     "output_type": "stream",
     "text": [
      "+----------+-----+\n",
      "| timestamp|count|\n",
      "+----------+-----+\n",
      "|2024-01-14|16400|\n",
      "|2024-05-09|16600|\n",
      "|2024-02-15|16310|\n",
      "|2024-01-20|16410|\n",
      "|2024-03-15|16510|\n",
      "|2024-10-22|16610|\n",
      "|2024-10-27|16610|\n",
      "|2024-03-17|16220|\n",
      "|2024-12-05|16520|\n",
      "|2024-09-05|16520|\n",
      "|2024-06-08|16430|\n",
      "|2024-11-12|16430|\n",
      "|2024-01-01|16630|\n",
      "|2024-08-31|16630|\n",
      "|2024-06-28|16240|\n",
      "|2024-07-09|16340|\n",
      "|2024-09-06|16440|\n",
      "|2024-08-25|16640|\n",
      "|2024-12-20|16050|\n",
      "|2024-09-12|16450|\n",
      "+----------+-----+\n",
      "only showing top 20 rows\n",
      "\n"
     ]
    }
   ],
   "execution_count": 16
  },
  {
   "metadata": {
    "ExecuteTime": {
     "end_time": "2025-05-12T17:35:54.366512Z",
     "start_time": "2025-05-12T17:35:52.957803Z"
    }
   },
   "cell_type": "code",
   "source": [
    "df.groupBy(\n",
    "    F.col('source_ip')\n",
    ").count().orderBy(F.col('count').desc()).show()"
   ],
   "id": "2868b050e78b4d72",
   "outputs": [
    {
     "name": "stdout",
     "output_type": "stream",
     "text": [
      "+---------------+-----+\n",
      "|      source_ip|count|\n",
      "+---------------+-----+\n",
      "|   59.211.9.207|18295|\n",
      "|109.106.120.222|18273|\n",
      "|    88.72.40.56|18252|\n",
      "| 185.225.185.68|18239|\n",
      "| 122.63.201.122|18229|\n",
      "| 229.140.23.152|18203|\n",
      "|  44.137.187.63|18202|\n",
      "|114.207.221.220|18193|\n",
      "|  61.72.172.125|18193|\n",
      "| 166.19.156.163|18178|\n",
      "|     109.9.8.24|18176|\n",
      "|  25.169.111.91|18173|\n",
      "|  55.139.34.186|18164|\n",
      "|   13.221.29.40|18146|\n",
      "| 187.14.173.168|18137|\n",
      "|  208.223.2.195|18133|\n",
      "|  19.182.162.16|18126|\n",
      "| 103.172.167.96|18126|\n",
      "|   207.79.62.15|18105|\n",
      "| 144.138.68.192|18105|\n",
      "+---------------+-----+\n",
      "only showing top 20 rows\n",
      "\n"
     ]
    }
   ],
   "execution_count": 25
  },
  {
   "metadata": {},
   "cell_type": "code",
   "outputs": [],
   "execution_count": null,
   "source": "",
   "id": "924e4f81455de2c1"
  }
 ],
 "metadata": {
  "kernelspec": {
   "display_name": "Python 3",
   "language": "python",
   "name": "python3"
  },
  "language_info": {
   "codemirror_mode": {
    "name": "ipython",
    "version": 2
   },
   "file_extension": ".py",
   "mimetype": "text/x-python",
   "name": "python",
   "nbconvert_exporter": "python",
   "pygments_lexer": "ipython2",
   "version": "2.7.6"
  }
 },
 "nbformat": 4,
 "nbformat_minor": 5
}
