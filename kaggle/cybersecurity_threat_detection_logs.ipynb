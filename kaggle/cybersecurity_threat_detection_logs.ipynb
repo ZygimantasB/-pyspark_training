{
 "cells": [
  {
   "cell_type": "code",
   "id": "initial_id",
   "metadata": {
    "collapsed": true,
    "ExecuteTime": {
     "end_time": "2025-05-03T08:37:00.560090Z",
     "start_time": "2025-05-03T08:37:00.160334Z"
    }
   },
   "source": [
    "import os\n",
    "import math\n",
    "\n",
    "import altair as alt\n",
    "import netaddr\n",
    "import pandas as pd\n",
    "import seaborn as sns\n",
    "import matplotlib.pyplot as plt\n",
    "\n",
    "\n",
    "import plotly.express as px\n",
    "import plotly.graph_objects as go\n",
    "\n",
    "import pyspark.sql.functions as F\n",
    "from pyspark.sql import SparkSession\n",
    "from pyspark.sql import Window\n",
    "from pyspark.sql.types import ShortType"
   ],
   "outputs": [],
   "execution_count": 1
  },
  {
   "metadata": {
    "ExecuteTime": {
     "end_time": "2025-05-03T08:37:00.760742Z",
     "start_time": "2025-05-03T08:37:00.758277Z"
    }
   },
   "cell_type": "code",
   "source": "df_path = \"F:\\Datasets\\CSV datasets\\cybersecurity_threat_detection_logs.csv\"",
   "id": "cae6d8fb69aa73e8",
   "outputs": [],
   "execution_count": 2
  },
  {
   "metadata": {
    "ExecuteTime": {
     "end_time": "2025-05-03T08:37:00.782636Z",
     "start_time": "2025-05-03T08:37:00.772005Z"
    }
   },
   "cell_type": "code",
   "source": [
    "os.environ['SPARK_HOME'] = r'C:\\spark\\spark-3.5.5-bin-hadoop3'\n",
    "os.environ['PYSPARK_DRIVER_PYTHON'] = 'jupyter'\n",
    "os.environ['PYSPARK_DRIVER_PYTHON_OPTS'] = 'lab'\n",
    "os.environ['PYSPARK_PYTHON'] = 'python'"
   ],
   "id": "8a5a56b695cfaeb2",
   "outputs": [],
   "execution_count": 3
  },
  {
   "metadata": {
    "ExecuteTime": {
     "end_time": "2025-05-03T08:37:04.841615Z",
     "start_time": "2025-05-03T08:37:00.790738Z"
    }
   },
   "cell_type": "code",
   "source": [
    "spark = (\n",
    "    SparkSession.builder\n",
    "    .appName('MOMA art collection - Optimized Local')\n",
    "    .master('local[*]')\n",
    "    .config(\"spark.driver.memory\", \"60g\")\n",
    "    .config(\"spark.driver.maxResultSize\", \"4g\")\n",
    "    .config('spark.sql.adaptive.enabled', 'true')\n",
    "    .config('spark.sql.adaptive.coalescePartitions.enabled', 'true')\n",
    "    .config('spark.sql.adaptive.advisoryPartitionSizeInBytes', '128mb')\n",
    "    .config('spark.sql.shuffle.partitions', '100')\n",
    "    .config(\"spark.serializer\", \"org.apache.spark.serializer.KryoSerializer\")\n",
    "    .config('spark.sql.autoBroadcastJoinThreshold', '256mb')\n",
    "    .getOrCreate()\n",
    ")\n",
    "\n",
    "print(f\"SparkSession configured with Driver Memory: {spark.conf.get('spark.driver.memory')}\")"
   ],
   "id": "81a458d42a625001",
   "outputs": [
    {
     "name": "stdout",
     "output_type": "stream",
     "text": [
      "SparkSession configured with Driver Memory: 60g\n"
     ]
    }
   ],
   "execution_count": 4
  },
  {
   "metadata": {
    "ExecuteTime": {
     "end_time": "2025-05-03T08:37:10.012203Z",
     "start_time": "2025-05-03T08:37:04.858092Z"
    }
   },
   "cell_type": "code",
   "source": [
    "df = spark.read.option(\n",
    "    \"header\", \"true\"\n",
    ").option(\n",
    "    \"inferSchema\", \"true\"\n",
    ").csv(df_path)"
   ],
   "id": "3fc3065c42075c7b",
   "outputs": [],
   "execution_count": 5
  },
  {
   "metadata": {
    "ExecuteTime": {
     "end_time": "2025-05-03T08:37:42.043086Z",
     "start_time": "2025-05-03T08:37:41.968756Z"
    }
   },
   "cell_type": "code",
   "source": "df.show(truncate=False)",
   "id": "9a256e81b18c66df",
   "outputs": [
    {
     "name": "stdout",
     "output_type": "stream",
     "text": [
      "+-------------------+--------------+-------------+--------+-------+------------+-----------+-----------------+---------------------------------------------------------------------------------------------------------------------+-------------+\n",
      "|timestamp          |source_ip     |dest_ip      |protocol|action |threat_label|log_type   |bytes_transferred|user_agent                                                                                                           |request_path |\n",
      "+-------------------+--------------+-------------+--------+-------+------------+-----------+-----------------+---------------------------------------------------------------------------------------------------------------------+-------------+\n",
      "|2024-05-01 00:00:00|192.168.1.125 |192.168.1.124|TCP     |blocked|benign      |firewall   |10889            |Nmap Scripting Engine                                                                                                |/            |\n",
      "|2024-07-18 00:00:00|192.168.1.201 |192.168.1.201|ICMP    |blocked|benign      |application|36522            |Nmap Scripting Engine                                                                                                |/            |\n",
      "|2024-04-07 00:00:00|192.168.1.248 |192.168.1.15 |HTTP    |allowed|benign      |application|20652            |Mozilla/5.0 (Windows NT 10.0; Win64; x64) AppleWebKit/537.36 (KHTML, like Gecko) Chrome/120.0.0.0 Safari/537.36      |/login       |\n",
      "|2024-10-26 00:00:00|192.168.1.236 |192.168.1.219|HTTP    |allowed|benign      |application|5350             |Mozilla/5.0 (Macintosh; Intel Mac OS X 10_15_7) AppleWebKit/535.11 (KHTML, like Gecko) Chrome/117.0.0.0 Safari/537.36|/login       |\n",
      "|2024-10-31 00:00:00|192.168.1.221 |192.168.1.61 |ICMP    |allowed|benign      |application|40691            |Mozilla/5.0 (Windows NT 10.0; Win64; x64) AppleWebKit/537.36 (KHTML, like Gecko) Chrome/120.0.0.0 Safari/537.36      |/            |\n",
      "|2024-12-02 00:00:00|192.168.1.134 |192.168.1.81 |FTP     |allowed|benign      |application|15742            |curl/7.64.1                                                                                                          |/backup      |\n",
      "|2024-03-08 00:00:00|192.168.1.77  |192.168.1.118|UDP     |allowed|benign      |firewall   |30134            |SQLMap/1.6-dev                                                                                                       |/            |\n",
      "|2024-02-07 00:00:00|192.168.1.130 |192.168.1.68 |TCP     |blocked|benign      |firewall   |16109            |curl/7.64.1                                                                                                          |/            |\n",
      "|2024-03-21 00:00:00|192.168.1.140 |192.168.1.181|UDP     |allowed|benign      |application|36446            |curl/7.64.1                                                                                                          |/            |\n",
      "|2024-03-09 00:00:00|192.168.1.228 |192.168.1.28 |HTTPS   |allowed|benign      |ids        |18565            |SQLMap/1.6-dev                                                                                                       |/secure      |\n",
      "|2024-06-24 00:00:00|192.168.1.163 |192.168.1.219|UDP     |blocked|benign      |ids        |3429             |Mozilla/5.0 (Windows NT 10.0; Win64; x64) AppleWebKit/537.36 (KHTML, like Gecko) Chrome/120.0.0.0 Safari/537.36      |/            |\n",
      "|2024-05-21 00:00:00|192.168.1.86  |192.168.1.198|TCP     |blocked|benign      |firewall   |48677            |Nmap Scripting Engine                                                                                                |/            |\n",
      "|2024-10-14 00:00:00|192.168.1.20  |192.168.1.242|HTTPS   |allowed|benign      |application|2461             |curl/7.64.1                                                                                                          |/admin/config|\n",
      "|2024-10-09 00:00:00|192.168.1.33  |192.168.1.11 |UDP     |allowed|benign      |ids        |13867            |Mozilla/5.0 (Macintosh; Intel Mac OS X 10_15_7) AppleWebKit/535.11 (KHTML, like Gecko) Chrome/117.0.0.0 Safari/537.36|/            |\n",
      "|2024-06-30 00:00:00|88.29.76.112  |192.168.1.250|HTTP    |allowed|benign      |firewall   |11703            |Nmap Scripting Engine                                                                                                |/login       |\n",
      "|2024-04-01 00:00:00|103.93.57.36  |192.168.1.201|FTP     |allowed|benign      |ids        |25170            |Mozilla/5.0 (Windows NT 10.0; Win64; x64) AppleWebKit/537.36 (KHTML, like Gecko) Chrome/120.0.0.0 Safari/537.36      |/backup      |\n",
      "|2024-04-23 00:00:00|192.168.1.236 |192.168.1.118|UDP     |allowed|benign      |firewall   |1650             |Mozilla/5.0 (Macintosh; Intel Mac OS X 10_15_7) AppleWebKit/535.11 (KHTML, like Gecko) Chrome/117.0.0.0 Safari/537.36|/            |\n",
      "|2024-06-17 00:00:00|192.168.1.18  |192.168.1.248|HTTPS   |blocked|benign      |application|33484            |Nmap Scripting Engine                                                                                                |/admin/config|\n",
      "|2024-06-18 00:00:00|217.89.155.68 |192.168.1.225|SSH     |allowed|benign      |application|7204             |SQLMap/1.6-dev                                                                                                       |/home/user   |\n",
      "|2024-06-25 00:00:00|144.138.68.192|192.168.1.112|HTTP    |allowed|benign      |ids        |3008             |Nmap Scripting Engine                                                                                                |/login       |\n",
      "+-------------------+--------------+-------------+--------+-------+------------+-----------+-----------------+---------------------------------------------------------------------------------------------------------------------+-------------+\n",
      "only showing top 20 rows\n",
      "\n"
     ]
    }
   ],
   "execution_count": 7
  },
  {
   "metadata": {
    "ExecuteTime": {
     "end_time": "2025-05-03T08:43:03.974422Z",
     "start_time": "2025-05-03T08:43:03.969185Z"
    }
   },
   "cell_type": "code",
   "source": "df.printSchema()",
   "id": "1383d19ce098c60f",
   "outputs": [
    {
     "name": "stdout",
     "output_type": "stream",
     "text": [
      "root\n",
      " |-- timestamp: timestamp (nullable = true)\n",
      " |-- source_ip: string (nullable = true)\n",
      " |-- dest_ip: string (nullable = true)\n",
      " |-- protocol: string (nullable = true)\n",
      " |-- action: string (nullable = true)\n",
      " |-- threat_label: string (nullable = true)\n",
      " |-- log_type: string (nullable = true)\n",
      " |-- bytes_transferred: integer (nullable = true)\n",
      " |-- user_agent: string (nullable = true)\n",
      " |-- request_path: string (nullable = true)\n",
      "\n"
     ]
    }
   ],
   "execution_count": 8
  },
  {
   "metadata": {
    "ExecuteTime": {
     "end_time": "2025-05-03T10:09:57.628993Z",
     "start_time": "2025-05-03T10:09:57.622488Z"
    }
   },
   "cell_type": "code",
   "source": [
    "@F.udf(returnType=ShortType())\n",
    "def get_ip_address_type(ip_address):\n",
    "    try:\n",
    "        ip_obj = netaddr.IPAddress(ip_address)\n",
    "\n",
    "        ip_types = []\n",
    "\n",
    "        if ip_obj.is_ipv4_private_use(): ip_types.append('Private')\n",
    "        if ip_obj.is_reserved(): ip_types.append('Reserved')\n",
    "        if ip_obj.is_loopback(): ip_types.append('Loopback')\n",
    "        if ip_obj.is_multicast(): ip_types.append('Multicast')\n",
    "        if ip_obj.is_link_local(): ip_types.append('Link Local')\n",
    "        if ip_obj.is_global(): ip_types.append('Global')\n",
    "        if not ip_types: ip_types.append('Unassigned')\n",
    "\n",
    "        return ip_types\n",
    "\n",
    "    except netaddr.AddrFormatError:\n",
    "        return ['Invalid Format']\n",
    "    except Exception as e:\n",
    "        return [f'Unknown Error: {e}']"
   ],
   "id": "6a3ebb00205a5343",
   "outputs": [],
   "execution_count": 9
  },
  {
   "metadata": {},
   "cell_type": "code",
   "outputs": [],
   "execution_count": null,
   "source": "",
   "id": "8717a70c945d0e40"
  }
 ],
 "metadata": {
  "kernelspec": {
   "display_name": "Python 3",
   "language": "python",
   "name": "python3"
  },
  "language_info": {
   "codemirror_mode": {
    "name": "ipython",
    "version": 2
   },
   "file_extension": ".py",
   "mimetype": "text/x-python",
   "name": "python",
   "nbconvert_exporter": "python",
   "pygments_lexer": "ipython2",
   "version": "2.7.6"
  }
 },
 "nbformat": 4,
 "nbformat_minor": 5
}
